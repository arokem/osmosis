{
 "metadata": {
  "name": "DWI"
 },
 "nbformat": 3,
 "worksheets": [
  {
   "cells": [
    {
     "cell_type": "code",
     "collapsed": false,
     "input": [
      "import os",
      "import osmosis.model as ozm ",
      "import osmosis.viz as viz ",
      "import osmosis as oz",
      "reload(ozm)",
      "",
      "data_path = os.path.split(oz.__file__)[0] + '/data/'",
      "",
      "dwi1 = '0005_01_DTI_2mm_150dir_2x_b2000_aligned_trilin.nii.gz'",
      "",
      "bvecs1 = '0005_01_DTI_2mm_150dir_2x_b2000_aligned_trilin.bvecs'",
      "",
      "bvals1 = '0005_01_DTI_2mm_150dir_2x_b2000_aligned_trilin.bvals'",
      "",
      "DWI = ozm.DWI(data_path + dwi1,",
      "              data_path + bvecs1,",
      "              data_path + bvals1,",
      "              mask = data_path + 'brainMask.nii.gz')"
     ],
     "language": "python",
     "outputs": [],
     "prompt_number": 1
    },
    {
     "cell_type": "code",
     "collapsed": false,
     "input": [
      "for i in range(150):",
      "    to_show = DWI.signal_attenuation[...,i].T * DWI.mask.T",
      "    to_show[np.isnan(to_show)] = 0  ",
      "    fig = viz.mosaic(to_show, cmap=matplotlib.cm.bone, vmax=1)",
      "    fig.set_size_inches([15,10])",
      "    #fig.savefig('%s/dwi%03d.png'%(path_to_save,(i+1)))"
     ],
     "language": "python",
     "outputs": [],
     "prompt_number": 3
    },
    {
     "cell_type": "code",
     "collapsed": false,
     "input": [
      "reload(viz)",
      "i = (55,55,55)",
      "to_show = DWI.signal_attenuation[...,149].T * DWI.mask.T",
      "to_show[np.isnan(to_show)] = 0  ",
      "vol_roi = np.nan*np.ones(DWI.shape[:3])",
      "vol_roi[53:57, 53:57, 55] = 1",
      "fig = viz.mosaic(to_show, cmap=matplotlib.cm.bone, vmax=1)",
      "fig = viz.mosaic(vol_roi.T, fig=fig, cmap=matplotlib.cm.RdBu, cbar=False)",
      "fig.set_size_inches([15,10])",
      "#fig.savefig('/Users/arokem/Documents/LabMeetings/LabMeeting04092012/dwi_figs/dwi%03d.png'%(i+1))"
     ],
     "language": "python",
     "outputs": [],
     "prompt_number": 33
    },
    {
     "cell_type": "code",
     "collapsed": false,
     "input": [
      "fig = viz.sig_in_points(DWI.bvecs[:, DWI.b_idx],DWI.signal_attenuation[i], ",
      "                  r_from_val=True, cmap=matplotlib.cm.RdBu_r)",
      "",
      "ax = fig.axes[0]",
      "for j in np.linspace(0,360,360):",
      "    ax.view_init(elev=45, azim=j)",
      "    #fig.savefig('%s/signal%03d.png'%(path_to_save,(j+1)))"
     ],
     "language": "python",
     "outputs": [],
     "prompt_number": 35
    },
    {
     "cell_type": "code",
     "collapsed": true,
     "input": [],
     "language": "python",
     "outputs": []
    }
   ]
  }
 ]
}