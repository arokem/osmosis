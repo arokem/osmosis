{
 "metadata": {
  "name": "RetinotopicWM"
 },
 "nbformat": 3,
 "nbformat_minor": 0,
 "worksheets": [
  {
   "cells": [
    {
     "cell_type": "code",
     "collapsed": false,
     "input": [
      "import os \n",
      "\n",
      "import osmosis as oz\n",
      "import osmosis.volume as ozv\n",
      "import osmosis.io as oio\n",
      "import osmosis.fibers as ozf\n"
     ],
     "language": "python",
     "metadata": {},
     "outputs": [],
     "prompt_number": 11
    },
    {
     "cell_type": "code",
     "collapsed": false,
     "input": [
      "data_path = '/Users/arokem/projects/osmosis/osmosis/data/'"
     ],
     "language": "python",
     "metadata": {},
     "outputs": [],
     "prompt_number": 4
    },
    {
     "cell_type": "code",
     "collapsed": false,
     "input": [
      "fg = oio.fg_from_pdb(data_path + 'FG_w_stats.pdb')"
     ],
     "language": "python",
     "metadata": {},
     "outputs": [
      {
       "output_type": "stream",
       "stream": "stdout",
       "text": [
        " \r",
        "fg_from_pdb [*****************86%*************     ]  6 of 7 complete "
       ]
      },
      {
       "output_type": "stream",
       "stream": "stdout",
       "text": [
        " Done reading from file\n"
       ]
      }
     ],
     "prompt_number": 12
    },
    {
     "cell_type": "code",
     "collapsed": false,
     "input": [
      "nii = data_path + 'fp20110912_ecc.nii.gz'\n",
      "pdb = data_path + 'big_fg.pdb'"
     ],
     "language": "python",
     "metadata": {},
     "outputs": [],
     "prompt_number": 16
    },
    {
     "cell_type": "code",
     "collapsed": false,
     "input": [
      "fg_new = ozv.nii2fg(pdb, nii)"
     ],
     "language": "python",
     "metadata": {},
     "outputs": [
      {
       "output_type": "stream",
       "stream": "stdout",
       "text": [
        " \r",
        "fg_from_pdb [****************100%******************]  93116 of 93117 complete "
       ]
      }
     ],
     "prompt_number": "*"
    },
    {
     "cell_type": "code",
     "collapsed": false,
     "input": [],
     "language": "python",
     "metadata": {},
     "outputs": [],
     "prompt_number": "*"
    },
    {
     "cell_type": "code",
     "collapsed": false,
     "input": [],
     "language": "python",
     "metadata": {},
     "outputs": []
    }
   ],
   "metadata": {}
  }
 ]
}