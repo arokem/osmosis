{
 "metadata": {
  "name": "SignalByBvalue"
 },
 "nbformat": 3,
 "worksheets": [
  {
   "cells": [
    {
     "cell_type": "code",
     "collapsed": false,
     "input": [
      "import dipy.data as dpd",
      "import osmosis as oz",
      "import osmosis.tensor as ozt",
      "import osmosis.viz as viz",
      "import osmosis.utils as ozu",
      "reload(ozt)",
      "reload(viz)",
      "",
      "bvecs = ozu.get_camino_pts(755)"
     ],
     "language": "python",
     "outputs": [],
     "prompt_number": 76
    },
    {
     "cell_type": "code",
     "collapsed": false,
     "input": [
      "AD = 1.5",
      "RD = 0.5",
      "for bval in np.array([0.1, 250, 500, 1000, 2000, 4000, 8000, 16000])/1000.:",
      "    Q = np.array([[1.5, 0, 0],[0, 0.5, 0],[0, 0, 0.5]])",
      "    T = ozt.Tensor(Q, bvecs, np.ones(bvecs.shape[-1]) * bval)",
      "    # S/S0:",
      "    pred_sig = T.predicted_signal(1)",
      "    #print pred_sig.shape",
      "    #viz.sig_on_sphere(bvecs[:,10:], pred_sig)",
      "    fig = viz.sig_in_points(bvecs, pred_sig,r_from_val=True)",
      "    fig.set_size_inches([7,7])",
      "    ax = fig.axes[0]",
      "    ax.set_title('Predicted $S/S_0$ for b=%d'%(bval*1000))",
      "    ax.get_figure().savefig('/Users/arokem/pred_sig_b%d.png'%(bval*1000))"
     ],
     "language": "python",
     "outputs": [],
     "prompt_number": 77
    },
    {
     "cell_type": "code",
     "collapsed": true,
     "input": [],
     "language": "python",
     "outputs": []
    }
   ]
  }
 ]
}