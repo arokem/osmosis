{
 "metadata": {
  "name": "GetADandRD"
 },
 "nbformat": 3,
 "worksheets": [
  {
   "cells": [
    {
     "cell_type": "code",
     "collapsed": false,
     "input": [
      "import os",
      "import nibabel as ni",
      "",
      "import osmosis as mt",
      "import osmosis.model as mtm",
      "import osmosis.viz as viz",
      "import osmosis.utils as mtu",
      "reload(viz)",
      "reload(mtm)",
      "reload(mtu)",
      "",
      "top_n = 1000",
      "",
      "",
      "data_path = os.path.split(mt.__file__)[0] + '/data/'",
      "",
      "# If you want to choose some single voxel and analyze there: ",
      "mask_array = np.zeros((81, 106, 76))",
      "mask_array[30,30,30] = 1",
      "mask_array[40,40,40] = 1",
      "mask_array[50,50,50] = 1",
      "mask_array[60,60,60] = 1",
      "",
      "TM= mtm.TensorModel(data_path + 'dwi.nii.gz',",
      "                        data_path + 'dwi.bvecs',",
      "                        data_path + 'dwi.bvals',",
      "                        mask=data_path + 'brainMask.nii.gz')"
     ],
     "language": "python",
     "outputs": [],
     "prompt_number": 11
    },
    {
     "cell_type": "code",
     "collapsed": false,
     "input": [
      "fig = viz.mosaic(TM.linearity.T, cmap=matplotlib.cm.hot)",
      "fig.set_size_inches([15,10])",
      "",
      "fig = viz.mosaic(TM.planarity.T, cmap=matplotlib.cm.hot)",
      "fig.set_size_inches([15,10])",
      "",
      "fig = viz.mosaic(TM.sphericity.T, cmap=matplotlib.cm.hot)",
      "fig.set_size_inches([15,10])"
     ],
     "language": "python",
     "outputs": [],
     "prompt_number": 12
    },
    {
     "cell_type": "code",
     "collapsed": false,
     "input": [
      "fig = viz.scatter_density(TM.linearity[~np.isnan(TM.linearity)], TM.fractional_anisotropy[~np.isnan(TM.linearity)])",
      "fig.set_size_inches([15,12])"
     ],
     "language": "python",
     "outputs": [],
     "prompt_number": 13
    },
    {
     "cell_type": "code",
     "collapsed": false,
     "input": [
      "ax = viz.quick_ax()",
      "to_plot = TM.fractional_anisotropy[~np.isnan(TM.fractional_anisotropy)]",
      "hist = ax.hist(to_plot,bins=1000)"
     ],
     "language": "python",
     "outputs": [],
     "prompt_number": 14
    },
    {
     "cell_type": "code",
     "collapsed": false,
     "input": [
      "ok_idx = np.where(~np.isnan(TM.linearity))",
      "ax = viz.quick_ax()",
      "linearity = TM.linearity[ok_idx]",
      "ax.hist(linearity,bins=1000)",
      "",
      "ax = viz.quick_ax()",
      "planarity = TM.planarity[ok_idx]",
      "ax.hist(planarity,bins=1000)",
      "",
      "ax = viz.quick_ax()",
      "sphericity = TM.sphericity[ok_idx]",
      "hist = ax.hist(sphericity,bins=1000)"
     ],
     "language": "python",
     "outputs": [],
     "prompt_number": 15
    },
    {
     "cell_type": "code",
     "collapsed": false,
     "input": [
      "sort_idx_linearity = np.argsort(linearity)",
      "sort_idx_sphericity = np.argsort(sphericity)",
      "   ",
      "AD = TM.axial_diffusivity[ok_idx][sort_idx_linearity[-top_n:]]",
      "RD = TM.radial_diffusivity[ok_idx][sort_idx_linearity[-top_n:]]",
      "MD = TM.mean_diffusivity[ok_idx][sort_idx_sphericity[-top_n:]]"
     ],
     "language": "python",
     "outputs": [],
     "prompt_number": 16
    },
    {
     "cell_type": "code",
     "collapsed": false,
     "input": [
      "ax = viz.quick_ax()",
      "ax.hist(AD,bins=20)",
      "",
      "ax = viz.quick_ax()",
      "ax.hist(RD,bins=20)",
      "",
      "ax = viz.quick_ax()",
      "hist = ax.hist(MD,bins=20)"
     ],
     "language": "python",
     "outputs": [],
     "prompt_number": 17
    },
    {
     "cell_type": "code",
     "collapsed": false,
     "input": [
      "np.mean(AD), np.mean(RD), np.mean(MD)"
     ],
     "language": "python",
     "outputs": [],
     "prompt_number": 21
    },
    {
     "cell_type": "code",
     "collapsed": false,
     "input": [
      "TF = ni.load(data_path + 'TF_resampled.nii.gz').get_data()",
      "fig = viz.mosaic(TF.T, cmap=matplotlib.cm.bone_r)",
      "fig.set_size_inches([15,10])"
     ],
     "language": "python",
     "outputs": [],
     "prompt_number": 19
    },
    {
     "cell_type": "code",
     "collapsed": false,
     "input": [
      "import scipy.stats as stats",
      "ax = viz.quick_ax()",
      "",
      "tf_high_linearity = TF[ok_idx][sort_idx_linearity[-top_n:]]",
      "ax.hist(tf_high_linearity[~np.isnan(tf_high_linearity)])",
      "stats.nanmean(TF[ok_idx][sort_idx_linearity[-top_n:]])"
     ],
     "language": "python",
     "outputs": [],
     "prompt_number": 20
    },
    {
     "cell_type": "code",
     "collapsed": true,
     "input": [],
     "language": "python",
     "outputs": [],
     "prompt_number": 10
    },
    {
     "cell_type": "code",
     "collapsed": true,
     "input": [],
     "language": "python",
     "outputs": [],
     "prompt_number": 10
    }
   ]
  }
 ]
}