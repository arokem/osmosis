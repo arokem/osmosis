{
 "metadata": {
  "name": "Figure3"
 },
 "nbformat": 3,
 "nbformat_minor": 0,
 "worksheets": [
  {
   "cells": [
    {
     "cell_type": "code",
     "collapsed": false,
     "input": [
      "import os\n",
      "import nibabel as ni\n",
      "\n",
      "import osmosis as oz\n",
      "import osmosis.viz as viz\n",
      "import osmosis.utils as ozu\n",
      "import osmosis.io as oio\n",
      "reload(viz)\n"
     ],
     "language": "python",
     "metadata": {},
     "outputs": [
      {
       "output_type": "stream",
       "stream": "stderr",
       "text": [
        "/home/arokem/usr/local/lib64/python2.7/site-packages/mayavi-4.0.0-py2.7-linux-x86_64.egg/mayavi/preferences/preference_manager.py:24: UserWarning: Module dateutil was already imported from /home/arokem/usr/local/lib64/python2.7/site-packages/dateutil/__init__.pyc, but /usr/lib/python2.7/site-packages is being added to sys.path\n",
        "  import pkg_resources\n"
       ]
      },
      {
       "output_type": "pyout",
       "prompt_number": 1,
       "text": [
        "<module 'osmosis.viz' from '/home/arokem/usr/lib/python2.7/site-packages/osmosis/viz.pyc'>"
       ]
      }
     ],
     "prompt_number": 1
    },
    {
     "cell_type": "code",
     "collapsed": false,
     "input": [
      "data_path = os.path.split(oz.__file__)[0] + '/data/'"
     ],
     "language": "python",
     "metadata": {},
     "outputs": [],
     "prompt_number": 2
    },
    {
     "cell_type": "code",
     "collapsed": false,
     "input": [
      "wm_mask_ni = ni.load(data_path + 'FP_white_matter_resamp_to_dwi.nii.gz')\n",
      "wm_mask = wm_mask_ni.get_data()"
     ],
     "language": "python",
     "metadata": {},
     "outputs": [],
     "prompt_number": 3
    },
    {
     "cell_type": "code",
     "collapsed": false,
     "input": [
      "vol_anat = ni.load(data_path + 'FP_t1_resampled_to_dwi.nii.gz').get_data()\n",
      "vol = ozu.nans(vol_anat.shape)"
     ],
     "language": "python",
     "metadata": {},
     "outputs": [],
     "prompt_number": 4
    },
    {
     "cell_type": "code",
     "collapsed": false,
     "input": [
      "rmse_data = [ni.load(data_path + 'TensorModel_relative_rmse_b%s.nii.gz'%b).get_data() for b in ['1000', '2000', '4000']]\n",
      "vol_rmse = [ozu.nans(vol_anat.shape) for i in range(len(rmse_data))]\n",
      "\n",
      "for i in range(len(rmse_data)):\n",
      "    vol_rmse[i][np.where(wm_mask==1)] = rmse_data[i][np.where(wm_mask==1)]"
     ],
     "language": "python",
     "metadata": {},
     "outputs": [],
     "prompt_number": 5
    },
    {
     "cell_type": "code",
     "collapsed": false,
     "input": [
      "%gui wx\n",
      "viz.plot_cut_planes(vol_anat,\n",
      "                    overlay=vol_rmse[0],\n",
      "                    vmin=0.5,\n",
      "                    vmax=1.5,\n",
      "                    overlay_cmap=\"RdYlGn\",\n",
      "                    invert_cmap=True,\n",
      "                    slice_coronal=40,\n",
      "                    slice_saggital=35,\n",
      "                    slice_axial=30,\n",
      "                    view_azim=20,\n",
      "                    view_elev=60)\n",
      "    \n"
     ],
     "language": "python",
     "metadata": {},
     "outputs": [
      {
       "output_type": "stream",
       "stream": "stdout",
       "text": [
        "Cannot set extents for <mayavi.modules.image_plane_widget.ImagePlaneWidget object at 0x83e4290>\n",
        "Cannot set extents for <mayavi.modules.image_plane_widget.ImagePlaneWidget object at 0x8459e30>"
       ]
      },
      {
       "output_type": "stream",
       "stream": "stdout",
       "text": [
        "\n",
        "Cannot set extents for <mayavi.modules.image_plane_widget.ImagePlaneWidget object at 0x8473110>"
       ]
      },
      {
       "output_type": "stream",
       "stream": "stdout",
       "text": [
        "\n",
        "Cannot set extents for <mayavi.modules.image_plane_widget.ImagePlaneWidget object at 0x847f470>"
       ]
      },
      {
       "output_type": "stream",
       "stream": "stdout",
       "text": [
        "\n",
        "Cannot set extents for <mayavi.modules.image_plane_widget.ImagePlaneWidget object at 0x8487770>"
       ]
      },
      {
       "output_type": "stream",
       "stream": "stdout",
       "text": [
        "\n",
        "Cannot set extents for <mayavi.modules.image_plane_widget.ImagePlaneWidget object at 0x91ffa70>"
       ]
      },
      {
       "output_type": "stream",
       "stream": "stdout",
       "text": [
        "\n",
        "Cannot set extents for <mayavi.modules.image_plane_widget.ImagePlaneWidget object at 0x922a3b0>"
       ]
      },
      {
       "output_type": "stream",
       "stream": "stdout",
       "text": [
        "\n",
        "Cannot set extents for <mayavi.modules.image_plane_widget.ImagePlaneWidget object at 0x9232710>"
       ]
      },
      {
       "output_type": "stream",
       "stream": "stdout",
       "text": [
        "\n",
        "Cannot set extents for <mayavi.modules.image_plane_widget.ImagePlaneWidget object at 0x9d92a10>"
       ]
      },
      {
       "output_type": "stream",
       "stream": "stdout",
       "text": [
        "\n",
        "Cannot set extents for <mayavi.modules.image_plane_widget.ImagePlaneWidget object at 0x9d9ed10>"
       ]
      },
      {
       "output_type": "stream",
       "stream": "stdout",
       "text": [
        "\n",
        "Cannot set extents for <mayavi.modules.image_plane_widget.ImagePlaneWidget object at 0x9dabdd0>"
       ]
      },
      {
       "output_type": "stream",
       "stream": "stdout",
       "text": [
        "\n",
        "Cannot set extents for <mayavi.modules.image_plane_widget.ImagePlaneWidget object at 0x9dc1350>"
       ]
      },
      {
       "output_type": "stream",
       "stream": "stdout",
       "text": [
        "\n",
        "Cannot set extents for <mayavi.modules.image_plane_widget.ImagePlaneWidget object at 0xb097bf0>"
       ]
      },
      {
       "output_type": "stream",
       "stream": "stdout",
       "text": [
        "\n",
        "Cannot set extents for <mayavi.modules.image_plane_widget.ImagePlaneWidget object at 0xb0a4ef0>"
       ]
      },
      {
       "output_type": "stream",
       "stream": "stdout",
       "text": [
        "\n",
        "Cannot set extents for <mayavi.modules.image_plane_widget.ImagePlaneWidget object at 0xb8451d0>"
       ]
      },
      {
       "output_type": "stream",
       "stream": "stdout",
       "text": [
        "\n",
        "Cannot set extents for <mayavi.modules.image_plane_widget.ImagePlaneWidget object at 0xb857530>"
       ]
      },
      {
       "output_type": "stream",
       "stream": "stdout",
       "text": [
        "\n",
        "Cannot set extents for <mayavi.modules.image_plane_widget.ImagePlaneWidget object at 0xb85c830>"
       ]
      },
      {
       "output_type": "stream",
       "stream": "stdout",
       "text": [
        "\n",
        "Cannot set extents for <mayavi.modules.image_plane_widget.ImagePlaneWidget object at 0xb866b30>"
       ]
      },
      {
       "ename": "UnboundLocalError",
       "evalue": "local variable 'module_manager' referenced before assignment",
       "output_type": "pyerr",
       "traceback": [
        "\u001b[1;31m---------------------------------------------------------------------------\u001b[0m\n\u001b[1;31mUnboundLocalError\u001b[0m                         Traceback (most recent call last)",
        "\u001b[1;32m<ipython-input-6-26663d74dca6>\u001b[0m in \u001b[0;36m<module>\u001b[1;34m()\u001b[0m\n\u001b[0;32m     11\u001b[0m                         \u001b[0mslice_axial\u001b[0m\u001b[1;33m=\u001b[0m\u001b[1;36m30\u001b[0m\u001b[1;33m,\u001b[0m\u001b[1;33m\u001b[0m\u001b[0m\n\u001b[0;32m     12\u001b[0m                         \u001b[0mview_azim\u001b[0m\u001b[1;33m=\u001b[0m\u001b[1;36m20\u001b[0m\u001b[1;33m,\u001b[0m\u001b[1;33m\u001b[0m\u001b[0m\n\u001b[1;32m---> 13\u001b[1;33m                         view_elev=60)\n\u001b[0m",
        "\u001b[1;32m/home/arokem/usr/lib/python2.7/site-packages/osmosis/viz.pyc\u001b[0m in \u001b[0;36mplot_cut_planes\u001b[1;34m(vol, overlay, slice_coronal, slice_saggital, slice_axial, outline, cmap, overlay_cmap, invert_cmap, vmin, vmax, figure, view_azim, view_elev)\u001b[0m\n\u001b[0;32m    923\u001b[0m             \u001b[0mmodule_manager\u001b[0m\u001b[1;33m.\u001b[0m\u001b[0mscalar_lut_manager\u001b[0m\u001b[1;33m.\u001b[0m\u001b[0mlut\u001b[0m\u001b[1;33m.\u001b[0m\u001b[0mtable\u001b[0m \u001b[1;33m=\u001b[0m \u001b[0mlut\u001b[0m\u001b[1;33m\u001b[0m\u001b[0m\n\u001b[0;32m    924\u001b[0m \u001b[1;33m\u001b[0m\u001b[0m\n\u001b[1;32m--> 925\u001b[1;33m     \u001b[0mmodule_manager\u001b[0m\u001b[1;33m.\u001b[0m\u001b[0mscalar_lut_manager\u001b[0m\u001b[1;33m.\u001b[0m\u001b[0mshow_scalar_bar\u001b[0m \u001b[1;33m=\u001b[0m \u001b[0mTrue\u001b[0m\u001b[1;33m\u001b[0m\u001b[0m\n\u001b[0m\u001b[0;32m    926\u001b[0m     \u001b[0mmodule_manager\u001b[0m\u001b[1;33m.\u001b[0m\u001b[0mscalar_lut_manager\u001b[0m\u001b[1;33m.\u001b[0m\u001b[0mshow_legend\u001b[0m \u001b[1;33m=\u001b[0m \u001b[0mTrue\u001b[0m\u001b[1;33m\u001b[0m\u001b[0m\n\u001b[0;32m    927\u001b[0m     \u001b[0mmodule_manager\u001b[0m\u001b[1;33m.\u001b[0m\u001b[0mscalar_lut_manager\u001b[0m\u001b[1;33m.\u001b[0m\u001b[0mscalar_bar\u001b[0m\u001b[1;33m.\u001b[0m\u001b[0mnumber_of_labels\u001b[0m \u001b[1;33m=\u001b[0m \u001b[1;36m5\u001b[0m\u001b[1;33m\u001b[0m\u001b[0m\n",
        "\u001b[1;31mUnboundLocalError\u001b[0m: local variable 'module_manager' referenced before assignment"
       ]
      },
      {
       "output_type": "stream",
       "stream": "stdout",
       "text": [
        "\n"
       ]
      }
     ],
     "prompt_number": 6
    },
    {
     "cell_type": "code",
     "collapsed": false,
     "input": [
      "fig = viz.mosaic(vol_rmse.T)"
     ],
     "language": "python",
     "metadata": {},
     "outputs": []
    }
   ],
   "metadata": {}
  }
 ]
}