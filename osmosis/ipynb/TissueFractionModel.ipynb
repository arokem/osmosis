{
 "metadata": {
  "name": "TissueFractionModel"
 },
 "nbformat": 3,
 "worksheets": [
  {
   "cells": [
    {
     "cell_type": "code",
     "collapsed": false,
     "input": [
      "import os",
      "import osmosis as oz",
      "import osmosis.model as ozm",
      "import osmosis.viz as viz",
      "import osmosis.utils as ozu",
      "import osmosis.volume as ozv",
      "reload(ozm)",
      "reload(ozu)",
      "",
      "",
      "data_path = '/Users/arokem/projects/osmosis/osmosis/data/'",
      "",
      "dwi1 = '0005_01_DTI_2mm_150dir_2x_b2000_aligned_trilin.nii.gz'",
      "dwi2 = '0007_01_DTI_2mm_150dir_2x_b2000_aligned_trilin.nii.gz'",
      "",
      "bvecs1 = '0005_01_DTI_2mm_150dir_2x_b2000_aligned_trilin.bvecs'",
      "bvecs2 = '0007_01_DTI_2mm_150dir_2x_b2000_aligned_trilin.bvecs'",
      "",
      "bvals1 = '0005_01_DTI_2mm_150dir_2x_b2000_aligned_trilin.bvals'",
      "bvals2 = '0007_01_DTI_2mm_150dir_2x_b2000_aligned_trilin.bvals'",
      "",
      "# If you want to choose some collection of voxels and analyze there: ",
      "mask_array = np.zeros((81, 106, 76))",
      "#mask_array[30:60,30:60,30:60] = 1",
      "",
      "i = ([40,41],[40,41],[40,41])",
      "mask_array[i] = 1",
      "",
      "# These are based on the calculations in GetADandRD",
      "AD, RD = (1.2855920166623125, 0.106324274669824)",
      "",
      "TM1 = ozm.TensorModel(data_path + dwi1, ",
      "                      data_path + bvecs1, ",
      "                      data_path + bvals1,",
      "                      mask=data_path + 'brainMask.nii.gz')",
      "",
      "",
      "TM2 = ozm.TensorModel(data_path + dwi2, ",
      "                      data_path + bvecs2, ",
      "                      data_path + bvals2,",
      "                      mask=data_path + 'brainMask.nii.gz')"
     ],
     "language": "python",
     "outputs": [],
     "prompt_number": 7
    },
    {
     "cell_type": "code",
     "collapsed": true,
     "input": [
      "from itertools import cycle",
      "colors = cycle(['maroon','red','purple','fuchsia','green','lime','olive','yellow','navy','blue'])"
     ],
     "language": "python",
     "outputs": [],
     "prompt_number": 10
    },
    {
     "cell_type": "code",
     "collapsed": false,
     "input": [
      "ax_rmse = viz.quick_ax()",
      "",
      "for l1 in np.linspace(0.1,0.9,9):",
      "    Model = ozm.TissueFractionModel(",
      "                                data_path + 'TF_resampled.nii.gz',",
      "                                data_path + dwi1,",
      "                                data_path + bvecs1,",
      "                                data_path + bvals1,",
      "                                l1 = l1,",
      "                                l2 = 1-l1,",
      "                                mask=data_path + 'brainMask.nii.gz',",
      "                                #mask=mask_array,",
      "                                radial_diffusivity=RD,",
      "                                axial_diffusivity=AD) # These are based on the calculations in GetADandRD",
      "",
      "",
      "    idx, w1, w2, w3 = Model.model_params",
      "",
      "    ax = viz.quick_ax()",
      "    ax.hist(w1[~np.isnan(w1)], bins=500, histtype='step', label='$w_1$', linewidth=2)",
      "    ax.hist(w2[~np.isnan(w2)], bins=150, histtype='step', label='$w_2$', linewidth=2)",
      "    ax.hist(w3[~np.isnan(w3)], bins=150, histtype='step', label='$w_3$', linewidth=2)",
      "    ax.set_xlim(-1,2)",
      "    ax.set_xlabel('Parameter value')",
      "    ax.set_ylabel('# voxels')",
      "    ax.get_figure().set_size_inches([10,5])",
      "",
      "    ax.legend()",
      "    ax_rmse.hist(Model.RMSE[~np.isnan(Model.RMSE)],bins=1000, label=str(l1), histtype='step', color=colors.next())",
      "    print('For l1=%s, mean(RMSE) is: %s and median(RMSE) is: %s'%(l1, np.mean(Model.RMSE[~np.isnan(Model.RMSE)]), np.median(Model.RMSE[~np.isnan(Model.RMSE)])))",
      "    ",
      "ax_rmse.set_xlim([0,1000])",
      "ax_rmse.legend()",
      "ax_rmse.get_figure().set_size_inches([10,10])"
     ],
     "language": "python",
     "outputs": [],
     "prompt_number": 11
    },
    {
     "cell_type": "code",
     "collapsed": false,
     "input": [
      "Model = ozm.TissueFractionModel(",
      "                                data_path + 'TF_resampled.nii.gz',",
      "                                data_path + dwi1,",
      "                                data_path + bvecs1,",
      "                                data_path + bvals1,",
      "                                l1 = 0.5,",
      "                                l2 = 0.5,",
      "                                mask=data_path + 'brainMask.nii.gz',",
      "                                #mask=mask_array,",
      "                                radial_diffusivity=RD,",
      "                                axial_diffusivity=AD) # These are based on the calculations in GetADandRD",
      "",
      "",
      "idx, w1, w2, w3 = Model.model_params"
     ],
     "language": "python",
     "outputs": [],
     "prompt_number": 12
    },
    {
     "cell_type": "code",
     "collapsed": false,
     "input": [
      "T1 = ozv.resample_volume(data_path + 'FP_t1.nii.gz', data_path + dwi1).get_data()"
     ],
     "language": "python",
     "outputs": [],
     "prompt_number": 13
    },
    {
     "cell_type": "code",
     "collapsed": false,
     "input": [
      "fig = viz.mosaic(T1.T, cbar=False, cmap=matplotlib.cm.bone)",
      "fig = viz.mosaic(w2.T, fig=fig, vmin=0, vmax=1, cmap=matplotlib.cm.YlOrRd_r)#, vmax=2)",
      "fig.set_size_inches([15,8])",
      "fig.savefig('/Users/arokem/Documents/LabMeetings/LabMeeting04092012/tissue_w2.png')",
      "",
      "fig = viz.mosaic(T1.T, cbar=False, cmap=matplotlib.cm.bone)",
      "fig = viz.mosaic(w3.T, fig=fig, vmax=1, vmin=0, cmap=matplotlib.cm.YlOrRd_r)#, vmax=2)",
      "fig.set_size_inches([15,8])",
      "fig.savefig('/Users/arokem/Documents/LabMeetings/LabMeeting04092012/tissue_w3.png')",
      "",
      "ratio = w2.T/w3.T",
      "ratio[np.isinf(ratio)] = np.nan",
      "fig = viz.mosaic(T1.T, cbar=False, cmap=matplotlib.cm.bone)",
      "fig = viz.mosaic(ratio, fig=fig, vmin=0, vmax=3, cmap=matplotlib.cm.YlOrRd_r)",
      "fig.set_size_inches([15,8])",
      "fig.savefig('/Users/arokem/Documents/LabMeetings/LabMeeting04092012/tissue_w2_w3_ratio.png')",
      "",
      "",
      "diff = w2.T - w3.T",
      "fig = viz.mosaic(T1.T, cbar=False, cmap=matplotlib.cm.bone)",
      "fig = viz.mosaic(diff, vmax=1, vmin=-1, fig=fig)",
      "fig.set_size_inches([15,8])",
      "fig.savefig('/Users/arokem/Documents/LabMeetings/LabMeeting04092012/tissue_w2_w3_diff.png')",
      "",
      "fig = viz.mosaic(T1.T, cbar=False, cmap=matplotlib.cm.bone)",
      "fig = viz.mosaic(w1.T, fig=fig, vmax=1, cmap=matplotlib.cm.YlOrRd_r)",
      "fig.set_size_inches([15,8])",
      "fig.savefig('/Users/arokem/Documents/LabMeetings/LabMeeting04092012/tissue_w1.png')"
     ],
     "language": "python",
     "outputs": [],
     "prompt_number": 14
    },
    {
     "cell_type": "code",
     "collapsed": false,
     "input": [
      "signal_rmse = np.nan * np.ones(TM1.shape[:3])",
      "signal_rmse[TM1.mask] = ozu.rmse(TM1._flat_signal, TM2._flat_signal)",
      "",
      "tissue_rmse = np.nan * np.ones(TM1.shape[:3])",
      "tensor_rmse = np.nan * np.ones(TM1.shape[:3])",
      "",
      "tissue_rmse[Model.mask] = ozu.rmse(Model.fit[Model.mask][:,:150], TM2._flat_signal)",
      "tensor_rmse[Model.mask] = ozu.rmse(TM1.fit[Model.mask], TM2._flat_signal)",
      "",
      "rel_ten_rmse = tensor_rmse/signal_rmse",
      "rel_tissue_rmse = tissue_rmse/signal_rmse"
     ],
     "language": "python",
     "outputs": [],
     "prompt_number": 15
    },
    {
     "cell_type": "code",
     "collapsed": false,
     "input": [
      "ax_all = viz.quick_ax()",
      "for relative_rmse, label, n_bins in zip([rel_ten_rmse, rel_tissue_rmse], ",
      "                          ['Tensor', 'Tissue'],",
      "                          [1700, 500]):",
      "    relative_rmse[np.where(relative_rmse==inf)] = np.nan",
      "    ax_all.hist(relative_rmse[~np.isnan(relative_rmse)], bins=n_bins, histtype='step', label=label, linewidth=2)",
      "",
      "ax_all.set_xlim([0,10])",
      "ax_all.get_figure().set_size_inches([10,5])",
      "    ",
      "ax_all.legend()",
      "ax_all.set_ylabel('# voxels')",
      "ax_all.set_xlabel('$RMSE_{relative}$')"
     ],
     "language": "python",
     "outputs": [],
     "prompt_number": 16
    },
    {
     "cell_type": "code",
     "collapsed": false,
     "input": [
      "fig = viz.mosaic(T1.T, cbar=False, cmap=matplotlib.cm.bone)",
      "fig = viz.mosaic(relative_rmse.T, fig=fig, vmin=0, vmax=6, cmap=matplotlib.cm.YlOrRd_r)",
      "fig.set_size_inches([15,8])"
     ],
     "language": "python",
     "outputs": [],
     "prompt_number": 18
    },
    {
     "cell_type": "code",
     "collapsed": true,
     "input": [],
     "language": "python",
     "outputs": []
    }
   ]
  }
 ]
}