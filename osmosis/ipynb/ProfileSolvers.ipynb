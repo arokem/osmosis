{
 "metadata": {
  "name": "ProfileSolvers"
 },
 "nbformat": 3,
 "worksheets": [
  {
   "cells": [
    {
     "cell_type": "code",
     "collapsed": false,
     "input": [
      "import os ",
      "",
      "from scipy.optimize import nnls",
      "np_lstsq = np.linalg.lstsq",
      "from scipy.linalg import lstsq as sp_lstsq",
      "",
      "import osmosis as oz",
      "import osmosis.tensor as ozt",
      "import osmosis.model as ozm",
      "import osmosis.utils as ozu",
      ""
     ],
     "language": "python",
     "outputs": [],
     "prompt_number": 119
    },
    {
     "cell_type": "code",
     "collapsed": false,
     "input": [
      "data_path = os.path.split(oz.__file__)[0] + '/data/'",
      "",
      "Model= ozm.TensorModel(data_path + '0005_01_DTI_2mm_150dir_2x_b2000_aligned_trilin.nii.gz',",
      "                       data_path + '0005_01_DTI_2mm_150dir_2x_b2000_aligned_trilin.bvecs',",
      "                       data_path + '0005_01_DTI_2mm_150dir_2x_b2000_aligned_trilin.bvals',",
      "                       mask=data_path + 'brainMask.nii.gz')"
     ],
     "language": "python",
     "outputs": [
      {
       "output_type": "stream",
       "stream": "stdout",
       "text": [
        "Loading from file: /Users/arokem/usr/lib/python2.7/site-packages/osmosis/data/0005_01_DTI_2mm_150dir_2x_b2000_aligned_trilin.bvals",
        ""
       ]
      }
     ],
     "prompt_number": 120
    },
    {
     "cell_type": "code",
     "collapsed": false,
     "input": [
      "A = np.vstack([ten.predicted_signal(1).T, np.ones(Model.b_idx.shape[0])])"
     ],
     "language": "python",
     "outputs": [],
     "prompt_number": 121
    },
    {
     "cell_type": "code",
     "collapsed": false,
     "input": [
      "b = Model.relative_signal[40,40,40]",
      "A.shape, b.shape"
     ],
     "language": "python",
     "outputs": [
      {
       "output_type": "stream",
       "stream": "stdout",
       "text": [
        "Loading from file: /Users/arokem/usr/lib/python2.7/site-packages/osmosis/data/0005_01_DTI_2mm_150dir_2x_b2000_aligned_trilin.nii.gz",
        ""
       ]
      },
      {
       "output_type": "pyout",
       "prompt_number": 122,
       "text": [
        "((2, 150), (150,))"
       ]
      }
     ],
     "prompt_number": 122
    },
    {
     "cell_type": "code",
     "collapsed": false,
     "input": [
      "timeit nnls(A.T, b)"
     ],
     "language": "python",
     "outputs": [
      {
       "output_type": "stream",
       "stream": "stdout",
       "text": [
        "10000 loops, best of 3: 66.5 us per loop",
        ""
       ]
      }
     ],
     "prompt_number": 123
    },
    {
     "cell_type": "code",
     "collapsed": false,
     "input": [
      "timeit np_lstsq(A.T,b)"
     ],
     "language": "python",
     "outputs": [
      {
       "output_type": "stream",
       "stream": "stdout",
       "text": [
        "10000 loops, best of 3: 157 us per loop",
        ""
       ]
      }
     ],
     "prompt_number": 124
    },
    {
     "cell_type": "code",
     "collapsed": false,
     "input": [
      "timeit sp_lstsq(A.T,b)"
     ],
     "language": "python",
     "outputs": [
      {
       "output_type": "stream",
       "stream": "stdout",
       "text": [
        "10000 loops, best of 3: 148 us per loop",
        ""
       ]
      }
     ],
     "prompt_number": 125
    },
    {
     "cell_type": "code",
     "collapsed": false,
     "input": [
      "d = ozu.ols_matrix(A.T)"
     ],
     "language": "python",
     "outputs": [],
     "prompt_number": 126
    },
    {
     "cell_type": "code",
     "collapsed": false,
     "input": [
      "timeit np.dot(d, b)"
     ],
     "language": "python",
     "outputs": [
      {
       "output_type": "stream",
       "stream": "stdout",
       "text": [
        "100000 loops, best of 3: 9.41 us per loop",
        ""
       ]
      }
     ],
     "prompt_number": 127
    },
    {
     "cell_type": "code",
     "collapsed": true,
     "input": [
      "x_nnls = nnls(A.T,b)",
      "x_np_lstsq = np_lstsq(A.T,b)",
      "x_sp_lstsq = sp_lstsq(A.T,b)",
      "x_ols_matrix = np.array(np.dot(ozu.ols_matrix(A.T), b))"
     ],
     "language": "python",
     "outputs": [],
     "prompt_number": 128
    },
    {
     "cell_type": "code",
     "collapsed": false,
     "input": [
      "x_nnls"
     ],
     "language": "python",
     "outputs": [
      {
       "output_type": "pyout",
       "prompt_number": 129,
       "text": [
        "(array([ 0.46157328,  0.10344919]), 1.2397457408628736)"
       ]
      }
     ],
     "prompt_number": 129
    },
    {
     "cell_type": "code",
     "collapsed": false,
     "input": [
      "x_np_lstsq"
     ],
     "language": "python",
     "outputs": [
      {
       "output_type": "pyout",
       "prompt_number": 130,
       "text": [
        "(array([ 0.46157328,  0.10344919]),",
        " array([ 1.5369695]),",
        " 2,",
        " array([ 12.54369195,   1.27003237]))"
       ]
      }
     ],
     "prompt_number": 130
    },
    {
     "cell_type": "code",
     "collapsed": false,
     "input": [
      "x_sp_lstsq"
     ],
     "language": "python",
     "outputs": [
      {
       "output_type": "pyout",
       "prompt_number": 131,
       "text": [
        "(array([ 0.46157328,  0.10344919]),",
        " 1.536969501987635,",
        " 2,",
        " array([ 12.54369195,   1.27003237]))"
       ]
      }
     ],
     "prompt_number": 131
    },
    {
     "cell_type": "code",
     "collapsed": false,
     "input": [
      "x_ols_matrix"
     ],
     "language": "python",
     "outputs": [
      {
       "output_type": "pyout",
       "prompt_number": 132,
       "text": [
        "array([[ 0.46157328,  0.10344919]])"
       ]
      }
     ],
     "prompt_number": 132
    },
    {
     "cell_type": "code",
     "collapsed": true,
     "input": [
      ""
     ],
     "language": "python",
     "outputs": [],
     "prompt_number": 132
    }
   ]
  }
 ]
}