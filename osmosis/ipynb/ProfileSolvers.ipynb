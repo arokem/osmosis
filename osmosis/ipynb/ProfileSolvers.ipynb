{
 "metadata": {
  "name": "ProfileSolvers"
 },
 "nbformat": 3,
 "worksheets": [
  {
   "cells": [
    {
     "cell_type": "code",
     "collapsed": false,
     "input": [
      "import os ",
      "",
      "from scipy.optimize import nnls",
      "np_lstsq = np.linalg.lstsq",
      "from scipy.linalg import lstsq as sp_lstsq",
      "",
      "import osmosis as oz",
      "import osmosis.tensor as ozt",
      "import osmosis.model as ozm",
      "import osmosis.utils as ozu",
      ""
     ],
     "language": "python",
     "outputs": []
    },
    {
     "cell_type": "code",
     "collapsed": false,
     "input": [
      "data_path = os.path.split(oz.__file__)[0] + '/data/'",
      "",
      "Model= ozm.TensorModel(data_path + '0005_01_DTI_2mm_150dir_2x_b2000_aligned_trilin.nii.gz',",
      "                       data_path + '0005_01_DTI_2mm_150dir_2x_b2000_aligned_trilin.bvecs',",
      "                       data_path + '0005_01_DTI_2mm_150dir_2x_b2000_aligned_trilin.bvals',",
      "                       mask=data_path + 'brainMask.nii.gz')"
     ],
     "language": "python",
     "outputs": []
    },
    {
     "cell_type": "code",
     "collapsed": false,
     "input": [
      "A = np.vstack([ten.predicted_signal(1).T, np.ones(Model.b_idx.shape[0])])"
     ],
     "language": "python",
     "outputs": []
    },
    {
     "cell_type": "code",
     "collapsed": false,
     "input": [
      "b = Model.relative_signal[40,40,40]",
      "A.shape, b.shape"
     ],
     "language": "python",
     "outputs": []
    },
    {
     "cell_type": "code",
     "collapsed": false,
     "input": [
      "timeit nnls(A.T, b)"
     ],
     "language": "python",
     "outputs": []
    },
    {
     "cell_type": "code",
     "collapsed": false,
     "input": [
      "timeit np_lstsq(A.T,b)"
     ],
     "language": "python",
     "outputs": []
    },
    {
     "cell_type": "code",
     "collapsed": false,
     "input": [
      "timeit sp_lstsq(A.T,b)"
     ],
     "language": "python",
     "outputs": []
    },
    {
     "cell_type": "code",
     "collapsed": false,
     "input": [
      "d = ozu.ols_matrix(A.T)"
     ],
     "language": "python",
     "outputs": []
    },
    {
     "cell_type": "code",
     "collapsed": false,
     "input": [
      "timeit np.dot(d, b)"
     ],
     "language": "python",
     "outputs": []
    },
    {
     "cell_type": "code",
     "collapsed": true,
     "input": [
      "x_nnls = nnls(A.T,b)",
      "x_np_lstsq = np_lstsq(A.T,b)",
      "x_sp_lstsq = sp_lstsq(A.T,b)",
      "x_ols_matrix = np.array(np.dot(ozu.ols_matrix(A.T), b))"
     ],
     "language": "python",
     "outputs": []
    },
    {
     "cell_type": "code",
     "collapsed": false,
     "input": [
      "x_nnls"
     ],
     "language": "python",
     "outputs": []
    },
    {
     "cell_type": "code",
     "collapsed": false,
     "input": [
      "x_np_lstsq"
     ],
     "language": "python",
     "outputs": []
    },
    {
     "cell_type": "code",
     "collapsed": false,
     "input": [
      "x_sp_lstsq"
     ],
     "language": "python",
     "outputs": []
    },
    {
     "cell_type": "code",
     "collapsed": false,
     "input": [
      "x_ols_matrix"
     ],
     "language": "python",
     "outputs": []
    },
    {
     "cell_type": "code",
     "collapsed": true,
     "input": [
      ""
     ],
     "language": "python",
     "outputs": []
    }
   ]
  }
 ]
}