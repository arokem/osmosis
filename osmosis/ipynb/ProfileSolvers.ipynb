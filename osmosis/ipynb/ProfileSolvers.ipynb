{
 "metadata": {
  "name": "ProfileSolvers"
 },
 "nbformat": 3,
 "worksheets": [
  {
   "cells": [
    {
     "cell_type": "code",
     "collapsed": false,
     "input": [
      "import os ",
      "",
      "from scipy.optimize import nnls",
      "np_lstsq = np.linalg.lstsq",
      "from scipy.linalg import lstsq as sp_lstsq",
      "",
      "import sklearn.decomposition.nmf as nmf",
      "",
      "import osmosis as oz",
      "import osmosis.tensor as ozt",
      "import osmosis.model as ozm",
      "import osmosis.utils as ozu",
      ""
     ],
     "language": "python",
     "outputs": [],
     "prompt_number": 21
    },
    {
     "cell_type": "code",
     "collapsed": false,
     "input": [
      "data_path = os.path.split(oz.__file__)[0] + '/data/'",
      "",
      "Model= ozm.TensorModel(data_path + '0005_01_DTI_2mm_150dir_2x_b2000_aligned_trilin.nii.gz',",
      "                       data_path + '0005_01_DTI_2mm_150dir_2x_b2000_aligned_trilin.bvecs',",
      "                       data_path + '0005_01_DTI_2mm_150dir_2x_b2000_aligned_trilin.bvals',",
      "                       mask=data_path + 'brainMask.nii.gz')"
     ],
     "language": "python",
     "outputs": [
      {
       "output_type": "stream",
       "stream": "stdout",
       "text": [
        "Loading from file: /Users/arokem/usr/lib/python2.7/site-packages/osmosis/data/0005_01_DTI_2mm_150dir_2x_b2000_aligned_trilin.bvals",
        ""
       ]
      }
     ],
     "prompt_number": 7
    },
    {
     "cell_type": "code",
     "collapsed": false,
     "input": [
      "ten = ozt.Tensor([1.5, 0, 0, 0.5, 0, 0.5], Model.bvecs[:, Model.b_idx], Model.bvals[Model.b_idx])"
     ],
     "language": "python",
     "outputs": [
      {
       "output_type": "stream",
       "stream": "stdout",
       "text": [
        "Loading from file: /Users/arokem/usr/lib/python2.7/site-packages/osmosis/data/0005_01_DTI_2mm_150dir_2x_b2000_aligned_trilin.bvecs",
        ""
       ]
      }
     ],
     "prompt_number": 8
    },
    {
     "cell_type": "code",
     "collapsed": false,
     "input": [
      "A = np.vstack([ten.predicted_signal(1).T, np.ones(Model.b_idx.shape[0])])"
     ],
     "language": "python",
     "outputs": [],
     "prompt_number": 9
    },
    {
     "cell_type": "code",
     "collapsed": false,
     "input": [
      "b = Model.relative_signal[40,40,40]",
      "A.shape, b.shape"
     ],
     "language": "python",
     "outputs": [
      {
       "output_type": "stream",
       "stream": "stdout",
       "text": [
        "Loading from file: /Users/arokem/usr/lib/python2.7/site-packages/osmosis/data/0005_01_DTI_2mm_150dir_2x_b2000_aligned_trilin.nii.gz",
        ""
       ]
      },
      {
       "output_type": "stream",
       "stream": "stderr",
       "text": [
        "/Users/arokem/usr/lib/python2.7/site-packages/osmosis/model.py:377: RuntimeWarning: divide by zero encountered in divide",
        "  signal_rel = self.signal/np.reshape(self.S0, (self.S0.shape + (1,)))",
        "/Users/arokem/usr/lib/python2.7/site-packages/osmosis/model.py:377: RuntimeWarning: invalid value encountered in divide",
        "  signal_rel = self.signal/np.reshape(self.S0, (self.S0.shape + (1,)))",
        ""
       ]
      },
      {
       "output_type": "pyout",
       "prompt_number": 10,
       "text": [
        "((2, 150), (150,))"
       ]
      }
     ],
     "prompt_number": 10
    },
    {
     "cell_type": "code",
     "collapsed": false,
     "input": [
      "timeit nnls(A.T, b)"
     ],
     "language": "python",
     "outputs": [
      {
       "output_type": "stream",
       "stream": "stdout",
       "text": [
        "10000 loops, best of 3: 66.8 us per loop",
        ""
       ]
      }
     ],
     "prompt_number": 11
    },
    {
     "cell_type": "code",
     "collapsed": false,
     "input": [
      "timeit np_lstsq(A.T,b)"
     ],
     "language": "python",
     "outputs": [
      {
       "output_type": "stream",
       "stream": "stdout",
       "text": [
        "1 loops, best of 3: 238 us per loop",
        ""
       ]
      }
     ],
     "prompt_number": 12
    },
    {
     "cell_type": "code",
     "collapsed": false,
     "input": [
      "timeit sp_lstsq(A.T,b)"
     ],
     "language": "python",
     "outputs": [
      {
       "output_type": "stream",
       "stream": "stdout",
       "text": [
        "10000 loops, best of 3: 153 us per loop",
        ""
       ]
      }
     ],
     "prompt_number": 13
    },
    {
     "cell_type": "code",
     "collapsed": false,
     "input": [
      "d = ozu.ols_matrix(A.T)"
     ],
     "language": "python",
     "outputs": [],
     "prompt_number": 14
    },
    {
     "cell_type": "code",
     "collapsed": false,
     "input": [
      "timeit np.dot(d, b)"
     ],
     "language": "python",
     "outputs": [
      {
       "output_type": "stream",
       "stream": "stdout",
       "text": [
        "100000 loops, best of 3: 9.43 us per loop",
        ""
       ]
      }
     ],
     "prompt_number": 15
    },
    {
     "cell_type": "code",
     "collapsed": true,
     "input": [
      "x_nnls = nnls(A.T,b)",
      "x_np_lstsq = np_lstsq(A.T,b)",
      "x_sp_lstsq = sp_lstsq(A.T,b)",
      "x_ols_matrix = np.array(np.dot(ozu.ols_matrix(A.T), b))"
     ],
     "language": "python",
     "outputs": [],
     "prompt_number": 16
    },
    {
     "cell_type": "code",
     "collapsed": false,
     "input": [
      "x_nnls"
     ],
     "language": "python",
     "outputs": [
      {
       "output_type": "pyout",
       "prompt_number": 17,
       "text": [
        "(array([ 0.        ,  0.20503191]), 1.377476153801588)"
       ]
      }
     ],
     "prompt_number": 17
    },
    {
     "cell_type": "code",
     "collapsed": false,
     "input": [
      "x_np_lstsq"
     ],
     "language": "python",
     "outputs": [
      {
       "output_type": "pyout",
       "prompt_number": 18,
       "text": [
        "(array([-0.01465737,  0.2148086 ]),",
        " array([ 1.88128858]),",
        " 2,",
        " array([ 15.68735661,   6.76943943]))"
       ]
      }
     ],
     "prompt_number": 18
    },
    {
     "cell_type": "code",
     "collapsed": false,
     "input": [
      "x_sp_lstsq"
     ],
     "language": "python",
     "outputs": [
      {
       "output_type": "pyout",
       "prompt_number": 19,
       "text": [
        "(array([-0.01465737,  0.2148086 ]),",
        " 1.8812885814921694,",
        " 2,",
        " array([ 15.68735661,   6.76943943]))"
       ]
      }
     ],
     "prompt_number": 19
    },
    {
     "cell_type": "code",
     "collapsed": false,
     "input": [
      "x_ols_matrix"
     ],
     "language": "python",
     "outputs": [
      {
       "output_type": "pyout",
       "prompt_number": 20,
       "text": [
        "array([[-0.01465737,  0.2148086 ]])"
       ]
      }
     ],
     "prompt_number": 20
    },
    {
     "cell_type": "code",
     "collapsed": false,
     "input": [
      "NMF1 = nmf.ProjectedGradientNMF()",
      "NMF1.fit(A.T, b)"
     ],
     "language": "python",
     "outputs": [
      {
       "output_type": "pyout",
       "prompt_number": 33,
       "text": [
        "ProjectedGradientNMF(beta=1, eta=0.1, init='nndsvdar', max_iter=200,",
        "           n_components=2, nls_max_iter=2000, sparseness=None, tol=0.0001)"
       ]
      }
     ],
     "prompt_number": 33
    },
    {
     "cell_type": "code",
     "collapsed": false,
     "input": [
      "NMF1.reconstruction_err_"
     ],
     "language": "python",
     "outputs": [
      {
       "output_type": "pyout",
       "prompt_number": 36,
       "text": [
        "0.00419594420573869"
       ]
      }
     ],
     "prompt_number": 36
    },
    {
     "cell_type": "code",
     "collapsed": true,
     "input": [
      "nmf.ProjectedGradientNMF?"
     ],
     "language": "python",
     "outputs": [],
     "prompt_number": 38
    },
    {
     "cell_type": "code",
     "collapsed": true,
     "input": [
      ""
     ],
     "language": "python",
     "outputs": []
    }
   ]
  }
 ]
}