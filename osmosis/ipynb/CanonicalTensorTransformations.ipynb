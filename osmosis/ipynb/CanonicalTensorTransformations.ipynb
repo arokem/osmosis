{
 "metadata": {
  "name": "CanonicalTensorTransformations"
 },
 "nbformat": 3,
 "worksheets": [
  {
   "cells": [
    {
     "cell_type": "code",
     "collapsed": false,
     "input": [
      "import os ",
      "",
      "import scipy.linalg as la",
      "import matplotlib.pyplot as plt",
      "from mpl_toolkits.mplot3d import axes3d",
      "",
      "import osmosis as oz",
      "import osmosis.model as ozm",
      "import osmosis.utils as ozu",
      "reload(ozu)",
      "    ",
      "import osmosis.viz as viz",
      "import osmosis.tensor as ozt"
     ],
     "language": "python",
     "outputs": [],
     "prompt_number": 33
    },
    {
     "cell_type": "code",
     "collapsed": false,
     "input": [
      "# This is the canonical tensor (provided by a diagonal matrix): ",
      "q1 = np.array([[1.5,0,0], ",
      "               [0,0.5,0], ",
      "               [0,0,0.5]])",
      "",
      "evals1, evecs1 = ozu.decompose_tensor(q1)",
      "evals1, evecs1"
     ],
     "language": "python",
     "outputs": [],
     "prompt_number": 34
    },
    {
     "cell_type": "code",
     "collapsed": false,
     "input": [
      "# We rotate from the primary eigen-vector to some bvec: ",
      "bvec = np.array([ 0.022915,  0.79731 , -0.60313 ])",
      "# bvec = np.array([-0.24187,  0.10309, -0.96482])",
      "rot = ozu.calculate_rotation(bvec, evecs1[0])"
     ],
     "language": "python",
     "outputs": [],
     "prompt_number": 35
    },
    {
     "cell_type": "code",
     "collapsed": false,
     "input": [
      "fig = plt.figure()",
      "ax = fig.add_subplot(1,1,1, projection='3d')",
      "ax.plot3D([0, bvec[0]], [0, bvec[1]], [0, bvec[2]], '-o')",
      "ax.plot3D([0, evecs1[0,0]], [0, evecs1[0,1]], [0, evecs1[0,2]], '-*')",
      "ax.plot3D([0, evecs1[1,0]], [0, evecs1[1,1]], [0, evecs1[1,2]], '-o')",
      "ax.plot3D([0, evecs1[2,0]], [0, evecs1[2,1]], [0, evecs1[2,2]], '-o')",
      "ax.set_xlim([-1,1])",
      "ax.set_ylim([-1,1])",
      "ax.set_zlim([-1,1])"
     ],
     "language": "python",
     "outputs": [],
     "prompt_number": 36
    },
    {
     "cell_type": "code",
     "collapsed": false,
     "input": [
      "# This should give us the new matrix:",
      "evecs2 = evecs1 * rot"
     ],
     "language": "python",
     "outputs": [],
     "prompt_number": 37
    },
    {
     "cell_type": "code",
     "collapsed": false,
     "input": [
      "fig = plt.figure()",
      "ax = fig.add_subplot(1,1,1, projection='3d')",
      "ax.plot3D([0, bvec[0]], [0, bvec[1]], [0, bvec[2]], '-')",
      "ax.plot3D([0, evecs2[0,0]], [0, evecs2[0,1]], [0, evecs2[0,2]], '-*')",
      "ax.plot3D([0, evecs2[1,0]], [0, evecs2[1,1]], [0, evecs2[1,2]], '-o')",
      "ax.plot3D([0, evecs2[2,0]], [0, evecs2[2,1]], [0, evecs2[2,2]], '-o')",
      "",
      "ax.set_xlim([-1,1])",
      "ax.set_ylim([-1,1])",
      "ax.set_zlim([-1,1])",
      "",
      "np.dot(np.array(evecs2[0]).squeeze(),np.array(evecs2[1]).squeeze()), np.dot(np.array(evecs2[1]).squeeze(),np.array(evecs2[2]).squeeze()), np.dot(np.array(evecs2[0]).squeeze(),np.array(evecs2[2]).squeeze())"
     ],
     "language": "python",
     "outputs": [],
     "prompt_number": 38
    },
    {
     "cell_type": "code",
     "collapsed": false,
     "input": [
      "q2 = ozu.tensor_from_eigs(evals1, evecs2)",
      "evals2_est, evecs2_est = ozu.decompose_tensor(q2)",
      "evals2_est, evecs2_est, evecs2"
     ],
     "language": "python",
     "outputs": [],
     "prompt_number": 39
    },
    {
     "cell_type": "code",
     "collapsed": false,
     "input": [
      "data_path = os.path.split(oz.__file__)[0] + '/data/'",
      "",
      "DWI = ozm.DWI(data_path + 'dwi.nii.gz',",
      "              data_path + 'dwi.bvecs',",
      "              data_path + 'dwi.bvals')",
      "",
      "bvecs = DWI.bvecs[:, DWI.b_idx]",
      "bvals = DWI.bvals[:, DWI.b_idx]",
      "T1 = ozt.Tensor(q1, bvecs, bvals)",
      "T2 = ozt.Tensor(q2, bvecs, bvals)",
      "ozu.decompose_tensor(q1), ozu.decompose_tensor(q2)"
     ],
     "language": "python",
     "outputs": [],
     "prompt_number": 40
    },
    {
     "cell_type": "code",
     "collapsed": false,
     "input": [
      "pred_sig1 = T1.predicted_signal(1)",
      "pred_sig2 = T2.predicted_signal(1)",
      "",
      "fig1 = viz.sig_in_points(bvecs, pred_sig1, r_from_val=True,cmap=matplotlib.cm.RdBu_r)",
      "fig2 = viz.sig_in_points(bvecs, pred_sig2, r_from_val=True,cmap=matplotlib.cm.RdBu_r)",
      "",
      "for fig in [fig1, fig2]:",
      "    fig.axes[0].set_xlim([-0.3,0.3])",
      "    fig.axes[0].set_ylim([-0.3,0.3])",
      "    fig.axes[0].set_zlim([-0.3,0.3])"
     ],
     "language": "python",
     "outputs": [],
     "prompt_number": 48
    },
    {
     "cell_type": "code",
     "collapsed": false,
     "input": [
      "hist(pred_sig1) ",
      "hist(pred_sig2)"
     ],
     "language": "python",
     "outputs": [],
     "prompt_number": 42
    },
    {
     "cell_type": "code",
     "collapsed": false,
     "input": [
      "np.mean(pred_sig1), np.mean(pred_sig2)"
     ],
     "language": "python",
     "outputs": [],
     "prompt_number": 43
    },
    {
     "cell_type": "code",
     "collapsed": false,
     "input": [
      "q2 = np.array([[1.5,0,0], ",
      "               [0,1.5,0], ",
      "               [0,0,0]])",
      "",
      "T3 = ozt.Tensor(q2, bvecs, bvals)",
      "",
      "pred_sig3 = T3.predicted_signal(1000)",
      "",
      "fig1 = viz.sig_in_points(bvecs, pred_sig3, r_from_val=True)"
     ],
     "language": "python",
     "outputs": [],
     "prompt_number": 44
    },
    {
     "cell_type": "code",
     "collapsed": false,
     "input": [
      "fig = viz.plot_ellipse(0.3,0.3,0.1)",
      "fig.set_size_inches([10,10])",
      "#plt.axis('off')",
      "",
      "fig = viz.plot_ellipse(0.1,0.1,0.3)",
      "fig.set_size_inches([10,10])",
      "#plt.axis('off')",
      "",
      "fig = viz.plot_ellipse(0.3,0.3,0.3)",
      "fig.set_size_inches([10,10])",
      "#plt.axis('off')"
     ],
     "language": "python",
     "outputs": [],
     "prompt_number": 45
    },
    {
     "cell_type": "code",
     "collapsed": true,
     "input": [],
     "language": "python",
     "outputs": [],
     "prompt_number": 45
    }
   ]
  }
 ]
}