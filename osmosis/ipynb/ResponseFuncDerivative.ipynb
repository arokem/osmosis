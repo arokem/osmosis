{
 "metadata": {
  "name": ""
 },
 "nbformat": 3,
 "nbformat_minor": 0,
 "worksheets": [
  {
   "cells": [
    {
     "cell_type": "markdown",
     "metadata": {},
     "source": [
      "## Finding the derivatives of the fiber response function \n",
      "\n",
      "For the purpose of CBP, we need to define the derivative of the response function along small angular distances on the surface of the sphere. In what follows, we will define a special case of the fiber response function, demonstrate that it is indeed equal to the tensor response function. Then, we will show that this function can be differentiated analytically and that this derivative matches a numerical estimate. \n",
      "\n",
      "We import some modules which we will use: "
     ]
    },
    {
     "cell_type": "code",
     "collapsed": false,
     "input": [
      "import osmosis.tensor as ozt # This provides us with the response function\n",
      "import osmosis.utils as ozu # Various utility functions\n",
      "import dipy.data as dpd # This is used to get spheres\n"
     ],
     "language": "python",
     "metadata": {},
     "outputs": [
      {
       "output_type": "stream",
       "stream": "stderr",
       "text": [
        "/Applications/Canopy.app/appdata/canopy-1.0.3.1262.macosx-x86_64/Canopy.app/Contents/lib/python2.7/site-packages/nose/plugins/manager.py:418: UserWarning: Module argparse was already imported from /Applications/Canopy.app/appdata/canopy-1.0.3.1262.macosx-x86_64/Canopy.app/Contents/lib/python2.7/argparse.pyc, but /Users/arokem/Library/Enthought/Canopy_64bit/User/lib/python2.7/site-packages is being added to sys.path\n",
        "  import pkg_resources\n"
       ]
      }
     ],
     "prompt_number": 1
    },
    {
     "cell_type": "code",
     "collapsed": false,
     "input": [
      "# This gives a symmetric sphere with 362 samples, which we will use as our sampling scheme\n",
      "sph = dpd.get_sphere()\n",
      "\n",
      "# We extract the vertices of the sphere as our \"b-vectors\":\n",
      "bvecs = sph.vertices.T\n",
      "\n",
      "# We define the \"b-values\" we will use to be all 2000:\n",
      "bvals = np.ones(bvecs.shape[-1])*2"
     ],
     "language": "python",
     "metadata": {},
     "outputs": [],
     "prompt_number": 2
    },
    {
     "cell_type": "code",
     "collapsed": false,
     "input": [
      "# We define the quadratic form for the tensor:\n",
      "Q = [[1,0,0],\n",
      "     [0,0,0],\n",
      "     [0,0,0]]\n",
      "\n",
      "# And define the tensor on this quadratic, bvecs, bvals:\n",
      "T = ozt.Tensor(Q, bvecs, bvals)\n",
      "\n",
      "# We generate a predicted signal using the Stejskal/Tanner equation, assuming S0=1\n",
      "pred_sig1 = T.predicted_signal(1)"
     ],
     "language": "python",
     "metadata": {},
     "outputs": [],
     "prompt_number": 3
    },
    {
     "cell_type": "markdown",
     "metadata": {},
     "source": [
      "An alternative formulation of the tensor response function for the special case of:\n",
      "\n",
      "$Q = \\left( \\begin{array}{ccc}\n",
      "1 & 0 & 0 \\\\\n",
      "0 & 0 & 0 \\\\\n",
      "0 & 0 & 0 \\end{array} \\right)\\ $ \n",
      "\n",
      "Is the following function:\n",
      "\n",
      "$S(\\theta, b) = S_0 e^{-b \\cdot (\\theta \\cdot \\vec{v})^2}$ \n",
      "\n",
      "Where $b$ is a scalar, $\\theta$ is a vector and $v = (1,0,0)$\n",
      "\n",
      "Note that both $Q$ and $v$ can be rotated around to point at any direction on the sphere, by pre-multpilication with a $ 3 \\times 3$ rotation matrix"
     ]
    },
    {
     "cell_type": "code",
     "collapsed": false,
     "input": [
      "# This is the implementation of the equation above:\n",
      "def response_func(bvecs, bvals, v, S0=1):\n",
      "    return S0 * np.exp(-1 * bvals * (np.dot(bvecs, v))**2)"
     ],
     "language": "python",
     "metadata": {},
     "outputs": [],
     "prompt_number": 4
    },
    {
     "cell_type": "markdown",
     "metadata": {},
     "source": [
      "The following is just to convince ourselves that the two are really equivalent"
     ]
    },
    {
     "cell_type": "code",
     "collapsed": false,
     "input": [
      "v = [1,0,0]\n",
      "pred_sig2 = response_func(bvecs.T, bvals, v)"
     ],
     "language": "python",
     "metadata": {},
     "outputs": [],
     "prompt_number": 5
    },
    {
     "cell_type": "code",
     "collapsed": false,
     "input": [
      "np.allclose(pred_sig1, pred_sig2)"
     ],
     "language": "python",
     "metadata": {},
     "outputs": [
      {
       "metadata": {},
       "output_type": "pyout",
       "prompt_number": 6,
       "text": [
        "True"
       ]
      }
     ],
     "prompt_number": 6
    },
    {
     "cell_type": "markdown",
     "metadata": {},
     "source": [
      "Another way to think of this response function is as a function of the angular difference between $\\theta$ and $v$\n",
      "\n",
      "$\\theta \\cdot v  = cos(\\alpha)$ \n",
      "\n",
      "Where $\\alpha$ is the angle between the vectors $\\theta$ and $v$  \n",
      "\n",
      "$ \\Rightarrow  S(\\theta, b) = S_0 e^{-b \\cdot (cos ^2(\\alpha))} $ \n",
      "\n",
      "Let's implement that explicitely:"
     ]
    },
    {
     "cell_type": "code",
     "collapsed": false,
     "input": [
      "def response_func_ang(angles, bvals, S0=1):\n",
      "    return S0 * np.exp(-1 * bvals * cos(angles)**2)"
     ],
     "language": "python",
     "metadata": {},
     "outputs": [],
     "prompt_number": 7
    },
    {
     "cell_type": "code",
     "collapsed": false,
     "input": [
      "angles = np.array([ozu.vector_angle(v, bv) for bv in bvecs.T])\n",
      "np.allclose(response_func_ang(angles, bvals), response_func(bvecs.T, bvals, v))"
     ],
     "language": "python",
     "metadata": {},
     "outputs": [
      {
       "metadata": {},
       "output_type": "pyout",
       "prompt_number": 8,
       "text": [
        "True"
       ]
      }
     ],
     "prompt_number": 8
    },
    {
     "cell_type": "markdown",
     "metadata": {},
     "source": [
      "The utility of this new function is that finding the derivative with respect to $\\alpha$ is relatively easy: \n",
      "\n",
      "We define: \n",
      "\n",
      "$f(\\alpha, b) = -b (cos ^2(\\alpha))$\n",
      "\n",
      "Because $S(\\alpha, b)$ is an exponential function: \n",
      "\n",
      "$\\frac{d S(\\alpha, b)} {d{\\alpha}} = f'(\\alpha) e{^{f(\\alpha, b)}}$\n",
      "\n",
      "where \n",
      "\n",
      "$ f'(\\alpha) = 2 cos(\\alpha) sin(\\alpha) $\n",
      "\n",
      "$\\Rightarrow \\frac{d S(\\alpha, b)} {d{\\alpha}} = 2cos(\\alpha)sin(\\alpha) e ^{-b cos^2(\\alpha)}$\n",
      "\n",
      "And we can embed the calculation of the angles $\\alpha$ into the function itself, to calculate the derivative: "
     ]
    },
    {
     "cell_type": "code",
     "collapsed": false,
     "input": [
      "def response_func_derivative(bvecs, bvals, v, S0=1):\n",
      "    angles = [ozu.vector_angle(v, bv) for bv in bvecs]\n",
      "    return  2 * np.cos(angles) * np.sin(angles) * np.exp(-bvals * (np.cos(angles) **2))"
     ],
     "language": "python",
     "metadata": {},
     "outputs": [],
     "prompt_number": 9
    },
    {
     "cell_type": "markdown",
     "metadata": {},
     "source": [
      "We can compare this function to a numerical estimate of the derivative by angles: "
     ]
    },
    {
     "cell_type": "code",
     "collapsed": false,
     "input": [
      "idx = np.argsort(angles)\n",
      "resp = response_func(bvecs.T, bvals, v)\n",
      "num_derivative = np.diff(resp[idx]) / np.diff(angles[idx])"
     ],
     "language": "python",
     "metadata": {},
     "outputs": [
      {
       "output_type": "stream",
       "stream": "stderr",
       "text": [
        "-c:3: RuntimeWarning: invalid value encountered in divide\n"
       ]
      }
     ],
     "prompt_number": 10
    },
    {
     "cell_type": "code",
     "collapsed": false,
     "input": [
      "fig, (ax1, ax2, ax3) = plt.subplots(3)\n",
      "ax1.plot(angles, resp, '.')\n",
      "ax2.plot(angles, response_func_derivative(bvecs.T, bvals, v), '.')\n",
      "ax3.plot(angles[idx][1:], num_derivative, '.')"
     ],
     "language": "python",
     "metadata": {},
     "outputs": [
      {
       "metadata": {},
       "output_type": "pyout",
       "prompt_number": 11,
       "text": [
        "[<matplotlib.lines.Line2D at 0x10d625850>]"
       ]
      },
      {
       "metadata": {},
       "output_type": "display_data",
       "png": "[encoded data removed]",
       "text": [
        "<matplotlib.figure.Figure at 0x10d6210d0>"
       ]
      }
     ],
     "prompt_number": 11
    },
    {
     "cell_type": "markdown",
     "metadata": {},
     "source": [
      "OK - there still seems to be some scaling issue, but the overall shape seems right. Onward and upward. \n",
      "\n"
     ]
    },
    {
     "cell_type": "code",
     "collapsed": false,
     "input": [],
     "language": "python",
     "metadata": {},
     "outputs": []
    }
   ],
   "metadata": {}
  }
 ]
}