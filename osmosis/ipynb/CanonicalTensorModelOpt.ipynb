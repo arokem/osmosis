{
 "metadata": {
  "name": "CanonicalTensorModelOpt"
 },
 "nbformat": 3,
 "worksheets": [
  {
   "cells": [
    {
     "cell_type": "code",
     "collapsed": false,
     "input": [
      "import os",
      "import nibabel as ni",
      "",
      "import osmosis as oz",
      "import osmosis.model as ozm",
      "import osmosis.viz as viz",
      "import osmosis.volume as ozv",
      "import osmosis.utils as ozu",
      "import osmosis.tensor as ozt ",
      "reload(ozt)",
      "reload(ozm)",
      "reload(ozu)",
      ""
     ],
     "language": "python",
     "outputs": [
      {
       "output_type": "pyout",
       "prompt_number": 47,
       "text": [
        "<module 'osmosis.utils' from '/Users/arokem/usr/lib/python2.7/site-packages/osmosis/utils.pyc'>"
       ]
      }
     ],
     "prompt_number": 47
    },
    {
     "cell_type": "code",
     "collapsed": true,
     "input": [
      "data_path = os.path.split(oz.__file__)[0] + '/data/'",
      "",
      "exts = ['nii.gz', 'bvecs', 'bvals']",
      "dwi1, bvecs1, bvals1  = [data_path + '0009_01_DWI_2mm150dir_2x_b1000_aligned_trilin.' + ext for ext in exts]",
      "dwi2, bvecs2, bvals2  = [data_path + '0011_01_DWI_2mm150dir_2x_b1000_aligned_trilin.' + ext for ext in exts]"
     ],
     "language": "python",
     "outputs": [],
     "prompt_number": 48
    },
    {
     "cell_type": "code",
     "collapsed": false,
     "input": [
      "# These are based on the calculations in GetADandRD",
      "AD1=1.7139 ",
      "RD1=0.3887",
      "AD2=1.6986 ",
      "RD2=0.3760"
     ],
     "language": "python",
     "outputs": [],
     "prompt_number": 49
    },
    {
     "cell_type": "code",
     "collapsed": false,
     "input": [
      "mask_array = np.zeros((81, 106, 76))",
      "mask_array[40:42,40:42,40:42] = 1",
      "",
      "Model1 = ozm.CanonicalTensorModelOpt(dwi1,",
      "                                     bvecs1,",
      "                                     bvals1,",
      "                                     # mask=data_path + 'brainMask.nii.gz',",
      "                                     mask=mask_array,",
      "                                     radial_diffusivity=RD1,",
      "                                     axial_diffusivity=AD1,",
      "                                   model_form = 'ball_and_stick'                                 ",
      "                                      )",
      " ",
      "Model2 = ozm.CanonicalTensorModelOpt(dwi2,",
      "                                     bvecs2,",
      "                                     bvals2,",
      "                                     mask=data_path + 'brainMask.nii.gz',",
      "                                     radial_diffusivity=RD2,",
      "                                     axial_diffusivity=AD2,",
      "                                     )",
      "",
      "",
      "TM1 = ozm.TensorModel(dwi1, ",
      "                      bvecs1, ",
      "                      bvals1,",
      "                      mask=data_path + 'brainMask.nii.gz')",
      "",
      "TM2 = ozm.TensorModel(dwi2, ",
      "                      bvecs2, ",
      "                      bvals2,",
      "                      mask=data_path + 'brainMask.nii.gz')"
     ],
     "language": "python",
     "outputs": [
      {
       "output_type": "stream",
       "stream": "stdout",
       "text": [
        "Loading from file: /Users/arokem/usr/lib/python2.7/site-packages/osmosis/data/0009_01_DWI_2mm150dir_2x_b1000_aligned_trilin.bvals",
        "Loading from file: /Users/arokem/usr/lib/python2.7/site-packages/osmosis/data/0009_01_DWI_2mm150dir_2x_b1000_aligned_trilin.bvecs",
        "Loading from file: /Users/arokem/usr/lib/python2.7/site-packages/osmosis/data/0009_01_DWI_2mm150dir_2x_b1000_aligned_trilin.nii.gz",
        "Loading from file: /Users/arokem/usr/lib/python2.7/site-packages/osmosis/data/0011_01_DWI_2mm150dir_2x_b1000_aligned_trilin.bvals"
       ]
      },
      {
       "output_type": "stream",
       "stream": "stdout",
       "text": [
        "",
        "Loading from file: /Users/arokem/usr/lib/python2.7/site-packages/osmosis/data/0011_01_DWI_2mm150dir_2x_b1000_aligned_trilin.bvecs"
       ]
      },
      {
       "output_type": "stream",
       "stream": "stdout",
       "text": [
        "",
        "Loading from file: /Users/arokem/usr/lib/python2.7/site-packages/osmosis/data/0011_01_DWI_2mm150dir_2x_b1000_aligned_trilin.nii.gz",
        "Loading from file: /Users/arokem/usr/lib/python2.7/site-packages/osmosis/data/0009_01_DWI_2mm150dir_2x_b1000_aligned_trilin.bvals"
       ]
      },
      {
       "output_type": "stream",
       "stream": "stdout",
       "text": [
        "",
        "Loading from file: /Users/arokem/usr/lib/python2.7/site-packages/osmosis/data/0011_01_DWI_2mm150dir_2x_b1000_aligned_trilin.bvals"
       ]
      },
      {
       "output_type": "stream",
       "stream": "stdout",
       "text": [
        "",
        ""
       ]
      }
     ],
     "prompt_number": 50
    },
    {
     "cell_type": "code",
     "collapsed": false,
     "input": [
      "Model1.model_params[40:42,40:42,40:42]"
     ],
     "language": "python",
     "outputs": [
      {
       "output_type": "stream",
       "stream": "stdout",
       "text": [
        " ",
        "CanonicalTensorModelOpt._optimize [*****************88%*************     ]  7 of 8 complete ",
        ""
       ]
      },
      {
       "output_type": "pyout",
       "prompt_number": 51,
       "text": [
        "array([[[[ 0.        ,  0.        ,  0.27703011,  0.27703011],",
        "         [ 0.        ,  0.        ,  0.27703011,  0.27703011]],",
        "",
        "        [[ 0.        ,  0.        ,  0.27703011,  0.27703011],",
        "         [ 0.        ,  0.        ,  0.27703011,  0.27703011]]],",
        "",
        "",
        "       [[[ 0.        ,  0.        ,  0.27703011,  0.27703011],",
        "         [ 0.        ,  0.        ,  0.27703011,  0.27703011]],",
        "",
        "        [[ 0.        ,  0.        ,  0.27703011,  0.27703011],",
        "         [ 0.        ,  0.        ,  0.27703011,  0.27703011]]]])"
       ]
      },
      {
       "output_type": "stream",
       "stream": "stdout",
       "text": [
        "",
        ""
       ]
      }
     ],
     "prompt_number": 51
    },
    {
     "cell_type": "code",
     "collapsed": false,
     "input": [
      "ax = viz.quick_ax()",
      "to_hist1 = Model1.model_params[Model1.mask,1]",
      "ax.hist(to_hist1[np.isfinite(to_hist1)], histtype='step',bins=1000, label='Canonical tensor parameter')",
      "to_hist2 = Model1.model_params[Model1.mask,2]",
      "ax.hist(to_hist2[np.isfinite(to_hist2)], histtype='step', bins=1000, label='Sphere parameter')",
      "fig = ax.get_figure()",
      "fig.set_size_inches([10,5])",
      "#ax.set_xlim([0,20])",
      "ax.set_xlabel('Parameter value')",
      "ax.set_ylabel('# voxels')",
      "ax.legend()"
     ],
     "language": "python",
     "outputs": [
      {
       "output_type": "pyout",
       "prompt_number": 36,
       "text": [
        "<matplotlib.legend.Legend at 0x1020b29d0>"
       ]
      },
      {
       "output_type": "display_data",
       "png": "[encoded data removed]"
      }
     ],
     "prompt_number": 36
    },
    {
     "cell_type": "code",
     "collapsed": true,
     "input": [
      ""
     ],
     "language": "python",
     "outputs": []
    },
    {
     "cell_type": "code",
     "collapsed": true,
     "input": [
      "qtconsole"
     ],
     "language": "python",
     "outputs": []
    },
    {
     "cell_type": "code",
     "collapsed": true,
     "input": [
      "ax = viz.quick_ax()",
      "ax.hist((to_hist1 + to_hist2)[~np.isnan(to_hist1 + to_hist2)],bins=1000,histtype='step')",
      "ax.set_xlabel('Sum of parameter values')",
      "ax.set_ylabel('# voxels')",
      "#ax.set_xlim([0,1])",
      "",
      "idx = np.logical_and(to_hist1<1, to_hist2<1)",
      "fig = viz.scatter_density(to_hist1[idx], to_hist2[idx])",
      "fig.axes[0].set_xlabel('Canonical tensor parameter')",
      "fig.axes[0].set_ylabel('Sphere parameter')",
      "fig.set_size_inches([10,10])"
     ],
     "language": "python",
     "outputs": []
    },
    {
     "cell_type": "code",
     "collapsed": false,
     "input": [
      "# Add [0,1] to force the axes to be [0,1.5]",
      "",
      "fig = viz.scatter_density(np.hstack([to_hist2[idx],[0,2]]), ",
      "                          np.hstack([np.mean(Model1.signal_attenuation,-1)[Model1.mask][idx],[0,2]]))",
      "fig.axes[0].set_xlabel('Sphere parameter')",
      "fig.axes[0].set_ylabel('Signal attenuation')",
      "fig.set_size_inches([10,10])",
      "fig.axes[0].plot([100,0],[0,100],'--k')",
      "",
      "",
      "# Add [0,1] to force the axes to be [0,1]",
      "fig = viz.scatter_density(np.hstack([to_hist1[idx],[0,1.5]]), ",
      "                          np.hstack([np.mean(Model1.signal_attenuation,-1)[Model1.mask][idx],[0,1.5]]))",
      "fig.axes[0].set_xlabel('Canonical tensor parameter')",
      "fig.axes[0].set_ylabel('Signal attenuation')",
      "fig.set_size_inches([10,10])",
      "fig.axes[0].plot([100,0],[0,100],'--k')",
      "",
      "",
      "# Add [0,1] to force the axes to be [0,1]",
      "fig = viz.scatter_density(np.hstack([to_hist1[idx]+to_hist2[idx],[0,2]]), ",
      "                          np.hstack([np.mean(Model1.signal_attenuation,-1)[Model1.mask][idx],[0,2]]))",
      "fig.axes[0].set_xlabel('Tensor + sphere')",
      "fig.axes[0].set_ylabel('Signal attenuation')",
      "fig.set_size_inches([10,10])",
      "fig.axes[0].plot([100,0],[0,100],'--k')",
      "",
      "fig = viz.scatter_density(np.hstack([to_hist1[idx] + np.sqrt(to_hist1[idx])+to_hist2[idx],[0,2]]), ",
      "                          np.hstack([np.mean(Model1.signal_attenuation,-1)[Model1.mask][idx],[0,2]]))",
      "fig.axes[0].set_xlabel('$\\sqrt{Tensor}$ + sphere')",
      "fig.axes[0].set_ylabel('Signal attenuation')",
      "fig.set_size_inches([10,10])",
      "fig.axes[0].plot([100,0],[0,100],'--k')",
      "",
      "",
      "# Add [0,1] to force the axes to be [0,1]",
      "fig = viz.scatter_density(np.hstack([to_hist1[idx],[0,1]]), np.hstack([TM1.fiber_volume_fraction[Model1.mask][idx], [0,1]]))",
      "fig.axes[0].set_xlabel('Tensor parameter')",
      "fig.axes[0].set_ylabel('FVF')",
      "fig.set_size_inches([10,10])",
      "",
      "fig.axes[0].plot([100,0],[0,100],'--k')",
      "",
      "# Add [0,1] to force the axes to be [0,1]",
      "fig = viz.scatter_density(np.hstack([to_hist1[idx],[0,1]]), np.hstack([TM1.fractional_anisotropy[Model1.mask][idx], [0,1]]))",
      "fig.axes[0].set_xlabel('Tensor parameter')",
      "fig.axes[0].set_ylabel('Fractional anistropy')",
      "fig.set_size_inches([10,10])",
      "",
      "fig.axes[0].plot([100,0],[0,100],'--k')"
     ],
     "language": "python",
     "outputs": []
    },
    {
     "cell_type": "code",
     "collapsed": false,
     "input": [
      "T1 = ni.load(data_path + 'FP_t1_resampled_to_dwi.nii.gz').get_data()"
     ],
     "language": "python",
     "outputs": []
    },
    {
     "cell_type": "code",
     "collapsed": false,
     "input": [
      "ax = viz.quick_ax()",
      "ax.hist(to_hist2[idx] - np.mean(Model1.signal_attenuation,-1)[Model1.mask][idx], histtype='step', bins=100)",
      "ax.get_figure().set_size_inches([10,5])",
      "ax.set_xlim(-0.5, 0.5)",
      "ax.set_ylabel('# voxels')",
      "ax.set_xlabel('Sphere parameter - ${S}/{S_0}$')",
      "",
      "",
      "compare_em = Model1.model_params[...,2] - np.mean(Model1.signal_attenuation,-1)",
      "compare_em[compare_em>-0.2] = np.nan",
      "fig = viz.mosaic(T1.T, cmap=matplotlib.cm.bone, cbar=False)",
      "fig,cbar = viz.mosaic(compare_em.T, fig=fig, vmin=-0.4, vmax=0.4, return_cbar=True)",
      "fig.set_size_inches([15,10])",
      "cbar.set_ticks([-0.4, 0, 0.4])"
     ],
     "language": "python",
     "outputs": []
    },
    {
     "cell_type": "code",
     "collapsed": false,
     "input": [
      "fig = viz.mosaic(T1.T, cmap=matplotlib.cm.bone, cbar=False)",
      "fig = viz.mosaic(Model1.model_params[:,:,:,1].T, fig=fig, cmap=matplotlib.cm.hot, vmax=1)",
      "fig.set_size_inches([12,8])",
      "",
      "fig = viz.mosaic(T1.T, cmap=matplotlib.cm.bone, cbar=False)",
      "fig = viz.mosaic(Model1.model_params[:,:,:,2].T,fig=fig, cmap=matplotlib.cm.hot, vmax=10)",
      "fig.set_size_inches([12,8])",
      "",
      "fig = viz.mosaic(T1.T, cmap=matplotlib.cm.bone, cbar=False)",
      "fig = viz.mosaic(Model1.model_params[:,:,:,1].T+Model1.model_params[:,:,:,2].T,fig=fig, cmap=matplotlib.cm.hot, vmax=1)",
      "fig.set_size_inches([12,8])",
      "",
      "",
      "to_map = (np.mean(TM1.signal_attenuation,-1).T - Model1.model_params[:,:,:,1].T + Model1.model_params[:,:,:,2].T)",
      "to_map[np.logical_and(to_map<0.3, to_map>-0.3)] = np.nan",
      "    ",
      "fig = viz.mosaic(T1.T, cmap=matplotlib.cm.bone, cbar=False)",
      "fig = viz.mosaic(to_map,fig=fig, cmap=matplotlib.cm.RdBu_r,vmax=1, vmin=-1)",
      "",
      "fig.set_size_inches([12,8])"
     ],
     "language": "python",
     "outputs": []
    },
    {
     "cell_type": "code",
     "collapsed": false,
     "input": [
      "fractional_anisotropy = ((Model.model_params[:,:,:,1]-Model.model_params[:,:,:,2])/",
      "                        (Model.model_params[:,:,:,1] + Model.model_params[:,:,:,2]))",
      "",
      "ax = viz.quick_ax()",
      "ax.hist(fractional_anisotropy[~np.isnan(fractional_anisotropy)],histtype='step', bins=100)",
      "ax.set_xlim([-1,1])",
      "ax.set_xlabel('$ (w_1 - w_2)/(w_1 + w_2) $')",
      "ax.set_ylabel('# voxels')"
     ],
     "language": "python",
     "outputs": []
    },
    {
     "cell_type": "code",
     "collapsed": false,
     "input": [
      "fig = viz.mosaic(T1.T, cmap=matplotlib.cm.bone, cbar=False)",
      "fig = viz.mosaic(fractional_anisotropy.T,fig=fig, cmap=matplotlib.cm.RdBu_r, vmax=1, vmin=-1)",
      "fig.set_size_inches([12,8])"
     ],
     "language": "python",
     "outputs": []
    },
    {
     "cell_type": "code",
     "collapsed": false,
     "input": [
      "fig = viz.scatter_density(fractional_anisotropy.ravel(), TM1.linearity.ravel())",
      "fig.axes[0].set_xlabel('$(w_1-w_2)/(w_1 + w_2)$')",
      "fig.axes[0].set_ylabel('Tensor linearity')",
      "fig.set_size_inches([12,10])",
      "",
      "fig = viz.scatter_density(fractional_anisotropy.ravel(), TM1.sphericity.ravel())",
      "fig.axes[0].set_xlabel('$(w_1-w_2)/(w_1 + w_2)$')",
      "fig.axes[0].set_ylabel('Tensor sphericity')",
      "fig.set_size_inches([12,10])",
      "",
      "fig = viz.scatter_density(fractional_anisotropy.ravel(), TM1.planarity.ravel())",
      "fig.axes[0].set_xlabel('$(w_1-w_2)/(w_1 + w_2)$')",
      "fig.axes[0].set_ylabel('Tensor planarity')",
      "fig.set_size_inches([12,10])"
     ],
     "language": "python",
     "outputs": []
    },
    {
     "cell_type": "code",
     "collapsed": false,
     "input": [
      "signal_rmse = np.nan * np.ones(Model.shape[:3])",
      "signal_rmse[Model.mask] = ozu.rmse(Model._flat_signal, TM2._flat_signal)",
      "model_rmse = np.nan * np.ones(Model.shape[:3])",
      "model_rmse[Model.mask] = ozu.rmse(Model.fit[Model.mask], TM2._flat_signal)",
      "relative_rmse = np.nan * np.ones(Model.shape[:3])",
      "relative_rmse = model_rmse/signal_rmse",
      "relative_rmse[np.isinf(relative_rmse)] = np.nan",
      "ax = viz.quick_ax()",
      "ax.hist(relative_rmse[~np.isnan(relative_rmse)],histtype='step',bins=100, color='g')",
      "fig = ax.get_figure()",
      "fig.set_size_inches([10,5])",
      "ax.set_xlim([0,2])",
      "",
      "ax.set_ylabel('# voxels')",
      "ax.set_xlabel('$RMSE_{relative}$')",
      "ax.set_title('Canonical Tensor model')"
     ],
     "language": "python",
     "outputs": []
    },
    {
     "cell_type": "code",
     "collapsed": false,
     "input": [
      "fig = viz.mosaic(T1.T, cbar=False, cmap=matplotlib.cm.bone)",
      "to_show = relative_rmse.copy()",
      "lb = 0.9",
      "ub = 1.5",
      "to_show[np.logical_or(to_show<lb, to_show>ub)] = np.nan",
      "",
      "fig = viz.mosaic(to_show.T, fig=fig, cmap=matplotlib.cm.YlOrRd,vmin=0, vmax=1.5)",
      "fig.set_size_inches([15,10])",
      "",
      "fig2 = viz.mosaic(T1.T, cbar=False, cmap=matplotlib.cm.bone)",
      "fig2 = viz.mosaic(relative_rmse.T, fig=fig2, cmap=matplotlib.cm.YlOrRd,vmin=0, vmax=1.5)",
      "",
      "fig2.set_size_inches([15,10])"
     ],
     "language": "python",
     "outputs": []
    },
    {
     "cell_type": "code",
     "collapsed": false,
     "input": [
      "fig = viz.scatter_density(fractional_anisotropy.ravel(),relative_rmse.ravel())",
      "fig.axes[0].set_xlabel('$(w_1-w_2)/(w_1 + w_2)$')",
      "fig.axes[0].set_ylabel('$RMSE_{relative}$')",
      "fig.set_size_inches([12,10])"
     ],
     "language": "python",
     "outputs": []
    },
    {
     "cell_type": "code",
     "collapsed": false,
     "input": [
      "fig = viz.scatter_density(relative_rmse.ravel(), TM2.planarity.ravel())",
      "fig.axes[0].set_xlabel('$RMSE_{relative}$')",
      "fig.axes[0].set_ylabel('Tensor planarity')",
      "fig.set_size_inches([12,10])"
     ],
     "language": "python",
     "outputs": []
    },
    {
     "cell_type": "code",
     "collapsed": true,
     "input": [
      ""
     ],
     "language": "python",
     "outputs": []
    }
   ]
  }
 ]
}