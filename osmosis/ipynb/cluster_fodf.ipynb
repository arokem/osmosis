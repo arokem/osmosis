{
 "metadata": {
  "name": "",
  "signature": "sha256:1fe5f00b12b361aecf2e60304db44382bd92b0461f4447f3ac6a386983f6f23d"
 },
 "nbformat": 3,
 "nbformat_minor": 0,
 "worksheets": [
  {
   "cells": [
    {
     "cell_type": "code",
     "collapsed": false,
     "input": [
      "import numpy as np"
     ],
     "language": "python",
     "metadata": {},
     "outputs": [],
     "prompt_number": 1
    },
    {
     "cell_type": "code",
     "collapsed": false,
     "input": [
      "import os\n",
      "import tempfile\n",
      "from IPython.display import Image, display\n",
      "\n",
      "import nibabel as ni\n",
      "\n",
      "import osmosis as oz\n",
      "import osmosis.model.analysis as ozm\n",
      "import osmosis.model.dti as dti\n",
      "import osmosis.model.sparse_deconvolution as ssd\n",
      "\n",
      "\n",
      "import osmosis.viz.maya as maya\n",
      "reload(maya)\n",
      "import osmosis.viz.mpl as mpl\n",
      "\n",
      "import osmosis.utils as ozu\n",
      "import osmosis.volume as ozv\n",
      "import osmosis.io as oio\n",
      "oio.data_path = os.path.join('/biac4/wandell/data/osmosis/')\n",
      "import osmosis.tensor as ozt"
     ],
     "language": "python",
     "metadata": {},
     "outputs": [],
     "prompt_number": 2
    },
    {
     "cell_type": "code",
     "collapsed": false,
     "input": [
      "subject = 'SUB1'\n",
      "data_1k_1, data_1k_2 = oio.get_dwi_data(1000, subject)\n",
      "data_2k_1, data_2k_2 = oio.get_dwi_data(2000, subject)\n",
      "data_4k_1, data_4k_2 = oio.get_dwi_data(4000, subject)"
     ],
     "language": "python",
     "metadata": {},
     "outputs": [],
     "prompt_number": 3
    },
    {
     "cell_type": "code",
     "collapsed": false,
     "input": [
      "# A voxel in the optic radiation:\n",
      "# vox_idx = (26,22,33)\n",
      "# A voxel in CC: \n",
      "# vox_idx = (39, 38, 32)\n",
      "# vox_idx = (39, 51, 42)\n",
      "# vox_idx = (40, 74, 34)\n",
      "# A voxel in the centrum semioval: \n",
      "vox_idx = (53, 43, 47)\n",
      "mask = np.zeros(ni.load(data_1k_1[0]).shape[:3])\n",
      "mask[vox_idx[0]-1:vox_idx[0]+1, vox_idx[1], vox_idx[2]]=1"
     ],
     "language": "python",
     "metadata": {},
     "outputs": [],
     "prompt_number": 4
    },
    {
     "cell_type": "code",
     "collapsed": false,
     "input": [
      "# This is the optimal, according to the rRMSE median across b vals:  \n",
      "import sklearn.linear_model as lm\n",
      "alpha = 0.0001\n",
      "l1_ratio = 1.0\n",
      "solver = lm.ElasticNet\n",
      "solver_params = dict(alpha=alpha,\n",
      "                     l1_ratio=l1_ratio,\n",
      "                     fit_intercept=False,\n",
      "                     positive=True)\n",
      "\n",
      "\n",
      "ad_rd = oio.get_ad_rd(subject, 1000)\n",
      "SD_1k_1 = ssd.SparseDeconvolutionModel(*data_1k_1, mask=mask, solver_params=solver_params, params_file='temp', axial_diffusivity=ad_rd[0]['AD'], radial_diffusivity=ad_rd[0]['RD'])\n",
      "SD_1k_2 = ssd.SparseDeconvolutionModel(*data_1k_2, mask=mask, solver_params=solver_params, params_file='temp', axial_diffusivity=ad_rd[1]['AD'], radial_diffusivity=ad_rd[1]['RD'])\n",
      "ad_rd = oio.get_ad_rd(subject, 2000)\n",
      "SD_2k_1 = ssd.SparseDeconvolutionModel(*data_2k_1, mask=mask, solver_params=solver_params, params_file='temp', axial_diffusivity=ad_rd[0]['AD'], radial_diffusivity=ad_rd[0]['RD'])\n",
      "SD_2k_2 = ssd.SparseDeconvolutionModel(*data_2k_2, mask=mask, solver_params=solver_params, params_file='temp', axial_diffusivity=ad_rd[1]['AD'], radial_diffusivity=ad_rd[1]['RD'])\n",
      "ad_rd = oio.get_ad_rd(subject, 4000)\n",
      "SD_4k_1 = ssd.SparseDeconvolutionModel(*data_4k_1, mask=mask, solver_params=solver_params, params_file='temp', axial_diffusivity=ad_rd[0]['AD'], radial_diffusivity=ad_rd[0]['RD'])\n",
      "SD_4k_2 = ssd.SparseDeconvolutionModel(*data_4k_2, mask=mask, solver_params=solver_params, params_file='temp', axial_diffusivity=ad_rd[1]['AD'], radial_diffusivity=ad_rd[1]['RD'])"
     ],
     "language": "python",
     "metadata": {},
     "outputs": [
      {
       "output_type": "stream",
       "stream": "stdout",
       "text": [
        "Loading from file: /biac4/wandell/data/osmosis/SUB1/SUB1_b1000_1.bvals\n",
        "Loading from file: /biac4/wandell/data/osmosis/SUB1/SUB1_b1000_1.nii.gz\n",
        "Loading from file: /biac4/wandell/data/osmosis/SUB1/SUB1_b1000_1.bvecs"
       ]
      },
      {
       "output_type": "stream",
       "stream": "stdout",
       "text": [
        "\n",
        "Loading from file: /biac4/wandell/data/osmosis/SUB1/SUB1_b1000_2.bvals"
       ]
      },
      {
       "output_type": "stream",
       "stream": "stdout",
       "text": [
        "\n",
        "Loading from file: /biac4/wandell/data/osmosis/SUB1/SUB1_b1000_2.nii.gz\n",
        "Loading from file: /biac4/wandell/data/osmosis/SUB1/SUB1_b1000_2.bvecs"
       ]
      },
      {
       "output_type": "stream",
       "stream": "stdout",
       "text": [
        "\n",
        "Loading from file: /biac4/wandell/data/osmosis/SUB1/SUB1_b2000_1.bvals"
       ]
      },
      {
       "output_type": "stream",
       "stream": "stdout",
       "text": [
        "\n",
        "Loading from file: /biac4/wandell/data/osmosis/SUB1/SUB1_b2000_1.nii.gz\n",
        "Loading from file: /biac4/wandell/data/osmosis/SUB1/SUB1_b2000_1.bvecs"
       ]
      },
      {
       "output_type": "stream",
       "stream": "stdout",
       "text": [
        "\n",
        "Loading from file: /biac4/wandell/data/osmosis/SUB1/SUB1_b2000_2.bvals\n",
        "Loading from file: /biac4/wandell/data/osmosis/SUB1/SUB1_b2000_2.nii.gz\n",
        "Loading from file: /biac4/wandell/data/osmosis/SUB1/SUB1_b2000_2.bvecs"
       ]
      },
      {
       "output_type": "stream",
       "stream": "stdout",
       "text": [
        "\n",
        "Loading from file: /biac4/wandell/data/osmosis/SUB1/SUB1_b4000_1.bvals\n",
        "Loading from file: /biac4/wandell/data/osmosis/SUB1/SUB1_b4000_1.nii.gz\n",
        "Loading from file: /biac4/wandell/data/osmosis/SUB1/SUB1_b4000_1.bvecs"
       ]
      },
      {
       "output_type": "stream",
       "stream": "stdout",
       "text": [
        "\n",
        "Loading from file: /biac4/wandell/data/osmosis/SUB1/SUB1_b4000_2.bvals\n",
        "Loading from file: /biac4/wandell/data/osmosis/SUB1/SUB1_b4000_2.nii.gz\n",
        "Loading from file: /biac4/wandell/data/osmosis/SUB1/SUB1_b4000_2.bvecs"
       ]
      },
      {
       "output_type": "stream",
       "stream": "stdout",
       "text": [
        "\n"
       ]
      }
     ],
     "prompt_number": 31
    },
    {
     "cell_type": "code",
     "collapsed": false,
     "input": [
      "fodf_1k = SD_1k_1.model_params[vox_idx]\n",
      "#fodf_2k = SD_2k_1.model_params[vox_idx]\n",
      "#fodf_4k = SD_4k_1.model_params[vox_idx]"
     ],
     "language": "python",
     "metadata": {},
     "outputs": [
      {
       "output_type": "stream",
       "stream": "stdout",
       "text": [
        " \r",
        "SparseDeconvolutionModel.model_params [*****************50%                  ]  1 of 2 complete "
       ]
      },
      {
       "output_type": "stream",
       "stream": "stdout",
       "text": [
        "\n"
       ]
      }
     ],
     "prompt_number": 32
    },
    {
     "cell_type": "code",
     "collapsed": false,
     "input": [
      "#cluster1k = SD_1k_1.cluster_fodf\n",
      "#cluster2k = SD_2k_1.cluster_fodf\n",
      "#cluster4k = SD_4k_1.cluster_fodf"
     ],
     "language": "python",
     "metadata": {},
     "outputs": [],
     "prompt_number": 26
    },
    {
     "cell_type": "code",
     "collapsed": false,
     "input": [
      "%gui wx\n",
      "fig = maya.plot_signal_interp(SD_4k_1.bvecs[:,SD_4k_1.b_idx], fodf_4k, origin=vox_idx, cmap='jet')\n",
      "#maya.plot_vectors(cluster1k[vox_idx], origin= vox_idx, figure=fig)\n",
      "\n",
      "#maya.plot_odf_interp(SD_2k_1.bvecs[:,SD_2k_1.b_idx], fodf_2k, origin=np.array(vox_idx) + 0.5, cmap='hot', figure=fig)\n",
      "#maya.plot_vectors(cluster2k[vox_idx], origin=np.array(vox_idx) + 0.5, figure=fig)\n",
      "\n",
      "#maya.plot_odf_interp(SD_4k_1.bvecs[:,SD_1k_1.b_idx], fodf_4k, origin=np.array(vox_idx) + 1, colorbar=True, cmap='hot',figure=fig)\n",
      "#maya.plot_vectors(cluster4k[vox_idx], figure=fig, origin=np.array(vox_idx) + 1)\n"
     ],
     "language": "python",
     "metadata": {},
     "outputs": [
      {
       "ename": "NameError",
       "evalue": "name 'fodf_4k' is not defined",
       "output_type": "pyerr",
       "traceback": [
        "\u001b[1;31m---------------------------------------------------------------------------\u001b[0m\n\u001b[1;31mNameError\u001b[0m                                 Traceback (most recent call last)",
        "\u001b[1;32m<ipython-input-27-51e4cc1ddb81>\u001b[0m in \u001b[0;36m<module>\u001b[1;34m()\u001b[0m\n\u001b[0;32m      1\u001b[0m \u001b[0mget_ipython\u001b[0m\u001b[1;33m(\u001b[0m\u001b[1;33m)\u001b[0m\u001b[1;33m.\u001b[0m\u001b[0mmagic\u001b[0m\u001b[1;33m(\u001b[0m\u001b[1;34mu'gui wx'\u001b[0m\u001b[1;33m)\u001b[0m\u001b[1;33m\u001b[0m\u001b[0m\n\u001b[1;32m----> 2\u001b[1;33m \u001b[0mfig\u001b[0m \u001b[1;33m=\u001b[0m \u001b[0mmaya\u001b[0m\u001b[1;33m.\u001b[0m\u001b[0mplot_signal_interp\u001b[0m\u001b[1;33m(\u001b[0m\u001b[0mSD_4k_1\u001b[0m\u001b[1;33m.\u001b[0m\u001b[0mbvecs\u001b[0m\u001b[1;33m[\u001b[0m\u001b[1;33m:\u001b[0m\u001b[1;33m,\u001b[0m\u001b[0mSD_4k_1\u001b[0m\u001b[1;33m.\u001b[0m\u001b[0mb_idx\u001b[0m\u001b[1;33m]\u001b[0m\u001b[1;33m,\u001b[0m \u001b[0mfodf_4k\u001b[0m\u001b[1;33m,\u001b[0m \u001b[0morigin\u001b[0m\u001b[1;33m=\u001b[0m\u001b[0mvox_idx\u001b[0m\u001b[1;33m,\u001b[0m \u001b[0mcmap\u001b[0m\u001b[1;33m=\u001b[0m\u001b[1;34m'jet'\u001b[0m\u001b[1;33m)\u001b[0m\u001b[1;33m\u001b[0m\u001b[0m\n\u001b[0m\u001b[0;32m      3\u001b[0m \u001b[1;31m#maya.plot_vectors(cluster1k[vox_idx], origin= vox_idx, figure=fig)\u001b[0m\u001b[1;33m\u001b[0m\u001b[1;33m\u001b[0m\u001b[0m\n\u001b[0;32m      4\u001b[0m \u001b[1;33m\u001b[0m\u001b[0m\n\u001b[0;32m      5\u001b[0m \u001b[1;31m#maya.plot_odf_interp(SD_2k_1.bvecs[:,SD_2k_1.b_idx], fodf_2k, origin=np.array(vox_idx) + 0.5, cmap='hot', figure=fig)\u001b[0m\u001b[1;33m\u001b[0m\u001b[1;33m\u001b[0m\u001b[0m\n",
        "\u001b[1;31mNameError\u001b[0m: name 'fodf_4k' is not defined"
       ]
      }
     ],
     "prompt_number": 27
    },
    {
     "cell_type": "code",
     "collapsed": false,
     "input": [
      "rrmse1k = ozm.cross_predict(SD_1k_1, SD_1k_2)"
     ],
     "language": "python",
     "metadata": {},
     "outputs": [
      {
       "output_type": "stream",
       "stream": "stdout",
       "text": [
        " \r",
        "SparseDeconvolutionModel.model_params [*****************50%                  ]  1 of 2 complete "
       ]
      },
      {
       "output_type": "stream",
       "stream": "stdout",
       "text": [
        "\n"
       ]
      }
     ],
     "prompt_number": 33
    },
    {
     "cell_type": "code",
     "collapsed": false,
     "input": [
      "print(rrmse1k[vox_idx])"
     ],
     "language": "python",
     "metadata": {},
     "outputs": [
      {
       "output_type": "stream",
       "stream": "stdout",
       "text": [
        "0.733953701576\n"
       ]
      }
     ],
     "prompt_number": 34
    },
    {
     "cell_type": "code",
     "collapsed": false,
     "input": [
      "%gui wx\n",
      "fig = maya.plot_signal_interp(SD_1k_1.bvecs[:,SD_1k_1.b_idx], fodf_1k, origin=vox_idx, cmap='jet')\n"
     ],
     "language": "python",
     "metadata": {},
     "outputs": [],
     "prompt_number": 35
    },
    {
     "cell_type": "code",
     "collapsed": false,
     "input": [],
     "language": "python",
     "metadata": {},
     "outputs": []
    }
   ],
   "metadata": {}
  }
 ]
}