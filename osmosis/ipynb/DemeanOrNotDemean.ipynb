{
 "metadata": {
  "kernelspec": {
   "codemirror_mode": {
    "name": "ipython",
    "version": 2
   },
   "display_name": "IPython (Python 2)",
   "language": "python",
   "name": "python2"
  },
  "name": "",
  "signature": "sha256:3e955b3afe5422adc9a3032629a84a9d1de8471d617edb475cebe8a6838a5ae0"
 },
 "nbformat": 3,
 "nbformat_minor": 0,
 "worksheets": [
  {
   "cells": [
    {
     "cell_type": "markdown",
     "metadata": {},
     "source": [
      "# Is demeaning the signal a good idea? "
     ]
    },
    {
     "cell_type": "code",
     "collapsed": false,
     "input": [
      "import nibabel as ni\n",
      "import numpy as np\n",
      "import osmosis.model.analysis as oza\n",
      "import osmosis.model.sparse_deconvolution as ssd\n",
      "import osmosis.model.dti as dti\n",
      "import osmosis.viz.mpl as mpl\n",
      "import matplotlib.pyplot as plt\n",
      "%matplotlib inline"
     ],
     "language": "python",
     "metadata": {},
     "outputs": [],
     "prompt_number": 1
    },
    {
     "cell_type": "markdown",
     "metadata": {},
     "source": [
      "We set the data-path to point to the installation-specific location of the data-files"
     ]
    },
    {
     "cell_type": "code",
     "collapsed": false,
     "input": [
      "import os\n",
      "import osmosis as oz\n",
      "import osmosis.io as oio\n",
      "oio.data_path = os.path.join(oz.__path__[0], 'data')"
     ],
     "language": "python",
     "metadata": {},
     "outputs": [],
     "prompt_number": 2
    },
    {
     "cell_type": "markdown",
     "metadata": {},
     "source": [
      "We generate strings pointing to all of the data-files for this subject:"
     ]
    },
    {
     "cell_type": "code",
     "collapsed": false,
     "input": [
      "subject = 'SUB1'\n",
      "data_1k_1, data_1k_2 = oio.get_dwi_data(1000, subject)\n",
      "data_2k_1, data_2k_2 = oio.get_dwi_data(2000, subject)\n",
      "data_4k_1, data_4k_2 = oio.get_dwi_data(4000, subject)"
     ],
     "language": "python",
     "metadata": {},
     "outputs": [],
     "prompt_number": 3
    },
    {
     "cell_type": "markdown",
     "metadata": {},
     "source": [
      "Wewill only look at white-matter voxels. This loads the white-matter mask:"
     ]
    },
    {
     "cell_type": "code",
     "collapsed": false,
     "input": [
      "wm_mask = np.zeros(ni.load(data_1k_1[0]).shape[:3])\n",
      "wm_nifti = ni.load(oio.data_path + '/%s/%s_wm_mask.nii.gz'%(subject, subject)).get_data()\n",
      "wm_mask[np.where(wm_nifti==1)] = 1\n",
      "\n",
      "# Start working on a small chunk:\n",
      "#wm_mask = np.zeros(wm_mask.shape)\n",
      "#wm_mask[40:42, 40:42, 40:42] = 1"
     ],
     "language": "python",
     "metadata": {},
     "outputs": []
    },
    {
     "cell_type": "markdown",
     "metadata": {},
     "source": [
      "The following are the parameters defining the performance of the Elastic Net solver , based on the calculations in AppendixA\n"
     ]
    },
    {
     "cell_type": "markdown",
     "metadata": {},
     "source": [
      "Initialize the class instances of the SFM objects, using AD/RD derived from the corpus callosum. Parameters are not saved (hence `temp`"
     ]
    },
    {
     "cell_type": "code",
     "collapsed": false,
     "input": [
      "ad_rd = oio.get_ad_rd(subject, 2000)\n",
      "\n",
      "SD_2k_1_nnls_demean = ssd.SparseDeconvolutionModel(*data_2k_1, mask=wm_mask,  params_file ='temp', \n",
      "                                       axial_diffusivity=ad_rd[0]['AD'], radial_diffusivity=ad_rd[0]['RD'], \n",
      "                                       solver='nnls')\n",
      "\n",
      "SD_2k_2_nnls_demean = ssd.SparseDeconvolutionModel(*data_2k_2, mask=wm_mask,  params_file ='temp', \n",
      "                                       axial_diffusivity=ad_rd[1]['AD'], radial_diffusivity=ad_rd[1]['RD'], \n",
      "                                       solver='nnls')\n",
      "\n",
      "SD_2k_1_nnls = ssd.SparseDeconvolutionModel(*data_2k_1, mask=wm_mask,  params_file ='temp', \n",
      "                                       axial_diffusivity=ad_rd[0]['AD'], radial_diffusivity=ad_rd[0]['RD'], \n",
      "                                       solver='nnls', demean=False)\n",
      "\n",
      "SD_2k_2_nnls = ssd.SparseDeconvolutionModel(*data_2k_2, mask=wm_mask,  params_file ='temp', \n",
      "                                       axial_diffusivity=ad_rd[1]['AD'], radial_diffusivity=ad_rd[1]['RD'], \n",
      "                                       solver='nnls', demean=False)\n",
      "\n",
      "SD_2k_1_EN_demean = ssd.SparseDeconvolutionModel(*data_2k_1, mask=wm_mask,  params_file ='temp', \n",
      "                                       axial_diffusivity=ad_rd[0]['AD'], radial_diffusivity=ad_rd[0]['RD'])\n",
      "\n",
      "SD_2k_2_EN_demean = ssd.SparseDeconvolutionModel(*data_2k_2, mask=wm_mask,  params_file ='temp', \n",
      "                                       axial_diffusivity=ad_rd[1]['AD'], radial_diffusivity=ad_rd[1]['RD'])\n",
      "\n",
      "SD_2k_1_EN = ssd.SparseDeconvolutionModel(*data_2k_1, mask=wm_mask,  params_file ='temp', \n",
      "                                       axial_diffusivity=ad_rd[0]['AD'], radial_diffusivity=ad_rd[0]['RD'],\n",
      "                                       demean=False)\n",
      "\n",
      "SD_2k_2_EN = ssd.SparseDeconvolutionModel(*data_2k_2, mask=wm_mask,  params_file ='temp', \n",
      "                                       axial_diffusivity=ad_rd[1]['AD'], radial_diffusivity=ad_rd[1]['RD'],\n",
      "                                       demean=False)"
     ],
     "language": "python",
     "metadata": {},
     "outputs": [
      {
       "output_type": "stream",
       "stream": "stdout",
       "text": [
        "Loading from file: /Users/arokem/usr/lib/python2.7/site-packages/osmosis/data/SUB1/SUB1_b2000_1.bvals\n",
        "Loading from file: /Users/arokem/usr/lib/python2.7/site-packages/osmosis/data/SUB1/SUB1_b2000_1.nii.gz\n",
        "Loading from file: /Users/arokem/usr/lib/python2.7/site-packages/osmosis/data/SUB1/SUB1_b2000_1.bvecs\n",
        "Loading from file: /Users/arokem/usr/lib/python2.7/site-packages/osmosis/data/SUB1/SUB1_b2000_2.bvals\n",
        "Loading from file: /Users/arokem/usr/lib/python2.7/site-packages/osmosis/data/SUB1/SUB1_b2000_2.nii.gz\n",
        "Loading from file: /Users/arokem/usr/lib/python2.7/site-packages/osmosis/data/SUB1/SUB1_b2000_2.bvecs\n",
        "Loading from file: /Users/arokem/usr/lib/python2.7/site-packages/osmosis/data/SUB1/SUB1_b2000_1.bvals\n",
        "Loading from file: /Users/arokem/usr/lib/python2.7/site-packages/osmosis/data/SUB1/SUB1_b2000_1.nii.gz\n",
        "Loading from file: /Users/arokem/usr/lib/python2.7/site-packages/osmosis/data/SUB1/SUB1_b2000_1.bvecs"
       ]
      }
     ]
    },
    {
     "cell_type": "markdown",
     "metadata": {},
     "source": [
      "Calculate rRMSEfor each b value , from a cross-prediction: fit the model to one data-set in each b value and predict the other data set. Calculations average across both directions (1=>2)"
     ]
    },
    {
     "cell_type": "code",
     "collapsed": false,
     "input": [
      "rrmse_2k_nnls = oza.cross_predict(SD_2k_1_nnls, SD_2k_2_nnls)\n",
      "rrmse_2k_nnls_demean = oza.cross_predict(SD_2k_1_nnls_demean, SD_2k_2_nnls_demean)\n",
      "rrmse_2k_EN = oza.cross_predict(SD_2k_1_EN, SD_2k_2_EN)\n",
      "rrmse_2k_EN_demean = oza.cross_predict(SD_2k_1_EN, SD_2k_2_EN_demean)\n"
     ],
     "language": "python",
     "metadata": {},
     "outputs": []
    },
    {
     "cell_type": "code",
     "collapsed": false,
     "input": [
      "#print(rrmse_2k_nnls[np.where(wm_mask==1)])\n",
      "#print(rrmse_2k_nnls_demean[np.where(wm_mask==1)])\n",
      "#print(rrmse_2k_EN_demean[np.where(wm_mask==1)])\n",
      "#print(rrmse_2k_EN[np.where(wm_mask==1)])"
     ],
     "language": "python",
     "metadata": {},
     "outputs": []
    },
    {
     "cell_type": "code",
     "collapsed": false,
     "input": [
      "fig = mpl.probability_hist(rrmse_2k_nnls[np.isfinite(rrmse_2k_nnls)], label='NNLS')\n",
      "fig = mpl.probability_hist(rrmse_2k_nnls_demean[np.isfinite(rrmse_2k_nnls_demean)], fig=fig, label='NNLS (demean)')\n",
      "fig = mpl.probability_hist(rrmse_2k_EN[np.isfinite(rrmse_2k_nnls)], fig=fig, label='Elastic Net')\n",
      "fig = mpl.probability_hist(rrmse_2k_EN_demean[np.isfinite(rrmse_2k_EN_demean)], fig=fig, label='Elastic Net (demean)')\n",
      "\n",
      "fig.axes[0].plot([1,1], fig.axes[0].get_ylim(), '--k')\n",
      "fig.axes[0].plot([1/np.sqrt(2),1/np.sqrt(2)], fig.axes[0].get_ylim(), '--k')\n",
      "fig.axes[0].set_xlim([0.6,1.4])\n",
      "plt.legend()"
     ],
     "language": "python",
     "metadata": {},
     "outputs": []
    },
    {
     "cell_type": "code",
     "collapsed": false,
     "input": [],
     "language": "python",
     "metadata": {},
     "outputs": []
    }
   ],
   "metadata": {}
  }
 ]
}