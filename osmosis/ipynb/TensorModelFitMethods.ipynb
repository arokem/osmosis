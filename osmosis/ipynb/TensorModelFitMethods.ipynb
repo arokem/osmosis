{
 "metadata": {
  "name": "TensorModelFitMethods"
 },
 "nbformat": 3,
 "nbformat_minor": 0,
 "worksheets": [
  {
   "cells": [
    {
     "cell_type": "code",
     "collapsed": false,
     "input": [
      "import os\n",
      "import nibabel as ni\n",
      "\n",
      "import scipy.stats as stats\n",
      "\n",
      "import osmosis as oz\n",
      "import osmosis.model as ozm\n",
      "import osmosis.viz as viz\n",
      "import osmosis.utils as ozu\n",
      "import osmosis.volume as ozv\n",
      "import osmosis.io as oio\n",
      "import osmosis.tensor as ozt\n",
      "reload(oio)\n",
      "reload(ozm)\n",
      "reload(ozu)\n",
      "reload(ozv)\n",
      "reload(viz)"
     ],
     "language": "python",
     "metadata": {},
     "outputs": [
      {
       "output_type": "pyout",
       "prompt_number": 18,
       "text": [
        "<module 'osmosis.viz' from '/Users/arokem/usr/lib/python2.7/site-packages/osmosis/viz.pyc'>"
       ]
      }
     ],
     "prompt_number": 18
    },
    {
     "cell_type": "code",
     "collapsed": false,
     "input": [
      "data_path = os.path.split(oz.__file__)[0] + '/data/'\n",
      "wm_mask = ni.load(data_path + 'FP_white_matter_resamp_to_dwi.nii.gz').get_data()\n",
      "mask_array = np.zeros(wm_mask.shape)\n",
      "mask_array[np.isfinite(wm_mask)] = 1\n",
      "mask_array[40:42, 40:42, 40:42]\n",
      "\n",
      "dwi_4k_1 = '0005_01_DWI_2mm150dir_2x_b4000_aligned_trilin.nii.gz'\n",
      "dwi_4k_2 = '0007_01_DWI_2mm150dir_2x_b4000_aligned_trilin.nii.gz'\n",
      "\n",
      "bvecs_4k_1 = '0005_01_DWI_2mm150dir_2x_b4000_aligned_trilin.bvecs'\n",
      "bvecs_4k_2 = '0007_01_DWI_2mm150dir_2x_b4000_aligned_trilin.bvecs'\n",
      "\n",
      "bvals_4k_1 = '0005_01_DWI_2mm150dir_2x_b4000_aligned_trilin.bvals'\n",
      "bvals_4k_2 = '0007_01_DWI_2mm150dir_2x_b4000_aligned_trilin.bvals'\n",
      "\n",
      "\n",
      "TM_4k_1_wls = ozm.TensorModel(data_path + dwi_4k_1, \n",
      "                          data_path + bvecs_4k_1, \n",
      "                          data_path + bvals_4k_1, \n",
      "                          mask=mask_array,\n",
      "                          params_file='temp')\n",
      "\n",
      "TM_4k_2_wls = ozm.TensorModel(data_path + dwi_4k_2, \n",
      "                          data_path + bvecs_4k_2, \n",
      "                          data_path + bvals_4k_2,\n",
      "                          mask=mask_array,\n",
      "                          params_file='temp')\n",
      "\n",
      "\n",
      "dwi_2k_1 = '0005_01_DTI_2mm_150dir_2x_b2000_aligned_trilin.nii.gz'\n",
      "dwi_2k_2 = '0007_01_DTI_2mm_150dir_2x_b2000_aligned_trilin.nii.gz'\n",
      "\n",
      "bvecs_2k_1 = '0005_01_DTI_2mm_150dir_2x_b2000_aligned_trilin.bvecs'\n",
      "bvecs_2k_2 = '0007_01_DTI_2mm_150dir_2x_b2000_aligned_trilin.bvecs'\n",
      "\n",
      "bvals_2k_1 = '0005_01_DTI_2mm_150dir_2x_b2000_aligned_trilin.bvals'\n",
      "bvals_2k_2 = '0007_01_DTI_2mm_150dir_2x_b2000_aligned_trilin.bvals'\n",
      "\n",
      "\n",
      "TM_2k_1_wls = ozm.TensorModel(data_path + dwi_2k_1, \n",
      "                          data_path + bvecs_2k_1, \n",
      "                          data_path + bvals_2k_1, \n",
      "                          mask=mask_array,\n",
      "                          params_file='temp')\n",
      "\n",
      "\n",
      "TM_2k_2_wls = ozm.TensorModel(data_path + dwi_2k_2, \n",
      "                          data_path + bvecs_2k_2, \n",
      "                          data_path + bvals_2k_2,\n",
      "                          mask=mask_array,\n",
      "                            params_file='temp')\n",
      "\n",
      "dwi_1k_1 = '0009_01_DWI_2mm150dir_2x_b1000_aligned_trilin.nii.gz'\n",
      "dwi_1k_2 = '0011_01_DWI_2mm150dir_2x_b1000_aligned_trilin.nii.gz'\n",
      "\n",
      "bvecs_1k_1 = '0009_01_DWI_2mm150dir_2x_b1000_aligned_trilin.bvecs'\n",
      "bvecs_1k_2 = '0011_01_DWI_2mm150dir_2x_b1000_aligned_trilin.bvecs'\n",
      "\n",
      "bvals_1k_1 = '0009_01_DWI_2mm150dir_2x_b1000_aligned_trilin.bvals'\n",
      "bvals_1k_2 = '0011_01_DWI_2mm150dir_2x_b1000_aligned_trilin.bvals'\n",
      "\n",
      "\n",
      "TM_1k_1_wls = ozm.TensorModel(data_path + dwi_1k_1, \n",
      "                          data_path + bvecs_1k_1, \n",
      "                          data_path + bvals_1k_1, \n",
      "                          mask=mask_array,\n",
      "                          params_file='temp')\n",
      "\n",
      "\n",
      "TM_1k_2_wls = ozm.TensorModel(data_path + dwi_1k_2, \n",
      "                          data_path + bvecs_1k_2, \n",
      "                          data_path + bvals_1k_2,\n",
      "                          mask=mask_array,\n",
      "                          params_file='temp')\n",
      "\n",
      "TM_1k_1_ols = ozm.TensorModel(data_path + dwi_1k_1, \n",
      "                          data_path + bvecs_1k_1, \n",
      "                          data_path + bvals_1k_1, \n",
      "                          mask=mask_array,\n",
      "                          params_file='temp',\n",
      "                          fit_method='LS')\n",
      "\n",
      "\n",
      "TM_1k_2_ols = ozm.TensorModel(data_path + dwi_1k_2, \n",
      "                          data_path + bvecs_1k_2, \n",
      "                          data_path + bvals_1k_2,\n",
      "                          mask=mask_array,\n",
      "                          params_file='temp',\n",
      "                          fit_method='LS')\n",
      "\n",
      "\n",
      "TM_1k_1_nlls = ozm.TensorModel(data_path + dwi_1k_1, \n",
      "                          data_path + bvecs_1k_1, \n",
      "                          data_path + bvals_1k_1, \n",
      "                          mask=mask_array,\n",
      "                          params_file='temp',\n",
      "                          fit_method='NLLS')\n",
      "\n",
      "\n",
      "TM_1k_2_nlls = ozm.TensorModel(data_path + dwi_1k_2, \n",
      "                          data_path + bvecs_1k_2, \n",
      "                          data_path + bvals_1k_2,\n",
      "                          mask=mask_array,\n",
      "                          params_file='temp',\n",
      "                          fit_method='NLLS')\n",
      "\n",
      "TM_1k_1_rt = ozm.TensorModel(data_path + dwi_1k_1, \n",
      "                             data_path + bvecs_1k_1, \n",
      "                             data_path + bvals_1k_1, \n",
      "                             mask=mask_array,\n",
      "                             params_file='temp',\n",
      "                             fit_method='restore')\n",
      "\n",
      "TM_1k_2_rt = ozm.TensorModel(data_path + dwi_1k_2, \n",
      "                             data_path + bvecs_1k_2, \n",
      "                             data_path + bvals_1k_2,\n",
      "                             mask=mask_array,\n",
      "                             params_file='temp',\n",
      "                             fit_method='restore')\n"
     ],
     "language": "python",
     "metadata": {},
     "outputs": [
      {
       "output_type": "stream",
       "stream": "stdout",
       "text": [
        "Loading from file: /Users/arokem/usr/lib/python2.7/site-packages/osmosis/data/0005_01_DWI_2mm150dir_2x_b4000_aligned_trilin.bvals\n",
        "Loading from file: /Users/arokem/usr/lib/python2.7/site-packages/osmosis/data/0007_01_DWI_2mm150dir_2x_b4000_aligned_trilin.bvals\n",
        "Loading from file: /Users/arokem/usr/lib/python2.7/site-packages/osmosis/data/0005_01_DTI_2mm_150dir_2x_b2000_aligned_trilin.bvals\n",
        "Loading from file: /Users/arokem/usr/lib/python2.7/site-packages/osmosis/data/0007_01_DTI_2mm_150dir_2x_b2000_aligned_trilin.bvals\n",
        "Loading from file: /Users/arokem/usr/lib/python2.7/site-packages/osmosis/data/0009_01_DWI_2mm150dir_2x_b1000_aligned_trilin.bvals"
       ]
      },
      {
       "output_type": "stream",
       "stream": "stdout",
       "text": [
        "\n",
        "Loading from file: /Users/arokem/usr/lib/python2.7/site-packages/osmosis/data/0011_01_DWI_2mm150dir_2x_b1000_aligned_trilin.bvals\n",
        "Loading from file: /Users/arokem/usr/lib/python2.7/site-packages/osmosis/data/0009_01_DWI_2mm150dir_2x_b1000_aligned_trilin.bvals"
       ]
      },
      {
       "output_type": "stream",
       "stream": "stdout",
       "text": [
        "\n",
        "Loading from file: /Users/arokem/usr/lib/python2.7/site-packages/osmosis/data/0011_01_DWI_2mm150dir_2x_b1000_aligned_trilin.bvals\n",
        "Loading from file: /Users/arokem/usr/lib/python2.7/site-packages/osmosis/data/0009_01_DWI_2mm150dir_2x_b1000_aligned_trilin.bvals"
       ]
      },
      {
       "output_type": "stream",
       "stream": "stdout",
       "text": [
        "\n",
        "Loading from file: /Users/arokem/usr/lib/python2.7/site-packages/osmosis/data/0011_01_DWI_2mm150dir_2x_b1000_aligned_trilin.bvals"
       ]
      },
      {
       "output_type": "stream",
       "stream": "stdout",
       "text": [
        "\n",
        "Loading from file: /Users/arokem/usr/lib/python2.7/site-packages/osmosis/data/0009_01_DWI_2mm150dir_2x_b1000_aligned_trilin.bvals"
       ]
      },
      {
       "output_type": "stream",
       "stream": "stdout",
       "text": [
        "\n",
        "Loading from file: /Users/arokem/usr/lib/python2.7/site-packages/osmosis/data/0011_01_DWI_2mm150dir_2x_b1000_aligned_trilin.bvals\n"
       ]
      }
     ],
     "prompt_number": 19
    },
    {
     "cell_type": "code",
     "collapsed": false,
     "input": [
      "relative_rmse_nlls = ozm.relative_rmse(TM_1k_1_nlls, TM_1k_2_nlls)\n",
      "relative_rmse_ols = ozm.relative_rmse(TM_1k_1_ols, TM_1k_2_ols)\n",
      "relative_rmse_wls = ozm.relative_rmse(TM_1k_1_wls, TM_1k_2_wls)\n",
      "\n",
      "fig = viz.probability_hist(relative_rmse_ols[np.isfinite(relative_rmse_ols)],label='OLS')\n",
      "fig = viz.probability_hist(relative_rmse_wls[np.isfinite(relative_rmse_wls)],label='WLS',fig=fig)\n",
      "fig = viz.probability_hist(relative_rmse_nlls[np.isfinite(relative_rmse_nlls)],label='NLLS',fig=fig)\n",
      "fig.set_size_inches([10,8])\n",
      "plt.legend()\n"
     ],
     "language": "python",
     "metadata": {},
     "outputs": [
      {
       "output_type": "stream",
       "stream": "stdout",
       "text": [
        "Loading from file: /Users/arokem/usr/lib/python2.7/site-packages/osmosis/data/0009_01_DWI_2mm150dir_2x_b1000_aligned_trilin.nii.gz\n",
        "Loading from file: /Users/arokem/usr/lib/python2.7/site-packages/osmosis/data/0011_01_DWI_2mm150dir_2x_b1000_aligned_trilin.nii.gz"
       ]
      },
      {
       "output_type": "stream",
       "stream": "stdout",
       "text": [
        "\n",
        "Predicting signal from TensorModel"
       ]
      },
      {
       "output_type": "stream",
       "stream": "stdout",
       "text": [
        "\n",
        "Fitting TensorModel params using dipy\n",
        "Loading from file: /Users/arokem/usr/lib/python2.7/site-packages/osmosis/data/0009_01_DWI_2mm150dir_2x_b1000_aligned_trilin.bvecs\n",
        "Predicting signal from TensorModel"
       ]
      },
      {
       "output_type": "stream",
       "stream": "stdout",
       "text": [
        "\n",
        "Fitting TensorModel params using dipy"
       ]
      },
      {
       "output_type": "stream",
       "stream": "stdout",
       "text": [
        "\n",
        "Loading from file: /Users/arokem/usr/lib/python2.7/site-packages/osmosis/data/0011_01_DWI_2mm150dir_2x_b1000_aligned_trilin.bvecs\n",
        "Loading from file: /Users/arokem/usr/lib/python2.7/site-packages/osmosis/data/0009_01_DWI_2mm150dir_2x_b1000_aligned_trilin.nii.gz"
       ]
      },
      {
       "output_type": "stream",
       "stream": "stdout",
       "text": [
        "\n",
        "Loading from file: /Users/arokem/usr/lib/python2.7/site-packages/osmosis/data/0011_01_DWI_2mm150dir_2x_b1000_aligned_trilin.nii.gz"
       ]
      },
      {
       "output_type": "stream",
       "stream": "stdout",
       "text": [
        "\n",
        "Predicting signal from TensorModel"
       ]
      },
      {
       "output_type": "stream",
       "stream": "stdout",
       "text": [
        "\n",
        "Fitting TensorModel params using dipy\n",
        "Loading from file: /Users/arokem/usr/lib/python2.7/site-packages/osmosis/data/0009_01_DWI_2mm150dir_2x_b1000_aligned_trilin.bvecs\n",
        "Predicting signal from TensorModel"
       ]
      },
      {
       "output_type": "stream",
       "stream": "stdout",
       "text": [
        "\n",
        "Fitting TensorModel params using dipy"
       ]
      },
      {
       "output_type": "stream",
       "stream": "stdout",
       "text": [
        "\n",
        "Loading from file: /Users/arokem/usr/lib/python2.7/site-packages/osmosis/data/0011_01_DWI_2mm150dir_2x_b1000_aligned_trilin.bvecs\n",
        "Loading from file: /Users/arokem/usr/lib/python2.7/site-packages/osmosis/data/0009_01_DWI_2mm150dir_2x_b1000_aligned_trilin.nii.gz"
       ]
      },
      {
       "output_type": "stream",
       "stream": "stdout",
       "text": [
        "\n",
        "Loading from file: /Users/arokem/usr/lib/python2.7/site-packages/osmosis/data/0011_01_DWI_2mm150dir_2x_b1000_aligned_trilin.nii.gz"
       ]
      },
      {
       "output_type": "stream",
       "stream": "stdout",
       "text": [
        "\n",
        "Predicting signal from TensorModel"
       ]
      },
      {
       "output_type": "stream",
       "stream": "stdout",
       "text": [
        "\n",
        "Fitting TensorModel params using dipy\n",
        "Loading from file: /Users/arokem/usr/lib/python2.7/site-packages/osmosis/data/0009_01_DWI_2mm150dir_2x_b1000_aligned_trilin.bvecs\n",
        "Predicting signal from TensorModel"
       ]
      },
      {
       "output_type": "stream",
       "stream": "stdout",
       "text": [
        "\n",
        "Fitting TensorModel params using dipy"
       ]
      },
      {
       "output_type": "stream",
       "stream": "stdout",
       "text": [
        "\n",
        "Loading from file: /Users/arokem/usr/lib/python2.7/site-packages/osmosis/data/0011_01_DWI_2mm150dir_2x_b1000_aligned_trilin.bvecs\n"
       ]
      },
      {
       "output_type": "pyout",
       "prompt_number": 3,
       "text": [
        "<matplotlib.legend.Legend at 0x10c548e90>"
       ]
      },
      {
       "output_type": "display_data",
       "png": "[encoded data removed]",
       "text": [
        "<matplotlib.figure.Figure at 0x1004a25d0>"
       ]
      }
     ],
     "prompt_number": 3
    },
    {
     "cell_type": "code",
     "collapsed": false,
     "input": [
      "diff_ols_wls = relative_rmse_ols - relative_rmse_wls\n",
      "diff_ols_nlls = relative_rmse_ols - relative_rmse_nlls\n",
      "diff_wls_nlls = relative_rmse_wls - relative_rmse_nlls\n",
      "\n",
      "fig = viz.probability_hist(diff_ols_wls[np.isfinite(diff_ols_wls)], label='OLS - WLS')\n",
      "fig = viz.probability_hist(diff_ols_nlls[np.isfinite(diff_ols_nlls)], fig=fig, label='OLS - NLLS')\n",
      "fig = viz.probability_hist(diff_wls_nlls[np.isfinite(diff_wls_nlls)], fig=fig, label='WLS - NLLS')\n",
      "fig.set_size_inches([10,8])\n",
      "fig.axes[0].set_xlabel('$\\Delta RMSE_{relative}$')\n",
      "fig.axes[0].set_ylabel('$P(\\Delta RMSE_{relative})$')\n",
      "fig.axes[0].set_xlim([-0.04, 0.04])\n",
      "fig.axes[0].plot([0,0],[0,350], '--k')\n",
      "\n",
      "plt.legend()\n",
      "\n",
      "fig.savefig('/Users/arokem/tensor_fitting_methods.svg')\n"
     ],
     "language": "python",
     "metadata": {},
     "outputs": [
      {
       "output_type": "display_data",
       "png": "[encoded data removed]",
       "text": [
        "<matplotlib.figure.Figure at 0x1124b1990>"
       ]
      }
     ],
     "prompt_number": 17
    },
    {
     "cell_type": "code",
     "collapsed": false,
     "input": [],
     "language": "python",
     "metadata": {},
     "outputs": []
    }
   ],
   "metadata": {}
  }
 ]
}