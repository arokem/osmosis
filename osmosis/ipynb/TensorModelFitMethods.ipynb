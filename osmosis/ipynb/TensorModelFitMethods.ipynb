{
 "metadata": {
  "name": "TensorModelFitMethods"
 },
 "nbformat": 3,
 "nbformat_minor": 0,
 "worksheets": [
  {
   "cells": [
    {
     "cell_type": "code",
     "collapsed": false,
     "input": [
      "import os\n",
      "import nibabel as ni\n",
      "\n",
      "import scipy.stats as stats\n",
      "\n",
      "import osmosis as oz\n",
      "import osmosis.model as ozm\n",
      "import osmosis.viz as viz\n",
      "import osmosis.utils as ozu\n",
      "import osmosis.volume as ozv\n",
      "import osmosis.io as oio\n",
      "import osmosis.tensor as ozt\n",
      "reload(oio)\n",
      "reload(ozm)\n",
      "reload(ozu)\n",
      "reload(ozv)\n",
      "reload(viz)"
     ],
     "language": "python",
     "metadata": {},
     "outputs": [
      {
       "output_type": "pyout",
       "prompt_number": 1,
       "text": [
        "<module 'osmosis.viz' from '/Users/arokem/usr/lib/python2.7/site-packages/osmosis/viz.pyc'>"
       ]
      }
     ],
     "prompt_number": 1
    },
    {
     "cell_type": "code",
     "collapsed": false,
     "input": [
      "data_path = os.path.split(oz.__file__)[0] + '/data/'\n",
      "wm_mask = ni.load(data_path + 'FP_white_matter_resamp_to_dwi.nii.gz').get_data()\n",
      "mask_array = np.zeros(wm_mask.shape)\n",
      "mask_array[np.isfinite(wm_mask)] = 1\n",
      "mask_array[40:42, 40:42, 40:42]\n",
      "\n",
      "dwi_4k_1 = '0005_01_DWI_2mm150dir_2x_b4000_aligned_trilin.nii.gz'\n",
      "dwi_4k_2 = '0007_01_DWI_2mm150dir_2x_b4000_aligned_trilin.nii.gz'\n",
      "\n",
      "bvecs_4k_1 = '0005_01_DWI_2mm150dir_2x_b4000_aligned_trilin.bvecs'\n",
      "bvecs_4k_2 = '0007_01_DWI_2mm150dir_2x_b4000_aligned_trilin.bvecs'\n",
      "\n",
      "bvals_4k_1 = '0005_01_DWI_2mm150dir_2x_b4000_aligned_trilin.bvals'\n",
      "bvals_4k_2 = '0007_01_DWI_2mm150dir_2x_b4000_aligned_trilin.bvals'\n",
      "\n",
      "\n",
      "TM_4k_1_wls = ozm.TensorModel(data_path + dwi_4k_1, \n",
      "                          data_path + bvecs_4k_1, \n",
      "                          data_path + bvals_4k_1, \n",
      "                          mask=mask_array,\n",
      "                          params_file='temp')\n",
      "\n",
      "TM_4k_2_wls = ozm.TensorModel(data_path + dwi_4k_2, \n",
      "                          data_path + bvecs_4k_2, \n",
      "                          data_path + bvals_4k_2,\n",
      "                          mask=mask_array,\n",
      "                          params_file='temp')\n",
      "\n",
      "\n",
      "dwi_2k_1 = '0005_01_DTI_2mm_150dir_2x_b2000_aligned_trilin.nii.gz'\n",
      "dwi_2k_2 = '0007_01_DTI_2mm_150dir_2x_b2000_aligned_trilin.nii.gz'\n",
      "\n",
      "bvecs_2k_1 = '0005_01_DTI_2mm_150dir_2x_b2000_aligned_trilin.bvecs'\n",
      "bvecs_2k_2 = '0007_01_DTI_2mm_150dir_2x_b2000_aligned_trilin.bvecs'\n",
      "\n",
      "bvals_2k_1 = '0005_01_DTI_2mm_150dir_2x_b2000_aligned_trilin.bvals'\n",
      "bvals_2k_2 = '0007_01_DTI_2mm_150dir_2x_b2000_aligned_trilin.bvals'\n",
      "\n",
      "\n",
      "TM_2k_1_wls = ozm.TensorModel(data_path + dwi_2k_1, \n",
      "                          data_path + bvecs_2k_1, \n",
      "                          data_path + bvals_2k_1, \n",
      "                          mask=mask_array,\n",
      "                          params_file='temp')\n",
      "\n",
      "\n",
      "TM_2k_2_wls = ozm.TensorModel(data_path + dwi_2k_2, \n",
      "                          data_path + bvecs_2k_2, \n",
      "                          data_path + bvals_2k_2,\n",
      "                          mask=mask_array,\n",
      "                            params_file='temp')\n",
      "\n",
      "dwi_1k_1 = '0009_01_DWI_2mm150dir_2x_b1000_aligned_trilin.nii.gz'\n",
      "dwi_1k_2 = '0011_01_DWI_2mm150dir_2x_b1000_aligned_trilin.nii.gz'\n",
      "\n",
      "bvecs_1k_1 = '0009_01_DWI_2mm150dir_2x_b1000_aligned_trilin.bvecs'\n",
      "bvecs_1k_2 = '0011_01_DWI_2mm150dir_2x_b1000_aligned_trilin.bvecs'\n",
      "\n",
      "bvals_1k_1 = '0009_01_DWI_2mm150dir_2x_b1000_aligned_trilin.bvals'\n",
      "bvals_1k_2 = '0011_01_DWI_2mm150dir_2x_b1000_aligned_trilin.bvals'\n",
      "\n",
      "\n",
      "TM_1k_1_wls = ozm.TensorModel(data_path + dwi_1k_1, \n",
      "                          data_path + bvecs_1k_1, \n",
      "                          data_path + bvals_1k_1, \n",
      "                          mask=mask_array,\n",
      "                          params_file='temp')\n",
      "\n",
      "\n",
      "TM_1k_2_wls = ozm.TensorModel(data_path + dwi_1k_2, \n",
      "                          data_path + bvecs_1k_2, \n",
      "                          data_path + bvals_1k_2,\n",
      "                          mask=mask_array,\n",
      "                          params_file='temp')\n",
      "\n",
      "TM_1k_1_ols = ozm.TensorModel(data_path + dwi_1k_1, \n",
      "                          data_path + bvecs_1k_1, \n",
      "                          data_path + bvals_1k_1, \n",
      "                          mask=mask_array,\n",
      "                          params_file='temp',\n",
      "                          fit_method='LS')\n",
      "\n",
      "\n",
      "TM_1k_2_ols = ozm.TensorModel(data_path + dwi_1k_2, \n",
      "                          data_path + bvecs_1k_2, \n",
      "                          data_path + bvals_1k_2,\n",
      "                          mask=mask_array,\n",
      "                          params_file='temp',\n",
      "                          fit_method='LS')\n",
      "\n",
      "\n",
      "TM_1k_1_nlls = ozm.TensorModel(data_path + dwi_1k_1, \n",
      "                          data_path + bvecs_1k_1, \n",
      "                          data_path + bvals_1k_1, \n",
      "                          mask=mask_array,\n",
      "                          params_file='temp',\n",
      "                          fit_method='NLLS')\n",
      "\n",
      "\n",
      "TM_1k_2_nlls = ozm.TensorModel(data_path + dwi_1k_2, \n",
      "                          data_path + bvecs_1k_2, \n",
      "                          data_path + bvals_1k_2,\n",
      "                          mask=mask_array,\n",
      "                          params_file='temp',\n",
      "                          fit_method='NLLS')\n",
      "\n",
      "TM_1k_1_rt = ozm.TensorModel(data_path + dwi_1k_1, \n",
      "                             data_path + bvecs_1k_1, \n",
      "                             data_path + bvals_1k_1, \n",
      "                             mask=mask_array,\n",
      "                             params_file='temp',\n",
      "                             fit_method='restore')\n",
      "\n",
      "TM_1k_2_rt = ozm.TensorModel(data_path + dwi_1k_2, \n",
      "                             data_path + bvecs_1k_2, \n",
      "                             data_path + bvals_1k_2,\n",
      "                             mask=mask_array,\n",
      "                             params_file='temp',\n",
      "                             fit_method='restore')\n"
     ],
     "language": "python",
     "metadata": {},
     "outputs": [
      {
       "output_type": "stream",
       "stream": "stdout",
       "text": [
        "Loading from file: /Users/arokem/usr/lib/python2.7/site-packages/osmosis/data/0005_01_DWI_2mm150dir_2x_b4000_aligned_trilin.bvals\n",
        "Loading from file: /Users/arokem/usr/lib/python2.7/site-packages/osmosis/data/0007_01_DWI_2mm150dir_2x_b4000_aligned_trilin.bvals\n",
        "Loading from file: /Users/arokem/usr/lib/python2.7/site-packages/osmosis/data/0005_01_DTI_2mm_150dir_2x_b2000_aligned_trilin.bvals\n",
        "Loading from file: /Users/arokem/usr/lib/python2.7/site-packages/osmosis/data/0007_01_DTI_2mm_150dir_2x_b2000_aligned_trilin.bvals\n",
        "Loading from file: /Users/arokem/usr/lib/python2.7/site-packages/osmosis/data/0009_01_DWI_2mm150dir_2x_b1000_aligned_trilin.bvals\n",
        "Loading from file: /Users/arokem/usr/lib/python2.7/site-packages/osmosis/data/0011_01_DWI_2mm150dir_2x_b1000_aligned_trilin.bvals\n",
        "Loading from file: /Users/arokem/usr/lib/python2.7/site-packages/osmosis/data/0009_01_DWI_2mm150dir_2x_b1000_aligned_trilin.bvals\n",
        "Loading from file: /Users/arokem/usr/lib/python2.7/site-packages/osmosis/data/0011_01_DWI_2mm150dir_2x_b1000_aligned_trilin.bvals\n",
        "Loading from file: /Users/arokem/usr/lib/python2.7/site-packages/osmosis/data/0009_01_DWI_2mm150dir_2x_b1000_aligned_trilin.bvals\n",
        "Loading from file: /Users/arokem/usr/lib/python2.7/site-packages/osmosis/data/0011_01_DWI_2mm150dir_2x_b1000_aligned_trilin.bvals\n",
        "Loading from file: /Users/arokem/usr/lib/python2.7/site-packages/osmosis/data/0009_01_DWI_2mm150dir_2x_b1000_aligned_trilin.bvals\n",
        "Loading from file: /Users/arokem/usr/lib/python2.7/site-packages/osmosis/data/0011_01_DWI_2mm150dir_2x_b1000_aligned_trilin.bvals\n"
       ]
      }
     ],
     "prompt_number": 2
    },
    {
     "cell_type": "code",
     "collapsed": false,
     "input": [
      "relative_rmse_nlls = ozm.relative_rmse(TM_1k_1_nlls, TM_1k_2_nlls)\n",
      "relative_rmse_ols = ozm.relative_rmse(TM_1k_1_ols, TM_1k_2_ols)\n",
      "relative_rmse_wls = ozm.relative_rmse(TM_1k_1_wls, TM_1k_2_wls)\n",
      "relative_rmse_rt = ozm.relative_rmse(TM_1k_1_rt, TM_1k_2_rt)\n",
      "\n",
      "fig = viz.probability_hist(relative_rmse_ols[np.isfinite(relative_rmse_ols)],label='OLS')\n",
      "fig = viz.probability_hist(relative_rmse_wls[np.isfinite(relative_rmse_wls)],label='WLS',fig=fig)\n",
      "fig = viz.probability_hist(relative_rmse_nlls[np.isfinite(relative_rmse_nlls)],label='NLLS',fig=fig)\n",
      "fig = viz.probability_hist(relative_rmse_rt[np.isfinite(relative_rmse_rt)],label='RESTORE',fig=fig)\n",
      "fig.set_size_inches([10,8])\n",
      "plt.legend()\n"
     ],
     "language": "python",
     "metadata": {},
     "outputs": [
      {
       "output_type": "stream",
       "stream": "stdout",
       "text": [
        "Loading from file: /Users/arokem/usr/lib/python2.7/site-packages/osmosis/data/0009_01_DWI_2mm150dir_2x_b1000_aligned_trilin.nii.gz\n",
        "Loading from file: /Users/arokem/usr/lib/python2.7/site-packages/osmosis/data/0011_01_DWI_2mm150dir_2x_b1000_aligned_trilin.nii.gz"
       ]
      }
     ],
     "prompt_number": "*"
    },
    {
     "cell_type": "code",
     "collapsed": false,
     "input": [
      "TM_1k_1_ols.model_params[9,39,27], TM_1k_1_wls.model_params[9,39,27], TM_1k_1_nlls.model_params[9,39,27],TM_1k_1_rt.model_params[9,39,27] \n"
     ],
     "language": "python",
     "metadata": {},
     "outputs": [],
     "prompt_number": "*"
    },
    {
     "cell_type": "code",
     "collapsed": false,
     "input": [
      "%%timeit\n",
      "   TM_1k_1_nlls.model_params\n"
     ],
     "language": "python",
     "metadata": {},
     "outputs": [
      {
       "output_type": "stream",
       "stream": "stdout",
       "text": [
        "Fitting TensorModel params using dipy\n",
        "Loading from file: /Users/arokem/usr/lib/python2.7/site-packages/osmosis/data/0009_01_DWI_2mm150dir_2x_b1000_aligned_trilin.nii.gz\n",
        "Loading from file: /Users/arokem/usr/lib/python2.7/site-packages/osmosis/data/0009_01_DWI_2mm150dir_2x_b1000_aligned_trilin.bvecs"
       ]
      },
      {
       "output_type": "stream",
       "stream": "stdout",
       "text": [
        "\n",
        "1 loops, best of 3: 0 ns per loop"
       ]
      },
      {
       "output_type": "stream",
       "stream": "stdout",
       "text": [
        "\n"
       ]
      }
     ],
     "prompt_number": 3
    },
    {
     "cell_type": "code",
     "collapsed": false,
     "input": [
      "%%timeit\n",
      "   TM_1k_1_ols.model_params\n"
     ],
     "language": "python",
     "metadata": {},
     "outputs": [
      {
       "output_type": "stream",
       "stream": "stdout",
       "text": [
        "Fitting TensorModel params using dipy\n",
        "Loading from file: /Users/arokem/usr/lib/python2.7/site-packages/osmosis/data/0009_01_DWI_2mm150dir_2x_b1000_aligned_trilin.nii.gz\n",
        "Loading from file: /Users/arokem/usr/lib/python2.7/site-packages/osmosis/data/0009_01_DWI_2mm150dir_2x_b1000_aligned_trilin.bvecs"
       ]
      },
      {
       "output_type": "stream",
       "stream": "stdout",
       "text": [
        "\n",
        "1 loops, best of 3: 0 ns per loop"
       ]
      },
      {
       "output_type": "stream",
       "stream": "stdout",
       "text": [
        "\n"
       ]
      }
     ],
     "prompt_number": 4
    },
    {
     "cell_type": "code",
     "collapsed": false,
     "input": [
      "%%timeit\n",
      "   TM_1k_1_wls.model_params\n"
     ],
     "language": "python",
     "metadata": {},
     "outputs": [
      {
       "output_type": "stream",
       "stream": "stdout",
       "text": [
        "Fitting TensorModel params using dipy\n",
        "Loading from file: /Users/arokem/usr/lib/python2.7/site-packages/osmosis/data/0009_01_DWI_2mm150dir_2x_b1000_aligned_trilin.nii.gz\n",
        "Loading from file: /Users/arokem/usr/lib/python2.7/site-packages/osmosis/data/0009_01_DWI_2mm150dir_2x_b1000_aligned_trilin.bvecs"
       ]
      },
      {
       "output_type": "stream",
       "stream": "stdout",
       "text": [
        "\n",
        "1 loops, best of 3: 0 ns per loop"
       ]
      },
      {
       "output_type": "stream",
       "stream": "stdout",
       "text": [
        "\n"
       ]
      }
     ],
     "prompt_number": 5
    },
    {
     "cell_type": "code",
     "collapsed": false,
     "input": [
      "%%timeit\n",
      "   TM_1k_1_rt.model_params\n"
     ],
     "language": "python",
     "metadata": {},
     "outputs": [
      {
       "output_type": "stream",
       "stream": "stdout",
       "text": [
        "Fitting TensorModel params using dipy\n",
        "Loading from file: /Users/arokem/usr/lib/python2.7/site-packages/osmosis/data/0009_01_DWI_2mm150dir_2x_b1000_aligned_trilin.nii.gz\n",
        "Loading from file: /Users/arokem/usr/lib/python2.7/site-packages/osmosis/data/0009_01_DWI_2mm150dir_2x_b1000_aligned_trilin.bvecs"
       ]
      },
      {
       "ename": "TypeError",
       "evalue": "restore_fit_tensor() takes at least 3 arguments (2 given)",
       "output_type": "pyerr",
       "traceback": [
        "\u001b[0;31m---------------------------------------------------------------------------\u001b[0m\n\u001b[0;31mTypeError\u001b[0m                                 Traceback (most recent call last)",
        "\u001b[0;32m<ipython-input-6-9a961de35641>\u001b[0m in \u001b[0;36m<module>\u001b[0;34m()\u001b[0m\n\u001b[0;32m----> 1\u001b[0;31m \u001b[0mget_ipython\u001b[0m\u001b[0;34m(\u001b[0m\u001b[0;34m)\u001b[0m\u001b[0;34m.\u001b[0m\u001b[0m_run_cached_cell_magic\u001b[0m\u001b[0;34m(\u001b[0m\u001b[0;34mu'timeit'\u001b[0m\u001b[0;34m,\u001b[0m \u001b[0;34mu''\u001b[0m\u001b[0;34m)\u001b[0m\u001b[0;34m\u001b[0m\u001b[0m\n\u001b[0m",
        "\u001b[0;32m/Users/arokem/usr/local/lib/python2.7/site-packages/IPython/core/interactiveshell.pyc\u001b[0m in \u001b[0;36m_run_cached_cell_magic\u001b[0;34m(self, magic_name, line)\u001b[0m\n\u001b[1;32m   2534\u001b[0m         \u001b[0mcell\u001b[0m \u001b[0;34m=\u001b[0m \u001b[0mself\u001b[0m\u001b[0;34m.\u001b[0m\u001b[0m_current_cell_magic_body\u001b[0m\u001b[0;34m\u001b[0m\u001b[0m\n\u001b[1;32m   2535\u001b[0m         \u001b[0mself\u001b[0m\u001b[0;34m.\u001b[0m\u001b[0m_current_cell_magic_body\u001b[0m \u001b[0;34m=\u001b[0m \u001b[0mNone\u001b[0m\u001b[0;34m\u001b[0m\u001b[0m\n\u001b[0;32m-> 2536\u001b[0;31m         \u001b[0;32mreturn\u001b[0m \u001b[0mself\u001b[0m\u001b[0;34m.\u001b[0m\u001b[0mrun_cell_magic\u001b[0m\u001b[0;34m(\u001b[0m\u001b[0mmagic_name\u001b[0m\u001b[0;34m,\u001b[0m \u001b[0mline\u001b[0m\u001b[0;34m,\u001b[0m \u001b[0mcell\u001b[0m\u001b[0;34m)\u001b[0m\u001b[0;34m\u001b[0m\u001b[0m\n\u001b[0m\u001b[1;32m   2537\u001b[0m \u001b[0;34m\u001b[0m\u001b[0m\n\u001b[1;32m   2538\u001b[0m     \u001b[0;32mdef\u001b[0m \u001b[0mrun_cell\u001b[0m\u001b[0;34m(\u001b[0m\u001b[0mself\u001b[0m\u001b[0;34m,\u001b[0m \u001b[0mraw_cell\u001b[0m\u001b[0;34m,\u001b[0m \u001b[0mstore_history\u001b[0m\u001b[0;34m=\u001b[0m\u001b[0mFalse\u001b[0m\u001b[0;34m,\u001b[0m \u001b[0msilent\u001b[0m\u001b[0;34m=\u001b[0m\u001b[0mFalse\u001b[0m\u001b[0;34m)\u001b[0m\u001b[0;34m:\u001b[0m\u001b[0;34m\u001b[0m\u001b[0m\n",
        "\u001b[0;32m/Users/arokem/usr/local/lib/python2.7/site-packages/IPython/core/interactiveshell.pyc\u001b[0m in \u001b[0;36mrun_cell_magic\u001b[0;34m(self, magic_name, line, cell)\u001b[0m\n\u001b[1;32m   2113\u001b[0m             \u001b[0mmagic_arg_s\u001b[0m \u001b[0;34m=\u001b[0m \u001b[0mself\u001b[0m\u001b[0;34m.\u001b[0m\u001b[0mvar_expand\u001b[0m\u001b[0;34m(\u001b[0m\u001b[0mline\u001b[0m\u001b[0;34m,\u001b[0m \u001b[0mstack_depth\u001b[0m\u001b[0;34m)\u001b[0m\u001b[0;34m\u001b[0m\u001b[0m\n\u001b[1;32m   2114\u001b[0m             \u001b[0;32mwith\u001b[0m \u001b[0mself\u001b[0m\u001b[0;34m.\u001b[0m\u001b[0mbuiltin_trap\u001b[0m\u001b[0;34m:\u001b[0m\u001b[0;34m\u001b[0m\u001b[0m\n\u001b[0;32m-> 2115\u001b[0;31m                 \u001b[0mresult\u001b[0m \u001b[0;34m=\u001b[0m \u001b[0mfn\u001b[0m\u001b[0;34m(\u001b[0m\u001b[0mline\u001b[0m\u001b[0;34m,\u001b[0m \u001b[0mcell\u001b[0m\u001b[0;34m)\u001b[0m\u001b[0;34m\u001b[0m\u001b[0m\n\u001b[0m\u001b[1;32m   2116\u001b[0m             \u001b[0;32mreturn\u001b[0m \u001b[0mresult\u001b[0m\u001b[0;34m\u001b[0m\u001b[0m\n\u001b[1;32m   2117\u001b[0m \u001b[0;34m\u001b[0m\u001b[0m\n",
        "\u001b[0;32m/Users/arokem/usr/local/lib/python2.7/site-packages/IPython/core/magics/execution.pyc\u001b[0m in \u001b[0;36mtimeit\u001b[0;34m(self, line, cell)\u001b[0m\n",
        "\u001b[0;32m/Users/arokem/usr/local/lib/python2.7/site-packages/IPython/core/magic.pyc\u001b[0m in \u001b[0;36m<lambda>\u001b[0;34m(f, *a, **k)\u001b[0m\n\u001b[1;32m    189\u001b[0m     \u001b[0;31m# but it's overkill for just that one bit of state.\u001b[0m\u001b[0;34m\u001b[0m\u001b[0;34m\u001b[0m\u001b[0m\n\u001b[1;32m    190\u001b[0m     \u001b[0;32mdef\u001b[0m \u001b[0mmagic_deco\u001b[0m\u001b[0;34m(\u001b[0m\u001b[0marg\u001b[0m\u001b[0;34m)\u001b[0m\u001b[0;34m:\u001b[0m\u001b[0;34m\u001b[0m\u001b[0m\n\u001b[0;32m--> 191\u001b[0;31m         \u001b[0mcall\u001b[0m \u001b[0;34m=\u001b[0m \u001b[0;32mlambda\u001b[0m \u001b[0mf\u001b[0m\u001b[0;34m,\u001b[0m \u001b[0;34m*\u001b[0m\u001b[0ma\u001b[0m\u001b[0;34m,\u001b[0m \u001b[0;34m**\u001b[0m\u001b[0mk\u001b[0m\u001b[0;34m:\u001b[0m \u001b[0mf\u001b[0m\u001b[0;34m(\u001b[0m\u001b[0;34m*\u001b[0m\u001b[0ma\u001b[0m\u001b[0;34m,\u001b[0m \u001b[0;34m**\u001b[0m\u001b[0mk\u001b[0m\u001b[0;34m)\u001b[0m\u001b[0;34m\u001b[0m\u001b[0m\n\u001b[0m\u001b[1;32m    192\u001b[0m \u001b[0;34m\u001b[0m\u001b[0m\n\u001b[1;32m    193\u001b[0m         \u001b[0;32mif\u001b[0m \u001b[0mcallable\u001b[0m\u001b[0;34m(\u001b[0m\u001b[0marg\u001b[0m\u001b[0;34m)\u001b[0m\u001b[0;34m:\u001b[0m\u001b[0;34m\u001b[0m\u001b[0m\n",
        "\u001b[0;32m/Users/arokem/usr/local/lib/python2.7/site-packages/IPython/core/magics/execution.pyc\u001b[0m in \u001b[0;36mtimeit\u001b[0;34m(self, line, cell)\u001b[0m\n\u001b[1;32m    799\u001b[0m             \u001b[0mnumber\u001b[0m \u001b[0;34m=\u001b[0m \u001b[0;36m1\u001b[0m\u001b[0;34m\u001b[0m\u001b[0m\n\u001b[1;32m    800\u001b[0m             \u001b[0;32mfor\u001b[0m \u001b[0mi\u001b[0m \u001b[0;32min\u001b[0m \u001b[0mrange\u001b[0m\u001b[0;34m(\u001b[0m\u001b[0;36m1\u001b[0m\u001b[0;34m,\u001b[0m \u001b[0;36m10\u001b[0m\u001b[0;34m)\u001b[0m\u001b[0;34m:\u001b[0m\u001b[0;34m\u001b[0m\u001b[0m\n\u001b[0;32m--> 801\u001b[0;31m                 \u001b[0;32mif\u001b[0m \u001b[0mtimer\u001b[0m\u001b[0;34m.\u001b[0m\u001b[0mtimeit\u001b[0m\u001b[0;34m(\u001b[0m\u001b[0mnumber\u001b[0m\u001b[0;34m)\u001b[0m \u001b[0;34m>=\u001b[0m \u001b[0;36m0.2\u001b[0m\u001b[0;34m:\u001b[0m\u001b[0;34m\u001b[0m\u001b[0m\n\u001b[0m\u001b[1;32m    802\u001b[0m                     \u001b[0;32mbreak\u001b[0m\u001b[0;34m\u001b[0m\u001b[0m\n\u001b[1;32m    803\u001b[0m                 \u001b[0mnumber\u001b[0m \u001b[0;34m*=\u001b[0m \u001b[0;36m10\u001b[0m\u001b[0;34m\u001b[0m\u001b[0m\n",
        "\u001b[0;32m/Library/Frameworks/EPD64.framework/Versions/7.2/lib/python2.7/timeit.pyc\u001b[0m in \u001b[0;36mtimeit\u001b[0;34m(self, number)\u001b[0m\n\u001b[1;32m    192\u001b[0m         \u001b[0mgcold\u001b[0m \u001b[0;34m=\u001b[0m \u001b[0mgc\u001b[0m\u001b[0;34m.\u001b[0m\u001b[0misenabled\u001b[0m\u001b[0;34m(\u001b[0m\u001b[0;34m)\u001b[0m\u001b[0;34m\u001b[0m\u001b[0m\n\u001b[1;32m    193\u001b[0m         \u001b[0mgc\u001b[0m\u001b[0;34m.\u001b[0m\u001b[0mdisable\u001b[0m\u001b[0;34m(\u001b[0m\u001b[0;34m)\u001b[0m\u001b[0;34m\u001b[0m\u001b[0m\n\u001b[0;32m--> 194\u001b[0;31m         \u001b[0mtiming\u001b[0m \u001b[0;34m=\u001b[0m \u001b[0mself\u001b[0m\u001b[0;34m.\u001b[0m\u001b[0minner\u001b[0m\u001b[0;34m(\u001b[0m\u001b[0mit\u001b[0m\u001b[0;34m,\u001b[0m \u001b[0mself\u001b[0m\u001b[0;34m.\u001b[0m\u001b[0mtimer\u001b[0m\u001b[0;34m)\u001b[0m\u001b[0;34m\u001b[0m\u001b[0m\n\u001b[0m\u001b[1;32m    195\u001b[0m         \u001b[0;32mif\u001b[0m \u001b[0mgcold\u001b[0m\u001b[0;34m:\u001b[0m\u001b[0;34m\u001b[0m\u001b[0m\n\u001b[1;32m    196\u001b[0m             \u001b[0mgc\u001b[0m\u001b[0;34m.\u001b[0m\u001b[0menable\u001b[0m\u001b[0;34m(\u001b[0m\u001b[0;34m)\u001b[0m\u001b[0;34m\u001b[0m\u001b[0m\n",
        "\u001b[0;32m<magic-timeit>\u001b[0m in \u001b[0;36minner\u001b[0;34m(_it, _timer)\u001b[0m\n",
        "\u001b[0;32m/Users/arokem/usr/lib/python2.7/site-packages/osmosis/descriptors.pyc\u001b[0m in \u001b[0;36m__get__\u001b[0;34m(self, obj, type)\u001b[0m\n\u001b[1;32m    140\u001b[0m         \u001b[0;31m# Errors in the following line are errors in setting a\u001b[0m\u001b[0;34m\u001b[0m\u001b[0;34m\u001b[0m\u001b[0m\n\u001b[1;32m    141\u001b[0m         \u001b[0;31m# OneTimeProperty\u001b[0m\u001b[0;34m\u001b[0m\u001b[0;34m\u001b[0m\u001b[0m\n\u001b[0;32m--> 142\u001b[0;31m         \u001b[0mval\u001b[0m \u001b[0;34m=\u001b[0m \u001b[0mself\u001b[0m\u001b[0;34m.\u001b[0m\u001b[0mgetter\u001b[0m\u001b[0;34m(\u001b[0m\u001b[0mobj\u001b[0m\u001b[0;34m)\u001b[0m\u001b[0;34m\u001b[0m\u001b[0m\n\u001b[0m\u001b[1;32m    143\u001b[0m \u001b[0;34m\u001b[0m\u001b[0m\n\u001b[1;32m    144\u001b[0m         \u001b[0msetattr\u001b[0m\u001b[0;34m(\u001b[0m\u001b[0mobj\u001b[0m\u001b[0;34m,\u001b[0m \u001b[0mself\u001b[0m\u001b[0;34m.\u001b[0m\u001b[0mname\u001b[0m\u001b[0;34m,\u001b[0m \u001b[0mval\u001b[0m\u001b[0;34m)\u001b[0m\u001b[0;34m\u001b[0m\u001b[0m\n",
        "\u001b[0;32m/Users/arokem/usr/lib/python2.7/site-packages/osmosis/model.pyc\u001b[0m in \u001b[0;36mmodel_params\u001b[0;34m(self)\u001b[0m\n\u001b[1;32m    869\u001b[0m                             \u001b[0mself\u001b[0m\u001b[0;34m.\u001b[0m\u001b[0mbvecs\u001b[0m\u001b[0;34m.\u001b[0m\u001b[0mT\u001b[0m\u001b[0;34m,\u001b[0m\u001b[0;34m\u001b[0m\u001b[0m\n\u001b[1;32m    870\u001b[0m                             \u001b[0mself\u001b[0m\u001b[0;34m.\u001b[0m\u001b[0mmask\u001b[0m\u001b[0;34m,\u001b[0m\u001b[0;34m\u001b[0m\u001b[0m\n\u001b[0;32m--> 871\u001b[0;31m                             fit_method=self.fit_method).model_params \n\u001b[0m\u001b[1;32m    872\u001b[0m \u001b[0;34m\u001b[0m\u001b[0m\n\u001b[1;32m    873\u001b[0m             \u001b[0;31m# Make sure it has the right shape (this is necessary because dipy\u001b[0m\u001b[0;34m\u001b[0m\u001b[0;34m\u001b[0m\u001b[0m\n",
        "\u001b[0;32m/Users/arokem/usr/local/lib/python2.7/site-packages/dipy/reconst/dti.py\u001b[0m in \u001b[0;36m__init__\u001b[0;34m(self, data, b_values, grad_table, mask, thresh, fit_method, verbose, *args, **kargs)\u001b[0m\n\u001b[1;32m    152\u001b[0m         \u001b[0;31m#Perform WLS fit on masked data\u001b[0m\u001b[0;34m\u001b[0m\u001b[0;34m\u001b[0m\u001b[0m\n\u001b[1;32m    153\u001b[0m         \u001b[0mdti_params\u001b[0m \u001b[0;34m=\u001b[0m \u001b[0mfit_method\u001b[0m\u001b[0;34m(\u001b[0m\u001b[0mB\u001b[0m\u001b[0;34m,\u001b[0m \u001b[0mdata\u001b[0m\u001b[0;34m,\u001b[0m \u001b[0;34m*\u001b[0m\u001b[0margs\u001b[0m\u001b[0;34m,\u001b[0m \u001b[0;34m**\u001b[0m\u001b[0mkargs\u001b[0m\u001b[0;34m)\u001b[0m\u001b[0;34m\u001b[0m\u001b[0m\n\u001b[0;32m--> 154\u001b[0;31m         \u001b[0mself\u001b[0m\u001b[0;34m.\u001b[0m\u001b[0mmodel_params\u001b[0m \u001b[0;34m=\u001b[0m \u001b[0mdti_params\u001b[0m\u001b[0;34m\u001b[0m\u001b[0m\n\u001b[0m\u001b[1;32m    155\u001b[0m \u001b[0;34m\u001b[0m\u001b[0m\n\u001b[1;32m    156\u001b[0m     \u001b[0;31m### Self Diffusion Tensor Property ###\u001b[0m\u001b[0;34m\u001b[0m\u001b[0;34m\u001b[0m\u001b[0m\n",
        "\u001b[0;31mTypeError\u001b[0m: restore_fit_tensor() takes at least 3 arguments (2 given)"
       ]
      },
      {
       "output_type": "stream",
       "stream": "stdout",
       "text": [
        "\n"
       ]
      }
     ],
     "prompt_number": 6
    },
    {
     "cell_type": "code",
     "collapsed": false,
     "input": [],
     "language": "python",
     "metadata": {},
     "outputs": []
    }
   ],
   "metadata": {}
  }
 ]
}