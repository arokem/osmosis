{
 "metadata": {
  "name": "cluster_fodf_anatomy"
 },
 "nbformat": 3,
 "nbformat_minor": 0,
 "worksheets": [
  {
   "cells": [
    {
     "cell_type": "code",
     "collapsed": false,
     "input": [
      "import os\n",
      "import tempfile\n",
      "from IPython.display import Image, display\n",
      "\n",
      "import nibabel as ni\n",
      "\n",
      "import osmosis as oz\n",
      "import osmosis.model.analysis as ozm\n",
      "import osmosis.model.dti as dti\n",
      "import osmosis.model.sparse_deconvolution as ssd\n",
      "\n",
      "import osmosis.viz.maya as maya\n",
      "import osmosis.viz.mpl as mpl\n",
      "\n",
      "import osmosis.utils as ozu\n",
      "import osmosis.volume as ozv\n",
      "import osmosis.io as oio\n",
      "oio.data_path = '/biac4/wandell/biac2/wandell6/data/arokem/osmosis'\n",
      "import osmosis.tensor as ozt"
     ],
     "language": "python",
     "metadata": {},
     "outputs": [],
     "prompt_number": 1
    },
    {
     "cell_type": "code",
     "collapsed": false,
     "input": [
      "subject = 'FP'\n",
      "data_1k_1, data_1k_2 = oio.get_dwi_data(1000, subject)"
     ],
     "language": "python",
     "metadata": {},
     "outputs": [],
     "prompt_number": 2
    },
    {
     "cell_type": "code",
     "collapsed": false,
     "input": [
      "vol_anat = oio.get_t1(resample=ni.load(oio.data_path + '/%s/%s_wm_mask.nii.gz'%(subject, subject)))\n",
      "cc_vol = ni.load('/home/arokem/data/osmosis/%s/%s_cc.nii.gz'%(subject, subject)).get_data()"
     ],
     "language": "python",
     "metadata": {},
     "outputs": [],
     "prompt_number": 3
    },
    {
     "cell_type": "code",
     "collapsed": false,
     "input": [
      "# All voxels in the CC: \n",
      "cc_idx = np.array(np.where(cc_vol==1))\n",
      "\n",
      "# WM: \n",
      "wm_mask = np.zeros(ni.load(data_1k_1[0]).shape[:3])\n",
      "wm_nifti = ni.load(oio.data_path + '/%s/%s_wm_mask.nii.gz'%(subject, subject)).get_data()\n",
      "wm_mask[np.where(wm_nifti==1)] = 1\n",
      "\n",
      "wm_idx = np.array(np.where(wm_mask==1))"
     ],
     "language": "python",
     "metadata": {},
     "outputs": [],
     "prompt_number": 4
    },
    {
     "cell_type": "code",
     "collapsed": false,
     "input": [
      "# This is the optimal, according to the rRMSE median across b vals:  \n",
      "import sklearn.linear_model as lm\n",
      "alpha = 0.0005\n",
      "rho = 0.8\n",
      "solver = lm.ElasticNet\n",
      "solver_params = dict(alpha=alpha,\n",
      "                     rho=rho,\n",
      "                     fit_intercept=False,\n",
      "                     positive=True)\n",
      "\n",
      "\n",
      "ad_rd = oio.get_ad_rd(subject, 1000)\n",
      "SD_1k_1 = ssd.SparseDeconvolutionModel(*data_1k_1, mask=wm_mask, solver_params=solver_params, params_file='temp', axial_diffusivity=ad_rd[0]['AD'], radial_diffusivity=ad_rd[0]['RD'])\n"
     ],
     "language": "python",
     "metadata": {},
     "outputs": [
      {
       "output_type": "stream",
       "stream": "stdout",
       "text": [
        "Loading from file: /biac4/wandell/biac2/wandell6/data/arokem/osmosis/FP/0009_01_DWI_2mm150dir_2x_b1000_aligned_trilin.bvals\n",
        "Loading from file: /biac4/wandell/biac2/wandell6/data/arokem/osmosis/FP/0009_01_DWI_2mm150dir_2x_b1000_aligned_trilin.bvecs\n"
       ]
      },
      {
       "output_type": "stream",
       "stream": "stderr",
       "text": [
        "/home/arokem/usr/local/lib/python2.7/site-packages/sklearn/linear_model/coordinate_descent.py:137: DeprecationWarning: rho was renamed to l1_ratio and will be removed in 0.15\n",
        "  \"in 0.15\", DeprecationWarning)\n"
       ]
      }
     ],
     "prompt_number": "*"
    },
    {
     "cell_type": "code",
     "collapsed": false,
     "input": [
      "%gui wx\n",
      "fig = maya.plot_cut_planes(vol_anat,\n",
      "                    slice_coronal=None,\n",
      "                    slice_saggital=15,\n",
      "                    slice_axial=None,\n",
      "                    view_azim=-40,\n",
      "                    view_elev=60,\n",
      "                    )\n",
      "\n",
      "#fig = None\n",
      "for vox_idx in cc_idx.T:\n",
      "    if fig is None:\n",
      "        fig = maya.plot_vectors(SD_1k_1.cluster_fodf[vox_idx[0], vox_idx[1], vox_idx[2]], origin=[vox_idx[0], vox_idx[1], vox_idx[2]])\n",
      "    else: \n",
      "        maya.plot_vectors(SD_1k_1.cluster_fodf[vox_idx[0], vox_idx[1], vox_idx[2]], origin=[vox_idx[0], vox_idx[1], vox_idx[2]], figure=fig)"
     ],
     "language": "python",
     "metadata": {},
     "outputs": [
      {
       "output_type": "stream",
       "stream": "stdout",
       "text": [
        " \r",
        "SparseDeconvolutionModel.model_params [****************100%******************]  64463 of 64464 complete "
       ]
      }
     ],
     "prompt_number": "*"
    },
    {
     "cell_type": "code",
     "collapsed": false,
     "input": [
      "a = 1"
     ],
     "language": "python",
     "metadata": {},
     "outputs": [],
     "prompt_number": "*"
    },
    {
     "cell_type": "code",
     "collapsed": false,
     "input": [
      "a "
     ],
     "language": "python",
     "metadata": {},
     "outputs": [],
     "prompt_number": "*"
    },
    {
     "cell_type": "code",
     "collapsed": false,
     "input": [],
     "language": "python",
     "metadata": {},
     "outputs": [],
     "prompt_number": "*"
    }
   ],
   "metadata": {}
  }
 ]
}