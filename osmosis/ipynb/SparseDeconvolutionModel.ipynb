{
 "metadata": {
  "name": "SparseDeconvolutionModel"
 },
 "nbformat": 3,
 "worksheets": [
  {
   "cells": [
    {
     "cell_type": "code",
     "collapsed": false,
     "input": [
      "import os",
      "import osmosis as oz",
      "import osmosis.model as ozm",
      "import osmosis.viz as viz",
      "import osmosis.utils as ozu",
      "import osmosis.volume as ozv",
      "reload(ozm)",
      "reload(ozu)",
      "",
      "",
      "",
      "data_path = '/Users/arokem/projects/osmosis/osmosis/data/'",
      "",
      "dwi1 = '0005_01_DTI_2mm_150dir_2x_b2000_aligned_trilin.nii.gz'",
      "dwi2 = '0007_01_DTI_2mm_150dir_2x_b2000_aligned_trilin.nii.gz'",
      "",
      "bvecs1 = '0005_01_DTI_2mm_150dir_2x_b2000_aligned_trilin.bvecs'",
      "bvecs2 = '0007_01_DTI_2mm_150dir_2x_b2000_aligned_trilin.bvecs'",
      "",
      "bvals1 = '0005_01_DTI_2mm_150dir_2x_b2000_aligned_trilin.bvals'",
      "bvals2 = '0007_01_DTI_2mm_150dir_2x_b2000_aligned_trilin.bvals'",
      "",
      "# If you want to choose some collection of voxels and analyze there: ",
      "mask_array = np.zeros((81, 106, 76))",
      "",
      "#mask_array[30:60,30:60,30:60] = 1",
      "i = (40,40,40)",
      "",
      "mask_array[i] = 1",
      "",
      "# These are based on the calculations in GetADandRD",
      "AD, RD = (1.2855920166623125, 0.106324274669824)",
      "",
      "Model = ozm.SparseDeconvolutionModel(data_path + dwi1,",
      "                                     data_path + bvecs1,",
      "                                     data_path + bvals1,",
      "                                     solver='Lasso',",
      "                                     mask=data_path + 'brainMask.nii.gz',",
      "                                     #mask=mask_array,",
      "                                     radial_diffusivity=RD,",
      "                                     axial_diffusivity=AD) ",
      "",
      "TM1 = ozm.TensorModel(data_path + dwi1, ",
      "                      data_path + bvecs1, ",
      "                      data_path + bvals1,",
      "                      mask=data_path + 'brainMask.nii.gz',",
      "                      #mask=mask_array,",
      "                      )",
      "",
      "TM2 = ozm.TensorModel(data_path + dwi2, ",
      "                      data_path + bvecs2, ",
      "                      data_path + bvals2,",
      "                      mask=data_path + 'brainMask.nii.gz',",
      "                      #mask=mask_array,",
      "                      )"
     ],
     "language": "python",
     "outputs": [],
     "prompt_number": 1
    },
    {
     "cell_type": "code",
     "collapsed": false,
     "input": [
      "plot(Model.fit[i])",
      "plot(Model.signal[i])",
      "",
      "ax = viz.quick_ax()",
      "ax.scatter(Model.fit[i], Model.signal[i])",
      "ozu.coeff_of_determination(Model.fit[i], Model.signal[i])"
     ],
     "language": "python",
     "outputs": [],
     "prompt_number": 2
    },
    {
     "cell_type": "code",
     "collapsed": false,
     "input": [
      "T1 = ozv.resample_volume(data_path + 'FP_t1.nii.gz', data_path + dwi1).get_data()"
     ],
     "language": "python",
     "outputs": [],
     "prompt_number": 10
    },
    {
     "cell_type": "code",
     "collapsed": false,
     "input": [
      "signal_rmse = np.nan * np.ones(Model.shape[:3])",
      "signal_rmse[Model.mask] = ozu.rmse(Model._flat_signal, TM2._flat_signal)",
      "model_rmse = np.nan * np.ones(Model.shape[:3])",
      "model_rmse[Model.mask] = ozu.rmse(Model.fit[Model.mask], TM2._flat_signal)",
      "relative_rmse = np.nan * np.ones(Model.shape[:3])",
      "relative_rmse = model_rmse/signal_rmse",
      "relative_rmse[np.isinf(relative_rmse)] = np.nan",
      "ax = viz.quick_ax()",
      "ax.hist(relative_rmse[~np.isnan(relative_rmse)],histtype='step',bins=100, color='g')",
      "fig = ax.get_figure()",
      "fig.set_size_inches([10,5])",
      "ax.set_xlim([0,2])",
      "",
      "ax.set_ylabel('# voxels')",
      "ax.set_xlabel('$RMSE_{relative}$')",
      "ax.set_title('Sparse deconvolution model')"
     ],
     "language": "python",
     "outputs": [],
     "prompt_number": 4
    },
    {
     "cell_type": "code",
     "collapsed": false,
     "input": [
      "plot(Model.model_params[40,40,40])"
     ],
     "language": "python",
     "outputs": [],
     "prompt_number": 5
    },
    {
     "cell_type": "code",
     "collapsed": false,
     "input": [
      "signal_rmse = np.nan * np.ones(TM1.shape[:3])",
      "signal_rmse[TM1.mask] = ozu.rmse(TM1._flat_signal, TM2._flat_signal)",
      "",
      "spd_rmse = np.nan * np.ones(TM1.shape[:3])",
      "tensor_rmse = np.nan * np.ones(TM1.shape[:3])",
      "",
      "# These are all our models so far: ",
      "tensor_rmse[Model.mask] = ozu.rmse(TM1.fit[Model.mask], TM2._flat_signal)",
      "spd_rmse[Model.mask] = ozu.rmse(Model.fit[Model.mask], TM2._flat_signal) ",
      "",
      "rel_ten_rmse = tensor_rmse/signal_rmse",
      "rel_spd_rmse = spd_rmse/signal_rmse"
     ],
     "language": "python",
     "outputs": [],
     "prompt_number": 6
    },
    {
     "cell_type": "code",
     "collapsed": false,
     "input": [
      "ax_all = viz.quick_ax()",
      "for relative_rmse, label, n_bins in zip([rel_ten_rmse, rel_spd_rmse], ",
      "                          ['Tensor', 'Sparse deconvolution'],",
      "                          [1700, 100]):",
      "    relative_rmse[np.where(relative_rmse==inf)] = np.nan",
      "    ax_all.hist(relative_rmse[~np.isnan(relative_rmse)], bins=n_bins, histtype='step', label=label)",
      "",
      "ax_all.set_xlim([0,2])",
      "ax_all.get_figure().set_size_inches([10,5])",
      "    ",
      "ax_all.legend()",
      "ax_all.set_ylabel('# voxels')",
      "ax_all.set_xlabel('$RMSE_{relative}$')"
     ],
     "language": "python",
     "outputs": [],
     "prompt_number": 7
    },
    {
     "cell_type": "code",
     "collapsed": false,
     "input": [
      "to_plot_ten = rel_ten_rmse.copy()",
      "to_plot_spd = rel_spd_rmse.copy()",
      "",
      "to_plot_ten[to_plot_ten>2] = np.nan",
      "to_plot_spd[to_plot_spd>3] = np.nan",
      "",
      "fig = viz.scatter_density(to_plot_ten, to_plot_spd)",
      "fig.axes[0].set_xlabel('$RMSE_{relative} (Tensor)$')",
      "fig.axes[0].set_ylabel('$RMSE_{relative} (Multi-tensor)$')",
      "fig.set_size_inches([12,10])"
     ],
     "language": "python",
     "outputs": [],
     "prompt_number": 8
    },
    {
     "cell_type": "code",
     "collapsed": false,
     "input": [
      "fig = viz.scatter_density(relative_rmse.ravel(), TM2.planarity.ravel())",
      "fig.axes[0].set_xlabel('$RMSE_{relative}$')",
      "fig.axes[0].set_ylabel('Tensor planarity')",
      "fig.set_size_inches([12,10])",
      "",
      "fig = viz.scatter_density(relative_rmse.ravel(), TM2.linearity.ravel())",
      "fig.axes[0].set_xlabel('$RMSE_{relative}$')",
      "fig.axes[0].set_ylabel('Tensor linearity')",
      "fig.set_size_inches([12,10])",
      "",
      "fig = viz.scatter_density(relative_rmse.ravel(), TM2.sphericity.ravel())",
      "fig.axes[0].set_xlabel('$RMSE_{relative}$')",
      "fig.axes[0].set_ylabel('Tensor sphericity')",
      "fig.set_size_inches([12,10])"
     ],
     "language": "python",
     "outputs": [],
     "prompt_number": 9
    },
    {
     "cell_type": "code",
     "collapsed": true,
     "input": [],
     "language": "python",
     "outputs": [],
     "prompt_number": 9
    }
   ]
  }
 ]
}