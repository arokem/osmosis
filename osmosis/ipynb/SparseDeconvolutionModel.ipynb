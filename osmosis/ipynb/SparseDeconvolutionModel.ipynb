{
 "metadata": {
  "name": "SparseDeconvolutionModel"
 },
 "nbformat": 3,
 "nbformat_minor": 0,
 "worksheets": [
  {
   "cells": [
    {
     "cell_type": "code",
     "collapsed": false,
     "input": [
      "import nibabel as ni\n",
      "import osmosis.model as ozm\n",
      "reload(ozm)\n",
      "import osmosis.viz as viz\n",
      "import osmosis.utils as ozu"
     ],
     "language": "python",
     "metadata": {},
     "outputs": [],
     "prompt_number": 45
    },
    {
     "cell_type": "code",
     "collapsed": false,
     "input": [
      "data_path = '/Users/arokem/projects/osmosis/osmosis/data/'\n",
      "\n",
      "dwi1 = '0005_01_DTI_2mm_150dir_2x_b2000_aligned_trilin.nii.gz'\n",
      "dwi2 = '0007_01_DTI_2mm_150dir_2x_b2000_aligned_trilin.nii.gz'\n",
      "\n",
      "bvecs1 = '0005_01_DTI_2mm_150dir_2x_b2000_aligned_trilin.bvecs'\n",
      "bvecs2 = '0007_01_DTI_2mm_150dir_2x_b2000_aligned_trilin.bvecs'\n",
      "\n",
      "bvals1 = '0005_01_DTI_2mm_150dir_2x_b2000_aligned_trilin.bvals'\n",
      "bvals2 = '0007_01_DTI_2mm_150dir_2x_b2000_aligned_trilin.bvals'\n",
      "\n",
      "#dwi1 = '0007_01_DWI_2mm150dir_2x_b4000_aligned_trilin.nii.gz'\n",
      "#dwi2 = '0005_01_DWI_2mm150dir_2x_b4000_aligned_trilin.nii.gz'\n",
      "\n",
      "#bvecs1 = '0007_01_DWI_2mm150dir_2x_b4000_aligned_trilin.bvecs'\n",
      "#bvecs2 = '0005_01_DWI_2mm150dir_2x_b4000_aligned_trilin.bvecs'\n",
      "\n",
      "#bvals1 = '0007_01_DWI_2mm150dir_2x_b4000_aligned_trilin.bvals'\n",
      "#bvals2 = '0005_01_DWI_2mm150dir_2x_b4000_aligned_trilin.bvals'\n",
      "\n",
      "\n",
      "wm_mask = ni.load(data_path + 'FP_white_matter_resamp_to_dwi.nii.gz').get_data()\n",
      "# If you want to choose some collection of voxels and analyze there: \n",
      "mask_array = np.zeros((81, 106, 76))\n",
      "\n",
      "mask_array[50:52,50:52,50:52] = 1\n",
      "# mask_array[np.isfinite(wm_mask)] = 1\n",
      "\n",
      "# These are based on the calculations in GetADandRD\n",
      "AD1=1.4291\n",
      "RD1=0.3507\n",
      "#RD1=0\n",
      "#AD1 = 1.5\n",
      "AD2=1.4202\n",
      "RD2=0.3357\n",
      "#AD2 = 1.5\n",
      "#RD2 = 0\n",
      "\n",
      "#solver_params = dict(alpha=0,\n",
      "#                     rho=0,\n",
      "#                     fit_intercept=True,\n",
      "#                     positive=True)\n",
      "\n",
      "solver_params = None \n",
      "\n",
      "Model1 = ozm.SparseDeconvolutionModel(data_path + dwi1,\n",
      "                                     data_path + bvecs1,\n",
      "                                     data_path + bvals1,\n",
      "                                     mask=mask_array,\n",
      "                                     radial_diffusivity=RD1,\n",
      "                                     axial_diffusivity=AD1,\n",
      "                                     #over_sample=755,\n",
      "                                     solver_params=solver_params,\n",
      "                                     #params_file='temp'\n",
      "                                     ) \n",
      "\n",
      "\n",
      "Model2 = ozm.SparseDeconvolutionModel(data_path + dwi2,\n",
      "                                     data_path + bvecs2,\n",
      "                                     data_path + bvals2,\n",
      "                                     mask=mask_array,\n",
      "                                     radial_diffusivity=RD2,\n",
      "                                     axial_diffusivity=AD1,\n",
      "                                     #over_sample=755,\n",
      "                                     solver_params=solver_params,\n",
      "                                     #params_file='temp'\n",
      "                                     ) "
     ],
     "language": "python",
     "metadata": {},
     "outputs": [
      {
       "output_type": "stream",
       "stream": "stdout",
       "text": [
        "Loading from file: /Users/arokem/projects/osmosis/osmosis/data/0005_01_DTI_2mm_150dir_2x_b2000_aligned_trilin.bvals\n",
        "Loading from file: /Users/arokem/projects/osmosis/osmosis/data/0005_01_DTI_2mm_150dir_2x_b2000_aligned_trilin.bvecs\n",
        "Loading from file: /Users/arokem/projects/osmosis/osmosis/data/0007_01_DTI_2mm_150dir_2x_b2000_aligned_trilin.bvals\n",
        "Loading from file: /Users/arokem/projects/osmosis/osmosis/data/0007_01_DTI_2mm_150dir_2x_b2000_aligned_trilin.bvecs\n"
       ]
      }
     ],
     "prompt_number": 46
    },
    {
     "cell_type": "code",
     "collapsed": false,
     "input": [
      "TM1 = ozm.TensorModel(data_path + dwi1, \n",
      "                      data_path + bvecs1, \n",
      "                      data_path + bvals1,\n",
      "                      mask=mask_array,\n",
      "                      )\n",
      "\n",
      "TM2 = ozm.TensorModel(data_path + dwi2, \n",
      "                      data_path + bvecs2, \n",
      "                      data_path + bvals2,\n",
      "                      mask=mask_array,\n",
      "                      )"
     ],
     "language": "python",
     "metadata": {},
     "outputs": [
      {
       "output_type": "stream",
       "stream": "stdout",
       "text": [
        "Loading from file: /Users/arokem/projects/osmosis/osmosis/data/0005_01_DTI_2mm_150dir_2x_b2000_aligned_trilin.bvals\n",
        "Loading from file: /Users/arokem/projects/osmosis/osmosis/data/0007_01_DTI_2mm_150dir_2x_b2000_aligned_trilin.bvals\n"
       ]
      }
     ],
     "prompt_number": 47
    },
    {
     "cell_type": "code",
     "collapsed": false,
     "input": [
      "fig = viz.mosaic(Model1.r_squared.T, cmap=matplotlib.cm.hot)\n",
      "fig.set_size_inches([15,10])"
     ],
     "language": "python",
     "metadata": {},
     "outputs": [
      {
       "output_type": "stream",
       "stream": "stdout",
       "text": [
        " \r",
        "SparseDeconvolutionModel.model_params [*                 2%                  ]  1360 of 59552 complete "
       ]
      }
     ],
     "prompt_number": "*"
    },
    {
     "cell_type": "code",
     "collapsed": false,
     "input": [
      "relative_rmse = ozm.relative_rmse(Model1, Model2)\n",
      "fig = viz.probability_hist(relative_rmse[np.isfinite(relative_rmse)], label='Sparse')\n",
      "tensor_rmse = ozm.relative_rmse(TM1,TM2)\n",
      "fig = viz.probability_hist(tensor_rmse[np.isfinite(tensor_rmse)], fig=fig, label='Tensor')\n",
      "fig.set_size_inches([10,5])\n",
      "\n",
      "fig.axes[0].set_ylabel('P(RMSE)')\n",
      "fig.axes[0].set_xlabel('$RMSE_{relative}$')\n",
      "plt.legend()\n"
     ],
     "language": "python",
     "metadata": {},
     "outputs": [],
     "prompt_number": "*"
    },
    {
     "cell_type": "code",
     "collapsed": false,
     "input": [
      "np.where(np.isfinite(Model1.model_params))"
     ],
     "language": "python",
     "metadata": {},
     "outputs": []
    },
    {
     "cell_type": "code",
     "collapsed": false,
     "input": [
      "vox_idx = (50,50,50)\n",
      "plot(Model1.model_params[vox_idx])"
     ],
     "language": "python",
     "metadata": {},
     "outputs": []
    },
    {
     "cell_type": "code",
     "collapsed": false,
     "input": [
      "vox_idx = (50,50,50)\n",
      "\n",
      "viz.sig_on_projection(Model1.bvecs[:,Model1.b_idx], Model1.signal[vox_idx], tri=True)\n",
      "viz.sig_on_projection(Model1.bvecs[:,Model1.b_idx], Model1.fit[vox_idx], tri=True)\n",
      "viz.sig_on_projection(TM1.bvecs[:,Model1.b_idx], TM1.fit[vox_idx], tri=True)\n",
      "\n",
      "fig, ax = plt.subplots(1, 2, squeeze=True)\n",
      "max_sig = np.max(Model1.signal[vox_idx])\n",
      "min_sig = np.min(Model1.signal[vox_idx])\n",
      "ax[0].scatter(Model1.signal[vox_idx], Model1.fit[vox_idx])\n",
      "ax[0].plot([min_sig,max_sig],[min_sig,max_sig], 'k--')\n",
      "ax[0].grid()\n",
      "ax[1].scatter(Model1.signal[vox_idx] ,TM1.fit[vox_idx])\n",
      "ax[1].plot([min_sig,max_sig],[min_sig,max_sig], 'k--')\n",
      "ax[1].grid()\n",
      "\n",
      "Model1.coeff_of_determination[vox_idx], TM1.coeff_of_determination[vox_idx], \n",
      "\n"
     ],
     "language": "python",
     "metadata": {},
     "outputs": []
    },
    {
     "cell_type": "code",
     "collapsed": false,
     "input": [
      "np.median(relative_rmse[np.isfinite(relative_rmse)])"
     ],
     "language": "python",
     "metadata": {},
     "outputs": []
    },
    {
     "cell_type": "code",
     "collapsed": false,
     "input": [
      "Model1.quantitative_anisotropy(5)[1][50,50,50]"
     ],
     "language": "python",
     "metadata": {},
     "outputs": [
      {
       "output_type": "stream",
       "stream": "stdout",
       "text": [
        " \r",
        "SparseDeconvolutionModel.quantitative_anisotropy [****************100%******************]  59551 of 59552 complete "
       ]
      },
      {
       "output_type": "pyout",
       "prompt_number": 4,
       "text": [
        "array([  58.,    3.,  135.,   66.,   81.])"
       ]
      },
      {
       "output_type": "stream",
       "stream": "stdout",
       "text": [
        "\n"
       ]
      }
     ],
     "prompt_number": 4
    },
    {
     "cell_type": "code",
     "collapsed": false,
     "input": [
      "qtconsole"
     ],
     "language": "python",
     "metadata": {},
     "outputs": []
    },
    {
     "cell_type": "code",
     "collapsed": false,
     "input": [
      "import dipy.tracking.eudx as eudx"
     ],
     "language": "python",
     "metadata": {},
     "outputs": [],
     "prompt_number": 5
    },
    {
     "cell_type": "code",
     "collapsed": false,
     "input": [
      "qa,inds = Model1.quantitative_anisotropy(5)"
     ],
     "language": "python",
     "metadata": {},
     "outputs": [
      {
       "output_type": "stream",
       "stream": "stdout",
       "text": [
        " \r",
        "SparseDeconvolutionModel.quantitative_anisotropy [****************100%******************]  59551 of 59552 complete "
       ]
      },
      {
       "output_type": "stream",
       "stream": "stdout",
       "text": [
        "\n"
       ]
      }
     ],
     "prompt_number": 12
    },
    {
     "cell_type": "code",
     "collapsed": false,
     "input": [
      "eu = eudx.EuDX(qa, inds, 100000, Model1.bvecs[:, Model1.b_idx])"
     ],
     "language": "python",
     "metadata": {},
     "outputs": [],
     "prompt_number": 26
    },
    {
     "cell_type": "code",
     "collapsed": false,
     "input": [
      "import osmosis.fibers as ozf"
     ],
     "language": "python",
     "metadata": {},
     "outputs": [],
     "prompt_number": 27
    },
    {
     "cell_type": "code",
     "collapsed": false,
     "input": [
      "FG = ozf.FiberGroup([ozf.Fiber(np.array(t).T) for t in eu], affine=Model1.affine)"
     ],
     "language": "python",
     "metadata": {},
     "outputs": [],
     "prompt_number": 28
    },
    {
     "cell_type": "code",
     "collapsed": false,
     "input": [
      "import osmosis.io as oio"
     ],
     "language": "python",
     "metadata": {},
     "outputs": [],
     "prompt_number": 29
    },
    {
     "cell_type": "code",
     "collapsed": false,
     "input": [
      "oio.pdb_from_fg(FG, '/Users/arokem/test.pdb')"
     ],
     "language": "python",
     "metadata": {},
     "outputs": [],
     "prompt_number": 31
    },
    {
     "cell_type": "code",
     "collapsed": false,
     "input": [
      "eudx.EuDX?\n"
     ],
     "language": "python",
     "metadata": {},
     "outputs": []
    },
    {
     "cell_type": "code",
     "collapsed": false,
     "input": [
      "FG.n_fibers"
     ],
     "language": "python",
     "metadata": {},
     "outputs": [
      {
       "output_type": "pyout",
       "prompt_number": 16,
       "text": [
        "385"
       ]
      }
     ],
     "prompt_number": 16
    },
    {
     "cell_type": "code",
     "collapsed": false,
     "input": [
      "vox_idx = (51,51,51)\n",
      "a = np.rad2deg(ozu.vector_angle(Model1.principal_diffusion_direction[vox_idx][0], Model2.principal_diffusion_direction[vox_idx][0]))\n",
      "b = 180-np.rad2deg(ozu.vector_angle(TM1.principal_diffusion_direction[vox_idx], TM2.principal_diffusion_direction[vox_idx]))\n",
      "\n",
      "a,b"
     ],
     "language": "python",
     "metadata": {},
     "outputs": [
      {
       "output_type": "pyout",
       "prompt_number": 28,
       "text": [
        "(0.38495909478381263, 36.842407835003883)"
       ]
      }
     ],
     "prompt_number": 28
    },
    {
     "cell_type": "code",
     "collapsed": false,
     "input": [
      "plot(TM1.model_params[vox_idx])\n",
      "plot(TM2.model_params[vox_idx])\n"
     ],
     "language": "python",
     "metadata": {},
     "outputs": [
      {
       "output_type": "pyout",
       "prompt_number": 27,
       "text": [
        "[<matplotlib.lines.Line2D at 0x10dfeaf10>]"
       ]
      },
      {
       "output_type": "display_data",
       "png": "[encoded data removed]",
       "text": [
        "<matplotlib.figure.Figure at 0x10dfeaa10>"
       ]
      }
     ],
     "prompt_number": 27
    },
    {
     "cell_type": "code",
     "collapsed": false,
     "input": [
      "aa = ozm.pdd_reliability(Model1, Model2)\n",
      "bb = ozm.pdd_reliability(TM1, TM2)"
     ],
     "language": "python",
     "metadata": {},
     "outputs": [
      {
       "output_type": "stream",
       "stream": "stdout",
       "text": [
        "Loading TensorModel params from: /Users/arokem/projects/osmosis/osmosis/data/0005_01_DTI_2mm_150dir_2x_b2000_aligned_trilinTensorModel.nii.gz\n",
        "Loading TensorModel params from: /Users/arokem/projects/osmosis/osmosis/data/0007_01_DTI_2mm_150dir_2x_b2000_aligned_trilinTensorModel.nii.gz"
       ]
      },
      {
       "output_type": "stream",
       "stream": "stdout",
       "text": [
        "\n"
       ]
      }
     ],
     "prompt_number": 55
    },
    {
     "cell_type": "code",
     "collapsed": false,
     "input": [
      "hist(aa[np.isfinite(aa)])\n",
      "hist(bb[np.isfinite(bb)])\n"
     ],
     "language": "python",
     "metadata": {},
     "outputs": [
      {
       "output_type": "pyout",
       "prompt_number": 56,
       "text": [
        "(array([4, 1, 0, 0, 0, 0, 1, 0, 1, 1]),\n",
        " array([  0.88964762,   6.67409887,  12.45855012,  18.24300137,\n",
        "        24.02745262,  29.81190387,  35.59635513,  41.38080638,\n",
        "        47.16525763,  52.94970888,  58.73416013]),\n",
        " <a list of 10 Patch objects>)"
       ]
      },
      {
       "output_type": "display_data",
       "png": "[encoded data removed]",
       "text": [
        "<matplotlib.figure.Figure at 0x10e375610>"
       ]
      }
     ],
     "prompt_number": 56
    },
    {
     "cell_type": "code",
     "collapsed": false,
     "input": [],
     "language": "python",
     "metadata": {},
     "outputs": []
    }
   ],
   "metadata": {}
  }
 ]
}