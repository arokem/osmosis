{
 "metadata": {
  "name": "SparseDeconvolutionModel"
 },
 "nbformat": 3,
 "nbformat_minor": 0,
 "worksheets": [
  {
   "cells": [
    {
     "cell_type": "code",
     "collapsed": false,
     "input": [
      "import nibabel as ni\n",
      "import osmosis.model as ozm\n",
      "reload(ozm)\n",
      "import osmosis.viz as viz\n",
      "import osmosis.utils as ozu"
     ],
     "language": "python",
     "metadata": {},
     "outputs": [],
     "prompt_number": 1
    },
    {
     "cell_type": "code",
     "collapsed": false,
     "input": [
      "data_path = '/Users/arokem/projects/osmosis/osmosis/data/'\n",
      "\n",
      "dwi1 = '0005_01_DTI_2mm_150dir_2x_b2000_aligned_trilin.nii.gz'\n",
      "dwi2 = '0007_01_DTI_2mm_150dir_2x_b2000_aligned_trilin.nii.gz'\n",
      "\n",
      "bvecs1 = '0005_01_DTI_2mm_150dir_2x_b2000_aligned_trilin.bvecs'\n",
      "bvecs2 = '0007_01_DTI_2mm_150dir_2x_b2000_aligned_trilin.bvecs'\n",
      "\n",
      "bvals1 = '0005_01_DTI_2mm_150dir_2x_b2000_aligned_trilin.bvals'\n",
      "bvals2 = '0007_01_DTI_2mm_150dir_2x_b2000_aligned_trilin.bvals'\n",
      "\n",
      "#dwi1 = '0007_01_DWI_2mm150dir_2x_b4000_aligned_trilin.nii.gz'\n",
      "#dwi2 = '0005_01_DWI_2mm150dir_2x_b4000_aligned_trilin.nii.gz'\n",
      "\n",
      "#bvecs1 = '0007_01_DWI_2mm150dir_2x_b4000_aligned_trilin.bvecs'\n",
      "#bvecs2 = '0005_01_DWI_2mm150dir_2x_b4000_aligned_trilin.bvecs'\n",
      "\n",
      "#bvals1 = '0007_01_DWI_2mm150dir_2x_b4000_aligned_trilin.bvals'\n",
      "#bvals2 = '0005_01_DWI_2mm150dir_2x_b4000_aligned_trilin.bvals'\n",
      "\n",
      "\n",
      "wm_mask = ni.load(data_path + 'FP_white_matter_resamp_to_dwi.nii.gz').get_data()\n",
      "# If you want to choose some collection of voxels and analyze there: \n",
      "mask_array = np.zeros((81, 106, 76))\n",
      "\n",
      "mask_array[50:52,50:52,50:52] = 1\n",
      "#mask_array[np.isfinite(wm_mask)] = 1\n",
      "\n",
      "# These are based on the calculations in GetADandRD\n",
      "AD1=1.4291\n",
      "RD1=0.3507\n",
      "#RD1=0\n",
      "#AD1 = 1.5\n",
      "AD2=1.4202\n",
      "RD2=0.3357\n",
      "#AD2 = 1.5\n",
      "#RD2 = 0\n",
      "\n",
      "\n",
      "data1 = ni.load(data_path + dwi1).get_data()\n",
      "bvecs1 = np.loadtxt(data_path + bvecs1)\n",
      "bvals1 = np.loadtxt(data_path + bvals1) \n",
      "data2 = ni.load(data_path + dwi2).get_data()\n",
      "bvecs2 = np.loadtxt(data_path + bvecs2)\n",
      "bvals2 = np.loadtxt(data_path + bvals2) \n",
      "\n",
      "fig, ax = plt.subplots(1)\n",
      "\n",
      "for this_alpha in [0, 0.0025, 0.0075, 0.025, 0.075]:\n",
      "\n",
      "    solver_params = dict(alpha=0,\n",
      "                     rho=0.8,\n",
      "                     fit_intercept=True,\n",
      "                     positive=True)\n",
      "\n",
      "    Model1 = ozm.SparseDeconvolutionModel(data1, bvecs1, bvals1,\n",
      "                                     mask=mask_array,\n",
      "                                     radial_diffusivity=RD1,\n",
      "                                     axial_diffusivity=AD1,\n",
      "                                     #over_sample=755,\n",
      "                                     solver_params=solver_params,\n",
      "                                     params_file='temp'\n",
      "                                     ) \n",
      "\n",
      "\n",
      "    Model2 = ozm.SparseDeconvolutionModel(data2, bvecs2, bvals2,\n",
      "                                     mask=mask_array,\n",
      "                                     radial_diffusivity=RD2,\n",
      "                                     axial_diffusivity=AD1,\n",
      "                                     #over_sample=755,\n",
      "                                     solver_params=solver_params,\n",
      "                                     params_file='temp'\n",
      "                                     )\n",
      "    rrmse = ozm.relative_rmse(Model1, Model2) \n",
      "    fig = viz.probability_hist(rrmse[np.isfinite(rrmse)], fig=fig, label='alpha = %s'%this_alpha)\n",
      "    \n",
      "TM1 = ozm.TensorModel(data1,bvecs1, bvals1,\n",
      "                      mask=mask_array,\n",
      "                      )\n",
      "\n",
      "TM2 = ozm.TensorModel(data2, bvecs2, bvals2,\n",
      "                      mask=mask_array,\n",
      "                      )\n",
      "rrmse = ozm.relative_rmse(TM1, TM2)\n",
      "fig = viz.probability_hist(rrmse[np.isfinite(rrmse)], fig=fig, label='Tensor')\n",
      "\n"
     ],
     "language": "python",
     "metadata": {},
     "outputs": [
      {
       "output_type": "stream",
       "stream": "stdout",
       "text": [
        " \r",
        "SparseDeconvolutionModel.model_params [*****************88%*************     ]  7 of 8 complete "
       ]
      },
      {
       "output_type": "stream",
       "stream": "stdout",
       "text": [
        " Predicting signal from TensorModel\n",
        "Fitting TensorModel params using dipy"
       ]
      },
      {
       "output_type": "stream",
       "stream": "stdout",
       "text": [
        "\n",
        "Predicting signal from TensorModel"
       ]
      },
      {
       "output_type": "stream",
       "stream": "stdout",
       "text": [
        "\n",
        "Loading TensorModel params from: TensorModel.nii.gz"
       ]
      },
      {
       "output_type": "stream",
       "stream": "stdout",
       "text": [
        "\n"
       ]
      },
      {
       "output_type": "display_data",
       "png": "[encoded data removed]",
       "text": [
        "<matplotlib.figure.Figure at 0x10d9583d0>"
       ]
      }
     ],
     "prompt_number": 3
    },
    {
     "cell_type": "code",
     "collapsed": false,
     "input": [],
     "language": "python",
     "metadata": {},
     "outputs": []
    }
   ],
   "metadata": {}
  }
 ]
}