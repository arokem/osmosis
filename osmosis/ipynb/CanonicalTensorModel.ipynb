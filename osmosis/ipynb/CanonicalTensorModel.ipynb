{
 "metadata": {
  "name": "CanonicalTensorModel"
 },
 "nbformat": 3,
 "worksheets": [
  {
   "cells": [
    {
     "cell_type": "code",
     "collapsed": false,
     "input": [
      "import os",
      "import osmosis as oz",
      "import osmosis.model as ozm",
      "import osmosis.viz as viz",
      "import osmosis.utils as ozu",
      "reload(ozm)",
      "reload(ozu)",
      "",
      "",
      "data_path = os.path.split(oz.__file__)[0] + '/data/'",
      "",
      "dwi1 = '0005_01_DTI_2mm_150dir_2x_b2000_aligned_trilin.nii.gz'",
      "dwi2 = '0007_01_DTI_2mm_150dir_2x_b2000_aligned_trilin.nii.gz'",
      "",
      "bvecs1 = '0005_01_DTI_2mm_150dir_2x_b2000_aligned_trilin.bvecs'",
      "bvecs2 = '0007_01_DTI_2mm_150dir_2x_b2000_aligned_trilin.bvecs'",
      "",
      "bvals1 = '0005_01_DTI_2mm_150dir_2x_b2000_aligned_trilin.bvals'",
      "bvals2 = '0007_01_DTI_2mm_150dir_2x_b2000_aligned_trilin.bvals'",
      "",
      "# If you want to choose some collection of voxels and analyze there: ",
      "mask_array = np.zeros((81, 106, 76))",
      "mask_array[40:42,40:42,40:42] = 1",
      "",
      "# These are based on the calculations in GetADandRD",
      "AD, RD, WD = (1.2855920166623125, 0.106324274669824, 1.9217305969490854)",
      "",
      "# Or, from theoretical considerations: ",
      "AD, RD, WD = (3.0, 0.0, 3.0)",
      "",
      "Model = ozm.CanonicalTensorModel(data_path + dwi1,",
      "                                 data_path + bvecs1,",
      "                                 data_path + bvals1,",
      "                                 mask=data_path + 'brainMask.nii.gz',",
      "                                 #mask=mask_array,",
      "                                 radial_diffusivity=RD,",
      "                                 axial_diffusivity=AD,",
      "                                 water_diffusivity=WD) ",
      "",
      "DT1 = ozm.TensorModel(data_path + dwi1,",
      "                      data_path + bvecs1,",
      "                      data_path + bvals1,",
      "                      mask=data_path + 'brainMask.nii.gz')",
      "",
      "DT2 = ozm.TensorModel(data_path + dwi2,",
      "                      data_path + bvecs2,",
      "                      data_path + bvals2,",
      "                      mask=data_path + 'brainMask.nii.gz')"
     ],
     "language": "python",
     "outputs": [],
     "prompt_number": 2
    },
    {
     "cell_type": "code",
     "collapsed": false,
     "input": [
      "i = (50,50,50)",
      "plot(Model.fit[i])",
      "",
      "plot(Model.signal_attenuation[i])",
      "",
      "ax = viz.quick_ax()",
      "ax.scatter(Model.fit[i], Model.signal_attenuation[i])",
      "ozu.coeff_of_determination(Model.fit[i], Model.signal_attenuation[i])",
      ""
     ],
     "language": "python",
     "outputs": [],
     "prompt_number": 4
    },
    {
     "cell_type": "code",
     "collapsed": false,
     "input": [
      "Model.model_params[40,40,40]"
     ],
     "language": "python",
     "outputs": [],
     "prompt_number": 4
    },
    {
     "cell_type": "code",
     "collapsed": false,
     "input": [
      "fig = viz.mosaic(Model.model_params[:,:,:,1].T, cmap=matplotlib.cm.hot, vmax=1)",
      "fig.set_size_inches([12,10])",
      "fig = viz.mosaic(Model.model_params[:,:,:,2].T, cmap=matplotlib.cm.hot, vmax=100)",
      "fig.set_size_inches([12,10])"
     ],
     "language": "python",
     "outputs": [],
     "prompt_number": 5
    },
    {
     "cell_type": "code",
     "collapsed": false,
     "input": [
      "fig = viz.scatter_density(Model.model_params[:,:,:,1].ravel(),",
      "                          Model.model_params[:,:,:,2].ravel())",
      "",
      "fig.set_size_inches([12,10])",
      "#fig.axes[0].set_xlim([0,0.5])",
      "#fig.axes[0].set_ylim([0,0.5])"
     ],
     "language": "python",
     "outputs": [],
     "prompt_number": 6
    },
    {
     "cell_type": "code",
     "collapsed": false,
     "input": [
      "ax = viz.quick_ax()",
      "p2 = Model.model_params[...,2].ravel()",
      "ax.hist(p2[~np.isnan(p2)],bins=1000)",
      "ax.set_xlim([0,500])"
     ],
     "language": "python",
     "outputs": [],
     "prompt_number": 7
    },
    {
     "cell_type": "code",
     "collapsed": true,
     "input": [],
     "language": "python",
     "outputs": []
    }
   ]
  }
 ]
}