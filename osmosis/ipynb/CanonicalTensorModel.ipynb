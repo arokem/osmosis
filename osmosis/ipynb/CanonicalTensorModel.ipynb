{
 "metadata": {
  "name": "CanonicalTensorModel"
 },
 "nbformat": 3,
 "worksheets": [
  {
   "cells": [
    {
     "cell_type": "code",
     "collapsed": false,
     "input": [
      "import os",
      "import osmosis as oz",
      "import osmosis.model as ozm",
      "import osmosis.viz as viz",
      "import osmosis.volume as ozv",
      "import osmosis.utils as ozu",
      "reload(ozm)",
      "reload(ozu)",
      "",
      "",
      "data_path = os.path.split(oz.__file__)[0] + '/data/'",
      "",
      "dwi1 = '0005_01_DTI_2mm_150dir_2x_b2000_aligned_trilin.nii.gz'",
      "dwi2 = '0007_01_DTI_2mm_150dir_2x_b2000_aligned_trilin.nii.gz'",
      "",
      "bvecs1 = '0005_01_DTI_2mm_150dir_2x_b2000_aligned_trilin.bvecs'",
      "bvecs2 = '0007_01_DTI_2mm_150dir_2x_b2000_aligned_trilin.bvecs'",
      "",
      "bvals1 = '0005_01_DTI_2mm_150dir_2x_b2000_aligned_trilin.bvals'",
      "bvals2 = '0007_01_DTI_2mm_150dir_2x_b2000_aligned_trilin.bvals'",
      "",
      "# If you want to choose some collection of voxels and analyze there: ",
      "mask_array = np.zeros((81, 106, 76))",
      "mask_array[40:42,40:42,40:42] = 1",
      "",
      "# These are based on the calculations in GetADandRD",
      "AD, RD = (1.2855920166623125, 0.106324274669824)",
      "",
      "# Or, from theoretical considerations: ",
      "# AD, RD, WD = (3.0, 0.0, 3.0)",
      "",
      "Model = ozm.CanonicalTensorModel(data_path + dwi1,",
      "                                 data_path + bvecs1,",
      "                                 data_path + bvals1,",
      "                                 mask=data_path + 'brainMask.nii.gz',",
      "                                 #mask=mask_array,",
      "                                 radial_diffusivity=RD,",
      "                                 axial_diffusivity=AD) ",
      "",
      "",
      "TM2 = ozm.TensorModel(data_path + dwi2, ",
      "                      data_path + bvecs2, ",
      "                      data_path + bvals2,",
      "                      mask=data_path + 'brainMask.nii.gz')"
     ],
     "language": "python",
     "outputs": [],
     "prompt_number": 1
    },
    {
     "cell_type": "code",
     "collapsed": false,
     "input": [
      "plot(Model.fit[40,40,40])",
      "plot(Model.signal[40,40,40])",
      "",
      "ax = viz.quick_ax()",
      "ax.scatter(Model.fit[40,40,40], Model.signal[40,40,40])",
      "ozu.coeff_of_determination(Model.fit[40,40,40], Model.signal[40,40,40])"
     ],
     "language": "python",
     "outputs": [],
     "prompt_number": 2
    },
    {
     "cell_type": "code",
     "collapsed": false,
     "input": [
      "ax = viz.quick_ax()",
      "to_hist1 = Model.model_params[Model.mask,1]",
      "ax.hist(to_hist1[~np.isnan(to_hist1)], histtype='step',bins=1000, label='Canonical tensor parameter')",
      "to_hist2 = Model.model_params[Model.mask,2]",
      "ax.hist(to_hist2[~np.isnan(to_hist2)], histtype='step', bins=1000, label='Sphere parameter')",
      "fig = ax.get_figure()",
      "fig.set_size_inches([10,5])",
      "ax.set_xlim([0,1])",
      "ax.set_xlabel('Parameter value')",
      "ax.set_ylabel('# voxels')",
      "",
      "ax.legend()",
      "",
      "idx = np.logical_and(to_hist1<1, to_hist2<1)",
      "fig = viz.scatter_density(to_hist1[idx], to_hist2[idx])",
      "fig.axes[0].set_xlabel('Canonical tensor parameter')",
      "fig.axes[0].set_ylabel('Sphere parameter')",
      "fig.set_size_inches([10,10])"
     ],
     "language": "python",
     "outputs": [],
     "prompt_number": 6
    },
    {
     "cell_type": "code",
     "collapsed": false,
     "input": [
      "T1 = ozv.resample_volume(data_path + 'FP_t1.nii.gz', data_path + dwi1).get_data()"
     ],
     "language": "python",
     "outputs": [],
     "prompt_number": 7
    },
    {
     "cell_type": "code",
     "collapsed": false,
     "input": [
      "fig = viz.mosaic(T1.T, cmap=matplotlib.cm.bone, cbar=False)",
      "fig = viz.mosaic(Model.model_params[:,:,:,1].T, fig=fig, cmap=matplotlib.cm.hot, vmax=1)",
      "fig.set_size_inches([12,8])",
      "",
      "fig = viz.mosaic(T1.T, cmap=matplotlib.cm.bone, cbar=False)",
      "fig = viz.mosaic(Model.model_params[:,:,:,2].T,fig=fig, cmap=matplotlib.cm.hot, vmax=1)",
      "fig.set_size_inches([12,8])"
     ],
     "language": "python",
     "outputs": [],
     "prompt_number": 8
    },
    {
     "cell_type": "code",
     "collapsed": false,
     "input": [
      "fractional_anisotropy = ((Model.model_params[:,:,:,1]-Model.model_params[:,:,:,2])/",
      "                        (Model.model_params[:,:,:,1] + Model.model_params[:,:,:,2]))",
      "",
      "ax = viz.quick_ax()",
      "ax.hist(fractional_anisotropy[~np.isnan(fractional_anisotropy)],histtype='step', bins=100)",
      "ax.set_xlim([-1,1])",
      "ax.set_xlabel('$ (w_1 - w_2)/(w_1 + w_2) $')",
      "ax.set_ylabel('# voxels')"
     ],
     "language": "python",
     "outputs": [],
     "prompt_number": 21
    },
    {
     "cell_type": "code",
     "collapsed": false,
     "input": [
      "fig = viz.mosaic(T1.T, cmap=matplotlib.cm.bone, cbar=False)",
      "fig = viz.mosaic(fractional_anisotropy.T,fig=fig, cmap=matplotlib.cm.RdBu_r, vmax=1, vmin=-1)",
      "fig.set_size_inches([12,8])"
     ],
     "language": "python",
     "outputs": [],
     "prompt_number": 23
    },
    {
     "cell_type": "code",
     "collapsed": false,
     "input": [
      "fig = viz.scatter_density(fractional_anisotropy.ravel(), TM2.linearity.ravel())",
      "fig.axes[0].set_xlabel('$(w_1-w_2)/(w_1 + w_2)$')",
      "fig.axes[0].set_ylabel('Tensor linearity')",
      "fig.set_size_inches([12,10])",
      "",
      "fig = viz.scatter_density(fractional_anisotropy.ravel(), TM2.sphericity.ravel())",
      "fig.axes[0].set_xlabel('$(w_1-w_2)/(w_1 + w_2)$')",
      "fig.axes[0].set_ylabel('Tensor sphericity')",
      "fig.set_size_inches([12,10])",
      "",
      "fig = viz.scatter_density(fractional_anisotropy.ravel(), TM2.planarity.ravel())",
      "fig.axes[0].set_xlabel('$(w_1-w_2)/(w_1 + w_2)$')",
      "fig.axes[0].set_ylabel('Tensor planarity')",
      "fig.set_size_inches([12,10])"
     ],
     "language": "python",
     "outputs": [],
     "prompt_number": 29
    },
    {
     "cell_type": "code",
     "collapsed": false,
     "input": [
      "signal_rmse = np.nan * np.ones(Model.shape[:3])",
      "signal_rmse[Model.mask] = ozu.rmse(Model._flat_signal, TM2._flat_signal)",
      "model_rmse = np.nan * np.ones(Model.shape[:3])",
      "model_rmse[Model.mask] = ozu.rmse(Model.fit[Model.mask], TM2._flat_signal)",
      "relative_rmse = np.nan * np.ones(Model.shape[:3])",
      "relative_rmse = model_rmse/signal_rmse",
      "relative_rmse[np.isinf(relative_rmse)] = np.nan",
      "ax = viz.quick_ax()",
      "ax.hist(relative_rmse[~np.isnan(relative_rmse)],histtype='step',bins=100, color='g')",
      "fig = ax.get_figure()",
      "fig.set_size_inches([10,5])",
      "ax.set_xlim([0,2])",
      "",
      "ax.set_ylabel('# voxels')",
      "ax.set_xlabel('$RMSE_{relative}$')",
      "ax.set_title('Canonical Tensor model')"
     ],
     "language": "python",
     "outputs": [],
     "prompt_number": 24
    },
    {
     "cell_type": "code",
     "collapsed": false,
     "input": [
      "fig = viz.mosaic(T1.T, cbar=False, cmap=matplotlib.cm.bone)",
      "to_show = relative_rmse.copy()",
      "lb = 0.9",
      "ub = 1.5",
      "to_show[np.logical_or(to_show<lb, to_show>ub)] = np.nan",
      "",
      "fig = viz.mosaic(to_show.T, fig=fig, cmap=matplotlib.cm.YlOrRd,vmin=0, vmax=1.5)",
      "fig.set_size_inches([15,10])",
      "",
      "fig2 = viz.mosaic(T1.T, cbar=False, cmap=matplotlib.cm.bone)",
      "fig2 = viz.mosaic(relative_rmse.T, fig=fig2, cmap=matplotlib.cm.YlOrRd,vmin=0, vmax=1.5)",
      "",
      "fig2.set_size_inches([15,10])"
     ],
     "language": "python",
     "outputs": [],
     "prompt_number": 25
    },
    {
     "cell_type": "code",
     "collapsed": true,
     "input": [],
     "language": "python",
     "outputs": []
    }
   ]
  }
 ]
}