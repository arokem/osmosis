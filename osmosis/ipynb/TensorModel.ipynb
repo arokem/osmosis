{
 "metadata": {
  "name": "TensorModel"
 },
 "nbformat": 3,
 "worksheets": [
  {
   "cells": [
    {
     "cell_type": "code",
     "collapsed": false,
     "input": [
      "import os",
      "import nibabel as ni",
      "",
      "import osmosis as oz",
      "import osmosis.model as ozm",
      "import osmosis.viz as viz",
      "import osmosis.utils as ozu",
      "import osmosis.volume as ozv",
      "reload(ozm)",
      "reload(ozu)",
      "reload(ozv)",
      "",
      "data_path = os.path.split(oz.__file__)[0] + '/data/'",
      "",
      "dwi1 = '0005_01_DTI_2mm_150dir_2x_b2000_aligned_trilin.nii.gz'",
      "dwi2 = '0007_01_DTI_2mm_150dir_2x_b2000_aligned_trilin.nii.gz'",
      "",
      "bvecs1 = '0005_01_DTI_2mm_150dir_2x_b2000_aligned_trilin.bvecs'",
      "bvecs2 = '0007_01_DTI_2mm_150dir_2x_b2000_aligned_trilin.bvecs'",
      "",
      "bvals1 = '0005_01_DTI_2mm_150dir_2x_b2000_aligned_trilin.bvals'",
      "bvals2 = '0007_01_DTI_2mm_150dir_2x_b2000_aligned_trilin.bvals'",
      "",
      "",
      "TM1 = ozm.TensorModel(data_path + dwi1, ",
      "                      data_path + bvecs1, ",
      "                      data_path + bvals1, ",
      "                      mask=data_path + 'brainMask.nii.gz')",
      "",
      "",
      "TM2 = ozm.TensorModel(data_path + dwi2, ",
      "                      data_path + bvecs2, ",
      "                      data_path + bvals2,",
      "                      mask=data_path + 'brainMask.nii.gz')"
     ],
     "language": "python",
     "outputs": [],
     "prompt_number": 1
    },
    {
     "cell_type": "code",
     "collapsed": false,
     "input": [
      "signal_rmse = np.nan * np.ones(TM1.shape[:3])",
      "signal_rmse[TM1.mask] = ozu.rmse(TM1._flat_signal, TM2._flat_signal)",
      "model_rmse = np.nan * np.ones(TM1.shape[:3])",
      "model_rmse[TM1.mask] = ozu.rmse(TM1.fit[TM1.mask], TM2._flat_signal)",
      "relative_rmse = np.nan * np.ones(TM1.shape[:3])",
      "relative_rmse = model_rmse/signal_rmse",
      "relative_rmse[np.isinf(relative_rmse)] = np.nan",
      "ax = viz.quick_ax()",
      "ax.hist(relative_rmse[~np.isnan(relative_rmse)],histtype='step',bins=1000)",
      "fig = ax.get_figure()",
      "fig.set_size_inches([10,5])",
      "ax.set_xlim([0,2])",
      "",
      "ax.set_ylabel('# voxels')",
      "ax.set_xlabel('$RMSE_{relative}$')",
      "ax.set_title('Tensor model')"
     ],
     "language": "python",
     "outputs": [],
     "prompt_number": 2
    },
    {
     "cell_type": "code",
     "collapsed": false,
     "input": [
      "T1 = ozv.resample_volume(data_path + 'FP_t1.nii.gz', data_path + dwi1).get_data()"
     ],
     "language": "python",
     "outputs": [],
     "prompt_number": 3
    },
    {
     "cell_type": "code",
     "collapsed": false,
     "input": [
      "fig = viz.mosaic(T1.T, cbar=False, cmap=matplotlib.cm.bone)",
      "to_show = relative_rmse.copy()",
      "lb = 0.9",
      "ub = 1.5",
      "to_show[np.logical_or(to_show<lb, to_show>ub)] = np.nan",
      "",
      "fig = viz.mosaic(to_show.T, fig=fig, cmap=matplotlib.cm.YlOrRd,vmin=0, vmax=1.5)",
      "fig.set_size_inches([15,10])",
      "",
      "fig2 = viz.mosaic(T1.T, cbar=False, cmap=matplotlib.cm.bone)",
      "fig2 = viz.mosaic(relative_rmse.T, fig=fig2, cmap=matplotlib.cm.YlOrRd,vmin=0, vmax=1.5)",
      "",
      "fig2.set_size_inches([15,10])"
     ],
     "language": "python",
     "outputs": [],
     "prompt_number": 23
    },
    {
     "cell_type": "code",
     "collapsed": false,
     "input": [
      "to_plot_idx = np.where(relative_rmse<1.5)",
      "fig = viz.scatter_density(TM1.fractional_anisotropy[to_plot_idx], relative_rmse[to_plot_idx])",
      "fig.set_size_inches([10,10]) ",
      "",
      "fig = viz.scatter_density(TM1.linearity[to_plot_idx], relative_rmse[to_plot_idx])",
      "fig.set_size_inches([10,10]) ",
      "",
      "fig = viz.scatter_density(TM1.planarity[to_plot_idx], relative_rmse[to_plot_idx])",
      "fig.set_size_inches([10,10]) ",
      "",
      "fig = viz.scatter_density(TM1.sphericity[to_plot_idx], relative_rmse[to_plot_idx])",
      "fig.set_size_inches([10,10]) ",
      "",
      "",
      "fig = viz.scatter_density(TM1.mean_diffusivity[to_plot_idx], relative_rmse[to_plot_idx])",
      "fig.set_size_inches([10,10]) "
     ],
     "language": "python",
     "outputs": [],
     "prompt_number": 31
    },
    {
     "cell_type": "code",
     "collapsed": true,
     "input": [],
     "language": "python",
     "outputs": []
    }
   ]
  }
 ]
}