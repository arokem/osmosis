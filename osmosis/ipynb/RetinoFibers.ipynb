{
 "metadata": {
  "name": "RetinoFibers"
 },
 "nbformat": 3,
 "nbformat_minor": 0,
 "worksheets": [
  {
   "cells": [
    {
     "cell_type": "code",
     "collapsed": false,
     "input": [
      "import os\n",
      "import time\n",
      "import nibabel as ni\n",
      "import osmosis as oz\n",
      "import osmosis.model as ozm\n",
      "import osmosis.io as oio\n",
      "import osmosis.fibers as ozf\n",
      "reload(oio)\n",
      "reload(ozm)"
     ],
     "language": "python",
     "metadata": {},
     "outputs": [
      {
       "output_type": "stream",
       "stream": "stdout",
       "text": [
        "You do not have Mayavi installed. Some visualization functions might not work.\n"
       ]
      },
      {
       "output_type": "stream",
       "stream": "stderr",
       "text": [
        "/Library/Frameworks/EPD64.framework/Versions/7.2/lib/python2.7/site-packages/enthought/__init__.py:7: DeprecationWarning: enthought namespace imports are deprecated\n",
        "  DeprecationWarning)\n"
       ]
      },
      {
       "output_type": "pyout",
       "prompt_number": 1,
       "text": [
        "<module 'osmosis.model' from '/Users/arokem/usr/lib/python2.7/site-packages/osmosis/model.pyc'>"
       ]
      }
     ],
     "prompt_number": 1
    },
    {
     "cell_type": "code",
     "collapsed": true,
     "input": [
      "data_path = '/Users/arokem/projects/osmosis/osmosis/data/'\n",
      "\n",
      "fiber_path = data_path \n",
      "dwi, bvecs, bvals = [data_path + 'runs_cat_fliprot_aligned_trilin' + ext for ext in ['.nii.gz', '.bvecs', '.bvals']]\n"
     ],
     "language": "python",
     "metadata": {},
     "outputs": [],
     "prompt_number": 2
    },
    {
     "cell_type": "code",
     "collapsed": false,
     "input": [
      "fiber_name = 'LV1-3and14deg_RV1-3and14deg.pdb'\n",
      "fiber_weights = []\n",
      "affine_from_pdb = oio.fg_from_pdb(fiber_path + fiber_name).affine"
     ],
     "language": "python",
     "metadata": {},
     "outputs": [
      {
       "output_type": "stream",
       "stream": "stdout",
       "text": [
        "Loading a PDB version 2 file from: /Users/arokem/projects/osmosis/osmosis/data/LV1-3and14deg_RV1-3and14deg.pdb\n",
        "Done reading from file"
       ]
      },
      {
       "output_type": "stream",
       "stream": "stdout",
       "text": [
        "\n"
       ]
      }
     ],
     "prompt_number": 3
    },
    {
     "cell_type": "code",
     "collapsed": false,
     "input": [
      "t1 = time.time()\n",
      "\n",
      "#for this_fg in fg_names:  \n",
      "this_fg = fiber_name\n",
      "Model = ozm.FiberModel(dwi,\n",
      "                       bvecs,\n",
      "                       bvals,\n",
      "                       FG = oio.fg_from_pdb(fiber_path + this_fg),    \n",
      "                       # Generic values:    \n",
      "                       radial_diffusivity=0.5,\n",
      "                       axial_diffusivity=1.5,\n",
      "                       affine=affine_from_pdb.getI()\n",
      "                       )\n",
      "fiber_weights.append(Model.fiber_weights)\n",
      "life_fg = ozf.FiberGroup(Model.FG[np.where(fiber_weights[-1]>0.1)], affine=affine_from_pdb.getI())\n",
      "life_fg.xform()\n",
      "oio.pdb_from_fg(life_fg, fiber_path + this_fg.split('.')[0] + '_life_aff_from_pdb.pdb', affine=affine_from_pdb)\n",
      "print('Fitting for %s took %.2f hours'%(this_fg ,((time.time() - t1)/60.)/60.))"
     ],
     "language": "python",
     "metadata": {},
     "outputs": [
      {
       "output_type": "stream",
       "stream": "stdout",
       "text": [
        " \r",
        "FiberModel.matrix [****************100%******************]  51215 of 51216 complete "
       ]
      },
      {
       "ename": "IndexError",
       "evalue": "tuple index out of range",
       "output_type": "pyerr",
       "traceback": [
        "\u001b[0;31m---------------------------------------------------------------------------\u001b[0m\n\u001b[0;31mIndexError\u001b[0m                                Traceback (most recent call last)",
        "\u001b[0;32m<ipython-input-4-801ab901ca5d>\u001b[0m in \u001b[0;36m<module>\u001b[0;34m()\u001b[0m\n\u001b[1;32m     12\u001b[0m                        \u001b[0maffine\u001b[0m\u001b[0;34m=\u001b[0m\u001b[0maffine_from_pdb\u001b[0m\u001b[0;34m.\u001b[0m\u001b[0mgetI\u001b[0m\u001b[0;34m(\u001b[0m\u001b[0;34m)\u001b[0m\u001b[0;34m\u001b[0m\u001b[0m\n\u001b[1;32m     13\u001b[0m                        )\n\u001b[0;32m---> 14\u001b[0;31m \u001b[0mfiber_weights\u001b[0m\u001b[0;34m.\u001b[0m\u001b[0mappend\u001b[0m\u001b[0;34m(\u001b[0m\u001b[0mModel\u001b[0m\u001b[0;34m.\u001b[0m\u001b[0mfiber_weights\u001b[0m\u001b[0;34m)\u001b[0m\u001b[0;34m\u001b[0m\u001b[0m\n\u001b[0m\u001b[1;32m     15\u001b[0m \u001b[0mlife_fg\u001b[0m \u001b[0;34m=\u001b[0m \u001b[0mozf\u001b[0m\u001b[0;34m.\u001b[0m\u001b[0mFiberGroup\u001b[0m\u001b[0;34m(\u001b[0m\u001b[0mModel\u001b[0m\u001b[0;34m.\u001b[0m\u001b[0mFG\u001b[0m\u001b[0;34m[\u001b[0m\u001b[0mnp\u001b[0m\u001b[0;34m.\u001b[0m\u001b[0mwhere\u001b[0m\u001b[0;34m(\u001b[0m\u001b[0mfiber_weights\u001b[0m\u001b[0;34m[\u001b[0m\u001b[0;34m-\u001b[0m\u001b[0;36m1\u001b[0m\u001b[0;34m]\u001b[0m\u001b[0;34m>\u001b[0m\u001b[0;36m0.1\u001b[0m\u001b[0;34m)\u001b[0m\u001b[0;34m]\u001b[0m\u001b[0;34m,\u001b[0m \u001b[0maffine\u001b[0m\u001b[0;34m=\u001b[0m\u001b[0maffine_from_pdb\u001b[0m\u001b[0;34m.\u001b[0m\u001b[0mgetI\u001b[0m\u001b[0;34m(\u001b[0m\u001b[0;34m)\u001b[0m\u001b[0;34m)\u001b[0m\u001b[0;34m\u001b[0m\u001b[0m\n\u001b[1;32m     16\u001b[0m \u001b[0mlife_fg\u001b[0m\u001b[0;34m.\u001b[0m\u001b[0mxform\u001b[0m\u001b[0;34m(\u001b[0m\u001b[0;34m)\u001b[0m\u001b[0;34m\u001b[0m\u001b[0m\n",
        "\u001b[0;32m/Users/arokem/usr/lib/python2.7/site-packages/osmosis/descriptors.pyc\u001b[0m in \u001b[0;36m__get__\u001b[0;34m(self, obj, type)\u001b[0m\n\u001b[1;32m    140\u001b[0m         \u001b[0;31m# Errors in the following line are errors in setting a\u001b[0m\u001b[0;34m\u001b[0m\u001b[0;34m\u001b[0m\u001b[0m\n\u001b[1;32m    141\u001b[0m         \u001b[0;31m# OneTimeProperty\u001b[0m\u001b[0;34m\u001b[0m\u001b[0;34m\u001b[0m\u001b[0m\n\u001b[0;32m--> 142\u001b[0;31m         \u001b[0mval\u001b[0m \u001b[0;34m=\u001b[0m \u001b[0mself\u001b[0m\u001b[0;34m.\u001b[0m\u001b[0mgetter\u001b[0m\u001b[0;34m(\u001b[0m\u001b[0mobj\u001b[0m\u001b[0;34m)\u001b[0m\u001b[0;34m\u001b[0m\u001b[0m\n\u001b[0m\u001b[1;32m    143\u001b[0m \u001b[0;34m\u001b[0m\u001b[0m\n\u001b[1;32m    144\u001b[0m         \u001b[0msetattr\u001b[0m\u001b[0;34m(\u001b[0m\u001b[0mobj\u001b[0m\u001b[0;34m,\u001b[0m \u001b[0mself\u001b[0m\u001b[0;34m.\u001b[0m\u001b[0mname\u001b[0m\u001b[0;34m,\u001b[0m \u001b[0mval\u001b[0m\u001b[0;34m)\u001b[0m\u001b[0;34m\u001b[0m\u001b[0m\n",
        "\u001b[0;32m/Users/arokem/usr/lib/python2.7/site-packages/osmosis/model.pyc\u001b[0m in \u001b[0;36mfiber_weights\u001b[0;34m(self)\u001b[0m\n\u001b[1;32m   3169\u001b[0m                                                   \u001b[0mself\u001b[0m\u001b[0;34m.\u001b[0m\u001b[0mvoxel_signal_demeaned\u001b[0m\u001b[0;34m,\u001b[0m\u001b[0;34m\u001b[0m\u001b[0m\n\u001b[1;32m   3170\u001b[0m                                                   verbose=self.verbose)\n\u001b[0;32m-> 3171\u001b[0;31m \u001b[0;34m\u001b[0m\u001b[0m\n\u001b[0m\u001b[1;32m   3172\u001b[0m         \u001b[0;32mreturn\u001b[0m \u001b[0mfiber_w\u001b[0m\u001b[0;34m\u001b[0m\u001b[0m\n\u001b[1;32m   3173\u001b[0m \u001b[0;34m\u001b[0m\u001b[0m\n",
        "\u001b[0;32m/Users/arokem/usr/lib/python2.7/site-packages/osmosis/sgd.pyc\u001b[0m in \u001b[0;36mstochastic_gradient_descent\u001b[0;34m(y, X, momentum, prop_select, step_size, non_neg, prop_bad_checks, check_error_iter, max_error_checks, converge_on_r, verbose, plot)\u001b[0m\n\u001b[1;32m     79\u001b[0m \u001b[0;34m\u001b[0m\u001b[0m\n\u001b[1;32m     80\u001b[0m     \u001b[0mnum_data\u001b[0m \u001b[0;34m=\u001b[0m \u001b[0my\u001b[0m\u001b[0;34m.\u001b[0m\u001b[0mshape\u001b[0m\u001b[0;34m[\u001b[0m\u001b[0;36m0\u001b[0m\u001b[0;34m]\u001b[0m\u001b[0;34m\u001b[0m\u001b[0m\n\u001b[0;32m---> 81\u001b[0;31m     \u001b[0mnum_regressors\u001b[0m \u001b[0;34m=\u001b[0m \u001b[0mX\u001b[0m\u001b[0;34m.\u001b[0m\u001b[0mshape\u001b[0m\u001b[0;34m[\u001b[0m\u001b[0;36m1\u001b[0m\u001b[0;34m]\u001b[0m\u001b[0;34m\u001b[0m\u001b[0m\n\u001b[0m\u001b[1;32m     82\u001b[0m     \u001b[0mn_select\u001b[0m \u001b[0;34m=\u001b[0m \u001b[0mnp\u001b[0m\u001b[0;34m.\u001b[0m\u001b[0mround\u001b[0m\u001b[0;34m(\u001b[0m\u001b[0mprop_select\u001b[0m \u001b[0;34m*\u001b[0m \u001b[0mnum_data\u001b[0m\u001b[0;34m)\u001b[0m\u001b[0;34m\u001b[0m\u001b[0m\n\u001b[1;32m     83\u001b[0m \u001b[0;34m\u001b[0m\u001b[0m\n",
        "\u001b[0;31mIndexError\u001b[0m: tuple index out of range"
       ]
      },
      {
       "output_type": "stream",
       "stream": "stdout",
       "text": [
        " Generated model matrices\n"
       ]
      }
     ],
     "prompt_number": 4
    },
    {
     "cell_type": "code",
     "collapsed": false,
     "input": [
      "qtconsole"
     ],
     "language": "python",
     "metadata": {},
     "outputs": [],
     "prompt_number": 5
    },
    {
     "cell_type": "code",
     "collapsed": false,
     "input": [
      "hist(fiber_weights[-1])"
     ],
     "language": "python",
     "metadata": {},
     "outputs": []
    }
   ],
   "metadata": {}
  }
 ]
}