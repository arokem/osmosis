{
 "metadata": {
  "name": "Simulations3"
 },
 "nbformat": 3,
 "nbformat_minor": 0,
 "worksheets": [
  {
   "cells": [
    {
     "cell_type": "code",
     "collapsed": false,
     "input": [
      "import tempfile\n",
      "\n",
      "import scipy.stats as stats\n",
      "\n",
      "import dipy.core.geometry as geo\n",
      "import dipy.sims.phantom as dps\n",
      "import dipy.core.sphere as sphere\n",
      "import osmosis.model.base as dwi\n",
      "import osmosis.model.dti as dti\n",
      "import osmosis.model.sparse_deconvolution as ssd\n",
      "import osmosis.model.analysis as oza\n",
      "\n",
      "import osmosis.utils as ozu\n",
      "import osmosis.viz.maya as maya\n",
      "import osmosis.viz.mpl as mpl\n",
      "import osmosis.simulation as sim\n",
      "import osmosis.io as oio\n",
      "\n",
      "oio.data_path = '/home/arokem/data/osmosis/'"
     ],
     "language": "python",
     "metadata": {},
     "outputs": [],
     "prompt_number": 1
    },
    {
     "cell_type": "code",
     "collapsed": false,
     "input": [
      "n_sims = 500\n",
      "subject = 'FP'\n",
      "\n",
      "bvecs = []\n",
      "bvals = []\n",
      "data = []\n",
      "b_idx = []\n",
      "\n",
      "bvals_to_test = [500, 800, 1000, 1200, 1500, 1800, 2000, 2500, 3000, 3500, 4000, 4500]\n",
      "# Always use 1000 data for the noise and S0:\n",
      "data1, data2 =  oio.get_dwi_data(1000, subject)\n",
      "\n",
      "for bval in bvals_to_test:\n",
      "    bvals.append(np.loadtxt(data1[2])/1000. * bval)     \n",
      "    bvecs.append(np.loadtxt(data1[1]))\n",
      "    b_idx.append(np.where(bvals[-1]>0)[0])\n",
      "\n",
      "mask = oio.get_wm_mask(oio.data_path + '/%s/%s_wm_mask.nii.gz'%(subject, subject), resample=data1[0])\n",
      "#mask = oio.get_wm_mask(oio.data_path + '/%s/tensor_sucks.nii.gz'%(subject), resample=data1[0])\n"
     ],
     "language": "python",
     "metadata": {},
     "outputs": [],
     "prompt_number": 2
    },
    {
     "cell_type": "code",
     "collapsed": false,
     "input": [
      "# We use the b=1000 to estimate the noise - it probably doesn't matter becasue it's all the same anyway:\n",
      "DWI1 = dwi.DWI(*data1, mask=mask)\n",
      "DWI2 = dwi.DWI(*data2, mask=mask)\n",
      "noise_sig = (DWI1.data[DWI1.mask]- DWI2.data[DWI2.mask])/2.0\n",
      "fig = mpl.probability_hist(ozu.rms(noise_sig))\n",
      "S0 = [np.mean([stats.scoreatpercentile(DWI1._flat_S0, 25), stats.scoreatpercentile(DWI2._flat_S0, 25)]), \n",
      "      np.mean([np.median(DWI1._flat_S0), np.median(DWI2._flat_S0)]), \n",
      "      np.mean([stats.scoreatpercentile(DWI1._flat_S0, 75), stats.scoreatpercentile(DWI2._flat_S0, 75)])]"
     ],
     "language": "python",
     "metadata": {},
     "outputs": [
      {
       "output_type": "stream",
       "stream": "stdout",
       "text": [
        "Loading from file: /home/arokem/data/osmosis/FP/0009_01_DWI_2mm150dir_2x_b1000_aligned_trilin.bvals\n",
        "Loading from file: /home/arokem/data/osmosis/FP/0011_01_DWI_2mm150dir_2x_b1000_aligned_trilin.bvals\n",
        "Loading from file: /home/arokem/data/osmosis/FP/0009_01_DWI_2mm150dir_2x_b1000_aligned_trilin.nii.gz\n",
        "Loading from file: /home/arokem/data/osmosis/FP/0011_01_DWI_2mm150dir_2x_b1000_aligned_trilin.nii.gz"
       ]
      },
      {
       "output_type": "stream",
       "stream": "stdout",
       "text": [
        "\n"
       ]
      },
      {
       "output_type": "display_data",
       "png": "[encoded data removed]",
       "text": [
        "<matplotlib.figure.Figure at 0x87aced0>"
       ]
      }
     ],
     "prompt_number": 3
    },
    {
     "cell_type": "code",
     "collapsed": false,
     "input": [
      "# Likewise here, we take the first fascicle to point at one of the vectors from the b=4000 measurement:\n",
      "vec1 = bvecs[-1][:, b_idx[-1][0]]\n",
      "R = geo.rodriguez_axis_rotation(ozu.null_space([vec1, -vec1, [0,0,0]])[:,0], 90)\n",
      "vec2 = np.array(np.dot(R.T, vec1)).squeeze()\n",
      "n_bvecs=150"
     ],
     "language": "python",
     "metadata": {},
     "outputs": [],
     "prompt_number": 4
    },
    {
     "cell_type": "code",
     "collapsed": false,
     "input": [
      "angles = np.linspace(10, 90, 11)\n",
      "angles = np.linspace(0,90,3)\n",
      "weights = np.linspace(0.5, 1.0, 3)\n",
      "sphere = np.array(S0) #np.linspace(S0,S0,1)\n",
      "vol = []\n",
      "vecs2keep = [] "
     ],
     "language": "python",
     "metadata": {},
     "outputs": [],
     "prompt_number": 5
    },
    {
     "cell_type": "code",
     "collapsed": false,
     "input": [
      "angles"
     ],
     "language": "python",
     "metadata": {},
     "outputs": [
      {
       "output_type": "pyout",
       "prompt_number": 6,
       "text": [
        "array([  0.,  45.,  90.])"
       ]
      }
     ],
     "prompt_number": 6
    },
    {
     "cell_type": "code",
     "collapsed": false,
     "input": [
      "vec1, vec2"
     ],
     "language": "python",
     "metadata": {},
     "outputs": [
      {
       "output_type": "pyout",
       "prompt_number": 7,
       "text": [
        "(array([-0.0209 ,  0.81153, -0.58394]),\n",
        " array([ -9.99361940e-01,   5.55111512e-17,   3.57685114e-02]))"
       ]
      }
     ],
     "prompt_number": 7
    },
    {
     "cell_type": "code",
     "collapsed": false,
     "input": [
      "#deg_45 = np.pi/4\n",
      "#n_vecs = 15\n",
      "#vecs = []\n",
      "#odf_weights = np.random.rand(n_vecs)\n",
      "#odf_weights/= np.sum(odf_weights)\n",
      "for bval_idx in range(len(bvals)):\n",
      "    vol.append(np.empty((angles.shape[0], weights.shape[0], sphere.shape[0], n_bvecs + 10)))\n",
      "    vecs2keep.append(np.empty((angles.shape[0], weights.shape[0], sphere.shape[0], 2, 3)))\n",
      "\n",
      "    for i, angle in enumerate(angles):\n",
      "        # Rotate around the null-space of the vector and its inverse: \n",
      "        R = geo.rodriguez_axis_rotation(ozu.null_space([vec1, -vec1, [0,0,0]])[:,0], angle)\n",
      "        vec2 = np.array(np.dot(R.T, vec1)).squeeze()\n",
      "        odf_vecs = np.array([vec1, vec2])\n",
      "        for j, w in enumerate(weights):\n",
      "            for k, sph in enumerate(sphere):\n",
      "                odf = sim.ODF(odf_vecs, [w, 1-w])\n",
      "                vecs2keep[-1][i,j,k] = odf_vecs\n",
      "\n",
      "                v = sim.Voxel(bvecs[bval_idx][:, 10:], bvals[bval_idx][10:], odf)\n",
      "                S0 = 0 + np.ones(10) * sph\n",
      "                vol[-1][i,j,k] = np.concatenate((S0, v.signal(np.mean(S0)))) \n"
     ],
     "language": "python",
     "metadata": {},
     "outputs": [],
     "prompt_number": 8
    },
    {
     "cell_type": "code",
     "collapsed": false,
     "input": [
      "sfm_pdd_angs = [] \n",
      "tensor_pdd_angs = []\n",
      "between_pdd_angs = []\n",
      "rrmse_sfm = []\n",
      "rrmse_dt = []\n",
      "sfm_fvf = []\n",
      "dt_fa = []\n",
      "\n",
      "alpha = 0.0005\n",
      "l1_ratio = 0.8\n",
      "solver_params = dict(alpha=alpha,\n",
      "                     l1_ratio=l1_ratio,\n",
      "                     fit_intercept=False,\n",
      "                     positive=True)\n",
      "\n",
      "\n",
      "for bval_idx in range(len(bvals)):\n",
      "    \n",
      "    this_vol = vol[bval_idx]\n",
      "    this_vecs = vecs2keep[bval_idx]\n",
      "    sfm_pdd_angs.append(np.zeros(vol[bval_idx].shape[:3] + (n_sims,)))\n",
      "    tensor_pdd_angs.append(np.zeros(vol[bval_idx].shape[:3] + (n_sims,)))\n",
      "\n",
      "    for sim_idx in xrange(n_sims): \n",
      "    \n",
      "        noise_idx1 = int(np.random.rand() * noise_sig.shape[0])\n",
      "        vol_noise1 = np.abs(this_vol + noise_sig[noise_idx1]) #abs is important - remember that the signal cannot go negative!\n",
      "        \n",
      "        noise_idx2 = int(np.random.rand() * noise_sig.shape[0])\n",
      "        # Just making sure the two noise samples are actually different:\n",
      "        while noise_idx1 == noise_idx2:\n",
      "            noise_idx2 = int(np.random.rand() * sig_diff.shape[0])\n",
      "\n",
      "        vol_noise2 = np.abs(this_vol + noise_sig[noise_idx2])\n",
      "        \n",
      "    \n",
      "        TM1 = dti.TensorModel(vol_noise1,\n",
      "                         bvecs[bval_idx],\n",
      "                         bvals[bval_idx],\n",
      "                         params_file = 'temp')\n",
      "\n",
      "        TM2 = dti.TensorModel(vol_noise2,\n",
      "                         bvecs[bval_idx],\n",
      "                         bvals[bval_idx],\n",
      "                         params_file = 'temp')\n",
      "\n",
      "        SFM1 = ssd.SparseDeconvolutionModel(vol_noise1,\n",
      "                                        bvecs[bval_idx],\n",
      "                                        bvals[bval_idx],\n",
      "                                        solver_params=solver_params,\n",
      "                                        axial_diffusivity=1.5,\n",
      "                                        radial_diffusivity=0.5,\n",
      "                                        params_file = 'temp')\n",
      "\n",
      "        SFM2 = ssd.SparseDeconvolutionModel(vol_noise2,\n",
      "                                        bvecs[bval_idx],\n",
      "                                        bvals[bval_idx],\n",
      "                                        solver_params=solver_params,\n",
      "                                        axial_diffusivity=1.5,\n",
      "                                        radial_diffusivity=0.5,\n",
      "                                        params_file = 'temp')\n",
      "    \n",
      "        \n",
      "        for i, angle in enumerate(angles):\n",
      "            for j, w in enumerate(weights):\n",
      "                for k, sph in enumerate(sphere):\n",
      "                    real_vec = vecs2keep[bval_idx][i,j,k]\n",
      "                    model_vec = SFM1.principal_diffusion_direction[i,j,k]\n",
      "                    model_vec = model_vec[np.unique(np.where(~np.isnan(model_vec))[0])]\n",
      "                    if model_vec.shape[0] == 0:\n",
      "                        sfm_pdd_angs[bval_idx][i,j,k, sim_idx] = np.mean(np.min(this_angs, 0)) \n",
      "                    else:\n",
      "                        cross_vecs = np.dot(model_vec, real_vec.T)\n",
      "                        cross_vecs[cross_vecs>1] = 1\n",
      "                        this_angs = np.rad2deg(np.arccos(cross_vecs))\n",
      "                        this_angs[this_angs>90] = 180 - this_angs[this_angs>90]\n",
      "                        sfm_pdd_angs[bval_idx][i,j,k, sim_idx] = np.mean(np.min(this_angs, 0)) \n",
      "                        \n",
      "                    dt_vec = TM1.principal_diffusion_direction[i,j,k]\n",
      "                    dt_cross = np.dot(dt_vec, real_vec.T)\n",
      "                    dt_cross[dt_cross>1] = 1\n",
      "                    dt_angs = np.rad2deg(np.arccos(dt_cross))\n",
      "                    dt_angs[dt_angs>90] = 180 - dt_angs[dt_angs>90]\n",
      "                    tensor_pdd_angs[bval_idx][i,j,k, sim_idx] = np.mean(np.min(dt_angs))"
     ],
     "language": "python",
     "metadata": {},
     "outputs": [
      {
       "output_type": "stream",
       "stream": "stdout",
       "text": [
        " \r",
        "SparseDeconvolutionModel.model_params [*****************96%****************  ]  26 of 27 complete "
       ]
      }
     ],
     "prompt_number": "*"
    },
    {
     "cell_type": "code",
     "collapsed": false,
     "input": [
      "median_reliab_sfm = []\n",
      "median_reliab_dt = []\n",
      "\n",
      "median_reliab_sfm_e = []\n",
      "median_reliab_dt_e = []\n",
      "\n",
      "for bval_idx in range(len(bvals)):\n",
      "\n",
      "    median_reliab_sfm.append(np.zeros(sfm_pdd_angs[bval_idx].shape[:2]))\n",
      "    median_reliab_dt.append(np.zeros(tensor_pdd_angs[bval_idx].shape[:2]))\n",
      "    median_reliab_sfm_e.append(np.zeros(sfm_pdd_angs[bval_idx].shape[:2]))\n",
      "    median_reliab_dt_e.append(np.zeros(tensor_pdd_angs[bval_idx].shape[:2]))\n",
      "\n",
      "    for i, angle in enumerate(angles):\n",
      "            for j, w in enumerate(weights):\n",
      "                for k, sph in enumerate(sphere):\n",
      "                    median_reliab_sfm[-1][i,j] = stats.nanmean(sfm_pdd_angs[bval_idx][i,j,k,:])\n",
      "                    median_reliab_dt[-1][i,j] = stats.nanmean(tensor_pdd_angs[bval_idx][i,j,k,:])\n",
      "                    median_reliab_sfm_e[-1][i,j] = stats.nanstd(sfm_pdd_angs[bval_idx][i,j,k,:])\n",
      "                    median_reliab_dt_e[-1][i,j] = stats.nanstd(tensor_pdd_angs[bval_idx][i,j,k,:])\n",
      "                    \n",
      "                \n",
      "    fig, ax = plt.subplots(1)\n",
      "    im = ax.matshow(median_reliab_sfm[-1])\n",
      "    fig.colorbar(im)\n",
      "    fig.set_size_inches([8,8])\n",
      "    ax.set_yticks(range(len(angles)))\n",
      "    ax.set_yticklabels([str(x) for x in angles])\n",
      "    ax.set_xticks(range(len(weights)))\n",
      "    ax.set_xticklabels([str(x) for x in weights])\n",
      "\n",
      "    fig, ax = plt.subplots(1)\n",
      "    im = ax.matshow(median_reliab_dt[-1])\n",
      "    fig.colorbar(im)\n",
      "    fig.set_size_inches([8,8])\n",
      "    ax.set_yticks(range(len(angles)))\n",
      "    ax.set_yticklabels([str(x) for x in angles])\n",
      "    ax.set_xticks(range(len(weights)))\n",
      "    ax.set_xticklabels([str(x) for x in weights])\n"
     ],
     "language": "python",
     "metadata": {},
     "outputs": []
    },
    {
     "cell_type": "code",
     "collapsed": false,
     "input": [
      "median_reliab_sfm = np.array(median_reliab_sfm)\n",
      "median_reliab_dt = np.array(median_reliab_dt)\n",
      "median_reliab_sfm_e = np.array(median_reliab_sfm_e)\n",
      "median_reliab_dt_e = np.array(median_reliab_dt_e)\n",
      "\n"
     ],
     "language": "python",
     "metadata": {},
     "outputs": []
    },
    {
     "cell_type": "code",
     "collapsed": false,
     "input": [
      "for yy, w_bal in enumerate(weights):\n",
      "    \n",
      "    fig, ax = plt.subplots(1,3, sharex=True, sharey=True)\n",
      "    for xx, ang in enumerate(angles):\n",
      "        ax[xx].plot(bvals_to_test, median_reliab_dt[:,xx,yy],'o-', label='Tensor')\n",
      "        ax[xx].plot(bvals_to_test, median_reliab_sfm[:,xx,yy],'o-', label='SFM')\n",
      "        #ax[xx].errorbar(bvals_to_test, median_reliab_dt[:,xx,0], color='k', yerr=median_reliab_dt_e[:,xx,0])\n",
      "        #ax[xx].errorbar(bvals_to_test, median_reliab_sfm[:,xx,0], color='k', yerr=median_reliab_sfm_e[:,xx,0])\n",
      "        ax[xx].set_xticks([1000, 2000, 4000])\n",
      "        ax[xx].set_xlim([0, 5000])\n",
      "        #ax[xx].text(675, 47, str(int(ang)))\n",
      "        ax[xx].grid()\n",
      "        ax[xx].set_xlabel('b value')\n",
      "    ax[0].set_ylabel('Reliability (degrees)')\n",
      "    ax[1].legend()\n",
      "    fig.set_size_inches([10, 6])\n",
      "    fig.savefig('/home/arokem/Dropbox/sim_reliab_%s.svg'%yy)\n",
      "\n",
      "\n",
      "\n"
     ],
     "language": "python",
     "metadata": {},
     "outputs": []
    },
    {
     "cell_type": "code",
     "collapsed": false,
     "input": [],
     "language": "python",
     "metadata": {},
     "outputs": []
    },
    {
     "cell_type": "code",
     "collapsed": false,
     "input": [],
     "language": "python",
     "metadata": {},
     "outputs": []
    },
    {
     "cell_type": "code",
     "collapsed": false,
     "input": [],
     "language": "python",
     "metadata": {},
     "outputs": []
    }
   ],
   "metadata": {}
  }
 ]
}