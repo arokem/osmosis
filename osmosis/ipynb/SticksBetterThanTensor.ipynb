{
 "metadata": {
  "name": "SticksBetterThanTensor"
 },
 "nbformat": 3,
 "nbformat_minor": 0,
 "worksheets": [
  {
   "cells": [
    {
     "cell_type": "code",
     "collapsed": false,
     "input": [
      "import os\n",
      "import nibabel as ni\n",
      "\n",
      "import osmosis as oz\n",
      "import osmosis.model as ozm\n",
      "import osmosis.viz as viz\n",
      "import osmosis.utils as ozu\n",
      "import osmosis.volume as ozv\n",
      "import osmosis.io as oio\n",
      "reload(oio)\n",
      "reload(ozm)\n",
      "reload(ozu)\n",
      "reload(ozv)\n",
      "reload(viz)"
     ],
     "language": "python",
     "metadata": {},
     "outputs": [
      {
       "output_type": "pyout",
       "prompt_number": 1,
       "text": [
        "<module 'osmosis.viz' from '/Users/arokem/usr/lib/python2.7/site-packages/osmosis/viz.pyc'>"
       ]
      }
     ],
     "prompt_number": 1
    },
    {
     "cell_type": "code",
     "collapsed": false,
     "input": [
      "data_path = os.path.split(oz.__file__)[0] + '/data/'\n",
      "\n",
      "dwi_4k_1 = '0005_01_DWI_2mm150dir_2x_b4000_aligned_trilin.nii.gz'\n",
      "dwi_4k_2 = '0007_01_DWI_2mm150dir_2x_b4000_aligned_trilin.nii.gz'\n",
      "\n",
      "bvecs_4k_1 = '0005_01_DWI_2mm150dir_2x_b4000_aligned_trilin.bvecs'\n",
      "bvecs_4k_2 = '0007_01_DWI_2mm150dir_2x_b4000_aligned_trilin.bvecs'\n",
      "\n",
      "bvals_4k_1 = '0005_01_DWI_2mm150dir_2x_b4000_aligned_trilin.bvals'\n",
      "bvals_4k_2 = '0007_01_DWI_2mm150dir_2x_b4000_aligned_trilin.bvals'\n",
      "\n",
      "\n",
      "dwi_2k_1 = '0005_01_DTI_2mm_150dir_2x_b2000_aligned_trilin.nii.gz'\n",
      "dwi_2k_2 = '0007_01_DTI_2mm_150dir_2x_b2000_aligned_trilin.nii.gz'\n",
      "\n",
      "bvecs_2k_1 = '0005_01_DTI_2mm_150dir_2x_b2000_aligned_trilin.bvecs'\n",
      "bvecs_2k_2 = '0007_01_DTI_2mm_150dir_2x_b2000_aligned_trilin.bvecs'\n",
      "\n",
      "bvals_2k_1 = '0005_01_DTI_2mm_150dir_2x_b2000_aligned_trilin.bvals'\n",
      "bvals_2k_2 = '0007_01_DTI_2mm_150dir_2x_b2000_aligned_trilin.bvals'\n",
      "\n",
      "dwi_1k_1 = '0009_01_DWI_2mm150dir_2x_b1000_aligned_trilin.nii.gz'\n",
      "dwi_1k_2 = '0011_01_DWI_2mm150dir_2x_b1000_aligned_trilin.nii.gz'\n",
      "\n",
      "bvecs_1k_1 = '0009_01_DWI_2mm150dir_2x_b1000_aligned_trilin.bvecs'\n",
      "bvecs_1k_2 = '0011_01_DWI_2mm150dir_2x_b1000_aligned_trilin.bvecs'\n",
      "\n",
      "bvals_1k_1 = '0009_01_DWI_2mm150dir_2x_b1000_aligned_trilin.bvals'\n",
      "bvals_1k_2 = '0011_01_DWI_2mm150dir_2x_b1000_aligned_trilin.bvals'\n",
      "\n",
      "\n",
      "TM_4k_1 = ozm.TensorModel(data_path + dwi_4k_1, \n",
      "                          data_path + bvecs_4k_1, \n",
      "                          data_path + bvals_4k_1,\n",
      "                          mask = data_path + 'FP_white_matter_resamp_to_dwi.nii.gz'\n",
      "                          #mask=data_path + 'brainMask.nii.gz'\n",
      "                          )\n",
      "\n",
      "\n",
      "TM_4k_2 = ozm.TensorModel(data_path + dwi_4k_2, \n",
      "                          data_path + bvecs_4k_2, \n",
      "                          data_path + bvals_4k_2,\n",
      "                          mask = data_path + 'FP_white_matter_resamp_to_dwi.nii.gz'\n",
      "                          #mask=data_path + 'brainMask.nii.gz'\n",
      ")\n",
      "\n",
      "\n",
      "\n",
      "TM_2k_1 = ozm.TensorModel(data_path + dwi_2k_1, \n",
      "                          data_path + bvecs_2k_1, \n",
      "                          data_path + bvals_2k_1, \n",
      "                          mask = data_path + 'FP_white_matter_resamp_to_dwi.nii.gz'\n",
      "                          #mask=data_path + 'brainMask.nii.gz'\n",
      ")\n",
      "\n",
      "\n",
      "TM_2k_2 = ozm.TensorModel(data_path + dwi_2k_2, \n",
      "                          data_path + bvecs_2k_2, \n",
      "                          data_path + bvals_2k_2,\n",
      "                          mask = data_path + 'FP_white_matter_resamp_to_dwi.nii.gz'\n",
      "                          #mask=data_path + 'brainMask.nii.gz'\n",
      ")\n",
      "\n",
      "\n",
      "TM_1k_1 = ozm.TensorModel(data_path + dwi_1k_1, \n",
      "                          data_path + bvecs_1k_1, \n",
      "                          data_path + bvals_1k_1, \n",
      "                          mask = data_path + 'FP_white_matter_resamp_to_dwi.nii.gz'\n",
      "                          #mask=data_path + 'brainMask.nii.gz'\n",
      ")\n",
      "\n",
      "\n",
      "TM_1k_2 = ozm.TensorModel(data_path + dwi_1k_2, \n",
      "                          data_path + bvecs_1k_2, \n",
      "                          data_path + bvals_1k_2,\n",
      "                          mask = data_path + 'FP_white_matter_resamp_to_dwi.nii.gz'\n",
      "                          #mask=data_path + 'brainMask.nii.gz'\n",
      ")\n",
      "\n",
      "\n",
      "MCT_4k_1 = ozm.MultiCanonicalTensorModel(data_path + dwi_4k_1, \n",
      "                          data_path + bvecs_4k_1, \n",
      "                          data_path + bvals_4k_1, \n",
      "                          mask = data_path + 'FP_white_matter_resamp_to_dwi.nii.gz'\n",
      "                          #mask=data_path + 'brainMask.nii.gz'\n",
      ")\n",
      "\n",
      "\n",
      "MCT_4k_2 = ozm.MultiCanonicalTensorModel(data_path + dwi_4k_2, \n",
      "                          data_path + bvecs_4k_2, \n",
      "                          data_path + bvals_4k_2,\n",
      "                          mask = data_path + 'FP_white_matter_resamp_to_dwi.nii.gz'\n",
      "                          #mask=data_path + 'brainMask.nii.gz'\n",
      ")\n",
      "\n",
      "\n",
      "\n",
      "MCT_2k_1 = ozm.MultiCanonicalTensorModel(data_path + dwi_2k_1, \n",
      "                          data_path + bvecs_2k_1, \n",
      "                          data_path + bvals_2k_1, \n",
      "                          mask = data_path + 'FP_white_matter_resamp_to_dwi.nii.gz'\n",
      "                          #mask=data_path + 'brainMask.nii.gz'\n",
      ")\n",
      "\n",
      "\n",
      "MCT_2k_2 = ozm.MultiCanonicalTensorModel(data_path + dwi_2k_2, \n",
      "                          data_path + bvecs_2k_2, \n",
      "                          data_path + bvals_2k_2,\n",
      "                          mask = data_path + 'FP_white_matter_resamp_to_dwi.nii.gz'\n",
      "                          #mask=data_path + 'brainMask.nii.gz'\n",
      ")\n",
      "\n",
      "\n",
      "MCT_1k_1 = ozm.MultiCanonicalTensorModel(data_path + dwi_1k_1, \n",
      "                          data_path + bvecs_1k_1, \n",
      "                          data_path + bvals_1k_1, \n",
      "                          mask = data_path + 'FP_white_matter_resamp_to_dwi.nii.gz'\n",
      "                          #mask=data_path + 'brainMask.nii.gz'\n",
      ")\n",
      "\n",
      "\n",
      "MCT_1k_2 = ozm.MultiCanonicalTensorModel(data_path + dwi_1k_2, \n",
      "                          data_path + bvecs_1k_2, \n",
      "                          data_path + bvals_1k_2,\n",
      "                          mask = data_path + 'FP_white_matter_resamp_to_dwi.nii.gz'\n",
      "                          #mask=data_path + 'brainMask.nii.gz'\n",
      ")"
     ],
     "language": "python",
     "metadata": {},
     "outputs": [
      {
       "output_type": "stream",
       "stream": "stdout",
       "text": [
        "Loading from file: /Users/arokem/usr/lib/python2.7/site-packages/osmosis/data/0005_01_DWI_2mm150dir_2x_b4000_aligned_trilin.bvals\n",
        "Loading from file: /Users/arokem/usr/lib/python2.7/site-packages/osmosis/data/0007_01_DWI_2mm150dir_2x_b4000_aligned_trilin.bvals"
       ]
      },
      {
       "output_type": "stream",
       "stream": "stdout",
       "text": [
        "\n",
        "Loading from file: /Users/arokem/usr/lib/python2.7/site-packages/osmosis/data/0005_01_DTI_2mm_150dir_2x_b2000_aligned_trilin.bvals"
       ]
      },
      {
       "output_type": "stream",
       "stream": "stdout",
       "text": [
        "\n",
        "Loading from file: /Users/arokem/usr/lib/python2.7/site-packages/osmosis/data/0007_01_DTI_2mm_150dir_2x_b2000_aligned_trilin.bvals\n",
        "Loading from file: /Users/arokem/usr/lib/python2.7/site-packages/osmosis/data/0009_01_DWI_2mm150dir_2x_b1000_aligned_trilin.bvals"
       ]
      },
      {
       "output_type": "stream",
       "stream": "stdout",
       "text": [
        "\n",
        "Loading from file: /Users/arokem/usr/lib/python2.7/site-packages/osmosis/data/0011_01_DWI_2mm150dir_2x_b1000_aligned_trilin.bvals"
       ]
      },
      {
       "output_type": "stream",
       "stream": "stdout",
       "text": [
        "\n",
        "Loading from file: /Users/arokem/usr/lib/python2.7/site-packages/osmosis/data/0005_01_DWI_2mm150dir_2x_b4000_aligned_trilin.bvals"
       ]
      },
      {
       "output_type": "stream",
       "stream": "stdout",
       "text": [
        "\n",
        "Loading from file: /Users/arokem/usr/lib/python2.7/site-packages/osmosis/data/0005_01_DWI_2mm150dir_2x_b4000_aligned_trilin.bvecs\n",
        "Loading from file: /Users/arokem/usr/lib/python2.7/site-packages/osmosis/data/0007_01_DWI_2mm150dir_2x_b4000_aligned_trilin.bvals"
       ]
      },
      {
       "output_type": "stream",
       "stream": "stdout",
       "text": [
        "\n",
        "Loading from file: /Users/arokem/usr/lib/python2.7/site-packages/osmosis/data/0007_01_DWI_2mm150dir_2x_b4000_aligned_trilin.bvecs\n",
        "Loading from file: /Users/arokem/usr/lib/python2.7/site-packages/osmosis/data/0005_01_DTI_2mm_150dir_2x_b2000_aligned_trilin.bvals"
       ]
      },
      {
       "output_type": "stream",
       "stream": "stdout",
       "text": [
        "\n",
        "Loading from file: /Users/arokem/usr/lib/python2.7/site-packages/osmosis/data/0005_01_DTI_2mm_150dir_2x_b2000_aligned_trilin.bvecs"
       ]
      },
      {
       "output_type": "stream",
       "stream": "stdout",
       "text": [
        "\n",
        "Loading from file: /Users/arokem/usr/lib/python2.7/site-packages/osmosis/data/0007_01_DTI_2mm_150dir_2x_b2000_aligned_trilin.bvals\n",
        "Loading from file: /Users/arokem/usr/lib/python2.7/site-packages/osmosis/data/0007_01_DTI_2mm_150dir_2x_b2000_aligned_trilin.bvecs"
       ]
      },
      {
       "output_type": "stream",
       "stream": "stdout",
       "text": [
        "\n",
        "Loading from file: /Users/arokem/usr/lib/python2.7/site-packages/osmosis/data/0009_01_DWI_2mm150dir_2x_b1000_aligned_trilin.bvals\n",
        "Loading from file: /Users/arokem/usr/lib/python2.7/site-packages/osmosis/data/0009_01_DWI_2mm150dir_2x_b1000_aligned_trilin.bvecs"
       ]
      },
      {
       "output_type": "stream",
       "stream": "stdout",
       "text": [
        "\n",
        "Loading from file: /Users/arokem/usr/lib/python2.7/site-packages/osmosis/data/0011_01_DWI_2mm150dir_2x_b1000_aligned_trilin.bvals\n",
        "Loading from file: /Users/arokem/usr/lib/python2.7/site-packages/osmosis/data/0011_01_DWI_2mm150dir_2x_b1000_aligned_trilin.bvecs"
       ]
      },
      {
       "output_type": "stream",
       "stream": "stdout",
       "text": [
        "\n"
       ]
      }
     ],
     "prompt_number": 14
    },
    {
     "cell_type": "code",
     "collapsed": false,
     "input": [
      "tensor_rmse_1k = ozm.relative_rmse(TM_1k_1, TM_1k_2)\n",
      "#tensor_rmse_2k = ozm.relative_rmse(TM_2k_1, TM_2k_2)\n",
      "#tensor_rmse_4k = ozm.relative_rmse(TM_4k_1, TM_4k_2)\n",
      "\n",
      "sticks_rmse_1k = ozm.relative_rmse(MCT_1k_1, MCT_1k_2)\n",
      "#sticks_rmse_2k = ozm.relative_rmse(MCT_2k_1, MCT_2k_2)\n",
      "#sticks_rmse_4k = ozm.relative_rmse(MCT_4k_1, MCT_4k_2)"
     ],
     "language": "python",
     "metadata": {},
     "outputs": [
      {
       "output_type": "stream",
       "stream": "stdout",
       "text": [
        " \r",
        "MultiCanonicalTensorModel.fit [****************100%******************]  652535 of 652536 complete "
       ]
      },
      {
       "output_type": "stream",
       "stream": "stdout",
       "text": [
        "\n"
       ]
      }
     ],
     "prompt_number": 15
    },
    {
     "cell_type": "code",
     "collapsed": false,
     "input": [
      "idx = np.where(tensor_rmse_1k>sticks_rmse_1k)"
     ],
     "language": "python",
     "metadata": {},
     "outputs": [],
     "prompt_number": 16
    },
    {
     "cell_type": "code",
     "collapsed": false,
     "input": [
      "vol = ozu.nans(tensor_rmse_1k.shape)\n",
      "vol[idx] = 1\n",
      "fig = viz.mosaic(vol.T)\n",
      "fig.set_size_inches([10,10])"
     ],
     "language": "python",
     "metadata": {},
     "outputs": [
      {
       "output_type": "display_data",
       "png": "[encoded data removed]"
      }
     ],
     "prompt_number": 18
    }
   ],
   "metadata": {}
  }
 ]
}