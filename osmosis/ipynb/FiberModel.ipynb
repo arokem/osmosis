{
 "metadata": {
  "name": "FiberModel"
 },
 "nbformat": 3,
 "worksheets": [
  {
   "cells": [
    {
     "cell_type": "code",
     "collapsed": false,
     "input": [
      "import time",
      "import os",
      "import osmosis as mt",
      "import osmosis.model as mtm",
      "import osmosis.viz as viz",
      "import osmosis.utils as mtu",
      "import osmosis.io as mio",
      "import scipy.sparse.linalg as sla",
      "",
      "reload(mtm)",
      "reload(mtu)",
      "",
      "data_path = '/Users/arokem/projects/osmosis/osmosis/data/'",
      "",
      "dwi1 = '0005_01_DTI_2mm_150dir_2x_b2000_aligned_trilin.nii.gz'",
      "dwi2 = '0007_01_DTI_2mm_150dir_2x_b2000_aligned_trilin.nii.gz'",
      "",
      "bvecs1 = '0005_01_DTI_2mm_150dir_2x_b2000_aligned_trilin.bvecs'",
      "bvecs2 = '0007_01_DTI_2mm_150dir_2x_b2000_aligned_trilin.bvecs'",
      "",
      "bvals1 = '0005_01_DTI_2mm_150dir_2x_b2000_aligned_trilin.bvals'",
      "bvals2 = '0007_01_DTI_2mm_150dir_2x_b2000_aligned_trilin.bvals'",
      "",
      "small_fg = 'FG_w_stats.pdb'",
      "",
      "dwi_arcuate = 'dwi_arcuate.nii.gz'",
      "bvecs_arcuate = 'dwi_arcuate.bvecs'",
      "bvals_arcuate = 'dwi_arcuate.bvals'",
      "arcuate_fg = 'leftArcuate.pdb'",
      "",
      "Model = mtm.FiberModel(data_path + dwi_arcuate,",
      "                       data_path + bvecs_arcuate,",
      "                       data_path + bvals_arcuate,",
      "                       FG =  mio.fg_from_pdb(data_path + arcuate_fg),    ",
      "                       # Generic values:    ",
      "                       radial_diffusivity=0.5,",
      "                       axial_diffusivity=1.5,",
      "                       ) ",
      "",
      "",
      "#Model = mtm.FiberModel(data_path + dwi1,",
      "#                       data_path + bvecs1,",
      "#                      data_path + bvals1,",
      "#                       FG =  mio.fg_from_pdb(data_path + 'FG_w_stats.pdb'),    ",
      "#                       mask=data_path + 'brainMask.nii.gz',",
      "#                       # These are based on the calculations in GetADandRD",
      "#                       radial_diffusivity=0.08,",
      "#                       axial_diffusivity=1.32,",
      "#                      ) ",
      "",
      "",
      "# These will be used to compute the signal_rmse for relative comparison:",
      "#TM1 = mtm.TensorModel(data_path + dwi1, ",
      "#                      data_path + bvecs1, ",
      "#                      data_path + bvals1, ",
      "#                      mask=data_path + 'brainMask.nii.gz',",
      "#                      )",
      "",
      "",
      "#TM2 = mtm.TensorModel(data_path + dwi2, ",
      "#                      data_path + bvecs2, ",
      "#                      data_path + bvals2,",
      "#                      mask=data_path + 'brainMask.nii.gz',",
      "#                      )"
     ],
     "language": "python",
     "outputs": []
    },
    {
     "cell_type": "code",
     "collapsed": false,
     "input": [
      "t1 = time.time()",
      "Model.matrix",
      "print(\"That took %s seconds to build\"%(time.time()-t1))"
     ],
     "language": "python",
     "outputs": []
    },
    {
     "cell_type": "code",
     "collapsed": false,
     "input": [
      "t1 = time.time()",
      "",
      "# This is standard OLS fitting: ",
      "a_dense = np.hstack([Model.matrix[0].toarray(),Model.matrix[1].toarray()])",
      "b = np.zeros(a_dense.shape)",
      "w = np.array(np.dot(mtu.ols_matrix(a_dense),Model.voxel_signal)).squeeze()",
      "",
      "print \"That took %s seconds to fit\"%(time.time() - t1) ",
      "",
      "# This is what you get from the dense representation:",
      "pred_sig = np.array(np.dot(w, a_dense.T)).squeeze()",
      "ax = viz.quick_ax()",
      "ax.plot(pred_sig)",
      "",
      "ax.plot(200+ Model.voxel_signal)",
      "",
      "ax.get_figure().set_size_inches([22,5])",
      "",
      "ax = viz.quick_ax()",
      "ax.scatter(Model.voxel_signal, pred_sig)",
      "",
      "mtu.coeff_of_determination(Model.voxel_signal_demeaned, pred_sig- Model._iso_fit)",
      ""
     ],
     "language": "python",
     "outputs": []
    },
    {
     "cell_type": "code",
     "collapsed": false,
     "input": [
      "t1 = time.time()",
      "fit = Model.fit",
      "print \"That took %s seconds to fit\"%(time.time() - t1) ",
      "",
      "# And this is the solution with the sparse lsqr + sklearn: ",
      "ax = viz.quick_ax()",
      "ax.plot(Model.fit, label='Model')",
      "",
      "ax.plot(200+ Model.voxel_signal, label='signal')",
      "ax.get_figure().set_size_inches([22,5])",
      "plt.legend()",
      "",
      "ax = viz.quick_ax()",
      "ax.scatter(Model.voxel_signal, Model.fit)",
      "",
      "mtu.coeff_of_determination(Model.voxel_signal, Model.fit)"
     ],
     "language": "python",
     "outputs": []
    },
    {
     "cell_type": "code",
     "collapsed": false,
     "input": [
      "plot(Model.fiber_weights)"
     ],
     "language": "python",
     "outputs": []
    }
   ]
  }
 ]
}