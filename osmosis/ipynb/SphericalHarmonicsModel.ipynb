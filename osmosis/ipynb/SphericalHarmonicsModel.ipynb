{
 "metadata": {
  "name": "SphericalHarmonicsModel"
 },
 "nbformat": 3,
 "worksheets": [
  {
   "cells": [
    {
     "cell_type": "code",
     "collapsed": false,
     "input": [
      "import os",
      "import numpy as np",
      "import matplotlib.pyplot as plt",
      "",
      "import nibabel as ni",
      "",
      "import osmosis as oz",
      "import osmosis.model as ozm",
      "reload(ozm)",
      "import osmosis.tensor as ozt",
      "reload(ozt)",
      "import osmosis.viz as viz",
      "import osmosis.utils as ozu"
     ],
     "language": "python",
     "outputs": []
    },
    {
     "cell_type": "code",
     "collapsed": false,
     "input": [
      "data_path = os.path.split(oz.__file__)[0] + '/data/'",
      "",
      "# These are based on the calculations in GetADandRD",
      "AD1=1.7139 ",
      "RD1=0.3887",
      "AD2=1.6986 ",
      "RD2=0.3760",
      "",
      "root_path1 = data_path + '0009_01_DWI_2mm150dir_2x_b1000_aligned_trilin'",
      "root_path2 = data_path + '0011_01_DWI_2mm150dir_2x_b1000_aligned_trilin'",
      "",
      "",
      "exts = ['.nii.gz', '.bvecs', '.bvals']",
      "",
      "dwi1, bvecs1, bvals1 = [root_path1 + ext for ext in exts]",
      "dwi2, bvecs2, bvals2 = [root_path2 + ext for ext in exts]",
      "",
      "mask_array = np.zeros(())",
      "",
      "csd_coeffs1 = root_path1 + '_CSD.nii.gz'",
      "csd_coeffs2 = root_path2 + '_CSD.nii.gz'",
      "",
      "mask_array = np.zeros((81, 106, 76))",
      "mask_array[49:51, 49:51, 49:51] = 1",
      "",
      "SHM1 = ozm.SphericalHarmonicsModel(dwi1, bvecs1, bvals1,",
      "                                  mask = mask_array,",
      "                                  #mask = data_path + 'brainMask.nii.gz' , ",
      "                                  model_coeffs = csd_coeffs1,",
      "                                  response_file = root_path1 + '_ER.mif',",
      "                                  #axial_diffusivity=AD1,",
      "                                  #radial_diffusivity=RD1",
      "                                  )",
      "",
      "SHM2 = ozm.SphericalHarmonicsModel(dwi2, bvecs2, bvals2,",
      "                                  mask = mask_array,",
      "                                  #mask = data_path + 'brainMask.nii.gz' , ",
      "                                  model_coeffs = csd_coeffs2,",
      "                                  response_file = root_path2 + '_ER.mif',",
      "                                  #axial_diffusivity=AD2,",
      "                                  #radial_diffusivity=RD2",
      "                                  )",
      "",
      "w_tensor = ozm.SphericalHarmonicsModel(dwi2, bvecs2, bvals2,",
      "                                  mask = mask_array,",
      "                                  #mask = data_path + 'brainMask.nii.gz' , ",
      "                                  model_coeffs = csd_coeffs2,",
      "                                  #response_file = root_path2 + '_ER.mif',",
      "                                  axial_diffusivity=AD2,",
      "                                  radial_diffusivity=RD2",
      "                                  )"
     ],
     "language": "python",
     "outputs": []
    },
    {
     "cell_type": "code",
     "collapsed": false,
     "input": [
      "i = 1",
      "fig = viz.sig_in_points(SHM1.bvecs[:, SHM1.b_idx], SHM1.response_function.rotations[i], r_from_val=True)",
      "#scatter(SHM1.response_function.rotations[1], SHM2.response_function.rotations[1].predicted_signal(SHM1.response_function.coeffs[0]))",
      "",
      "#for i in range(1,4):",
      "#    fig = viz.sig_on_sphere(SHM1.bvecs[:, SHM1.b_idx],SHM1.sph_harm_set[i])",
      "#    fig.set_size_inches([7,7])",
      "    ",
      "bvec1 = SHM1.bvecs[:, SHM1.b_idx][:, i]",
      "ax = fig.axes[0]",
      "ax.view_init(elev=30, azim=20)",
      "",
      "ax.plot3D([0, bvec1[0] * 100], [0, bvec1[1] * 100], [0, bvec1[2] * 100], linewidth=5, color='r')",
      "",
      "",
      "fig = viz.sig_in_points(SHM1.bvecs[:, SHM1.b_idx], w_tensor.response_function._rotations[i].predicted_signal(SHM1.response_function.coeffs[0]), r_from_val=True)",
      "",
      "bvec1 = SHM1.bvecs[:, SHM1.b_idx][:, i]",
      "ax = fig.axes[0]",
      "ax.view_init(elev=30, azim=20)",
      "",
      "ax.plot3D([0, bvec1[0] * 200], [0, bvec1[1] * 200], [0, bvec1[2] * 200], linewidth=5, color='r')",
      "",
      ""
     ],
     "language": "python",
     "outputs": []
    },
    {
     "cell_type": "code",
     "collapsed": false,
     "input": [
      "#plot(SHM1.odf[49, 49, 49])",
      "plot(SHM1.signal[50, 50, 50])",
      "plot(SHM1.fit[50, 50, 50])",
      "ozu.coeff_of_determination(SHM1.signal[50, 50, 50], SHM1.fit[50, 50, 50])",
      "",
      "#plot(SHM2.fit[49, 49, 49])",
      "#scatter(SHM1.signal[50, 50, 50], SHM1.fit[50, 50, 50])",
      "#scatter(SHM1.fit[49, 49, 49], SHM2.fit[49, 49, 49])",
      "",
      "#SHM1.model_coeffs[50,50,50][0] * SHM1.sph_harm_set[0] * SHM1.response_function.coeffs[0]",
      "",
      "#SHM1.response_function.coeffs"
     ],
     "language": "python",
     "outputs": []
    },
    {
     "cell_type": "code",
     "collapsed": true,
     "input": [
      "%qtconsole"
     ],
     "language": "python",
     "outputs": []
    },
    {
     "cell_type": "code",
     "collapsed": false,
     "input": [
      "relative_rmse = ozm.relative_rmse(SHM1, SHM2)",
      ""
     ],
     "language": "python",
     "outputs": []
    },
    {
     "cell_type": "code",
     "collapsed": false,
     "input": [
      "np.where(relative_rmse<2)"
     ],
     "language": "python",
     "outputs": []
    },
    {
     "cell_type": "code",
     "collapsed": false,
     "input": [
      "to_hist = relative_rmse[np.isfinite(relative_rmse)]",
      "fig,ax = plt.subplots(1)",
      "ax.hist(to_hist, bins=100, histtype='step')",
      "#ax.set_xlim([0,15])"
     ],
     "language": "python",
     "outputs": []
    },
    {
     "cell_type": "code",
     "collapsed": false,
     "input": [
      "fig = viz.mosaic(relative_rmse.T, cmap=matplotlib.cm.hot)",
      "fig.set_size_inches([15,10])",
      "",
      "fig = viz.mosaic(SHM1.coeff_of_determination.T, cmap=matplotlib.cm.hot)",
      "fig.set_size_inches([15,10])"
     ],
     "language": "python",
     "outputs": []
    },
    {
     "cell_type": "code",
     "collapsed": false,
     "input": [
      "SHM1.coeff_of_determination"
     ],
     "language": "python",
     "outputs": []
    },
    {
     "cell_type": "code",
     "collapsed": false,
     "input": [
      "rmse_file_name = '%s%s_relative_rmse_b%s.nii.gz'%(data_path,'SphericalHarmonicsModel_tensor_response',1000)"
     ],
     "language": "python",
     "outputs": []
    },
    {
     "cell_type": "code",
     "collapsed": false,
     "input": [
      "import osmosis.io as io",
      "io.nii_from_volume(relative_rmse,",
      "                   rmse_file_name,",
      "                   ni.load(dwi1).get_affine())"
     ],
     "language": "python",
     "outputs": []
    },
    {
     "cell_type": "code",
     "collapsed": true,
     "input": [
      ""
     ],
     "language": "python",
     "outputs": []
    }
   ]
  }
 ]
}