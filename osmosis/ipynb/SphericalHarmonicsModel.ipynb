{
 "metadata": {
  "name": "SphericalHarmonicsModel"
 },
 "nbformat": 3,
 "nbformat_minor": 0,
 "worksheets": [
  {
   "cells": [
    {
     "cell_type": "code",
     "collapsed": false,
     "input": [
      "import os\n",
      "import numpy as np\n",
      "import matplotlib.pyplot as plt\n",
      "\n",
      "import nibabel as ni\n",
      "\n",
      "import osmosis as oz\n",
      "import osmosis.model as ozm\n",
      "reload(ozm)\n",
      "import osmosis.tensor as ozt\n",
      "reload(ozt)\n",
      "import osmosis.viz as viz\n",
      "import osmosis.utils as ozu"
     ],
     "language": "python",
     "metadata": {},
     "outputs": [],
     "prompt_number": 4
    },
    {
     "cell_type": "code",
     "collapsed": false,
     "input": [
      "data_path = os.path.split(oz.__file__)[0] + '/data/'\n",
      "\n",
      "# These are based on the calculations in GetADandRD\n",
      "AD1=1.7139 \n",
      "RD1=0.3887\n",
      "AD2=1.6986 \n",
      "RD2=0.3760\n",
      "\n",
      "root_path1 = data_path + '0009_01_DWI_2mm150dir_2x_b1000_aligned_trilin'\n",
      "root_path2 = data_path + '0011_01_DWI_2mm150dir_2x_b1000_aligned_trilin'\n",
      "\n",
      "\n",
      "exts = ['.nii.gz', '.bvecs', '.bvals']\n",
      "\n",
      "dwi1, bvecs1, bvals1 = [root_path1 + ext for ext in exts]\n",
      "dwi2, bvecs2, bvals2 = [root_path2 + ext for ext in exts]\n",
      "\n",
      "mask_array = np.zeros(())\n",
      "\n",
      "csd_coeffs1 = root_path1 + '_CSD.nii.gz'\n",
      "csd_coeffs2 = root_path2 + '_CSD.nii.gz'\n",
      "\n",
      "mask_array = np.zeros((81, 106, 76))\n",
      "#mask_array[49:51, 49:51, 49:51] = 1\n",
      "\n",
      "wm_mask = ni.load(data_path + 'FP_white_matter_resamp_to_dwi.nii.gz').get_data()\n",
      "mask_array[np.where(wm_mask==1)] = 1\n",
      "\n",
      "SHM1 = ozm.SphericalHarmonicsModel(dwi1, bvecs1, bvals1,\n",
      "                                   csd_coeffs1,\n",
      "                                  mask = mask_array,\n",
      "                                  response_file = root_path1 + '_ER.mif',\n",
      "                                  #axial_diffusivity=AD1,\n",
      "                                  #radial_diffusivity=RD1\n",
      "                                  )\n",
      "\n",
      "SHM2 = ozm.SphericalHarmonicsModel(dwi2, bvecs2, bvals2,\n",
      "                                  csd_coeffs2,\n",
      "                                  mask = mask_array,\n",
      "                                  response_file = root_path2 + '_ER.mif',\n",
      "                                  #axial_diffusivity=AD2,\n",
      "                                  #radial_diffusivity=RD2\n",
      "                                  )\n",
      "\n",
      "w_tensor = ozm.SphericalHarmonicsModel(dwi2, bvecs2, bvals2,\n",
      "                                  mask = mask_array,\n",
      "                                  model_coeffs = csd_coeffs2,\n",
      "                                  #response_file = root_path2 + '_ER.mif',\n",
      "                                  axial_diffusivity=AD2,\n",
      "                                  radial_diffusivity=RD2\n",
      "                                  )\n",
      "\n",
      "\n",
      "TM1 = ozm.TensorModel(dwi1, bvecs1, bvals1,\n",
      "                      mask = data_path + 'FP_white_matter_resamp_to_dwi.nii.gz'\n",
      "                                  )\n",
      "\n",
      "TM2 = ozm.TensorModel(dwi2, bvecs2, bvals2,\n",
      "                      mask = data_path + 'FP_white_matter_resamp_to_dwi.nii.gz'\n",
      "                                  )\n"
     ],
     "language": "python",
     "metadata": {},
     "outputs": [
      {
       "output_type": "stream",
       "stream": "stdout",
       "text": [
        "Loading from file: /Users/arokem/usr/lib/python2.7/site-packages/osmosis/data/0009_01_DWI_2mm150dir_2x_b1000_aligned_trilin.bvals\n",
        "Loading from file: /Users/arokem/usr/lib/python2.7/site-packages/osmosis/data/0011_01_DWI_2mm150dir_2x_b1000_aligned_trilin.bvals"
       ]
      },
      {
       "output_type": "stream",
       "stream": "stdout",
       "text": [
        "\n",
        "Loading from file: /Users/arokem/usr/lib/python2.7/site-packages/osmosis/data/0011_01_DWI_2mm150dir_2x_b1000_aligned_trilin.bvals"
       ]
      },
      {
       "output_type": "stream",
       "stream": "stdout",
       "text": [
        "\n",
        "Loading from file: /Users/arokem/usr/lib/python2.7/site-packages/osmosis/data/0009_01_DWI_2mm150dir_2x_b1000_aligned_trilin.bvals"
       ]
      },
      {
       "output_type": "stream",
       "stream": "stdout",
       "text": [
        "\n",
        "Loading from file: /Users/arokem/usr/lib/python2.7/site-packages/osmosis/data/0011_01_DWI_2mm150dir_2x_b1000_aligned_trilin.bvals\n"
       ]
      }
     ],
     "prompt_number": 5
    },
    {
     "cell_type": "code",
     "collapsed": false,
     "input": [],
     "language": "python",
     "metadata": {},
     "outputs": [
      {
       "output_type": "pyout",
       "prompt_number": 10,
       "text": [
        "(array([ 9,  9,  9, ..., 71, 71, 71]),\n",
        " array([39, 39, 39, ..., 58, 58, 58]),\n",
        " array([27, 36, 37, ..., 42, 43, 44]))"
       ]
      }
     ],
     "prompt_number": 10
    },
    {
     "cell_type": "code",
     "collapsed": false,
     "input": [
      "i = 1\n",
      "fig = viz.sig_on_projection(SHM1.bvecs[:, SHM1.b_idx], SHM1.response_function.rotations[i], tri=True)\n",
      "#scatter(SHM1.response_function.rotations[1], SHM2.response_function.rotations[1].predicted_signal(SHM1.response_function.coeffs[0]))\n",
      "\n",
      "#for i in range(1,4):\n",
      "#    fig = viz.sig_on_sphere(SHM1.bvecs[:, SHM1.b_idx],SHM1.sph_harm_set[i])\n",
      "#    fig.set_size_inches([7,7])\n",
      "    \n",
      "#bvec1 = SHM1.bvecs[:, SHM1.b_idx][:, i]\n",
      "#ax = fig.axes[0]\n",
      "#ax.view_init(elev=30, azim=20)\n",
      "\n",
      "#ax.plot3D([0, bvec1[0] * 100], [0, bvec1[1] * 100], [0, bvec1[2] * 100], linewidth=5, color='r')\n",
      "\n",
      "\n",
      "fig = viz.sig_on_projection(SHM1.bvecs[:, SHM1.b_idx], w_tensor.response_function._rotations[i].predicted_signal(SHM1.response_function.coeffs[0]),tri=True)\n",
      "\n",
      "#bvec1 = SHM1.bvecs[:, SHM1.b_idx][:, i]\n",
      "#ax = fig.axes[0]\n",
      "#ax.view_init(elev=30, azim=20)\n",
      "\n",
      "#ax.plot3D([0, bvec1[0] * 200], [0, bvec1[1] * 200], [0, bvec1[2] * 200], linewidth=5, color='r')\n",
      "\n"
     ],
     "language": "python",
     "metadata": {},
     "outputs": []
    },
    {
     "cell_type": "code",
     "collapsed": false,
     "input": [
      "#plot(SHM1.odf[49, 49, 49])\n",
      "plot(SHM1.signal[50, 50, 50])\n",
      "plot(SHM1.fit[50, 50, 50])\n",
      "ozu.coeff_of_determination(SHM1.signal[50, 50, 50], SHM1.fit[50, 50, 50])\n",
      "\n",
      "#plot(SHM2.fit[49, 49, 49])\n",
      "fig, ax = plt.subplots(1)\n",
      "ax.scatter(SHM1.signal[50, 50, 50], SHM1.fit[50, 50, 50])\n",
      "#scatter(SHM1.fit[49, 49, 49], SHM2.fit[49, 49, 49])\n",
      "\n",
      "#SHM1.model_coeffs[50,50,50][0] * SHM1.sph_harm_set[0] * SHM1.response_function.coeffs[0]\n",
      "\n",
      "#SHM1.response_function.coeffs\n"
     ],
     "language": "python",
     "metadata": {},
     "outputs": []
    },
    {
     "cell_type": "code",
     "collapsed": false,
     "input": [
      "relative_rmse = ozm.relative_rmse(SHM1, SHM2)\n"
     ],
     "language": "python",
     "metadata": {},
     "outputs": []
    },
    {
     "cell_type": "code",
     "collapsed": false,
     "input": [
      "to_hist = relative_rmse[np.isfinite(relative_rmse)]\n",
      "fig,ax = plt.subplots(1)\n",
      "ax.hist(to_hist, bins=100, histtype='step')\n",
      "#ax.set_xlim([0,15])"
     ],
     "language": "python",
     "metadata": {},
     "outputs": []
    },
    {
     "cell_type": "code",
     "collapsed": false,
     "input": [
      "fig = viz.mosaic(relative_rmse.T, cmap=matplotlib.cm.hot)\n",
      "fig.set_size_inches([15,10])\n",
      "\n",
      "fig = viz.mosaic(SHM1.coeff_of_determination.T, cmap=matplotlib.cm.hot)\n",
      "fig.set_size_inches([15,10])"
     ],
     "language": "python",
     "metadata": {},
     "outputs": []
    },
    {
     "cell_type": "code",
     "collapsed": false,
     "input": [
      "#rmse_file_name = '%s%s_relative_rmse_b%s.nii.gz'%(data_path,'SphericalHarmonicsModel_tensor_response',1000)"
     ],
     "language": "python",
     "metadata": {},
     "outputs": []
    },
    {
     "cell_type": "code",
     "collapsed": false,
     "input": [
      "#import osmosis.io as io\n",
      "#io.nii_from_volume(relative_rmse,\n",
      "#                   rmse_file_name,\n",
      "#                   ni.load(dwi1).get_affine())"
     ],
     "language": "python",
     "metadata": {},
     "outputs": []
    },
    {
     "cell_type": "code",
     "collapsed": true,
     "input": [
      "fig = viz.mosaic(relative_rmse.T, vmax=2, vmin=0, cmap=matplotlib.cm.RdYlGn_r)\n",
      "fig.set_size_inches([24,14])\n",
      "\n",
      "fig = viz.mosaic(SHM1.R_squared.T, cmap=matplotlib.cm.hot)\n",
      "fig.set_size_inches([24,14])\n",
      "\n",
      "matshow(relative_rmse[:,:,30], vmax=1.5, vmin=0.5, cmap=matplotlib.cm.RdYlGn_r)\n",
      "\n",
      "fig, ax = plt.subplots(1)\n",
      "ax.scatter(SHM1.signal[40,60,30], SHM1.fit[40,60,30])\n",
      "\n",
      "fig, ax = plt.subplots(1)\n",
      "ax.scatter(SHM1.signal[60,40,30], SHM1.fit[60,40,30])\n",
      "\n",
      "fig = viz.scatter_density(SHM1.R_squared[np.where(wm_mask)], relative_rmse[np.where(wm_mask)])"
     ],
     "language": "python",
     "metadata": {},
     "outputs": []
    },
    {
     "cell_type": "code",
     "collapsed": false,
     "input": [
      "idx_max = np.where(SHM1.R_squared==np.nanmax(SHM1.R_squared))\n",
      "\n",
      "\n",
      "idx_min = np.where(SHM1.R_squared==np.nanmin(SHM1.R_squared))\n"
     ],
     "language": "python",
     "metadata": {},
     "outputs": []
    },
    {
     "cell_type": "code",
     "collapsed": false,
     "input": [
      "#viz.sig_on_projection(SHM1.bvecs[:, SHM1.b_idx], SHM1.signal[idx_max].squeeze())\n",
      "\n",
      "#plot(SHM1.signal[5,44,33].squeeze())\n",
      "plot(SHM1.fit[5,44,33].squeeze())\n",
      "SHM1.model_coeffs[5,44,33]\n",
      "#viz.sig_on_projection(SHM1.bvecs[:, SHM1.b_idx], SHM1.signal[idx_min].squeeze())\n"
     ],
     "language": "python",
     "metadata": {},
     "outputs": []
    },
    {
     "cell_type": "code",
     "collapsed": false,
     "input": [
      "reload(ozm)\n",
      "\n",
      "overfitting = ozm.overfitting_index(SHM1, SHM2)\n",
      "fig = viz.mosaic(overfitting.T, cmap=matplotlib.cm.hot)\n",
      "fig.set_size_inches([24,14])\n",
      "\n",
      "#fig = hist(overfitting[np.isfinite(overfitting)], bins=1000)"
     ],
     "language": "python",
     "metadata": {},
     "outputs": []
    },
    {
     "cell_type": "code",
     "collapsed": false,
     "input": [
      "fig = viz.probability_hist(overfitting[np.isfinite(overfitting)])\n",
      "fig.set_size_inches([10,10])"
     ],
     "language": "python",
     "metadata": {},
     "outputs": []
    },
    {
     "cell_type": "code",
     "collapsed": false,
     "input": [
      "r_squared = ozm.rsquared(SHM1,SHM2)\n",
      "fig = viz.mosaic(r_squared.T, cmap=matplotlib.cm.hot)\n",
      "fig.set_size_inches([14,10])"
     ],
     "language": "python",
     "metadata": {},
     "outputs": [
      {
       "output_type": "stream",
       "stream": "stdout",
       "text": [
        " \r",
        "SphericalHarmonicsModel.fit [****************100%******************]  652535 of 652536 complete "
       ]
      },
      {
       "ename": "KeyboardInterrupt",
       "evalue": "",
       "output_type": "pyerr",
       "traceback": [
        "\u001b[0;31m---------------------------------------------------------------------------\u001b[0m\n\u001b[0;31mKeyboardInterrupt\u001b[0m                         Traceback (most recent call last)",
        "\u001b[0;32m<ipython-input-3-82b573231fa4>\u001b[0m in \u001b[0;36m<module>\u001b[0;34m()\u001b[0m\n\u001b[0;32m----> 1\u001b[0;31m \u001b[0mr_squared\u001b[0m \u001b[0;34m=\u001b[0m \u001b[0mozm\u001b[0m\u001b[0;34m.\u001b[0m\u001b[0mrsquared\u001b[0m\u001b[0;34m(\u001b[0m\u001b[0mSHM1\u001b[0m\u001b[0;34m,\u001b[0m\u001b[0mSHM2\u001b[0m\u001b[0;34m)\u001b[0m\u001b[0;34m\u001b[0m\u001b[0m\n\u001b[0m\u001b[1;32m      2\u001b[0m \u001b[0mfig\u001b[0m \u001b[0;34m=\u001b[0m \u001b[0mviz\u001b[0m\u001b[0;34m.\u001b[0m\u001b[0mmosaic\u001b[0m\u001b[0;34m(\u001b[0m\u001b[0mr_squared\u001b[0m\u001b[0;34m.\u001b[0m\u001b[0mT\u001b[0m\u001b[0;34m,\u001b[0m \u001b[0mcmap\u001b[0m\u001b[0;34m=\u001b[0m\u001b[0mmatplotlib\u001b[0m\u001b[0;34m.\u001b[0m\u001b[0mcm\u001b[0m\u001b[0;34m.\u001b[0m\u001b[0mhot\u001b[0m\u001b[0;34m)\u001b[0m\u001b[0;34m\u001b[0m\u001b[0m\n\u001b[1;32m      3\u001b[0m \u001b[0mfig\u001b[0m\u001b[0;34m.\u001b[0m\u001b[0mset_size_inches\u001b[0m\u001b[0;34m(\u001b[0m\u001b[0;34m[\u001b[0m\u001b[0;36m14\u001b[0m\u001b[0;34m,\u001b[0m\u001b[0;36m10\u001b[0m\u001b[0;34m]\u001b[0m\u001b[0;34m)\u001b[0m\u001b[0;34m\u001b[0m\u001b[0m\n",
        "\u001b[0;32m/Users/arokem/usr/lib/python2.7/site-packages/osmosis/model.pyc\u001b[0m in \u001b[0;36mrsquared\u001b[0;34m(model1, model2)\u001b[0m\n\u001b[1;32m    664\u001b[0m     \u001b[0msig2\u001b[0m \u001b[0;34m=\u001b[0m \u001b[0mmodel2\u001b[0m\u001b[0;34m.\u001b[0m\u001b[0msignal\u001b[0m\u001b[0;34m[\u001b[0m\u001b[0mmodel2\u001b[0m\u001b[0;34m.\u001b[0m\u001b[0mmask\u001b[0m\u001b[0;34m]\u001b[0m\u001b[0;34m\u001b[0m\u001b[0m\n\u001b[1;32m    665\u001b[0m     \u001b[0mfit1\u001b[0m \u001b[0;34m=\u001b[0m \u001b[0mmodel1\u001b[0m\u001b[0;34m.\u001b[0m\u001b[0mfit\u001b[0m\u001b[0;34m[\u001b[0m\u001b[0mmodel1\u001b[0m\u001b[0;34m.\u001b[0m\u001b[0mmask\u001b[0m\u001b[0;34m]\u001b[0m\u001b[0;34m\u001b[0m\u001b[0m\n\u001b[0;32m--> 666\u001b[0;31m     \u001b[0mfit2\u001b[0m \u001b[0;34m=\u001b[0m \u001b[0mmodel2\u001b[0m\u001b[0;34m.\u001b[0m\u001b[0mfit\u001b[0m\u001b[0;34m[\u001b[0m\u001b[0mmodel2\u001b[0m\u001b[0;34m.\u001b[0m\u001b[0mmask\u001b[0m\u001b[0;34m]\u001b[0m\u001b[0;34m\u001b[0m\u001b[0m\n\u001b[0m\u001b[1;32m    667\u001b[0m \u001b[0;34m\u001b[0m\u001b[0m\n\u001b[1;32m    668\u001b[0m     \u001b[0mout_flat\u001b[0m \u001b[0;34m=\u001b[0m \u001b[0mnp\u001b[0m\u001b[0;34m.\u001b[0m\u001b[0mempty\u001b[0m\u001b[0;34m(\u001b[0m\u001b[0mfit1\u001b[0m\u001b[0;34m.\u001b[0m\u001b[0mshape\u001b[0m\u001b[0;34m[\u001b[0m\u001b[0;36m0\u001b[0m\u001b[0;34m]\u001b[0m\u001b[0;34m)\u001b[0m\u001b[0;34m\u001b[0m\u001b[0m\n",
        "\u001b[0;32m/Users/arokem/usr/lib/python2.7/site-packages/osmosis/descriptors.pyc\u001b[0m in \u001b[0;36m__get__\u001b[0;34m(self, obj, type)\u001b[0m\n\u001b[1;32m    140\u001b[0m         \u001b[0;31m# Errors in the following line are errors in setting a\u001b[0m\u001b[0;34m\u001b[0m\u001b[0;34m\u001b[0m\u001b[0m\n\u001b[1;32m    141\u001b[0m         \u001b[0;31m# OneTimeProperty\u001b[0m\u001b[0;34m\u001b[0m\u001b[0;34m\u001b[0m\u001b[0m\n\u001b[0;32m--> 142\u001b[0;31m         \u001b[0mval\u001b[0m \u001b[0;34m=\u001b[0m \u001b[0mself\u001b[0m\u001b[0;34m.\u001b[0m\u001b[0mgetter\u001b[0m\u001b[0;34m(\u001b[0m\u001b[0mobj\u001b[0m\u001b[0;34m)\u001b[0m\u001b[0;34m\u001b[0m\u001b[0m\n\u001b[0m\u001b[1;32m    143\u001b[0m \u001b[0;34m\u001b[0m\u001b[0m\n\u001b[1;32m    144\u001b[0m         \u001b[0msetattr\u001b[0m\u001b[0;34m(\u001b[0m\u001b[0mobj\u001b[0m\u001b[0;34m,\u001b[0m \u001b[0mself\u001b[0m\u001b[0;34m.\u001b[0m\u001b[0mname\u001b[0m\u001b[0;34m,\u001b[0m \u001b[0mval\u001b[0m\u001b[0;34m)\u001b[0m\u001b[0;34m\u001b[0m\u001b[0m\n",
        "\u001b[0;32m/Users/arokem/usr/lib/python2.7/site-packages/osmosis/model.pyc\u001b[0m in \u001b[0;36mfit\u001b[0;34m(self)\u001b[0m\n\u001b[1;32m   1302\u001b[0m         \u001b[0;32mif\u001b[0m \u001b[0mself\u001b[0m\u001b[0;34m.\u001b[0m\u001b[0mverbose\u001b[0m\u001b[0;34m:\u001b[0m\u001b[0;34m\u001b[0m\u001b[0m\n\u001b[1;32m   1303\u001b[0m             \u001b[0;32mprint\u001b[0m\u001b[0;34m(\u001b[0m\u001b[0;34m\"Predicting signal from SphericalHarmonicsModel\"\u001b[0m\u001b[0;34m)\u001b[0m\u001b[0;34m\u001b[0m\u001b[0m\n\u001b[0;32m-> 1304\u001b[0;31m             \u001b[0mprog_bar\u001b[0m \u001b[0;34m=\u001b[0m \u001b[0mviz\u001b[0m\u001b[0;34m.\u001b[0m\u001b[0mProgressBar\u001b[0m\u001b[0;34m(\u001b[0m\u001b[0mself\u001b[0m\u001b[0;34m.\u001b[0m\u001b[0m_flat_signal\u001b[0m\u001b[0;34m.\u001b[0m\u001b[0mshape\u001b[0m\u001b[0;34m[\u001b[0m\u001b[0;36m0\u001b[0m\u001b[0;34m]\u001b[0m\u001b[0;34m)\u001b[0m\u001b[0;34m\u001b[0m\u001b[0m\n\u001b[0m\u001b[1;32m   1305\u001b[0m             \u001b[0mthis_class\u001b[0m \u001b[0;34m=\u001b[0m \u001b[0mstr\u001b[0m\u001b[0;34m(\u001b[0m\u001b[0mself\u001b[0m\u001b[0;34m.\u001b[0m\u001b[0m__class__\u001b[0m\u001b[0;34m)\u001b[0m\u001b[0;34m.\u001b[0m\u001b[0msplit\u001b[0m\u001b[0;34m(\u001b[0m\u001b[0;34m\"'\"\u001b[0m\u001b[0;34m)\u001b[0m\u001b[0;34m[\u001b[0m\u001b[0;34m-\u001b[0m\u001b[0;36m2\u001b[0m\u001b[0;34m]\u001b[0m\u001b[0;34m.\u001b[0m\u001b[0msplit\u001b[0m\u001b[0;34m(\u001b[0m\u001b[0;34m'.'\u001b[0m\u001b[0;34m)\u001b[0m\u001b[0;34m[\u001b[0m\u001b[0;34m-\u001b[0m\u001b[0;36m1\u001b[0m\u001b[0;34m]\u001b[0m\u001b[0;34m\u001b[0m\u001b[0m\n\u001b[1;32m   1306\u001b[0m             \u001b[0mf_name\u001b[0m \u001b[0;34m=\u001b[0m \u001b[0mthis_class\u001b[0m \u001b[0;34m+\u001b[0m \u001b[0;34m'.'\u001b[0m \u001b[0;34m+\u001b[0m \u001b[0minspect\u001b[0m\u001b[0;34m.\u001b[0m\u001b[0mstack\u001b[0m\u001b[0;34m(\u001b[0m\u001b[0;34m)\u001b[0m\u001b[0;34m[\u001b[0m\u001b[0;36m0\u001b[0m\u001b[0;34m]\u001b[0m\u001b[0;34m[\u001b[0m\u001b[0;36m3\u001b[0m\u001b[0;34m]\u001b[0m\u001b[0;34m\u001b[0m\u001b[0m\n",
        "\u001b[0;32m/Users/arokem/usr/lib/python2.7/site-packages/osmosis/descriptors.pyc\u001b[0m in \u001b[0;36m__get__\u001b[0;34m(self, obj, type)\u001b[0m\n\u001b[1;32m    140\u001b[0m         \u001b[0;31m# Errors in the following line are errors in setting a\u001b[0m\u001b[0;34m\u001b[0m\u001b[0;34m\u001b[0m\u001b[0m\n\u001b[1;32m    141\u001b[0m         \u001b[0;31m# OneTimeProperty\u001b[0m\u001b[0;34m\u001b[0m\u001b[0;34m\u001b[0m\u001b[0m\n\u001b[0;32m--> 142\u001b[0;31m         \u001b[0mval\u001b[0m \u001b[0;34m=\u001b[0m \u001b[0mself\u001b[0m\u001b[0;34m.\u001b[0m\u001b[0mgetter\u001b[0m\u001b[0;34m(\u001b[0m\u001b[0mobj\u001b[0m\u001b[0;34m)\u001b[0m\u001b[0;34m\u001b[0m\u001b[0m\n\u001b[0m\u001b[1;32m    143\u001b[0m \u001b[0;34m\u001b[0m\u001b[0m\n\u001b[1;32m    144\u001b[0m         \u001b[0msetattr\u001b[0m\u001b[0;34m(\u001b[0m\u001b[0mobj\u001b[0m\u001b[0;34m,\u001b[0m \u001b[0mself\u001b[0m\u001b[0;34m.\u001b[0m\u001b[0mname\u001b[0m\u001b[0;34m,\u001b[0m \u001b[0mval\u001b[0m\u001b[0;34m)\u001b[0m\u001b[0;34m\u001b[0m\u001b[0m\n",
        "\u001b[0;32m/Users/arokem/usr/lib/python2.7/site-packages/osmosis/model.pyc\u001b[0m in \u001b[0;36m_flat_signal\u001b[0;34m(self)\u001b[0m\n\u001b[1;32m    285\u001b[0m         \u001b[0;34m(\u001b[0m\u001b[0monly\u001b[0m \u001b[0;32min\u001b[0m \u001b[0mthe\u001b[0m \u001b[0mmask\u001b[0m\u001b[0;34m)\u001b[0m\u001b[0;34m.\u001b[0m\u001b[0;34m\u001b[0m\u001b[0m\n\u001b[1;32m    286\u001b[0m         \"\"\"\n\u001b[0;32m--> 287\u001b[0;31m         \u001b[0;32mreturn\u001b[0m \u001b[0mself\u001b[0m\u001b[0;34m.\u001b[0m\u001b[0m_flat_data\u001b[0m\u001b[0;34m[\u001b[0m\u001b[0;34m:\u001b[0m\u001b[0;34m,\u001b[0m\u001b[0mself\u001b[0m\u001b[0;34m.\u001b[0m\u001b[0mb_idx\u001b[0m\u001b[0;34m]\u001b[0m\u001b[0;34m\u001b[0m\u001b[0m\n\u001b[0m\u001b[1;32m    288\u001b[0m \u001b[0;34m\u001b[0m\u001b[0m\n\u001b[1;32m    289\u001b[0m \u001b[0;34m\u001b[0m\u001b[0m\n",
        "\u001b[0;32m/Users/arokem/usr/lib/python2.7/site-packages/osmosis/descriptors.pyc\u001b[0m in \u001b[0;36m__get__\u001b[0;34m(self, obj, type)\u001b[0m\n\u001b[1;32m    140\u001b[0m         \u001b[0;31m# Errors in the following line are errors in setting a\u001b[0m\u001b[0;34m\u001b[0m\u001b[0;34m\u001b[0m\u001b[0m\n\u001b[1;32m    141\u001b[0m         \u001b[0;31m# OneTimeProperty\u001b[0m\u001b[0;34m\u001b[0m\u001b[0;34m\u001b[0m\u001b[0m\n\u001b[0;32m--> 142\u001b[0;31m         \u001b[0mval\u001b[0m \u001b[0;34m=\u001b[0m \u001b[0mself\u001b[0m\u001b[0;34m.\u001b[0m\u001b[0mgetter\u001b[0m\u001b[0;34m(\u001b[0m\u001b[0mobj\u001b[0m\u001b[0;34m)\u001b[0m\u001b[0;34m\u001b[0m\u001b[0m\n\u001b[0m\u001b[1;32m    143\u001b[0m \u001b[0;34m\u001b[0m\u001b[0m\n\u001b[1;32m    144\u001b[0m         \u001b[0msetattr\u001b[0m\u001b[0;34m(\u001b[0m\u001b[0mobj\u001b[0m\u001b[0;34m,\u001b[0m \u001b[0mself\u001b[0m\u001b[0;34m.\u001b[0m\u001b[0mname\u001b[0m\u001b[0;34m,\u001b[0m \u001b[0mval\u001b[0m\u001b[0;34m)\u001b[0m\u001b[0;34m\u001b[0m\u001b[0m\n",
        "\u001b[0;32m/Users/arokem/usr/lib/python2.7/site-packages/osmosis/model.pyc\u001b[0m in \u001b[0;36m_flat_data\u001b[0;34m(self)\u001b[0m\n\u001b[1;32m    269\u001b[0m         \u001b[0mGet\u001b[0m \u001b[0mthe\u001b[0m \u001b[0mflat\u001b[0m \u001b[0mdata\u001b[0m \u001b[0monly\u001b[0m \u001b[0;32min\u001b[0m \u001b[0mthe\u001b[0m \u001b[0mmask\u001b[0m\u001b[0;34m\u001b[0m\u001b[0m\n\u001b[1;32m    270\u001b[0m         \"\"\"        \n\u001b[0;32m--> 271\u001b[0;31m         \u001b[0;32mreturn\u001b[0m \u001b[0mself\u001b[0m\u001b[0;34m.\u001b[0m\u001b[0mdata\u001b[0m\u001b[0;34m[\u001b[0m\u001b[0mself\u001b[0m\u001b[0;34m.\u001b[0m\u001b[0mmask\u001b[0m\u001b[0;34m]\u001b[0m\u001b[0;34m\u001b[0m\u001b[0m\n\u001b[0m\u001b[1;32m    272\u001b[0m \u001b[0;34m\u001b[0m\u001b[0m\n\u001b[1;32m    273\u001b[0m     \u001b[0;34m@\u001b[0m\u001b[0mdesc\u001b[0m\u001b[0;34m.\u001b[0m\u001b[0mauto_attr\u001b[0m\u001b[0;34m\u001b[0m\u001b[0m\n",
        "\u001b[0;31mKeyboardInterrupt\u001b[0m: "
       ]
      },
      {
       "output_type": "stream",
       "stream": "stdout",
       "text": [
        " Predicting signal from SphericalHarmonicsModel\n"
       ]
      }
     ],
     "prompt_number": 3
    },
    {
     "cell_type": "code",
     "collapsed": false,
     "input": [
      "r_squared_tensor = ozm.rsquared(TM1,TM2)\n",
      "fig = viz.mosaic(r_squared_tensor.T, cmap=matplotlib.cm.hot)\n",
      "fig.set_size_inches([14,10])"
     ],
     "language": "python",
     "metadata": {},
     "outputs": []
    },
    {
     "cell_type": "code",
     "collapsed": false,
     "input": [],
     "language": "python",
     "metadata": {},
     "outputs": []
    }
   ],
   "metadata": {}
  }
 ]
}