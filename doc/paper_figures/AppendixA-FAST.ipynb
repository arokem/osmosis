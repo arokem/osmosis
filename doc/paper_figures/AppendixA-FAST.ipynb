{
 "metadata": {
  "name": "AppendixA-FAST"
 },
 "nbformat": 3,
 "nbformat_minor": 0,
 "worksheets": [
  {
   "cells": [
    {
     "cell_type": "code",
     "collapsed": false,
     "input": [
      "# This takes a (very long) while to run unless the tools in osmosis.parallel are \n",
      "# used to parallelize the computation of all the model params and the rRMSE values\n",
      "# For completeness, the notebook AppendixA will do that for you, but god only knows \n",
      "# how long that might take... \n",
      "\n",
      "# This here, on the other hand, works FAST!\n",
      "\n",
      "import nibabel as ni\n",
      "import os\n",
      "\n",
      "import osmosis as oz\n",
      "import osmosis.model.analysis as oza\n",
      "import osmosis.model.sparse_deconvolution as ssd\n",
      "import osmosis.model.dti as dti\n",
      "\n",
      "import osmosis.viz.mpl as mpl\n",
      "\n",
      "import osmosis.io as oio\n",
      "oio.data_path = '/biac4/wandell/biac2/wandell6/data/arokem/osmosis'"
     ],
     "language": "python",
     "metadata": {},
     "outputs": [
      {
       "output_type": "stream",
       "stream": "stderr",
       "text": [
        "/usr/lib/python2.7/dist-packages/nose/util.py:14: DeprecationWarning: The compiler package is deprecated and removed in Python 3.x.\n",
        "  from compiler.consts import CO_GENERATOR\n"
       ]
      }
     ],
     "prompt_number": 1
    },
    {
     "cell_type": "code",
     "collapsed": false,
     "input": [
      "subject = 'FP'"
     ],
     "language": "python",
     "metadata": {},
     "outputs": [],
     "prompt_number": 2
    },
    {
     "cell_type": "code",
     "collapsed": false,
     "input": [
      "alphas = [0.0001, 0.0005, 0.001, 0.0025, 0.005, 0.0075, 0.01, 0.025, 0.05]\n",
      "l1_ratios = [0.0, 0.2, 0.4, 0.6, 0.8, 1.0]"
     ],
     "language": "python",
     "metadata": {},
     "outputs": [],
     "prompt_number": 6
    },
    {
     "cell_type": "code",
     "collapsed": false,
     "input": [
      "rmse_matrix = {}\n",
      "rel_matrix = {}\n",
      "for b in [1000, 2000, 4000]:\n",
      "    ad_rd = oio.get_ad_rd(subject, b)\n",
      "    rmse_matrix[b] = np.zeros((len(rhos), len(alphas)))\n",
      "    rel_matrix[b] = np.zeros((len(rhos), len(alphas)))\n",
      "    for l1_idx, l1_ratio in enumerate(l1_ratios):\n",
      "        for alpha_idx, this_alpha in enumerate(alphas):\n",
      "            \n",
      "            rrmse_fname = \"%s/%s/RMSE_b%s_l1ratio%s_alpha%s.nii.gz\"%(oio.data_path,\n",
      "                                                             subject,\n",
      "                                                             b,\n",
      "                                                             l1_ratio,\n",
      "                                                             alpha)\n",
      "            \n",
      "            rrmse_fname = \"%s/%s/PDD_angle_b%s_l1ratio%s_alpha%s.nii.gz\"%(oio.data_path,\n",
      "                                                             subject,\n",
      "                                                             b,\n",
      "                                                             l1_ratio,\n",
      "                                                             alpha)\n",
      "            \n",
      "            rrmse = ni.load()\n",
      "            median_rmse = np.median(rrmse[np.isfinite(rrmse)])\n",
      "            rmse_matrix[b][l1_idx, alpha_idx] = median_rmse\n",
      "            median_rel = np.median(rel[np.isfinite(rel)])\n",
      "            rel_matrix[b][l1_idx, alpha_idx] = median_rel\n",
      "            \n"
     ],
     "language": "python",
     "metadata": {},
     "outputs": [
      {
       "output_type": "stream",
       "stream": "stdout",
       "text": [
        "Predicting signal from SparseDeconvolutionModel with ElasticNet(alpha=0.0001, copy_X=True, fit_intercept=False, l1_ratio=0.0,\n",
        "      max_iter=1000, normalize=False, positive=True, precompute=auto,\n",
        "      rho=None, tol=0.0001, warm_start=False)\n",
        "Loading params from file: /biac4/wandell/biac2/wandell6/data/arokem/osmosis/FP/0009_01_DWI_2mm150dir_2x_b1000_aligned_trilin_SSD_l1ratio0.0_alpha0.0001.nii.gz"
       ]
      },
      {
       "output_type": "stream",
       "stream": "stdout",
       "text": [
        "\n",
        "Predicting signal from SparseDeconvolutionModel with ElasticNet(alpha=0.0001, copy_X=True, fit_intercept=False, l1_ratio=0.0,\n",
        "      max_iter=1000, normalize=False, positive=True, precompute=auto,\n",
        "      rho=None, tol=0.0001, warm_start=False)"
       ]
      },
      {
       "output_type": "stream",
       "stream": "stdout",
       "text": [
        "\n",
        "Loading params from file: /biac4/wandell/biac2/wandell6/data/arokem/osmosis/FP/0011_01_DWI_2mm150dir_2x_b1000_aligned_trilin_SSD_l1ratio0.0_alpha0.0001.nii.gz"
       ]
      },
      {
       "output_type": "stream",
       "stream": "stdout",
       "text": [
        "\n",
        "Predicting signal from SparseDeconvolutionModel with ElasticNet(alpha=0.0001, copy_X=True, fit_intercept=False, l1_ratio=0.0,\n",
        "      max_iter=1000, normalize=False, positive=True, precompute=auto,\n",
        "      rho=None, tol=0.0001, warm_start=False)"
       ]
      },
      {
       "output_type": "stream",
       "stream": "stdout",
       "text": [
        "\n",
        "Predicting signal from SparseDeconvolutionModel with ElasticNet(alpha=0.0001, copy_X=True, fit_intercept=False, l1_ratio=0.0,\n",
        "      max_iter=1000, normalize=False, positive=True, precompute=auto,\n",
        "      rho=None, tol=0.0001, warm_start=False)"
       ]
      },
      {
       "output_type": "stream",
       "stream": "stdout",
       "text": [
        "\n",
        "Fitting TensorModel params using dipy"
       ]
      },
      {
       "output_type": "stream",
       "stream": "stderr",
       "text": [
        "/home/arokem/usr/lib/python2.7/site-packages/osmosis/model/base.py:383: RuntimeWarning: divide by zero encountered in divide\n",
        "  signal_rel = self.signal/np.reshape(self.S0, (self.S0.shape + (1,)))\n",
        "/home/arokem/usr/lib/python2.7/site-packages/osmosis/model/base.py:383: RuntimeWarning: invalid value encountered in divide\n",
        "  signal_rel = self.signal/np.reshape(self.S0, (self.S0.shape + (1,)))\n",
        "/home/arokem/usr/lib/python2.7/site-packages/osmosis/model/base.py:240: UserWarning: DWI data generated from array. Affine will be set to np.eye(4)\n",
        "  warnings.warn(w_s)\n"
       ]
      },
      {
       "output_type": "stream",
       "stream": "stdout",
       "text": [
        "\n",
        "Fitting TensorModel params using dipy"
       ]
      },
      {
       "output_type": "stream",
       "stream": "stdout",
       "text": [
        "\n",
        "Predicting signal from SparseDeconvolutionModel with ElasticNet(alpha=0.0005, copy_X=True, fit_intercept=False, l1_ratio=0.0,\n",
        "      max_iter=1000, normalize=False, positive=True, precompute=auto,\n",
        "      rho=None, tol=0.0001, warm_start=False)"
       ]
      },
      {
       "output_type": "stream",
       "stream": "stdout",
       "text": [
        "\n",
        "Loading params from file: /biac4/wandell/biac2/wandell6/data/arokem/osmosis/FP/0009_01_DWI_2mm150dir_2x_b1000_aligned_trilin_SSD_l1ratio0.0_alpha0.0005.nii.gz"
       ]
      },
      {
       "output_type": "stream",
       "stream": "stdout",
       "text": [
        "\n",
        "Predicting signal from SparseDeconvolutionModel with ElasticNet(alpha=0.0005, copy_X=True, fit_intercept=False, l1_ratio=0.0,\n",
        "      max_iter=1000, normalize=False, positive=True, precompute=auto,\n",
        "      rho=None, tol=0.0001, warm_start=False)"
       ]
      },
      {
       "output_type": "stream",
       "stream": "stdout",
       "text": [
        "\n",
        "Loading params from file: /biac4/wandell/biac2/wandell6/data/arokem/osmosis/FP/0011_01_DWI_2mm150dir_2x_b1000_aligned_trilin_SSD_l1ratio0.0_alpha0.0005.nii.gz"
       ]
      },
      {
       "output_type": "stream",
       "stream": "stdout",
       "text": [
        "\n",
        "Predicting signal from SparseDeconvolutionModel with ElasticNet(alpha=0.0005, copy_X=True, fit_intercept=False, l1_ratio=0.0,\n",
        "      max_iter=1000, normalize=False, positive=True, precompute=auto,\n",
        "      rho=None, tol=0.0001, warm_start=False)"
       ]
      },
      {
       "output_type": "stream",
       "stream": "stdout",
       "text": [
        "\n",
        "Predicting signal from SparseDeconvolutionModel with ElasticNet(alpha=0.0005, copy_X=True, fit_intercept=False, l1_ratio=0.0,\n",
        "      max_iter=1000, normalize=False, positive=True, precompute=auto,\n",
        "      rho=None, tol=0.0001, warm_start=False)"
       ]
      },
      {
       "output_type": "stream",
       "stream": "stdout",
       "text": [
        "\n",
        "Fitting TensorModel params using dipy"
       ]
      },
      {
       "output_type": "stream",
       "stream": "stdout",
       "text": [
        "\n",
        "Fitting TensorModel params using dipy"
       ]
      },
      {
       "output_type": "stream",
       "stream": "stdout",
       "text": [
        "\n",
        "Predicting signal from SparseDeconvolutionModel with ElasticNet(alpha=0.001, copy_X=True, fit_intercept=False, l1_ratio=0.0,\n",
        "      max_iter=1000, normalize=False, positive=True, precompute=auto,\n",
        "      rho=None, tol=0.0001, warm_start=False)"
       ]
      },
      {
       "output_type": "stream",
       "stream": "stdout",
       "text": [
        "\n",
        "Loading params from file: /biac4/wandell/biac2/wandell6/data/arokem/osmosis/FP/0009_01_DWI_2mm150dir_2x_b1000_aligned_trilin_SSD_l1ratio0.0_alpha0.001.nii.gz"
       ]
      },
      {
       "output_type": "stream",
       "stream": "stdout",
       "text": [
        "\n",
        "Predicting signal from SparseDeconvolutionModel with ElasticNet(alpha=0.001, copy_X=True, fit_intercept=False, l1_ratio=0.0,\n",
        "      max_iter=1000, normalize=False, positive=True, precompute=auto,\n",
        "      rho=None, tol=0.0001, warm_start=False)"
       ]
      },
      {
       "output_type": "stream",
       "stream": "stdout",
       "text": [
        "\n",
        "Loading params from file: /biac4/wandell/biac2/wandell6/data/arokem/osmosis/FP/0011_01_DWI_2mm150dir_2x_b1000_aligned_trilin_SSD_l1ratio0.0_alpha0.001.nii.gz"
       ]
      },
      {
       "output_type": "stream",
       "stream": "stdout",
       "text": [
        "\n",
        "Predicting signal from SparseDeconvolutionModel with ElasticNet(alpha=0.001, copy_X=True, fit_intercept=False, l1_ratio=0.0,\n",
        "      max_iter=1000, normalize=False, positive=True, precompute=auto,\n",
        "      rho=None, tol=0.0001, warm_start=False)"
       ]
      },
      {
       "output_type": "stream",
       "stream": "stdout",
       "text": [
        "\n",
        "Predicting signal from SparseDeconvolutionModel with ElasticNet(alpha=0.001, copy_X=True, fit_intercept=False, l1_ratio=0.0,\n",
        "      max_iter=1000, normalize=False, positive=True, precompute=auto,\n",
        "      rho=None, tol=0.0001, warm_start=False)"
       ]
      },
      {
       "output_type": "stream",
       "stream": "stdout",
       "text": [
        "\n",
        "Fitting TensorModel params using dipy"
       ]
      },
      {
       "output_type": "stream",
       "stream": "stdout",
       "text": [
        "\n",
        "Fitting TensorModel params using dipy"
       ]
      },
      {
       "output_type": "stream",
       "stream": "stdout",
       "text": [
        "\n",
        "Predicting signal from SparseDeconvolutionModel with ElasticNet(alpha=0.0025, copy_X=True, fit_intercept=False, l1_ratio=0.0,\n",
        "      max_iter=1000, normalize=False, positive=True, precompute=auto,\n",
        "      rho=None, tol=0.0001, warm_start=False)"
       ]
      },
      {
       "output_type": "stream",
       "stream": "stdout",
       "text": [
        "\n",
        "Loading params from file: /biac4/wandell/biac2/wandell6/data/arokem/osmosis/FP/0009_01_DWI_2mm150dir_2x_b1000_aligned_trilin_SSD_l1ratio0.0_alpha0.0025.nii.gz"
       ]
      },
      {
       "output_type": "stream",
       "stream": "stdout",
       "text": [
        "\n",
        "Predicting signal from SparseDeconvolutionModel with ElasticNet(alpha=0.0025, copy_X=True, fit_intercept=False, l1_ratio=0.0,\n",
        "      max_iter=1000, normalize=False, positive=True, precompute=auto,\n",
        "      rho=None, tol=0.0001, warm_start=False)"
       ]
      },
      {
       "output_type": "stream",
       "stream": "stdout",
       "text": [
        "\n",
        "Loading params from file: /biac4/wandell/biac2/wandell6/data/arokem/osmosis/FP/0011_01_DWI_2mm150dir_2x_b1000_aligned_trilin_SSD_l1ratio0.0_alpha0.0025.nii.gz"
       ]
      },
      {
       "output_type": "stream",
       "stream": "stdout",
       "text": [
        "\n",
        "Predicting signal from SparseDeconvolutionModel with ElasticNet(alpha=0.0025, copy_X=True, fit_intercept=False, l1_ratio=0.0,\n",
        "      max_iter=1000, normalize=False, positive=True, precompute=auto,\n",
        "      rho=None, tol=0.0001, warm_start=False)"
       ]
      },
      {
       "output_type": "stream",
       "stream": "stdout",
       "text": [
        "\n",
        "Predicting signal from SparseDeconvolutionModel with ElasticNet(alpha=0.0025, copy_X=True, fit_intercept=False, l1_ratio=0.0,\n",
        "      max_iter=1000, normalize=False, positive=True, precompute=auto,\n",
        "      rho=None, tol=0.0001, warm_start=False)"
       ]
      },
      {
       "output_type": "stream",
       "stream": "stdout",
       "text": [
        "\n",
        "Fitting TensorModel params using dipy"
       ]
      },
      {
       "output_type": "stream",
       "stream": "stdout",
       "text": [
        "\n",
        "Fitting TensorModel params using dipy"
       ]
      },
      {
       "output_type": "stream",
       "stream": "stdout",
       "text": [
        "\n",
        "Predicting signal from SparseDeconvolutionModel with ElasticNet(alpha=0.005, copy_X=True, fit_intercept=False, l1_ratio=0.0,\n",
        "      max_iter=1000, normalize=False, positive=True, precompute=auto,\n",
        "      rho=None, tol=0.0001, warm_start=False)"
       ]
      },
      {
       "output_type": "stream",
       "stream": "stdout",
       "text": [
        "\n",
        "Loading params from file: /biac4/wandell/biac2/wandell6/data/arokem/osmosis/FP/0009_01_DWI_2mm150dir_2x_b1000_aligned_trilin_SSD_l1ratio0.0_alpha0.005.nii.gz"
       ]
      },
      {
       "output_type": "stream",
       "stream": "stdout",
       "text": [
        "\n",
        "Predicting signal from SparseDeconvolutionModel with ElasticNet(alpha=0.005, copy_X=True, fit_intercept=False, l1_ratio=0.0,\n",
        "      max_iter=1000, normalize=False, positive=True, precompute=auto,\n",
        "      rho=None, tol=0.0001, warm_start=False)"
       ]
      },
      {
       "output_type": "stream",
       "stream": "stdout",
       "text": [
        "\n",
        "Loading params from file: /biac4/wandell/biac2/wandell6/data/arokem/osmosis/FP/0011_01_DWI_2mm150dir_2x_b1000_aligned_trilin_SSD_l1ratio0.0_alpha0.005.nii.gz"
       ]
      },
      {
       "output_type": "stream",
       "stream": "stdout",
       "text": [
        "\n",
        "Predicting signal from SparseDeconvolutionModel with ElasticNet(alpha=0.005, copy_X=True, fit_intercept=False, l1_ratio=0.0,\n",
        "      max_iter=1000, normalize=False, positive=True, precompute=auto,\n",
        "      rho=None, tol=0.0001, warm_start=False)"
       ]
      },
      {
       "output_type": "stream",
       "stream": "stdout",
       "text": [
        "\n",
        "Predicting signal from SparseDeconvolutionModel with ElasticNet(alpha=0.005, copy_X=True, fit_intercept=False, l1_ratio=0.0,\n",
        "      max_iter=1000, normalize=False, positive=True, precompute=auto,\n",
        "      rho=None, tol=0.0001, warm_start=False)"
       ]
      },
      {
       "output_type": "stream",
       "stream": "stdout",
       "text": [
        "\n",
        "Fitting TensorModel params using dipy"
       ]
      },
      {
       "output_type": "stream",
       "stream": "stdout",
       "text": [
        "\n",
        "Fitting TensorModel params using dipy"
       ]
      },
      {
       "output_type": "stream",
       "stream": "stdout",
       "text": [
        "\n",
        "Predicting signal from SparseDeconvolutionModel with ElasticNet(alpha=0.0075, copy_X=True, fit_intercept=False, l1_ratio=0.0,\n",
        "      max_iter=1000, normalize=False, positive=True, precompute=auto,\n",
        "      rho=None, tol=0.0001, warm_start=False)"
       ]
      },
      {
       "output_type": "stream",
       "stream": "stdout",
       "text": [
        "\n",
        "Loading params from file: /biac4/wandell/biac2/wandell6/data/arokem/osmosis/FP/0009_01_DWI_2mm150dir_2x_b1000_aligned_trilin_SSD_l1ratio0.0_alpha0.0075.nii.gz"
       ]
      },
      {
       "output_type": "stream",
       "stream": "stdout",
       "text": [
        "\n",
        "Predicting signal from SparseDeconvolutionModel with ElasticNet(alpha=0.0075, copy_X=True, fit_intercept=False, l1_ratio=0.0,\n",
        "      max_iter=1000, normalize=False, positive=True, precompute=auto,\n",
        "      rho=None, tol=0.0001, warm_start=False)"
       ]
      },
      {
       "output_type": "stream",
       "stream": "stdout",
       "text": [
        "\n",
        "Loading params from file: /biac4/wandell/biac2/wandell6/data/arokem/osmosis/FP/0011_01_DWI_2mm150dir_2x_b1000_aligned_trilin_SSD_l1ratio0.0_alpha0.0075.nii.gz"
       ]
      },
      {
       "output_type": "stream",
       "stream": "stdout",
       "text": [
        "\n",
        "Predicting signal from SparseDeconvolutionModel with ElasticNet(alpha=0.0075, copy_X=True, fit_intercept=False, l1_ratio=0.0,\n",
        "      max_iter=1000, normalize=False, positive=True, precompute=auto,\n",
        "      rho=None, tol=0.0001, warm_start=False)"
       ]
      },
      {
       "output_type": "stream",
       "stream": "stdout",
       "text": [
        "\n",
        "Predicting signal from SparseDeconvolutionModel with ElasticNet(alpha=0.0075, copy_X=True, fit_intercept=False, l1_ratio=0.0,\n",
        "      max_iter=1000, normalize=False, positive=True, precompute=auto,\n",
        "      rho=None, tol=0.0001, warm_start=False)"
       ]
      },
      {
       "output_type": "stream",
       "stream": "stdout",
       "text": [
        "\n",
        "Fitting TensorModel params using dipy"
       ]
      },
      {
       "output_type": "stream",
       "stream": "stdout",
       "text": [
        "\n",
        "Fitting TensorModel params using dipy"
       ]
      },
      {
       "output_type": "stream",
       "stream": "stdout",
       "text": [
        "\n",
        "Predicting signal from SparseDeconvolutionModel with ElasticNet(alpha=0.01, copy_X=True, fit_intercept=False, l1_ratio=0.0,\n",
        "      max_iter=1000, normalize=False, positive=True, precompute=auto,\n",
        "      rho=None, tol=0.0001, warm_start=False)"
       ]
      },
      {
       "output_type": "stream",
       "stream": "stdout",
       "text": [
        "\n",
        "Loading params from file: /biac4/wandell/biac2/wandell6/data/arokem/osmosis/FP/0009_01_DWI_2mm150dir_2x_b1000_aligned_trilin_SSD_l1ratio0.0_alpha0.01.nii.gz"
       ]
      },
      {
       "output_type": "stream",
       "stream": "stdout",
       "text": [
        "\n",
        "Predicting signal from SparseDeconvolutionModel with ElasticNet(alpha=0.01, copy_X=True, fit_intercept=False, l1_ratio=0.0,\n",
        "      max_iter=1000, normalize=False, positive=True, precompute=auto,\n",
        "      rho=None, tol=0.0001, warm_start=False)"
       ]
      },
      {
       "output_type": "stream",
       "stream": "stdout",
       "text": [
        "\n",
        "Loading params from file: /biac4/wandell/biac2/wandell6/data/arokem/osmosis/FP/0011_01_DWI_2mm150dir_2x_b1000_aligned_trilin_SSD_l1ratio0.0_alpha0.01.nii.gz"
       ]
      },
      {
       "output_type": "stream",
       "stream": "stdout",
       "text": [
        "\n",
        "Predicting signal from SparseDeconvolutionModel with ElasticNet(alpha=0.01, copy_X=True, fit_intercept=False, l1_ratio=0.0,\n",
        "      max_iter=1000, normalize=False, positive=True, precompute=auto,\n",
        "      rho=None, tol=0.0001, warm_start=False)"
       ]
      },
      {
       "output_type": "stream",
       "stream": "stdout",
       "text": [
        "\n",
        "Predicting signal from SparseDeconvolutionModel with ElasticNet(alpha=0.01, copy_X=True, fit_intercept=False, l1_ratio=0.0,\n",
        "      max_iter=1000, normalize=False, positive=True, precompute=auto,\n",
        "      rho=None, tol=0.0001, warm_start=False)"
       ]
      },
      {
       "output_type": "stream",
       "stream": "stdout",
       "text": [
        "\n",
        "Fitting TensorModel params using dipy"
       ]
      },
      {
       "output_type": "stream",
       "stream": "stdout",
       "text": [
        "\n",
        "Fitting TensorModel params using dipy"
       ]
      },
      {
       "output_type": "stream",
       "stream": "stdout",
       "text": [
        "\n",
        "Predicting signal from SparseDeconvolutionModel with ElasticNet(alpha=0.025, copy_X=True, fit_intercept=False, l1_ratio=0.0,\n",
        "      max_iter=1000, normalize=False, positive=True, precompute=auto,\n",
        "      rho=None, tol=0.0001, warm_start=False)"
       ]
      },
      {
       "output_type": "stream",
       "stream": "stdout",
       "text": [
        "\n",
        "Loading params from file: /biac4/wandell/biac2/wandell6/data/arokem/osmosis/FP/0009_01_DWI_2mm150dir_2x_b1000_aligned_trilin_SSD_l1ratio0.0_alpha0.025.nii.gz"
       ]
      },
      {
       "output_type": "stream",
       "stream": "stdout",
       "text": [
        "\n",
        "Predicting signal from SparseDeconvolutionModel with ElasticNet(alpha=0.025, copy_X=True, fit_intercept=False, l1_ratio=0.0,\n",
        "      max_iter=1000, normalize=False, positive=True, precompute=auto,\n",
        "      rho=None, tol=0.0001, warm_start=False)"
       ]
      },
      {
       "output_type": "stream",
       "stream": "stdout",
       "text": [
        "\n",
        "Loading params from file: /biac4/wandell/biac2/wandell6/data/arokem/osmosis/FP/0011_01_DWI_2mm150dir_2x_b1000_aligned_trilin_SSD_l1ratio0.0_alpha0.025.nii.gz"
       ]
      },
      {
       "output_type": "stream",
       "stream": "stdout",
       "text": [
        "\n",
        "Predicting signal from SparseDeconvolutionModel with ElasticNet(alpha=0.025, copy_X=True, fit_intercept=False, l1_ratio=0.0,\n",
        "      max_iter=1000, normalize=False, positive=True, precompute=auto,\n",
        "      rho=None, tol=0.0001, warm_start=False)"
       ]
      },
      {
       "output_type": "stream",
       "stream": "stdout",
       "text": [
        "\n",
        "Predicting signal from SparseDeconvolutionModel with ElasticNet(alpha=0.025, copy_X=True, fit_intercept=False, l1_ratio=0.0,\n",
        "      max_iter=1000, normalize=False, positive=True, precompute=auto,\n",
        "      rho=None, tol=0.0001, warm_start=False)"
       ]
      },
      {
       "output_type": "stream",
       "stream": "stdout",
       "text": [
        "\n",
        "Fitting TensorModel params using dipy"
       ]
      },
      {
       "output_type": "stream",
       "stream": "stdout",
       "text": [
        "\n",
        "Fitting TensorModel params using dipy"
       ]
      },
      {
       "output_type": "stream",
       "stream": "stdout",
       "text": [
        "\n",
        "Predicting signal from SparseDeconvolutionModel with ElasticNet(alpha=0.05, copy_X=True, fit_intercept=False, l1_ratio=0.0,\n",
        "      max_iter=1000, normalize=False, positive=True, precompute=auto,\n",
        "      rho=None, tol=0.0001, warm_start=False)"
       ]
      },
      {
       "output_type": "stream",
       "stream": "stdout",
       "text": [
        "\n",
        "Loading params from file: /biac4/wandell/biac2/wandell6/data/arokem/osmosis/FP/0009_01_DWI_2mm150dir_2x_b1000_aligned_trilin_SSD_l1ratio0.0_alpha0.05.nii.gz"
       ]
      },
      {
       "output_type": "stream",
       "stream": "stdout",
       "text": [
        "\n",
        "Predicting signal from SparseDeconvolutionModel with ElasticNet(alpha=0.05, copy_X=True, fit_intercept=False, l1_ratio=0.0,\n",
        "      max_iter=1000, normalize=False, positive=True, precompute=auto,\n",
        "      rho=None, tol=0.0001, warm_start=False)"
       ]
      },
      {
       "output_type": "stream",
       "stream": "stdout",
       "text": [
        "\n",
        "Loading params from file: /biac4/wandell/biac2/wandell6/data/arokem/osmosis/FP/0011_01_DWI_2mm150dir_2x_b1000_aligned_trilin_SSD_l1ratio0.0_alpha0.05.nii.gz"
       ]
      },
      {
       "output_type": "stream",
       "stream": "stdout",
       "text": [
        "\n",
        "Predicting signal from SparseDeconvolutionModel with ElasticNet(alpha=0.05, copy_X=True, fit_intercept=False, l1_ratio=0.0,\n",
        "      max_iter=1000, normalize=False, positive=True, precompute=auto,\n",
        "      rho=None, tol=0.0001, warm_start=False)"
       ]
      },
      {
       "output_type": "stream",
       "stream": "stdout",
       "text": [
        "\n",
        "Predicting signal from SparseDeconvolutionModel with ElasticNet(alpha=0.05, copy_X=True, fit_intercept=False, l1_ratio=0.0,\n",
        "      max_iter=1000, normalize=False, positive=True, precompute=auto,\n",
        "      rho=None, tol=0.0001, warm_start=False)"
       ]
      },
      {
       "output_type": "stream",
       "stream": "stdout",
       "text": [
        "\n",
        "Fitting TensorModel params using dipy"
       ]
      },
      {
       "output_type": "stream",
       "stream": "stdout",
       "text": [
        "\n",
        "Fitting TensorModel params using dipy"
       ]
      },
      {
       "output_type": "stream",
       "stream": "stdout",
       "text": [
        "\n",
        "Predicting signal from SparseDeconvolutionModel with ElasticNet(alpha=0.0001, copy_X=True, fit_intercept=False, l1_ratio=0.2,\n",
        "      max_iter=1000, normalize=False, positive=True, precompute=auto,\n",
        "      rho=None, tol=0.0001, warm_start=False)"
       ]
      },
      {
       "output_type": "stream",
       "stream": "stdout",
       "text": [
        "\n",
        "Loading params from file: /biac4/wandell/biac2/wandell6/data/arokem/osmosis/FP/0009_01_DWI_2mm150dir_2x_b1000_aligned_trilin_SSD_l1ratio0.2_alpha0.0001.nii.gz"
       ]
      },
      {
       "output_type": "stream",
       "stream": "stdout",
       "text": [
        "\n",
        "Predicting signal from SparseDeconvolutionModel with ElasticNet(alpha=0.0001, copy_X=True, fit_intercept=False, l1_ratio=0.2,\n",
        "      max_iter=1000, normalize=False, positive=True, precompute=auto,\n",
        "      rho=None, tol=0.0001, warm_start=False)"
       ]
      },
      {
       "output_type": "stream",
       "stream": "stdout",
       "text": [
        "\n",
        "Loading params from file: /biac4/wandell/biac2/wandell6/data/arokem/osmosis/FP/0011_01_DWI_2mm150dir_2x_b1000_aligned_trilin_SSD_l1ratio0.2_alpha0.0001.nii.gz"
       ]
      },
      {
       "output_type": "stream",
       "stream": "stdout",
       "text": [
        "\n",
        "Predicting signal from SparseDeconvolutionModel with ElasticNet(alpha=0.0001, copy_X=True, fit_intercept=False, l1_ratio=0.2,\n",
        "      max_iter=1000, normalize=False, positive=True, precompute=auto,\n",
        "      rho=None, tol=0.0001, warm_start=False)"
       ]
      },
      {
       "output_type": "stream",
       "stream": "stdout",
       "text": [
        "\n",
        "Predicting signal from SparseDeconvolutionModel with ElasticNet(alpha=0.0001, copy_X=True, fit_intercept=False, l1_ratio=0.2,\n",
        "      max_iter=1000, normalize=False, positive=True, precompute=auto,\n",
        "      rho=None, tol=0.0001, warm_start=False)"
       ]
      },
      {
       "output_type": "stream",
       "stream": "stdout",
       "text": [
        "\n",
        "Fitting TensorModel params using dipy"
       ]
      },
      {
       "output_type": "stream",
       "stream": "stdout",
       "text": [
        "\n",
        "Fitting TensorModel params using dipy"
       ]
      },
      {
       "output_type": "stream",
       "stream": "stdout",
       "text": [
        "\n",
        "Predicting signal from SparseDeconvolutionModel with ElasticNet(alpha=0.0005, copy_X=True, fit_intercept=False, l1_ratio=0.2,\n",
        "      max_iter=1000, normalize=False, positive=True, precompute=auto,\n",
        "      rho=None, tol=0.0001, warm_start=False)"
       ]
      },
      {
       "output_type": "stream",
       "stream": "stdout",
       "text": [
        "\n",
        "Loading params from file: /biac4/wandell/biac2/wandell6/data/arokem/osmosis/FP/0009_01_DWI_2mm150dir_2x_b1000_aligned_trilin_SSD_l1ratio0.2_alpha0.0005.nii.gz"
       ]
      },
      {
       "output_type": "stream",
       "stream": "stdout",
       "text": [
        "\n",
        "Predicting signal from SparseDeconvolutionModel with ElasticNet(alpha=0.0005, copy_X=True, fit_intercept=False, l1_ratio=0.2,\n",
        "      max_iter=1000, normalize=False, positive=True, precompute=auto,\n",
        "      rho=None, tol=0.0001, warm_start=False)"
       ]
      },
      {
       "output_type": "stream",
       "stream": "stdout",
       "text": [
        "\n",
        "Loading params from file: /biac4/wandell/biac2/wandell6/data/arokem/osmosis/FP/0011_01_DWI_2mm150dir_2x_b1000_aligned_trilin_SSD_l1ratio0.2_alpha0.0005.nii.gz"
       ]
      },
      {
       "output_type": "stream",
       "stream": "stdout",
       "text": [
        "\n",
        "Predicting signal from SparseDeconvolutionModel with ElasticNet(alpha=0.0005, copy_X=True, fit_intercept=False, l1_ratio=0.2,\n",
        "      max_iter=1000, normalize=False, positive=True, precompute=auto,\n",
        "      rho=None, tol=0.0001, warm_start=False)"
       ]
      },
      {
       "output_type": "stream",
       "stream": "stdout",
       "text": [
        "\n",
        "Predicting signal from SparseDeconvolutionModel with ElasticNet(alpha=0.0005, copy_X=True, fit_intercept=False, l1_ratio=0.2,\n",
        "      max_iter=1000, normalize=False, positive=True, precompute=auto,\n",
        "      rho=None, tol=0.0001, warm_start=False)"
       ]
      },
      {
       "output_type": "stream",
       "stream": "stdout",
       "text": [
        "\n",
        "Fitting TensorModel params using dipy"
       ]
      },
      {
       "output_type": "stream",
       "stream": "stdout",
       "text": [
        "\n",
        "Fitting TensorModel params using dipy"
       ]
      },
      {
       "output_type": "stream",
       "stream": "stdout",
       "text": [
        "\n",
        "Predicting signal from SparseDeconvolutionModel with ElasticNet(alpha=0.001, copy_X=True, fit_intercept=False, l1_ratio=0.2,\n",
        "      max_iter=1000, normalize=False, positive=True, precompute=auto,\n",
        "      rho=None, tol=0.0001, warm_start=False)"
       ]
      },
      {
       "output_type": "stream",
       "stream": "stdout",
       "text": [
        "\n",
        "Loading params from file: /biac4/wandell/biac2/wandell6/data/arokem/osmosis/FP/0009_01_DWI_2mm150dir_2x_b1000_aligned_trilin_SSD_l1ratio0.2_alpha0.001.nii.gz"
       ]
      },
      {
       "output_type": "stream",
       "stream": "stdout",
       "text": [
        "\n",
        "Predicting signal from SparseDeconvolutionModel with ElasticNet(alpha=0.001, copy_X=True, fit_intercept=False, l1_ratio=0.2,\n",
        "      max_iter=1000, normalize=False, positive=True, precompute=auto,\n",
        "      rho=None, tol=0.0001, warm_start=False)"
       ]
      },
      {
       "output_type": "stream",
       "stream": "stdout",
       "text": [
        "\n",
        "Loading params from file: /biac4/wandell/biac2/wandell6/data/arokem/osmosis/FP/0011_01_DWI_2mm150dir_2x_b1000_aligned_trilin_SSD_l1ratio0.2_alpha0.001.nii.gz"
       ]
      },
      {
       "output_type": "stream",
       "stream": "stdout",
       "text": [
        "\n",
        "Predicting signal from SparseDeconvolutionModel with ElasticNet(alpha=0.001, copy_X=True, fit_intercept=False, l1_ratio=0.2,\n",
        "      max_iter=1000, normalize=False, positive=True, precompute=auto,\n",
        "      rho=None, tol=0.0001, warm_start=False)"
       ]
      },
      {
       "output_type": "stream",
       "stream": "stdout",
       "text": [
        "\n",
        "Predicting signal from SparseDeconvolutionModel with ElasticNet(alpha=0.001, copy_X=True, fit_intercept=False, l1_ratio=0.2,\n",
        "      max_iter=1000, normalize=False, positive=True, precompute=auto,\n",
        "      rho=None, tol=0.0001, warm_start=False)"
       ]
      },
      {
       "output_type": "stream",
       "stream": "stdout",
       "text": [
        "\n",
        "Fitting TensorModel params using dipy"
       ]
      },
      {
       "output_type": "stream",
       "stream": "stdout",
       "text": [
        "\n",
        "Fitting TensorModel params using dipy"
       ]
      },
      {
       "output_type": "stream",
       "stream": "stdout",
       "text": [
        "\n",
        "Predicting signal from SparseDeconvolutionModel with ElasticNet(alpha=0.0025, copy_X=True, fit_intercept=False, l1_ratio=0.2,\n",
        "      max_iter=1000, normalize=False, positive=True, precompute=auto,\n",
        "      rho=None, tol=0.0001, warm_start=False)"
       ]
      },
      {
       "output_type": "stream",
       "stream": "stdout",
       "text": [
        "\n",
        "Loading params from file: /biac4/wandell/biac2/wandell6/data/arokem/osmosis/FP/0009_01_DWI_2mm150dir_2x_b1000_aligned_trilin_SSD_l1ratio0.2_alpha0.0025.nii.gz"
       ]
      },
      {
       "output_type": "stream",
       "stream": "stdout",
       "text": [
        "\n",
        "Predicting signal from SparseDeconvolutionModel with ElasticNet(alpha=0.0025, copy_X=True, fit_intercept=False, l1_ratio=0.2,\n",
        "      max_iter=1000, normalize=False, positive=True, precompute=auto,\n",
        "      rho=None, tol=0.0001, warm_start=False)"
       ]
      },
      {
       "output_type": "stream",
       "stream": "stdout",
       "text": [
        "\n",
        "Loading params from file: /biac4/wandell/biac2/wandell6/data/arokem/osmosis/FP/0011_01_DWI_2mm150dir_2x_b1000_aligned_trilin_SSD_l1ratio0.2_alpha0.0025.nii.gz"
       ]
      },
      {
       "output_type": "stream",
       "stream": "stdout",
       "text": [
        "\n",
        "Predicting signal from SparseDeconvolutionModel with ElasticNet(alpha=0.0025, copy_X=True, fit_intercept=False, l1_ratio=0.2,\n",
        "      max_iter=1000, normalize=False, positive=True, precompute=auto,\n",
        "      rho=None, tol=0.0001, warm_start=False)"
       ]
      },
      {
       "output_type": "stream",
       "stream": "stdout",
       "text": [
        "\n",
        "Predicting signal from SparseDeconvolutionModel with ElasticNet(alpha=0.0025, copy_X=True, fit_intercept=False, l1_ratio=0.2,\n",
        "      max_iter=1000, normalize=False, positive=True, precompute=auto,\n",
        "      rho=None, tol=0.0001, warm_start=False)"
       ]
      },
      {
       "output_type": "stream",
       "stream": "stdout",
       "text": [
        "\n",
        "Fitting TensorModel params using dipy"
       ]
      },
      {
       "output_type": "stream",
       "stream": "stdout",
       "text": [
        "\n",
        "Fitting TensorModel params using dipy"
       ]
      },
      {
       "output_type": "stream",
       "stream": "stdout",
       "text": [
        "\n",
        "Predicting signal from SparseDeconvolutionModel with ElasticNet(alpha=0.005, copy_X=True, fit_intercept=False, l1_ratio=0.2,\n",
        "      max_iter=1000, normalize=False, positive=True, precompute=auto,\n",
        "      rho=None, tol=0.0001, warm_start=False)"
       ]
      },
      {
       "output_type": "stream",
       "stream": "stdout",
       "text": [
        "\n",
        "Loading params from file: /biac4/wandell/biac2/wandell6/data/arokem/osmosis/FP/0009_01_DWI_2mm150dir_2x_b1000_aligned_trilin_SSD_l1ratio0.2_alpha0.005.nii.gz"
       ]
      },
      {
       "output_type": "stream",
       "stream": "stdout",
       "text": [
        "\n",
        "Predicting signal from SparseDeconvolutionModel with ElasticNet(alpha=0.005, copy_X=True, fit_intercept=False, l1_ratio=0.2,\n",
        "      max_iter=1000, normalize=False, positive=True, precompute=auto,\n",
        "      rho=None, tol=0.0001, warm_start=False)"
       ]
      },
      {
       "output_type": "stream",
       "stream": "stdout",
       "text": [
        "\n",
        "Loading params from file: /biac4/wandell/biac2/wandell6/data/arokem/osmosis/FP/0011_01_DWI_2mm150dir_2x_b1000_aligned_trilin_SSD_l1ratio0.2_alpha0.005.nii.gz"
       ]
      },
      {
       "output_type": "stream",
       "stream": "stdout",
       "text": [
        "\n",
        "Predicting signal from SparseDeconvolutionModel with ElasticNet(alpha=0.005, copy_X=True, fit_intercept=False, l1_ratio=0.2,\n",
        "      max_iter=1000, normalize=False, positive=True, precompute=auto,\n",
        "      rho=None, tol=0.0001, warm_start=False)"
       ]
      },
      {
       "output_type": "stream",
       "stream": "stdout",
       "text": [
        "\n",
        "Predicting signal from SparseDeconvolutionModel with ElasticNet(alpha=0.005, copy_X=True, fit_intercept=False, l1_ratio=0.2,\n",
        "      max_iter=1000, normalize=False, positive=True, precompute=auto,\n",
        "      rho=None, tol=0.0001, warm_start=False)"
       ]
      },
      {
       "output_type": "stream",
       "stream": "stdout",
       "text": [
        "\n",
        "Fitting TensorModel params using dipy"
       ]
      },
      {
       "output_type": "stream",
       "stream": "stdout",
       "text": [
        "\n",
        "Fitting TensorModel params using dipy"
       ]
      },
      {
       "output_type": "stream",
       "stream": "stdout",
       "text": [
        "\n",
        "Predicting signal from SparseDeconvolutionModel with ElasticNet(alpha=0.0075, copy_X=True, fit_intercept=False, l1_ratio=0.2,\n",
        "      max_iter=1000, normalize=False, positive=True, precompute=auto,\n",
        "      rho=None, tol=0.0001, warm_start=False)"
       ]
      },
      {
       "output_type": "stream",
       "stream": "stdout",
       "text": [
        "\n",
        "Loading params from file: /biac4/wandell/biac2/wandell6/data/arokem/osmosis/FP/0009_01_DWI_2mm150dir_2x_b1000_aligned_trilin_SSD_l1ratio0.2_alpha0.0075.nii.gz"
       ]
      },
      {
       "output_type": "stream",
       "stream": "stdout",
       "text": [
        "\n",
        "Predicting signal from SparseDeconvolutionModel with ElasticNet(alpha=0.0075, copy_X=True, fit_intercept=False, l1_ratio=0.2,\n",
        "      max_iter=1000, normalize=False, positive=True, precompute=auto,\n",
        "      rho=None, tol=0.0001, warm_start=False)"
       ]
      },
      {
       "output_type": "stream",
       "stream": "stdout",
       "text": [
        "\n",
        "Loading params from file: /biac4/wandell/biac2/wandell6/data/arokem/osmosis/FP/0011_01_DWI_2mm150dir_2x_b1000_aligned_trilin_SSD_l1ratio0.2_alpha0.0075.nii.gz"
       ]
      },
      {
       "output_type": "stream",
       "stream": "stdout",
       "text": [
        "\n",
        "Predicting signal from SparseDeconvolutionModel with ElasticNet(alpha=0.0075, copy_X=True, fit_intercept=False, l1_ratio=0.2,\n",
        "      max_iter=1000, normalize=False, positive=True, precompute=auto,\n",
        "      rho=None, tol=0.0001, warm_start=False)"
       ]
      },
      {
       "output_type": "stream",
       "stream": "stdout",
       "text": [
        "\n",
        "Predicting signal from SparseDeconvolutionModel with ElasticNet(alpha=0.0075, copy_X=True, fit_intercept=False, l1_ratio=0.2,\n",
        "      max_iter=1000, normalize=False, positive=True, precompute=auto,\n",
        "      rho=None, tol=0.0001, warm_start=False)"
       ]
      },
      {
       "output_type": "stream",
       "stream": "stdout",
       "text": [
        "\n",
        "Fitting TensorModel params using dipy"
       ]
      },
      {
       "output_type": "stream",
       "stream": "stdout",
       "text": [
        "\n",
        "Fitting TensorModel params using dipy"
       ]
      },
      {
       "output_type": "stream",
       "stream": "stdout",
       "text": [
        "\n",
        "Predicting signal from SparseDeconvolutionModel with ElasticNet(alpha=0.01, copy_X=True, fit_intercept=False, l1_ratio=0.2,\n",
        "      max_iter=1000, normalize=False, positive=True, precompute=auto,\n",
        "      rho=None, tol=0.0001, warm_start=False)"
       ]
      },
      {
       "output_type": "stream",
       "stream": "stdout",
       "text": [
        "\n",
        "Loading params from file: /biac4/wandell/biac2/wandell6/data/arokem/osmosis/FP/0009_01_DWI_2mm150dir_2x_b1000_aligned_trilin_SSD_l1ratio0.2_alpha0.01.nii.gz"
       ]
      },
      {
       "output_type": "stream",
       "stream": "stdout",
       "text": [
        "\n",
        "Predicting signal from SparseDeconvolutionModel with ElasticNet(alpha=0.01, copy_X=True, fit_intercept=False, l1_ratio=0.2,\n",
        "      max_iter=1000, normalize=False, positive=True, precompute=auto,\n",
        "      rho=None, tol=0.0001, warm_start=False)"
       ]
      },
      {
       "output_type": "stream",
       "stream": "stdout",
       "text": [
        "\n",
        "Loading params from file: /biac4/wandell/biac2/wandell6/data/arokem/osmosis/FP/0011_01_DWI_2mm150dir_2x_b1000_aligned_trilin_SSD_l1ratio0.2_alpha0.01.nii.gz"
       ]
      },
      {
       "output_type": "stream",
       "stream": "stdout",
       "text": [
        "\n",
        "Predicting signal from SparseDeconvolutionModel with ElasticNet(alpha=0.01, copy_X=True, fit_intercept=False, l1_ratio=0.2,\n",
        "      max_iter=1000, normalize=False, positive=True, precompute=auto,\n",
        "      rho=None, tol=0.0001, warm_start=False)"
       ]
      },
      {
       "output_type": "stream",
       "stream": "stdout",
       "text": [
        "\n",
        "Predicting signal from SparseDeconvolutionModel with ElasticNet(alpha=0.01, copy_X=True, fit_intercept=False, l1_ratio=0.2,\n",
        "      max_iter=1000, normalize=False, positive=True, precompute=auto,\n",
        "      rho=None, tol=0.0001, warm_start=False)"
       ]
      },
      {
       "output_type": "stream",
       "stream": "stdout",
       "text": [
        "\n",
        "Fitting TensorModel params using dipy"
       ]
      },
      {
       "output_type": "stream",
       "stream": "stdout",
       "text": [
        "\n",
        "Fitting TensorModel params using dipy"
       ]
      },
      {
       "output_type": "stream",
       "stream": "stdout",
       "text": [
        "\n",
        "Predicting signal from SparseDeconvolutionModel with ElasticNet(alpha=0.025, copy_X=True, fit_intercept=False, l1_ratio=0.2,\n",
        "      max_iter=1000, normalize=False, positive=True, precompute=auto,\n",
        "      rho=None, tol=0.0001, warm_start=False)"
       ]
      },
      {
       "output_type": "stream",
       "stream": "stdout",
       "text": [
        "\n",
        "Loading params from file: /biac4/wandell/biac2/wandell6/data/arokem/osmosis/FP/0009_01_DWI_2mm150dir_2x_b1000_aligned_trilin_SSD_l1ratio0.2_alpha0.025.nii.gz"
       ]
      },
      {
       "output_type": "stream",
       "stream": "stdout",
       "text": [
        "\n",
        "Predicting signal from SparseDeconvolutionModel with ElasticNet(alpha=0.025, copy_X=True, fit_intercept=False, l1_ratio=0.2,\n",
        "      max_iter=1000, normalize=False, positive=True, precompute=auto,\n",
        "      rho=None, tol=0.0001, warm_start=False)"
       ]
      },
      {
       "output_type": "stream",
       "stream": "stdout",
       "text": [
        "\n",
        "Loading params from file: /biac4/wandell/biac2/wandell6/data/arokem/osmosis/FP/0011_01_DWI_2mm150dir_2x_b1000_aligned_trilin_SSD_l1ratio0.2_alpha0.025.nii.gz"
       ]
      },
      {
       "output_type": "stream",
       "stream": "stdout",
       "text": [
        "\n",
        "Predicting signal from SparseDeconvolutionModel with ElasticNet(alpha=0.025, copy_X=True, fit_intercept=False, l1_ratio=0.2,\n",
        "      max_iter=1000, normalize=False, positive=True, precompute=auto,\n",
        "      rho=None, tol=0.0001, warm_start=False)"
       ]
      },
      {
       "output_type": "stream",
       "stream": "stdout",
       "text": [
        "\n",
        "Predicting signal from SparseDeconvolutionModel with ElasticNet(alpha=0.025, copy_X=True, fit_intercept=False, l1_ratio=0.2,\n",
        "      max_iter=1000, normalize=False, positive=True, precompute=auto,\n",
        "      rho=None, tol=0.0001, warm_start=False)"
       ]
      },
      {
       "output_type": "stream",
       "stream": "stdout",
       "text": [
        "\n",
        "Fitting TensorModel params using dipy"
       ]
      },
      {
       "output_type": "stream",
       "stream": "stdout",
       "text": [
        "\n",
        "Fitting TensorModel params using dipy"
       ]
      }
     ],
     "prompt_number": "*"
    },
    {
     "cell_type": "code",
     "collapsed": false,
     "input": [
      "for b in [1000, 2000, 4000]:\n",
      "    fig, ax = plt.subplots(1)\n",
      "    #cax = ax.imshow(rmse_matrix[b], interpolation='nearest', cmap=cm.RdYlGn_r, vmax=1.5, vmin=0.5)\n",
      "    #cbar = fig.colorbar(cax, ticks=[0.5, 1., 1.5])\n",
      "    #cax.axes.set_xticks([0,1,2,3,4,5,6,7,8])\n",
      "    #cax.axes.set_xticklabels([str('%1.4f'%this) for this in alphas])\n",
      "    #cax.axes.set_xlabel(r'$\\lambda$')\n",
      "    #cax.axes.set_yticks([0,1,2,3,4,5])\n",
      "    #cax.axes.set_yticklabels([str('%1.1f'%(1-this)) for this in rhos])\n",
      "\n",
      "    cax.axes.set_ylabel(r'$\\alpha$')\n",
      "    im = ax.matshow(rmse_matrix[b], cmap=matplotlib.cm.RdYlGn_r)\n",
      "    fig.set_size_inches([8,6])\n",
      "    fig.savefig('/home/arokem/Dropbox/osmosis_paper_figures/Figure5_acc_b%s.svg'%b)\n",
      "    plt.colorbar(im)\n",
      "rmse_matrix[1000]"
     ],
     "language": "python",
     "metadata": {},
     "outputs": [],
     "prompt_number": "*"
    },
    {
     "cell_type": "code",
     "collapsed": false,
     "input": [
      "#plot(rmse_matrix[1000][:,0])\n",
      "#plot(rmse_matrix[1000][:,1])\n",
      "#plot(rmse_matrix[1000][:,2])\n",
      "#plot(rmse_matrix[1000][:,-1])\n",
      "\n",
      "#print rmse_matrix[1000][4,0],rmse_matrix[1000][1,0]\n",
      "#print rmse_matrix[2000][4,0],rmse_matrix[2000][1,0]\n",
      "#print rmse_matrix[4000][4,0],rmse_matrix[4000][1,0]\n",
      "\n",
      "#print rmse_matrix[1000][4,1],rmse_matrix[1000][1,1]\n",
      "#print rmse_matrix[2000][4,1],rmse_matrix[2000][1,1]\n",
      "#print rmse_matrix[4000][4,1],rmse_matrix[4000][1,1]\n",
      "\n",
      "print rmse_matrix[1000][0,7],rmse_matrix[1000][2,1]\n",
      "print rmse_matrix[2000][0,7],rmse_matrix[2000][2,1]\n",
      "print rmse_matrix[4000][0,7],rmse_matrix[4000][2,1]\n",
      "\n",
      "\n",
      "print rmse_matrix[1000][5,0],rmse_matrix[1000][2,1]\n",
      "print rmse_matrix[2000][5,0],rmse_matrix[2000][2,1]\n",
      "print rmse_matrix[4000][5,0],rmse_matrix[4000][2,1]\n",
      "\n",
      "\n",
      "print np.where(rmse_matrix[1000]==np.min(rmse_matrix[1000]))\n",
      "#print np.where(rmse_matrix[2000]==np.min(rmse_matrix[2000]))\n",
      "#print np.where(rmse_matrix[4000]==np.min(rmse_matrix[4000]))\n",
      "\n",
      "#print np.min(rmse_matrix[1000])\n",
      "#print np.min(rmse_matrix[2000])\n",
      "#print np.min(rmse_matrix[4000])"
     ],
     "language": "python",
     "metadata": {},
     "outputs": [],
     "prompt_number": "*"
    },
    {
     "cell_type": "code",
     "collapsed": false,
     "input": [
      "for b in [1000, 2000, 4000]:\n",
      "    fig, ax = plt.subplots(1)\n",
      "    cax = ax.imshow(rel_matrix[b], interpolation='nearest', cmap=cm.OrRd, vmax=90, vmin=0)\n",
      "    cbar = fig.colorbar(cax)\n",
      "    cax.axes.set_xticks([0,1,2,3,4,5,6,7,8])\n",
      "    cax.axes.set_xticklabels([str('%1.4f'%this) for this in alphas])\n",
      "    cax.axes.set_xlabel(r'$\\lambda$')\n",
      "    cax.axes.set_yticks([0,1,2,3,4,5])\n",
      "    cax.axes.set_yticklabels([str('%1.1f'%(1-this)) for this in rhos])\n",
      "\n",
      "    cax.axes.set_ylabel(r'$\\alpha$')\n",
      "    #ax.matshow(rmse_matrix[b], cmap=matplotlib.cm.hot)\n",
      "    fig.set_size_inches([8,6])\n",
      "    fig.savefig('/home/arokem/Dropbox/osmosis_paper_figures/Figure5_rel_b%s.svg'%b)"
     ],
     "language": "python",
     "metadata": {},
     "outputs": [],
     "prompt_number": "*"
    },
    {
     "cell_type": "code",
     "collapsed": false,
     "input": [
      "print rel_matrix[1000][4,0],rel_matrix[1000][1,2]\n",
      "print rel_matrix[2000][4,0],rel_matrix[2000][1,2]\n",
      "print rel_matrix[4000][4,0],rel_matrix[4000][1,2]"
     ],
     "language": "python",
     "metadata": {},
     "outputs": [],
     "prompt_number": "*"
    },
    {
     "cell_type": "code",
     "collapsed": false,
     "input": [],
     "language": "python",
     "metadata": {},
     "outputs": [],
     "prompt_number": 11
    }
   ],
   "metadata": {}
  }
 ]
}