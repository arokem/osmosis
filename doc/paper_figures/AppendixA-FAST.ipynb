{
 "metadata": {
  "name": ""
 },
 "nbformat": 3,
 "nbformat_minor": 0,
 "worksheets": [
  {
   "cells": [
    {
     "cell_type": "markdown",
     "metadata": {},
     "source": [
      "# Appendix A: A fast version\n",
      "\n",
      "This takes a (very long) while to run unless the tools in osmosis.parallel are used to parallelize the computation of all the model params and the rRMSE values.\n",
      "\n",
      "For completeness, the notebook AppendixA will do that for you, but god only knows how long that might take. This here, on the other hand, works FAST!\n",
      "\n",
      "We import the needed modules: "
     ]
    },
    {
     "cell_type": "code",
     "collapsed": false,
     "input": [
      "import nibabel as ni\n",
      "import os\n",
      "import osmosis.model.analysis as oza\n",
      "import osmosis.model.sparse_deconvolution as ssd\n",
      "import osmosis.model.dti as dti\n",
      "import osmosis.viz.mpl as mpl"
     ],
     "language": "python",
     "metadata": {},
     "outputs": [],
     "prompt_number": 6
    },
    {
     "cell_type": "markdown",
     "metadata": {},
     "source": [
      "The following points the data-path variable to where the data is stored, relative to the install location"
     ]
    },
    {
     "cell_type": "code",
     "collapsed": false,
     "input": [
      "import os\n",
      "import osmosis as oz\n",
      "import osmosis.io as oio\n",
      "oio.data_path = os.path.join(oz.__path__[0], 'data')"
     ],
     "language": "python",
     "metadata": {},
     "outputs": [],
     "prompt_number": 7
    },
    {
     "cell_type": "markdown",
     "metadata": {},
     "source": [
      "Set ht subject to be analyzed:"
     ]
    },
    {
     "cell_type": "code",
     "collapsed": false,
     "input": [
      "subject = 'SUB1'"
     ],
     "language": "python",
     "metadata": {},
     "outputs": [],
     "prompt_number": 8
    },
    {
     "cell_type": "markdown",
     "metadata": {},
     "source": [
      "We sweep through particular regularization parameter combinations in each b value: "
     ]
    },
    {
     "cell_type": "code",
     "collapsed": false,
     "input": [
      "alphas = [0.0001,0.0005, 0.001, 0.0025, 0.005, 0.0075, 0.01, 0.025, 0.05]\n",
      "l1_ratios = [0.0, 0.2, 0.4, 0.6, 0.8, 1.0]"
     ],
     "language": "python",
     "metadata": {},
     "outputs": [],
     "prompt_number": 9
    },
    {
     "cell_type": "markdown",
     "metadata": {},
     "source": [
      "In the following loop, we collect the median value of the rRMSE from pre-computed rRMSE files for each combination of regularization parameters: "
     ]
    },
    {
     "cell_type": "code",
     "collapsed": false,
     "input": [
      "rmse_matrix = {}\n",
      "rel_matrix = {}\n",
      "for b in [1000, 2000, 4000]: # \n",
      "    ad_rd = oio.get_ad_rd(subject, b)\n",
      "    rmse_matrix[b] = np.zeros((len(l1_ratios), len(alphas)))\n",
      "    rel_matrix[b] = np.zeros((len(l1_ratios), len(alphas)))\n",
      "    for l1_idx, l1_ratio in enumerate(l1_ratios):\n",
      "        for alpha_idx, this_alpha in enumerate(alphas):\n",
      "            \n",
      "            rrmse_fname = \"%s/%s/RMSE_b%s_l1ratio%s_alpha%s.nii.gz\"%(oio.data_path,\n",
      "                                                             subject,\n",
      "                                                             b,\n",
      "                                                             l1_ratio,\n",
      "                                                             this_alpha)\n",
      "            \n",
      "            rrmse_fname = \"%s/%s/PDD_angle_b%s_l1ratio%s_alpha%s.nii.gz\"%(oio.data_path,\n",
      "                                                             subject,\n",
      "                                                             b,\n",
      "                                                             l1_ratio,\n",
      "                                                             this_alpha)\n",
      "            \n",
      "            rrmse = ni.load(oio.data_path + '/%s/'%subject + 'RMSE_b%s_l1ratio%s_alpha%s.nii.gz'%(b, l1_ratio, this_alpha)).get_data() \n",
      "            median_rmse = np.median(rrmse[np.isfinite(rrmse)])\n",
      "            rmse_matrix[b][l1_idx, alpha_idx] = median_rmse\n",
      "            rel = ni.load(oio.data_path + '/%s/'%subject + 'PDD_angle_b%s_l1ratio%s_alpha%s.nii.gz'%(b, l1_ratio, this_alpha)).get_data() \n",
      "            median_rel = np.median(rel[np.isfinite(rel)])\n",
      "            rel_matrix[b][l1_idx, alpha_idx] = median_rel\n",
      "            \n"
     ],
     "language": "python",
     "metadata": {},
     "outputs": [],
     "prompt_number": 10
    },
    {
     "cell_type": "markdown",
     "metadata": {},
     "source": [
      "The results are visualized: "
     ]
    },
    {
     "cell_type": "code",
     "collapsed": false,
     "input": [
      "vmax = 1.5\n",
      "vmin = 0.5\n",
      "for b in [1000, 2000, 4000]:\n",
      "    fig, ax = plt.subplots(1)\n",
      "    cax = ax.imshow(rmse_matrix[b], interpolation='nearest', cmap=cm.RdYlGn_r, vmax=vmax, vmin=vmin)\n",
      "    cbar = fig.colorbar(cax, ticks=[0.5, 1., 1.5])\n",
      "    cax.axes.set_xticks([0,1,2,3,4,5,6,7,8])\n",
      "    cax.axes.set_xticklabels([str('%1.4f'%this) for this in alphas])\n",
      "    cax.axes.set_xlabel(r'$\\lambda$')\n",
      "    cax.axes.set_yticks([0,1,2,3,4,5])\n",
      "    cax.axes.set_yticklabels([str('%1.1f'%(1-this)) for this in l1_ratios])\n",
      "\n",
      "    cax.axes.set_ylabel(r'$\\alpha$')\n",
      "    im = ax.matshow(rmse_matrix[b], cmap=matplotlib.cm.RdYlGn_r, vmax=vmax, vmin=vmin)\n",
      "    fig.set_size_inches([8,6])\n",
      "    fig.savefig('figures/AppendixA_acc_b%s.svg'%b)\n"
     ],
     "language": "python",
     "metadata": {},
     "outputs": [
      {
       "metadata": {},
       "output_type": "display_data",
       "png": "[encoded data removed]",
       "text": [
        "<matplotlib.figure.Figure at 0x4107d90>"
       ]
      },
      {
       "metadata": {},
       "output_type": "display_data",
       "png": "[encoded data removed]",
       "text": [
        "<matplotlib.figure.Figure at 0x4127090>"
       ]
      },
      {
       "metadata": {},
       "output_type": "display_data",
       "png": "[encoded data removed]",
       "text": [
        "<matplotlib.figure.Figure at 0x410bb10>"
       ]
      }
     ],
     "prompt_number": 11
    },
    {
     "cell_type": "markdown",
     "metadata": {},
     "source": [
      "We also visualize the reliability of the PDD predicted from the SFM model parameters in each combination of regularization parameters:"
     ]
    },
    {
     "cell_type": "code",
     "collapsed": false,
     "input": [
      "for b in [1000, 2000, 4000]:\n",
      "    fig, ax = plt.subplots(1)\n",
      "    cax = ax.imshow(rel_matrix[b], interpolation='nearest', cmap=cm.OrRd, vmax=90, vmin=0)\n",
      "    cbar = fig.colorbar(cax)\n",
      "    cax.axes.set_xticks([0,1,2,3,4,5,6,7,8])\n",
      "    cax.axes.set_xticklabels([str('%1.4f'%this) for this in alphas])\n",
      "    cax.axes.set_xlabel(r'$\\lambda$')\n",
      "    cax.axes.set_yticks([0,1,2,3,4,5])\n",
      "    cax.axes.set_yticklabels([str('%1.1f'%(1-this)) for this in l1_ratios])\n",
      "\n",
      "    cax.axes.set_ylabel(r'$\\alpha$')\n",
      "    #ax.matshow(rmse_matrix[b], cmap=matplotlib.cm.hot)\n",
      "    fig.set_size_inches([8,6])\n",
      "    fig.savefig('figures/AppendixA_rel_b%s.svg'%b)"
     ],
     "language": "python",
     "metadata": {},
     "outputs": []
    }
   ],
   "metadata": {}
  }
 ]
}