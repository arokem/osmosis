{
 "metadata": {
  "name": "Figure4"
 },
 "nbformat": 3,
 "nbformat_minor": 0,
 "worksheets": [
  {
   "cells": [
    {
     "cell_type": "code",
     "collapsed": false,
     "input": [
      "import nibabel as ni\n",
      "\n",
      "import osmosis as oz\n",
      "import osmosis.model.analysis as oza\n",
      "import osmosis.model.sparse_deconvolution as ssd\n",
      "import osmosis.model.dti as dti\n",
      "\n",
      "import osmosis.viz.mpl as mpl\n",
      "\n",
      "import osmosis.io as oio\n",
      "\n",
      "oio.data_path = '/biac4/wandell/biac2/wandell6/data/arokem/osmosis'"
     ],
     "language": "python",
     "metadata": {},
     "outputs": [
      {
       "output_type": "stream",
       "stream": "stderr",
       "text": [
        "/usr/lib/python2.7/dist-packages/nose/util.py:14: DeprecationWarning: The compiler package is deprecated and removed in Python 3.x.\n",
        "  from compiler.consts import CO_GENERATOR\n"
       ]
      }
     ],
     "prompt_number": 1
    },
    {
     "cell_type": "code",
     "collapsed": false,
     "input": [
      "subject = 'FP'\n",
      "data_1k_1, data_1k_2 = oio.get_dwi_data(1000, subject)\n",
      "data_2k_1, data_2k_2 = oio.get_dwi_data(2000, subject)\n",
      "data_4k_1, data_4k_2 = oio.get_dwi_data(4000, subject)"
     ],
     "language": "python",
     "metadata": {},
     "outputs": [],
     "prompt_number": 2
    },
    {
     "cell_type": "code",
     "collapsed": false,
     "input": [
      "wm_mask = np.zeros(ni.load(data_1k_1[0]).shape[:3])\n",
      "wm_nifti = ni.load(oio.data_path + '/%s/%s_wm_mask.nii.gz'%(subject, subject)).get_data()\n",
      "wm_mask[np.where(wm_nifti==1)] = 1"
     ],
     "language": "python",
     "metadata": {},
     "outputs": [],
     "prompt_number": 3
    },
    {
     "cell_type": "code",
     "collapsed": false,
     "input": [
      "# This is the best according to rRMSE across bvals: \n",
      "l1_ratio = 0.8\n",
      "alpha = 0.0005 \n",
      "solver_params = dict(l1_ratio=l1_ratio, alpha=alpha, fit_intercept=False, positive=True)"
     ],
     "language": "python",
     "metadata": {},
     "outputs": [],
     "prompt_number": 4
    },
    {
     "cell_type": "code",
     "collapsed": false,
     "input": [
      "#ad_rd = oio.get_ad_rd(subject, 1000)\n",
      "#SD_1k_1 = ssd.SparseDeconvolutionModel(*data_1k_1, mask=wm_mask,  params_file = data_1k_1[0].split('.')[0] + params_string, axial_diffusivity=ad_rd[0]['AD'], radial_diffusivity=ad_rd[0]['RD'], solver_params=solver_params)\n",
      "#SD_1k_2 = ssd.SparseDeconvolutionModel(*data_1k_2, mask=wm_mask,  params_file = data_1k_2[0].split('.')[0] + params_string, axial_diffusivity=ad_rd[1]['AD'], radial_diffusivity=ad_rd[1]['RD'], solver_params=solver_params)\n",
      "#ad_rd = oio.get_ad_rd(subject, 2000)\n",
      "#SD_2k_1 = ssd.SparseDeconvolutionModel(*data_2k_1, mask=wm_mask,  params_file = data_2k_1[0].split('.')[0] + params_string, axial_diffusivity=ad_rd[0]['AD'], radial_diffusivity=ad_rd[0]['RD'], solver_params=solver_params)\n",
      "#SD_2k_2 = ssd.SparseDeconvolutionModel(*data_2k_2, mask=wm_mask,  params_file = data_2k_2[0].split('.')[0] + params_string, axial_diffusivity=ad_rd[1]['AD'], radial_diffusivity=ad_rd[1]['RD'], solver_params=solver_params)\n",
      "#ad_rd = oio.get_ad_rd(subject, 4000)\n",
      "#SD_4k_1 = ssd.SparseDeconvolutionModel(*data_4k_1, mask=wm_mask,  params_file = data_4k_1[0].split('.')[0] + params_string, axial_diffusivity=ad_rd[0]['AD'], radial_diffusivity=ad_rd[0]['RD'], solver_params=solver_params)\n",
      "#SD_4k_2 = ssd.SparseDeconvolutionModel(*data_4k_2, mask=wm_mask,  params_file = data_4k_2[0].split('.')[0] + params_string, axial_diffusivity=ad_rd[1]['AD'], radial_diffusivity=ad_rd[1]['RD'], solver_params=solver_params)\n",
      "\n",
      "#TM_4k_1 = dti.TensorModel(*data_4k_1, mask=wm_mask)\n",
      "#TM_4k_2 = dti.TensorModel(*data_4k_2, mask=wm_mask)\n",
      "\n",
      "ad_rd = oio.get_ad_rd(subject, 1000)\n",
      "SD_1k_1 = ssd.SparseDeconvolutionModel(*data_1k_1, mask=wm_mask,  params_file ='temp', axial_diffusivity=ad_rd[0]['AD'], radial_diffusivity=ad_rd[0]['RD'], solver_params=solver_params)\n",
      "SD_1k_2 = ssd.SparseDeconvolutionModel(*data_1k_2, mask=wm_mask,  params_file ='temp', axial_diffusivity=ad_rd[1]['AD'], radial_diffusivity=ad_rd[1]['RD'], solver_params=solver_params)\n",
      "ad_rd = oio.get_ad_rd(subject, 2000)\n",
      "SD_2k_1 = ssd.SparseDeconvolutionModel(*data_2k_1, mask=wm_mask,  params_file ='temp', axial_diffusivity=ad_rd[0]['AD'], radial_diffusivity=ad_rd[0]['RD'], solver_params=solver_params)\n",
      "SD_2k_2 = ssd.SparseDeconvolutionModel(*data_2k_2, mask=wm_mask,  params_file ='temp', axial_diffusivity=ad_rd[1]['AD'], radial_diffusivity=ad_rd[1]['RD'], solver_params=solver_params)\n",
      "ad_rd = oio.get_ad_rd(subject, 4000)\n",
      "SD_4k_1 = ssd.SparseDeconvolutionModel(*data_4k_1, mask=wm_mask,  params_file ='temp', axial_diffusivity=ad_rd[0]['AD'], radial_diffusivity=ad_rd[0]['RD'], solver_params=solver_params)\n",
      "SD_4k_2 = ssd.SparseDeconvolutionModel(*data_4k_2, mask=wm_mask,  params_file ='temp', axial_diffusivity=ad_rd[1]['AD'], radial_diffusivity=ad_rd[1]['RD'], solver_params=solver_params)\n",
      "\n",
      "#TM_4k_1 = dti.TensorModel(*data_4k_1, mask=wm_mask)\n",
      "#TM_4k_2 = dti.TensorModel(*data_4k_2, mask=wm_mask)"
     ],
     "language": "python",
     "metadata": {},
     "outputs": [
      {
       "output_type": "stream",
       "stream": "stdout",
       "text": [
        "Loading from file: /biac4/wandell/biac2/wandell6/data/arokem/osmosis/FP/0009_01_DWI_2mm150dir_2x_b1000_aligned_trilin.bvals\n",
        "Loading from file: /biac4/wandell/biac2/wandell6/data/arokem/osmosis/FP/0009_01_DWI_2mm150dir_2x_b1000_aligned_trilin.bvecs\n",
        "Loading from file: /biac4/wandell/biac2/wandell6/data/arokem/osmosis/FP/0011_01_DWI_2mm150dir_2x_b1000_aligned_trilin.bvals\n",
        "Loading from file: /biac4/wandell/biac2/wandell6/data/arokem/osmosis/FP/0011_01_DWI_2mm150dir_2x_b1000_aligned_trilin.bvecs\n",
        "Loading from file: /biac4/wandell/biac2/wandell6/data/arokem/osmosis/FP/0005_01_DTI_2mm_150dir_2x_b2000_aligned_trilin.bvals\n",
        "Loading from file: /biac4/wandell/biac2/wandell6/data/arokem/osmosis/FP/0005_01_DTI_2mm_150dir_2x_b2000_aligned_trilin.bvecs\n",
        "Loading from file: /biac4/wandell/biac2/wandell6/data/arokem/osmosis/FP/0007_01_DTI_2mm_150dir_2x_b2000_aligned_trilin.bvals\n",
        "Loading from file: /biac4/wandell/biac2/wandell6/data/arokem/osmosis/FP/0007_01_DTI_2mm_150dir_2x_b2000_aligned_trilin.bvecs\n",
        "Loading from file: /biac4/wandell/biac2/wandell6/data/arokem/osmosis/FP/0005_01_DWI_2mm150dir_2x_b4000_aligned_trilin.bvals\n",
        "Loading from file: /biac4/wandell/biac2/wandell6/data/arokem/osmosis/FP/0005_01_DWI_2mm150dir_2x_b4000_aligned_trilin.bvecs\n",
        "Loading from file: /biac4/wandell/biac2/wandell6/data/arokem/osmosis/FP/0007_01_DWI_2mm150dir_2x_b4000_aligned_trilin.bvals\n",
        "Loading from file: /biac4/wandell/biac2/wandell6/data/arokem/osmosis/FP/0007_01_DWI_2mm150dir_2x_b4000_aligned_trilin.bvecs\n"
       ]
      }
     ],
     "prompt_number": 5
    },
    {
     "cell_type": "code",
     "collapsed": false,
     "input": [
      "rrmse_1k = oza.cross_predict(SD_1k_1, SD_1k_2)\n",
      "rrmse_2k = oza.cross_predict(SD_2k_1, SD_2k_2)\n",
      "rrmse_4k = oza.cross_predict(SD_4k_1, SD_4k_2)\n",
      "#rrmse_tensor_4k = oza.cross_predict(TM_4k_1, TM_4k_2)"
     ],
     "language": "python",
     "metadata": {},
     "outputs": [
      {
       "output_type": "stream",
       "stream": "stdout",
       "text": [
        " \r",
        "SparseDeconvolutionModel.model_params [****************100%******************]  64463 of 64464 complete "
       ]
      },
      {
       "output_type": "stream",
       "stream": "stdout",
       "text": [
        "\n"
       ]
      }
     ],
     "prompt_number": 6
    },
    {
     "cell_type": "code",
     "collapsed": false,
     "input": [
      "fig = mpl.probability_hist(rrmse_1k[np.isfinite(rrmse_1k)], label='b=%s'%str(1000))\n",
      "fig = mpl.probability_hist(rrmse_2k[np.isfinite(rrmse_2k)], fig=fig, label='b=%s'%str(2000))\n",
      "fig = mpl.probability_hist(rrmse_4k[np.isfinite(rrmse_4k)], fig=fig, label='b=%s'%str(4000))\n",
      "# Add one of the tensor curves from Figure 2 and put it in the background as reference:    \n",
      "# fig = mpl.probability_hist(rrmse_tensor_4k[np.isfinite(rrmse_4k)], fig=fig, color='gray', label='Tensor model at b=%s'%str(4000))\n",
      "#fig.set_size_inches([10, 8])\n",
      "fig.axes[0].plot([1,1], fig.axes[0].get_ylim(), '--k')\n",
      "fig.axes[0].plot([1/np.sqrt(2),1/np.sqrt(2)], fig.axes[0].get_ylim(), '--k')\n",
      "fig.axes[0].set_xlim([0.6,1.4])\n",
      "plt.legend()\n",
      "\n",
      "fig.savefig('/home/arokem/Dropbox/osmosis_paper_figures/Figure4_histogram.svg')"
     ],
     "language": "python",
     "metadata": {},
     "outputs": [
      {
       "output_type": "display_data",
       "png": "[encoded data removed]",
       "text": [
        "<matplotlib.figure.Figure at 0x50d2850>"
       ]
      }
     ],
     "prompt_number": 10
    },
    {
     "cell_type": "code",
     "collapsed": false,
     "input": [
      "for this in [rrmse_1k, rrmse_2k, rrmse_4k]:\n",
      "    isfin = this[np.isfinite(this)]\n",
      "    print \"The proportion of voxels with rRMSE<1.0 is %s\"%(100 * len(np.where(isfin<1)[0])/float(len(isfin)))\n",
      "        "
     ],
     "language": "python",
     "metadata": {},
     "outputs": [
      {
       "output_type": "stream",
       "stream": "stdout",
       "text": [
        "The proportion of voxels with rRMSE<1.0 is 98.1214321172\n",
        "The proportion of voxels with rRMSE<1.0 is 99.9100273021\n",
        "The proportion of voxels with rRMSE<1.0 is 99.8650409531\n"
       ]
      }
     ],
     "prompt_number": 8
    },
    {
     "cell_type": "code",
     "collapsed": false,
     "input": [],
     "language": "python",
     "metadata": {},
     "outputs": [],
     "prompt_number": 8
    }
   ],
   "metadata": {}
  }
 ]
}