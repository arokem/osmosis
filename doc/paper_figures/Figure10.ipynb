{
 "metadata": {
  "name": "Figure10"
 },
 "nbformat": 3,
 "nbformat_minor": 0,
 "worksheets": [
  {
   "cells": [
    {
     "cell_type": "code",
     "collapsed": false,
     "input": [
      "import tempfile\n",
      "from IPython.display import Image, display\n",
      "\n",
      "import scipy.stats as stats\n",
      "\n",
      "import dipy.core.geometry as geo\n",
      "import dipy.sims.phantom as dps\n",
      "import dipy.core.sphere as sphere\n",
      "\n",
      "import osmosis.model.dti as dti\n",
      "import osmosis.model.multi_canonical_tensor as mct\n",
      "import osmosis.model.analysis as oza\n",
      "\n",
      "import osmosis.utils as ozu\n",
      "import osmosis.viz.maya as viz\n",
      "import dipy.viz as dpv \n",
      "import osmosis.simulation as sim"
     ],
     "language": "python",
     "metadata": {},
     "outputs": [
      {
       "output_type": "stream",
       "stream": "stderr",
       "text": [
        "/home/arokem/usr/local/lib64/python2.7/site-packages/scikit_learn-0.12_git-py2.7-linux-x86_64.egg/scikits/__init__.py:1: UserWarning: Module dateutil was already imported from /home/arokem/usr/local/lib64/python2.7/site-packages/dateutil/__init__.pyc, but /usr/lib/python2.7/site-packages is being added to sys.path\n",
        "  __import__('pkg_resources').declare_namespace(__name__)\n"
       ]
      }
     ],
     "prompt_number": 1
    },
    {
     "cell_type": "code",
     "collapsed": false,
     "input": [
      "n_bvecs = 755\n",
      "bvecs = ozu.get_camino_pts(n_bvecs)\n",
      "bvals = np.ones(bvecs.shape[-1]) * 4000"
     ],
     "language": "python",
     "metadata": {},
     "outputs": [],
     "prompt_number": 2
    },
    {
     "cell_type": "code",
     "collapsed": false,
     "input": [
      "vec1 = bvecs[:,1]"
     ],
     "language": "python",
     "metadata": {},
     "outputs": [],
     "prompt_number": 3
    },
    {
     "cell_type": "code",
     "collapsed": false,
     "input": [
      "angles = np.linspace(10, 90, 8)\n",
      "weights = np.linspace(0.5,0.5, 1)\n",
      "sphere = np.linspace(250,250, 1)\n",
      "vol = np.empty((angles.shape[0], weights.shape[0], sphere.shape[0], n_bvecs + 10))"
     ],
     "language": "python",
     "metadata": {},
     "outputs": [],
     "prompt_number": 4
    },
    {
     "cell_type": "code",
     "collapsed": false,
     "input": [
      "for i, angle in enumerate(angles):\n",
      "    print angle\n",
      "    # Rotate around the null-space of the vector and its inverse: \n",
      "    R = geo.rodriguez_axis_rotation(ozu.null_space([vec1, -vec1, [0,0,0]])[:,0], angle)\n",
      "    # We should generate a signal that can be reproduced *exactly*, so we find a vector that is closest\n",
      "    # To the vector that has the angle that we want it to have. Start with a candidate:\n",
      "    vec2_candidate = np.array(np.dot(R.T, vec1)).squeeze()\n",
      "    # Maybe it's the same as vec1?\n",
      "    vec2 = vec1\n",
      "    min_angle = np.rad2deg(ozu.vector_angle(vec1, vec2_candidate))\n",
      "    for this_vec in bvecs.T:\n",
      "        this_angle = np.rad2deg(ozu.vector_angle(this_vec, vec2_candidate))\n",
      "        if this_angle<min_angle:\n",
      "            vec2 = this_vec\n",
      "            min_angle = this_angle\n",
      "    angles[i] = np.rad2deg(ozu.vector_angle(vec1, vec2))\n",
      "    print np.rad2deg(ozu.vector_angle(vec1, vec2))\n",
      "    odf_vecs = np.array([vec1, vec2])\n",
      "    for j, w in enumerate(weights):\n",
      "        for k, sph in enumerate(sphere):\n",
      "            odf = sim.ODF(odf_vecs, [w, 1-w])\n",
      "            v = sim.Voxel(bvecs, bvals, odf)\n",
      "            S0 = 0 + np.ones(10) * sph\n",
      "            vol[i,j,k] = np.concatenate((S0, v.signal(np.mean(S0)))) \n",
      "\n",
      "#vol1 = dps.add_noise(vol, snr=100, noise_type='rician')\n",
      "#vol2 = dps.add_noise(vol, snr=100, noise_type='rician')\n",
      "vol1 = np.reshape(vol, (2,2,2, vol.shape[-1]))\n",
      "vol2 = np.reshape(vol, (2,2,2, vol.shape[-1]))"
     ],
     "language": "python",
     "metadata": {},
     "outputs": [
      {
       "output_type": "stream",
       "stream": "stdout",
       "text": [
        "10.0\n",
        "6.80621492013"
       ]
      },
      {
       "output_type": "stream",
       "stream": "stdout",
       "text": [
        "\n",
        "21.4285714286\n",
        "21.6307412056"
       ]
      },
      {
       "output_type": "stream",
       "stream": "stdout",
       "text": [
        "\n",
        "32.8571428571\n",
        "31.4310050986"
       ]
      },
      {
       "output_type": "stream",
       "stream": "stdout",
       "text": [
        "\n",
        "44.2857142857\n",
        "45.3168922467"
       ]
      },
      {
       "output_type": "stream",
       "stream": "stdout",
       "text": [
        "\n",
        "55.7142857143\n",
        "57.7400485542"
       ]
      },
      {
       "output_type": "stream",
       "stream": "stdout",
       "text": [
        "\n",
        "67.1428571429\n",
        "68.556910466"
       ]
      },
      {
       "output_type": "stream",
       "stream": "stdout",
       "text": [
        "\n",
        "78.5714285714\n",
        "80.9800667734"
       ]
      },
      {
       "output_type": "stream",
       "stream": "stdout",
       "text": [
        "\n",
        "90.0\n",
        "94.8659539215"
       ]
      },
      {
       "output_type": "stream",
       "stream": "stdout",
       "text": [
        "\n"
       ]
      }
     ],
     "prompt_number": 5
    },
    {
     "cell_type": "code",
     "collapsed": false,
     "input": [
      "bvecs_data = np.concatenate((np.zeros((3,10)), bvecs), -1)\n",
      "bvals_data = np.concatenate((np.zeros(10), bvals))"
     ],
     "language": "python",
     "metadata": {},
     "outputs": [],
     "prompt_number": 6
    },
    {
     "cell_type": "code",
     "collapsed": false,
     "input": [
      "TM1 = dti.TensorModel(vol1,\n",
      "                     bvecs_data,\n",
      "                     bvals_data,\n",
      "                     params_file = tempfile.NamedTemporaryFile().name\n",
      "                     )\n",
      "\n",
      "TM2 = dti.TensorModel(vol2, \n",
      "                     bvecs_data,\n",
      "                     bvals_data,\n",
      "                     params_file = tempfile.NamedTemporaryFile().name\n",
      "                     )\n",
      "\n",
      "CTM1 = mct.MultiCanonicalTensorModel(vol1,\n",
      "                               bvecs_data,\n",
      "                               bvals_data,\n",
      "                               axial_diffusivity=1.5,\n",
      "                               radial_diffusivity=0.5,\n",
      "                               params_file = tempfile.NamedTemporaryFile().name,\n",
      "                               over_sample=n_bvecs\n",
      "                               )\n",
      "\n",
      "CTM2 = mct.MultiCanonicalTensorModel(vol2,\n",
      "                               bvecs_data,\n",
      "                               bvals_data,\n",
      "                               axial_diffusivity=1.5,\n",
      "                               radial_diffusivity=0.5,\n",
      "                               params_file = tempfile.NamedTemporaryFile().name,\n",
      "                               over_sample=n_bvecs\n",
      "                               )"
     ],
     "language": "python",
     "metadata": {},
     "outputs": [],
     "prompt_number": "*"
    },
    {
     "cell_type": "code",
     "collapsed": false,
     "input": [
      "fac = 3.\n",
      "mat_compare_ave = np.zeros((np.ceil(90/fac + 1), np.ceil(90/fac + 1)))\n",
      "fig_all_curves, ax_all_curves = plt.subplots(1)\n",
      "fig_all_curves.set_size_inches([10,8])\n",
      "all_rmse = []\n",
      "vox_indices = np.array(np.where(np.ones((2,2,2)))).T\n",
      "\n",
      "# Get the OLS weights: \n",
      "b_w = CTM1.ols[:,:-1,:].copy().squeeze()\n",
      "b_w = np.reshape(b_w, (b_w.shape[0], 2, 2, 2, 2))\n",
      "pred_signal_all = np.zeros((len(angles), np.ceil(90/fac), CTM1.predict_all[0,0,0][0].shape[0]))\n",
      "\n",
      "for ang_idx in range(len(angles)):\n",
      "    R = geo.rodriguez_axis_rotation(ozu.null_space([vec1, -vec1, [0,0,0]])[:,0], angles[ang_idx])\n",
      "    vec2 = np.array(np.dot(R.T, vec1)).squeeze()\n",
      "    \n",
      "    print \"real angle: %s\"%angles[ang_idx]\n",
      "    vox_idx1 = tuple(vox_indices[ang_idx])\n",
      "\n",
      "    rmse = np.ones(np.ceil(90/fac)) * np.inf\n",
      "    pred_signal = np.zeros((np.ceil(90/fac), CTM1.predict_all[vox_idx1][0].shape[0]))\n",
      "\n",
      "    mat_rmse = np.ones((CTM1.rot_vecs.shape[-1], CTM1.rot_vecs.shape[-1])) * np.inf\n",
      "    mat_ang = np.ones((CTM1.rot_vecs.shape[-1], CTM1.rot_vecs.shape[-1])) * np.inf\n",
      "    mat_compare = np.zeros((np.ceil(90/fac + 1), np.ceil(90/fac + 1))) \n",
      "    counts = np.zeros(mat_compare.shape)\n",
      "    \n",
      "    for j in range(CTM1.predict_all.shape[-2]):\n",
      "        # viz.sig_on_projection(bvecs, CTM.predict_all[i][j])\n",
      "        ang = np.rad2deg(ozu.vector_angle(CTM1.rot_vecs.T[CTM1.rot_idx[j][0]], \n",
      "                                          CTM1.rot_vecs.T[CTM1.rot_idx[j][1]]))\n",
      "    \n",
      "        ang1_1 = np.rad2deg(ozu.vector_angle(vec1, CTM1.rot_vecs.T[CTM1.rot_idx[j][0]]))\n",
      "        ang1_2 = np.rad2deg(ozu.vector_angle(vec1, CTM1.rot_vecs.T[CTM1.rot_idx[j][0]]))\n",
      "        ang1 = np.min([ang1_1, 180-ang1_1, ang1_2, 180-ang1_2])\n",
      "        ang2_1 = np.rad2deg(ozu.vector_angle(vec1, CTM1.rot_vecs.T[CTM1.rot_idx[j][1]]))                 \n",
      "        ang2_2 = np.rad2deg(ozu.vector_angle(vec2, CTM1.rot_vecs.T[CTM1.rot_idx[j][1]]))                 \n",
      "        ang2 = np.min([ang2_1, 180-ang2_1, ang2_2, 180-ang2_2])\n",
      "        ang = np.min([ang, 180-ang])\n",
      "        \n",
      "        # Check against the other model (with another noise, or no noise...):\n",
      "        this_rmse = ozu.rmse(CTM1.predict_all[vox_idx1][j], CTM2.signal[vox_idx1])\n",
      "        \n",
      "        # Penalize for differences in the weights:\n",
      "        w1 = b_w[j, 0, vox_idx1[0], vox_idx1[1], vox_idx1[2]]\n",
      "        w2 = b_w[j, 1, vox_idx1[0], vox_idx1[1], vox_idx1[2]]\n",
      "        ws = np.sort([w1,w2])\n",
      "\n",
      "        if w1<0 or w2<0: \n",
      "            this_rmse = np.inf\n",
      "        else:\n",
      "            this_rmse = this_rmse * (ws[1]/ws[0])\n",
      "        \n",
      "        mat_rmse[CTM1.rot_idx[j][0], CTM1.rot_idx[j][1]] = this_rmse\n",
      "        mat_ang[CTM1.rot_idx[j][0], CTM1.rot_idx[j][1]] = ang\n",
      "        \n",
      "        if np.isfinite(this_rmse):\n",
      "            mat_compare[np.ceil(ang1/fac), np.ceil(ang2/fac)] += this_rmse\n",
      "            counts[np.ceil(ang1/fac), np.ceil(ang2/fac)] += 1.0\n",
      "            if this_rmse<rmse[np.floor(ang/fac)]:\n",
      "                pred_signal[np.floor(ang/fac)] = CTM1.predict_all[vox_idx1][j]\n",
      "                rmse[np.floor(ang/fac)] = this_rmse\n",
      "                pred_signal_all[ang_idx, np.floor(ang/fac)] = CTM1.predict_all[vox_idx1][j]\n",
      "\n",
      "    fig,ax = plt.subplots(1)\n",
      "    ax.plot(rmse)\n",
      "    ax.set_xlabel('Angle')\n",
      "    t = ax.get_xticks()\n",
      "    ax.set_xticklabels([str(x*fac) for x in t])\n",
      "    \n",
      "    all_rmse.append(rmse)\n",
      "    ax_all_curves.plot(rmse, label='%2.2f'%angles[ang_idx])\n",
      "    ax_all_curves.set_xlabel('Angle')\n",
      "    ax_all_curves.set_ylabel(r'$RMSE$')\n",
      "    t = ax_all_curves.get_xticks()\n",
      "    ax_all_curves.set_xticklabels([str(x*fac) for x in t])\n",
      "    ax_all_curves.legend(loc='upper right')\n",
      "    "
     ],
     "language": "python",
     "metadata": {},
     "outputs": [
      {
       "output_type": "stream",
       "stream": "stdout",
       "text": [
        " \r",
        "MultiCanonicalTensorModel.predict_all [*****************75%*********         ]  6 of 8 complete "
       ]
      }
     ],
     "prompt_number": "*"
    },
    {
     "cell_type": "code",
     "collapsed": false,
     "input": [
      "fig,ax = plt.subplots(1) \n",
      "im = ax.matshow(np.array(all_rmse)[:-1,2:],cmap=matplotlib.cm.hot)\n",
      "ax.set_yticks(np.arange(7))\n",
      "ax.set_yticklabels([str(x) for x in np.floor(angles)])\n",
      "t = ax.get_xticks()\n",
      "ax.set_xticklabels([str(x*fac+2*fac) for x in t])\n",
      "ax.set_xlabel('Model crossing angle')\n",
      "ax.set_ylabel('Actual crossing angle')\n",
      "cb = fig.colorbar(im)\n",
      "cb.set_label('RMSE')\n",
      "fig.set_size_inches([14,3])"
     ],
     "language": "python",
     "metadata": {},
     "outputs": [],
     "prompt_number": "*"
    },
    {
     "cell_type": "code",
     "collapsed": false,
     "input": [
      "reload(viz)\n",
      "ang_idx = 4\n",
      "print angles[ang_idx]\n",
      "for xx in range(len(angles)):\n",
      "    fn = '%s.png'%tempfile.NamedTemporaryFile().name\n",
      "    fig = viz.plot_signal(CTM1.bvecs[:,CTM1.b_idx], CTM1.signal[tuple(vox_indices[ang_idx])], cmap='hot')\n",
      "    fig = viz.plot_signal(CTM1.bvecs[:,CTM1.b_idx], pred_signal_all[ang_idx][xx], offset = 80, figure=fig, file_name=fn, colorbar=True, cmap='hot')\n",
      "\n",
      "    i = Image(filename=fn, width=1280, height=1024)\n",
      "    display(i)\n",
      "    maya.view(elevation=0, azimuth=45)\n",
      "    maya.close(fig)"
     ],
     "language": "python",
     "metadata": {},
     "outputs": [],
     "prompt_number": "*"
    },
    {
     "cell_type": "code",
     "collapsed": false,
     "input": [],
     "language": "python",
     "metadata": {},
     "outputs": []
    }
   ],
   "metadata": {}
  }
 ]
}