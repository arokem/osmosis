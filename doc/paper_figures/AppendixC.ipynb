{
 "metadata": {
  "name": ""
 },
 "nbformat": 3,
 "nbformat_minor": 0,
 "worksheets": [
  {
   "cells": [
    {
     "cell_type": "code",
     "collapsed": false,
     "input": [
      "import nibabel as ni\n",
      "\n",
      "import osmosis.model.analysis as oza\n",
      "import osmosis.model.sparse_deconvolution as ssd\n",
      "import osmosis.model.dti as dti\n",
      "import osmosis.viz.mpl as mpl"
     ],
     "language": "python",
     "metadata": {},
     "outputs": [],
     "prompt_number": 1
    },
    {
     "cell_type": "code",
     "collapsed": false,
     "input": [
      "import os\n",
      "import osmosis as oz\n",
      "import osmosis.io as oio\n",
      "oio.data_path = os.path.join(oz.__path__[0], 'data')"
     ],
     "language": "python",
     "metadata": {},
     "outputs": [],
     "prompt_number": 2
    },
    {
     "cell_type": "code",
     "collapsed": false,
     "input": [
      "subject = 'SUB1'\n",
      "data_1k_1, data_1k_2 = oio.get_dwi_data(1000, subject)\n",
      "data_2k_1, data_2k_2 = oio.get_dwi_data(2000, subject)\n",
      "data_4k_1, data_4k_2 = oio.get_dwi_data(4000, subject)"
     ],
     "language": "python",
     "metadata": {},
     "outputs": [],
     "prompt_number": 3
    },
    {
     "cell_type": "code",
     "collapsed": false,
     "input": [
      "wm_mask = np.zeros(ni.load(data_1k_1[0]).shape[:3])\n",
      "wm_nifti = ni.load(oio.data_path + '/%s/%s_wm_mask.nii.gz'%(subject, subject)).get_data()\n",
      "wm_mask[np.where(wm_nifti==1)] = 1\n"
     ],
     "language": "python",
     "metadata": {},
     "outputs": [],
     "prompt_number": 4
    },
    {
     "cell_type": "code",
     "collapsed": false,
     "input": [
      "l1_ratio = 0.8\n",
      "alpha = 0.0005 \n",
      "solver_params = dict(l1_ratio=l1_ratio, alpha=alpha, fit_intercept=False, positive=True)"
     ],
     "language": "python",
     "metadata": {},
     "outputs": [],
     "prompt_number": 5
    },
    {
     "cell_type": "code",
     "collapsed": false,
     "input": [
      "ad_rd = oio.get_ad_rd(subject, 1000)\n",
      "SD_1k_1 = ssd.SparseDeconvolutionModel(*data_1k_1, mask=wm_mask,  params_file = 'temp', axial_diffusivity=ad_rd[0]['AD'], radial_diffusivity=ad_rd[0]['RD'], solver_params=solver_params)\n",
      "SD_1k_2 = ssd.SparseDeconvolutionModel(*data_1k_2, mask=wm_mask,  params_file = 'temp', axial_diffusivity=ad_rd[1]['AD'], radial_diffusivity=ad_rd[1]['RD'], solver_params=solver_params)\n",
      "ad_rd = oio.get_ad_rd(subject, 2000)\n",
      "SD_2k_1 = ssd.SparseDeconvolutionModel(*data_2k_1, mask=wm_mask,  params_file = 'temp', axial_diffusivity=ad_rd[0]['AD'], radial_diffusivity=ad_rd[0]['RD'], solver_params=solver_params)\n",
      "SD_2k_2 = ssd.SparseDeconvolutionModel(*data_2k_2, mask=wm_mask,  params_file = 'temp', axial_diffusivity=ad_rd[1]['AD'], radial_diffusivity=ad_rd[1]['RD'], solver_params=solver_params)\n",
      "ad_rd = oio.get_ad_rd(subject, 4000)\n",
      "SD_4k_1 = ssd.SparseDeconvolutionModel(*data_4k_1, mask=wm_mask,  params_file = 'temp', axial_diffusivity=ad_rd[0]['AD'], radial_diffusivity=ad_rd[0]['RD'], solver_params=solver_params)\n",
      "SD_4k_2 = ssd.SparseDeconvolutionModel(*data_4k_2, mask=wm_mask,  params_file = 'temp', axial_diffusivity=ad_rd[1]['AD'], radial_diffusivity=ad_rd[1]['RD'], solver_params=solver_params)"
     ],
     "language": "python",
     "metadata": {},
     "outputs": [
      {
       "output_type": "stream",
       "stream": "stdout",
       "text": [
        "Loading from file: /Users/arokem/usr/lib/python2.7/site-packages/osmosis/data/SUB1/SUB1_b1000_1.bvals\n",
        "Loading from file: /Users/arokem/usr/lib/python2.7/site-packages/osmosis/data/SUB1/SUB1_b1000_1.bvecs\n",
        "Loading from file: /Users/arokem/usr/lib/python2.7/site-packages/osmosis/data/SUB1/SUB1_b1000_2.bvals\n",
        "Loading from file: /Users/arokem/usr/lib/python2.7/site-packages/osmosis/data/SUB1/SUB1_b1000_2.bvecs\n",
        "Loading from file: /Users/arokem/usr/lib/python2.7/site-packages/osmosis/data/SUB1/SUB1_b2000_1.bvals\n",
        "Loading from file: /Users/arokem/usr/lib/python2.7/site-packages/osmosis/data/SUB1/SUB1_b2000_1.bvecs\n",
        "Loading from file: /Users/arokem/usr/lib/python2.7/site-packages/osmosis/data/SUB1/SUB1_b2000_2.bvals\n",
        "Loading from file: /Users/arokem/usr/lib/python2.7/site-packages/osmosis/data/SUB1/SUB1_b2000_2.bvecs\n",
        "Loading from file: /Users/arokem/usr/lib/python2.7/site-packages/osmosis/data/SUB1/SUB1_b4000_1.bvals\n",
        "Loading from file: /Users/arokem/usr/lib/python2.7/site-packages/osmosis/data/SUB1/SUB1_b4000_1.bvecs\n",
        "Loading from file: /Users/arokem/usr/lib/python2.7/site-packages/osmosis/data/SUB1/SUB1_b4000_2.bvals\n",
        "Loading from file: /Users/arokem/usr/lib/python2.7/site-packages/osmosis/data/SUB1/SUB1_b4000_2.bvecs\n"
       ]
      }
     ],
     "prompt_number": 6
    },
    {
     "cell_type": "code",
     "collapsed": false,
     "input": [
      "#pred_1k_1 = np.concatenate([SD_1k_1.S0[...,np.newaxis], SD_1k_1.fit], -1)\n",
      "#pred_1k_2 = np.concatenate([SD_1k_2.S0[...,np.newaxis], SD_1k_2.fit], -1)\n",
      "#new_bvecs1 = np.concatenate([np.array([[0,0,0]]).T, SD_1k_1.bvecs[:, SD_1k_1.b_idx]], -1)\n",
      "#new_bvecs2 = np.concatenate([np.array([[0,0,0]]).T, SD_1k_2.bvecs[:, SD_1k_2.b_idx]], -1)\n",
      "#new_bvals = np.hstack([0, SD_1k_1.bvals[:,SD_1k_1.b_idx]])\n",
      "#TM_1k_1 = dti.TensorModel(pred_1k_1, new_bvecs1, new_bvals, mask=wm_mask, params_file='temp')\n",
      "#TM_1k_2 = dti.TensorModel(pred_1k_2, new_bvecs2, new_bvals, mask=wm_mask, params_file='temp')\n",
      "\n",
      "#pred_2k_1 = np.concatenate([SD_2k_1.S0[...,np.newaxis], SD_2k_1.fit], -1)\n",
      "#pred_2k_2 = np.concatenate([SD_2k_2.S0[...,np.newaxis], SD_2k_2.fit], -1)\n",
      "#new_bvecs1 = np.concatenate([np.array([[0,0,0]]).T, SD_2k_1.bvecs[:, SD_2k_1.b_idx]], -1)\n",
      "#new_bvecs2 = np.concatenate([np.array([[0,0,0]]).T, SD_2k_2.bvecs[:, SD_2k_2.b_idx]], -1)\n",
      "#new_bvals = np.hstack([0, SD_2k_1.bvals[:,SD_2k_1.b_idx]])\n",
      "#TM_2k_1 = dti.TensorModel(pred_2k_1, new_bvecs1, new_bvals, mask=wm_mask, params_file='temp')\n",
      "#TM_2k_2 = dti.TensorModel(pred_2k_2, new_bvecs2, new_bvals, mask=wm_mask, params_file='temp')\n",
      "\n",
      "#pred_4k_1 = np.concatenate([SD_4k_1.S0[...,np.newaxis], SD_4k_1.fit], -1)\n",
      "#pred_4k_2 = np.concatenate([SD_4k_2.S0[...,np.newaxis], SD_4k_2.fit], -1)\n",
      "#new_bvecs1 = np.concatenate([np.array([[0,0,0]]).T, SD_4k_1.bvecs[:, SD_4k_1.b_idx]], -1)\n",
      "#new_bvecs2 = np.concatenate([np.array([[0,0,0]]).T, SD_4k_2.bvecs[:, SD_4k_2.b_idx]], -1)\n",
      "#new_bvals = np.hstack([0, SD_4k_1.bvals[:,SD_4k_1.b_idx]])\n",
      "#TM_4k_1 = dti.TensorModel(pred_4k_1, new_bvecs1, new_bvals, mask=wm_mask, params_file='temp')\n",
      "#TM_4k_2 = dti.TensorModel(pred_4k_2, new_bvecs2, new_bvals, mask=wm_mask, params_file='temp')"
     ],
     "language": "python",
     "metadata": {},
     "outputs": [],
     "prompt_number": 7
    },
    {
     "cell_type": "code",
     "collapsed": false,
     "input": [
      "TM_1k_1 = dti.TensorModel(*data_1k_1, mask=wm_mask, params_file='temp')\n",
      "TM_1k_2 = dti.TensorModel(*data_1k_2, mask=wm_mask, params_file='temp')\n",
      "TM_2k_1 = dti.TensorModel(*data_2k_1, mask=wm_mask, params_file='temp')\n",
      "TM_2k_2 = dti.TensorModel(*data_2k_2, mask=wm_mask, params_file='temp')\n",
      "TM_4k_1 = dti.TensorModel(*data_4k_1, mask=wm_mask, params_file='temp')\n",
      "TM_4k_2 = dti.TensorModel(*data_4k_2, mask=wm_mask, params_file='temp')"
     ],
     "language": "python",
     "metadata": {},
     "outputs": [
      {
       "output_type": "stream",
       "stream": "stdout",
       "text": [
        "Loading from file: /Users/arokem/usr/lib/python2.7/site-packages/osmosis/data/SUB1/SUB1_b1000_1.bvals\n",
        "Loading from file: /Users/arokem/usr/lib/python2.7/site-packages/osmosis/data/SUB1/SUB1_b1000_1.bvecs\n",
        "Loading from file: /Users/arokem/usr/lib/python2.7/site-packages/osmosis/data/SUB1/SUB1_b1000_2.bvals\n",
        "Loading from file: /Users/arokem/usr/lib/python2.7/site-packages/osmosis/data/SUB1/SUB1_b1000_2.bvecs\n",
        "Loading from file: /Users/arokem/usr/lib/python2.7/site-packages/osmosis/data/SUB1/SUB1_b2000_1.bvals\n",
        "Loading from file: /Users/arokem/usr/lib/python2.7/site-packages/osmosis/data/SUB1/SUB1_b2000_1.bvecs\n",
        "Loading from file: /Users/arokem/usr/lib/python2.7/site-packages/osmosis/data/SUB1/SUB1_b2000_2.bvals\n",
        "Loading from file: /Users/arokem/usr/lib/python2.7/site-packages/osmosis/data/SUB1/SUB1_b2000_2.bvecs\n",
        "Loading from file: /Users/arokem/usr/lib/python2.7/site-packages/osmosis/data/SUB1/SUB1_b4000_1.bvals\n",
        "Loading from file: /Users/arokem/usr/lib/python2.7/site-packages/osmosis/data/SUB1/SUB1_b4000_1.bvecs\n",
        "Loading from file: /Users/arokem/usr/lib/python2.7/site-packages/osmosis/data/SUB1/SUB1_b4000_2.bvals\n",
        "Loading from file: /Users/arokem/usr/lib/python2.7/site-packages/osmosis/data/SUB1/SUB1_b4000_2.bvecs\n"
       ]
      }
     ],
     "prompt_number": 8
    },
    {
     "cell_type": "code",
     "collapsed": false,
     "input": [
      "# Reliability estimated via the tensor model: \n",
      "pdd_rel_1k = oza.pdd_reliability(TM_1k_1, TM_1k_2)\n",
      "pdd_rel_2k = oza.pdd_reliability(TM_2k_1, TM_2k_2)\n",
      "pdd_rel_4k = oza.pdd_reliability(TM_4k_1, TM_4k_2)\n",
      "\n",
      "# Or directly on the SD model:\n",
      "#pdd_rel_1k = oza.pdd_reliability(SD_1k_1, SD_1k_2)\n",
      "#pdd_rel_2k = oza.pdd_reliability(SD_2k_1, SD_2k_2)\n",
      "#pdd_rel_4k = oza.pdd_reliability(SD_4k_1, SD_4k_2)"
     ],
     "language": "python",
     "metadata": {},
     "outputs": [
      {
       "output_type": "stream",
       "stream": "stdout",
       "text": [
        "Loading from file: /Users/arokem/usr/lib/python2.7/site-packages/osmosis/data/SUB1/SUB1_b1000_1.nii.gz\n",
        "Fitting TensorModel params using dipy"
       ]
      },
      {
       "output_type": "stream",
       "stream": "stdout",
       "text": [
        "\n",
        "Loading from file: /Users/arokem/usr/lib/python2.7/site-packages/osmosis/data/SUB1/SUB1_b1000_2.nii.gz"
       ]
      },
      {
       "output_type": "stream",
       "stream": "stdout",
       "text": [
        "\n",
        "Fitting TensorModel params using dipy"
       ]
      },
      {
       "output_type": "stream",
       "stream": "stdout",
       "text": [
        "\n",
        "Loading from file: /Users/arokem/usr/lib/python2.7/site-packages/osmosis/data/SUB1/SUB1_b2000_1.nii.gz"
       ]
      },
      {
       "output_type": "stream",
       "stream": "stdout",
       "text": [
        "\n",
        "Fitting TensorModel params using dipy"
       ]
      },
      {
       "output_type": "stream",
       "stream": "stdout",
       "text": [
        "\n",
        "Loading from file: /Users/arokem/usr/lib/python2.7/site-packages/osmosis/data/SUB1/SUB1_b2000_2.nii.gz"
       ]
      },
      {
       "output_type": "stream",
       "stream": "stdout",
       "text": [
        "\n",
        "Fitting TensorModel params using dipy"
       ]
      },
      {
       "output_type": "stream",
       "stream": "stdout",
       "text": [
        "\n",
        "Loading from file: /Users/arokem/usr/lib/python2.7/site-packages/osmosis/data/SUB1/SUB1_b4000_1.nii.gz"
       ]
      },
      {
       "output_type": "stream",
       "stream": "stdout",
       "text": [
        "\n",
        "Fitting TensorModel params using dipy"
       ]
      },
      {
       "output_type": "stream",
       "stream": "stdout",
       "text": [
        "\n",
        "Loading from file: /Users/arokem/usr/lib/python2.7/site-packages/osmosis/data/SUB1/SUB1_b4000_2.nii.gz"
       ]
      },
      {
       "output_type": "stream",
       "stream": "stdout",
       "text": [
        "\n",
        "Fitting TensorModel params using dipy"
       ]
      },
      {
       "output_type": "stream",
       "stream": "stdout",
       "text": [
        "\n"
       ]
      }
     ],
     "prompt_number": 9
    },
    {
     "cell_type": "code",
     "collapsed": false,
     "input": [
      "fig = mpl.probability_hist(pdd_rel_1k[np.isfinite(pdd_rel_1k)], label='b=%s'%str(1000), color=[0.8, 0.8, 0.8])\n",
      "print(\"For b=1000, the median PDD reliability is %2.2f\"%np.median(pdd_rel_1k[np.isfinite(pdd_rel_1k)]))\n",
      "fig = mpl.probability_hist(pdd_rel_2k[np.isfinite(pdd_rel_2k)], fig=fig, label='b=%s'%str(2000), color=[0.59, 0.59, 0.59])\n",
      "print(\"For b=2000, the median PDD reliability is %2.2f\"%np.median(pdd_rel_2k[np.isfinite(pdd_rel_2k)]))\n",
      "fig = mpl.probability_hist(pdd_rel_4k[np.isfinite(pdd_rel_4k)], fig=fig, label='b=%s'%str(4000), color=[0.32, 0.32, 0.32])\n",
      "print(\"For b=4000, the median PDD reliability is %2.2f\"%np.median(pdd_rel_4k[np.isfinite(pdd_rel_4k)]))\n",
      "ax = fig.axes[0]\n",
      "ax.set_xlim([0,90])\n",
      "plt.legend()\n",
      "fig.savefig('figures/tensor_pdd_reliability.svg')"
     ],
     "language": "python",
     "metadata": {},
     "outputs": [
      {
       "output_type": "stream",
       "stream": "stdout",
       "text": [
        "For b=1000, the median PDD reliability is 3.62\n",
        "For b=2000, the median PDD reliability is 3.80\n",
        "For b=4000, the median PDD reliability is 5.01\n"
       ]
      },
      {
       "metadata": {},
       "output_type": "display_data",
       "png": "[encoded data removed]",
       "text": [
        "<matplotlib.figure.Figure at 0x100741e10>"
       ]
      }
     ],
     "prompt_number": 10
    },
    {
     "cell_type": "code",
     "collapsed": false,
     "input": [
      "pdd_rel_1k = oza.pdd_reliability(SD_1k_1, SD_1k_2)\n",
      "pdd_rel_2k = oza.pdd_reliability(SD_2k_1, SD_2k_2)\n",
      "pdd_rel_4k = oza.pdd_reliability(SD_4k_1, SD_4k_2)"
     ],
     "language": "python",
     "metadata": {},
     "outputs": [
      {
       "output_type": "stream",
       "stream": "stdout",
       "text": [
        " \r",
        "SparseDeconvolutionModel.model_params [****************100%******************]  64463 of 64464 complete "
       ]
      },
      {
       "output_type": "stream",
       "stream": "stdout",
       "text": [
        "\n"
       ]
      }
     ],
     "prompt_number": 11
    },
    {
     "cell_type": "code",
     "collapsed": false,
     "input": [
      "fig = mpl.probability_hist(pdd_rel_1k[np.isfinite(pdd_rel_1k)], label='b=%s'%str(1000), color=[0.8, 0.8, 0.8])\n",
      "print(\"For b=1000, the median PDD reliability is %2.2f\"%np.median(pdd_rel_1k[np.isfinite(pdd_rel_1k)]))\n",
      "fig = mpl.probability_hist(pdd_rel_2k[np.isfinite(pdd_rel_2k)], fig=fig, label='b=%s'%str(2000), color=[0.59, 0.59, 0.59])\n",
      "print(\"For b=2000, the median PDD reliability is %2.2f\"%np.median(pdd_rel_2k[np.isfinite(pdd_rel_2k)]))\n",
      "fig = mpl.probability_hist(pdd_rel_4k[np.isfinite(pdd_rel_4k)], fig=fig, label='b=%s'%str(4000), color=[0.32, 0.32, 0.32])\n",
      "print(\"For b=4000, the median PDD reliability is %2.2f\"%np.median(pdd_rel_4k[np.isfinite(pdd_rel_4k)]))\n",
      "ax = fig.axes[0]\n",
      "ax.set_xlim([0,90])\n",
      "plt.legend()\n",
      "fig.savefig('figures/sfm_pdd_reliability.svg')"
     ],
     "language": "python",
     "metadata": {},
     "outputs": [
      {
       "output_type": "stream",
       "stream": "stdout",
       "text": [
        "For b=1000, the median PDD reliability is 31.08\n",
        "For b=2000, the median PDD reliability is 35.90"
       ]
      },
      {
       "output_type": "stream",
       "stream": "stdout",
       "text": [
        "\n",
        "For b=4000, the median PDD reliability is 37.80\n"
       ]
      },
      {
       "metadata": {},
       "output_type": "display_data",
       "png": "[encoded data removed]",
       "text": [
        "<matplotlib.figure.Figure at 0x1090371d0>"
       ]
      }
     ],
     "prompt_number": 12
    },
    {
     "cell_type": "code",
     "collapsed": false,
     "input": [
      "\n",
      "\n"
     ],
     "language": "python",
     "metadata": {},
     "outputs": [],
     "prompt_number": 12
    }
   ],
   "metadata": {}
  }
 ]
}