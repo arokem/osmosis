{
 "metadata": {
  "name": "AppendixA"
 },
 "nbformat": 3,
 "nbformat_minor": 0,
 "worksheets": [
  {
   "cells": [
    {
     "cell_type": "markdown",
     "metadata": {},
     "source": [
      "# Appendix A: seting regularization parameters\n",
      "\n",
      "In this notebook, we generate the figures for Appendix A. These figures show the regularization parameters. \n",
      "\n",
      "Note that though it is possible to perform this computation as it is written here, in reality this would probab take a (very long) while to run \n",
      "unless the tools in osmosis.parallel are used to parallelize the computation of all the parameter computations. This is what we did in \n",
      "the notebook titled `AppendixA-FAST`. \n",
      "\n",
      "That said, this is what this notebook does: Start by importing some modules we will need here:"
     ]
    },
    {
     "cell_type": "code",
     "collapsed": false,
     "input": [
      "import nibabel as ni\n",
      "import osmosis.model.analysis as oza\n",
      "import osmosis.model.sparse_deconvolution as ssd\n",
      "import osmosis.model.dti as dti\n",
      "\n",
      "import osmosis.viz.mpl as mpl"
     ],
     "language": "python",
     "metadata": {},
     "outputs": [
      {
       "output_type": "stream",
       "stream": "stderr",
       "text": [
        "/usr/lib/python2.7/dist-packages/nose/util.py:14: DeprecationWarning: The compiler package is deprecated and removed in Python 3.x.\n",
        "  from compiler.consts import CO_GENERATOR\n"
       ]
      }
     ],
     "prompt_number": 1
    },
    {
     "cell_type": "markdown",
     "metadata": {},
     "source": [
      "Set the data-path depending on the installation location: "
     ]
    },
    {
     "cell_type": "code",
     "collapsed": false,
     "input": [
      "import os\n",
      "import osmosis as oz\n",
      "import osmosis.io as oio\n",
      "oio.data_path = os.path.join(oz.__path__[0], 'data')"
     ],
     "language": "python",
     "metadata": {},
     "outputs": [],
     "prompt_number": 1
    },
    {
     "cell_type": "markdown",
     "metadata": {},
     "source": [
      "Point to the subject-dependent file-names: "
     ]
    },
    {
     "cell_type": "code",
     "collapsed": false,
     "input": [
      "subject = 'FP'\n",
      "data_1k_1, data_1k_2 = oio.get_dwi_data(1000, subject)\n",
      "data_2k_1, data_2k_2 = oio.get_dwi_data(2000, subject)\n",
      "data_4k_1, data_4k_2 = oio.get_dwi_data(4000, subject)\n",
      "\n",
      "data_fnames = {1000:[data_1k_1, data_1k_2], 2000:[data_2k_1, data_2k_2], 4000:[data_4k_1, data_4k_2]}"
     ],
     "language": "python",
     "metadata": {},
     "outputs": [],
     "prompt_number": 2
    },
    {
     "cell_type": "markdown",
     "metadata": {},
     "source": [
      "In this case, we read all the data into arrays up front to save time in the main loop below:"
     ]
    },
    {
     "cell_type": "code",
     "collapsed": false,
     "input": [
      "data = {}\n",
      "for b in data_fnames:\n",
      "    data[b] = [[ni.load(data_fnames[b][i][0]).get_data(), np.loadtxt(data_fnames[b][i][1]), np.loadtxt(data_fnames[b][i][2])] for i in [0,1]]"
     ],
     "language": "python",
     "metadata": {},
     "outputs": [],
     "prompt_number": 4
    },
    {
     "cell_type": "markdown",
     "metadata": {},
     "source": [
      "A white matter mask is used (see Methods for details): "
     ]
    },
    {
     "cell_type": "code",
     "collapsed": false,
     "input": [
      "wm_mask = np.zeros(ni.load(data_1k_1[0]).shape[:3])\n",
      "wm_nifti = ni.load(oio.data_path + '/%s/%s_wm_mask.nii.gz'%(subject, subject)).get_data()\n",
      "wm_mask[np.where(wm_nifti==1)] = 1"
     ],
     "language": "python",
     "metadata": {},
     "outputs": [],
     "prompt_number": 5
    },
    {
     "cell_type": "markdown",
     "metadata": {},
     "source": [
      "We sweep through several values of the regularization parameters. \n",
      "\n",
      "`alpha` sets the relative weight of the Elastic Net cost function and least-square errors\n",
      "`l1_ratio` sets the relative weight of L1 and L2 within the Elastic Net cost function"
     ]
    },
    {
     "cell_type": "code",
     "collapsed": false,
     "input": [
      "alphas = [0.0001, 0.0005, 0.001, 0.0025, 0.005, 0.0075, 0.01, 0.025, 0.05]\n",
      "l1_ratios = [0.0, 0.2, 0.4, 0.6, 0.8, 1.0]"
     ],
     "language": "python",
     "metadata": {},
     "outputs": [],
     "prompt_number": 6
    },
    {
     "cell_type": "markdown",
     "metadata": {},
     "source": [
      "We define a helper function to calculate the reliability of the PDD predicted by the SFM solution:"
     ]
    },
    {
     "cell_type": "code",
     "collapsed": false,
     "input": [
      "def tensor_reliability(SD_1, SD_2, wm_mask):\n",
      "    \"\"\" \n",
      "    given two SD models, calculate the reliability of the PDD of the derived tensor models\n",
      "    \"\"\"\n",
      "    pred1 = np.concatenate([SD_1.S0[...,np.newaxis], SD_1.fit], -1)\n",
      "    pred2 = np.concatenate([SD_2.S0[...,np.newaxis], SD_2.fit], -1)\n",
      "    \n",
      "    new_bvecs1 = np.concatenate([np.array([[0,0,0]]).T, SD_1.bvecs[:, SD_1.b_idx]], -1)\n",
      "    new_bvecs2 = np.concatenate([np.array([[0,0,0]]).T, SD_2.bvecs[:, SD_2.b_idx]], -1)\n",
      "    \n",
      "    # Freely assume that the bvals are the same \n",
      "    new_bvals = np.hstack([0, SD_1.bvals[:,SD_1.b_idx]])\n",
      "    TM1 = dti.TensorModel(pred1, new_bvecs1, new_bvals, mask=wm_mask, params_file='temp')\n",
      "    TM2 = dti.TensorModel(pred2, new_bvecs2, new_bvals, mask=wm_mask, params_file='temp')\n",
      "    pdd_rel = oza.pdd_reliability(TM1, TM2)\n",
      "    \n",
      "    return pdd_rel"
     ],
     "language": "python",
     "metadata": {},
     "outputs": [],
     "prompt_number": "*"
    },
    {
     "cell_type": "markdown",
     "metadata": {},
     "source": [
      "Next, we loop over the b values measured, and the values of the regularization parameters and compute the median rRMSE in each combination \n",
      "of data and parameters. We will seek the combination of regularization parameters that minimizes median rRMSE. "
     ]
    },
    {
     "cell_type": "code",
     "collapsed": false,
     "input": [
      "rmse_matrix = {}\n",
      "rel_matrix = {}\n",
      "for b in [1000, 2000, 4000]:\n",
      "    ad_rd = oio.get_ad_rd(subject, b)\n",
      "    rmse_matrix[b] = np.zeros((len(rhos), len(alphas)))\n",
      "    rel_matrix[b] = np.zeros((len(rhos), len(alphas)))\n",
      "    for l1_idx, l1_ratio in enumerate(l1_ratios):\n",
      "        for alpha_idx, this_alpha in enumerate(alphas):\n",
      "            solver_params = dict(alpha=this_alpha,\n",
      "                                 l1_ratio=l1_ratio,\n",
      "                                 fit_intercept=False,\n",
      "                                 positive=True)\n",
      "            \n",
      "            params_file1 = \"%s_SSD_l1ratio%s_alpha%s.nii.gz\"%(oio.data_path + '/%s/'%subject + data_fnames[b][0][0].split('/')[-1].split('.')[0],l1_ratio, this_alpha)\n",
      "            SD_1 = ssd.SparseDeconvolutionModel(*data[b][0], mask=wm_mask, params_file=params_file1, solver_params=solver_params, \n",
      "                                                axial_diffusivity=ad_rd[0]['AD'], radial_diffusivity=ad_rd[0]['RD'])\n",
      "            params_file2 = \"%s_SSD_l1ratio%s_alpha%s.nii.gz\"%(oio.data_path + '/%s/'%subject + data_fnames[b][1][0].split('/')[-1].split('.')[0],l1_ratio, this_alpha)\n",
      "            SD_2 = ssd.SparseDeconvolutionModel(*data[b][1], mask=wm_mask, params_file=params_file2, solver_params=solver_params,\n",
      "                                                axial_diffusivity=ad_rd[1]['AD'], radial_diffusivity=ad_rd[1]['RD'])\n",
      "            \n",
      "            rrmse = oza.cross_predict(SD_1, SD_2)\n",
      "            median_rmse = np.median(rrmse[np.isfinite(rrmse)])\n",
      "            rmse_matrix[b][l1_idx, alpha_idx] = median_rmse\n",
      "            \n",
      "            rel = tensor_reliability(SD_1, SD_2, wm_mask)\n",
      "            median_rel = np.median(rel[np.isfinite(rel)])\n",
      "            rel_matrix[b][l1_idx, alpha_idx] = median_rel\n",
      "            \n"
     ],
     "language": "python",
     "metadata": {},
     "outputs": [
      {
       "output_type": "stream",
       "stream": "stdout",
       "text": [
        "Predicting signal from SparseDeconvolutionModel with ElasticNet(alpha=0.0001, copy_X=True, fit_intercept=False, l1_ratio=0.0,\n",
        "      max_iter=1000, normalize=False, positive=True, precompute=auto,\n",
        "      rho=None, tol=0.0001, warm_start=False)\n",
        "Loading params from file: /biac4/wandell/biac2/wandell6/data/arokem/osmosis/FP/0009_01_DWI_2mm150dir_2x_b1000_aligned_trilin_SSD_l1ratio0.0_alpha0.0001.nii.gz"
       ]
      },
      {
       "output_type": "stream",
       "stream": "stdout",
       "text": [
        "\n",
        "Predicting signal from SparseDeconvolutionModel with ElasticNet(alpha=0.0001, copy_X=True, fit_intercept=False, l1_ratio=0.0,\n",
        "      max_iter=1000, normalize=False, positive=True, precompute=auto,\n",
        "      rho=None, tol=0.0001, warm_start=False)"
       ]
      },
      {
       "output_type": "stream",
       "stream": "stdout",
       "text": [
        "\n",
        "Loading params from file: /biac4/wandell/biac2/wandell6/data/arokem/osmosis/FP/0011_01_DWI_2mm150dir_2x_b1000_aligned_trilin_SSD_l1ratio0.0_alpha0.0001.nii.gz"
       ]
      },
      {
       "output_type": "stream",
       "stream": "stdout",
       "text": [
        "\n",
        "Predicting signal from SparseDeconvolutionModel with ElasticNet(alpha=0.0001, copy_X=True, fit_intercept=False, l1_ratio=0.0,\n",
        "      max_iter=1000, normalize=False, positive=True, precompute=auto,\n",
        "      rho=None, tol=0.0001, warm_start=False)"
       ]
      },
      {
       "output_type": "stream",
       "stream": "stdout",
       "text": [
        "\n",
        "Predicting signal from SparseDeconvolutionModel with ElasticNet(alpha=0.0001, copy_X=True, fit_intercept=False, l1_ratio=0.0,\n",
        "      max_iter=1000, normalize=False, positive=True, precompute=auto,\n",
        "      rho=None, tol=0.0001, warm_start=False)"
       ]
      },
      {
       "output_type": "stream",
       "stream": "stdout",
       "text": [
        "\n",
        "Fitting TensorModel params using dipy"
       ]
      },
      {
       "output_type": "stream",
       "stream": "stderr",
       "text": [
        "/home/arokem/usr/lib/python2.7/site-packages/osmosis/model/base.py:383: RuntimeWarning: divide by zero encountered in divide\n",
        "  signal_rel = self.signal/np.reshape(self.S0, (self.S0.shape + (1,)))\n",
        "/home/arokem/usr/lib/python2.7/site-packages/osmosis/model/base.py:383: RuntimeWarning: invalid value encountered in divide\n",
        "  signal_rel = self.signal/np.reshape(self.S0, (self.S0.shape + (1,)))\n",
        "/home/arokem/usr/lib/python2.7/site-packages/osmosis/model/base.py:240: UserWarning: DWI data generated from array. Affine will be set to np.eye(4)\n",
        "  warnings.warn(w_s)\n"
       ]
      },
      {
       "output_type": "stream",
       "stream": "stdout",
       "text": [
        "\n",
        "Fitting TensorModel params using dipy"
       ]
      },
      {
       "output_type": "stream",
       "stream": "stdout",
       "text": [
        "\n",
        "Predicting signal from SparseDeconvolutionModel with ElasticNet(alpha=0.0005, copy_X=True, fit_intercept=False, l1_ratio=0.0,\n",
        "      max_iter=1000, normalize=False, positive=True, precompute=auto,\n",
        "      rho=None, tol=0.0001, warm_start=False)"
       ]
      },
      {
       "output_type": "stream",
       "stream": "stdout",
       "text": [
        "\n",
        "Loading params from file: /biac4/wandell/biac2/wandell6/data/arokem/osmosis/FP/0009_01_DWI_2mm150dir_2x_b1000_aligned_trilin_SSD_l1ratio0.0_alpha0.0005.nii.gz"
       ]
      },
      {
       "output_type": "stream",
       "stream": "stdout",
       "text": [
        "\n",
        "Predicting signal from SparseDeconvolutionModel with ElasticNet(alpha=0.0005, copy_X=True, fit_intercept=False, l1_ratio=0.0,\n",
        "      max_iter=1000, normalize=False, positive=True, precompute=auto,\n",
        "      rho=None, tol=0.0001, warm_start=False)"
       ]
      },
      {
       "output_type": "stream",
       "stream": "stdout",
       "text": [
        "\n",
        "Loading params from file: /biac4/wandell/biac2/wandell6/data/arokem/osmosis/FP/0011_01_DWI_2mm150dir_2x_b1000_aligned_trilin_SSD_l1ratio0.0_alpha0.0005.nii.gz"
       ]
      },
      {
       "output_type": "stream",
       "stream": "stdout",
       "text": [
        "\n",
        "Predicting signal from SparseDeconvolutionModel with ElasticNet(alpha=0.0005, copy_X=True, fit_intercept=False, l1_ratio=0.0,\n",
        "      max_iter=1000, normalize=False, positive=True, precompute=auto,\n",
        "      rho=None, tol=0.0001, warm_start=False)"
       ]
      },
      {
       "output_type": "stream",
       "stream": "stdout",
       "text": [
        "\n",
        "Predicting signal from SparseDeconvolutionModel with ElasticNet(alpha=0.0005, copy_X=True, fit_intercept=False, l1_ratio=0.0,\n",
        "      max_iter=1000, normalize=False, positive=True, precompute=auto,\n",
        "      rho=None, tol=0.0001, warm_start=False)"
       ]
      },
      {
       "output_type": "stream",
       "stream": "stdout",
       "text": [
        "\n",
        "Fitting TensorModel params using dipy"
       ]
      },
      {
       "output_type": "stream",
       "stream": "stdout",
       "text": [
        "\n",
        "Fitting TensorModel params using dipy"
       ]
      },
      {
       "output_type": "stream",
       "stream": "stdout",
       "text": [
        "\n",
        "Predicting signal from SparseDeconvolutionModel with ElasticNet(alpha=0.001, copy_X=True, fit_intercept=False, l1_ratio=0.0,\n",
        "      max_iter=1000, normalize=False, positive=True, precompute=auto,\n",
        "      rho=None, tol=0.0001, warm_start=False)"
       ]
      },
      {
       "output_type": "stream",
       "stream": "stdout",
       "text": [
        "\n",
        "Loading params from file: /biac4/wandell/biac2/wandell6/data/arokem/osmosis/FP/0009_01_DWI_2mm150dir_2x_b1000_aligned_trilin_SSD_l1ratio0.0_alpha0.001.nii.gz"
       ]
      },
      {
       "output_type": "stream",
       "stream": "stdout",
       "text": [
        "\n",
        "Predicting signal from SparseDeconvolutionModel with ElasticNet(alpha=0.001, copy_X=True, fit_intercept=False, l1_ratio=0.0,\n",
        "      max_iter=1000, normalize=False, positive=True, precompute=auto,\n",
        "      rho=None, tol=0.0001, warm_start=False)"
       ]
      },
      {
       "output_type": "stream",
       "stream": "stdout",
       "text": [
        "\n",
        "Loading params from file: /biac4/wandell/biac2/wandell6/data/arokem/osmosis/FP/0011_01_DWI_2mm150dir_2x_b1000_aligned_trilin_SSD_l1ratio0.0_alpha0.001.nii.gz"
       ]
      },
      {
       "output_type": "stream",
       "stream": "stdout",
       "text": [
        "\n",
        "Predicting signal from SparseDeconvolutionModel with ElasticNet(alpha=0.001, copy_X=True, fit_intercept=False, l1_ratio=0.0,\n",
        "      max_iter=1000, normalize=False, positive=True, precompute=auto,\n",
        "      rho=None, tol=0.0001, warm_start=False)"
       ]
      },
      {
       "output_type": "stream",
       "stream": "stdout",
       "text": [
        "\n",
        "Predicting signal from SparseDeconvolutionModel with ElasticNet(alpha=0.001, copy_X=True, fit_intercept=False, l1_ratio=0.0,\n",
        "      max_iter=1000, normalize=False, positive=True, precompute=auto,\n",
        "      rho=None, tol=0.0001, warm_start=False)"
       ]
      },
      {
       "output_type": "stream",
       "stream": "stdout",
       "text": [
        "\n",
        "Fitting TensorModel params using dipy"
       ]
      },
      {
       "output_type": "stream",
       "stream": "stdout",
       "text": [
        "\n",
        "Fitting TensorModel params using dipy"
       ]
      },
      {
       "output_type": "stream",
       "stream": "stdout",
       "text": [
        "\n",
        "Predicting signal from SparseDeconvolutionModel with ElasticNet(alpha=0.0025, copy_X=True, fit_intercept=False, l1_ratio=0.0,\n",
        "      max_iter=1000, normalize=False, positive=True, precompute=auto,\n",
        "      rho=None, tol=0.0001, warm_start=False)"
       ]
      },
      {
       "output_type": "stream",
       "stream": "stdout",
       "text": [
        "\n",
        "Loading params from file: /biac4/wandell/biac2/wandell6/data/arokem/osmosis/FP/0009_01_DWI_2mm150dir_2x_b1000_aligned_trilin_SSD_l1ratio0.0_alpha0.0025.nii.gz"
       ]
      },
      {
       "output_type": "stream",
       "stream": "stdout",
       "text": [
        "\n",
        "Predicting signal from SparseDeconvolutionModel with ElasticNet(alpha=0.0025, copy_X=True, fit_intercept=False, l1_ratio=0.0,\n",
        "      max_iter=1000, normalize=False, positive=True, precompute=auto,\n",
        "      rho=None, tol=0.0001, warm_start=False)"
       ]
      },
      {
       "output_type": "stream",
       "stream": "stdout",
       "text": [
        "\n",
        "Loading params from file: /biac4/wandell/biac2/wandell6/data/arokem/osmosis/FP/0011_01_DWI_2mm150dir_2x_b1000_aligned_trilin_SSD_l1ratio0.0_alpha0.0025.nii.gz"
       ]
      },
      {
       "output_type": "stream",
       "stream": "stdout",
       "text": [
        "\n",
        "Predicting signal from SparseDeconvolutionModel with ElasticNet(alpha=0.0025, copy_X=True, fit_intercept=False, l1_ratio=0.0,\n",
        "      max_iter=1000, normalize=False, positive=True, precompute=auto,\n",
        "      rho=None, tol=0.0001, warm_start=False)"
       ]
      },
      {
       "output_type": "stream",
       "stream": "stdout",
       "text": [
        "\n",
        "Predicting signal from SparseDeconvolutionModel with ElasticNet(alpha=0.0025, copy_X=True, fit_intercept=False, l1_ratio=0.0,\n",
        "      max_iter=1000, normalize=False, positive=True, precompute=auto,\n",
        "      rho=None, tol=0.0001, warm_start=False)"
       ]
      },
      {
       "output_type": "stream",
       "stream": "stdout",
       "text": [
        "\n",
        "Fitting TensorModel params using dipy"
       ]
      },
      {
       "output_type": "stream",
       "stream": "stdout",
       "text": [
        "\n",
        "Fitting TensorModel params using dipy"
       ]
      },
      {
       "output_type": "stream",
       "stream": "stdout",
       "text": [
        "\n",
        "Predicting signal from SparseDeconvolutionModel with ElasticNet(alpha=0.005, copy_X=True, fit_intercept=False, l1_ratio=0.0,\n",
        "      max_iter=1000, normalize=False, positive=True, precompute=auto,\n",
        "      rho=None, tol=0.0001, warm_start=False)"
       ]
      },
      {
       "output_type": "stream",
       "stream": "stdout",
       "text": [
        "\n",
        "Loading params from file: /biac4/wandell/biac2/wandell6/data/arokem/osmosis/FP/0009_01_DWI_2mm150dir_2x_b1000_aligned_trilin_SSD_l1ratio0.0_alpha0.005.nii.gz"
       ]
      },
      {
       "output_type": "stream",
       "stream": "stdout",
       "text": [
        "\n",
        "Predicting signal from SparseDeconvolutionModel with ElasticNet(alpha=0.005, copy_X=True, fit_intercept=False, l1_ratio=0.0,\n",
        "      max_iter=1000, normalize=False, positive=True, precompute=auto,\n",
        "      rho=None, tol=0.0001, warm_start=False)"
       ]
      },
      {
       "output_type": "stream",
       "stream": "stdout",
       "text": [
        "\n",
        "Loading params from file: /biac4/wandell/biac2/wandell6/data/arokem/osmosis/FP/0011_01_DWI_2mm150dir_2x_b1000_aligned_trilin_SSD_l1ratio0.0_alpha0.005.nii.gz"
       ]
      },
      {
       "output_type": "stream",
       "stream": "stdout",
       "text": [
        "\n",
        "Predicting signal from SparseDeconvolutionModel with ElasticNet(alpha=0.005, copy_X=True, fit_intercept=False, l1_ratio=0.0,\n",
        "      max_iter=1000, normalize=False, positive=True, precompute=auto,\n",
        "      rho=None, tol=0.0001, warm_start=False)"
       ]
      },
      {
       "output_type": "stream",
       "stream": "stdout",
       "text": [
        "\n",
        "Predicting signal from SparseDeconvolutionModel with ElasticNet(alpha=0.005, copy_X=True, fit_intercept=False, l1_ratio=0.0,\n",
        "      max_iter=1000, normalize=False, positive=True, precompute=auto,\n",
        "      rho=None, tol=0.0001, warm_start=False)"
       ]
      },
      {
       "output_type": "stream",
       "stream": "stdout",
       "text": [
        "\n",
        "Fitting TensorModel params using dipy"
       ]
      },
      {
       "output_type": "stream",
       "stream": "stdout",
       "text": [
        "\n",
        "Fitting TensorModel params using dipy"
       ]
      },
      {
       "output_type": "stream",
       "stream": "stdout",
       "text": [
        "\n",
        "Predicting signal from SparseDeconvolutionModel with ElasticNet(alpha=0.0075, copy_X=True, fit_intercept=False, l1_ratio=0.0,\n",
        "      max_iter=1000, normalize=False, positive=True, precompute=auto,\n",
        "      rho=None, tol=0.0001, warm_start=False)"
       ]
      },
      {
       "output_type": "stream",
       "stream": "stdout",
       "text": [
        "\n",
        "Loading params from file: /biac4/wandell/biac2/wandell6/data/arokem/osmosis/FP/0009_01_DWI_2mm150dir_2x_b1000_aligned_trilin_SSD_l1ratio0.0_alpha0.0075.nii.gz"
       ]
      },
      {
       "output_type": "stream",
       "stream": "stdout",
       "text": [
        "\n",
        "Predicting signal from SparseDeconvolutionModel with ElasticNet(alpha=0.0075, copy_X=True, fit_intercept=False, l1_ratio=0.0,\n",
        "      max_iter=1000, normalize=False, positive=True, precompute=auto,\n",
        "      rho=None, tol=0.0001, warm_start=False)"
       ]
      },
      {
       "output_type": "stream",
       "stream": "stdout",
       "text": [
        "\n",
        "Loading params from file: /biac4/wandell/biac2/wandell6/data/arokem/osmosis/FP/0011_01_DWI_2mm150dir_2x_b1000_aligned_trilin_SSD_l1ratio0.0_alpha0.0075.nii.gz"
       ]
      },
      {
       "output_type": "stream",
       "stream": "stdout",
       "text": [
        "\n",
        "Predicting signal from SparseDeconvolutionModel with ElasticNet(alpha=0.0075, copy_X=True, fit_intercept=False, l1_ratio=0.0,\n",
        "      max_iter=1000, normalize=False, positive=True, precompute=auto,\n",
        "      rho=None, tol=0.0001, warm_start=False)"
       ]
      },
      {
       "output_type": "stream",
       "stream": "stdout",
       "text": [
        "\n",
        "Predicting signal from SparseDeconvolutionModel with ElasticNet(alpha=0.0075, copy_X=True, fit_intercept=False, l1_ratio=0.0,\n",
        "      max_iter=1000, normalize=False, positive=True, precompute=auto,\n",
        "      rho=None, tol=0.0001, warm_start=False)"
       ]
      },
      {
       "output_type": "stream",
       "stream": "stdout",
       "text": [
        "\n",
        "Fitting TensorModel params using dipy"
       ]
      },
      {
       "output_type": "stream",
       "stream": "stdout",
       "text": [
        "\n",
        "Fitting TensorModel params using dipy"
       ]
      },
      {
       "output_type": "stream",
       "stream": "stdout",
       "text": [
        "\n",
        "Predicting signal from SparseDeconvolutionModel with ElasticNet(alpha=0.01, copy_X=True, fit_intercept=False, l1_ratio=0.0,\n",
        "      max_iter=1000, normalize=False, positive=True, precompute=auto,\n",
        "      rho=None, tol=0.0001, warm_start=False)"
       ]
      },
      {
       "output_type": "stream",
       "stream": "stdout",
       "text": [
        "\n",
        "Loading params from file: /biac4/wandell/biac2/wandell6/data/arokem/osmosis/FP/0009_01_DWI_2mm150dir_2x_b1000_aligned_trilin_SSD_l1ratio0.0_alpha0.01.nii.gz"
       ]
      },
      {
       "output_type": "stream",
       "stream": "stdout",
       "text": [
        "\n",
        "Predicting signal from SparseDeconvolutionModel with ElasticNet(alpha=0.01, copy_X=True, fit_intercept=False, l1_ratio=0.0,\n",
        "      max_iter=1000, normalize=False, positive=True, precompute=auto,\n",
        "      rho=None, tol=0.0001, warm_start=False)"
       ]
      },
      {
       "output_type": "stream",
       "stream": "stdout",
       "text": [
        "\n",
        "Loading params from file: /biac4/wandell/biac2/wandell6/data/arokem/osmosis/FP/0011_01_DWI_2mm150dir_2x_b1000_aligned_trilin_SSD_l1ratio0.0_alpha0.01.nii.gz"
       ]
      },
      {
       "output_type": "stream",
       "stream": "stdout",
       "text": [
        "\n",
        "Predicting signal from SparseDeconvolutionModel with ElasticNet(alpha=0.01, copy_X=True, fit_intercept=False, l1_ratio=0.0,\n",
        "      max_iter=1000, normalize=False, positive=True, precompute=auto,\n",
        "      rho=None, tol=0.0001, warm_start=False)"
       ]
      },
      {
       "output_type": "stream",
       "stream": "stdout",
       "text": [
        "\n",
        "Predicting signal from SparseDeconvolutionModel with ElasticNet(alpha=0.01, copy_X=True, fit_intercept=False, l1_ratio=0.0,\n",
        "      max_iter=1000, normalize=False, positive=True, precompute=auto,\n",
        "      rho=None, tol=0.0001, warm_start=False)"
       ]
      },
      {
       "output_type": "stream",
       "stream": "stdout",
       "text": [
        "\n",
        "Fitting TensorModel params using dipy"
       ]
      },
      {
       "output_type": "stream",
       "stream": "stdout",
       "text": [
        "\n",
        "Fitting TensorModel params using dipy"
       ]
      },
      {
       "output_type": "stream",
       "stream": "stdout",
       "text": [
        "\n",
        "Predicting signal from SparseDeconvolutionModel with ElasticNet(alpha=0.025, copy_X=True, fit_intercept=False, l1_ratio=0.0,\n",
        "      max_iter=1000, normalize=False, positive=True, precompute=auto,\n",
        "      rho=None, tol=0.0001, warm_start=False)"
       ]
      },
      {
       "output_type": "stream",
       "stream": "stdout",
       "text": [
        "\n",
        "Loading params from file: /biac4/wandell/biac2/wandell6/data/arokem/osmosis/FP/0009_01_DWI_2mm150dir_2x_b1000_aligned_trilin_SSD_l1ratio0.0_alpha0.025.nii.gz"
       ]
      },
      {
       "output_type": "stream",
       "stream": "stdout",
       "text": [
        "\n",
        "Predicting signal from SparseDeconvolutionModel with ElasticNet(alpha=0.025, copy_X=True, fit_intercept=False, l1_ratio=0.0,\n",
        "      max_iter=1000, normalize=False, positive=True, precompute=auto,\n",
        "      rho=None, tol=0.0001, warm_start=False)"
       ]
      },
      {
       "output_type": "stream",
       "stream": "stdout",
       "text": [
        "\n",
        "Loading params from file: /biac4/wandell/biac2/wandell6/data/arokem/osmosis/FP/0011_01_DWI_2mm150dir_2x_b1000_aligned_trilin_SSD_l1ratio0.0_alpha0.025.nii.gz"
       ]
      },
      {
       "output_type": "stream",
       "stream": "stdout",
       "text": [
        "\n",
        "Predicting signal from SparseDeconvolutionModel with ElasticNet(alpha=0.025, copy_X=True, fit_intercept=False, l1_ratio=0.0,\n",
        "      max_iter=1000, normalize=False, positive=True, precompute=auto,\n",
        "      rho=None, tol=0.0001, warm_start=False)"
       ]
      },
      {
       "output_type": "stream",
       "stream": "stdout",
       "text": [
        "\n",
        "Predicting signal from SparseDeconvolutionModel with ElasticNet(alpha=0.025, copy_X=True, fit_intercept=False, l1_ratio=0.0,\n",
        "      max_iter=1000, normalize=False, positive=True, precompute=auto,\n",
        "      rho=None, tol=0.0001, warm_start=False)"
       ]
      },
      {
       "output_type": "stream",
       "stream": "stdout",
       "text": [
        "\n",
        "Fitting TensorModel params using dipy"
       ]
      },
      {
       "output_type": "stream",
       "stream": "stdout",
       "text": [
        "\n",
        "Fitting TensorModel params using dipy"
       ]
      },
      {
       "output_type": "stream",
       "stream": "stdout",
       "text": [
        "\n",
        "Predicting signal from SparseDeconvolutionModel with ElasticNet(alpha=0.05, copy_X=True, fit_intercept=False, l1_ratio=0.0,\n",
        "      max_iter=1000, normalize=False, positive=True, precompute=auto,\n",
        "      rho=None, tol=0.0001, warm_start=False)"
       ]
      },
      {
       "output_type": "stream",
       "stream": "stdout",
       "text": [
        "\n",
        "Loading params from file: /biac4/wandell/biac2/wandell6/data/arokem/osmosis/FP/0009_01_DWI_2mm150dir_2x_b1000_aligned_trilin_SSD_l1ratio0.0_alpha0.05.nii.gz"
       ]
      },
      {
       "output_type": "stream",
       "stream": "stdout",
       "text": [
        "\n",
        "Predicting signal from SparseDeconvolutionModel with ElasticNet(alpha=0.05, copy_X=True, fit_intercept=False, l1_ratio=0.0,\n",
        "      max_iter=1000, normalize=False, positive=True, precompute=auto,\n",
        "      rho=None, tol=0.0001, warm_start=False)"
       ]
      },
      {
       "output_type": "stream",
       "stream": "stdout",
       "text": [
        "\n",
        "Loading params from file: /biac4/wandell/biac2/wandell6/data/arokem/osmosis/FP/0011_01_DWI_2mm150dir_2x_b1000_aligned_trilin_SSD_l1ratio0.0_alpha0.05.nii.gz"
       ]
      },
      {
       "output_type": "stream",
       "stream": "stdout",
       "text": [
        "\n",
        "Predicting signal from SparseDeconvolutionModel with ElasticNet(alpha=0.05, copy_X=True, fit_intercept=False, l1_ratio=0.0,\n",
        "      max_iter=1000, normalize=False, positive=True, precompute=auto,\n",
        "      rho=None, tol=0.0001, warm_start=False)"
       ]
      },
      {
       "output_type": "stream",
       "stream": "stdout",
       "text": [
        "\n",
        "Predicting signal from SparseDeconvolutionModel with ElasticNet(alpha=0.05, copy_X=True, fit_intercept=False, l1_ratio=0.0,\n",
        "      max_iter=1000, normalize=False, positive=True, precompute=auto,\n",
        "      rho=None, tol=0.0001, warm_start=False)"
       ]
      },
      {
       "output_type": "stream",
       "stream": "stdout",
       "text": [
        "\n",
        "Fitting TensorModel params using dipy"
       ]
      },
      {
       "output_type": "stream",
       "stream": "stdout",
       "text": [
        "\n",
        "Fitting TensorModel params using dipy"
       ]
      },
      {
       "output_type": "stream",
       "stream": "stdout",
       "text": [
        "\n",
        "Predicting signal from SparseDeconvolutionModel with ElasticNet(alpha=0.0001, copy_X=True, fit_intercept=False, l1_ratio=0.2,\n",
        "      max_iter=1000, normalize=False, positive=True, precompute=auto,\n",
        "      rho=None, tol=0.0001, warm_start=False)"
       ]
      },
      {
       "output_type": "stream",
       "stream": "stdout",
       "text": [
        "\n",
        "Loading params from file: /biac4/wandell/biac2/wandell6/data/arokem/osmosis/FP/0009_01_DWI_2mm150dir_2x_b1000_aligned_trilin_SSD_l1ratio0.2_alpha0.0001.nii.gz"
       ]
      },
      {
       "output_type": "stream",
       "stream": "stdout",
       "text": [
        "\n",
        "Predicting signal from SparseDeconvolutionModel with ElasticNet(alpha=0.0001, copy_X=True, fit_intercept=False, l1_ratio=0.2,\n",
        "      max_iter=1000, normalize=False, positive=True, precompute=auto,\n",
        "      rho=None, tol=0.0001, warm_start=False)"
       ]
      },
      {
       "output_type": "stream",
       "stream": "stdout",
       "text": [
        "\n",
        "Loading params from file: /biac4/wandell/biac2/wandell6/data/arokem/osmosis/FP/0011_01_DWI_2mm150dir_2x_b1000_aligned_trilin_SSD_l1ratio0.2_alpha0.0001.nii.gz"
       ]
      },
      {
       "output_type": "stream",
       "stream": "stdout",
       "text": [
        "\n",
        "Predicting signal from SparseDeconvolutionModel with ElasticNet(alpha=0.0001, copy_X=True, fit_intercept=False, l1_ratio=0.2,\n",
        "      max_iter=1000, normalize=False, positive=True, precompute=auto,\n",
        "      rho=None, tol=0.0001, warm_start=False)"
       ]
      },
      {
       "output_type": "stream",
       "stream": "stdout",
       "text": [
        "\n",
        "Predicting signal from SparseDeconvolutionModel with ElasticNet(alpha=0.0001, copy_X=True, fit_intercept=False, l1_ratio=0.2,\n",
        "      max_iter=1000, normalize=False, positive=True, precompute=auto,\n",
        "      rho=None, tol=0.0001, warm_start=False)"
       ]
      },
      {
       "output_type": "stream",
       "stream": "stdout",
       "text": [
        "\n",
        "Fitting TensorModel params using dipy"
       ]
      },
      {
       "output_type": "stream",
       "stream": "stdout",
       "text": [
        "\n",
        "Fitting TensorModel params using dipy"
       ]
      },
      {
       "output_type": "stream",
       "stream": "stdout",
       "text": [
        "\n",
        "Predicting signal from SparseDeconvolutionModel with ElasticNet(alpha=0.0005, copy_X=True, fit_intercept=False, l1_ratio=0.2,\n",
        "      max_iter=1000, normalize=False, positive=True, precompute=auto,\n",
        "      rho=None, tol=0.0001, warm_start=False)"
       ]
      },
      {
       "output_type": "stream",
       "stream": "stdout",
       "text": [
        "\n",
        "Loading params from file: /biac4/wandell/biac2/wandell6/data/arokem/osmosis/FP/0009_01_DWI_2mm150dir_2x_b1000_aligned_trilin_SSD_l1ratio0.2_alpha0.0005.nii.gz"
       ]
      },
      {
       "output_type": "stream",
       "stream": "stdout",
       "text": [
        "\n",
        "Predicting signal from SparseDeconvolutionModel with ElasticNet(alpha=0.0005, copy_X=True, fit_intercept=False, l1_ratio=0.2,\n",
        "      max_iter=1000, normalize=False, positive=True, precompute=auto,\n",
        "      rho=None, tol=0.0001, warm_start=False)"
       ]
      },
      {
       "output_type": "stream",
       "stream": "stdout",
       "text": [
        "\n",
        "Loading params from file: /biac4/wandell/biac2/wandell6/data/arokem/osmosis/FP/0011_01_DWI_2mm150dir_2x_b1000_aligned_trilin_SSD_l1ratio0.2_alpha0.0005.nii.gz"
       ]
      },
      {
       "output_type": "stream",
       "stream": "stdout",
       "text": [
        "\n",
        "Predicting signal from SparseDeconvolutionModel with ElasticNet(alpha=0.0005, copy_X=True, fit_intercept=False, l1_ratio=0.2,\n",
        "      max_iter=1000, normalize=False, positive=True, precompute=auto,\n",
        "      rho=None, tol=0.0001, warm_start=False)"
       ]
      },
      {
       "output_type": "stream",
       "stream": "stdout",
       "text": [
        "\n",
        "Predicting signal from SparseDeconvolutionModel with ElasticNet(alpha=0.0005, copy_X=True, fit_intercept=False, l1_ratio=0.2,\n",
        "      max_iter=1000, normalize=False, positive=True, precompute=auto,\n",
        "      rho=None, tol=0.0001, warm_start=False)"
       ]
      },
      {
       "output_type": "stream",
       "stream": "stdout",
       "text": [
        "\n",
        "Fitting TensorModel params using dipy"
       ]
      },
      {
       "output_type": "stream",
       "stream": "stdout",
       "text": [
        "\n",
        "Fitting TensorModel params using dipy"
       ]
      },
      {
       "output_type": "stream",
       "stream": "stdout",
       "text": [
        "\n",
        "Predicting signal from SparseDeconvolutionModel with ElasticNet(alpha=0.001, copy_X=True, fit_intercept=False, l1_ratio=0.2,\n",
        "      max_iter=1000, normalize=False, positive=True, precompute=auto,\n",
        "      rho=None, tol=0.0001, warm_start=False)"
       ]
      },
      {
       "output_type": "stream",
       "stream": "stdout",
       "text": [
        "\n",
        "Loading params from file: /biac4/wandell/biac2/wandell6/data/arokem/osmosis/FP/0009_01_DWI_2mm150dir_2x_b1000_aligned_trilin_SSD_l1ratio0.2_alpha0.001.nii.gz"
       ]
      },
      {
       "output_type": "stream",
       "stream": "stdout",
       "text": [
        "\n",
        "Predicting signal from SparseDeconvolutionModel with ElasticNet(alpha=0.001, copy_X=True, fit_intercept=False, l1_ratio=0.2,\n",
        "      max_iter=1000, normalize=False, positive=True, precompute=auto,\n",
        "      rho=None, tol=0.0001, warm_start=False)"
       ]
      },
      {
       "output_type": "stream",
       "stream": "stdout",
       "text": [
        "\n",
        "Loading params from file: /biac4/wandell/biac2/wandell6/data/arokem/osmosis/FP/0011_01_DWI_2mm150dir_2x_b1000_aligned_trilin_SSD_l1ratio0.2_alpha0.001.nii.gz"
       ]
      },
      {
       "output_type": "stream",
       "stream": "stdout",
       "text": [
        "\n",
        "Predicting signal from SparseDeconvolutionModel with ElasticNet(alpha=0.001, copy_X=True, fit_intercept=False, l1_ratio=0.2,\n",
        "      max_iter=1000, normalize=False, positive=True, precompute=auto,\n",
        "      rho=None, tol=0.0001, warm_start=False)"
       ]
      },
      {
       "output_type": "stream",
       "stream": "stdout",
       "text": [
        "\n",
        "Predicting signal from SparseDeconvolutionModel with ElasticNet(alpha=0.001, copy_X=True, fit_intercept=False, l1_ratio=0.2,\n",
        "      max_iter=1000, normalize=False, positive=True, precompute=auto,\n",
        "      rho=None, tol=0.0001, warm_start=False)"
       ]
      },
      {
       "output_type": "stream",
       "stream": "stdout",
       "text": [
        "\n",
        "Fitting TensorModel params using dipy"
       ]
      },
      {
       "output_type": "stream",
       "stream": "stdout",
       "text": [
        "\n",
        "Fitting TensorModel params using dipy"
       ]
      },
      {
       "output_type": "stream",
       "stream": "stdout",
       "text": [
        "\n",
        "Predicting signal from SparseDeconvolutionModel with ElasticNet(alpha=0.0025, copy_X=True, fit_intercept=False, l1_ratio=0.2,\n",
        "      max_iter=1000, normalize=False, positive=True, precompute=auto,\n",
        "      rho=None, tol=0.0001, warm_start=False)"
       ]
      },
      {
       "output_type": "stream",
       "stream": "stdout",
       "text": [
        "\n",
        "Loading params from file: /biac4/wandell/biac2/wandell6/data/arokem/osmosis/FP/0009_01_DWI_2mm150dir_2x_b1000_aligned_trilin_SSD_l1ratio0.2_alpha0.0025.nii.gz"
       ]
      },
      {
       "output_type": "stream",
       "stream": "stdout",
       "text": [
        "\n",
        "Predicting signal from SparseDeconvolutionModel with ElasticNet(alpha=0.0025, copy_X=True, fit_intercept=False, l1_ratio=0.2,\n",
        "      max_iter=1000, normalize=False, positive=True, precompute=auto,\n",
        "      rho=None, tol=0.0001, warm_start=False)"
       ]
      },
      {
       "output_type": "stream",
       "stream": "stdout",
       "text": [
        "\n",
        "Loading params from file: /biac4/wandell/biac2/wandell6/data/arokem/osmosis/FP/0011_01_DWI_2mm150dir_2x_b1000_aligned_trilin_SSD_l1ratio0.2_alpha0.0025.nii.gz"
       ]
      },
      {
       "output_type": "stream",
       "stream": "stdout",
       "text": [
        "\n",
        "Predicting signal from SparseDeconvolutionModel with ElasticNet(alpha=0.0025, copy_X=True, fit_intercept=False, l1_ratio=0.2,\n",
        "      max_iter=1000, normalize=False, positive=True, precompute=auto,\n",
        "      rho=None, tol=0.0001, warm_start=False)"
       ]
      },
      {
       "output_type": "stream",
       "stream": "stdout",
       "text": [
        "\n",
        "Predicting signal from SparseDeconvolutionModel with ElasticNet(alpha=0.0025, copy_X=True, fit_intercept=False, l1_ratio=0.2,\n",
        "      max_iter=1000, normalize=False, positive=True, precompute=auto,\n",
        "      rho=None, tol=0.0001, warm_start=False)"
       ]
      },
      {
       "output_type": "stream",
       "stream": "stdout",
       "text": [
        "\n",
        "Fitting TensorModel params using dipy"
       ]
      },
      {
       "output_type": "stream",
       "stream": "stdout",
       "text": [
        "\n",
        "Fitting TensorModel params using dipy"
       ]
      },
      {
       "output_type": "stream",
       "stream": "stdout",
       "text": [
        "\n",
        "Predicting signal from SparseDeconvolutionModel with ElasticNet(alpha=0.005, copy_X=True, fit_intercept=False, l1_ratio=0.2,\n",
        "      max_iter=1000, normalize=False, positive=True, precompute=auto,\n",
        "      rho=None, tol=0.0001, warm_start=False)"
       ]
      },
      {
       "output_type": "stream",
       "stream": "stdout",
       "text": [
        "\n",
        "Loading params from file: /biac4/wandell/biac2/wandell6/data/arokem/osmosis/FP/0009_01_DWI_2mm150dir_2x_b1000_aligned_trilin_SSD_l1ratio0.2_alpha0.005.nii.gz"
       ]
      },
      {
       "output_type": "stream",
       "stream": "stdout",
       "text": [
        "\n",
        "Predicting signal from SparseDeconvolutionModel with ElasticNet(alpha=0.005, copy_X=True, fit_intercept=False, l1_ratio=0.2,\n",
        "      max_iter=1000, normalize=False, positive=True, precompute=auto,\n",
        "      rho=None, tol=0.0001, warm_start=False)"
       ]
      },
      {
       "output_type": "stream",
       "stream": "stdout",
       "text": [
        "\n",
        "Loading params from file: /biac4/wandell/biac2/wandell6/data/arokem/osmosis/FP/0011_01_DWI_2mm150dir_2x_b1000_aligned_trilin_SSD_l1ratio0.2_alpha0.005.nii.gz"
       ]
      },
      {
       "output_type": "stream",
       "stream": "stdout",
       "text": [
        "\n",
        "Predicting signal from SparseDeconvolutionModel with ElasticNet(alpha=0.005, copy_X=True, fit_intercept=False, l1_ratio=0.2,\n",
        "      max_iter=1000, normalize=False, positive=True, precompute=auto,\n",
        "      rho=None, tol=0.0001, warm_start=False)"
       ]
      },
      {
       "output_type": "stream",
       "stream": "stdout",
       "text": [
        "\n",
        "Predicting signal from SparseDeconvolutionModel with ElasticNet(alpha=0.005, copy_X=True, fit_intercept=False, l1_ratio=0.2,\n",
        "      max_iter=1000, normalize=False, positive=True, precompute=auto,\n",
        "      rho=None, tol=0.0001, warm_start=False)"
       ]
      },
      {
       "output_type": "stream",
       "stream": "stdout",
       "text": [
        "\n",
        "Fitting TensorModel params using dipy"
       ]
      },
      {
       "output_type": "stream",
       "stream": "stdout",
       "text": [
        "\n",
        "Fitting TensorModel params using dipy"
       ]
      },
      {
       "output_type": "stream",
       "stream": "stdout",
       "text": [
        "\n",
        "Predicting signal from SparseDeconvolutionModel with ElasticNet(alpha=0.0075, copy_X=True, fit_intercept=False, l1_ratio=0.2,\n",
        "      max_iter=1000, normalize=False, positive=True, precompute=auto,\n",
        "      rho=None, tol=0.0001, warm_start=False)"
       ]
      },
      {
       "output_type": "stream",
       "stream": "stdout",
       "text": [
        "\n",
        "Loading params from file: /biac4/wandell/biac2/wandell6/data/arokem/osmosis/FP/0009_01_DWI_2mm150dir_2x_b1000_aligned_trilin_SSD_l1ratio0.2_alpha0.0075.nii.gz"
       ]
      },
      {
       "output_type": "stream",
       "stream": "stdout",
       "text": [
        "\n",
        "Predicting signal from SparseDeconvolutionModel with ElasticNet(alpha=0.0075, copy_X=True, fit_intercept=False, l1_ratio=0.2,\n",
        "      max_iter=1000, normalize=False, positive=True, precompute=auto,\n",
        "      rho=None, tol=0.0001, warm_start=False)"
       ]
      },
      {
       "output_type": "stream",
       "stream": "stdout",
       "text": [
        "\n",
        "Loading params from file: /biac4/wandell/biac2/wandell6/data/arokem/osmosis/FP/0011_01_DWI_2mm150dir_2x_b1000_aligned_trilin_SSD_l1ratio0.2_alpha0.0075.nii.gz"
       ]
      },
      {
       "output_type": "stream",
       "stream": "stdout",
       "text": [
        "\n",
        "Predicting signal from SparseDeconvolutionModel with ElasticNet(alpha=0.0075, copy_X=True, fit_intercept=False, l1_ratio=0.2,\n",
        "      max_iter=1000, normalize=False, positive=True, precompute=auto,\n",
        "      rho=None, tol=0.0001, warm_start=False)"
       ]
      },
      {
       "output_type": "stream",
       "stream": "stdout",
       "text": [
        "\n",
        "Predicting signal from SparseDeconvolutionModel with ElasticNet(alpha=0.0075, copy_X=True, fit_intercept=False, l1_ratio=0.2,\n",
        "      max_iter=1000, normalize=False, positive=True, precompute=auto,\n",
        "      rho=None, tol=0.0001, warm_start=False)"
       ]
      },
      {
       "output_type": "stream",
       "stream": "stdout",
       "text": [
        "\n",
        "Fitting TensorModel params using dipy"
       ]
      },
      {
       "output_type": "stream",
       "stream": "stdout",
       "text": [
        "\n",
        "Fitting TensorModel params using dipy"
       ]
      },
      {
       "output_type": "stream",
       "stream": "stdout",
       "text": [
        "\n",
        "Predicting signal from SparseDeconvolutionModel with ElasticNet(alpha=0.01, copy_X=True, fit_intercept=False, l1_ratio=0.2,\n",
        "      max_iter=1000, normalize=False, positive=True, precompute=auto,\n",
        "      rho=None, tol=0.0001, warm_start=False)"
       ]
      },
      {
       "output_type": "stream",
       "stream": "stdout",
       "text": [
        "\n",
        "Loading params from file: /biac4/wandell/biac2/wandell6/data/arokem/osmosis/FP/0009_01_DWI_2mm150dir_2x_b1000_aligned_trilin_SSD_l1ratio0.2_alpha0.01.nii.gz"
       ]
      },
      {
       "output_type": "stream",
       "stream": "stdout",
       "text": [
        "\n",
        "Predicting signal from SparseDeconvolutionModel with ElasticNet(alpha=0.01, copy_X=True, fit_intercept=False, l1_ratio=0.2,\n",
        "      max_iter=1000, normalize=False, positive=True, precompute=auto,\n",
        "      rho=None, tol=0.0001, warm_start=False)"
       ]
      },
      {
       "output_type": "stream",
       "stream": "stdout",
       "text": [
        "\n",
        "Loading params from file: /biac4/wandell/biac2/wandell6/data/arokem/osmosis/FP/0011_01_DWI_2mm150dir_2x_b1000_aligned_trilin_SSD_l1ratio0.2_alpha0.01.nii.gz"
       ]
      },
      {
       "output_type": "stream",
       "stream": "stdout",
       "text": [
        "\n",
        "Predicting signal from SparseDeconvolutionModel with ElasticNet(alpha=0.01, copy_X=True, fit_intercept=False, l1_ratio=0.2,\n",
        "      max_iter=1000, normalize=False, positive=True, precompute=auto,\n",
        "      rho=None, tol=0.0001, warm_start=False)"
       ]
      },
      {
       "output_type": "stream",
       "stream": "stdout",
       "text": [
        "\n",
        "Predicting signal from SparseDeconvolutionModel with ElasticNet(alpha=0.01, copy_X=True, fit_intercept=False, l1_ratio=0.2,\n",
        "      max_iter=1000, normalize=False, positive=True, precompute=auto,\n",
        "      rho=None, tol=0.0001, warm_start=False)"
       ]
      },
      {
       "output_type": "stream",
       "stream": "stdout",
       "text": [
        "\n",
        "Fitting TensorModel params using dipy"
       ]
      },
      {
       "output_type": "stream",
       "stream": "stdout",
       "text": [
        "\n",
        "Fitting TensorModel params using dipy"
       ]
      },
      {
       "output_type": "stream",
       "stream": "stdout",
       "text": [
        "\n",
        "Predicting signal from SparseDeconvolutionModel with ElasticNet(alpha=0.025, copy_X=True, fit_intercept=False, l1_ratio=0.2,\n",
        "      max_iter=1000, normalize=False, positive=True, precompute=auto,\n",
        "      rho=None, tol=0.0001, warm_start=False)"
       ]
      },
      {
       "output_type": "stream",
       "stream": "stdout",
       "text": [
        "\n",
        "Loading params from file: /biac4/wandell/biac2/wandell6/data/arokem/osmosis/FP/0009_01_DWI_2mm150dir_2x_b1000_aligned_trilin_SSD_l1ratio0.2_alpha0.025.nii.gz"
       ]
      },
      {
       "output_type": "stream",
       "stream": "stdout",
       "text": [
        "\n",
        "Predicting signal from SparseDeconvolutionModel with ElasticNet(alpha=0.025, copy_X=True, fit_intercept=False, l1_ratio=0.2,\n",
        "      max_iter=1000, normalize=False, positive=True, precompute=auto,\n",
        "      rho=None, tol=0.0001, warm_start=False)"
       ]
      },
      {
       "output_type": "stream",
       "stream": "stdout",
       "text": [
        "\n",
        "Loading params from file: /biac4/wandell/biac2/wandell6/data/arokem/osmosis/FP/0011_01_DWI_2mm150dir_2x_b1000_aligned_trilin_SSD_l1ratio0.2_alpha0.025.nii.gz"
       ]
      },
      {
       "output_type": "stream",
       "stream": "stdout",
       "text": [
        "\n",
        "Predicting signal from SparseDeconvolutionModel with ElasticNet(alpha=0.025, copy_X=True, fit_intercept=False, l1_ratio=0.2,\n",
        "      max_iter=1000, normalize=False, positive=True, precompute=auto,\n",
        "      rho=None, tol=0.0001, warm_start=False)"
       ]
      },
      {
       "output_type": "stream",
       "stream": "stdout",
       "text": [
        "\n",
        "Predicting signal from SparseDeconvolutionModel with ElasticNet(alpha=0.025, copy_X=True, fit_intercept=False, l1_ratio=0.2,\n",
        "      max_iter=1000, normalize=False, positive=True, precompute=auto,\n",
        "      rho=None, tol=0.0001, warm_start=False)"
       ]
      },
      {
       "output_type": "stream",
       "stream": "stdout",
       "text": [
        "\n",
        "Fitting TensorModel params using dipy"
       ]
      },
      {
       "output_type": "stream",
       "stream": "stdout",
       "text": [
        "\n",
        "Fitting TensorModel params using dipy"
       ]
      }
     ],
     "prompt_number": "*"
    },
    {
     "cell_type": "markdown",
     "metadata": {},
     "source": [
      "The results are visualized: "
     ]
    },
    {
     "cell_type": "code",
     "collapsed": false,
     "input": [
      "for b in [1000, 2000, 4000]:\n",
      "    fig, ax = plt.subplots(1)\n",
      "    #cax = ax.imshow(rmse_matrix[b], interpolation='nearest', cmap=cm.RdYlGn_r, vmax=1.5, vmin=0.5)\n",
      "    #cbar = fig.colorbar(cax, ticks=[0.5, 1., 1.5])\n",
      "    #cax.axes.set_xticks([0,1,2,3,4,5,6,7,8])\n",
      "    #cax.axes.set_xticklabels([str('%1.4f'%this) for this in alphas])\n",
      "    #cax.axes.set_xlabel(r'$\\lambda$')\n",
      "    #cax.axes.set_yticks([0,1,2,3,4,5])\n",
      "    #cax.axes.set_yticklabels([str('%1.1f'%(1-this)) for this in rhos])\n",
      "\n",
      "    cax.axes.set_ylabel(r'$\\alpha$')\n",
      "    im = ax.matshow(rmse_matrix[b], cmap=matplotlib.cm.RdYlGn_r)\n",
      "    fig.set_size_inches([8,6])\n",
      "    fig.savefig('figures/Figure5_acc_b%s.svg'%b)\n",
      "    plt.colorbar(im)\n"
     ],
     "language": "python",
     "metadata": {},
     "outputs": [],
     "prompt_number": "*"
    },
    {
     "cell_type": "markdown",
     "metadata": {},
     "source": [
      "We seek the values that minimize median rRMSE:"
     ]
    },
    {
     "cell_type": "code",
     "collapsed": false,
     "input": [
      "#plot(rmse_matrix[1000][:,0])\n",
      "#plot(rmse_matrix[1000][:,1])\n",
      "#plot(rmse_matrix[1000][:,2])\n",
      "#plot(rmse_matrix[1000][:,-1])\n",
      "\n",
      "#print rmse_matrix[1000][4,0],rmse_matrix[1000][1,0]\n",
      "#print rmse_matrix[2000][4,0],rmse_matrix[2000][1,0]\n",
      "#print rmse_matrix[4000][4,0],rmse_matrix[4000][1,0]\n",
      "\n",
      "#print rmse_matrix[1000][4,1],rmse_matrix[1000][1,1]\n",
      "#print rmse_matrix[2000][4,1],rmse_matrix[2000][1,1]\n",
      "#print rmse_matrix[4000][4,1],rmse_matrix[4000][1,1]\n",
      "\n",
      "print rmse_matrix[1000][0,7],rmse_matrix[1000][2,1]\n",
      "print rmse_matrix[2000][0,7],rmse_matrix[2000][2,1]\n",
      "print rmse_matrix[4000][0,7],rmse_matrix[4000][2,1]\n",
      "\n",
      "\n",
      "print rmse_matrix[1000][5,0],rmse_matrix[1000][2,1]\n",
      "print rmse_matrix[2000][5,0],rmse_matrix[2000][2,1]\n",
      "print rmse_matrix[4000][5,0],rmse_matrix[4000][2,1]\n",
      "\n",
      "\n",
      "print np.where(rmse_matrix[1000]==np.min(rmse_matrix[1000]))\n",
      "#print np.where(rmse_matrix[2000]==np.min(rmse_matrix[2000]))\n",
      "#print np.where(rmse_matrix[4000]==np.min(rmse_matrix[4000]))\n",
      "\n",
      "#print np.min(rmse_matrix[1000])\n",
      "#print np.min(rmse_matrix[2000])\n",
      "#print np.min(rmse_matrix[4000])"
     ],
     "language": "python",
     "metadata": {},
     "outputs": [],
     "prompt_number": "*"
    },
    {
     "cell_type": "markdown",
     "metadata": {},
     "source": [
      "Reliability of the PDD is also quantified: "
     ]
    },
    {
     "cell_type": "code",
     "collapsed": false,
     "input": [
      "for b in [1000, 2000, 4000]:\n",
      "    fig, ax = plt.subplots(1)\n",
      "    cax = ax.imshow(rel_matrix[b], interpolation='nearest', cmap=cm.OrRd, vmax=90, vmin=0)\n",
      "    cbar = fig.colorbar(cax)\n",
      "    cax.axes.set_xticks([0,1,2,3,4,5,6,7,8])\n",
      "    cax.axes.set_xticklabels([str('%1.4f'%this) for this in alphas])\n",
      "    cax.axes.set_xlabel(r'$\\lambda$')\n",
      "    cax.axes.set_yticks([0,1,2,3,4,5])\n",
      "    cax.axes.set_yticklabels([str('%1.1f'%(1-this)) for this in rhos])\n",
      "\n",
      "    cax.axes.set_ylabel(r'$\\alpha$')\n",
      "    #ax.matshow(rmse_matrix[b], cmap=matplotlib.cm.hot)\n",
      "    fig.set_size_inches([8,6])\n",
      "    fig.savefig('figures/Figure5_rel_b%s.svg'%b)"
     ],
     "language": "python",
     "metadata": {},
     "outputs": [],
     "prompt_number": "*"
    },
    {
     "cell_type": "code",
     "collapsed": false,
     "input": [
      "print rel_matrix[1000][4,0],rel_matrix[1000][1,2]\n",
      "print rel_matrix[2000][4,0],rel_matrix[2000][1,2]\n",
      "print rel_matrix[4000][4,0],rel_matrix[4000][1,2]"
     ],
     "language": "python",
     "metadata": {},
     "outputs": [],
     "prompt_number": "*"
    },
    {
     "cell_type": "code",
     "collapsed": false,
     "input": [],
     "language": "python",
     "metadata": {},
     "outputs": [],
     "prompt_number": 11
    }
   ],
   "metadata": {}
  }
 ]
}