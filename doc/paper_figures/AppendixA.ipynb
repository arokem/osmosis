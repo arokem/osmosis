{
 "metadata": {
  "name": "AppendixA"
 },
 "nbformat": 3,
 "nbformat_minor": 0,
 "worksheets": [
  {
   "cells": [
    {
     "cell_type": "code",
     "collapsed": false,
     "input": [
      "import nibabel as ni\n",
      "\n",
      "import osmosis as oz\n",
      "import osmosis.model.analysis as oza\n",
      "import osmosis.model.sparse_deconvolution as ssd\n",
      "import osmosis.model.dti as dti\n",
      "\n",
      "import osmosis.viz.mpl as mpl\n",
      "\n",
      "import osmosis.io as oio\n",
      "oio.data_path = '/biac4/wandell/biac2/wandell6/data/arokem/osmosis'"
     ],
     "language": "python",
     "metadata": {},
     "outputs": [
      {
       "output_type": "stream",
       "stream": "stderr",
       "text": [
        "/usr/lib/python2.7/dist-packages/nose/util.py:14: DeprecationWarning: The compiler package is deprecated and removed in Python 3.x.\n",
        "  from compiler.consts import CO_GENERATOR\n"
       ]
      }
     ],
     "prompt_number": 1
    },
    {
     "cell_type": "code",
     "collapsed": false,
     "input": [
      "subject = 'FP'\n",
      "data_1k_1, data_1k_2 = oio.get_dwi_data(1000, subject)\n",
      "data_2k_1, data_2k_2 = oio.get_dwi_data(2000, subject)\n",
      "data_4k_1, data_4k_2 = oio.get_dwi_data(4000, subject)\n",
      "\n",
      "data_fnames = {1000:[data_1k_1, data_1k_2], 2000:[data_2k_1, data_2k_2], 4000:[data_4k_1, data_4k_2]}"
     ],
     "language": "python",
     "metadata": {},
     "outputs": [],
     "prompt_number": 2
    },
    {
     "cell_type": "code",
     "collapsed": false,
     "input": [
      "# Read all the data into arrays up front to save time in the main loop below:\n",
      "data = {}\n",
      "for b in data_fnames:\n",
      "    data[b] = [[ni.load(data_fnames[b][i][0]).get_data(), np.loadtxt(data_fnames[b][i][1]), np.loadtxt(data_fnames[b][i][2])] for i in [0,1]]"
     ],
     "language": "python",
     "metadata": {},
     "outputs": [],
     "prompt_number": 3
    },
    {
     "cell_type": "code",
     "collapsed": false,
     "input": [
      "wm_mask = np.zeros(ni.load(data_1k_1[0]).shape[:3])\n",
      "wm_nifti = ni.load(oio.data_path + '/%s/%s_wm_mask.nii.gz'%(subject, subject)).get_data()\n",
      "wm_mask[np.where(wm_nifti==1)] = 1"
     ],
     "language": "python",
     "metadata": {},
     "outputs": [],
     "prompt_number": 4
    },
    {
     "cell_type": "code",
     "collapsed": false,
     "input": [
      "alphas = [0.0001, 0.0005, 0.001, 0.0025, 0.005, 0.0075, 0.01, 0.025, 0.05]\n",
      "rhos = [0.0, 0.2, 0.4, 0.6, 0.8, 1.0]"
     ],
     "language": "python",
     "metadata": {},
     "outputs": [],
     "prompt_number": 5
    },
    {
     "cell_type": "code",
     "collapsed": false,
     "input": [
      "def tensor_reliability(SD_1, SD_2, wm_mask):\n",
      "    \"\"\" \n",
      "    given two SD models, calculate the reliability of the PDD of the derived tensor models\n",
      "    \"\"\"\n",
      "    pred1 = np.concatenate([SD_1.S0[...,np.newaxis], SD_1.fit], -1)\n",
      "    pred2 = np.concatenate([SD_2.S0[...,np.newaxis], SD_2.fit], -1)\n",
      "    \n",
      "    new_bvecs1 = np.concatenate([np.array([[0,0,0]]).T, SD_1.bvecs[:, SD_1.b_idx]], -1)\n",
      "    new_bvecs2 = np.concatenate([np.array([[0,0,0]]).T, SD_2.bvecs[:, SD_2.b_idx]], -1)\n",
      "    \n",
      "    # Freely assume that the bvals are the same \n",
      "    new_bvals = np.hstack([0, SD_1.bvals[:,SD_1.b_idx]])\n",
      "    TM1 = dti.TensorModel(pred1, new_bvecs1, new_bvals, mask=wm_mask, params_file='temp')\n",
      "    TM2 = dti.TensorModel(pred2, new_bvecs2, new_bvals, mask=wm_mask, params_file='temp')\n",
      "    pdd_rel = oza.pdd_reliability(TM1, TM2)\n",
      "    \n",
      "    return pdd_rel"
     ],
     "language": "python",
     "metadata": {},
     "outputs": [],
     "prompt_number": 6
    },
    {
     "cell_type": "code",
     "collapsed": false,
     "input": [
      "rmse_matrix = {}\n",
      "rel_matrix = {}\n",
      "for b in [1000, 2000, 4000]:\n",
      "    ad_rd = oio.get_ad_rd(subject, b)\n",
      "    rmse_matrix[b] = np.zeros((len(rhos), len(alphas)))\n",
      "    rel_matrix[b] = np.zeros((len(rhos), len(alphas)))\n",
      "    for rho_idx, this_rho in enumerate(rhos):\n",
      "        for alpha_idx, this_alpha in enumerate(alphas):\n",
      "            solver_params = dict(alpha=this_alpha,\n",
      "                                 rho=this_rho,\n",
      "                                 fit_intercept=False,\n",
      "                                 positive=True)\n",
      "            \n",
      "            params_file1 = \"%s_SSD_rho%s_alpha%s.nii.gz\"%(oio.data_path + '/%s/'%subject + data_fnames[b][0][0].split('/')[-1].split('.')[0], this_rho,this_alpha)\n",
      "            SD_1 = ssd.SparseDeconvolutionModel(*data[b][0], mask=wm_mask, params_file=params_file1, solver_params=solver_params, \n",
      "                                                axial_diffusivity=ad_rd[0]['AD'], radial_diffusivity=ad_rd[0]['RD'])\n",
      "            params_file2 = \"%s_SSD_rho%s_alpha%s.nii.gz\"%(oio.data_path + '/%s/'%subject + data_fnames[b][1][0].split('/')[-1].split('.')[0], this_rho,this_alpha)\n",
      "            SD_2 = ssd.SparseDeconvolutionModel(*data[b][1], mask=wm_mask, params_file=params_file2, solver_params=solver_params,\n",
      "                                                axial_diffusivity=ad_rd[1]['AD'], radial_diffusivity=ad_rd[1]['RD'])\n",
      "            \n",
      "            rrmse = oza.cross_predict(SD_1, SD_2)\n",
      "            median_rmse = np.median(rrmse[np.isfinite(rrmse)])\n",
      "            rmse_matrix[b][rho_idx, alpha_idx] = median_rmse\n",
      "            \n",
      "            #rel = tensor_reliability(SD_1, SD_2, wm_mask)\n",
      "            #median_rel = np.median(rel[np.isfinite(rel)])\n",
      "            #rel_matrix[b][rho_idx, alpha_idx] = median_rel\n",
      "            \n"
     ],
     "language": "python",
     "metadata": {},
     "outputs": [
      {
       "output_type": "stream",
       "stream": "stdout",
       "text": [
        "Predicting signal from SparseDeconvolutionModel with ElasticNet(alpha=0.0001, copy_X=True, fit_intercept=False, max_iter=1000,\n",
        "      normalize=False, positive=True, precompute=auto, rho=0.0, tol=0.0001,\n",
        "      warm_start=False)\n",
        "Loading params from file: /biac4/wandell/biac2/wandell6/data/arokem/osmosis/FP/0009_01_DWI_2mm150dir_2x_b1000_aligned_trilin_SSD_rho0.0_alpha0.0001.nii.gz"
       ]
      },
      {
       "output_type": "stream",
       "stream": "stdout",
       "text": [
        "\n",
        "Predicting signal from SparseDeconvolutionModel with ElasticNet(alpha=0.0001, copy_X=True, fit_intercept=False, max_iter=1000,\n",
        "      normalize=False, positive=True, precompute=auto, rho=0.0, tol=0.0001,\n",
        "      warm_start=False)"
       ]
      },
      {
       "output_type": "stream",
       "stream": "stdout",
       "text": [
        "\n",
        "Loading params from file: /biac4/wandell/biac2/wandell6/data/arokem/osmosis/FP/0011_01_DWI_2mm150dir_2x_b1000_aligned_trilin_SSD_rho0.0_alpha0.0001.nii.gz"
       ]
      },
      {
       "output_type": "stream",
       "stream": "stdout",
       "text": [
        "\n",
        "Predicting signal from SparseDeconvolutionModel with ElasticNet(alpha=0.0005, copy_X=True, fit_intercept=False, max_iter=1000,\n",
        "      normalize=False, positive=True, precompute=auto, rho=0.0, tol=0.0001,\n",
        "      warm_start=False)"
       ]
      },
      {
       "output_type": "stream",
       "stream": "stdout",
       "text": [
        "\n",
        "Loading params from file: /biac4/wandell/biac2/wandell6/data/arokem/osmosis/FP/0009_01_DWI_2mm150dir_2x_b1000_aligned_trilin_SSD_rho0.0_alpha0.0005.nii.gz"
       ]
      },
      {
       "output_type": "stream",
       "stream": "stdout",
       "text": [
        "\n",
        "Predicting signal from SparseDeconvolutionModel with ElasticNet(alpha=0.0005, copy_X=True, fit_intercept=False, max_iter=1000,\n",
        "      normalize=False, positive=True, precompute=auto, rho=0.0, tol=0.0001,\n",
        "      warm_start=False)"
       ]
      },
      {
       "output_type": "stream",
       "stream": "stdout",
       "text": [
        "\n",
        "Loading params from file: /biac4/wandell/biac2/wandell6/data/arokem/osmosis/FP/0011_01_DWI_2mm150dir_2x_b1000_aligned_trilin_SSD_rho0.0_alpha0.0005.nii.gz"
       ]
      },
      {
       "output_type": "stream",
       "stream": "stdout",
       "text": [
        "\n",
        "Predicting signal from SparseDeconvolutionModel with ElasticNet(alpha=0.001, copy_X=True, fit_intercept=False, max_iter=1000,\n",
        "      normalize=False, positive=True, precompute=auto, rho=0.0, tol=0.0001,\n",
        "      warm_start=False)"
       ]
      },
      {
       "output_type": "stream",
       "stream": "stdout",
       "text": [
        "\n",
        "Loading params from file: /biac4/wandell/biac2/wandell6/data/arokem/osmosis/FP/0009_01_DWI_2mm150dir_2x_b1000_aligned_trilin_SSD_rho0.0_alpha0.001.nii.gz"
       ]
      },
      {
       "output_type": "stream",
       "stream": "stdout",
       "text": [
        "\n",
        "Predicting signal from SparseDeconvolutionModel with ElasticNet(alpha=0.001, copy_X=True, fit_intercept=False, max_iter=1000,\n",
        "      normalize=False, positive=True, precompute=auto, rho=0.0, tol=0.0001,\n",
        "      warm_start=False)"
       ]
      },
      {
       "output_type": "stream",
       "stream": "stdout",
       "text": [
        "\n",
        "Loading params from file: /biac4/wandell/biac2/wandell6/data/arokem/osmosis/FP/0011_01_DWI_2mm150dir_2x_b1000_aligned_trilin_SSD_rho0.0_alpha0.001.nii.gz"
       ]
      },
      {
       "output_type": "stream",
       "stream": "stdout",
       "text": [
        "\n",
        "Predicting signal from SparseDeconvolutionModel with ElasticNet(alpha=0.0025, copy_X=True, fit_intercept=False, max_iter=1000,\n",
        "      normalize=False, positive=True, precompute=auto, rho=0.0, tol=0.0001,\n",
        "      warm_start=False)"
       ]
      },
      {
       "output_type": "stream",
       "stream": "stdout",
       "text": [
        "\n",
        "Loading params from file: /biac4/wandell/biac2/wandell6/data/arokem/osmosis/FP/0009_01_DWI_2mm150dir_2x_b1000_aligned_trilin_SSD_rho0.0_alpha0.0025.nii.gz"
       ]
      },
      {
       "output_type": "stream",
       "stream": "stdout",
       "text": [
        "\n",
        "Predicting signal from SparseDeconvolutionModel with ElasticNet(alpha=0.0025, copy_X=True, fit_intercept=False, max_iter=1000,\n",
        "      normalize=False, positive=True, precompute=auto, rho=0.0, tol=0.0001,\n",
        "      warm_start=False)"
       ]
      },
      {
       "output_type": "stream",
       "stream": "stdout",
       "text": [
        "\n",
        "Loading params from file: /biac4/wandell/biac2/wandell6/data/arokem/osmosis/FP/0011_01_DWI_2mm150dir_2x_b1000_aligned_trilin_SSD_rho0.0_alpha0.0025.nii.gz"
       ]
      },
      {
       "output_type": "stream",
       "stream": "stdout",
       "text": [
        "\n",
        "Predicting signal from SparseDeconvolutionModel with ElasticNet(alpha=0.005, copy_X=True, fit_intercept=False, max_iter=1000,\n",
        "      normalize=False, positive=True, precompute=auto, rho=0.0, tol=0.0001,\n",
        "      warm_start=False)"
       ]
      },
      {
       "output_type": "stream",
       "stream": "stdout",
       "text": [
        "\n",
        "Loading params from file: /biac4/wandell/biac2/wandell6/data/arokem/osmosis/FP/0009_01_DWI_2mm150dir_2x_b1000_aligned_trilin_SSD_rho0.0_alpha0.005.nii.gz"
       ]
      },
      {
       "output_type": "stream",
       "stream": "stdout",
       "text": [
        "\n",
        "Predicting signal from SparseDeconvolutionModel with ElasticNet(alpha=0.005, copy_X=True, fit_intercept=False, max_iter=1000,\n",
        "      normalize=False, positive=True, precompute=auto, rho=0.0, tol=0.0001,\n",
        "      warm_start=False)"
       ]
      },
      {
       "output_type": "stream",
       "stream": "stdout",
       "text": [
        "\n",
        "Loading params from file: /biac4/wandell/biac2/wandell6/data/arokem/osmosis/FP/0011_01_DWI_2mm150dir_2x_b1000_aligned_trilin_SSD_rho0.0_alpha0.005.nii.gz"
       ]
      },
      {
       "output_type": "stream",
       "stream": "stdout",
       "text": [
        "\n",
        "Predicting signal from SparseDeconvolutionModel with ElasticNet(alpha=0.0075, copy_X=True, fit_intercept=False, max_iter=1000,\n",
        "      normalize=False, positive=True, precompute=auto, rho=0.0, tol=0.0001,\n",
        "      warm_start=False)"
       ]
      },
      {
       "output_type": "stream",
       "stream": "stdout",
       "text": [
        "\n",
        "Loading params from file: /biac4/wandell/biac2/wandell6/data/arokem/osmosis/FP/0009_01_DWI_2mm150dir_2x_b1000_aligned_trilin_SSD_rho0.0_alpha0.0075.nii.gz"
       ]
      },
      {
       "output_type": "stream",
       "stream": "stdout",
       "text": [
        "\n",
        "Predicting signal from SparseDeconvolutionModel with ElasticNet(alpha=0.0075, copy_X=True, fit_intercept=False, max_iter=1000,\n",
        "      normalize=False, positive=True, precompute=auto, rho=0.0, tol=0.0001,\n",
        "      warm_start=False)"
       ]
      },
      {
       "output_type": "stream",
       "stream": "stdout",
       "text": [
        "\n",
        "Loading params from file: /biac4/wandell/biac2/wandell6/data/arokem/osmosis/FP/0011_01_DWI_2mm150dir_2x_b1000_aligned_trilin_SSD_rho0.0_alpha0.0075.nii.gz"
       ]
      },
      {
       "output_type": "stream",
       "stream": "stdout",
       "text": [
        "\n",
        "Predicting signal from SparseDeconvolutionModel with ElasticNet(alpha=0.01, copy_X=True, fit_intercept=False, max_iter=1000,\n",
        "      normalize=False, positive=True, precompute=auto, rho=0.0, tol=0.0001,\n",
        "      warm_start=False)"
       ]
      },
      {
       "output_type": "stream",
       "stream": "stdout",
       "text": [
        "\n",
        "Loading params from file: /biac4/wandell/biac2/wandell6/data/arokem/osmosis/FP/0009_01_DWI_2mm150dir_2x_b1000_aligned_trilin_SSD_rho0.0_alpha0.01.nii.gz"
       ]
      },
      {
       "output_type": "stream",
       "stream": "stdout",
       "text": [
        "\n",
        "Predicting signal from SparseDeconvolutionModel with ElasticNet(alpha=0.01, copy_X=True, fit_intercept=False, max_iter=1000,\n",
        "      normalize=False, positive=True, precompute=auto, rho=0.0, tol=0.0001,\n",
        "      warm_start=False)"
       ]
      },
      {
       "output_type": "stream",
       "stream": "stdout",
       "text": [
        "\n",
        "Loading params from file: /biac4/wandell/biac2/wandell6/data/arokem/osmosis/FP/0011_01_DWI_2mm150dir_2x_b1000_aligned_trilin_SSD_rho0.0_alpha0.01.nii.gz"
       ]
      },
      {
       "output_type": "stream",
       "stream": "stdout",
       "text": [
        "\n",
        "Predicting signal from SparseDeconvolutionModel with ElasticNet(alpha=0.025, copy_X=True, fit_intercept=False, max_iter=1000,\n",
        "      normalize=False, positive=True, precompute=auto, rho=0.0, tol=0.0001,\n",
        "      warm_start=False)"
       ]
      },
      {
       "output_type": "stream",
       "stream": "stdout",
       "text": [
        "\n",
        "Loading params from file: /biac4/wandell/biac2/wandell6/data/arokem/osmosis/FP/0009_01_DWI_2mm150dir_2x_b1000_aligned_trilin_SSD_rho0.0_alpha0.025.nii.gz"
       ]
      },
      {
       "output_type": "stream",
       "stream": "stdout",
       "text": [
        "\n",
        "Predicting signal from SparseDeconvolutionModel with ElasticNet(alpha=0.025, copy_X=True, fit_intercept=False, max_iter=1000,\n",
        "      normalize=False, positive=True, precompute=auto, rho=0.0, tol=0.0001,\n",
        "      warm_start=False)"
       ]
      },
      {
       "output_type": "stream",
       "stream": "stdout",
       "text": [
        "\n",
        "Loading params from file: /biac4/wandell/biac2/wandell6/data/arokem/osmosis/FP/0011_01_DWI_2mm150dir_2x_b1000_aligned_trilin_SSD_rho0.0_alpha0.025.nii.gz"
       ]
      },
      {
       "output_type": "stream",
       "stream": "stdout",
       "text": [
        "\n",
        "Predicting signal from SparseDeconvolutionModel with ElasticNet(alpha=0.05, copy_X=True, fit_intercept=False, max_iter=1000,\n",
        "      normalize=False, positive=True, precompute=auto, rho=0.0, tol=0.0001,\n",
        "      warm_start=False)"
       ]
      },
      {
       "output_type": "stream",
       "stream": "stdout",
       "text": [
        "\n",
        "Loading params from file: /biac4/wandell/biac2/wandell6/data/arokem/osmosis/FP/0009_01_DWI_2mm150dir_2x_b1000_aligned_trilin_SSD_rho0.0_alpha0.05.nii.gz"
       ]
      },
      {
       "output_type": "stream",
       "stream": "stdout",
       "text": [
        "\n",
        "Predicting signal from SparseDeconvolutionModel with ElasticNet(alpha=0.05, copy_X=True, fit_intercept=False, max_iter=1000,\n",
        "      normalize=False, positive=True, precompute=auto, rho=0.0, tol=0.0001,\n",
        "      warm_start=False)"
       ]
      },
      {
       "output_type": "stream",
       "stream": "stdout",
       "text": [
        "\n",
        "Loading params from file: /biac4/wandell/biac2/wandell6/data/arokem/osmosis/FP/0011_01_DWI_2mm150dir_2x_b1000_aligned_trilin_SSD_rho0.0_alpha0.05.nii.gz"
       ]
      },
      {
       "output_type": "stream",
       "stream": "stdout",
       "text": [
        "\n",
        "Predicting signal from SparseDeconvolutionModel with ElasticNet(alpha=0.0001, copy_X=True, fit_intercept=False, max_iter=1000,\n",
        "      normalize=False, positive=True, precompute=auto, rho=0.2, tol=0.0001,\n",
        "      warm_start=False)"
       ]
      },
      {
       "output_type": "stream",
       "stream": "stdout",
       "text": [
        "\n",
        "Loading params from file: /biac4/wandell/biac2/wandell6/data/arokem/osmosis/FP/0009_01_DWI_2mm150dir_2x_b1000_aligned_trilin_SSD_rho0.2_alpha0.0001.nii.gz"
       ]
      },
      {
       "output_type": "stream",
       "stream": "stdout",
       "text": [
        "\n",
        "Predicting signal from SparseDeconvolutionModel with ElasticNet(alpha=0.0001, copy_X=True, fit_intercept=False, max_iter=1000,\n",
        "      normalize=False, positive=True, precompute=auto, rho=0.2, tol=0.0001,\n",
        "      warm_start=False)"
       ]
      },
      {
       "output_type": "stream",
       "stream": "stdout",
       "text": [
        "\n",
        "Loading params from file: /biac4/wandell/biac2/wandell6/data/arokem/osmosis/FP/0011_01_DWI_2mm150dir_2x_b1000_aligned_trilin_SSD_rho0.2_alpha0.0001.nii.gz"
       ]
      },
      {
       "output_type": "stream",
       "stream": "stdout",
       "text": [
        "\n",
        "Predicting signal from SparseDeconvolutionModel with ElasticNet(alpha=0.0005, copy_X=True, fit_intercept=False, max_iter=1000,\n",
        "      normalize=False, positive=True, precompute=auto, rho=0.2, tol=0.0001,\n",
        "      warm_start=False)"
       ]
      },
      {
       "output_type": "stream",
       "stream": "stdout",
       "text": [
        "\n",
        "Loading params from file: /biac4/wandell/biac2/wandell6/data/arokem/osmosis/FP/0009_01_DWI_2mm150dir_2x_b1000_aligned_trilin_SSD_rho0.2_alpha0.0005.nii.gz"
       ]
      },
      {
       "output_type": "stream",
       "stream": "stdout",
       "text": [
        "\n",
        "Predicting signal from SparseDeconvolutionModel with ElasticNet(alpha=0.0005, copy_X=True, fit_intercept=False, max_iter=1000,\n",
        "      normalize=False, positive=True, precompute=auto, rho=0.2, tol=0.0001,\n",
        "      warm_start=False)"
       ]
      },
      {
       "output_type": "stream",
       "stream": "stdout",
       "text": [
        "\n",
        "Loading params from file: /biac4/wandell/biac2/wandell6/data/arokem/osmosis/FP/0011_01_DWI_2mm150dir_2x_b1000_aligned_trilin_SSD_rho0.2_alpha0.0005.nii.gz"
       ]
      },
      {
       "output_type": "stream",
       "stream": "stdout",
       "text": [
        "\n",
        "Predicting signal from SparseDeconvolutionModel with ElasticNet(alpha=0.001, copy_X=True, fit_intercept=False, max_iter=1000,\n",
        "      normalize=False, positive=True, precompute=auto, rho=0.2, tol=0.0001,\n",
        "      warm_start=False)"
       ]
      },
      {
       "output_type": "stream",
       "stream": "stdout",
       "text": [
        "\n",
        "Loading params from file: /biac4/wandell/biac2/wandell6/data/arokem/osmosis/FP/0009_01_DWI_2mm150dir_2x_b1000_aligned_trilin_SSD_rho0.2_alpha0.001.nii.gz"
       ]
      },
      {
       "output_type": "stream",
       "stream": "stdout",
       "text": [
        "\n",
        "Predicting signal from SparseDeconvolutionModel with ElasticNet(alpha=0.001, copy_X=True, fit_intercept=False, max_iter=1000,\n",
        "      normalize=False, positive=True, precompute=auto, rho=0.2, tol=0.0001,\n",
        "      warm_start=False)"
       ]
      },
      {
       "output_type": "stream",
       "stream": "stdout",
       "text": [
        "\n",
        "Loading params from file: /biac4/wandell/biac2/wandell6/data/arokem/osmosis/FP/0011_01_DWI_2mm150dir_2x_b1000_aligned_trilin_SSD_rho0.2_alpha0.001.nii.gz"
       ]
      },
      {
       "output_type": "stream",
       "stream": "stdout",
       "text": [
        "\n",
        "Predicting signal from SparseDeconvolutionModel with ElasticNet(alpha=0.0025, copy_X=True, fit_intercept=False, max_iter=1000,\n",
        "      normalize=False, positive=True, precompute=auto, rho=0.2, tol=0.0001,\n",
        "      warm_start=False)"
       ]
      },
      {
       "output_type": "stream",
       "stream": "stdout",
       "text": [
        "\n",
        "Loading params from file: /biac4/wandell/biac2/wandell6/data/arokem/osmosis/FP/0009_01_DWI_2mm150dir_2x_b1000_aligned_trilin_SSD_rho0.2_alpha0.0025.nii.gz"
       ]
      },
      {
       "output_type": "stream",
       "stream": "stdout",
       "text": [
        "\n",
        "Predicting signal from SparseDeconvolutionModel with ElasticNet(alpha=0.0025, copy_X=True, fit_intercept=False, max_iter=1000,\n",
        "      normalize=False, positive=True, precompute=auto, rho=0.2, tol=0.0001,\n",
        "      warm_start=False)"
       ]
      },
      {
       "output_type": "stream",
       "stream": "stdout",
       "text": [
        "\n",
        "Loading params from file: /biac4/wandell/biac2/wandell6/data/arokem/osmosis/FP/0011_01_DWI_2mm150dir_2x_b1000_aligned_trilin_SSD_rho0.2_alpha0.0025.nii.gz"
       ]
      },
      {
       "output_type": "stream",
       "stream": "stdout",
       "text": [
        "\n",
        "Predicting signal from SparseDeconvolutionModel with ElasticNet(alpha=0.005, copy_X=True, fit_intercept=False, max_iter=1000,\n",
        "      normalize=False, positive=True, precompute=auto, rho=0.2, tol=0.0001,\n",
        "      warm_start=False)"
       ]
      },
      {
       "output_type": "stream",
       "stream": "stdout",
       "text": [
        "\n",
        "Loading params from file: /biac4/wandell/biac2/wandell6/data/arokem/osmosis/FP/0009_01_DWI_2mm150dir_2x_b1000_aligned_trilin_SSD_rho0.2_alpha0.005.nii.gz"
       ]
      },
      {
       "output_type": "stream",
       "stream": "stdout",
       "text": [
        "\n",
        "Predicting signal from SparseDeconvolutionModel with ElasticNet(alpha=0.005, copy_X=True, fit_intercept=False, max_iter=1000,\n",
        "      normalize=False, positive=True, precompute=auto, rho=0.2, tol=0.0001,\n",
        "      warm_start=False)"
       ]
      },
      {
       "output_type": "stream",
       "stream": "stdout",
       "text": [
        "\n",
        "Loading params from file: /biac4/wandell/biac2/wandell6/data/arokem/osmosis/FP/0011_01_DWI_2mm150dir_2x_b1000_aligned_trilin_SSD_rho0.2_alpha0.005.nii.gz"
       ]
      },
      {
       "output_type": "stream",
       "stream": "stdout",
       "text": [
        "\n",
        "Predicting signal from SparseDeconvolutionModel with ElasticNet(alpha=0.0075, copy_X=True, fit_intercept=False, max_iter=1000,\n",
        "      normalize=False, positive=True, precompute=auto, rho=0.2, tol=0.0001,\n",
        "      warm_start=False)"
       ]
      },
      {
       "output_type": "stream",
       "stream": "stdout",
       "text": [
        "\n",
        "Loading params from file: /biac4/wandell/biac2/wandell6/data/arokem/osmosis/FP/0009_01_DWI_2mm150dir_2x_b1000_aligned_trilin_SSD_rho0.2_alpha0.0075.nii.gz"
       ]
      },
      {
       "output_type": "stream",
       "stream": "stdout",
       "text": [
        "\n",
        "Predicting signal from SparseDeconvolutionModel with ElasticNet(alpha=0.0075, copy_X=True, fit_intercept=False, max_iter=1000,\n",
        "      normalize=False, positive=True, precompute=auto, rho=0.2, tol=0.0001,\n",
        "      warm_start=False)"
       ]
      },
      {
       "output_type": "stream",
       "stream": "stdout",
       "text": [
        "\n",
        "Loading params from file: /biac4/wandell/biac2/wandell6/data/arokem/osmosis/FP/0011_01_DWI_2mm150dir_2x_b1000_aligned_trilin_SSD_rho0.2_alpha0.0075.nii.gz"
       ]
      },
      {
       "output_type": "stream",
       "stream": "stdout",
       "text": [
        "\n",
        "Predicting signal from SparseDeconvolutionModel with ElasticNet(alpha=0.01, copy_X=True, fit_intercept=False, max_iter=1000,\n",
        "      normalize=False, positive=True, precompute=auto, rho=0.2, tol=0.0001,\n",
        "      warm_start=False)"
       ]
      },
      {
       "output_type": "stream",
       "stream": "stdout",
       "text": [
        "\n",
        "Loading params from file: /biac4/wandell/biac2/wandell6/data/arokem/osmosis/FP/0009_01_DWI_2mm150dir_2x_b1000_aligned_trilin_SSD_rho0.2_alpha0.01.nii.gz"
       ]
      },
      {
       "output_type": "stream",
       "stream": "stdout",
       "text": [
        "\n",
        "Predicting signal from SparseDeconvolutionModel with ElasticNet(alpha=0.01, copy_X=True, fit_intercept=False, max_iter=1000,\n",
        "      normalize=False, positive=True, precompute=auto, rho=0.2, tol=0.0001,\n",
        "      warm_start=False)"
       ]
      },
      {
       "output_type": "stream",
       "stream": "stdout",
       "text": [
        "\n",
        "Loading params from file: /biac4/wandell/biac2/wandell6/data/arokem/osmosis/FP/0011_01_DWI_2mm150dir_2x_b1000_aligned_trilin_SSD_rho0.2_alpha0.01.nii.gz"
       ]
      },
      {
       "output_type": "stream",
       "stream": "stdout",
       "text": [
        "\n",
        "Predicting signal from SparseDeconvolutionModel with ElasticNet(alpha=0.025, copy_X=True, fit_intercept=False, max_iter=1000,\n",
        "      normalize=False, positive=True, precompute=auto, rho=0.2, tol=0.0001,\n",
        "      warm_start=False)"
       ]
      },
      {
       "output_type": "stream",
       "stream": "stdout",
       "text": [
        "\n",
        "Loading params from file: /biac4/wandell/biac2/wandell6/data/arokem/osmosis/FP/0009_01_DWI_2mm150dir_2x_b1000_aligned_trilin_SSD_rho0.2_alpha0.025.nii.gz"
       ]
      },
      {
       "output_type": "stream",
       "stream": "stdout",
       "text": [
        "\n",
        "Predicting signal from SparseDeconvolutionModel with ElasticNet(alpha=0.025, copy_X=True, fit_intercept=False, max_iter=1000,\n",
        "      normalize=False, positive=True, precompute=auto, rho=0.2, tol=0.0001,\n",
        "      warm_start=False)"
       ]
      },
      {
       "output_type": "stream",
       "stream": "stdout",
       "text": [
        "\n",
        "Loading params from file: /biac4/wandell/biac2/wandell6/data/arokem/osmosis/FP/0011_01_DWI_2mm150dir_2x_b1000_aligned_trilin_SSD_rho0.2_alpha0.025.nii.gz"
       ]
      },
      {
       "output_type": "stream",
       "stream": "stdout",
       "text": [
        "\n",
        "Predicting signal from SparseDeconvolutionModel with ElasticNet(alpha=0.05, copy_X=True, fit_intercept=False, max_iter=1000,\n",
        "      normalize=False, positive=True, precompute=auto, rho=0.2, tol=0.0001,\n",
        "      warm_start=False)"
       ]
      },
      {
       "output_type": "stream",
       "stream": "stdout",
       "text": [
        "\n",
        "Loading params from file: /biac4/wandell/biac2/wandell6/data/arokem/osmosis/FP/0009_01_DWI_2mm150dir_2x_b1000_aligned_trilin_SSD_rho0.2_alpha0.05.nii.gz"
       ]
      },
      {
       "output_type": "stream",
       "stream": "stdout",
       "text": [
        "\n",
        "Predicting signal from SparseDeconvolutionModel with ElasticNet(alpha=0.05, copy_X=True, fit_intercept=False, max_iter=1000,\n",
        "      normalize=False, positive=True, precompute=auto, rho=0.2, tol=0.0001,\n",
        "      warm_start=False)"
       ]
      },
      {
       "output_type": "stream",
       "stream": "stdout",
       "text": [
        "\n",
        "Loading params from file: /biac4/wandell/biac2/wandell6/data/arokem/osmosis/FP/0011_01_DWI_2mm150dir_2x_b1000_aligned_trilin_SSD_rho0.2_alpha0.05.nii.gz"
       ]
      },
      {
       "output_type": "stream",
       "stream": "stdout",
       "text": [
        "\n",
        "Predicting signal from SparseDeconvolutionModel with ElasticNet(alpha=0.0001, copy_X=True, fit_intercept=False, max_iter=1000,\n",
        "      normalize=False, positive=True, precompute=auto, rho=0.4, tol=0.0001,\n",
        "      warm_start=False)"
       ]
      },
      {
       "output_type": "stream",
       "stream": "stdout",
       "text": [
        "\n",
        "Loading params from file: /biac4/wandell/biac2/wandell6/data/arokem/osmosis/FP/0009_01_DWI_2mm150dir_2x_b1000_aligned_trilin_SSD_rho0.4_alpha0.0001.nii.gz"
       ]
      },
      {
       "output_type": "stream",
       "stream": "stdout",
       "text": [
        "\n",
        "Predicting signal from SparseDeconvolutionModel with ElasticNet(alpha=0.0001, copy_X=True, fit_intercept=False, max_iter=1000,\n",
        "      normalize=False, positive=True, precompute=auto, rho=0.4, tol=0.0001,\n",
        "      warm_start=False)"
       ]
      },
      {
       "output_type": "stream",
       "stream": "stdout",
       "text": [
        "\n",
        "Loading params from file: /biac4/wandell/biac2/wandell6/data/arokem/osmosis/FP/0011_01_DWI_2mm150dir_2x_b1000_aligned_trilin_SSD_rho0.4_alpha0.0001.nii.gz"
       ]
      },
      {
       "output_type": "stream",
       "stream": "stdout",
       "text": [
        "\n",
        "Predicting signal from SparseDeconvolutionModel with ElasticNet(alpha=0.0005, copy_X=True, fit_intercept=False, max_iter=1000,\n",
        "      normalize=False, positive=True, precompute=auto, rho=0.4, tol=0.0001,\n",
        "      warm_start=False)"
       ]
      },
      {
       "output_type": "stream",
       "stream": "stdout",
       "text": [
        "\n",
        "Loading params from file: /biac4/wandell/biac2/wandell6/data/arokem/osmosis/FP/0009_01_DWI_2mm150dir_2x_b1000_aligned_trilin_SSD_rho0.4_alpha0.0005.nii.gz"
       ]
      },
      {
       "output_type": "stream",
       "stream": "stdout",
       "text": [
        "\n",
        "Predicting signal from SparseDeconvolutionModel with ElasticNet(alpha=0.0005, copy_X=True, fit_intercept=False, max_iter=1000,\n",
        "      normalize=False, positive=True, precompute=auto, rho=0.4, tol=0.0001,\n",
        "      warm_start=False)"
       ]
      },
      {
       "output_type": "stream",
       "stream": "stdout",
       "text": [
        "\n",
        "Loading params from file: /biac4/wandell/biac2/wandell6/data/arokem/osmosis/FP/0011_01_DWI_2mm150dir_2x_b1000_aligned_trilin_SSD_rho0.4_alpha0.0005.nii.gz"
       ]
      },
      {
       "output_type": "stream",
       "stream": "stdout",
       "text": [
        "\n",
        "Predicting signal from SparseDeconvolutionModel with ElasticNet(alpha=0.001, copy_X=True, fit_intercept=False, max_iter=1000,\n",
        "      normalize=False, positive=True, precompute=auto, rho=0.4, tol=0.0001,\n",
        "      warm_start=False)"
       ]
      },
      {
       "output_type": "stream",
       "stream": "stdout",
       "text": [
        "\n",
        "Loading params from file: /biac4/wandell/biac2/wandell6/data/arokem/osmosis/FP/0009_01_DWI_2mm150dir_2x_b1000_aligned_trilin_SSD_rho0.4_alpha0.001.nii.gz"
       ]
      },
      {
       "output_type": "stream",
       "stream": "stdout",
       "text": [
        "\n",
        "Predicting signal from SparseDeconvolutionModel with ElasticNet(alpha=0.001, copy_X=True, fit_intercept=False, max_iter=1000,\n",
        "      normalize=False, positive=True, precompute=auto, rho=0.4, tol=0.0001,\n",
        "      warm_start=False)"
       ]
      },
      {
       "output_type": "stream",
       "stream": "stdout",
       "text": [
        "\n",
        "Loading params from file: /biac4/wandell/biac2/wandell6/data/arokem/osmosis/FP/0011_01_DWI_2mm150dir_2x_b1000_aligned_trilin_SSD_rho0.4_alpha0.001.nii.gz"
       ]
      },
      {
       "output_type": "stream",
       "stream": "stdout",
       "text": [
        "\n",
        "Predicting signal from SparseDeconvolutionModel with ElasticNet(alpha=0.0025, copy_X=True, fit_intercept=False, max_iter=1000,\n",
        "      normalize=False, positive=True, precompute=auto, rho=0.4, tol=0.0001,\n",
        "      warm_start=False)"
       ]
      },
      {
       "output_type": "stream",
       "stream": "stdout",
       "text": [
        "\n",
        "Loading params from file: /biac4/wandell/biac2/wandell6/data/arokem/osmosis/FP/0009_01_DWI_2mm150dir_2x_b1000_aligned_trilin_SSD_rho0.4_alpha0.0025.nii.gz"
       ]
      },
      {
       "output_type": "stream",
       "stream": "stdout",
       "text": [
        "\n",
        "Predicting signal from SparseDeconvolutionModel with ElasticNet(alpha=0.0025, copy_X=True, fit_intercept=False, max_iter=1000,\n",
        "      normalize=False, positive=True, precompute=auto, rho=0.4, tol=0.0001,\n",
        "      warm_start=False)"
       ]
      },
      {
       "output_type": "stream",
       "stream": "stdout",
       "text": [
        "\n",
        "Loading params from file: /biac4/wandell/biac2/wandell6/data/arokem/osmosis/FP/0011_01_DWI_2mm150dir_2x_b1000_aligned_trilin_SSD_rho0.4_alpha0.0025.nii.gz"
       ]
      },
      {
       "output_type": "stream",
       "stream": "stdout",
       "text": [
        "\n",
        "Predicting signal from SparseDeconvolutionModel with ElasticNet(alpha=0.005, copy_X=True, fit_intercept=False, max_iter=1000,\n",
        "      normalize=False, positive=True, precompute=auto, rho=0.4, tol=0.0001,\n",
        "      warm_start=False)"
       ]
      },
      {
       "output_type": "stream",
       "stream": "stdout",
       "text": [
        "\n",
        "Loading params from file: /biac4/wandell/biac2/wandell6/data/arokem/osmosis/FP/0009_01_DWI_2mm150dir_2x_b1000_aligned_trilin_SSD_rho0.4_alpha0.005.nii.gz"
       ]
      },
      {
       "output_type": "stream",
       "stream": "stdout",
       "text": [
        "\n",
        "Predicting signal from SparseDeconvolutionModel with ElasticNet(alpha=0.005, copy_X=True, fit_intercept=False, max_iter=1000,\n",
        "      normalize=False, positive=True, precompute=auto, rho=0.4, tol=0.0001,\n",
        "      warm_start=False)"
       ]
      },
      {
       "output_type": "stream",
       "stream": "stdout",
       "text": [
        "\n",
        "Loading params from file: /biac4/wandell/biac2/wandell6/data/arokem/osmosis/FP/0011_01_DWI_2mm150dir_2x_b1000_aligned_trilin_SSD_rho0.4_alpha0.005.nii.gz"
       ]
      },
      {
       "output_type": "stream",
       "stream": "stdout",
       "text": [
        "\n",
        "Predicting signal from SparseDeconvolutionModel with ElasticNet(alpha=0.0075, copy_X=True, fit_intercept=False, max_iter=1000,\n",
        "      normalize=False, positive=True, precompute=auto, rho=0.4, tol=0.0001,\n",
        "      warm_start=False)"
       ]
      },
      {
       "output_type": "stream",
       "stream": "stdout",
       "text": [
        "\n",
        "Loading params from file: /biac4/wandell/biac2/wandell6/data/arokem/osmosis/FP/0009_01_DWI_2mm150dir_2x_b1000_aligned_trilin_SSD_rho0.4_alpha0.0075.nii.gz"
       ]
      },
      {
       "output_type": "stream",
       "stream": "stdout",
       "text": [
        "\n",
        "Predicting signal from SparseDeconvolutionModel with ElasticNet(alpha=0.0075, copy_X=True, fit_intercept=False, max_iter=1000,\n",
        "      normalize=False, positive=True, precompute=auto, rho=0.4, tol=0.0001,\n",
        "      warm_start=False)"
       ]
      },
      {
       "output_type": "stream",
       "stream": "stdout",
       "text": [
        "\n",
        "Loading params from file: /biac4/wandell/biac2/wandell6/data/arokem/osmosis/FP/0011_01_DWI_2mm150dir_2x_b1000_aligned_trilin_SSD_rho0.4_alpha0.0075.nii.gz"
       ]
      },
      {
       "output_type": "stream",
       "stream": "stdout",
       "text": [
        "\n",
        "Predicting signal from SparseDeconvolutionModel with ElasticNet(alpha=0.01, copy_X=True, fit_intercept=False, max_iter=1000,\n",
        "      normalize=False, positive=True, precompute=auto, rho=0.4, tol=0.0001,\n",
        "      warm_start=False)"
       ]
      },
      {
       "output_type": "stream",
       "stream": "stdout",
       "text": [
        "\n",
        "Loading params from file: /biac4/wandell/biac2/wandell6/data/arokem/osmosis/FP/0009_01_DWI_2mm150dir_2x_b1000_aligned_trilin_SSD_rho0.4_alpha0.01.nii.gz"
       ]
      },
      {
       "output_type": "stream",
       "stream": "stdout",
       "text": [
        "\n",
        "Predicting signal from SparseDeconvolutionModel with ElasticNet(alpha=0.01, copy_X=True, fit_intercept=False, max_iter=1000,\n",
        "      normalize=False, positive=True, precompute=auto, rho=0.4, tol=0.0001,\n",
        "      warm_start=False)"
       ]
      },
      {
       "output_type": "stream",
       "stream": "stdout",
       "text": [
        "\n",
        "Loading params from file: /biac4/wandell/biac2/wandell6/data/arokem/osmosis/FP/0011_01_DWI_2mm150dir_2x_b1000_aligned_trilin_SSD_rho0.4_alpha0.01.nii.gz"
       ]
      },
      {
       "output_type": "stream",
       "stream": "stdout",
       "text": [
        "\n",
        "Predicting signal from SparseDeconvolutionModel with ElasticNet(alpha=0.025, copy_X=True, fit_intercept=False, max_iter=1000,\n",
        "      normalize=False, positive=True, precompute=auto, rho=0.4, tol=0.0001,\n",
        "      warm_start=False)"
       ]
      },
      {
       "output_type": "stream",
       "stream": "stdout",
       "text": [
        "\n",
        "Loading params from file: /biac4/wandell/biac2/wandell6/data/arokem/osmosis/FP/0009_01_DWI_2mm150dir_2x_b1000_aligned_trilin_SSD_rho0.4_alpha0.025.nii.gz"
       ]
      },
      {
       "output_type": "stream",
       "stream": "stdout",
       "text": [
        "\n",
        "Predicting signal from SparseDeconvolutionModel with ElasticNet(alpha=0.025, copy_X=True, fit_intercept=False, max_iter=1000,\n",
        "      normalize=False, positive=True, precompute=auto, rho=0.4, tol=0.0001,\n",
        "      warm_start=False)"
       ]
      },
      {
       "output_type": "stream",
       "stream": "stdout",
       "text": [
        "\n",
        "Loading params from file: /biac4/wandell/biac2/wandell6/data/arokem/osmosis/FP/0011_01_DWI_2mm150dir_2x_b1000_aligned_trilin_SSD_rho0.4_alpha0.025.nii.gz"
       ]
      },
      {
       "output_type": "stream",
       "stream": "stdout",
       "text": [
        "\n",
        "Predicting signal from SparseDeconvolutionModel with ElasticNet(alpha=0.05, copy_X=True, fit_intercept=False, max_iter=1000,\n",
        "      normalize=False, positive=True, precompute=auto, rho=0.4, tol=0.0001,\n",
        "      warm_start=False)"
       ]
      },
      {
       "output_type": "stream",
       "stream": "stdout",
       "text": [
        "\n",
        "Loading params from file: /biac4/wandell/biac2/wandell6/data/arokem/osmosis/FP/0009_01_DWI_2mm150dir_2x_b1000_aligned_trilin_SSD_rho0.4_alpha0.05.nii.gz"
       ]
      },
      {
       "output_type": "stream",
       "stream": "stdout",
       "text": [
        "\n",
        "Predicting signal from SparseDeconvolutionModel with ElasticNet(alpha=0.05, copy_X=True, fit_intercept=False, max_iter=1000,\n",
        "      normalize=False, positive=True, precompute=auto, rho=0.4, tol=0.0001,\n",
        "      warm_start=False)"
       ]
      },
      {
       "output_type": "stream",
       "stream": "stdout",
       "text": [
        "\n",
        "Loading params from file: /biac4/wandell/biac2/wandell6/data/arokem/osmosis/FP/0011_01_DWI_2mm150dir_2x_b1000_aligned_trilin_SSD_rho0.4_alpha0.05.nii.gz"
       ]
      },
      {
       "output_type": "stream",
       "stream": "stdout",
       "text": [
        "\n",
        "Predicting signal from SparseDeconvolutionModel with ElasticNet(alpha=0.0001, copy_X=True, fit_intercept=False, max_iter=1000,\n",
        "      normalize=False, positive=True, precompute=auto, rho=0.6, tol=0.0001,\n",
        "      warm_start=False)"
       ]
      },
      {
       "output_type": "stream",
       "stream": "stdout",
       "text": [
        "\n",
        "Loading params from file: /biac4/wandell/biac2/wandell6/data/arokem/osmosis/FP/0009_01_DWI_2mm150dir_2x_b1000_aligned_trilin_SSD_rho0.6_alpha0.0001.nii.gz"
       ]
      },
      {
       "output_type": "stream",
       "stream": "stdout",
       "text": [
        "\n",
        "Predicting signal from SparseDeconvolutionModel with ElasticNet(alpha=0.0001, copy_X=True, fit_intercept=False, max_iter=1000,\n",
        "      normalize=False, positive=True, precompute=auto, rho=0.6, tol=0.0001,\n",
        "      warm_start=False)"
       ]
      },
      {
       "output_type": "stream",
       "stream": "stdout",
       "text": [
        "\n",
        "Loading params from file: /biac4/wandell/biac2/wandell6/data/arokem/osmosis/FP/0011_01_DWI_2mm150dir_2x_b1000_aligned_trilin_SSD_rho0.6_alpha0.0001.nii.gz"
       ]
      },
      {
       "output_type": "stream",
       "stream": "stdout",
       "text": [
        "\n",
        "Predicting signal from SparseDeconvolutionModel with ElasticNet(alpha=0.0005, copy_X=True, fit_intercept=False, max_iter=1000,\n",
        "      normalize=False, positive=True, precompute=auto, rho=0.6, tol=0.0001,\n",
        "      warm_start=False)"
       ]
      },
      {
       "output_type": "stream",
       "stream": "stdout",
       "text": [
        "\n",
        "Loading params from file: /biac4/wandell/biac2/wandell6/data/arokem/osmosis/FP/0009_01_DWI_2mm150dir_2x_b1000_aligned_trilin_SSD_rho0.6_alpha0.0005.nii.gz"
       ]
      },
      {
       "output_type": "stream",
       "stream": "stdout",
       "text": [
        "\n",
        "Predicting signal from SparseDeconvolutionModel with ElasticNet(alpha=0.0005, copy_X=True, fit_intercept=False, max_iter=1000,\n",
        "      normalize=False, positive=True, precompute=auto, rho=0.6, tol=0.0001,\n",
        "      warm_start=False)"
       ]
      },
      {
       "output_type": "stream",
       "stream": "stdout",
       "text": [
        "\n",
        "Loading params from file: /biac4/wandell/biac2/wandell6/data/arokem/osmosis/FP/0011_01_DWI_2mm150dir_2x_b1000_aligned_trilin_SSD_rho0.6_alpha0.0005.nii.gz"
       ]
      },
      {
       "output_type": "stream",
       "stream": "stdout",
       "text": [
        "\n",
        "Predicting signal from SparseDeconvolutionModel with ElasticNet(alpha=0.001, copy_X=True, fit_intercept=False, max_iter=1000,\n",
        "      normalize=False, positive=True, precompute=auto, rho=0.6, tol=0.0001,\n",
        "      warm_start=False)"
       ]
      },
      {
       "output_type": "stream",
       "stream": "stdout",
       "text": [
        "\n",
        "Loading params from file: /biac4/wandell/biac2/wandell6/data/arokem/osmosis/FP/0009_01_DWI_2mm150dir_2x_b1000_aligned_trilin_SSD_rho0.6_alpha0.001.nii.gz"
       ]
      },
      {
       "output_type": "stream",
       "stream": "stdout",
       "text": [
        "\n",
        "Predicting signal from SparseDeconvolutionModel with ElasticNet(alpha=0.001, copy_X=True, fit_intercept=False, max_iter=1000,\n",
        "      normalize=False, positive=True, precompute=auto, rho=0.6, tol=0.0001,\n",
        "      warm_start=False)"
       ]
      },
      {
       "output_type": "stream",
       "stream": "stdout",
       "text": [
        "\n",
        "Loading params from file: /biac4/wandell/biac2/wandell6/data/arokem/osmosis/FP/0011_01_DWI_2mm150dir_2x_b1000_aligned_trilin_SSD_rho0.6_alpha0.001.nii.gz"
       ]
      },
      {
       "output_type": "stream",
       "stream": "stdout",
       "text": [
        "\n",
        "Predicting signal from SparseDeconvolutionModel with ElasticNet(alpha=0.0025, copy_X=True, fit_intercept=False, max_iter=1000,\n",
        "      normalize=False, positive=True, precompute=auto, rho=0.6, tol=0.0001,\n",
        "      warm_start=False)"
       ]
      },
      {
       "output_type": "stream",
       "stream": "stdout",
       "text": [
        "\n",
        "Loading params from file: /biac4/wandell/biac2/wandell6/data/arokem/osmosis/FP/0009_01_DWI_2mm150dir_2x_b1000_aligned_trilin_SSD_rho0.6_alpha0.0025.nii.gz"
       ]
      },
      {
       "output_type": "stream",
       "stream": "stdout",
       "text": [
        "\n",
        "Predicting signal from SparseDeconvolutionModel with ElasticNet(alpha=0.0025, copy_X=True, fit_intercept=False, max_iter=1000,\n",
        "      normalize=False, positive=True, precompute=auto, rho=0.6, tol=0.0001,\n",
        "      warm_start=False)"
       ]
      },
      {
       "output_type": "stream",
       "stream": "stdout",
       "text": [
        "\n",
        "Loading params from file: /biac4/wandell/biac2/wandell6/data/arokem/osmosis/FP/0011_01_DWI_2mm150dir_2x_b1000_aligned_trilin_SSD_rho0.6_alpha0.0025.nii.gz"
       ]
      },
      {
       "output_type": "stream",
       "stream": "stdout",
       "text": [
        "\n",
        "Predicting signal from SparseDeconvolutionModel with ElasticNet(alpha=0.005, copy_X=True, fit_intercept=False, max_iter=1000,\n",
        "      normalize=False, positive=True, precompute=auto, rho=0.6, tol=0.0001,\n",
        "      warm_start=False)"
       ]
      },
      {
       "output_type": "stream",
       "stream": "stdout",
       "text": [
        "\n",
        "Loading params from file: /biac4/wandell/biac2/wandell6/data/arokem/osmosis/FP/0009_01_DWI_2mm150dir_2x_b1000_aligned_trilin_SSD_rho0.6_alpha0.005.nii.gz"
       ]
      },
      {
       "output_type": "stream",
       "stream": "stdout",
       "text": [
        "\n",
        "Predicting signal from SparseDeconvolutionModel with ElasticNet(alpha=0.005, copy_X=True, fit_intercept=False, max_iter=1000,\n",
        "      normalize=False, positive=True, precompute=auto, rho=0.6, tol=0.0001,\n",
        "      warm_start=False)"
       ]
      },
      {
       "output_type": "stream",
       "stream": "stdout",
       "text": [
        "\n",
        "Loading params from file: /biac4/wandell/biac2/wandell6/data/arokem/osmosis/FP/0011_01_DWI_2mm150dir_2x_b1000_aligned_trilin_SSD_rho0.6_alpha0.005.nii.gz"
       ]
      },
      {
       "output_type": "stream",
       "stream": "stdout",
       "text": [
        "\n",
        "Predicting signal from SparseDeconvolutionModel with ElasticNet(alpha=0.0075, copy_X=True, fit_intercept=False, max_iter=1000,\n",
        "      normalize=False, positive=True, precompute=auto, rho=0.6, tol=0.0001,\n",
        "      warm_start=False)"
       ]
      },
      {
       "output_type": "stream",
       "stream": "stdout",
       "text": [
        "\n",
        "Loading params from file: /biac4/wandell/biac2/wandell6/data/arokem/osmosis/FP/0009_01_DWI_2mm150dir_2x_b1000_aligned_trilin_SSD_rho0.6_alpha0.0075.nii.gz"
       ]
      },
      {
       "output_type": "stream",
       "stream": "stdout",
       "text": [
        "\n",
        "Predicting signal from SparseDeconvolutionModel with ElasticNet(alpha=0.0075, copy_X=True, fit_intercept=False, max_iter=1000,\n",
        "      normalize=False, positive=True, precompute=auto, rho=0.6, tol=0.0001,\n",
        "      warm_start=False)"
       ]
      },
      {
       "output_type": "stream",
       "stream": "stdout",
       "text": [
        "\n",
        "Loading params from file: /biac4/wandell/biac2/wandell6/data/arokem/osmosis/FP/0011_01_DWI_2mm150dir_2x_b1000_aligned_trilin_SSD_rho0.6_alpha0.0075.nii.gz"
       ]
      },
      {
       "output_type": "stream",
       "stream": "stdout",
       "text": [
        "\n",
        "Predicting signal from SparseDeconvolutionModel with ElasticNet(alpha=0.01, copy_X=True, fit_intercept=False, max_iter=1000,\n",
        "      normalize=False, positive=True, precompute=auto, rho=0.6, tol=0.0001,\n",
        "      warm_start=False)"
       ]
      },
      {
       "output_type": "stream",
       "stream": "stdout",
       "text": [
        "\n",
        "Loading params from file: /biac4/wandell/biac2/wandell6/data/arokem/osmosis/FP/0009_01_DWI_2mm150dir_2x_b1000_aligned_trilin_SSD_rho0.6_alpha0.01.nii.gz"
       ]
      },
      {
       "output_type": "stream",
       "stream": "stdout",
       "text": [
        "\n",
        "Predicting signal from SparseDeconvolutionModel with ElasticNet(alpha=0.01, copy_X=True, fit_intercept=False, max_iter=1000,\n",
        "      normalize=False, positive=True, precompute=auto, rho=0.6, tol=0.0001,\n",
        "      warm_start=False)"
       ]
      },
      {
       "output_type": "stream",
       "stream": "stdout",
       "text": [
        "\n",
        "Loading params from file: /biac4/wandell/biac2/wandell6/data/arokem/osmosis/FP/0011_01_DWI_2mm150dir_2x_b1000_aligned_trilin_SSD_rho0.6_alpha0.01.nii.gz"
       ]
      },
      {
       "output_type": "stream",
       "stream": "stdout",
       "text": [
        "\n",
        "Predicting signal from SparseDeconvolutionModel with ElasticNet(alpha=0.025, copy_X=True, fit_intercept=False, max_iter=1000,\n",
        "      normalize=False, positive=True, precompute=auto, rho=0.6, tol=0.0001,\n",
        "      warm_start=False)"
       ]
      },
      {
       "output_type": "stream",
       "stream": "stdout",
       "text": [
        "\n",
        "Loading params from file: /biac4/wandell/biac2/wandell6/data/arokem/osmosis/FP/0009_01_DWI_2mm150dir_2x_b1000_aligned_trilin_SSD_rho0.6_alpha0.025.nii.gz"
       ]
      },
      {
       "output_type": "stream",
       "stream": "stdout",
       "text": [
        "\n",
        "Predicting signal from SparseDeconvolutionModel with ElasticNet(alpha=0.025, copy_X=True, fit_intercept=False, max_iter=1000,\n",
        "      normalize=False, positive=True, precompute=auto, rho=0.6, tol=0.0001,\n",
        "      warm_start=False)"
       ]
      },
      {
       "output_type": "stream",
       "stream": "stdout",
       "text": [
        "\n",
        "Loading params from file: /biac4/wandell/biac2/wandell6/data/arokem/osmosis/FP/0011_01_DWI_2mm150dir_2x_b1000_aligned_trilin_SSD_rho0.6_alpha0.025.nii.gz"
       ]
      },
      {
       "output_type": "stream",
       "stream": "stdout",
       "text": [
        "\n",
        "Predicting signal from SparseDeconvolutionModel with ElasticNet(alpha=0.05, copy_X=True, fit_intercept=False, max_iter=1000,\n",
        "      normalize=False, positive=True, precompute=auto, rho=0.6, tol=0.0001,\n",
        "      warm_start=False)"
       ]
      },
      {
       "output_type": "stream",
       "stream": "stdout",
       "text": [
        "\n",
        "Loading params from file: /biac4/wandell/biac2/wandell6/data/arokem/osmosis/FP/0009_01_DWI_2mm150dir_2x_b1000_aligned_trilin_SSD_rho0.6_alpha0.05.nii.gz"
       ]
      },
      {
       "output_type": "stream",
       "stream": "stdout",
       "text": [
        "\n",
        "Predicting signal from SparseDeconvolutionModel with ElasticNet(alpha=0.05, copy_X=True, fit_intercept=False, max_iter=1000,\n",
        "      normalize=False, positive=True, precompute=auto, rho=0.6, tol=0.0001,\n",
        "      warm_start=False)"
       ]
      },
      {
       "output_type": "stream",
       "stream": "stdout",
       "text": [
        "\n",
        "Loading params from file: /biac4/wandell/biac2/wandell6/data/arokem/osmosis/FP/0011_01_DWI_2mm150dir_2x_b1000_aligned_trilin_SSD_rho0.6_alpha0.05.nii.gz"
       ]
      },
      {
       "output_type": "stream",
       "stream": "stdout",
       "text": [
        "\n",
        "Predicting signal from SparseDeconvolutionModel with ElasticNet(alpha=0.0001, copy_X=True, fit_intercept=False, max_iter=1000,\n",
        "      normalize=False, positive=True, precompute=auto, rho=0.8, tol=0.0001,\n",
        "      warm_start=False)"
       ]
      },
      {
       "output_type": "stream",
       "stream": "stdout",
       "text": [
        "\n",
        "Loading params from file: /biac4/wandell/biac2/wandell6/data/arokem/osmosis/FP/0009_01_DWI_2mm150dir_2x_b1000_aligned_trilin_SSD_rho0.8_alpha0.0001.nii.gz"
       ]
      },
      {
       "output_type": "stream",
       "stream": "stdout",
       "text": [
        "\n",
        "Predicting signal from SparseDeconvolutionModel with ElasticNet(alpha=0.0001, copy_X=True, fit_intercept=False, max_iter=1000,\n",
        "      normalize=False, positive=True, precompute=auto, rho=0.8, tol=0.0001,\n",
        "      warm_start=False)"
       ]
      },
      {
       "output_type": "stream",
       "stream": "stdout",
       "text": [
        "\n",
        "Loading params from file: /biac4/wandell/biac2/wandell6/data/arokem/osmosis/FP/0011_01_DWI_2mm150dir_2x_b1000_aligned_trilin_SSD_rho0.8_alpha0.0001.nii.gz"
       ]
      },
      {
       "output_type": "stream",
       "stream": "stdout",
       "text": [
        "\n",
        "Predicting signal from SparseDeconvolutionModel with ElasticNet(alpha=0.0005, copy_X=True, fit_intercept=False, max_iter=1000,\n",
        "      normalize=False, positive=True, precompute=auto, rho=0.8, tol=0.0001,\n",
        "      warm_start=False)"
       ]
      },
      {
       "output_type": "stream",
       "stream": "stdout",
       "text": [
        "\n",
        "Loading params from file: /biac4/wandell/biac2/wandell6/data/arokem/osmosis/FP/0009_01_DWI_2mm150dir_2x_b1000_aligned_trilin_SSD_rho0.8_alpha0.0005.nii.gz"
       ]
      },
      {
       "output_type": "stream",
       "stream": "stdout",
       "text": [
        "\n",
        "Predicting signal from SparseDeconvolutionModel with ElasticNet(alpha=0.0005, copy_X=True, fit_intercept=False, max_iter=1000,\n",
        "      normalize=False, positive=True, precompute=auto, rho=0.8, tol=0.0001,\n",
        "      warm_start=False)"
       ]
      },
      {
       "output_type": "stream",
       "stream": "stdout",
       "text": [
        "\n",
        "Loading params from file: /biac4/wandell/biac2/wandell6/data/arokem/osmosis/FP/0011_01_DWI_2mm150dir_2x_b1000_aligned_trilin_SSD_rho0.8_alpha0.0005.nii.gz"
       ]
      },
      {
       "output_type": "stream",
       "stream": "stdout",
       "text": [
        "\n",
        "Predicting signal from SparseDeconvolutionModel with ElasticNet(alpha=0.001, copy_X=True, fit_intercept=False, max_iter=1000,\n",
        "      normalize=False, positive=True, precompute=auto, rho=0.8, tol=0.0001,\n",
        "      warm_start=False)"
       ]
      },
      {
       "output_type": "stream",
       "stream": "stdout",
       "text": [
        "\n",
        "Loading params from file: /biac4/wandell/biac2/wandell6/data/arokem/osmosis/FP/0009_01_DWI_2mm150dir_2x_b1000_aligned_trilin_SSD_rho0.8_alpha0.001.nii.gz"
       ]
      },
      {
       "output_type": "stream",
       "stream": "stdout",
       "text": [
        "\n",
        "Predicting signal from SparseDeconvolutionModel with ElasticNet(alpha=0.001, copy_X=True, fit_intercept=False, max_iter=1000,\n",
        "      normalize=False, positive=True, precompute=auto, rho=0.8, tol=0.0001,\n",
        "      warm_start=False)"
       ]
      },
      {
       "output_type": "stream",
       "stream": "stdout",
       "text": [
        "\n",
        "Loading params from file: /biac4/wandell/biac2/wandell6/data/arokem/osmosis/FP/0011_01_DWI_2mm150dir_2x_b1000_aligned_trilin_SSD_rho0.8_alpha0.001.nii.gz"
       ]
      },
      {
       "output_type": "stream",
       "stream": "stdout",
       "text": [
        "\n",
        "Predicting signal from SparseDeconvolutionModel with ElasticNet(alpha=0.0025, copy_X=True, fit_intercept=False, max_iter=1000,\n",
        "      normalize=False, positive=True, precompute=auto, rho=0.8, tol=0.0001,\n",
        "      warm_start=False)"
       ]
      },
      {
       "output_type": "stream",
       "stream": "stdout",
       "text": [
        "\n",
        "Loading params from file: /biac4/wandell/biac2/wandell6/data/arokem/osmosis/FP/0009_01_DWI_2mm150dir_2x_b1000_aligned_trilin_SSD_rho0.8_alpha0.0025.nii.gz"
       ]
      },
      {
       "output_type": "stream",
       "stream": "stdout",
       "text": [
        "\n",
        "Predicting signal from SparseDeconvolutionModel with ElasticNet(alpha=0.0025, copy_X=True, fit_intercept=False, max_iter=1000,\n",
        "      normalize=False, positive=True, precompute=auto, rho=0.8, tol=0.0001,\n",
        "      warm_start=False)"
       ]
      },
      {
       "output_type": "stream",
       "stream": "stdout",
       "text": [
        "\n",
        "Loading params from file: /biac4/wandell/biac2/wandell6/data/arokem/osmosis/FP/0011_01_DWI_2mm150dir_2x_b1000_aligned_trilin_SSD_rho0.8_alpha0.0025.nii.gz"
       ]
      },
      {
       "output_type": "stream",
       "stream": "stdout",
       "text": [
        "\n",
        "Predicting signal from SparseDeconvolutionModel with ElasticNet(alpha=0.005, copy_X=True, fit_intercept=False, max_iter=1000,\n",
        "      normalize=False, positive=True, precompute=auto, rho=0.8, tol=0.0001,\n",
        "      warm_start=False)"
       ]
      },
      {
       "output_type": "stream",
       "stream": "stdout",
       "text": [
        "\n",
        "Loading params from file: /biac4/wandell/biac2/wandell6/data/arokem/osmosis/FP/0009_01_DWI_2mm150dir_2x_b1000_aligned_trilin_SSD_rho0.8_alpha0.005.nii.gz"
       ]
      },
      {
       "output_type": "stream",
       "stream": "stdout",
       "text": [
        "\n",
        "Predicting signal from SparseDeconvolutionModel with ElasticNet(alpha=0.005, copy_X=True, fit_intercept=False, max_iter=1000,\n",
        "      normalize=False, positive=True, precompute=auto, rho=0.8, tol=0.0001,\n",
        "      warm_start=False)"
       ]
      },
      {
       "output_type": "stream",
       "stream": "stdout",
       "text": [
        "\n",
        "Loading params from file: /biac4/wandell/biac2/wandell6/data/arokem/osmosis/FP/0011_01_DWI_2mm150dir_2x_b1000_aligned_trilin_SSD_rho0.8_alpha0.005.nii.gz"
       ]
      },
      {
       "output_type": "stream",
       "stream": "stdout",
       "text": [
        "\n",
        "Predicting signal from SparseDeconvolutionModel with ElasticNet(alpha=0.0075, copy_X=True, fit_intercept=False, max_iter=1000,\n",
        "      normalize=False, positive=True, precompute=auto, rho=0.8, tol=0.0001,\n",
        "      warm_start=False)"
       ]
      },
      {
       "output_type": "stream",
       "stream": "stdout",
       "text": [
        "\n",
        "Loading params from file: /biac4/wandell/biac2/wandell6/data/arokem/osmosis/FP/0009_01_DWI_2mm150dir_2x_b1000_aligned_trilin_SSD_rho0.8_alpha0.0075.nii.gz"
       ]
      },
      {
       "output_type": "stream",
       "stream": "stdout",
       "text": [
        "\n",
        "Predicting signal from SparseDeconvolutionModel with ElasticNet(alpha=0.0075, copy_X=True, fit_intercept=False, max_iter=1000,\n",
        "      normalize=False, positive=True, precompute=auto, rho=0.8, tol=0.0001,\n",
        "      warm_start=False)"
       ]
      },
      {
       "output_type": "stream",
       "stream": "stdout",
       "text": [
        "\n",
        "Loading params from file: /biac4/wandell/biac2/wandell6/data/arokem/osmosis/FP/0011_01_DWI_2mm150dir_2x_b1000_aligned_trilin_SSD_rho0.8_alpha0.0075.nii.gz"
       ]
      },
      {
       "output_type": "stream",
       "stream": "stdout",
       "text": [
        "\n",
        "Predicting signal from SparseDeconvolutionModel with ElasticNet(alpha=0.01, copy_X=True, fit_intercept=False, max_iter=1000,\n",
        "      normalize=False, positive=True, precompute=auto, rho=0.8, tol=0.0001,\n",
        "      warm_start=False)"
       ]
      },
      {
       "output_type": "stream",
       "stream": "stdout",
       "text": [
        "\n",
        "Loading params from file: /biac4/wandell/biac2/wandell6/data/arokem/osmosis/FP/0009_01_DWI_2mm150dir_2x_b1000_aligned_trilin_SSD_rho0.8_alpha0.01.nii.gz"
       ]
      },
      {
       "output_type": "stream",
       "stream": "stdout",
       "text": [
        "\n",
        "Predicting signal from SparseDeconvolutionModel with ElasticNet(alpha=0.01, copy_X=True, fit_intercept=False, max_iter=1000,\n",
        "      normalize=False, positive=True, precompute=auto, rho=0.8, tol=0.0001,\n",
        "      warm_start=False)"
       ]
      },
      {
       "output_type": "stream",
       "stream": "stdout",
       "text": [
        "\n",
        "Loading params from file: /biac4/wandell/biac2/wandell6/data/arokem/osmosis/FP/0011_01_DWI_2mm150dir_2x_b1000_aligned_trilin_SSD_rho0.8_alpha0.01.nii.gz"
       ]
      },
      {
       "output_type": "stream",
       "stream": "stdout",
       "text": [
        "\n",
        "Predicting signal from SparseDeconvolutionModel with ElasticNet(alpha=0.025, copy_X=True, fit_intercept=False, max_iter=1000,\n",
        "      normalize=False, positive=True, precompute=auto, rho=0.8, tol=0.0001,\n",
        "      warm_start=False)"
       ]
      },
      {
       "output_type": "stream",
       "stream": "stdout",
       "text": [
        "\n",
        "Loading params from file: /biac4/wandell/biac2/wandell6/data/arokem/osmosis/FP/0009_01_DWI_2mm150dir_2x_b1000_aligned_trilin_SSD_rho0.8_alpha0.025.nii.gz"
       ]
      },
      {
       "output_type": "stream",
       "stream": "stdout",
       "text": [
        "\n",
        "Predicting signal from SparseDeconvolutionModel with ElasticNet(alpha=0.025, copy_X=True, fit_intercept=False, max_iter=1000,\n",
        "      normalize=False, positive=True, precompute=auto, rho=0.8, tol=0.0001,\n",
        "      warm_start=False)"
       ]
      },
      {
       "output_type": "stream",
       "stream": "stdout",
       "text": [
        "\n",
        "Loading params from file: /biac4/wandell/biac2/wandell6/data/arokem/osmosis/FP/0011_01_DWI_2mm150dir_2x_b1000_aligned_trilin_SSD_rho0.8_alpha0.025.nii.gz"
       ]
      },
      {
       "output_type": "stream",
       "stream": "stdout",
       "text": [
        "\n",
        "Predicting signal from SparseDeconvolutionModel with ElasticNet(alpha=0.05, copy_X=True, fit_intercept=False, max_iter=1000,\n",
        "      normalize=False, positive=True, precompute=auto, rho=0.8, tol=0.0001,\n",
        "      warm_start=False)"
       ]
      },
      {
       "output_type": "stream",
       "stream": "stdout",
       "text": [
        "\n",
        "Loading params from file: /biac4/wandell/biac2/wandell6/data/arokem/osmosis/FP/0009_01_DWI_2mm150dir_2x_b1000_aligned_trilin_SSD_rho0.8_alpha0.05.nii.gz"
       ]
      },
      {
       "output_type": "stream",
       "stream": "stdout",
       "text": [
        "\n",
        "Predicting signal from SparseDeconvolutionModel with ElasticNet(alpha=0.05, copy_X=True, fit_intercept=False, max_iter=1000,\n",
        "      normalize=False, positive=True, precompute=auto, rho=0.8, tol=0.0001,\n",
        "      warm_start=False)"
       ]
      },
      {
       "output_type": "stream",
       "stream": "stdout",
       "text": [
        "\n",
        "Loading params from file: /biac4/wandell/biac2/wandell6/data/arokem/osmosis/FP/0011_01_DWI_2mm150dir_2x_b1000_aligned_trilin_SSD_rho0.8_alpha0.05.nii.gz"
       ]
      },
      {
       "output_type": "stream",
       "stream": "stdout",
       "text": [
        "\n",
        "Predicting signal from SparseDeconvolutionModel with ElasticNet(alpha=0.0001, copy_X=True, fit_intercept=False, max_iter=1000,\n",
        "      normalize=False, positive=True, precompute=auto, rho=1.0, tol=0.0001,\n",
        "      warm_start=False)"
       ]
      },
      {
       "output_type": "stream",
       "stream": "stdout",
       "text": [
        "\n",
        "Loading params from file: /biac4/wandell/biac2/wandell6/data/arokem/osmosis/FP/0009_01_DWI_2mm150dir_2x_b1000_aligned_trilin_SSD_rho1.0_alpha0.0001.nii.gz"
       ]
      },
      {
       "output_type": "stream",
       "stream": "stdout",
       "text": [
        "\n",
        "Predicting signal from SparseDeconvolutionModel with ElasticNet(alpha=0.0001, copy_X=True, fit_intercept=False, max_iter=1000,\n",
        "      normalize=False, positive=True, precompute=auto, rho=1.0, tol=0.0001,\n",
        "      warm_start=False)"
       ]
      },
      {
       "output_type": "stream",
       "stream": "stdout",
       "text": [
        "\n",
        "Loading params from file: /biac4/wandell/biac2/wandell6/data/arokem/osmosis/FP/0011_01_DWI_2mm150dir_2x_b1000_aligned_trilin_SSD_rho1.0_alpha0.0001.nii.gz"
       ]
      },
      {
       "output_type": "stream",
       "stream": "stdout",
       "text": [
        "\n",
        "Predicting signal from SparseDeconvolutionModel with ElasticNet(alpha=0.0005, copy_X=True, fit_intercept=False, max_iter=1000,\n",
        "      normalize=False, positive=True, precompute=auto, rho=1.0, tol=0.0001,\n",
        "      warm_start=False)"
       ]
      },
      {
       "output_type": "stream",
       "stream": "stdout",
       "text": [
        "\n",
        "Loading params from file: /biac4/wandell/biac2/wandell6/data/arokem/osmosis/FP/0009_01_DWI_2mm150dir_2x_b1000_aligned_trilin_SSD_rho1.0_alpha0.0005.nii.gz"
       ]
      },
      {
       "output_type": "stream",
       "stream": "stdout",
       "text": [
        "\n",
        "Predicting signal from SparseDeconvolutionModel with ElasticNet(alpha=0.0005, copy_X=True, fit_intercept=False, max_iter=1000,\n",
        "      normalize=False, positive=True, precompute=auto, rho=1.0, tol=0.0001,\n",
        "      warm_start=False)"
       ]
      },
      {
       "output_type": "stream",
       "stream": "stdout",
       "text": [
        "\n",
        "Loading params from file: /biac4/wandell/biac2/wandell6/data/arokem/osmosis/FP/0011_01_DWI_2mm150dir_2x_b1000_aligned_trilin_SSD_rho1.0_alpha0.0005.nii.gz"
       ]
      },
      {
       "output_type": "stream",
       "stream": "stdout",
       "text": [
        "\n",
        "Predicting signal from SparseDeconvolutionModel with ElasticNet(alpha=0.001, copy_X=True, fit_intercept=False, max_iter=1000,\n",
        "      normalize=False, positive=True, precompute=auto, rho=1.0, tol=0.0001,\n",
        "      warm_start=False)"
       ]
      },
      {
       "output_type": "stream",
       "stream": "stdout",
       "text": [
        "\n",
        "Loading params from file: /biac4/wandell/biac2/wandell6/data/arokem/osmosis/FP/0009_01_DWI_2mm150dir_2x_b1000_aligned_trilin_SSD_rho1.0_alpha0.001.nii.gz"
       ]
      },
      {
       "output_type": "stream",
       "stream": "stdout",
       "text": [
        "\n",
        "Predicting signal from SparseDeconvolutionModel with ElasticNet(alpha=0.001, copy_X=True, fit_intercept=False, max_iter=1000,\n",
        "      normalize=False, positive=True, precompute=auto, rho=1.0, tol=0.0001,\n",
        "      warm_start=False)"
       ]
      },
      {
       "output_type": "stream",
       "stream": "stdout",
       "text": [
        "\n",
        "Loading params from file: /biac4/wandell/biac2/wandell6/data/arokem/osmosis/FP/0011_01_DWI_2mm150dir_2x_b1000_aligned_trilin_SSD_rho1.0_alpha0.001.nii.gz"
       ]
      },
      {
       "output_type": "stream",
       "stream": "stdout",
       "text": [
        "\n",
        "Predicting signal from SparseDeconvolutionModel with ElasticNet(alpha=0.0025, copy_X=True, fit_intercept=False, max_iter=1000,\n",
        "      normalize=False, positive=True, precompute=auto, rho=1.0, tol=0.0001,\n",
        "      warm_start=False)"
       ]
      },
      {
       "output_type": "stream",
       "stream": "stdout",
       "text": [
        "\n",
        "Loading params from file: /biac4/wandell/biac2/wandell6/data/arokem/osmosis/FP/0009_01_DWI_2mm150dir_2x_b1000_aligned_trilin_SSD_rho1.0_alpha0.0025.nii.gz"
       ]
      },
      {
       "output_type": "stream",
       "stream": "stdout",
       "text": [
        "\n",
        "Predicting signal from SparseDeconvolutionModel with ElasticNet(alpha=0.0025, copy_X=True, fit_intercept=False, max_iter=1000,\n",
        "      normalize=False, positive=True, precompute=auto, rho=1.0, tol=0.0001,\n",
        "      warm_start=False)"
       ]
      },
      {
       "output_type": "stream",
       "stream": "stdout",
       "text": [
        "\n",
        "Loading params from file: /biac4/wandell/biac2/wandell6/data/arokem/osmosis/FP/0011_01_DWI_2mm150dir_2x_b1000_aligned_trilin_SSD_rho1.0_alpha0.0025.nii.gz"
       ]
      },
      {
       "output_type": "stream",
       "stream": "stdout",
       "text": [
        "\n",
        "Predicting signal from SparseDeconvolutionModel with ElasticNet(alpha=0.005, copy_X=True, fit_intercept=False, max_iter=1000,\n",
        "      normalize=False, positive=True, precompute=auto, rho=1.0, tol=0.0001,\n",
        "      warm_start=False)"
       ]
      },
      {
       "output_type": "stream",
       "stream": "stdout",
       "text": [
        "\n",
        "Loading params from file: /biac4/wandell/biac2/wandell6/data/arokem/osmosis/FP/0009_01_DWI_2mm150dir_2x_b1000_aligned_trilin_SSD_rho1.0_alpha0.005.nii.gz"
       ]
      },
      {
       "output_type": "stream",
       "stream": "stdout",
       "text": [
        "\n",
        "Predicting signal from SparseDeconvolutionModel with ElasticNet(alpha=0.005, copy_X=True, fit_intercept=False, max_iter=1000,\n",
        "      normalize=False, positive=True, precompute=auto, rho=1.0, tol=0.0001,\n",
        "      warm_start=False)"
       ]
      },
      {
       "output_type": "stream",
       "stream": "stdout",
       "text": [
        "\n",
        "Loading params from file: /biac4/wandell/biac2/wandell6/data/arokem/osmosis/FP/0011_01_DWI_2mm150dir_2x_b1000_aligned_trilin_SSD_rho1.0_alpha0.005.nii.gz"
       ]
      },
      {
       "output_type": "stream",
       "stream": "stdout",
       "text": [
        "\n",
        "Predicting signal from SparseDeconvolutionModel with ElasticNet(alpha=0.0075, copy_X=True, fit_intercept=False, max_iter=1000,\n",
        "      normalize=False, positive=True, precompute=auto, rho=1.0, tol=0.0001,\n",
        "      warm_start=False)"
       ]
      },
      {
       "output_type": "stream",
       "stream": "stdout",
       "text": [
        "\n",
        "Loading params from file: /biac4/wandell/biac2/wandell6/data/arokem/osmosis/FP/0009_01_DWI_2mm150dir_2x_b1000_aligned_trilin_SSD_rho1.0_alpha0.0075.nii.gz"
       ]
      },
      {
       "output_type": "stream",
       "stream": "stdout",
       "text": [
        "\n",
        "Predicting signal from SparseDeconvolutionModel with ElasticNet(alpha=0.0075, copy_X=True, fit_intercept=False, max_iter=1000,\n",
        "      normalize=False, positive=True, precompute=auto, rho=1.0, tol=0.0001,\n",
        "      warm_start=False)"
       ]
      },
      {
       "output_type": "stream",
       "stream": "stdout",
       "text": [
        "\n",
        "Loading params from file: /biac4/wandell/biac2/wandell6/data/arokem/osmosis/FP/0011_01_DWI_2mm150dir_2x_b1000_aligned_trilin_SSD_rho1.0_alpha0.0075.nii.gz"
       ]
      },
      {
       "output_type": "stream",
       "stream": "stdout",
       "text": [
        "\n",
        "Predicting signal from SparseDeconvolutionModel with ElasticNet(alpha=0.01, copy_X=True, fit_intercept=False, max_iter=1000,\n",
        "      normalize=False, positive=True, precompute=auto, rho=1.0, tol=0.0001,\n",
        "      warm_start=False)"
       ]
      },
      {
       "output_type": "stream",
       "stream": "stdout",
       "text": [
        "\n",
        "Loading params from file: /biac4/wandell/biac2/wandell6/data/arokem/osmosis/FP/0009_01_DWI_2mm150dir_2x_b1000_aligned_trilin_SSD_rho1.0_alpha0.01.nii.gz"
       ]
      },
      {
       "output_type": "stream",
       "stream": "stdout",
       "text": [
        "\n",
        "Predicting signal from SparseDeconvolutionModel with ElasticNet(alpha=0.01, copy_X=True, fit_intercept=False, max_iter=1000,\n",
        "      normalize=False, positive=True, precompute=auto, rho=1.0, tol=0.0001,\n",
        "      warm_start=False)"
       ]
      },
      {
       "output_type": "stream",
       "stream": "stdout",
       "text": [
        "\n",
        "Loading params from file: /biac4/wandell/biac2/wandell6/data/arokem/osmosis/FP/0011_01_DWI_2mm150dir_2x_b1000_aligned_trilin_SSD_rho1.0_alpha0.01.nii.gz"
       ]
      },
      {
       "output_type": "stream",
       "stream": "stdout",
       "text": [
        "\n",
        "Predicting signal from SparseDeconvolutionModel with ElasticNet(alpha=0.025, copy_X=True, fit_intercept=False, max_iter=1000,\n",
        "      normalize=False, positive=True, precompute=auto, rho=1.0, tol=0.0001,\n",
        "      warm_start=False)"
       ]
      },
      {
       "output_type": "stream",
       "stream": "stdout",
       "text": [
        "\n",
        "Loading params from file: /biac4/wandell/biac2/wandell6/data/arokem/osmosis/FP/0009_01_DWI_2mm150dir_2x_b1000_aligned_trilin_SSD_rho1.0_alpha0.025.nii.gz"
       ]
      },
      {
       "output_type": "stream",
       "stream": "stdout",
       "text": [
        "\n",
        "Predicting signal from SparseDeconvolutionModel with ElasticNet(alpha=0.025, copy_X=True, fit_intercept=False, max_iter=1000,\n",
        "      normalize=False, positive=True, precompute=auto, rho=1.0, tol=0.0001,\n",
        "      warm_start=False)"
       ]
      },
      {
       "output_type": "stream",
       "stream": "stdout",
       "text": [
        "\n",
        "Loading params from file: /biac4/wandell/biac2/wandell6/data/arokem/osmosis/FP/0011_01_DWI_2mm150dir_2x_b1000_aligned_trilin_SSD_rho1.0_alpha0.025.nii.gz"
       ]
      },
      {
       "output_type": "stream",
       "stream": "stdout",
       "text": [
        "\n",
        "Predicting signal from SparseDeconvolutionModel with ElasticNet(alpha=0.05, copy_X=True, fit_intercept=False, max_iter=1000,\n",
        "      normalize=False, positive=True, precompute=auto, rho=1.0, tol=0.0001,\n",
        "      warm_start=False)"
       ]
      },
      {
       "output_type": "stream",
       "stream": "stdout",
       "text": [
        "\n",
        "Loading params from file: /biac4/wandell/biac2/wandell6/data/arokem/osmosis/FP/0009_01_DWI_2mm150dir_2x_b1000_aligned_trilin_SSD_rho1.0_alpha0.05.nii.gz"
       ]
      },
      {
       "output_type": "stream",
       "stream": "stdout",
       "text": [
        "\n",
        "Predicting signal from SparseDeconvolutionModel with ElasticNet(alpha=0.05, copy_X=True, fit_intercept=False, max_iter=1000,\n",
        "      normalize=False, positive=True, precompute=auto, rho=1.0, tol=0.0001,\n",
        "      warm_start=False)"
       ]
      },
      {
       "output_type": "stream",
       "stream": "stdout",
       "text": [
        "\n",
        "Loading params from file: /biac4/wandell/biac2/wandell6/data/arokem/osmosis/FP/0011_01_DWI_2mm150dir_2x_b1000_aligned_trilin_SSD_rho1.0_alpha0.05.nii.gz"
       ]
      },
      {
       "output_type": "stream",
       "stream": "stdout",
       "text": [
        "\n",
        "Predicting signal from SparseDeconvolutionModel with ElasticNet(alpha=0.0001, copy_X=True, fit_intercept=False, max_iter=1000,\n",
        "      normalize=False, positive=True, precompute=auto, rho=0.0, tol=0.0001,\n",
        "      warm_start=False)"
       ]
      },
      {
       "output_type": "stream",
       "stream": "stdout",
       "text": [
        "\n",
        "Loading params from file: /biac4/wandell/biac2/wandell6/data/arokem/osmosis/FP/0005_01_DTI_2mm_150dir_2x_b2000_aligned_trilin_SSD_rho0.0_alpha0.0001.nii.gz"
       ]
      },
      {
       "output_type": "stream",
       "stream": "stdout",
       "text": [
        "\n",
        "Predicting signal from SparseDeconvolutionModel with ElasticNet(alpha=0.0001, copy_X=True, fit_intercept=False, max_iter=1000,\n",
        "      normalize=False, positive=True, precompute=auto, rho=0.0, tol=0.0001,\n",
        "      warm_start=False)"
       ]
      },
      {
       "output_type": "stream",
       "stream": "stdout",
       "text": [
        "\n",
        "Loading params from file: /biac4/wandell/biac2/wandell6/data/arokem/osmosis/FP/0007_01_DTI_2mm_150dir_2x_b2000_aligned_trilin_SSD_rho0.0_alpha0.0001.nii.gz"
       ]
      },
      {
       "output_type": "stream",
       "stream": "stdout",
       "text": [
        "\n",
        "Predicting signal from SparseDeconvolutionModel with ElasticNet(alpha=0.0005, copy_X=True, fit_intercept=False, max_iter=1000,\n",
        "      normalize=False, positive=True, precompute=auto, rho=0.0, tol=0.0001,\n",
        "      warm_start=False)"
       ]
      },
      {
       "output_type": "stream",
       "stream": "stdout",
       "text": [
        "\n",
        "Loading params from file: /biac4/wandell/biac2/wandell6/data/arokem/osmosis/FP/0005_01_DTI_2mm_150dir_2x_b2000_aligned_trilin_SSD_rho0.0_alpha0.0005.nii.gz"
       ]
      },
      {
       "output_type": "stream",
       "stream": "stdout",
       "text": [
        "\n",
        "Predicting signal from SparseDeconvolutionModel with ElasticNet(alpha=0.0005, copy_X=True, fit_intercept=False, max_iter=1000,\n",
        "      normalize=False, positive=True, precompute=auto, rho=0.0, tol=0.0001,\n",
        "      warm_start=False)"
       ]
      },
      {
       "output_type": "stream",
       "stream": "stdout",
       "text": [
        "\n",
        "Loading params from file: /biac4/wandell/biac2/wandell6/data/arokem/osmosis/FP/0007_01_DTI_2mm_150dir_2x_b2000_aligned_trilin_SSD_rho0.0_alpha0.0005.nii.gz"
       ]
      },
      {
       "output_type": "stream",
       "stream": "stdout",
       "text": [
        "\n",
        "Predicting signal from SparseDeconvolutionModel with ElasticNet(alpha=0.001, copy_X=True, fit_intercept=False, max_iter=1000,\n",
        "      normalize=False, positive=True, precompute=auto, rho=0.0, tol=0.0001,\n",
        "      warm_start=False)"
       ]
      },
      {
       "output_type": "stream",
       "stream": "stdout",
       "text": [
        "\n",
        "Loading params from file: /biac4/wandell/biac2/wandell6/data/arokem/osmosis/FP/0005_01_DTI_2mm_150dir_2x_b2000_aligned_trilin_SSD_rho0.0_alpha0.001.nii.gz"
       ]
      },
      {
       "output_type": "stream",
       "stream": "stdout",
       "text": [
        "\n",
        "Predicting signal from SparseDeconvolutionModel with ElasticNet(alpha=0.001, copy_X=True, fit_intercept=False, max_iter=1000,\n",
        "      normalize=False, positive=True, precompute=auto, rho=0.0, tol=0.0001,\n",
        "      warm_start=False)"
       ]
      },
      {
       "output_type": "stream",
       "stream": "stdout",
       "text": [
        "\n",
        "Loading params from file: /biac4/wandell/biac2/wandell6/data/arokem/osmosis/FP/0007_01_DTI_2mm_150dir_2x_b2000_aligned_trilin_SSD_rho0.0_alpha0.001.nii.gz"
       ]
      },
      {
       "output_type": "stream",
       "stream": "stdout",
       "text": [
        "\n",
        "Predicting signal from SparseDeconvolutionModel with ElasticNet(alpha=0.0025, copy_X=True, fit_intercept=False, max_iter=1000,\n",
        "      normalize=False, positive=True, precompute=auto, rho=0.0, tol=0.0001,\n",
        "      warm_start=False)"
       ]
      },
      {
       "output_type": "stream",
       "stream": "stdout",
       "text": [
        "\n",
        "Loading params from file: /biac4/wandell/biac2/wandell6/data/arokem/osmosis/FP/0005_01_DTI_2mm_150dir_2x_b2000_aligned_trilin_SSD_rho0.0_alpha0.0025.nii.gz"
       ]
      },
      {
       "output_type": "stream",
       "stream": "stdout",
       "text": [
        "\n",
        "Predicting signal from SparseDeconvolutionModel with ElasticNet(alpha=0.0025, copy_X=True, fit_intercept=False, max_iter=1000,\n",
        "      normalize=False, positive=True, precompute=auto, rho=0.0, tol=0.0001,\n",
        "      warm_start=False)"
       ]
      },
      {
       "output_type": "stream",
       "stream": "stdout",
       "text": [
        "\n",
        "Loading params from file: /biac4/wandell/biac2/wandell6/data/arokem/osmosis/FP/0007_01_DTI_2mm_150dir_2x_b2000_aligned_trilin_SSD_rho0.0_alpha0.0025.nii.gz"
       ]
      },
      {
       "output_type": "stream",
       "stream": "stdout",
       "text": [
        "\n",
        "Predicting signal from SparseDeconvolutionModel with ElasticNet(alpha=0.005, copy_X=True, fit_intercept=False, max_iter=1000,\n",
        "      normalize=False, positive=True, precompute=auto, rho=0.0, tol=0.0001,\n",
        "      warm_start=False)"
       ]
      },
      {
       "output_type": "stream",
       "stream": "stdout",
       "text": [
        "\n",
        "Loading params from file: /biac4/wandell/biac2/wandell6/data/arokem/osmosis/FP/0005_01_DTI_2mm_150dir_2x_b2000_aligned_trilin_SSD_rho0.0_alpha0.005.nii.gz"
       ]
      },
      {
       "output_type": "stream",
       "stream": "stdout",
       "text": [
        "\n",
        "Predicting signal from SparseDeconvolutionModel with ElasticNet(alpha=0.005, copy_X=True, fit_intercept=False, max_iter=1000,\n",
        "      normalize=False, positive=True, precompute=auto, rho=0.0, tol=0.0001,\n",
        "      warm_start=False)"
       ]
      },
      {
       "output_type": "stream",
       "stream": "stdout",
       "text": [
        "\n",
        "Loading params from file: /biac4/wandell/biac2/wandell6/data/arokem/osmosis/FP/0007_01_DTI_2mm_150dir_2x_b2000_aligned_trilin_SSD_rho0.0_alpha0.005.nii.gz"
       ]
      },
      {
       "output_type": "stream",
       "stream": "stdout",
       "text": [
        "\n",
        "Predicting signal from SparseDeconvolutionModel with ElasticNet(alpha=0.0075, copy_X=True, fit_intercept=False, max_iter=1000,\n",
        "      normalize=False, positive=True, precompute=auto, rho=0.0, tol=0.0001,\n",
        "      warm_start=False)"
       ]
      },
      {
       "output_type": "stream",
       "stream": "stdout",
       "text": [
        "\n",
        "Loading params from file: /biac4/wandell/biac2/wandell6/data/arokem/osmosis/FP/0005_01_DTI_2mm_150dir_2x_b2000_aligned_trilin_SSD_rho0.0_alpha0.0075.nii.gz"
       ]
      },
      {
       "output_type": "stream",
       "stream": "stdout",
       "text": [
        "\n",
        "Predicting signal from SparseDeconvolutionModel with ElasticNet(alpha=0.0075, copy_X=True, fit_intercept=False, max_iter=1000,\n",
        "      normalize=False, positive=True, precompute=auto, rho=0.0, tol=0.0001,\n",
        "      warm_start=False)"
       ]
      },
      {
       "output_type": "stream",
       "stream": "stdout",
       "text": [
        "\n",
        "Loading params from file: /biac4/wandell/biac2/wandell6/data/arokem/osmosis/FP/0007_01_DTI_2mm_150dir_2x_b2000_aligned_trilin_SSD_rho0.0_alpha0.0075.nii.gz"
       ]
      },
      {
       "output_type": "stream",
       "stream": "stdout",
       "text": [
        "\n",
        "Predicting signal from SparseDeconvolutionModel with ElasticNet(alpha=0.01, copy_X=True, fit_intercept=False, max_iter=1000,\n",
        "      normalize=False, positive=True, precompute=auto, rho=0.0, tol=0.0001,\n",
        "      warm_start=False)"
       ]
      },
      {
       "output_type": "stream",
       "stream": "stdout",
       "text": [
        "\n",
        "Loading params from file: /biac4/wandell/biac2/wandell6/data/arokem/osmosis/FP/0005_01_DTI_2mm_150dir_2x_b2000_aligned_trilin_SSD_rho0.0_alpha0.01.nii.gz"
       ]
      },
      {
       "output_type": "stream",
       "stream": "stdout",
       "text": [
        "\n",
        "Predicting signal from SparseDeconvolutionModel with ElasticNet(alpha=0.01, copy_X=True, fit_intercept=False, max_iter=1000,\n",
        "      normalize=False, positive=True, precompute=auto, rho=0.0, tol=0.0001,\n",
        "      warm_start=False)"
       ]
      },
      {
       "output_type": "stream",
       "stream": "stdout",
       "text": [
        "\n",
        "Loading params from file: /biac4/wandell/biac2/wandell6/data/arokem/osmosis/FP/0007_01_DTI_2mm_150dir_2x_b2000_aligned_trilin_SSD_rho0.0_alpha0.01.nii.gz"
       ]
      },
      {
       "output_type": "stream",
       "stream": "stdout",
       "text": [
        "\n",
        "Predicting signal from SparseDeconvolutionModel with ElasticNet(alpha=0.025, copy_X=True, fit_intercept=False, max_iter=1000,\n",
        "      normalize=False, positive=True, precompute=auto, rho=0.0, tol=0.0001,\n",
        "      warm_start=False)"
       ]
      },
      {
       "output_type": "stream",
       "stream": "stdout",
       "text": [
        "\n",
        "Loading params from file: /biac4/wandell/biac2/wandell6/data/arokem/osmosis/FP/0005_01_DTI_2mm_150dir_2x_b2000_aligned_trilin_SSD_rho0.0_alpha0.025.nii.gz"
       ]
      },
      {
       "output_type": "stream",
       "stream": "stdout",
       "text": [
        "\n",
        "Predicting signal from SparseDeconvolutionModel with ElasticNet(alpha=0.025, copy_X=True, fit_intercept=False, max_iter=1000,\n",
        "      normalize=False, positive=True, precompute=auto, rho=0.0, tol=0.0001,\n",
        "      warm_start=False)"
       ]
      },
      {
       "output_type": "stream",
       "stream": "stdout",
       "text": [
        "\n",
        "Loading params from file: /biac4/wandell/biac2/wandell6/data/arokem/osmosis/FP/0007_01_DTI_2mm_150dir_2x_b2000_aligned_trilin_SSD_rho0.0_alpha0.025.nii.gz"
       ]
      },
      {
       "output_type": "stream",
       "stream": "stdout",
       "text": [
        "\n",
        "Predicting signal from SparseDeconvolutionModel with ElasticNet(alpha=0.05, copy_X=True, fit_intercept=False, max_iter=1000,\n",
        "      normalize=False, positive=True, precompute=auto, rho=0.0, tol=0.0001,\n",
        "      warm_start=False)"
       ]
      },
      {
       "output_type": "stream",
       "stream": "stdout",
       "text": [
        "\n",
        "Loading params from file: /biac4/wandell/biac2/wandell6/data/arokem/osmosis/FP/0005_01_DTI_2mm_150dir_2x_b2000_aligned_trilin_SSD_rho0.0_alpha0.05.nii.gz"
       ]
      },
      {
       "output_type": "stream",
       "stream": "stdout",
       "text": [
        "\n",
        "Predicting signal from SparseDeconvolutionModel with ElasticNet(alpha=0.05, copy_X=True, fit_intercept=False, max_iter=1000,\n",
        "      normalize=False, positive=True, precompute=auto, rho=0.0, tol=0.0001,\n",
        "      warm_start=False)"
       ]
      },
      {
       "output_type": "stream",
       "stream": "stdout",
       "text": [
        "\n",
        "Loading params from file: /biac4/wandell/biac2/wandell6/data/arokem/osmosis/FP/0007_01_DTI_2mm_150dir_2x_b2000_aligned_trilin_SSD_rho0.0_alpha0.05.nii.gz"
       ]
      },
      {
       "output_type": "stream",
       "stream": "stdout",
       "text": [
        "\n",
        "Predicting signal from SparseDeconvolutionModel with ElasticNet(alpha=0.0001, copy_X=True, fit_intercept=False, max_iter=1000,\n",
        "      normalize=False, positive=True, precompute=auto, rho=0.2, tol=0.0001,\n",
        "      warm_start=False)"
       ]
      },
      {
       "output_type": "stream",
       "stream": "stdout",
       "text": [
        "\n",
        "Loading params from file: /biac4/wandell/biac2/wandell6/data/arokem/osmosis/FP/0005_01_DTI_2mm_150dir_2x_b2000_aligned_trilin_SSD_rho0.2_alpha0.0001.nii.gz"
       ]
      },
      {
       "output_type": "stream",
       "stream": "stdout",
       "text": [
        "\n",
        "Predicting signal from SparseDeconvolutionModel with ElasticNet(alpha=0.0001, copy_X=True, fit_intercept=False, max_iter=1000,\n",
        "      normalize=False, positive=True, precompute=auto, rho=0.2, tol=0.0001,\n",
        "      warm_start=False)"
       ]
      },
      {
       "output_type": "stream",
       "stream": "stdout",
       "text": [
        "\n",
        "Loading params from file: /biac4/wandell/biac2/wandell6/data/arokem/osmosis/FP/0007_01_DTI_2mm_150dir_2x_b2000_aligned_trilin_SSD_rho0.2_alpha0.0001.nii.gz"
       ]
      },
      {
       "output_type": "stream",
       "stream": "stdout",
       "text": [
        "\n",
        "Predicting signal from SparseDeconvolutionModel with ElasticNet(alpha=0.0005, copy_X=True, fit_intercept=False, max_iter=1000,\n",
        "      normalize=False, positive=True, precompute=auto, rho=0.2, tol=0.0001,\n",
        "      warm_start=False)"
       ]
      },
      {
       "output_type": "stream",
       "stream": "stdout",
       "text": [
        "\n",
        "Loading params from file: /biac4/wandell/biac2/wandell6/data/arokem/osmosis/FP/0005_01_DTI_2mm_150dir_2x_b2000_aligned_trilin_SSD_rho0.2_alpha0.0005.nii.gz"
       ]
      },
      {
       "output_type": "stream",
       "stream": "stdout",
       "text": [
        "\n",
        "Predicting signal from SparseDeconvolutionModel with ElasticNet(alpha=0.0005, copy_X=True, fit_intercept=False, max_iter=1000,\n",
        "      normalize=False, positive=True, precompute=auto, rho=0.2, tol=0.0001,\n",
        "      warm_start=False)"
       ]
      },
      {
       "output_type": "stream",
       "stream": "stdout",
       "text": [
        "\n",
        "Loading params from file: /biac4/wandell/biac2/wandell6/data/arokem/osmosis/FP/0007_01_DTI_2mm_150dir_2x_b2000_aligned_trilin_SSD_rho0.2_alpha0.0005.nii.gz"
       ]
      },
      {
       "output_type": "stream",
       "stream": "stdout",
       "text": [
        "\n",
        "Predicting signal from SparseDeconvolutionModel with ElasticNet(alpha=0.001, copy_X=True, fit_intercept=False, max_iter=1000,\n",
        "      normalize=False, positive=True, precompute=auto, rho=0.2, tol=0.0001,\n",
        "      warm_start=False)"
       ]
      },
      {
       "output_type": "stream",
       "stream": "stdout",
       "text": [
        "\n",
        "Loading params from file: /biac4/wandell/biac2/wandell6/data/arokem/osmosis/FP/0005_01_DTI_2mm_150dir_2x_b2000_aligned_trilin_SSD_rho0.2_alpha0.001.nii.gz"
       ]
      },
      {
       "output_type": "stream",
       "stream": "stdout",
       "text": [
        "\n",
        "Predicting signal from SparseDeconvolutionModel with ElasticNet(alpha=0.001, copy_X=True, fit_intercept=False, max_iter=1000,\n",
        "      normalize=False, positive=True, precompute=auto, rho=0.2, tol=0.0001,\n",
        "      warm_start=False)"
       ]
      },
      {
       "output_type": "stream",
       "stream": "stdout",
       "text": [
        "\n",
        "Loading params from file: /biac4/wandell/biac2/wandell6/data/arokem/osmosis/FP/0007_01_DTI_2mm_150dir_2x_b2000_aligned_trilin_SSD_rho0.2_alpha0.001.nii.gz"
       ]
      },
      {
       "output_type": "stream",
       "stream": "stdout",
       "text": [
        "\n",
        "Predicting signal from SparseDeconvolutionModel with ElasticNet(alpha=0.0025, copy_X=True, fit_intercept=False, max_iter=1000,\n",
        "      normalize=False, positive=True, precompute=auto, rho=0.2, tol=0.0001,\n",
        "      warm_start=False)"
       ]
      },
      {
       "output_type": "stream",
       "stream": "stdout",
       "text": [
        "\n",
        "Loading params from file: /biac4/wandell/biac2/wandell6/data/arokem/osmosis/FP/0005_01_DTI_2mm_150dir_2x_b2000_aligned_trilin_SSD_rho0.2_alpha0.0025.nii.gz"
       ]
      },
      {
       "output_type": "stream",
       "stream": "stdout",
       "text": [
        "\n",
        "Predicting signal from SparseDeconvolutionModel with ElasticNet(alpha=0.0025, copy_X=True, fit_intercept=False, max_iter=1000,\n",
        "      normalize=False, positive=True, precompute=auto, rho=0.2, tol=0.0001,\n",
        "      warm_start=False)"
       ]
      },
      {
       "output_type": "stream",
       "stream": "stdout",
       "text": [
        "\n",
        "Loading params from file: /biac4/wandell/biac2/wandell6/data/arokem/osmosis/FP/0007_01_DTI_2mm_150dir_2x_b2000_aligned_trilin_SSD_rho0.2_alpha0.0025.nii.gz"
       ]
      },
      {
       "output_type": "stream",
       "stream": "stdout",
       "text": [
        "\n",
        "Predicting signal from SparseDeconvolutionModel with ElasticNet(alpha=0.005, copy_X=True, fit_intercept=False, max_iter=1000,\n",
        "      normalize=False, positive=True, precompute=auto, rho=0.2, tol=0.0001,\n",
        "      warm_start=False)"
       ]
      },
      {
       "output_type": "stream",
       "stream": "stdout",
       "text": [
        "\n",
        "Loading params from file: /biac4/wandell/biac2/wandell6/data/arokem/osmosis/FP/0005_01_DTI_2mm_150dir_2x_b2000_aligned_trilin_SSD_rho0.2_alpha0.005.nii.gz"
       ]
      },
      {
       "output_type": "stream",
       "stream": "stdout",
       "text": [
        "\n",
        "Predicting signal from SparseDeconvolutionModel with ElasticNet(alpha=0.005, copy_X=True, fit_intercept=False, max_iter=1000,\n",
        "      normalize=False, positive=True, precompute=auto, rho=0.2, tol=0.0001,\n",
        "      warm_start=False)"
       ]
      },
      {
       "output_type": "stream",
       "stream": "stdout",
       "text": [
        "\n",
        "Loading params from file: /biac4/wandell/biac2/wandell6/data/arokem/osmosis/FP/0007_01_DTI_2mm_150dir_2x_b2000_aligned_trilin_SSD_rho0.2_alpha0.005.nii.gz"
       ]
      },
      {
       "output_type": "stream",
       "stream": "stdout",
       "text": [
        "\n",
        "Predicting signal from SparseDeconvolutionModel with ElasticNet(alpha=0.0075, copy_X=True, fit_intercept=False, max_iter=1000,\n",
        "      normalize=False, positive=True, precompute=auto, rho=0.2, tol=0.0001,\n",
        "      warm_start=False)"
       ]
      },
      {
       "output_type": "stream",
       "stream": "stdout",
       "text": [
        "\n",
        "Loading params from file: /biac4/wandell/biac2/wandell6/data/arokem/osmosis/FP/0005_01_DTI_2mm_150dir_2x_b2000_aligned_trilin_SSD_rho0.2_alpha0.0075.nii.gz"
       ]
      },
      {
       "output_type": "stream",
       "stream": "stdout",
       "text": [
        "\n",
        "Predicting signal from SparseDeconvolutionModel with ElasticNet(alpha=0.0075, copy_X=True, fit_intercept=False, max_iter=1000,\n",
        "      normalize=False, positive=True, precompute=auto, rho=0.2, tol=0.0001,\n",
        "      warm_start=False)"
       ]
      },
      {
       "output_type": "stream",
       "stream": "stdout",
       "text": [
        "\n",
        "Loading params from file: /biac4/wandell/biac2/wandell6/data/arokem/osmosis/FP/0007_01_DTI_2mm_150dir_2x_b2000_aligned_trilin_SSD_rho0.2_alpha0.0075.nii.gz"
       ]
      },
      {
       "output_type": "stream",
       "stream": "stdout",
       "text": [
        "\n",
        "Predicting signal from SparseDeconvolutionModel with ElasticNet(alpha=0.01, copy_X=True, fit_intercept=False, max_iter=1000,\n",
        "      normalize=False, positive=True, precompute=auto, rho=0.2, tol=0.0001,\n",
        "      warm_start=False)"
       ]
      },
      {
       "output_type": "stream",
       "stream": "stdout",
       "text": [
        "\n",
        "Loading params from file: /biac4/wandell/biac2/wandell6/data/arokem/osmosis/FP/0005_01_DTI_2mm_150dir_2x_b2000_aligned_trilin_SSD_rho0.2_alpha0.01.nii.gz"
       ]
      },
      {
       "output_type": "stream",
       "stream": "stdout",
       "text": [
        "\n",
        "Predicting signal from SparseDeconvolutionModel with ElasticNet(alpha=0.01, copy_X=True, fit_intercept=False, max_iter=1000,\n",
        "      normalize=False, positive=True, precompute=auto, rho=0.2, tol=0.0001,\n",
        "      warm_start=False)"
       ]
      },
      {
       "output_type": "stream",
       "stream": "stdout",
       "text": [
        "\n",
        "Loading params from file: /biac4/wandell/biac2/wandell6/data/arokem/osmosis/FP/0007_01_DTI_2mm_150dir_2x_b2000_aligned_trilin_SSD_rho0.2_alpha0.01.nii.gz"
       ]
      },
      {
       "output_type": "stream",
       "stream": "stdout",
       "text": [
        "\n",
        "Predicting signal from SparseDeconvolutionModel with ElasticNet(alpha=0.025, copy_X=True, fit_intercept=False, max_iter=1000,\n",
        "      normalize=False, positive=True, precompute=auto, rho=0.2, tol=0.0001,\n",
        "      warm_start=False)"
       ]
      },
      {
       "output_type": "stream",
       "stream": "stdout",
       "text": [
        "\n",
        "Loading params from file: /biac4/wandell/biac2/wandell6/data/arokem/osmosis/FP/0005_01_DTI_2mm_150dir_2x_b2000_aligned_trilin_SSD_rho0.2_alpha0.025.nii.gz"
       ]
      },
      {
       "output_type": "stream",
       "stream": "stdout",
       "text": [
        "\n",
        "Predicting signal from SparseDeconvolutionModel with ElasticNet(alpha=0.025, copy_X=True, fit_intercept=False, max_iter=1000,\n",
        "      normalize=False, positive=True, precompute=auto, rho=0.2, tol=0.0001,\n",
        "      warm_start=False)"
       ]
      },
      {
       "output_type": "stream",
       "stream": "stdout",
       "text": [
        "\n",
        "Loading params from file: /biac4/wandell/biac2/wandell6/data/arokem/osmosis/FP/0007_01_DTI_2mm_150dir_2x_b2000_aligned_trilin_SSD_rho0.2_alpha0.025.nii.gz"
       ]
      },
      {
       "output_type": "stream",
       "stream": "stdout",
       "text": [
        "\n",
        "Predicting signal from SparseDeconvolutionModel with ElasticNet(alpha=0.05, copy_X=True, fit_intercept=False, max_iter=1000,\n",
        "      normalize=False, positive=True, precompute=auto, rho=0.2, tol=0.0001,\n",
        "      warm_start=False)"
       ]
      },
      {
       "output_type": "stream",
       "stream": "stdout",
       "text": [
        "\n",
        "Loading params from file: /biac4/wandell/biac2/wandell6/data/arokem/osmosis/FP/0005_01_DTI_2mm_150dir_2x_b2000_aligned_trilin_SSD_rho0.2_alpha0.05.nii.gz"
       ]
      },
      {
       "output_type": "stream",
       "stream": "stdout",
       "text": [
        "\n",
        "Predicting signal from SparseDeconvolutionModel with ElasticNet(alpha=0.05, copy_X=True, fit_intercept=False, max_iter=1000,\n",
        "      normalize=False, positive=True, precompute=auto, rho=0.2, tol=0.0001,\n",
        "      warm_start=False)"
       ]
      },
      {
       "output_type": "stream",
       "stream": "stdout",
       "text": [
        "\n",
        "Loading params from file: /biac4/wandell/biac2/wandell6/data/arokem/osmosis/FP/0007_01_DTI_2mm_150dir_2x_b2000_aligned_trilin_SSD_rho0.2_alpha0.05.nii.gz"
       ]
      },
      {
       "output_type": "stream",
       "stream": "stdout",
       "text": [
        "\n",
        "Predicting signal from SparseDeconvolutionModel with ElasticNet(alpha=0.0001, copy_X=True, fit_intercept=False, max_iter=1000,\n",
        "      normalize=False, positive=True, precompute=auto, rho=0.4, tol=0.0001,\n",
        "      warm_start=False)"
       ]
      },
      {
       "output_type": "stream",
       "stream": "stdout",
       "text": [
        "\n",
        "Loading params from file: /biac4/wandell/biac2/wandell6/data/arokem/osmosis/FP/0005_01_DTI_2mm_150dir_2x_b2000_aligned_trilin_SSD_rho0.4_alpha0.0001.nii.gz"
       ]
      },
      {
       "output_type": "stream",
       "stream": "stdout",
       "text": [
        "\n",
        "Predicting signal from SparseDeconvolutionModel with ElasticNet(alpha=0.0001, copy_X=True, fit_intercept=False, max_iter=1000,\n",
        "      normalize=False, positive=True, precompute=auto, rho=0.4, tol=0.0001,\n",
        "      warm_start=False)"
       ]
      },
      {
       "output_type": "stream",
       "stream": "stdout",
       "text": [
        "\n",
        "Loading params from file: /biac4/wandell/biac2/wandell6/data/arokem/osmosis/FP/0007_01_DTI_2mm_150dir_2x_b2000_aligned_trilin_SSD_rho0.4_alpha0.0001.nii.gz"
       ]
      },
      {
       "output_type": "stream",
       "stream": "stdout",
       "text": [
        "\n",
        "Predicting signal from SparseDeconvolutionModel with ElasticNet(alpha=0.0005, copy_X=True, fit_intercept=False, max_iter=1000,\n",
        "      normalize=False, positive=True, precompute=auto, rho=0.4, tol=0.0001,\n",
        "      warm_start=False)"
       ]
      },
      {
       "output_type": "stream",
       "stream": "stdout",
       "text": [
        "\n",
        "Loading params from file: /biac4/wandell/biac2/wandell6/data/arokem/osmosis/FP/0005_01_DTI_2mm_150dir_2x_b2000_aligned_trilin_SSD_rho0.4_alpha0.0005.nii.gz"
       ]
      },
      {
       "output_type": "stream",
       "stream": "stdout",
       "text": [
        "\n",
        "Predicting signal from SparseDeconvolutionModel with ElasticNet(alpha=0.0005, copy_X=True, fit_intercept=False, max_iter=1000,\n",
        "      normalize=False, positive=True, precompute=auto, rho=0.4, tol=0.0001,\n",
        "      warm_start=False)"
       ]
      },
      {
       "output_type": "stream",
       "stream": "stdout",
       "text": [
        "\n",
        "Loading params from file: /biac4/wandell/biac2/wandell6/data/arokem/osmosis/FP/0007_01_DTI_2mm_150dir_2x_b2000_aligned_trilin_SSD_rho0.4_alpha0.0005.nii.gz"
       ]
      },
      {
       "output_type": "stream",
       "stream": "stdout",
       "text": [
        "\n",
        "Predicting signal from SparseDeconvolutionModel with ElasticNet(alpha=0.001, copy_X=True, fit_intercept=False, max_iter=1000,\n",
        "      normalize=False, positive=True, precompute=auto, rho=0.4, tol=0.0001,\n",
        "      warm_start=False)"
       ]
      },
      {
       "output_type": "stream",
       "stream": "stdout",
       "text": [
        "\n",
        "Loading params from file: /biac4/wandell/biac2/wandell6/data/arokem/osmosis/FP/0005_01_DTI_2mm_150dir_2x_b2000_aligned_trilin_SSD_rho0.4_alpha0.001.nii.gz"
       ]
      },
      {
       "output_type": "stream",
       "stream": "stdout",
       "text": [
        "\n",
        "Predicting signal from SparseDeconvolutionModel with ElasticNet(alpha=0.001, copy_X=True, fit_intercept=False, max_iter=1000,\n",
        "      normalize=False, positive=True, precompute=auto, rho=0.4, tol=0.0001,\n",
        "      warm_start=False)"
       ]
      },
      {
       "output_type": "stream",
       "stream": "stdout",
       "text": [
        "\n",
        "Loading params from file: /biac4/wandell/biac2/wandell6/data/arokem/osmosis/FP/0007_01_DTI_2mm_150dir_2x_b2000_aligned_trilin_SSD_rho0.4_alpha0.001.nii.gz"
       ]
      },
      {
       "output_type": "stream",
       "stream": "stdout",
       "text": [
        "\n",
        "Predicting signal from SparseDeconvolutionModel with ElasticNet(alpha=0.0025, copy_X=True, fit_intercept=False, max_iter=1000,\n",
        "      normalize=False, positive=True, precompute=auto, rho=0.4, tol=0.0001,\n",
        "      warm_start=False)"
       ]
      },
      {
       "output_type": "stream",
       "stream": "stdout",
       "text": [
        "\n",
        "Loading params from file: /biac4/wandell/biac2/wandell6/data/arokem/osmosis/FP/0005_01_DTI_2mm_150dir_2x_b2000_aligned_trilin_SSD_rho0.4_alpha0.0025.nii.gz"
       ]
      },
      {
       "output_type": "stream",
       "stream": "stdout",
       "text": [
        "\n",
        "Predicting signal from SparseDeconvolutionModel with ElasticNet(alpha=0.0025, copy_X=True, fit_intercept=False, max_iter=1000,\n",
        "      normalize=False, positive=True, precompute=auto, rho=0.4, tol=0.0001,\n",
        "      warm_start=False)"
       ]
      },
      {
       "output_type": "stream",
       "stream": "stdout",
       "text": [
        "\n",
        "Loading params from file: /biac4/wandell/biac2/wandell6/data/arokem/osmosis/FP/0007_01_DTI_2mm_150dir_2x_b2000_aligned_trilin_SSD_rho0.4_alpha0.0025.nii.gz"
       ]
      },
      {
       "output_type": "stream",
       "stream": "stdout",
       "text": [
        "\n",
        "Predicting signal from SparseDeconvolutionModel with ElasticNet(alpha=0.005, copy_X=True, fit_intercept=False, max_iter=1000,\n",
        "      normalize=False, positive=True, precompute=auto, rho=0.4, tol=0.0001,\n",
        "      warm_start=False)"
       ]
      },
      {
       "output_type": "stream",
       "stream": "stdout",
       "text": [
        "\n",
        "Loading params from file: /biac4/wandell/biac2/wandell6/data/arokem/osmosis/FP/0005_01_DTI_2mm_150dir_2x_b2000_aligned_trilin_SSD_rho0.4_alpha0.005.nii.gz"
       ]
      },
      {
       "output_type": "stream",
       "stream": "stdout",
       "text": [
        "\n",
        "Predicting signal from SparseDeconvolutionModel with ElasticNet(alpha=0.005, copy_X=True, fit_intercept=False, max_iter=1000,\n",
        "      normalize=False, positive=True, precompute=auto, rho=0.4, tol=0.0001,\n",
        "      warm_start=False)"
       ]
      },
      {
       "output_type": "stream",
       "stream": "stdout",
       "text": [
        "\n",
        "Loading params from file: /biac4/wandell/biac2/wandell6/data/arokem/osmosis/FP/0007_01_DTI_2mm_150dir_2x_b2000_aligned_trilin_SSD_rho0.4_alpha0.005.nii.gz"
       ]
      },
      {
       "output_type": "stream",
       "stream": "stdout",
       "text": [
        "\n",
        "Predicting signal from SparseDeconvolutionModel with ElasticNet(alpha=0.0075, copy_X=True, fit_intercept=False, max_iter=1000,\n",
        "      normalize=False, positive=True, precompute=auto, rho=0.4, tol=0.0001,\n",
        "      warm_start=False)"
       ]
      },
      {
       "output_type": "stream",
       "stream": "stdout",
       "text": [
        "\n",
        "Loading params from file: /biac4/wandell/biac2/wandell6/data/arokem/osmosis/FP/0005_01_DTI_2mm_150dir_2x_b2000_aligned_trilin_SSD_rho0.4_alpha0.0075.nii.gz"
       ]
      },
      {
       "output_type": "stream",
       "stream": "stdout",
       "text": [
        "\n",
        "Predicting signal from SparseDeconvolutionModel with ElasticNet(alpha=0.0075, copy_X=True, fit_intercept=False, max_iter=1000,\n",
        "      normalize=False, positive=True, precompute=auto, rho=0.4, tol=0.0001,\n",
        "      warm_start=False)"
       ]
      },
      {
       "output_type": "stream",
       "stream": "stdout",
       "text": [
        "\n",
        "Loading params from file: /biac4/wandell/biac2/wandell6/data/arokem/osmosis/FP/0007_01_DTI_2mm_150dir_2x_b2000_aligned_trilin_SSD_rho0.4_alpha0.0075.nii.gz"
       ]
      },
      {
       "output_type": "stream",
       "stream": "stdout",
       "text": [
        "\n",
        "Predicting signal from SparseDeconvolutionModel with ElasticNet(alpha=0.01, copy_X=True, fit_intercept=False, max_iter=1000,\n",
        "      normalize=False, positive=True, precompute=auto, rho=0.4, tol=0.0001,\n",
        "      warm_start=False)"
       ]
      },
      {
       "output_type": "stream",
       "stream": "stdout",
       "text": [
        "\n",
        "Loading params from file: /biac4/wandell/biac2/wandell6/data/arokem/osmosis/FP/0005_01_DTI_2mm_150dir_2x_b2000_aligned_trilin_SSD_rho0.4_alpha0.01.nii.gz"
       ]
      },
      {
       "output_type": "stream",
       "stream": "stdout",
       "text": [
        "\n",
        "Predicting signal from SparseDeconvolutionModel with ElasticNet(alpha=0.01, copy_X=True, fit_intercept=False, max_iter=1000,\n",
        "      normalize=False, positive=True, precompute=auto, rho=0.4, tol=0.0001,\n",
        "      warm_start=False)"
       ]
      },
      {
       "output_type": "stream",
       "stream": "stdout",
       "text": [
        "\n",
        "Loading params from file: /biac4/wandell/biac2/wandell6/data/arokem/osmosis/FP/0007_01_DTI_2mm_150dir_2x_b2000_aligned_trilin_SSD_rho0.4_alpha0.01.nii.gz"
       ]
      },
      {
       "output_type": "stream",
       "stream": "stdout",
       "text": [
        "\n",
        "Predicting signal from SparseDeconvolutionModel with ElasticNet(alpha=0.025, copy_X=True, fit_intercept=False, max_iter=1000,\n",
        "      normalize=False, positive=True, precompute=auto, rho=0.4, tol=0.0001,\n",
        "      warm_start=False)"
       ]
      },
      {
       "output_type": "stream",
       "stream": "stdout",
       "text": [
        "\n",
        "Loading params from file: /biac4/wandell/biac2/wandell6/data/arokem/osmosis/FP/0005_01_DTI_2mm_150dir_2x_b2000_aligned_trilin_SSD_rho0.4_alpha0.025.nii.gz"
       ]
      },
      {
       "output_type": "stream",
       "stream": "stdout",
       "text": [
        "\n",
        "Predicting signal from SparseDeconvolutionModel with ElasticNet(alpha=0.025, copy_X=True, fit_intercept=False, max_iter=1000,\n",
        "      normalize=False, positive=True, precompute=auto, rho=0.4, tol=0.0001,\n",
        "      warm_start=False)"
       ]
      },
      {
       "output_type": "stream",
       "stream": "stdout",
       "text": [
        "\n",
        "Loading params from file: /biac4/wandell/biac2/wandell6/data/arokem/osmosis/FP/0007_01_DTI_2mm_150dir_2x_b2000_aligned_trilin_SSD_rho0.4_alpha0.025.nii.gz"
       ]
      },
      {
       "output_type": "stream",
       "stream": "stdout",
       "text": [
        "\n",
        "Predicting signal from SparseDeconvolutionModel with ElasticNet(alpha=0.05, copy_X=True, fit_intercept=False, max_iter=1000,\n",
        "      normalize=False, positive=True, precompute=auto, rho=0.4, tol=0.0001,\n",
        "      warm_start=False)"
       ]
      },
      {
       "output_type": "stream",
       "stream": "stdout",
       "text": [
        "\n",
        "Loading params from file: /biac4/wandell/biac2/wandell6/data/arokem/osmosis/FP/0005_01_DTI_2mm_150dir_2x_b2000_aligned_trilin_SSD_rho0.4_alpha0.05.nii.gz"
       ]
      },
      {
       "output_type": "stream",
       "stream": "stdout",
       "text": [
        "\n",
        "Predicting signal from SparseDeconvolutionModel with ElasticNet(alpha=0.05, copy_X=True, fit_intercept=False, max_iter=1000,\n",
        "      normalize=False, positive=True, precompute=auto, rho=0.4, tol=0.0001,\n",
        "      warm_start=False)"
       ]
      },
      {
       "output_type": "stream",
       "stream": "stdout",
       "text": [
        "\n",
        "Loading params from file: /biac4/wandell/biac2/wandell6/data/arokem/osmosis/FP/0007_01_DTI_2mm_150dir_2x_b2000_aligned_trilin_SSD_rho0.4_alpha0.05.nii.gz"
       ]
      },
      {
       "output_type": "stream",
       "stream": "stdout",
       "text": [
        "\n",
        "Predicting signal from SparseDeconvolutionModel with ElasticNet(alpha=0.0001, copy_X=True, fit_intercept=False, max_iter=1000,\n",
        "      normalize=False, positive=True, precompute=auto, rho=0.6, tol=0.0001,\n",
        "      warm_start=False)"
       ]
      },
      {
       "output_type": "stream",
       "stream": "stdout",
       "text": [
        "\n",
        "Loading params from file: /biac4/wandell/biac2/wandell6/data/arokem/osmosis/FP/0005_01_DTI_2mm_150dir_2x_b2000_aligned_trilin_SSD_rho0.6_alpha0.0001.nii.gz"
       ]
      },
      {
       "output_type": "stream",
       "stream": "stdout",
       "text": [
        "\n",
        "Predicting signal from SparseDeconvolutionModel with ElasticNet(alpha=0.0001, copy_X=True, fit_intercept=False, max_iter=1000,\n",
        "      normalize=False, positive=True, precompute=auto, rho=0.6, tol=0.0001,\n",
        "      warm_start=False)"
       ]
      },
      {
       "output_type": "stream",
       "stream": "stdout",
       "text": [
        "\n",
        "Loading params from file: /biac4/wandell/biac2/wandell6/data/arokem/osmosis/FP/0007_01_DTI_2mm_150dir_2x_b2000_aligned_trilin_SSD_rho0.6_alpha0.0001.nii.gz"
       ]
      },
      {
       "output_type": "stream",
       "stream": "stdout",
       "text": [
        "\n",
        "Predicting signal from SparseDeconvolutionModel with ElasticNet(alpha=0.0005, copy_X=True, fit_intercept=False, max_iter=1000,\n",
        "      normalize=False, positive=True, precompute=auto, rho=0.6, tol=0.0001,\n",
        "      warm_start=False)"
       ]
      },
      {
       "output_type": "stream",
       "stream": "stdout",
       "text": [
        "\n",
        "Loading params from file: /biac4/wandell/biac2/wandell6/data/arokem/osmosis/FP/0005_01_DTI_2mm_150dir_2x_b2000_aligned_trilin_SSD_rho0.6_alpha0.0005.nii.gz"
       ]
      },
      {
       "output_type": "stream",
       "stream": "stdout",
       "text": [
        "\n",
        "Predicting signal from SparseDeconvolutionModel with ElasticNet(alpha=0.0005, copy_X=True, fit_intercept=False, max_iter=1000,\n",
        "      normalize=False, positive=True, precompute=auto, rho=0.6, tol=0.0001,\n",
        "      warm_start=False)"
       ]
      },
      {
       "output_type": "stream",
       "stream": "stdout",
       "text": [
        "\n",
        "Loading params from file: /biac4/wandell/biac2/wandell6/data/arokem/osmosis/FP/0007_01_DTI_2mm_150dir_2x_b2000_aligned_trilin_SSD_rho0.6_alpha0.0005.nii.gz"
       ]
      },
      {
       "output_type": "stream",
       "stream": "stdout",
       "text": [
        "\n",
        "Predicting signal from SparseDeconvolutionModel with ElasticNet(alpha=0.001, copy_X=True, fit_intercept=False, max_iter=1000,\n",
        "      normalize=False, positive=True, precompute=auto, rho=0.6, tol=0.0001,\n",
        "      warm_start=False)"
       ]
      },
      {
       "output_type": "stream",
       "stream": "stdout",
       "text": [
        "\n",
        "Loading params from file: /biac4/wandell/biac2/wandell6/data/arokem/osmosis/FP/0005_01_DTI_2mm_150dir_2x_b2000_aligned_trilin_SSD_rho0.6_alpha0.001.nii.gz"
       ]
      },
      {
       "output_type": "stream",
       "stream": "stdout",
       "text": [
        "\n",
        "Predicting signal from SparseDeconvolutionModel with ElasticNet(alpha=0.001, copy_X=True, fit_intercept=False, max_iter=1000,\n",
        "      normalize=False, positive=True, precompute=auto, rho=0.6, tol=0.0001,\n",
        "      warm_start=False)"
       ]
      },
      {
       "output_type": "stream",
       "stream": "stdout",
       "text": [
        "\n",
        "Loading params from file: /biac4/wandell/biac2/wandell6/data/arokem/osmosis/FP/0007_01_DTI_2mm_150dir_2x_b2000_aligned_trilin_SSD_rho0.6_alpha0.001.nii.gz"
       ]
      },
      {
       "output_type": "stream",
       "stream": "stdout",
       "text": [
        "\n",
        "Predicting signal from SparseDeconvolutionModel with ElasticNet(alpha=0.0025, copy_X=True, fit_intercept=False, max_iter=1000,\n",
        "      normalize=False, positive=True, precompute=auto, rho=0.6, tol=0.0001,\n",
        "      warm_start=False)"
       ]
      },
      {
       "output_type": "stream",
       "stream": "stdout",
       "text": [
        "\n",
        "Loading params from file: /biac4/wandell/biac2/wandell6/data/arokem/osmosis/FP/0005_01_DTI_2mm_150dir_2x_b2000_aligned_trilin_SSD_rho0.6_alpha0.0025.nii.gz"
       ]
      },
      {
       "output_type": "stream",
       "stream": "stdout",
       "text": [
        "\n",
        "Predicting signal from SparseDeconvolutionModel with ElasticNet(alpha=0.0025, copy_X=True, fit_intercept=False, max_iter=1000,\n",
        "      normalize=False, positive=True, precompute=auto, rho=0.6, tol=0.0001,\n",
        "      warm_start=False)"
       ]
      },
      {
       "output_type": "stream",
       "stream": "stdout",
       "text": [
        "\n",
        "Loading params from file: /biac4/wandell/biac2/wandell6/data/arokem/osmosis/FP/0007_01_DTI_2mm_150dir_2x_b2000_aligned_trilin_SSD_rho0.6_alpha0.0025.nii.gz"
       ]
      },
      {
       "output_type": "stream",
       "stream": "stdout",
       "text": [
        "\n",
        "Predicting signal from SparseDeconvolutionModel with ElasticNet(alpha=0.005, copy_X=True, fit_intercept=False, max_iter=1000,\n",
        "      normalize=False, positive=True, precompute=auto, rho=0.6, tol=0.0001,\n",
        "      warm_start=False)"
       ]
      },
      {
       "output_type": "stream",
       "stream": "stdout",
       "text": [
        "\n",
        "Loading params from file: /biac4/wandell/biac2/wandell6/data/arokem/osmosis/FP/0005_01_DTI_2mm_150dir_2x_b2000_aligned_trilin_SSD_rho0.6_alpha0.005.nii.gz"
       ]
      },
      {
       "output_type": "stream",
       "stream": "stdout",
       "text": [
        "\n",
        "Predicting signal from SparseDeconvolutionModel with ElasticNet(alpha=0.005, copy_X=True, fit_intercept=False, max_iter=1000,\n",
        "      normalize=False, positive=True, precompute=auto, rho=0.6, tol=0.0001,\n",
        "      warm_start=False)"
       ]
      },
      {
       "output_type": "stream",
       "stream": "stdout",
       "text": [
        "\n",
        "Loading params from file: /biac4/wandell/biac2/wandell6/data/arokem/osmosis/FP/0007_01_DTI_2mm_150dir_2x_b2000_aligned_trilin_SSD_rho0.6_alpha0.005.nii.gz"
       ]
      },
      {
       "output_type": "stream",
       "stream": "stdout",
       "text": [
        "\n",
        "Predicting signal from SparseDeconvolutionModel with ElasticNet(alpha=0.0075, copy_X=True, fit_intercept=False, max_iter=1000,\n",
        "      normalize=False, positive=True, precompute=auto, rho=0.6, tol=0.0001,\n",
        "      warm_start=False)"
       ]
      },
      {
       "output_type": "stream",
       "stream": "stdout",
       "text": [
        "\n",
        "Loading params from file: /biac4/wandell/biac2/wandell6/data/arokem/osmosis/FP/0005_01_DTI_2mm_150dir_2x_b2000_aligned_trilin_SSD_rho0.6_alpha0.0075.nii.gz"
       ]
      },
      {
       "output_type": "stream",
       "stream": "stdout",
       "text": [
        "\n",
        "Predicting signal from SparseDeconvolutionModel with ElasticNet(alpha=0.0075, copy_X=True, fit_intercept=False, max_iter=1000,\n",
        "      normalize=False, positive=True, precompute=auto, rho=0.6, tol=0.0001,\n",
        "      warm_start=False)"
       ]
      },
      {
       "output_type": "stream",
       "stream": "stdout",
       "text": [
        "\n",
        "Loading params from file: /biac4/wandell/biac2/wandell6/data/arokem/osmosis/FP/0007_01_DTI_2mm_150dir_2x_b2000_aligned_trilin_SSD_rho0.6_alpha0.0075.nii.gz"
       ]
      },
      {
       "output_type": "stream",
       "stream": "stdout",
       "text": [
        "\n",
        "Predicting signal from SparseDeconvolutionModel with ElasticNet(alpha=0.01, copy_X=True, fit_intercept=False, max_iter=1000,\n",
        "      normalize=False, positive=True, precompute=auto, rho=0.6, tol=0.0001,\n",
        "      warm_start=False)"
       ]
      },
      {
       "output_type": "stream",
       "stream": "stdout",
       "text": [
        "\n",
        "Loading params from file: /biac4/wandell/biac2/wandell6/data/arokem/osmosis/FP/0005_01_DTI_2mm_150dir_2x_b2000_aligned_trilin_SSD_rho0.6_alpha0.01.nii.gz"
       ]
      },
      {
       "output_type": "stream",
       "stream": "stdout",
       "text": [
        "\n",
        "Predicting signal from SparseDeconvolutionModel with ElasticNet(alpha=0.01, copy_X=True, fit_intercept=False, max_iter=1000,\n",
        "      normalize=False, positive=True, precompute=auto, rho=0.6, tol=0.0001,\n",
        "      warm_start=False)"
       ]
      },
      {
       "output_type": "stream",
       "stream": "stdout",
       "text": [
        "\n",
        "Loading params from file: /biac4/wandell/biac2/wandell6/data/arokem/osmosis/FP/0007_01_DTI_2mm_150dir_2x_b2000_aligned_trilin_SSD_rho0.6_alpha0.01.nii.gz"
       ]
      },
      {
       "output_type": "stream",
       "stream": "stdout",
       "text": [
        "\n",
        "Predicting signal from SparseDeconvolutionModel with ElasticNet(alpha=0.025, copy_X=True, fit_intercept=False, max_iter=1000,\n",
        "      normalize=False, positive=True, precompute=auto, rho=0.6, tol=0.0001,\n",
        "      warm_start=False)"
       ]
      },
      {
       "output_type": "stream",
       "stream": "stdout",
       "text": [
        "\n",
        "Loading params from file: /biac4/wandell/biac2/wandell6/data/arokem/osmosis/FP/0005_01_DTI_2mm_150dir_2x_b2000_aligned_trilin_SSD_rho0.6_alpha0.025.nii.gz"
       ]
      },
      {
       "output_type": "stream",
       "stream": "stdout",
       "text": [
        "\n",
        "Predicting signal from SparseDeconvolutionModel with ElasticNet(alpha=0.025, copy_X=True, fit_intercept=False, max_iter=1000,\n",
        "      normalize=False, positive=True, precompute=auto, rho=0.6, tol=0.0001,\n",
        "      warm_start=False)"
       ]
      },
      {
       "output_type": "stream",
       "stream": "stdout",
       "text": [
        "\n",
        "Loading params from file: /biac4/wandell/biac2/wandell6/data/arokem/osmosis/FP/0007_01_DTI_2mm_150dir_2x_b2000_aligned_trilin_SSD_rho0.6_alpha0.025.nii.gz"
       ]
      },
      {
       "output_type": "stream",
       "stream": "stdout",
       "text": [
        "\n",
        "Predicting signal from SparseDeconvolutionModel with ElasticNet(alpha=0.05, copy_X=True, fit_intercept=False, max_iter=1000,\n",
        "      normalize=False, positive=True, precompute=auto, rho=0.6, tol=0.0001,\n",
        "      warm_start=False)"
       ]
      },
      {
       "output_type": "stream",
       "stream": "stdout",
       "text": [
        "\n",
        "Loading params from file: /biac4/wandell/biac2/wandell6/data/arokem/osmosis/FP/0005_01_DTI_2mm_150dir_2x_b2000_aligned_trilin_SSD_rho0.6_alpha0.05.nii.gz"
       ]
      },
      {
       "output_type": "stream",
       "stream": "stdout",
       "text": [
        "\n",
        "Predicting signal from SparseDeconvolutionModel with ElasticNet(alpha=0.05, copy_X=True, fit_intercept=False, max_iter=1000,\n",
        "      normalize=False, positive=True, precompute=auto, rho=0.6, tol=0.0001,\n",
        "      warm_start=False)"
       ]
      },
      {
       "output_type": "stream",
       "stream": "stdout",
       "text": [
        "\n",
        "Loading params from file: /biac4/wandell/biac2/wandell6/data/arokem/osmosis/FP/0007_01_DTI_2mm_150dir_2x_b2000_aligned_trilin_SSD_rho0.6_alpha0.05.nii.gz"
       ]
      },
      {
       "output_type": "stream",
       "stream": "stdout",
       "text": [
        "\n",
        "Predicting signal from SparseDeconvolutionModel with ElasticNet(alpha=0.0001, copy_X=True, fit_intercept=False, max_iter=1000,\n",
        "      normalize=False, positive=True, precompute=auto, rho=0.8, tol=0.0001,\n",
        "      warm_start=False)"
       ]
      },
      {
       "output_type": "stream",
       "stream": "stdout",
       "text": [
        "\n",
        "Loading params from file: /biac4/wandell/biac2/wandell6/data/arokem/osmosis/FP/0005_01_DTI_2mm_150dir_2x_b2000_aligned_trilin_SSD_rho0.8_alpha0.0001.nii.gz"
       ]
      },
      {
       "output_type": "stream",
       "stream": "stdout",
       "text": [
        "\n",
        "Predicting signal from SparseDeconvolutionModel with ElasticNet(alpha=0.0001, copy_X=True, fit_intercept=False, max_iter=1000,\n",
        "      normalize=False, positive=True, precompute=auto, rho=0.8, tol=0.0001,\n",
        "      warm_start=False)"
       ]
      },
      {
       "output_type": "stream",
       "stream": "stdout",
       "text": [
        "\n",
        "Loading params from file: /biac4/wandell/biac2/wandell6/data/arokem/osmosis/FP/0007_01_DTI_2mm_150dir_2x_b2000_aligned_trilin_SSD_rho0.8_alpha0.0001.nii.gz"
       ]
      },
      {
       "output_type": "stream",
       "stream": "stdout",
       "text": [
        "\n",
        "Predicting signal from SparseDeconvolutionModel with ElasticNet(alpha=0.0005, copy_X=True, fit_intercept=False, max_iter=1000,\n",
        "      normalize=False, positive=True, precompute=auto, rho=0.8, tol=0.0001,\n",
        "      warm_start=False)"
       ]
      },
      {
       "output_type": "stream",
       "stream": "stdout",
       "text": [
        "\n",
        "Loading params from file: /biac4/wandell/biac2/wandell6/data/arokem/osmosis/FP/0005_01_DTI_2mm_150dir_2x_b2000_aligned_trilin_SSD_rho0.8_alpha0.0005.nii.gz"
       ]
      },
      {
       "output_type": "stream",
       "stream": "stdout",
       "text": [
        "\n",
        "Predicting signal from SparseDeconvolutionModel with ElasticNet(alpha=0.0005, copy_X=True, fit_intercept=False, max_iter=1000,\n",
        "      normalize=False, positive=True, precompute=auto, rho=0.8, tol=0.0001,\n",
        "      warm_start=False)"
       ]
      },
      {
       "output_type": "stream",
       "stream": "stdout",
       "text": [
        "\n",
        "Loading params from file: /biac4/wandell/biac2/wandell6/data/arokem/osmosis/FP/0007_01_DTI_2mm_150dir_2x_b2000_aligned_trilin_SSD_rho0.8_alpha0.0005.nii.gz"
       ]
      },
      {
       "output_type": "stream",
       "stream": "stdout",
       "text": [
        "\n",
        "Predicting signal from SparseDeconvolutionModel with ElasticNet(alpha=0.001, copy_X=True, fit_intercept=False, max_iter=1000,\n",
        "      normalize=False, positive=True, precompute=auto, rho=0.8, tol=0.0001,\n",
        "      warm_start=False)"
       ]
      },
      {
       "output_type": "stream",
       "stream": "stdout",
       "text": [
        "\n",
        "Loading params from file: /biac4/wandell/biac2/wandell6/data/arokem/osmosis/FP/0005_01_DTI_2mm_150dir_2x_b2000_aligned_trilin_SSD_rho0.8_alpha0.001.nii.gz"
       ]
      },
      {
       "output_type": "stream",
       "stream": "stdout",
       "text": [
        "\n",
        "Predicting signal from SparseDeconvolutionModel with ElasticNet(alpha=0.001, copy_X=True, fit_intercept=False, max_iter=1000,\n",
        "      normalize=False, positive=True, precompute=auto, rho=0.8, tol=0.0001,\n",
        "      warm_start=False)"
       ]
      },
      {
       "output_type": "stream",
       "stream": "stdout",
       "text": [
        "\n",
        "Loading params from file: /biac4/wandell/biac2/wandell6/data/arokem/osmosis/FP/0007_01_DTI_2mm_150dir_2x_b2000_aligned_trilin_SSD_rho0.8_alpha0.001.nii.gz"
       ]
      },
      {
       "output_type": "stream",
       "stream": "stdout",
       "text": [
        "\n",
        "Predicting signal from SparseDeconvolutionModel with ElasticNet(alpha=0.0025, copy_X=True, fit_intercept=False, max_iter=1000,\n",
        "      normalize=False, positive=True, precompute=auto, rho=0.8, tol=0.0001,\n",
        "      warm_start=False)"
       ]
      },
      {
       "output_type": "stream",
       "stream": "stdout",
       "text": [
        "\n",
        "Loading params from file: /biac4/wandell/biac2/wandell6/data/arokem/osmosis/FP/0005_01_DTI_2mm_150dir_2x_b2000_aligned_trilin_SSD_rho0.8_alpha0.0025.nii.gz"
       ]
      },
      {
       "output_type": "stream",
       "stream": "stdout",
       "text": [
        "\n",
        "Predicting signal from SparseDeconvolutionModel with ElasticNet(alpha=0.0025, copy_X=True, fit_intercept=False, max_iter=1000,\n",
        "      normalize=False, positive=True, precompute=auto, rho=0.8, tol=0.0001,\n",
        "      warm_start=False)"
       ]
      },
      {
       "output_type": "stream",
       "stream": "stdout",
       "text": [
        "\n",
        "Loading params from file: /biac4/wandell/biac2/wandell6/data/arokem/osmosis/FP/0007_01_DTI_2mm_150dir_2x_b2000_aligned_trilin_SSD_rho0.8_alpha0.0025.nii.gz"
       ]
      },
      {
       "output_type": "stream",
       "stream": "stdout",
       "text": [
        "\n",
        "Predicting signal from SparseDeconvolutionModel with ElasticNet(alpha=0.005, copy_X=True, fit_intercept=False, max_iter=1000,\n",
        "      normalize=False, positive=True, precompute=auto, rho=0.8, tol=0.0001,\n",
        "      warm_start=False)"
       ]
      },
      {
       "output_type": "stream",
       "stream": "stdout",
       "text": [
        "\n",
        "Loading params from file: /biac4/wandell/biac2/wandell6/data/arokem/osmosis/FP/0005_01_DTI_2mm_150dir_2x_b2000_aligned_trilin_SSD_rho0.8_alpha0.005.nii.gz"
       ]
      },
      {
       "output_type": "stream",
       "stream": "stdout",
       "text": [
        "\n",
        "Predicting signal from SparseDeconvolutionModel with ElasticNet(alpha=0.005, copy_X=True, fit_intercept=False, max_iter=1000,\n",
        "      normalize=False, positive=True, precompute=auto, rho=0.8, tol=0.0001,\n",
        "      warm_start=False)"
       ]
      },
      {
       "output_type": "stream",
       "stream": "stdout",
       "text": [
        "\n",
        "Loading params from file: /biac4/wandell/biac2/wandell6/data/arokem/osmosis/FP/0007_01_DTI_2mm_150dir_2x_b2000_aligned_trilin_SSD_rho0.8_alpha0.005.nii.gz"
       ]
      },
      {
       "output_type": "stream",
       "stream": "stdout",
       "text": [
        "\n",
        "Predicting signal from SparseDeconvolutionModel with ElasticNet(alpha=0.0075, copy_X=True, fit_intercept=False, max_iter=1000,\n",
        "      normalize=False, positive=True, precompute=auto, rho=0.8, tol=0.0001,\n",
        "      warm_start=False)"
       ]
      },
      {
       "output_type": "stream",
       "stream": "stdout",
       "text": [
        "\n",
        "Loading params from file: /biac4/wandell/biac2/wandell6/data/arokem/osmosis/FP/0005_01_DTI_2mm_150dir_2x_b2000_aligned_trilin_SSD_rho0.8_alpha0.0075.nii.gz"
       ]
      },
      {
       "output_type": "stream",
       "stream": "stdout",
       "text": [
        "\n",
        "Predicting signal from SparseDeconvolutionModel with ElasticNet(alpha=0.0075, copy_X=True, fit_intercept=False, max_iter=1000,\n",
        "      normalize=False, positive=True, precompute=auto, rho=0.8, tol=0.0001,\n",
        "      warm_start=False)"
       ]
      },
      {
       "output_type": "stream",
       "stream": "stdout",
       "text": [
        "\n",
        "Loading params from file: /biac4/wandell/biac2/wandell6/data/arokem/osmosis/FP/0007_01_DTI_2mm_150dir_2x_b2000_aligned_trilin_SSD_rho0.8_alpha0.0075.nii.gz"
       ]
      },
      {
       "output_type": "stream",
       "stream": "stdout",
       "text": [
        "\n",
        "Predicting signal from SparseDeconvolutionModel with ElasticNet(alpha=0.01, copy_X=True, fit_intercept=False, max_iter=1000,\n",
        "      normalize=False, positive=True, precompute=auto, rho=0.8, tol=0.0001,\n",
        "      warm_start=False)"
       ]
      },
      {
       "output_type": "stream",
       "stream": "stdout",
       "text": [
        "\n",
        "Loading params from file: /biac4/wandell/biac2/wandell6/data/arokem/osmosis/FP/0005_01_DTI_2mm_150dir_2x_b2000_aligned_trilin_SSD_rho0.8_alpha0.01.nii.gz"
       ]
      },
      {
       "output_type": "stream",
       "stream": "stdout",
       "text": [
        "\n",
        "Predicting signal from SparseDeconvolutionModel with ElasticNet(alpha=0.01, copy_X=True, fit_intercept=False, max_iter=1000,\n",
        "      normalize=False, positive=True, precompute=auto, rho=0.8, tol=0.0001,\n",
        "      warm_start=False)"
       ]
      },
      {
       "output_type": "stream",
       "stream": "stdout",
       "text": [
        "\n",
        "Loading params from file: /biac4/wandell/biac2/wandell6/data/arokem/osmosis/FP/0007_01_DTI_2mm_150dir_2x_b2000_aligned_trilin_SSD_rho0.8_alpha0.01.nii.gz"
       ]
      },
      {
       "output_type": "stream",
       "stream": "stdout",
       "text": [
        "\n",
        "Predicting signal from SparseDeconvolutionModel with ElasticNet(alpha=0.025, copy_X=True, fit_intercept=False, max_iter=1000,\n",
        "      normalize=False, positive=True, precompute=auto, rho=0.8, tol=0.0001,\n",
        "      warm_start=False)"
       ]
      },
      {
       "output_type": "stream",
       "stream": "stdout",
       "text": [
        "\n",
        "Loading params from file: /biac4/wandell/biac2/wandell6/data/arokem/osmosis/FP/0005_01_DTI_2mm_150dir_2x_b2000_aligned_trilin_SSD_rho0.8_alpha0.025.nii.gz"
       ]
      },
      {
       "output_type": "stream",
       "stream": "stdout",
       "text": [
        "\n",
        "Predicting signal from SparseDeconvolutionModel with ElasticNet(alpha=0.025, copy_X=True, fit_intercept=False, max_iter=1000,\n",
        "      normalize=False, positive=True, precompute=auto, rho=0.8, tol=0.0001,\n",
        "      warm_start=False)"
       ]
      },
      {
       "output_type": "stream",
       "stream": "stdout",
       "text": [
        "\n",
        "Loading params from file: /biac4/wandell/biac2/wandell6/data/arokem/osmosis/FP/0007_01_DTI_2mm_150dir_2x_b2000_aligned_trilin_SSD_rho0.8_alpha0.025.nii.gz"
       ]
      },
      {
       "output_type": "stream",
       "stream": "stdout",
       "text": [
        "\n",
        "Predicting signal from SparseDeconvolutionModel with ElasticNet(alpha=0.05, copy_X=True, fit_intercept=False, max_iter=1000,\n",
        "      normalize=False, positive=True, precompute=auto, rho=0.8, tol=0.0001,\n",
        "      warm_start=False)"
       ]
      },
      {
       "output_type": "stream",
       "stream": "stdout",
       "text": [
        "\n",
        "Loading params from file: /biac4/wandell/biac2/wandell6/data/arokem/osmosis/FP/0005_01_DTI_2mm_150dir_2x_b2000_aligned_trilin_SSD_rho0.8_alpha0.05.nii.gz"
       ]
      },
      {
       "output_type": "stream",
       "stream": "stdout",
       "text": [
        "\n",
        "Predicting signal from SparseDeconvolutionModel with ElasticNet(alpha=0.05, copy_X=True, fit_intercept=False, max_iter=1000,\n",
        "      normalize=False, positive=True, precompute=auto, rho=0.8, tol=0.0001,\n",
        "      warm_start=False)"
       ]
      },
      {
       "output_type": "stream",
       "stream": "stdout",
       "text": [
        "\n",
        "Loading params from file: /biac4/wandell/biac2/wandell6/data/arokem/osmosis/FP/0007_01_DTI_2mm_150dir_2x_b2000_aligned_trilin_SSD_rho0.8_alpha0.05.nii.gz"
       ]
      },
      {
       "output_type": "stream",
       "stream": "stdout",
       "text": [
        "\n",
        "Predicting signal from SparseDeconvolutionModel with ElasticNet(alpha=0.0001, copy_X=True, fit_intercept=False, max_iter=1000,\n",
        "      normalize=False, positive=True, precompute=auto, rho=1.0, tol=0.0001,\n",
        "      warm_start=False)"
       ]
      },
      {
       "output_type": "stream",
       "stream": "stdout",
       "text": [
        "\n",
        "Loading params from file: /biac4/wandell/biac2/wandell6/data/arokem/osmosis/FP/0005_01_DTI_2mm_150dir_2x_b2000_aligned_trilin_SSD_rho1.0_alpha0.0001.nii.gz"
       ]
      },
      {
       "output_type": "stream",
       "stream": "stdout",
       "text": [
        "\n",
        "Predicting signal from SparseDeconvolutionModel with ElasticNet(alpha=0.0001, copy_X=True, fit_intercept=False, max_iter=1000,\n",
        "      normalize=False, positive=True, precompute=auto, rho=1.0, tol=0.0001,\n",
        "      warm_start=False)"
       ]
      },
      {
       "output_type": "stream",
       "stream": "stdout",
       "text": [
        "\n",
        "Loading params from file: /biac4/wandell/biac2/wandell6/data/arokem/osmosis/FP/0007_01_DTI_2mm_150dir_2x_b2000_aligned_trilin_SSD_rho1.0_alpha0.0001.nii.gz"
       ]
      },
      {
       "output_type": "stream",
       "stream": "stdout",
       "text": [
        "\n",
        "Predicting signal from SparseDeconvolutionModel with ElasticNet(alpha=0.0005, copy_X=True, fit_intercept=False, max_iter=1000,\n",
        "      normalize=False, positive=True, precompute=auto, rho=1.0, tol=0.0001,\n",
        "      warm_start=False)"
       ]
      },
      {
       "output_type": "stream",
       "stream": "stdout",
       "text": [
        "\n",
        "Loading params from file: /biac4/wandell/biac2/wandell6/data/arokem/osmosis/FP/0005_01_DTI_2mm_150dir_2x_b2000_aligned_trilin_SSD_rho1.0_alpha0.0005.nii.gz"
       ]
      },
      {
       "output_type": "stream",
       "stream": "stdout",
       "text": [
        "\n",
        "Predicting signal from SparseDeconvolutionModel with ElasticNet(alpha=0.0005, copy_X=True, fit_intercept=False, max_iter=1000,\n",
        "      normalize=False, positive=True, precompute=auto, rho=1.0, tol=0.0001,\n",
        "      warm_start=False)"
       ]
      },
      {
       "output_type": "stream",
       "stream": "stdout",
       "text": [
        "\n",
        "Loading params from file: /biac4/wandell/biac2/wandell6/data/arokem/osmosis/FP/0007_01_DTI_2mm_150dir_2x_b2000_aligned_trilin_SSD_rho1.0_alpha0.0005.nii.gz"
       ]
      },
      {
       "output_type": "stream",
       "stream": "stdout",
       "text": [
        "\n",
        "Predicting signal from SparseDeconvolutionModel with ElasticNet(alpha=0.001, copy_X=True, fit_intercept=False, max_iter=1000,\n",
        "      normalize=False, positive=True, precompute=auto, rho=1.0, tol=0.0001,\n",
        "      warm_start=False)"
       ]
      },
      {
       "output_type": "stream",
       "stream": "stdout",
       "text": [
        "\n",
        "Loading params from file: /biac4/wandell/biac2/wandell6/data/arokem/osmosis/FP/0005_01_DTI_2mm_150dir_2x_b2000_aligned_trilin_SSD_rho1.0_alpha0.001.nii.gz"
       ]
      },
      {
       "output_type": "stream",
       "stream": "stdout",
       "text": [
        "\n",
        "Predicting signal from SparseDeconvolutionModel with ElasticNet(alpha=0.001, copy_X=True, fit_intercept=False, max_iter=1000,\n",
        "      normalize=False, positive=True, precompute=auto, rho=1.0, tol=0.0001,\n",
        "      warm_start=False)"
       ]
      },
      {
       "output_type": "stream",
       "stream": "stdout",
       "text": [
        "\n",
        "Loading params from file: /biac4/wandell/biac2/wandell6/data/arokem/osmosis/FP/0007_01_DTI_2mm_150dir_2x_b2000_aligned_trilin_SSD_rho1.0_alpha0.001.nii.gz"
       ]
      },
      {
       "output_type": "stream",
       "stream": "stdout",
       "text": [
        "\n",
        "Predicting signal from SparseDeconvolutionModel with ElasticNet(alpha=0.0025, copy_X=True, fit_intercept=False, max_iter=1000,\n",
        "      normalize=False, positive=True, precompute=auto, rho=1.0, tol=0.0001,\n",
        "      warm_start=False)"
       ]
      },
      {
       "output_type": "stream",
       "stream": "stdout",
       "text": [
        "\n",
        "Loading params from file: /biac4/wandell/biac2/wandell6/data/arokem/osmosis/FP/0005_01_DTI_2mm_150dir_2x_b2000_aligned_trilin_SSD_rho1.0_alpha0.0025.nii.gz"
       ]
      },
      {
       "output_type": "stream",
       "stream": "stdout",
       "text": [
        "\n",
        "Predicting signal from SparseDeconvolutionModel with ElasticNet(alpha=0.0025, copy_X=True, fit_intercept=False, max_iter=1000,\n",
        "      normalize=False, positive=True, precompute=auto, rho=1.0, tol=0.0001,\n",
        "      warm_start=False)"
       ]
      },
      {
       "output_type": "stream",
       "stream": "stdout",
       "text": [
        "\n",
        "Loading params from file: /biac4/wandell/biac2/wandell6/data/arokem/osmosis/FP/0007_01_DTI_2mm_150dir_2x_b2000_aligned_trilin_SSD_rho1.0_alpha0.0025.nii.gz"
       ]
      },
      {
       "output_type": "stream",
       "stream": "stdout",
       "text": [
        "\n",
        "Predicting signal from SparseDeconvolutionModel with ElasticNet(alpha=0.005, copy_X=True, fit_intercept=False, max_iter=1000,\n",
        "      normalize=False, positive=True, precompute=auto, rho=1.0, tol=0.0001,\n",
        "      warm_start=False)"
       ]
      },
      {
       "output_type": "stream",
       "stream": "stdout",
       "text": [
        "\n",
        "Loading params from file: /biac4/wandell/biac2/wandell6/data/arokem/osmosis/FP/0005_01_DTI_2mm_150dir_2x_b2000_aligned_trilin_SSD_rho1.0_alpha0.005.nii.gz"
       ]
      },
      {
       "output_type": "stream",
       "stream": "stdout",
       "text": [
        "\n",
        "Predicting signal from SparseDeconvolutionModel with ElasticNet(alpha=0.005, copy_X=True, fit_intercept=False, max_iter=1000,\n",
        "      normalize=False, positive=True, precompute=auto, rho=1.0, tol=0.0001,\n",
        "      warm_start=False)"
       ]
      },
      {
       "output_type": "stream",
       "stream": "stdout",
       "text": [
        "\n",
        "Loading params from file: /biac4/wandell/biac2/wandell6/data/arokem/osmosis/FP/0007_01_DTI_2mm_150dir_2x_b2000_aligned_trilin_SSD_rho1.0_alpha0.005.nii.gz"
       ]
      },
      {
       "output_type": "stream",
       "stream": "stdout",
       "text": [
        "\n",
        "Predicting signal from SparseDeconvolutionModel with ElasticNet(alpha=0.0075, copy_X=True, fit_intercept=False, max_iter=1000,\n",
        "      normalize=False, positive=True, precompute=auto, rho=1.0, tol=0.0001,\n",
        "      warm_start=False)"
       ]
      },
      {
       "output_type": "stream",
       "stream": "stdout",
       "text": [
        "\n",
        "Loading params from file: /biac4/wandell/biac2/wandell6/data/arokem/osmosis/FP/0005_01_DTI_2mm_150dir_2x_b2000_aligned_trilin_SSD_rho1.0_alpha0.0075.nii.gz"
       ]
      },
      {
       "output_type": "stream",
       "stream": "stdout",
       "text": [
        "\n",
        "Predicting signal from SparseDeconvolutionModel with ElasticNet(alpha=0.0075, copy_X=True, fit_intercept=False, max_iter=1000,\n",
        "      normalize=False, positive=True, precompute=auto, rho=1.0, tol=0.0001,\n",
        "      warm_start=False)"
       ]
      },
      {
       "output_type": "stream",
       "stream": "stdout",
       "text": [
        "\n",
        "Loading params from file: /biac4/wandell/biac2/wandell6/data/arokem/osmosis/FP/0007_01_DTI_2mm_150dir_2x_b2000_aligned_trilin_SSD_rho1.0_alpha0.0075.nii.gz"
       ]
      },
      {
       "output_type": "stream",
       "stream": "stdout",
       "text": [
        "\n",
        "Predicting signal from SparseDeconvolutionModel with ElasticNet(alpha=0.01, copy_X=True, fit_intercept=False, max_iter=1000,\n",
        "      normalize=False, positive=True, precompute=auto, rho=1.0, tol=0.0001,\n",
        "      warm_start=False)"
       ]
      },
      {
       "output_type": "stream",
       "stream": "stdout",
       "text": [
        "\n",
        "Loading params from file: /biac4/wandell/biac2/wandell6/data/arokem/osmosis/FP/0005_01_DTI_2mm_150dir_2x_b2000_aligned_trilin_SSD_rho1.0_alpha0.01.nii.gz"
       ]
      },
      {
       "output_type": "stream",
       "stream": "stdout",
       "text": [
        "\n",
        "Predicting signal from SparseDeconvolutionModel with ElasticNet(alpha=0.01, copy_X=True, fit_intercept=False, max_iter=1000,\n",
        "      normalize=False, positive=True, precompute=auto, rho=1.0, tol=0.0001,\n",
        "      warm_start=False)"
       ]
      },
      {
       "output_type": "stream",
       "stream": "stdout",
       "text": [
        "\n",
        "Loading params from file: /biac4/wandell/biac2/wandell6/data/arokem/osmosis/FP/0007_01_DTI_2mm_150dir_2x_b2000_aligned_trilin_SSD_rho1.0_alpha0.01.nii.gz"
       ]
      },
      {
       "output_type": "stream",
       "stream": "stdout",
       "text": [
        "\n",
        "Predicting signal from SparseDeconvolutionModel with ElasticNet(alpha=0.025, copy_X=True, fit_intercept=False, max_iter=1000,\n",
        "      normalize=False, positive=True, precompute=auto, rho=1.0, tol=0.0001,\n",
        "      warm_start=False)"
       ]
      },
      {
       "output_type": "stream",
       "stream": "stdout",
       "text": [
        "\n",
        "Loading params from file: /biac4/wandell/biac2/wandell6/data/arokem/osmosis/FP/0005_01_DTI_2mm_150dir_2x_b2000_aligned_trilin_SSD_rho1.0_alpha0.025.nii.gz"
       ]
      },
      {
       "output_type": "stream",
       "stream": "stdout",
       "text": [
        "\n",
        "Predicting signal from SparseDeconvolutionModel with ElasticNet(alpha=0.025, copy_X=True, fit_intercept=False, max_iter=1000,\n",
        "      normalize=False, positive=True, precompute=auto, rho=1.0, tol=0.0001,\n",
        "      warm_start=False)"
       ]
      },
      {
       "output_type": "stream",
       "stream": "stdout",
       "text": [
        "\n",
        "Loading params from file: /biac4/wandell/biac2/wandell6/data/arokem/osmosis/FP/0007_01_DTI_2mm_150dir_2x_b2000_aligned_trilin_SSD_rho1.0_alpha0.025.nii.gz"
       ]
      },
      {
       "output_type": "stream",
       "stream": "stdout",
       "text": [
        "\n",
        "Predicting signal from SparseDeconvolutionModel with ElasticNet(alpha=0.05, copy_X=True, fit_intercept=False, max_iter=1000,\n",
        "      normalize=False, positive=True, precompute=auto, rho=1.0, tol=0.0001,\n",
        "      warm_start=False)"
       ]
      },
      {
       "output_type": "stream",
       "stream": "stdout",
       "text": [
        "\n",
        "Loading params from file: /biac4/wandell/biac2/wandell6/data/arokem/osmosis/FP/0005_01_DTI_2mm_150dir_2x_b2000_aligned_trilin_SSD_rho1.0_alpha0.05.nii.gz"
       ]
      },
      {
       "output_type": "stream",
       "stream": "stdout",
       "text": [
        "\n",
        "Predicting signal from SparseDeconvolutionModel with ElasticNet(alpha=0.05, copy_X=True, fit_intercept=False, max_iter=1000,\n",
        "      normalize=False, positive=True, precompute=auto, rho=1.0, tol=0.0001,\n",
        "      warm_start=False)"
       ]
      },
      {
       "output_type": "stream",
       "stream": "stdout",
       "text": [
        "\n",
        "Loading params from file: /biac4/wandell/biac2/wandell6/data/arokem/osmosis/FP/0007_01_DTI_2mm_150dir_2x_b2000_aligned_trilin_SSD_rho1.0_alpha0.05.nii.gz"
       ]
      },
      {
       "output_type": "stream",
       "stream": "stdout",
       "text": [
        "\n",
        "Predicting signal from SparseDeconvolutionModel with ElasticNet(alpha=0.0001, copy_X=True, fit_intercept=False, max_iter=1000,\n",
        "      normalize=False, positive=True, precompute=auto, rho=0.0, tol=0.0001,\n",
        "      warm_start=False)"
       ]
      },
      {
       "output_type": "stream",
       "stream": "stdout",
       "text": [
        "\n",
        "Loading params from file: /biac4/wandell/biac2/wandell6/data/arokem/osmosis/FP/0005_01_DWI_2mm150dir_2x_b4000_aligned_trilin_SSD_rho0.0_alpha0.0001.nii.gz"
       ]
      },
      {
       "output_type": "stream",
       "stream": "stdout",
       "text": [
        "\n",
        "Predicting signal from SparseDeconvolutionModel with ElasticNet(alpha=0.0001, copy_X=True, fit_intercept=False, max_iter=1000,\n",
        "      normalize=False, positive=True, precompute=auto, rho=0.0, tol=0.0001,\n",
        "      warm_start=False)"
       ]
      },
      {
       "output_type": "stream",
       "stream": "stdout",
       "text": [
        "\n",
        "Loading params from file: /biac4/wandell/biac2/wandell6/data/arokem/osmosis/FP/0007_01_DWI_2mm150dir_2x_b4000_aligned_trilin_SSD_rho0.0_alpha0.0001.nii.gz"
       ]
      },
      {
       "output_type": "stream",
       "stream": "stdout",
       "text": [
        "\n",
        "Predicting signal from SparseDeconvolutionModel with ElasticNet(alpha=0.0005, copy_X=True, fit_intercept=False, max_iter=1000,\n",
        "      normalize=False, positive=True, precompute=auto, rho=0.0, tol=0.0001,\n",
        "      warm_start=False)"
       ]
      },
      {
       "output_type": "stream",
       "stream": "stdout",
       "text": [
        "\n",
        "Loading params from file: /biac4/wandell/biac2/wandell6/data/arokem/osmosis/FP/0005_01_DWI_2mm150dir_2x_b4000_aligned_trilin_SSD_rho0.0_alpha0.0005.nii.gz"
       ]
      },
      {
       "output_type": "stream",
       "stream": "stdout",
       "text": [
        "\n",
        "Predicting signal from SparseDeconvolutionModel with ElasticNet(alpha=0.0005, copy_X=True, fit_intercept=False, max_iter=1000,\n",
        "      normalize=False, positive=True, precompute=auto, rho=0.0, tol=0.0001,\n",
        "      warm_start=False)"
       ]
      },
      {
       "output_type": "stream",
       "stream": "stdout",
       "text": [
        "\n",
        "Loading params from file: /biac4/wandell/biac2/wandell6/data/arokem/osmosis/FP/0007_01_DWI_2mm150dir_2x_b4000_aligned_trilin_SSD_rho0.0_alpha0.0005.nii.gz"
       ]
      },
      {
       "output_type": "stream",
       "stream": "stdout",
       "text": [
        "\n",
        "Predicting signal from SparseDeconvolutionModel with ElasticNet(alpha=0.001, copy_X=True, fit_intercept=False, max_iter=1000,\n",
        "      normalize=False, positive=True, precompute=auto, rho=0.0, tol=0.0001,\n",
        "      warm_start=False)"
       ]
      },
      {
       "output_type": "stream",
       "stream": "stdout",
       "text": [
        "\n",
        "Loading params from file: /biac4/wandell/biac2/wandell6/data/arokem/osmosis/FP/0005_01_DWI_2mm150dir_2x_b4000_aligned_trilin_SSD_rho0.0_alpha0.001.nii.gz"
       ]
      },
      {
       "output_type": "stream",
       "stream": "stdout",
       "text": [
        "\n",
        "Predicting signal from SparseDeconvolutionModel with ElasticNet(alpha=0.001, copy_X=True, fit_intercept=False, max_iter=1000,\n",
        "      normalize=False, positive=True, precompute=auto, rho=0.0, tol=0.0001,\n",
        "      warm_start=False)"
       ]
      },
      {
       "output_type": "stream",
       "stream": "stdout",
       "text": [
        "\n",
        "Loading params from file: /biac4/wandell/biac2/wandell6/data/arokem/osmosis/FP/0007_01_DWI_2mm150dir_2x_b4000_aligned_trilin_SSD_rho0.0_alpha0.001.nii.gz"
       ]
      },
      {
       "output_type": "stream",
       "stream": "stdout",
       "text": [
        "\n",
        "Predicting signal from SparseDeconvolutionModel with ElasticNet(alpha=0.0025, copy_X=True, fit_intercept=False, max_iter=1000,\n",
        "      normalize=False, positive=True, precompute=auto, rho=0.0, tol=0.0001,\n",
        "      warm_start=False)"
       ]
      },
      {
       "output_type": "stream",
       "stream": "stdout",
       "text": [
        "\n",
        "Loading params from file: /biac4/wandell/biac2/wandell6/data/arokem/osmosis/FP/0005_01_DWI_2mm150dir_2x_b4000_aligned_trilin_SSD_rho0.0_alpha0.0025.nii.gz"
       ]
      },
      {
       "output_type": "stream",
       "stream": "stdout",
       "text": [
        "\n",
        "Predicting signal from SparseDeconvolutionModel with ElasticNet(alpha=0.0025, copy_X=True, fit_intercept=False, max_iter=1000,\n",
        "      normalize=False, positive=True, precompute=auto, rho=0.0, tol=0.0001,\n",
        "      warm_start=False)"
       ]
      },
      {
       "output_type": "stream",
       "stream": "stdout",
       "text": [
        "\n",
        "Loading params from file: /biac4/wandell/biac2/wandell6/data/arokem/osmosis/FP/0007_01_DWI_2mm150dir_2x_b4000_aligned_trilin_SSD_rho0.0_alpha0.0025.nii.gz"
       ]
      },
      {
       "output_type": "stream",
       "stream": "stdout",
       "text": [
        "\n",
        "Predicting signal from SparseDeconvolutionModel with ElasticNet(alpha=0.005, copy_X=True, fit_intercept=False, max_iter=1000,\n",
        "      normalize=False, positive=True, precompute=auto, rho=0.0, tol=0.0001,\n",
        "      warm_start=False)"
       ]
      },
      {
       "output_type": "stream",
       "stream": "stdout",
       "text": [
        "\n",
        "Loading params from file: /biac4/wandell/biac2/wandell6/data/arokem/osmosis/FP/0005_01_DWI_2mm150dir_2x_b4000_aligned_trilin_SSD_rho0.0_alpha0.005.nii.gz"
       ]
      },
      {
       "output_type": "stream",
       "stream": "stdout",
       "text": [
        "\n",
        "Predicting signal from SparseDeconvolutionModel with ElasticNet(alpha=0.005, copy_X=True, fit_intercept=False, max_iter=1000,\n",
        "      normalize=False, positive=True, precompute=auto, rho=0.0, tol=0.0001,\n",
        "      warm_start=False)"
       ]
      },
      {
       "output_type": "stream",
       "stream": "stdout",
       "text": [
        "\n",
        "Loading params from file: /biac4/wandell/biac2/wandell6/data/arokem/osmosis/FP/0007_01_DWI_2mm150dir_2x_b4000_aligned_trilin_SSD_rho0.0_alpha0.005.nii.gz"
       ]
      },
      {
       "output_type": "stream",
       "stream": "stdout",
       "text": [
        "\n",
        "Predicting signal from SparseDeconvolutionModel with ElasticNet(alpha=0.0075, copy_X=True, fit_intercept=False, max_iter=1000,\n",
        "      normalize=False, positive=True, precompute=auto, rho=0.0, tol=0.0001,\n",
        "      warm_start=False)"
       ]
      },
      {
       "output_type": "stream",
       "stream": "stdout",
       "text": [
        "\n",
        "Loading params from file: /biac4/wandell/biac2/wandell6/data/arokem/osmosis/FP/0005_01_DWI_2mm150dir_2x_b4000_aligned_trilin_SSD_rho0.0_alpha0.0075.nii.gz"
       ]
      },
      {
       "output_type": "stream",
       "stream": "stdout",
       "text": [
        "\n",
        "Predicting signal from SparseDeconvolutionModel with ElasticNet(alpha=0.0075, copy_X=True, fit_intercept=False, max_iter=1000,\n",
        "      normalize=False, positive=True, precompute=auto, rho=0.0, tol=0.0001,\n",
        "      warm_start=False)"
       ]
      },
      {
       "output_type": "stream",
       "stream": "stdout",
       "text": [
        "\n",
        "Loading params from file: /biac4/wandell/biac2/wandell6/data/arokem/osmosis/FP/0007_01_DWI_2mm150dir_2x_b4000_aligned_trilin_SSD_rho0.0_alpha0.0075.nii.gz"
       ]
      },
      {
       "output_type": "stream",
       "stream": "stdout",
       "text": [
        "\n",
        "Predicting signal from SparseDeconvolutionModel with ElasticNet(alpha=0.01, copy_X=True, fit_intercept=False, max_iter=1000,\n",
        "      normalize=False, positive=True, precompute=auto, rho=0.0, tol=0.0001,\n",
        "      warm_start=False)"
       ]
      },
      {
       "output_type": "stream",
       "stream": "stdout",
       "text": [
        "\n",
        "Loading params from file: /biac4/wandell/biac2/wandell6/data/arokem/osmosis/FP/0005_01_DWI_2mm150dir_2x_b4000_aligned_trilin_SSD_rho0.0_alpha0.01.nii.gz"
       ]
      },
      {
       "output_type": "stream",
       "stream": "stdout",
       "text": [
        "\n",
        "Predicting signal from SparseDeconvolutionModel with ElasticNet(alpha=0.01, copy_X=True, fit_intercept=False, max_iter=1000,\n",
        "      normalize=False, positive=True, precompute=auto, rho=0.0, tol=0.0001,\n",
        "      warm_start=False)"
       ]
      },
      {
       "output_type": "stream",
       "stream": "stdout",
       "text": [
        "\n",
        "Loading params from file: /biac4/wandell/biac2/wandell6/data/arokem/osmosis/FP/0007_01_DWI_2mm150dir_2x_b4000_aligned_trilin_SSD_rho0.0_alpha0.01.nii.gz"
       ]
      },
      {
       "output_type": "stream",
       "stream": "stdout",
       "text": [
        "\n",
        "Predicting signal from SparseDeconvolutionModel with ElasticNet(alpha=0.025, copy_X=True, fit_intercept=False, max_iter=1000,\n",
        "      normalize=False, positive=True, precompute=auto, rho=0.0, tol=0.0001,\n",
        "      warm_start=False)"
       ]
      },
      {
       "output_type": "stream",
       "stream": "stdout",
       "text": [
        "\n",
        "Loading params from file: /biac4/wandell/biac2/wandell6/data/arokem/osmosis/FP/0005_01_DWI_2mm150dir_2x_b4000_aligned_trilin_SSD_rho0.0_alpha0.025.nii.gz"
       ]
      },
      {
       "output_type": "stream",
       "stream": "stdout",
       "text": [
        "\n",
        "Predicting signal from SparseDeconvolutionModel with ElasticNet(alpha=0.025, copy_X=True, fit_intercept=False, max_iter=1000,\n",
        "      normalize=False, positive=True, precompute=auto, rho=0.0, tol=0.0001,\n",
        "      warm_start=False)"
       ]
      },
      {
       "output_type": "stream",
       "stream": "stdout",
       "text": [
        "\n",
        "Loading params from file: /biac4/wandell/biac2/wandell6/data/arokem/osmosis/FP/0007_01_DWI_2mm150dir_2x_b4000_aligned_trilin_SSD_rho0.0_alpha0.025.nii.gz"
       ]
      },
      {
       "output_type": "stream",
       "stream": "stdout",
       "text": [
        "\n",
        "Predicting signal from SparseDeconvolutionModel with ElasticNet(alpha=0.05, copy_X=True, fit_intercept=False, max_iter=1000,\n",
        "      normalize=False, positive=True, precompute=auto, rho=0.0, tol=0.0001,\n",
        "      warm_start=False)"
       ]
      },
      {
       "output_type": "stream",
       "stream": "stdout",
       "text": [
        "\n",
        "Loading params from file: /biac4/wandell/biac2/wandell6/data/arokem/osmosis/FP/0005_01_DWI_2mm150dir_2x_b4000_aligned_trilin_SSD_rho0.0_alpha0.05.nii.gz"
       ]
      },
      {
       "output_type": "stream",
       "stream": "stdout",
       "text": [
        "\n",
        "Predicting signal from SparseDeconvolutionModel with ElasticNet(alpha=0.05, copy_X=True, fit_intercept=False, max_iter=1000,\n",
        "      normalize=False, positive=True, precompute=auto, rho=0.0, tol=0.0001,\n",
        "      warm_start=False)"
       ]
      },
      {
       "output_type": "stream",
       "stream": "stdout",
       "text": [
        "\n",
        "Loading params from file: /biac4/wandell/biac2/wandell6/data/arokem/osmosis/FP/0007_01_DWI_2mm150dir_2x_b4000_aligned_trilin_SSD_rho0.0_alpha0.05.nii.gz"
       ]
      },
      {
       "output_type": "stream",
       "stream": "stdout",
       "text": [
        "\n",
        "Predicting signal from SparseDeconvolutionModel with ElasticNet(alpha=0.0001, copy_X=True, fit_intercept=False, max_iter=1000,\n",
        "      normalize=False, positive=True, precompute=auto, rho=0.2, tol=0.0001,\n",
        "      warm_start=False)"
       ]
      },
      {
       "output_type": "stream",
       "stream": "stdout",
       "text": [
        "\n",
        "Loading params from file: /biac4/wandell/biac2/wandell6/data/arokem/osmosis/FP/0005_01_DWI_2mm150dir_2x_b4000_aligned_trilin_SSD_rho0.2_alpha0.0001.nii.gz"
       ]
      },
      {
       "output_type": "stream",
       "stream": "stdout",
       "text": [
        "\n",
        "Predicting signal from SparseDeconvolutionModel with ElasticNet(alpha=0.0001, copy_X=True, fit_intercept=False, max_iter=1000,\n",
        "      normalize=False, positive=True, precompute=auto, rho=0.2, tol=0.0001,\n",
        "      warm_start=False)"
       ]
      },
      {
       "output_type": "stream",
       "stream": "stdout",
       "text": [
        "\n",
        "Loading params from file: /biac4/wandell/biac2/wandell6/data/arokem/osmosis/FP/0007_01_DWI_2mm150dir_2x_b4000_aligned_trilin_SSD_rho0.2_alpha0.0001.nii.gz"
       ]
      },
      {
       "output_type": "stream",
       "stream": "stdout",
       "text": [
        "\n",
        "Predicting signal from SparseDeconvolutionModel with ElasticNet(alpha=0.0005, copy_X=True, fit_intercept=False, max_iter=1000,\n",
        "      normalize=False, positive=True, precompute=auto, rho=0.2, tol=0.0001,\n",
        "      warm_start=False)"
       ]
      },
      {
       "output_type": "stream",
       "stream": "stdout",
       "text": [
        "\n",
        "Loading params from file: /biac4/wandell/biac2/wandell6/data/arokem/osmosis/FP/0005_01_DWI_2mm150dir_2x_b4000_aligned_trilin_SSD_rho0.2_alpha0.0005.nii.gz"
       ]
      },
      {
       "output_type": "stream",
       "stream": "stdout",
       "text": [
        "\n",
        "Predicting signal from SparseDeconvolutionModel with ElasticNet(alpha=0.0005, copy_X=True, fit_intercept=False, max_iter=1000,\n",
        "      normalize=False, positive=True, precompute=auto, rho=0.2, tol=0.0001,\n",
        "      warm_start=False)"
       ]
      },
      {
       "output_type": "stream",
       "stream": "stdout",
       "text": [
        "\n",
        "Loading params from file: /biac4/wandell/biac2/wandell6/data/arokem/osmosis/FP/0007_01_DWI_2mm150dir_2x_b4000_aligned_trilin_SSD_rho0.2_alpha0.0005.nii.gz"
       ]
      },
      {
       "output_type": "stream",
       "stream": "stdout",
       "text": [
        "\n",
        "Predicting signal from SparseDeconvolutionModel with ElasticNet(alpha=0.001, copy_X=True, fit_intercept=False, max_iter=1000,\n",
        "      normalize=False, positive=True, precompute=auto, rho=0.2, tol=0.0001,\n",
        "      warm_start=False)"
       ]
      },
      {
       "output_type": "stream",
       "stream": "stdout",
       "text": [
        "\n",
        "Loading params from file: /biac4/wandell/biac2/wandell6/data/arokem/osmosis/FP/0005_01_DWI_2mm150dir_2x_b4000_aligned_trilin_SSD_rho0.2_alpha0.001.nii.gz"
       ]
      },
      {
       "output_type": "stream",
       "stream": "stdout",
       "text": [
        "\n",
        "Predicting signal from SparseDeconvolutionModel with ElasticNet(alpha=0.001, copy_X=True, fit_intercept=False, max_iter=1000,\n",
        "      normalize=False, positive=True, precompute=auto, rho=0.2, tol=0.0001,\n",
        "      warm_start=False)"
       ]
      },
      {
       "output_type": "stream",
       "stream": "stdout",
       "text": [
        "\n",
        "Loading params from file: /biac4/wandell/biac2/wandell6/data/arokem/osmosis/FP/0007_01_DWI_2mm150dir_2x_b4000_aligned_trilin_SSD_rho0.2_alpha0.001.nii.gz"
       ]
      },
      {
       "output_type": "stream",
       "stream": "stdout",
       "text": [
        "\n",
        "Predicting signal from SparseDeconvolutionModel with ElasticNet(alpha=0.0025, copy_X=True, fit_intercept=False, max_iter=1000,\n",
        "      normalize=False, positive=True, precompute=auto, rho=0.2, tol=0.0001,\n",
        "      warm_start=False)"
       ]
      },
      {
       "output_type": "stream",
       "stream": "stdout",
       "text": [
        "\n",
        "Loading params from file: /biac4/wandell/biac2/wandell6/data/arokem/osmosis/FP/0005_01_DWI_2mm150dir_2x_b4000_aligned_trilin_SSD_rho0.2_alpha0.0025.nii.gz"
       ]
      },
      {
       "output_type": "stream",
       "stream": "stdout",
       "text": [
        "\n",
        "Predicting signal from SparseDeconvolutionModel with ElasticNet(alpha=0.0025, copy_X=True, fit_intercept=False, max_iter=1000,\n",
        "      normalize=False, positive=True, precompute=auto, rho=0.2, tol=0.0001,\n",
        "      warm_start=False)"
       ]
      },
      {
       "output_type": "stream",
       "stream": "stdout",
       "text": [
        "\n",
        "Loading params from file: /biac4/wandell/biac2/wandell6/data/arokem/osmosis/FP/0007_01_DWI_2mm150dir_2x_b4000_aligned_trilin_SSD_rho0.2_alpha0.0025.nii.gz"
       ]
      },
      {
       "output_type": "stream",
       "stream": "stdout",
       "text": [
        "\n",
        "Predicting signal from SparseDeconvolutionModel with ElasticNet(alpha=0.005, copy_X=True, fit_intercept=False, max_iter=1000,\n",
        "      normalize=False, positive=True, precompute=auto, rho=0.2, tol=0.0001,\n",
        "      warm_start=False)"
       ]
      },
      {
       "output_type": "stream",
       "stream": "stdout",
       "text": [
        "\n",
        "Loading params from file: /biac4/wandell/biac2/wandell6/data/arokem/osmosis/FP/0005_01_DWI_2mm150dir_2x_b4000_aligned_trilin_SSD_rho0.2_alpha0.005.nii.gz"
       ]
      },
      {
       "output_type": "stream",
       "stream": "stdout",
       "text": [
        "\n",
        "Predicting signal from SparseDeconvolutionModel with ElasticNet(alpha=0.005, copy_X=True, fit_intercept=False, max_iter=1000,\n",
        "      normalize=False, positive=True, precompute=auto, rho=0.2, tol=0.0001,\n",
        "      warm_start=False)"
       ]
      },
      {
       "output_type": "stream",
       "stream": "stdout",
       "text": [
        "\n",
        "Loading params from file: /biac4/wandell/biac2/wandell6/data/arokem/osmosis/FP/0007_01_DWI_2mm150dir_2x_b4000_aligned_trilin_SSD_rho0.2_alpha0.005.nii.gz"
       ]
      },
      {
       "output_type": "stream",
       "stream": "stdout",
       "text": [
        "\n",
        "Predicting signal from SparseDeconvolutionModel with ElasticNet(alpha=0.0075, copy_X=True, fit_intercept=False, max_iter=1000,\n",
        "      normalize=False, positive=True, precompute=auto, rho=0.2, tol=0.0001,\n",
        "      warm_start=False)"
       ]
      },
      {
       "output_type": "stream",
       "stream": "stdout",
       "text": [
        "\n",
        "Loading params from file: /biac4/wandell/biac2/wandell6/data/arokem/osmosis/FP/0005_01_DWI_2mm150dir_2x_b4000_aligned_trilin_SSD_rho0.2_alpha0.0075.nii.gz"
       ]
      },
      {
       "output_type": "stream",
       "stream": "stdout",
       "text": [
        "\n",
        "Predicting signal from SparseDeconvolutionModel with ElasticNet(alpha=0.0075, copy_X=True, fit_intercept=False, max_iter=1000,\n",
        "      normalize=False, positive=True, precompute=auto, rho=0.2, tol=0.0001,\n",
        "      warm_start=False)"
       ]
      },
      {
       "output_type": "stream",
       "stream": "stdout",
       "text": [
        "\n",
        "Loading params from file: /biac4/wandell/biac2/wandell6/data/arokem/osmosis/FP/0007_01_DWI_2mm150dir_2x_b4000_aligned_trilin_SSD_rho0.2_alpha0.0075.nii.gz"
       ]
      },
      {
       "output_type": "stream",
       "stream": "stdout",
       "text": [
        "\n",
        "Predicting signal from SparseDeconvolutionModel with ElasticNet(alpha=0.01, copy_X=True, fit_intercept=False, max_iter=1000,\n",
        "      normalize=False, positive=True, precompute=auto, rho=0.2, tol=0.0001,\n",
        "      warm_start=False)"
       ]
      },
      {
       "output_type": "stream",
       "stream": "stdout",
       "text": [
        "\n",
        "Loading params from file: /biac4/wandell/biac2/wandell6/data/arokem/osmosis/FP/0005_01_DWI_2mm150dir_2x_b4000_aligned_trilin_SSD_rho0.2_alpha0.01.nii.gz"
       ]
      },
      {
       "output_type": "stream",
       "stream": "stdout",
       "text": [
        "\n",
        "Predicting signal from SparseDeconvolutionModel with ElasticNet(alpha=0.01, copy_X=True, fit_intercept=False, max_iter=1000,\n",
        "      normalize=False, positive=True, precompute=auto, rho=0.2, tol=0.0001,\n",
        "      warm_start=False)"
       ]
      },
      {
       "output_type": "stream",
       "stream": "stdout",
       "text": [
        "\n",
        "Loading params from file: /biac4/wandell/biac2/wandell6/data/arokem/osmosis/FP/0007_01_DWI_2mm150dir_2x_b4000_aligned_trilin_SSD_rho0.2_alpha0.01.nii.gz"
       ]
      },
      {
       "output_type": "stream",
       "stream": "stdout",
       "text": [
        "\n",
        "Predicting signal from SparseDeconvolutionModel with ElasticNet(alpha=0.025, copy_X=True, fit_intercept=False, max_iter=1000,\n",
        "      normalize=False, positive=True, precompute=auto, rho=0.2, tol=0.0001,\n",
        "      warm_start=False)"
       ]
      },
      {
       "output_type": "stream",
       "stream": "stdout",
       "text": [
        "\n",
        "Loading params from file: /biac4/wandell/biac2/wandell6/data/arokem/osmosis/FP/0005_01_DWI_2mm150dir_2x_b4000_aligned_trilin_SSD_rho0.2_alpha0.025.nii.gz"
       ]
      },
      {
       "output_type": "stream",
       "stream": "stdout",
       "text": [
        "\n",
        "Predicting signal from SparseDeconvolutionModel with ElasticNet(alpha=0.025, copy_X=True, fit_intercept=False, max_iter=1000,\n",
        "      normalize=False, positive=True, precompute=auto, rho=0.2, tol=0.0001,\n",
        "      warm_start=False)"
       ]
      },
      {
       "output_type": "stream",
       "stream": "stdout",
       "text": [
        "\n",
        "Loading params from file: /biac4/wandell/biac2/wandell6/data/arokem/osmosis/FP/0007_01_DWI_2mm150dir_2x_b4000_aligned_trilin_SSD_rho0.2_alpha0.025.nii.gz"
       ]
      },
      {
       "output_type": "stream",
       "stream": "stdout",
       "text": [
        "\n",
        "Predicting signal from SparseDeconvolutionModel with ElasticNet(alpha=0.05, copy_X=True, fit_intercept=False, max_iter=1000,\n",
        "      normalize=False, positive=True, precompute=auto, rho=0.2, tol=0.0001,\n",
        "      warm_start=False)"
       ]
      },
      {
       "output_type": "stream",
       "stream": "stdout",
       "text": [
        "\n",
        "Loading params from file: /biac4/wandell/biac2/wandell6/data/arokem/osmosis/FP/0005_01_DWI_2mm150dir_2x_b4000_aligned_trilin_SSD_rho0.2_alpha0.05.nii.gz"
       ]
      },
      {
       "output_type": "stream",
       "stream": "stdout",
       "text": [
        "\n",
        "Predicting signal from SparseDeconvolutionModel with ElasticNet(alpha=0.05, copy_X=True, fit_intercept=False, max_iter=1000,\n",
        "      normalize=False, positive=True, precompute=auto, rho=0.2, tol=0.0001,\n",
        "      warm_start=False)"
       ]
      },
      {
       "output_type": "stream",
       "stream": "stdout",
       "text": [
        "\n",
        "Loading params from file: /biac4/wandell/biac2/wandell6/data/arokem/osmosis/FP/0007_01_DWI_2mm150dir_2x_b4000_aligned_trilin_SSD_rho0.2_alpha0.05.nii.gz"
       ]
      },
      {
       "output_type": "stream",
       "stream": "stdout",
       "text": [
        "\n",
        "Predicting signal from SparseDeconvolutionModel with ElasticNet(alpha=0.0001, copy_X=True, fit_intercept=False, max_iter=1000,\n",
        "      normalize=False, positive=True, precompute=auto, rho=0.4, tol=0.0001,\n",
        "      warm_start=False)"
       ]
      },
      {
       "output_type": "stream",
       "stream": "stdout",
       "text": [
        "\n",
        "Loading params from file: /biac4/wandell/biac2/wandell6/data/arokem/osmosis/FP/0005_01_DWI_2mm150dir_2x_b4000_aligned_trilin_SSD_rho0.4_alpha0.0001.nii.gz"
       ]
      },
      {
       "output_type": "stream",
       "stream": "stdout",
       "text": [
        "\n",
        "Predicting signal from SparseDeconvolutionModel with ElasticNet(alpha=0.0001, copy_X=True, fit_intercept=False, max_iter=1000,\n",
        "      normalize=False, positive=True, precompute=auto, rho=0.4, tol=0.0001,\n",
        "      warm_start=False)"
       ]
      },
      {
       "output_type": "stream",
       "stream": "stdout",
       "text": [
        "\n",
        "Loading params from file: /biac4/wandell/biac2/wandell6/data/arokem/osmosis/FP/0007_01_DWI_2mm150dir_2x_b4000_aligned_trilin_SSD_rho0.4_alpha0.0001.nii.gz"
       ]
      },
      {
       "output_type": "stream",
       "stream": "stdout",
       "text": [
        "\n",
        "Predicting signal from SparseDeconvolutionModel with ElasticNet(alpha=0.0005, copy_X=True, fit_intercept=False, max_iter=1000,\n",
        "      normalize=False, positive=True, precompute=auto, rho=0.4, tol=0.0001,\n",
        "      warm_start=False)"
       ]
      },
      {
       "output_type": "stream",
       "stream": "stdout",
       "text": [
        "\n",
        "Loading params from file: /biac4/wandell/biac2/wandell6/data/arokem/osmosis/FP/0005_01_DWI_2mm150dir_2x_b4000_aligned_trilin_SSD_rho0.4_alpha0.0005.nii.gz"
       ]
      },
      {
       "output_type": "stream",
       "stream": "stdout",
       "text": [
        "\n",
        "Predicting signal from SparseDeconvolutionModel with ElasticNet(alpha=0.0005, copy_X=True, fit_intercept=False, max_iter=1000,\n",
        "      normalize=False, positive=True, precompute=auto, rho=0.4, tol=0.0001,\n",
        "      warm_start=False)"
       ]
      },
      {
       "output_type": "stream",
       "stream": "stdout",
       "text": [
        "\n",
        "Loading params from file: /biac4/wandell/biac2/wandell6/data/arokem/osmosis/FP/0007_01_DWI_2mm150dir_2x_b4000_aligned_trilin_SSD_rho0.4_alpha0.0005.nii.gz"
       ]
      },
      {
       "output_type": "stream",
       "stream": "stdout",
       "text": [
        "\n",
        "Predicting signal from SparseDeconvolutionModel with ElasticNet(alpha=0.001, copy_X=True, fit_intercept=False, max_iter=1000,\n",
        "      normalize=False, positive=True, precompute=auto, rho=0.4, tol=0.0001,\n",
        "      warm_start=False)"
       ]
      },
      {
       "output_type": "stream",
       "stream": "stdout",
       "text": [
        "\n",
        "Loading params from file: /biac4/wandell/biac2/wandell6/data/arokem/osmosis/FP/0005_01_DWI_2mm150dir_2x_b4000_aligned_trilin_SSD_rho0.4_alpha0.001.nii.gz"
       ]
      },
      {
       "output_type": "stream",
       "stream": "stdout",
       "text": [
        "\n",
        "Predicting signal from SparseDeconvolutionModel with ElasticNet(alpha=0.001, copy_X=True, fit_intercept=False, max_iter=1000,\n",
        "      normalize=False, positive=True, precompute=auto, rho=0.4, tol=0.0001,\n",
        "      warm_start=False)"
       ]
      },
      {
       "output_type": "stream",
       "stream": "stdout",
       "text": [
        "\n",
        "Loading params from file: /biac4/wandell/biac2/wandell6/data/arokem/osmosis/FP/0007_01_DWI_2mm150dir_2x_b4000_aligned_trilin_SSD_rho0.4_alpha0.001.nii.gz"
       ]
      },
      {
       "output_type": "stream",
       "stream": "stdout",
       "text": [
        "\n",
        "Predicting signal from SparseDeconvolutionModel with ElasticNet(alpha=0.0025, copy_X=True, fit_intercept=False, max_iter=1000,\n",
        "      normalize=False, positive=True, precompute=auto, rho=0.4, tol=0.0001,\n",
        "      warm_start=False)"
       ]
      },
      {
       "output_type": "stream",
       "stream": "stdout",
       "text": [
        "\n",
        "Loading params from file: /biac4/wandell/biac2/wandell6/data/arokem/osmosis/FP/0005_01_DWI_2mm150dir_2x_b4000_aligned_trilin_SSD_rho0.4_alpha0.0025.nii.gz"
       ]
      },
      {
       "output_type": "stream",
       "stream": "stdout",
       "text": [
        "\n",
        "Predicting signal from SparseDeconvolutionModel with ElasticNet(alpha=0.0025, copy_X=True, fit_intercept=False, max_iter=1000,\n",
        "      normalize=False, positive=True, precompute=auto, rho=0.4, tol=0.0001,\n",
        "      warm_start=False)"
       ]
      },
      {
       "output_type": "stream",
       "stream": "stdout",
       "text": [
        "\n",
        "Loading params from file: /biac4/wandell/biac2/wandell6/data/arokem/osmosis/FP/0007_01_DWI_2mm150dir_2x_b4000_aligned_trilin_SSD_rho0.4_alpha0.0025.nii.gz"
       ]
      },
      {
       "output_type": "stream",
       "stream": "stdout",
       "text": [
        "\n",
        "Predicting signal from SparseDeconvolutionModel with ElasticNet(alpha=0.005, copy_X=True, fit_intercept=False, max_iter=1000,\n",
        "      normalize=False, positive=True, precompute=auto, rho=0.4, tol=0.0001,\n",
        "      warm_start=False)"
       ]
      },
      {
       "output_type": "stream",
       "stream": "stdout",
       "text": [
        "\n",
        "Loading params from file: /biac4/wandell/biac2/wandell6/data/arokem/osmosis/FP/0005_01_DWI_2mm150dir_2x_b4000_aligned_trilin_SSD_rho0.4_alpha0.005.nii.gz"
       ]
      },
      {
       "output_type": "stream",
       "stream": "stdout",
       "text": [
        "\n",
        "Predicting signal from SparseDeconvolutionModel with ElasticNet(alpha=0.005, copy_X=True, fit_intercept=False, max_iter=1000,\n",
        "      normalize=False, positive=True, precompute=auto, rho=0.4, tol=0.0001,\n",
        "      warm_start=False)"
       ]
      },
      {
       "output_type": "stream",
       "stream": "stdout",
       "text": [
        "\n",
        "Loading params from file: /biac4/wandell/biac2/wandell6/data/arokem/osmosis/FP/0007_01_DWI_2mm150dir_2x_b4000_aligned_trilin_SSD_rho0.4_alpha0.005.nii.gz"
       ]
      },
      {
       "output_type": "stream",
       "stream": "stdout",
       "text": [
        "\n",
        "Predicting signal from SparseDeconvolutionModel with ElasticNet(alpha=0.0075, copy_X=True, fit_intercept=False, max_iter=1000,\n",
        "      normalize=False, positive=True, precompute=auto, rho=0.4, tol=0.0001,\n",
        "      warm_start=False)"
       ]
      },
      {
       "output_type": "stream",
       "stream": "stdout",
       "text": [
        "\n",
        "Loading params from file: /biac4/wandell/biac2/wandell6/data/arokem/osmosis/FP/0005_01_DWI_2mm150dir_2x_b4000_aligned_trilin_SSD_rho0.4_alpha0.0075.nii.gz"
       ]
      },
      {
       "output_type": "stream",
       "stream": "stdout",
       "text": [
        "\n",
        "Predicting signal from SparseDeconvolutionModel with ElasticNet(alpha=0.0075, copy_X=True, fit_intercept=False, max_iter=1000,\n",
        "      normalize=False, positive=True, precompute=auto, rho=0.4, tol=0.0001,\n",
        "      warm_start=False)"
       ]
      },
      {
       "output_type": "stream",
       "stream": "stdout",
       "text": [
        "\n",
        "Loading params from file: /biac4/wandell/biac2/wandell6/data/arokem/osmosis/FP/0007_01_DWI_2mm150dir_2x_b4000_aligned_trilin_SSD_rho0.4_alpha0.0075.nii.gz"
       ]
      },
      {
       "output_type": "stream",
       "stream": "stdout",
       "text": [
        "\n",
        "Predicting signal from SparseDeconvolutionModel with ElasticNet(alpha=0.01, copy_X=True, fit_intercept=False, max_iter=1000,\n",
        "      normalize=False, positive=True, precompute=auto, rho=0.4, tol=0.0001,\n",
        "      warm_start=False)"
       ]
      },
      {
       "output_type": "stream",
       "stream": "stdout",
       "text": [
        "\n",
        "Loading params from file: /biac4/wandell/biac2/wandell6/data/arokem/osmosis/FP/0005_01_DWI_2mm150dir_2x_b4000_aligned_trilin_SSD_rho0.4_alpha0.01.nii.gz"
       ]
      },
      {
       "output_type": "stream",
       "stream": "stdout",
       "text": [
        "\n",
        "Predicting signal from SparseDeconvolutionModel with ElasticNet(alpha=0.01, copy_X=True, fit_intercept=False, max_iter=1000,\n",
        "      normalize=False, positive=True, precompute=auto, rho=0.4, tol=0.0001,\n",
        "      warm_start=False)"
       ]
      },
      {
       "output_type": "stream",
       "stream": "stdout",
       "text": [
        "\n",
        "Loading params from file: /biac4/wandell/biac2/wandell6/data/arokem/osmosis/FP/0007_01_DWI_2mm150dir_2x_b4000_aligned_trilin_SSD_rho0.4_alpha0.01.nii.gz"
       ]
      },
      {
       "output_type": "stream",
       "stream": "stdout",
       "text": [
        "\n",
        "Predicting signal from SparseDeconvolutionModel with ElasticNet(alpha=0.025, copy_X=True, fit_intercept=False, max_iter=1000,\n",
        "      normalize=False, positive=True, precompute=auto, rho=0.4, tol=0.0001,\n",
        "      warm_start=False)"
       ]
      },
      {
       "output_type": "stream",
       "stream": "stdout",
       "text": [
        "\n",
        "Loading params from file: /biac4/wandell/biac2/wandell6/data/arokem/osmosis/FP/0005_01_DWI_2mm150dir_2x_b4000_aligned_trilin_SSD_rho0.4_alpha0.025.nii.gz"
       ]
      },
      {
       "output_type": "stream",
       "stream": "stdout",
       "text": [
        "\n",
        "Predicting signal from SparseDeconvolutionModel with ElasticNet(alpha=0.025, copy_X=True, fit_intercept=False, max_iter=1000,\n",
        "      normalize=False, positive=True, precompute=auto, rho=0.4, tol=0.0001,\n",
        "      warm_start=False)"
       ]
      },
      {
       "output_type": "stream",
       "stream": "stdout",
       "text": [
        "\n",
        "Loading params from file: /biac4/wandell/biac2/wandell6/data/arokem/osmosis/FP/0007_01_DWI_2mm150dir_2x_b4000_aligned_trilin_SSD_rho0.4_alpha0.025.nii.gz"
       ]
      },
      {
       "output_type": "stream",
       "stream": "stdout",
       "text": [
        "\n",
        "Predicting signal from SparseDeconvolutionModel with ElasticNet(alpha=0.05, copy_X=True, fit_intercept=False, max_iter=1000,\n",
        "      normalize=False, positive=True, precompute=auto, rho=0.4, tol=0.0001,\n",
        "      warm_start=False)"
       ]
      },
      {
       "output_type": "stream",
       "stream": "stdout",
       "text": [
        "\n",
        "Loading params from file: /biac4/wandell/biac2/wandell6/data/arokem/osmosis/FP/0005_01_DWI_2mm150dir_2x_b4000_aligned_trilin_SSD_rho0.4_alpha0.05.nii.gz"
       ]
      },
      {
       "output_type": "stream",
       "stream": "stdout",
       "text": [
        "\n",
        "Predicting signal from SparseDeconvolutionModel with ElasticNet(alpha=0.05, copy_X=True, fit_intercept=False, max_iter=1000,\n",
        "      normalize=False, positive=True, precompute=auto, rho=0.4, tol=0.0001,\n",
        "      warm_start=False)"
       ]
      },
      {
       "output_type": "stream",
       "stream": "stdout",
       "text": [
        "\n",
        "Loading params from file: /biac4/wandell/biac2/wandell6/data/arokem/osmosis/FP/0007_01_DWI_2mm150dir_2x_b4000_aligned_trilin_SSD_rho0.4_alpha0.05.nii.gz"
       ]
      },
      {
       "output_type": "stream",
       "stream": "stdout",
       "text": [
        "\n",
        "Predicting signal from SparseDeconvolutionModel with ElasticNet(alpha=0.0001, copy_X=True, fit_intercept=False, max_iter=1000,\n",
        "      normalize=False, positive=True, precompute=auto, rho=0.6, tol=0.0001,\n",
        "      warm_start=False)"
       ]
      },
      {
       "output_type": "stream",
       "stream": "stdout",
       "text": [
        "\n",
        "Loading params from file: /biac4/wandell/biac2/wandell6/data/arokem/osmosis/FP/0005_01_DWI_2mm150dir_2x_b4000_aligned_trilin_SSD_rho0.6_alpha0.0001.nii.gz"
       ]
      },
      {
       "output_type": "stream",
       "stream": "stdout",
       "text": [
        "\n",
        "Predicting signal from SparseDeconvolutionModel with ElasticNet(alpha=0.0001, copy_X=True, fit_intercept=False, max_iter=1000,\n",
        "      normalize=False, positive=True, precompute=auto, rho=0.6, tol=0.0001,\n",
        "      warm_start=False)"
       ]
      },
      {
       "output_type": "stream",
       "stream": "stdout",
       "text": [
        "\n",
        "Loading params from file: /biac4/wandell/biac2/wandell6/data/arokem/osmosis/FP/0007_01_DWI_2mm150dir_2x_b4000_aligned_trilin_SSD_rho0.6_alpha0.0001.nii.gz"
       ]
      },
      {
       "output_type": "stream",
       "stream": "stdout",
       "text": [
        "\n",
        "Predicting signal from SparseDeconvolutionModel with ElasticNet(alpha=0.0005, copy_X=True, fit_intercept=False, max_iter=1000,\n",
        "      normalize=False, positive=True, precompute=auto, rho=0.6, tol=0.0001,\n",
        "      warm_start=False)"
       ]
      },
      {
       "output_type": "stream",
       "stream": "stdout",
       "text": [
        "\n",
        "Loading params from file: /biac4/wandell/biac2/wandell6/data/arokem/osmosis/FP/0005_01_DWI_2mm150dir_2x_b4000_aligned_trilin_SSD_rho0.6_alpha0.0005.nii.gz"
       ]
      },
      {
       "output_type": "stream",
       "stream": "stdout",
       "text": [
        "\n",
        "Predicting signal from SparseDeconvolutionModel with ElasticNet(alpha=0.0005, copy_X=True, fit_intercept=False, max_iter=1000,\n",
        "      normalize=False, positive=True, precompute=auto, rho=0.6, tol=0.0001,\n",
        "      warm_start=False)"
       ]
      },
      {
       "output_type": "stream",
       "stream": "stdout",
       "text": [
        "\n",
        "Loading params from file: /biac4/wandell/biac2/wandell6/data/arokem/osmosis/FP/0007_01_DWI_2mm150dir_2x_b4000_aligned_trilin_SSD_rho0.6_alpha0.0005.nii.gz"
       ]
      },
      {
       "output_type": "stream",
       "stream": "stdout",
       "text": [
        "\n",
        "Predicting signal from SparseDeconvolutionModel with ElasticNet(alpha=0.001, copy_X=True, fit_intercept=False, max_iter=1000,\n",
        "      normalize=False, positive=True, precompute=auto, rho=0.6, tol=0.0001,\n",
        "      warm_start=False)"
       ]
      },
      {
       "output_type": "stream",
       "stream": "stdout",
       "text": [
        "\n",
        "Loading params from file: /biac4/wandell/biac2/wandell6/data/arokem/osmosis/FP/0005_01_DWI_2mm150dir_2x_b4000_aligned_trilin_SSD_rho0.6_alpha0.001.nii.gz"
       ]
      },
      {
       "output_type": "stream",
       "stream": "stdout",
       "text": [
        "\n",
        "Predicting signal from SparseDeconvolutionModel with ElasticNet(alpha=0.001, copy_X=True, fit_intercept=False, max_iter=1000,\n",
        "      normalize=False, positive=True, precompute=auto, rho=0.6, tol=0.0001,\n",
        "      warm_start=False)"
       ]
      },
      {
       "output_type": "stream",
       "stream": "stdout",
       "text": [
        "\n",
        "Loading params from file: /biac4/wandell/biac2/wandell6/data/arokem/osmosis/FP/0007_01_DWI_2mm150dir_2x_b4000_aligned_trilin_SSD_rho0.6_alpha0.001.nii.gz"
       ]
      },
      {
       "output_type": "stream",
       "stream": "stdout",
       "text": [
        "\n",
        "Predicting signal from SparseDeconvolutionModel with ElasticNet(alpha=0.0025, copy_X=True, fit_intercept=False, max_iter=1000,\n",
        "      normalize=False, positive=True, precompute=auto, rho=0.6, tol=0.0001,\n",
        "      warm_start=False)"
       ]
      },
      {
       "output_type": "stream",
       "stream": "stdout",
       "text": [
        "\n",
        "Loading params from file: /biac4/wandell/biac2/wandell6/data/arokem/osmosis/FP/0005_01_DWI_2mm150dir_2x_b4000_aligned_trilin_SSD_rho0.6_alpha0.0025.nii.gz"
       ]
      },
      {
       "output_type": "stream",
       "stream": "stdout",
       "text": [
        "\n",
        "Predicting signal from SparseDeconvolutionModel with ElasticNet(alpha=0.0025, copy_X=True, fit_intercept=False, max_iter=1000,\n",
        "      normalize=False, positive=True, precompute=auto, rho=0.6, tol=0.0001,\n",
        "      warm_start=False)"
       ]
      },
      {
       "output_type": "stream",
       "stream": "stdout",
       "text": [
        "\n",
        "Loading params from file: /biac4/wandell/biac2/wandell6/data/arokem/osmosis/FP/0007_01_DWI_2mm150dir_2x_b4000_aligned_trilin_SSD_rho0.6_alpha0.0025.nii.gz"
       ]
      },
      {
       "output_type": "stream",
       "stream": "stdout",
       "text": [
        "\n",
        "Predicting signal from SparseDeconvolutionModel with ElasticNet(alpha=0.005, copy_X=True, fit_intercept=False, max_iter=1000,\n",
        "      normalize=False, positive=True, precompute=auto, rho=0.6, tol=0.0001,\n",
        "      warm_start=False)"
       ]
      },
      {
       "output_type": "stream",
       "stream": "stdout",
       "text": [
        "\n",
        "Loading params from file: /biac4/wandell/biac2/wandell6/data/arokem/osmosis/FP/0005_01_DWI_2mm150dir_2x_b4000_aligned_trilin_SSD_rho0.6_alpha0.005.nii.gz"
       ]
      },
      {
       "output_type": "stream",
       "stream": "stdout",
       "text": [
        "\n",
        "Predicting signal from SparseDeconvolutionModel with ElasticNet(alpha=0.005, copy_X=True, fit_intercept=False, max_iter=1000,\n",
        "      normalize=False, positive=True, precompute=auto, rho=0.6, tol=0.0001,\n",
        "      warm_start=False)"
       ]
      },
      {
       "output_type": "stream",
       "stream": "stdout",
       "text": [
        "\n",
        "Loading params from file: /biac4/wandell/biac2/wandell6/data/arokem/osmosis/FP/0007_01_DWI_2mm150dir_2x_b4000_aligned_trilin_SSD_rho0.6_alpha0.005.nii.gz"
       ]
      },
      {
       "output_type": "stream",
       "stream": "stdout",
       "text": [
        "\n",
        "Predicting signal from SparseDeconvolutionModel with ElasticNet(alpha=0.0075, copy_X=True, fit_intercept=False, max_iter=1000,\n",
        "      normalize=False, positive=True, precompute=auto, rho=0.6, tol=0.0001,\n",
        "      warm_start=False)"
       ]
      },
      {
       "output_type": "stream",
       "stream": "stdout",
       "text": [
        "\n",
        "Loading params from file: /biac4/wandell/biac2/wandell6/data/arokem/osmosis/FP/0005_01_DWI_2mm150dir_2x_b4000_aligned_trilin_SSD_rho0.6_alpha0.0075.nii.gz"
       ]
      },
      {
       "output_type": "stream",
       "stream": "stdout",
       "text": [
        "\n",
        "Predicting signal from SparseDeconvolutionModel with ElasticNet(alpha=0.0075, copy_X=True, fit_intercept=False, max_iter=1000,\n",
        "      normalize=False, positive=True, precompute=auto, rho=0.6, tol=0.0001,\n",
        "      warm_start=False)"
       ]
      },
      {
       "output_type": "stream",
       "stream": "stdout",
       "text": [
        "\n",
        "Loading params from file: /biac4/wandell/biac2/wandell6/data/arokem/osmosis/FP/0007_01_DWI_2mm150dir_2x_b4000_aligned_trilin_SSD_rho0.6_alpha0.0075.nii.gz"
       ]
      },
      {
       "output_type": "stream",
       "stream": "stdout",
       "text": [
        "\n",
        "Predicting signal from SparseDeconvolutionModel with ElasticNet(alpha=0.01, copy_X=True, fit_intercept=False, max_iter=1000,\n",
        "      normalize=False, positive=True, precompute=auto, rho=0.6, tol=0.0001,\n",
        "      warm_start=False)"
       ]
      },
      {
       "output_type": "stream",
       "stream": "stdout",
       "text": [
        "\n",
        "Loading params from file: /biac4/wandell/biac2/wandell6/data/arokem/osmosis/FP/0005_01_DWI_2mm150dir_2x_b4000_aligned_trilin_SSD_rho0.6_alpha0.01.nii.gz"
       ]
      },
      {
       "output_type": "stream",
       "stream": "stdout",
       "text": [
        "\n",
        "Predicting signal from SparseDeconvolutionModel with ElasticNet(alpha=0.01, copy_X=True, fit_intercept=False, max_iter=1000,\n",
        "      normalize=False, positive=True, precompute=auto, rho=0.6, tol=0.0001,\n",
        "      warm_start=False)"
       ]
      },
      {
       "output_type": "stream",
       "stream": "stdout",
       "text": [
        "\n",
        "Loading params from file: /biac4/wandell/biac2/wandell6/data/arokem/osmosis/FP/0007_01_DWI_2mm150dir_2x_b4000_aligned_trilin_SSD_rho0.6_alpha0.01.nii.gz"
       ]
      },
      {
       "output_type": "stream",
       "stream": "stdout",
       "text": [
        "\n",
        "Predicting signal from SparseDeconvolutionModel with ElasticNet(alpha=0.025, copy_X=True, fit_intercept=False, max_iter=1000,\n",
        "      normalize=False, positive=True, precompute=auto, rho=0.6, tol=0.0001,\n",
        "      warm_start=False)"
       ]
      },
      {
       "output_type": "stream",
       "stream": "stdout",
       "text": [
        "\n",
        "Loading params from file: /biac4/wandell/biac2/wandell6/data/arokem/osmosis/FP/0005_01_DWI_2mm150dir_2x_b4000_aligned_trilin_SSD_rho0.6_alpha0.025.nii.gz"
       ]
      },
      {
       "output_type": "stream",
       "stream": "stdout",
       "text": [
        "\n",
        "Predicting signal from SparseDeconvolutionModel with ElasticNet(alpha=0.025, copy_X=True, fit_intercept=False, max_iter=1000,\n",
        "      normalize=False, positive=True, precompute=auto, rho=0.6, tol=0.0001,\n",
        "      warm_start=False)"
       ]
      },
      {
       "output_type": "stream",
       "stream": "stdout",
       "text": [
        "\n",
        "Loading params from file: /biac4/wandell/biac2/wandell6/data/arokem/osmosis/FP/0007_01_DWI_2mm150dir_2x_b4000_aligned_trilin_SSD_rho0.6_alpha0.025.nii.gz"
       ]
      },
      {
       "output_type": "stream",
       "stream": "stdout",
       "text": [
        "\n",
        "Predicting signal from SparseDeconvolutionModel with ElasticNet(alpha=0.05, copy_X=True, fit_intercept=False, max_iter=1000,\n",
        "      normalize=False, positive=True, precompute=auto, rho=0.6, tol=0.0001,\n",
        "      warm_start=False)"
       ]
      },
      {
       "output_type": "stream",
       "stream": "stdout",
       "text": [
        "\n",
        "Loading params from file: /biac4/wandell/biac2/wandell6/data/arokem/osmosis/FP/0005_01_DWI_2mm150dir_2x_b4000_aligned_trilin_SSD_rho0.6_alpha0.05.nii.gz"
       ]
      },
      {
       "output_type": "stream",
       "stream": "stdout",
       "text": [
        "\n",
        "Predicting signal from SparseDeconvolutionModel with ElasticNet(alpha=0.05, copy_X=True, fit_intercept=False, max_iter=1000,\n",
        "      normalize=False, positive=True, precompute=auto, rho=0.6, tol=0.0001,\n",
        "      warm_start=False)"
       ]
      },
      {
       "output_type": "stream",
       "stream": "stdout",
       "text": [
        "\n",
        "Loading params from file: /biac4/wandell/biac2/wandell6/data/arokem/osmosis/FP/0007_01_DWI_2mm150dir_2x_b4000_aligned_trilin_SSD_rho0.6_alpha0.05.nii.gz"
       ]
      },
      {
       "output_type": "stream",
       "stream": "stdout",
       "text": [
        "\n",
        "Predicting signal from SparseDeconvolutionModel with ElasticNet(alpha=0.0001, copy_X=True, fit_intercept=False, max_iter=1000,\n",
        "      normalize=False, positive=True, precompute=auto, rho=0.8, tol=0.0001,\n",
        "      warm_start=False)"
       ]
      },
      {
       "output_type": "stream",
       "stream": "stdout",
       "text": [
        "\n",
        "Loading params from file: /biac4/wandell/biac2/wandell6/data/arokem/osmosis/FP/0005_01_DWI_2mm150dir_2x_b4000_aligned_trilin_SSD_rho0.8_alpha0.0001.nii.gz"
       ]
      },
      {
       "output_type": "stream",
       "stream": "stdout",
       "text": [
        "\n",
        "Predicting signal from SparseDeconvolutionModel with ElasticNet(alpha=0.0001, copy_X=True, fit_intercept=False, max_iter=1000,\n",
        "      normalize=False, positive=True, precompute=auto, rho=0.8, tol=0.0001,\n",
        "      warm_start=False)"
       ]
      },
      {
       "output_type": "stream",
       "stream": "stdout",
       "text": [
        "\n",
        "Loading params from file: /biac4/wandell/biac2/wandell6/data/arokem/osmosis/FP/0007_01_DWI_2mm150dir_2x_b4000_aligned_trilin_SSD_rho0.8_alpha0.0001.nii.gz"
       ]
      },
      {
       "output_type": "stream",
       "stream": "stdout",
       "text": [
        "\n",
        "Predicting signal from SparseDeconvolutionModel with ElasticNet(alpha=0.0005, copy_X=True, fit_intercept=False, max_iter=1000,\n",
        "      normalize=False, positive=True, precompute=auto, rho=0.8, tol=0.0001,\n",
        "      warm_start=False)"
       ]
      },
      {
       "output_type": "stream",
       "stream": "stdout",
       "text": [
        "\n",
        "Loading params from file: /biac4/wandell/biac2/wandell6/data/arokem/osmosis/FP/0005_01_DWI_2mm150dir_2x_b4000_aligned_trilin_SSD_rho0.8_alpha0.0005.nii.gz"
       ]
      },
      {
       "output_type": "stream",
       "stream": "stdout",
       "text": [
        "\n",
        "Predicting signal from SparseDeconvolutionModel with ElasticNet(alpha=0.0005, copy_X=True, fit_intercept=False, max_iter=1000,\n",
        "      normalize=False, positive=True, precompute=auto, rho=0.8, tol=0.0001,\n",
        "      warm_start=False)"
       ]
      },
      {
       "output_type": "stream",
       "stream": "stdout",
       "text": [
        "\n",
        "Loading params from file: /biac4/wandell/biac2/wandell6/data/arokem/osmosis/FP/0007_01_DWI_2mm150dir_2x_b4000_aligned_trilin_SSD_rho0.8_alpha0.0005.nii.gz"
       ]
      },
      {
       "output_type": "stream",
       "stream": "stdout",
       "text": [
        "\n",
        "Predicting signal from SparseDeconvolutionModel with ElasticNet(alpha=0.001, copy_X=True, fit_intercept=False, max_iter=1000,\n",
        "      normalize=False, positive=True, precompute=auto, rho=0.8, tol=0.0001,\n",
        "      warm_start=False)"
       ]
      },
      {
       "output_type": "stream",
       "stream": "stdout",
       "text": [
        "\n",
        "Loading params from file: /biac4/wandell/biac2/wandell6/data/arokem/osmosis/FP/0005_01_DWI_2mm150dir_2x_b4000_aligned_trilin_SSD_rho0.8_alpha0.001.nii.gz"
       ]
      },
      {
       "output_type": "stream",
       "stream": "stdout",
       "text": [
        "\n",
        "Predicting signal from SparseDeconvolutionModel with ElasticNet(alpha=0.001, copy_X=True, fit_intercept=False, max_iter=1000,\n",
        "      normalize=False, positive=True, precompute=auto, rho=0.8, tol=0.0001,\n",
        "      warm_start=False)"
       ]
      },
      {
       "output_type": "stream",
       "stream": "stdout",
       "text": [
        "\n",
        "Loading params from file: /biac4/wandell/biac2/wandell6/data/arokem/osmosis/FP/0007_01_DWI_2mm150dir_2x_b4000_aligned_trilin_SSD_rho0.8_alpha0.001.nii.gz"
       ]
      },
      {
       "output_type": "stream",
       "stream": "stdout",
       "text": [
        "\n",
        "Predicting signal from SparseDeconvolutionModel with ElasticNet(alpha=0.0025, copy_X=True, fit_intercept=False, max_iter=1000,\n",
        "      normalize=False, positive=True, precompute=auto, rho=0.8, tol=0.0001,\n",
        "      warm_start=False)"
       ]
      },
      {
       "output_type": "stream",
       "stream": "stdout",
       "text": [
        "\n",
        "Loading params from file: /biac4/wandell/biac2/wandell6/data/arokem/osmosis/FP/0005_01_DWI_2mm150dir_2x_b4000_aligned_trilin_SSD_rho0.8_alpha0.0025.nii.gz"
       ]
      },
      {
       "output_type": "stream",
       "stream": "stdout",
       "text": [
        "\n",
        "Predicting signal from SparseDeconvolutionModel with ElasticNet(alpha=0.0025, copy_X=True, fit_intercept=False, max_iter=1000,\n",
        "      normalize=False, positive=True, precompute=auto, rho=0.8, tol=0.0001,\n",
        "      warm_start=False)"
       ]
      },
      {
       "output_type": "stream",
       "stream": "stdout",
       "text": [
        "\n",
        "Loading params from file: /biac4/wandell/biac2/wandell6/data/arokem/osmosis/FP/0007_01_DWI_2mm150dir_2x_b4000_aligned_trilin_SSD_rho0.8_alpha0.0025.nii.gz"
       ]
      },
      {
       "output_type": "stream",
       "stream": "stdout",
       "text": [
        "\n",
        "Predicting signal from SparseDeconvolutionModel with ElasticNet(alpha=0.005, copy_X=True, fit_intercept=False, max_iter=1000,\n",
        "      normalize=False, positive=True, precompute=auto, rho=0.8, tol=0.0001,\n",
        "      warm_start=False)"
       ]
      },
      {
       "output_type": "stream",
       "stream": "stdout",
       "text": [
        "\n",
        "Loading params from file: /biac4/wandell/biac2/wandell6/data/arokem/osmosis/FP/0005_01_DWI_2mm150dir_2x_b4000_aligned_trilin_SSD_rho0.8_alpha0.005.nii.gz"
       ]
      },
      {
       "output_type": "stream",
       "stream": "stdout",
       "text": [
        "\n",
        "Predicting signal from SparseDeconvolutionModel with ElasticNet(alpha=0.005, copy_X=True, fit_intercept=False, max_iter=1000,\n",
        "      normalize=False, positive=True, precompute=auto, rho=0.8, tol=0.0001,\n",
        "      warm_start=False)"
       ]
      },
      {
       "output_type": "stream",
       "stream": "stdout",
       "text": [
        "\n",
        "Loading params from file: /biac4/wandell/biac2/wandell6/data/arokem/osmosis/FP/0007_01_DWI_2mm150dir_2x_b4000_aligned_trilin_SSD_rho0.8_alpha0.005.nii.gz"
       ]
      },
      {
       "output_type": "stream",
       "stream": "stdout",
       "text": [
        "\n",
        "Predicting signal from SparseDeconvolutionModel with ElasticNet(alpha=0.0075, copy_X=True, fit_intercept=False, max_iter=1000,\n",
        "      normalize=False, positive=True, precompute=auto, rho=0.8, tol=0.0001,\n",
        "      warm_start=False)"
       ]
      },
      {
       "output_type": "stream",
       "stream": "stdout",
       "text": [
        "\n",
        "Loading params from file: /biac4/wandell/biac2/wandell6/data/arokem/osmosis/FP/0005_01_DWI_2mm150dir_2x_b4000_aligned_trilin_SSD_rho0.8_alpha0.0075.nii.gz"
       ]
      },
      {
       "output_type": "stream",
       "stream": "stdout",
       "text": [
        "\n",
        "Predicting signal from SparseDeconvolutionModel with ElasticNet(alpha=0.0075, copy_X=True, fit_intercept=False, max_iter=1000,\n",
        "      normalize=False, positive=True, precompute=auto, rho=0.8, tol=0.0001,\n",
        "      warm_start=False)"
       ]
      },
      {
       "output_type": "stream",
       "stream": "stdout",
       "text": [
        "\n",
        "Loading params from file: /biac4/wandell/biac2/wandell6/data/arokem/osmosis/FP/0007_01_DWI_2mm150dir_2x_b4000_aligned_trilin_SSD_rho0.8_alpha0.0075.nii.gz"
       ]
      },
      {
       "output_type": "stream",
       "stream": "stdout",
       "text": [
        "\n",
        "Predicting signal from SparseDeconvolutionModel with ElasticNet(alpha=0.01, copy_X=True, fit_intercept=False, max_iter=1000,\n",
        "      normalize=False, positive=True, precompute=auto, rho=0.8, tol=0.0001,\n",
        "      warm_start=False)"
       ]
      },
      {
       "output_type": "stream",
       "stream": "stdout",
       "text": [
        "\n",
        "Loading params from file: /biac4/wandell/biac2/wandell6/data/arokem/osmosis/FP/0005_01_DWI_2mm150dir_2x_b4000_aligned_trilin_SSD_rho0.8_alpha0.01.nii.gz"
       ]
      },
      {
       "output_type": "stream",
       "stream": "stdout",
       "text": [
        "\n",
        "Predicting signal from SparseDeconvolutionModel with ElasticNet(alpha=0.01, copy_X=True, fit_intercept=False, max_iter=1000,\n",
        "      normalize=False, positive=True, precompute=auto, rho=0.8, tol=0.0001,\n",
        "      warm_start=False)"
       ]
      },
      {
       "output_type": "stream",
       "stream": "stdout",
       "text": [
        "\n",
        "Loading params from file: /biac4/wandell/biac2/wandell6/data/arokem/osmosis/FP/0007_01_DWI_2mm150dir_2x_b4000_aligned_trilin_SSD_rho0.8_alpha0.01.nii.gz"
       ]
      },
      {
       "output_type": "stream",
       "stream": "stdout",
       "text": [
        "\n",
        "Predicting signal from SparseDeconvolutionModel with ElasticNet(alpha=0.025, copy_X=True, fit_intercept=False, max_iter=1000,\n",
        "      normalize=False, positive=True, precompute=auto, rho=0.8, tol=0.0001,\n",
        "      warm_start=False)"
       ]
      },
      {
       "output_type": "stream",
       "stream": "stdout",
       "text": [
        "\n",
        "Loading params from file: /biac4/wandell/biac2/wandell6/data/arokem/osmosis/FP/0005_01_DWI_2mm150dir_2x_b4000_aligned_trilin_SSD_rho0.8_alpha0.025.nii.gz"
       ]
      },
      {
       "output_type": "stream",
       "stream": "stdout",
       "text": [
        "\n",
        "Predicting signal from SparseDeconvolutionModel with ElasticNet(alpha=0.025, copy_X=True, fit_intercept=False, max_iter=1000,\n",
        "      normalize=False, positive=True, precompute=auto, rho=0.8, tol=0.0001,\n",
        "      warm_start=False)"
       ]
      },
      {
       "output_type": "stream",
       "stream": "stdout",
       "text": [
        "\n",
        "Loading params from file: /biac4/wandell/biac2/wandell6/data/arokem/osmosis/FP/0007_01_DWI_2mm150dir_2x_b4000_aligned_trilin_SSD_rho0.8_alpha0.025.nii.gz"
       ]
      },
      {
       "output_type": "stream",
       "stream": "stdout",
       "text": [
        "\n",
        "Predicting signal from SparseDeconvolutionModel with ElasticNet(alpha=0.05, copy_X=True, fit_intercept=False, max_iter=1000,\n",
        "      normalize=False, positive=True, precompute=auto, rho=0.8, tol=0.0001,\n",
        "      warm_start=False)"
       ]
      },
      {
       "output_type": "stream",
       "stream": "stdout",
       "text": [
        "\n",
        "Loading params from file: /biac4/wandell/biac2/wandell6/data/arokem/osmosis/FP/0005_01_DWI_2mm150dir_2x_b4000_aligned_trilin_SSD_rho0.8_alpha0.05.nii.gz"
       ]
      },
      {
       "output_type": "stream",
       "stream": "stdout",
       "text": [
        "\n",
        "Predicting signal from SparseDeconvolutionModel with ElasticNet(alpha=0.05, copy_X=True, fit_intercept=False, max_iter=1000,\n",
        "      normalize=False, positive=True, precompute=auto, rho=0.8, tol=0.0001,\n",
        "      warm_start=False)"
       ]
      },
      {
       "output_type": "stream",
       "stream": "stdout",
       "text": [
        "\n",
        "Loading params from file: /biac4/wandell/biac2/wandell6/data/arokem/osmosis/FP/0007_01_DWI_2mm150dir_2x_b4000_aligned_trilin_SSD_rho0.8_alpha0.05.nii.gz"
       ]
      },
      {
       "output_type": "stream",
       "stream": "stdout",
       "text": [
        "\n",
        "Predicting signal from SparseDeconvolutionModel with ElasticNet(alpha=0.0001, copy_X=True, fit_intercept=False, max_iter=1000,\n",
        "      normalize=False, positive=True, precompute=auto, rho=1.0, tol=0.0001,\n",
        "      warm_start=False)"
       ]
      },
      {
       "output_type": "stream",
       "stream": "stdout",
       "text": [
        "\n",
        "Loading params from file: /biac4/wandell/biac2/wandell6/data/arokem/osmosis/FP/0005_01_DWI_2mm150dir_2x_b4000_aligned_trilin_SSD_rho1.0_alpha0.0001.nii.gz"
       ]
      },
      {
       "output_type": "stream",
       "stream": "stdout",
       "text": [
        "\n",
        "Predicting signal from SparseDeconvolutionModel with ElasticNet(alpha=0.0001, copy_X=True, fit_intercept=False, max_iter=1000,\n",
        "      normalize=False, positive=True, precompute=auto, rho=1.0, tol=0.0001,\n",
        "      warm_start=False)"
       ]
      },
      {
       "output_type": "stream",
       "stream": "stdout",
       "text": [
        "\n",
        "Loading params from file: /biac4/wandell/biac2/wandell6/data/arokem/osmosis/FP/0007_01_DWI_2mm150dir_2x_b4000_aligned_trilin_SSD_rho1.0_alpha0.0001.nii.gz"
       ]
      },
      {
       "output_type": "stream",
       "stream": "stdout",
       "text": [
        "\n",
        "Predicting signal from SparseDeconvolutionModel with ElasticNet(alpha=0.0005, copy_X=True, fit_intercept=False, max_iter=1000,\n",
        "      normalize=False, positive=True, precompute=auto, rho=1.0, tol=0.0001,\n",
        "      warm_start=False)"
       ]
      },
      {
       "output_type": "stream",
       "stream": "stdout",
       "text": [
        "\n",
        "Loading params from file: /biac4/wandell/biac2/wandell6/data/arokem/osmosis/FP/0005_01_DWI_2mm150dir_2x_b4000_aligned_trilin_SSD_rho1.0_alpha0.0005.nii.gz"
       ]
      },
      {
       "output_type": "stream",
       "stream": "stdout",
       "text": [
        "\n",
        "Predicting signal from SparseDeconvolutionModel with ElasticNet(alpha=0.0005, copy_X=True, fit_intercept=False, max_iter=1000,\n",
        "      normalize=False, positive=True, precompute=auto, rho=1.0, tol=0.0001,\n",
        "      warm_start=False)"
       ]
      },
      {
       "output_type": "stream",
       "stream": "stdout",
       "text": [
        "\n",
        "Loading params from file: /biac4/wandell/biac2/wandell6/data/arokem/osmosis/FP/0007_01_DWI_2mm150dir_2x_b4000_aligned_trilin_SSD_rho1.0_alpha0.0005.nii.gz"
       ]
      },
      {
       "output_type": "stream",
       "stream": "stdout",
       "text": [
        "\n",
        "Predicting signal from SparseDeconvolutionModel with ElasticNet(alpha=0.001, copy_X=True, fit_intercept=False, max_iter=1000,\n",
        "      normalize=False, positive=True, precompute=auto, rho=1.0, tol=0.0001,\n",
        "      warm_start=False)"
       ]
      },
      {
       "output_type": "stream",
       "stream": "stdout",
       "text": [
        "\n",
        "Loading params from file: /biac4/wandell/biac2/wandell6/data/arokem/osmosis/FP/0005_01_DWI_2mm150dir_2x_b4000_aligned_trilin_SSD_rho1.0_alpha0.001.nii.gz"
       ]
      },
      {
       "output_type": "stream",
       "stream": "stdout",
       "text": [
        "\n",
        "Predicting signal from SparseDeconvolutionModel with ElasticNet(alpha=0.001, copy_X=True, fit_intercept=False, max_iter=1000,\n",
        "      normalize=False, positive=True, precompute=auto, rho=1.0, tol=0.0001,\n",
        "      warm_start=False)"
       ]
      },
      {
       "output_type": "stream",
       "stream": "stdout",
       "text": [
        "\n",
        "Loading params from file: /biac4/wandell/biac2/wandell6/data/arokem/osmosis/FP/0007_01_DWI_2mm150dir_2x_b4000_aligned_trilin_SSD_rho1.0_alpha0.001.nii.gz"
       ]
      },
      {
       "output_type": "stream",
       "stream": "stdout",
       "text": [
        "\n",
        "Predicting signal from SparseDeconvolutionModel with ElasticNet(alpha=0.0025, copy_X=True, fit_intercept=False, max_iter=1000,\n",
        "      normalize=False, positive=True, precompute=auto, rho=1.0, tol=0.0001,\n",
        "      warm_start=False)"
       ]
      },
      {
       "output_type": "stream",
       "stream": "stdout",
       "text": [
        "\n",
        "Loading params from file: /biac4/wandell/biac2/wandell6/data/arokem/osmosis/FP/0005_01_DWI_2mm150dir_2x_b4000_aligned_trilin_SSD_rho1.0_alpha0.0025.nii.gz"
       ]
      },
      {
       "output_type": "stream",
       "stream": "stdout",
       "text": [
        "\n",
        "Predicting signal from SparseDeconvolutionModel with ElasticNet(alpha=0.0025, copy_X=True, fit_intercept=False, max_iter=1000,\n",
        "      normalize=False, positive=True, precompute=auto, rho=1.0, tol=0.0001,\n",
        "      warm_start=False)"
       ]
      },
      {
       "output_type": "stream",
       "stream": "stdout",
       "text": [
        "\n",
        "Loading params from file: /biac4/wandell/biac2/wandell6/data/arokem/osmosis/FP/0007_01_DWI_2mm150dir_2x_b4000_aligned_trilin_SSD_rho1.0_alpha0.0025.nii.gz"
       ]
      },
      {
       "output_type": "stream",
       "stream": "stdout",
       "text": [
        "\n",
        "Predicting signal from SparseDeconvolutionModel with ElasticNet(alpha=0.005, copy_X=True, fit_intercept=False, max_iter=1000,\n",
        "      normalize=False, positive=True, precompute=auto, rho=1.0, tol=0.0001,\n",
        "      warm_start=False)"
       ]
      },
      {
       "output_type": "stream",
       "stream": "stdout",
       "text": [
        "\n",
        "Loading params from file: /biac4/wandell/biac2/wandell6/data/arokem/osmosis/FP/0005_01_DWI_2mm150dir_2x_b4000_aligned_trilin_SSD_rho1.0_alpha0.005.nii.gz"
       ]
      },
      {
       "output_type": "stream",
       "stream": "stdout",
       "text": [
        "\n",
        "Predicting signal from SparseDeconvolutionModel with ElasticNet(alpha=0.005, copy_X=True, fit_intercept=False, max_iter=1000,\n",
        "      normalize=False, positive=True, precompute=auto, rho=1.0, tol=0.0001,\n",
        "      warm_start=False)"
       ]
      },
      {
       "output_type": "stream",
       "stream": "stdout",
       "text": [
        "\n",
        "Loading params from file: /biac4/wandell/biac2/wandell6/data/arokem/osmosis/FP/0007_01_DWI_2mm150dir_2x_b4000_aligned_trilin_SSD_rho1.0_alpha0.005.nii.gz"
       ]
      },
      {
       "output_type": "stream",
       "stream": "stdout",
       "text": [
        "\n",
        "Predicting signal from SparseDeconvolutionModel with ElasticNet(alpha=0.0075, copy_X=True, fit_intercept=False, max_iter=1000,\n",
        "      normalize=False, positive=True, precompute=auto, rho=1.0, tol=0.0001,\n",
        "      warm_start=False)"
       ]
      },
      {
       "output_type": "stream",
       "stream": "stdout",
       "text": [
        "\n",
        "Loading params from file: /biac4/wandell/biac2/wandell6/data/arokem/osmosis/FP/0005_01_DWI_2mm150dir_2x_b4000_aligned_trilin_SSD_rho1.0_alpha0.0075.nii.gz"
       ]
      },
      {
       "output_type": "stream",
       "stream": "stdout",
       "text": [
        "\n",
        "Predicting signal from SparseDeconvolutionModel with ElasticNet(alpha=0.0075, copy_X=True, fit_intercept=False, max_iter=1000,\n",
        "      normalize=False, positive=True, precompute=auto, rho=1.0, tol=0.0001,\n",
        "      warm_start=False)"
       ]
      },
      {
       "output_type": "stream",
       "stream": "stdout",
       "text": [
        "\n",
        "Loading params from file: /biac4/wandell/biac2/wandell6/data/arokem/osmosis/FP/0007_01_DWI_2mm150dir_2x_b4000_aligned_trilin_SSD_rho1.0_alpha0.0075.nii.gz"
       ]
      },
      {
       "output_type": "stream",
       "stream": "stdout",
       "text": [
        "\n",
        "Predicting signal from SparseDeconvolutionModel with ElasticNet(alpha=0.01, copy_X=True, fit_intercept=False, max_iter=1000,\n",
        "      normalize=False, positive=True, precompute=auto, rho=1.0, tol=0.0001,\n",
        "      warm_start=False)"
       ]
      },
      {
       "output_type": "stream",
       "stream": "stdout",
       "text": [
        "\n",
        "Loading params from file: /biac4/wandell/biac2/wandell6/data/arokem/osmosis/FP/0005_01_DWI_2mm150dir_2x_b4000_aligned_trilin_SSD_rho1.0_alpha0.01.nii.gz"
       ]
      },
      {
       "output_type": "stream",
       "stream": "stdout",
       "text": [
        "\n",
        "Predicting signal from SparseDeconvolutionModel with ElasticNet(alpha=0.01, copy_X=True, fit_intercept=False, max_iter=1000,\n",
        "      normalize=False, positive=True, precompute=auto, rho=1.0, tol=0.0001,\n",
        "      warm_start=False)"
       ]
      },
      {
       "output_type": "stream",
       "stream": "stdout",
       "text": [
        "\n",
        "Loading params from file: /biac4/wandell/biac2/wandell6/data/arokem/osmosis/FP/0007_01_DWI_2mm150dir_2x_b4000_aligned_trilin_SSD_rho1.0_alpha0.01.nii.gz"
       ]
      },
      {
       "output_type": "stream",
       "stream": "stdout",
       "text": [
        "\n",
        "Predicting signal from SparseDeconvolutionModel with ElasticNet(alpha=0.025, copy_X=True, fit_intercept=False, max_iter=1000,\n",
        "      normalize=False, positive=True, precompute=auto, rho=1.0, tol=0.0001,\n",
        "      warm_start=False)"
       ]
      },
      {
       "output_type": "stream",
       "stream": "stdout",
       "text": [
        "\n",
        "Loading params from file: /biac4/wandell/biac2/wandell6/data/arokem/osmosis/FP/0005_01_DWI_2mm150dir_2x_b4000_aligned_trilin_SSD_rho1.0_alpha0.025.nii.gz"
       ]
      },
      {
       "output_type": "stream",
       "stream": "stdout",
       "text": [
        "\n",
        "Predicting signal from SparseDeconvolutionModel with ElasticNet(alpha=0.025, copy_X=True, fit_intercept=False, max_iter=1000,\n",
        "      normalize=False, positive=True, precompute=auto, rho=1.0, tol=0.0001,\n",
        "      warm_start=False)"
       ]
      },
      {
       "output_type": "stream",
       "stream": "stdout",
       "text": [
        "\n",
        "Loading params from file: /biac4/wandell/biac2/wandell6/data/arokem/osmosis/FP/0007_01_DWI_2mm150dir_2x_b4000_aligned_trilin_SSD_rho1.0_alpha0.025.nii.gz"
       ]
      },
      {
       "output_type": "stream",
       "stream": "stdout",
       "text": [
        "\n",
        "Predicting signal from SparseDeconvolutionModel with ElasticNet(alpha=0.05, copy_X=True, fit_intercept=False, max_iter=1000,\n",
        "      normalize=False, positive=True, precompute=auto, rho=1.0, tol=0.0001,\n",
        "      warm_start=False)"
       ]
      },
      {
       "output_type": "stream",
       "stream": "stdout",
       "text": [
        "\n",
        "Loading params from file: /biac4/wandell/biac2/wandell6/data/arokem/osmosis/FP/0005_01_DWI_2mm150dir_2x_b4000_aligned_trilin_SSD_rho1.0_alpha0.05.nii.gz"
       ]
      },
      {
       "output_type": "stream",
       "stream": "stdout",
       "text": [
        "\n",
        "Predicting signal from SparseDeconvolutionModel with ElasticNet(alpha=0.05, copy_X=True, fit_intercept=False, max_iter=1000,\n",
        "      normalize=False, positive=True, precompute=auto, rho=1.0, tol=0.0001,\n",
        "      warm_start=False)"
       ]
      },
      {
       "output_type": "stream",
       "stream": "stdout",
       "text": [
        "\n",
        "Loading params from file: /biac4/wandell/biac2/wandell6/data/arokem/osmosis/FP/0007_01_DWI_2mm150dir_2x_b4000_aligned_trilin_SSD_rho1.0_alpha0.05.nii.gz"
       ]
      },
      {
       "output_type": "stream",
       "stream": "stdout",
       "text": [
        "\n"
       ]
      },
      {
       "output_type": "stream",
       "stream": "stderr",
       "text": [
        "/home/arokem/usr/lib/python2.7/site-packages/osmosis/model/base.py:336: RuntimeWarning: divide by zero encountered in divide\n",
        "  signal_rel = self.signal/np.reshape(self.S0, (self.S0.shape + (1,)))\n",
        "/home/arokem/usr/lib/python2.7/site-packages/osmosis/model/base.py:336: RuntimeWarning: invalid value encountered in divide\n",
        "  signal_rel = self.signal/np.reshape(self.S0, (self.S0.shape + (1,)))\n"
       ]
      }
     ],
     "prompt_number": 8
    },
    {
     "cell_type": "code",
     "collapsed": false,
     "input": [
      "#for b in [1000, 2000, 4000]:\n",
      "#    fig, ax = plt.subplots(1)\n",
      "#    cax = ax.imshow(rmse_matrix[b], interpolation='nearest', cmap=cm.RdYlGn_r, vmax=1.5, vmin=0.5)\n",
      "#    cbar = fig.colorbar(cax, ticks=[0.5, 1., 1.5])\n",
      "#    cax.axes.set_xticks([0,1,2,3,4,5,6,7,8])\n",
      "#    cax.axes.set_xticklabels([str('%1.4f'%this) for this in alphas])\n",
      "#    cax.axes.set_xlabel(r'$\\lambda$')\n",
      "#    cax.axes.set_yticks([0,1,2,3,4,5])\n",
      "#    cax.axes.set_yticklabels([str('%1.1f'%(1-this)) for this in rhos])\n",
      "\n",
      "#    cax.axes.set_ylabel(r'$\\alpha$')\n",
      "    #ax.matshow(rmse_matrix[b], cmap=matplotlib.cm.hot)\n",
      "#    fig.set_size_inches([8,6])\n",
      "#    fig.savefig('/home/arokem/Dropbox/osmosis_paper_figures/Figure5_acc_b%s.svg'%b)"
     ],
     "language": "python",
     "metadata": {},
     "outputs": [],
     "prompt_number": 8
    },
    {
     "cell_type": "code",
     "collapsed": false,
     "input": [
      "#plot(rmse_matrix[1000][:,0])\n",
      "#plot(rmse_matrix[1000][:,1])\n",
      "#plot(rmse_matrix[1000][:,2])\n",
      "#plot(rmse_matrix[1000][:,-1])\n",
      "\n",
      "#print rmse_matrix[1000][4,0],rmse_matrix[1000][1,0]\n",
      "#print rmse_matrix[2000][4,0],rmse_matrix[2000][1,0]\n",
      "#print rmse_matrix[4000][4,0],rmse_matrix[4000][1,0]\n",
      "\n",
      "#print rmse_matrix[1000][4,1],rmse_matrix[1000][1,1]\n",
      "#print rmse_matrix[2000][4,1],rmse_matrix[2000][1,1]\n",
      "#print rmse_matrix[4000][4,1],rmse_matrix[4000][1,1]\n",
      "\n",
      "print rmse_matrix[1000][0,7],rmse_matrix[1000][2,1]\n",
      "print rmse_matrix[2000][0,7],rmse_matrix[2000][2,1]\n",
      "print rmse_matrix[4000][0,7],rmse_matrix[4000][2,1]\n",
      "\n",
      "\n",
      "print rmse_matrix[1000][5,0],rmse_matrix[1000][2,1]\n",
      "print rmse_matrix[2000][5,0],rmse_matrix[2000][2,1]\n",
      "print rmse_matrix[4000][5,0],rmse_matrix[4000][2,1]\n",
      "\n",
      "\n",
      "print np.where(rmse_matrix[1000]==np.min(rmse_matrix[1000]))\n",
      "#print np.where(rmse_matrix[2000]==np.min(rmse_matrix[2000]))\n",
      "#print np.where(rmse_matrix[4000]==np.min(rmse_matrix[4000]))\n",
      "\n",
      "#print np.min(rmse_matrix[1000])\n",
      "#print np.min(rmse_matrix[2000])\n",
      "#print np.min(rmse_matrix[4000])"
     ],
     "language": "python",
     "metadata": {},
     "outputs": [
      {
       "output_type": "stream",
       "stream": "stdout",
       "text": [
        "0.784939537644 0.771819521315\n",
        "0.772697050964 0.754870726587\n",
        "0.77461450426 0.754117627802\n",
        "0.772524971788 0.771819521315\n",
        "0.756337578269 0.754870726587\n",
        "0.753143956542 0.754117627802\n",
        "(array([2]), array([1]))\n"
       ]
      }
     ],
     "prompt_number": 35
    },
    {
     "cell_type": "code",
     "collapsed": false,
     "input": [
      "for b in [1000, 2000, 4000]:\n",
      "    fig, ax = plt.subplots(1)\n",
      "    cax = ax.imshow(rel_matrix[b], interpolation='nearest', cmap=cm.OrRd, vmax=90, vmin=0)\n",
      "    cbar = fig.colorbar(cax)\n",
      "    cax.axes.set_xticks([0,1,2,3,4,5,6,7,8])\n",
      "    cax.axes.set_xticklabels([str('%1.4f'%this) for this in alphas])\n",
      "    cax.axes.set_xlabel(r'$\\lambda$')\n",
      "    cax.axes.set_yticks([0,1,2,3,4,5])\n",
      "    cax.axes.set_yticklabels([str('%1.1f'%(1-this)) for this in rhos])\n",
      "\n",
      "    cax.axes.set_ylabel(r'$\\alpha$')\n",
      "    #ax.matshow(rmse_matrix[b], cmap=matplotlib.cm.hot)\n",
      "    fig.set_size_inches([8,6])\n",
      "    fig.savefig('/home/arokem/Dropbox/osmosis_paper_figures/Figure5_rel_b%s.svg'%b)"
     ],
     "language": "python",
     "metadata": {},
     "outputs": [
      {
       "output_type": "display_data",
       "png": "[encoded data removed]",
       "text": [
        "<matplotlib.figure.Figure at 0x32dde10>"
       ]
      },
      {
       "output_type": "display_data",
       "png": "[encoded data removed]",
       "text": [
        "<matplotlib.figure.Figure at 0x123e4fd0>"
       ]
      },
      {
       "output_type": "display_data",
       "png": "[encoded data removed]",
       "text": [
        "<matplotlib.figure.Figure at 0xc1ca790>"
       ]
      }
     ],
     "prompt_number": 10
    },
    {
     "cell_type": "code",
     "collapsed": false,
     "input": [
      "print rel_matrix[1000][4,0],rel_matrix[1000][1,2]\n",
      "print rel_matrix[2000][4,0],rel_matrix[2000][1,2]\n",
      "print rel_matrix[4000][4,0],rel_matrix[4000][1,2]"
     ],
     "language": "python",
     "metadata": {},
     "outputs": [
      {
       "output_type": "stream",
       "stream": "stdout",
       "text": [
        "6.76246927881 6.76316306788\n",
        "7.22979233655 7.20946576265\n",
        "10.6674037814 10.6584174863\n"
       ]
      }
     ],
     "prompt_number": 11
    },
    {
     "cell_type": "code",
     "collapsed": false,
     "input": [],
     "language": "python",
     "metadata": {},
     "outputs": [],
     "prompt_number": 10
    }
   ],
   "metadata": {}
  }
 ]
}