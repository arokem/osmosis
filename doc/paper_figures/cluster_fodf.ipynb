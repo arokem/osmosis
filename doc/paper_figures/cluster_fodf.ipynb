{
 "metadata": {
  "name": "cluster_fodf"
 },
 "nbformat": 3,
 "nbformat_minor": 0,
 "worksheets": [
  {
   "cells": [
    {
     "cell_type": "code",
     "collapsed": false,
     "input": [
      "import os\n",
      "import tempfile\n",
      "from IPython.display import Image, display\n",
      "\n",
      "import nibabel as ni\n",
      "\n",
      "import osmosis as oz\n",
      "import osmosis.model.analysis as ozm\n",
      "import osmosis.model.dti as dti\n",
      "import osmosis.model.sparse_deconvolution as ssd\n",
      "\n",
      "\n",
      "import osmosis.viz.maya as maya\n",
      "reload(maya)\n",
      "import osmosis.viz.mpl as mpl\n",
      "\n",
      "import osmosis.utils as ozu\n",
      "import osmosis.volume as ozv\n",
      "import osmosis.io as oio\n",
      "oio.data_path = '/biac4/wandell/biac2/wandell6/data/arokem/osmosis'\n",
      "import osmosis.tensor as ozt"
     ],
     "language": "python",
     "metadata": {},
     "outputs": [],
     "prompt_number": 1
    },
    {
     "cell_type": "code",
     "collapsed": false,
     "input": [
      "subject = 'FP'\n",
      "data_1k_1, data_1k_2 = oio.get_dwi_data(1000, subject)\n",
      "data_2k_1, data_2k_2 = oio.get_dwi_data(2000, subject)\n",
      "data_4k_1, data_4k_2 = oio.get_dwi_data(4000, subject)"
     ],
     "language": "python",
     "metadata": {},
     "outputs": [],
     "prompt_number": 2
    },
    {
     "cell_type": "code",
     "collapsed": false,
     "input": [
      "# A voxel in the optic radiation:\n",
      "vox_idx = (26,22,33)\n",
      "# A voxel in CC: \n",
      "vox_idx = (40, 74, 34)\n",
      "# A voxel in the centrum semioval: \n",
      "\n",
      "mask = np.zeros(ni.load(data_1k_1[0]).shape[:3])\n",
      "mask[vox_idx[0], vox_idx[1], vox_idx[2]]=1"
     ],
     "language": "python",
     "metadata": {},
     "outputs": [],
     "prompt_number": 3
    },
    {
     "cell_type": "code",
     "collapsed": false,
     "input": [
      "# This is the optimal, according to the rRMSE median across b vals:  \n",
      "import sklearn.linear_model as lm\n",
      "alpha = 0.0005\n",
      "rho = 0.8\n",
      "solver = lm.ElasticNet\n",
      "solver_params = dict(alpha=alpha,\n",
      "                     rho=rho,\n",
      "                     fit_intercept=False,\n",
      "                     positive=True)\n",
      "\n",
      "\n",
      "ad_rd = oio.get_ad_rd(subject, 1000)\n",
      "SD_1k_1 = ssd.SparseDeconvolutionModel(*data_1k_1, mask=mask, solver_params=solver_params, params_file='temp', axial_diffusivity=ad_rd[0]['AD'], radial_diffusivity=ad_rd[0]['RD'])\n",
      "SD_1k_2 = ssd.SparseDeconvolutionModel(*data_1k_2, mask=mask, solver_params=solver_params, params_file='temp', axial_diffusivity=ad_rd[1]['AD'], radial_diffusivity=ad_rd[1]['RD'])\n",
      "ad_rd = oio.get_ad_rd(subject, 2000)\n",
      "SD_2k_1 = ssd.SparseDeconvolutionModel(*data_2k_1, mask=mask, solver_params=solver_params, params_file='temp', axial_diffusivity=ad_rd[0]['AD'], radial_diffusivity=ad_rd[0]['RD'])\n",
      "SD_2k_2 = ssd.SparseDeconvolutionModel(*data_2k_2, mask=mask, solver_params=solver_params, params_file='temp', axial_diffusivity=ad_rd[1]['AD'], radial_diffusivity=ad_rd[1]['RD'])\n",
      "ad_rd = oio.get_ad_rd(subject, 4000)\n",
      "SD_4k_1 = ssd.SparseDeconvolutionModel(*data_4k_1, mask=mask, solver_params=solver_params, params_file='temp', axial_diffusivity=ad_rd[0]['AD'], radial_diffusivity=ad_rd[0]['RD'])\n",
      "SD_4k_2 = ssd.SparseDeconvolutionModel(*data_4k_2, mask=mask, solver_params=solver_params, params_file='temp', axial_diffusivity=ad_rd[1]['AD'], radial_diffusivity=ad_rd[1]['RD'])"
     ],
     "language": "python",
     "metadata": {},
     "outputs": [
      {
       "output_type": "stream",
       "stream": "stdout",
       "text": [
        "Loading from file: /biac4/wandell/biac2/wandell6/data/arokem/osmosis/FP/0009_01_DWI_2mm150dir_2x_b1000_aligned_trilin.bvals\n",
        "Loading from file: /biac4/wandell/biac2/wandell6/data/arokem/osmosis/FP/0009_01_DWI_2mm150dir_2x_b1000_aligned_trilin.bvecs\n",
        "Loading from file: /biac4/wandell/biac2/wandell6/data/arokem/osmosis/FP/0011_01_DWI_2mm150dir_2x_b1000_aligned_trilin.bvals"
       ]
      },
      {
       "output_type": "stream",
       "stream": "stdout",
       "text": [
        "\n",
        "Loading from file: /biac4/wandell/biac2/wandell6/data/arokem/osmosis/FP/0011_01_DWI_2mm150dir_2x_b1000_aligned_trilin.bvecs\n",
        "Loading from file: /biac4/wandell/biac2/wandell6/data/arokem/osmosis/FP/0005_01_DTI_2mm_150dir_2x_b2000_aligned_trilin.bvals\n",
        "Loading from file: /biac4/wandell/biac2/wandell6/data/arokem/osmosis/FP/0005_01_DTI_2mm_150dir_2x_b2000_aligned_trilin.bvecs\n",
        "Loading from file: /biac4/wandell/biac2/wandell6/data/arokem/osmosis/FP/0007_01_DTI_2mm_150dir_2x_b2000_aligned_trilin.bvals"
       ]
      },
      {
       "output_type": "stream",
       "stream": "stdout",
       "text": [
        "\n",
        "Loading from file: /biac4/wandell/biac2/wandell6/data/arokem/osmosis/FP/0007_01_DTI_2mm_150dir_2x_b2000_aligned_trilin.bvecs\n",
        "Loading from file: /biac4/wandell/biac2/wandell6/data/arokem/osmosis/FP/0005_01_DWI_2mm150dir_2x_b4000_aligned_trilin.bvals\n",
        "Loading from file: /biac4/wandell/biac2/wandell6/data/arokem/osmosis/FP/0005_01_DWI_2mm150dir_2x_b4000_aligned_trilin.bvecs\n",
        "Loading from file: /biac4/wandell/biac2/wandell6/data/arokem/osmosis/FP/0007_01_DWI_2mm150dir_2x_b4000_aligned_trilin.bvals"
       ]
      },
      {
       "output_type": "stream",
       "stream": "stdout",
       "text": [
        "\n",
        "Loading from file: /biac4/wandell/biac2/wandell6/data/arokem/osmosis/FP/0007_01_DWI_2mm150dir_2x_b4000_aligned_trilin.bvecs\n"
       ]
      }
     ],
     "prompt_number": 12
    },
    {
     "cell_type": "code",
     "collapsed": false,
     "input": [
      "fodf_1k = SD_1k_1.model_params[vox_idx]\n",
      "fodf_2k = SD_2k_1.model_params[vox_idx]\n",
      "fodf_4k = SD_4k_1.model_params[vox_idx]"
     ],
     "language": "python",
     "metadata": {},
     "outputs": [
      {
       "output_type": "stream",
       "stream": "stdout",
       "text": [
        "\r",
        "SparseDeconvolutionModel.model_params [                  0%                  ]"
       ]
      },
      {
       "output_type": "stream",
       "stream": "stdout",
       "text": [
        "\n"
       ]
      }
     ],
     "prompt_number": 13
    },
    {
     "cell_type": "code",
     "collapsed": false,
     "input": [
      "cluster1k = SD_1k_1.cluster_fodf[vox_idx]\n",
      "cluster2k = SD_2k_1.cluster_fodf[vox_idx]\n",
      "cluster4k = SD_4k_1.cluster_fodf[vox_idx]"
     ],
     "language": "python",
     "metadata": {},
     "outputs": [],
     "prompt_number": 14
    },
    {
     "cell_type": "code",
     "collapsed": false,
     "input": [
      "print SD_1k_1.n_peaks[vox_idx], cluster1k\n",
      "print SD_2k_1.n_peaks[vox_idx], cluster2k\n",
      "print SD_4k_1.n_peaks[vox_idx], cluster4k"
     ],
     "language": "python",
     "metadata": {},
     "outputs": [
      {
       "output_type": "stream",
       "stream": "stdout",
       "text": [
        "3 [[ 0.69014938  0.15184324 -0.07289971]\n",
        " [-0.57042873  0.09722619  0.10932737]]\n",
        "6"
       ]
      },
      {
       "output_type": "stream",
       "stream": "stdout",
       "text": [
        " [[-1.40768127  0.57403082  0.0609734 ]\n",
        " [-0.06507766  0.37021097 -0.10810294]]\n",
        "6"
       ]
      },
      {
       "output_type": "stream",
       "stream": "stdout",
       "text": [
        " [[ 0.67656954  0.03606749  0.12710237]\n",
        " [-0.6858722   0.12976541  0.00222605]\n",
        " [ 0.05048721  0.69193558  0.28864171]]\n"
       ]
      }
     ],
     "prompt_number": 15
    },
    {
     "cell_type": "code",
     "collapsed": false,
     "input": [
      "%gui wx\n",
      "fig = maya.plot_odf_interp(SD_1k_1.bvecs[:,SD_1k_1.b_idx], fodf_1k, cmap='hot')\n",
      "maya.plot_vectors(cluster1k, origin=[0, 0, -0.1], figure=fig)\n",
      "\n",
      "maya.plot_odf_interp(SD_2k_1.bvecs[:,SD_2k_1.b_idx], fodf_2k, cmap='hot', offset=-0.5, figure=fig)\n",
      "maya.plot_vectors(cluster2k, origin=[0, 0, -0.6], figure=fig)\n",
      "\n",
      "maya.plot_odf_interp(SD_4k_1.bvecs[:,SD_1k_1.b_idx], SD_4k_1.model_params[vox_idx], colorbar=True, cmap='hot', offset=-1, figure=fig)\n",
      "maya.plot_vectors(cluster4k, figure=fig, origin=[0, 0,  -1.1])\n"
     ],
     "language": "python",
     "metadata": {},
     "outputs": [
      {
       "output_type": "pyout",
       "prompt_number": 16,
       "text": [
        "<mayavi.core.scene.Scene at 0x9312950>"
       ]
      }
     ],
     "prompt_number": 16
    }
   ],
   "metadata": {}
  }
 ]
}