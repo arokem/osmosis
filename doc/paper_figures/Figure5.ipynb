{
 "metadata": {
  "name": "Figure5"
 },
 "nbformat": 3,
 "nbformat_minor": 0,
 "worksheets": [
  {
   "cells": [
    {
     "cell_type": "code",
     "collapsed": false,
     "input": [
      "import nibabel as ni\n",
      "\n",
      "import osmosis as oz\n",
      "import osmosis.model.analysis as oza\n",
      "import osmosis.model.sparse_deconvolution as ssd\n",
      "import osmosis.viz.mpl as mpl\n",
      "\n",
      "import osmosis.io as oio"
     ],
     "language": "python",
     "metadata": {},
     "outputs": [
      {
       "output_type": "stream",
       "stream": "stderr",
       "text": [
        "/usr/lib/python2.7/dist-packages/nose/util.py:14: DeprecationWarning: The compiler package is deprecated and removed in Python 3.x.\n",
        "  from compiler.consts import CO_GENERATOR\n"
       ]
      }
     ],
     "prompt_number": 1
    },
    {
     "cell_type": "code",
     "collapsed": false,
     "input": [
      "data_1k_1, data_1k_2 = oio.get_dwi_data(1000)\n",
      "data_2k_1, data_2k_2 = oio.get_dwi_data(2000)\n",
      "data_4k_1, data_4k_2 = oio.get_dwi_data(4000)\n",
      "data = {1000:[data_1k_1, data_1k_2], 2000:[data_2k_1, data_2k_2], 4000:[data_4k_1, data_4k_2]}"
     ],
     "language": "python",
     "metadata": {},
     "outputs": [],
     "prompt_number": 2
    },
    {
     "cell_type": "code",
     "collapsed": false,
     "input": [
      "wm_mask = np.zeros(ni.load(data_1k_1[0]).shape[:3])\n",
      "wm_nifti = ni.load(oio.data_path + 'FP_WM_2iso_2k_MD_outliers_excluded.nii.gz').get_data()\n",
      "wm_mask[np.where(wm_nifti==1)] = 1"
     ],
     "language": "python",
     "metadata": {},
     "outputs": [],
     "prompt_number": 3
    },
    {
     "cell_type": "code",
     "collapsed": false,
     "input": [
      "alphas = [0.0001, 0.0005, 0.001, 0.0025, 0.005, 0.0075, 0.01, 0.025, 0.05]\n",
      "rhos = [0.0, 0.2, 0.4, 0.6, 0.8, 1.0]"
     ],
     "language": "python",
     "metadata": {},
     "outputs": [],
     "prompt_number": 4
    },
    {
     "cell_type": "code",
     "collapsed": false,
     "input": [
      "for b in [1000, 2000, 4000]:\n",
      "    rmse_matrix = np.zeros((len(rhos), len(alphas)))\n",
      "    fig, ax = plt.subplots(1)\n",
      "    for rho_idx, this_rho in enumerate(rhos):\n",
      "        for alpha_idx, this_alpha in enumerate(alphas):\n",
      "\n",
      "            solver_params = dict(alpha=this_alpha,\n",
      "                                 rho=this_rho,\n",
      "                                 fit_intercept=False,\n",
      "                                 positive=True)\n",
      "\n",
      "            ad_rd = oio.get_ad_rd(b)\n",
      "            SD_1 = ssd.SparseDeconvolutionModel(*data[b][0], mask=wm_mask, params_file='temp', axial_diffusivity=ad_rd[0]['AD'], radial_diffusivity=ad_rd[0]['RD'])\n",
      "            SD_2 = ssd.SparseDeconvolutionModel(*data[b][1], mask=wm_mask, params_file='temp', axial_diffusivity=ad_rd[1]['AD'], radial_diffusivity=ad_rd[1]['RD'])\n",
      "            rrmse = oza.relative_rmse(SD_1, SD_2)\n",
      "            median_rmse = np.median(rrmse[np.isfinite(rrmse)])\n",
      "            rmse_matrix[rho_idx, alpha_idx] = median_rmse\n",
      "    \n",
      "    ax.matshow(rmse_matrix)"
     ],
     "language": "python",
     "metadata": {},
     "outputs": [
      {
       "output_type": "stream",
       "stream": "stdout",
       "text": [
        " \r",
        "SparseDeconvolutionModel.model_params [                  1%                  ]  414 of 63801 complete "
       ]
      }
     ],
     "prompt_number": "*"
    },
    {
     "cell_type": "code",
     "collapsed": false,
     "input": [],
     "language": "python",
     "metadata": {},
     "outputs": [],
     "prompt_number": "*"
    },
    {
     "cell_type": "code",
     "collapsed": false,
     "input": [],
     "language": "python",
     "metadata": {},
     "outputs": []
    }
   ],
   "metadata": {}
  }
 ]
}