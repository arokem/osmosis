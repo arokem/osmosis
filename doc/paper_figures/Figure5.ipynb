{
 "metadata": {
  "name": ""
 },
 "nbformat": 3,
 "nbformat_minor": 0,
 "worksheets": [
  {
   "cells": [
    {
     "cell_type": "markdown",
     "metadata": {},
     "source": [
      "# Figure 5 Comparing the DTM and the SFM\n",
      "\n",
      "In this notebook, we compare the accuracy of the DTM and the SFM to each other directly in each b value. \n",
      "\n",
      "First, we import some modules: "
     ]
    },
    {
     "cell_type": "code",
     "collapsed": false,
     "input": [
      "import scipy.stats as stats\n",
      "\n",
      "import nibabel as ni\n",
      "\n",
      "import osmosis.viz.mpl as viz\n",
      "import osmosis.utils as ozu\n",
      "import osmosis.model.sparse_deconvolution as ssd\n",
      "import osmosis.model.dti as dti\n",
      "import osmosis.model.analysis as oza"
     ],
     "language": "python",
     "metadata": {},
     "outputs": [],
     "prompt_number": 20
    },
    {
     "cell_type": "markdown",
     "metadata": {},
     "source": [
      "We set the data-path to point to the installation-specific location where data might be found:"
     ]
    },
    {
     "cell_type": "code",
     "collapsed": false,
     "input": [
      "import os\n",
      "import osmosis as oz\n",
      "import osmosis.io as oio\n",
      "oio.data_path = os.path.join(oz.__path__[0], 'data')"
     ],
     "language": "python",
     "metadata": {},
     "outputs": [],
     "prompt_number": 21
    },
    {
     "cell_type": "markdown",
     "metadata": {},
     "source": [
      "Point to the data-files of this subject:"
     ]
    },
    {
     "cell_type": "code",
     "collapsed": false,
     "input": [
      "subject = 'SUB1'\n",
      "data_1k_1, data_1k_2 = oio.get_dwi_data(1000, subject)\n",
      "data_2k_1, data_2k_2 = oio.get_dwi_data(2000, subject)\n",
      "data_4k_1, data_4k_2 = oio.get_dwi_data(4000, subject)"
     ],
     "language": "python",
     "metadata": {},
     "outputs": [],
     "prompt_number": 22
    },
    {
     "cell_type": "markdown",
     "metadata": {},
     "source": [
      "Get the white-matter mask: "
     ]
    },
    {
     "cell_type": "code",
     "collapsed": false,
     "input": [
      "mask = np.zeros(ni.load(data_1k_1[0]).shape[:3])\n",
      "wm_nifti = ni.load(oio.data_path + '/%s/%s_wm_mask.nii.gz'%(subject, subject)).get_data()\n",
      "mask[np.where(wm_nifti==1)] = 1"
     ],
     "language": "python",
     "metadata": {},
     "outputs": [],
     "prompt_number": 23
    },
    {
     "cell_type": "markdown",
     "metadata": {},
     "source": [
      "We set the solver parameters for Elastic Net according to the calculations in the AppendixA notebook:"
     ]
    },
    {
     "cell_type": "code",
     "collapsed": false,
     "input": [
      "# This is the best according to rRMSE across bvals: \n",
      "l1_ratio = 0.8\n",
      "alpha = 0.0005 \n",
      "solver_params = dict(l1_ratio=l1_ratio, alpha=alpha, fit_intercept=False, positive=True)"
     ],
     "language": "python",
     "metadata": {},
     "outputs": [],
     "prompt_number": 24
    },
    {
     "cell_type": "markdown",
     "metadata": {},
     "source": [
      "Initialize the class instances of the SFM objects. Use AD/RD derived from the corpus callosum ROI distribution for each b value. Parameters are not saved, or read from a file (hence `params_file=temp`)."
     ]
    },
    {
     "cell_type": "code",
     "collapsed": false,
     "input": [
      "ad_rd = oio.get_ad_rd(subject, 1000)\n",
      "SD_1k_1 = ssd.SparseDeconvolutionModel(*data_1k_1, mask=mask, solver_params=solver_params, params_file = 'temp', axial_diffusivity=ad_rd[0]['AD'], radial_diffusivity=ad_rd[0]['RD'])\n",
      "SD_1k_2 = ssd.SparseDeconvolutionModel(*data_1k_2, mask=mask, solver_params=solver_params, params_file = 'temp', axial_diffusivity=ad_rd[1]['AD'], radial_diffusivity=ad_rd[1]['RD'])\n",
      "ad_rd = oio.get_ad_rd(subject, 2000)\n",
      "SD_2k_1 = ssd.SparseDeconvolutionModel(*data_2k_1, mask=mask, solver_params=solver_params, params_file = 'temp', axial_diffusivity=ad_rd[0]['AD'], radial_diffusivity=ad_rd[0]['RD'])\n",
      "SD_2k_2 = ssd.SparseDeconvolutionModel(*data_2k_2, mask=mask, solver_params=solver_params, params_file = 'temp', axial_diffusivity=ad_rd[1]['AD'], radial_diffusivity=ad_rd[1]['RD'])\n",
      "ad_rd = oio.get_ad_rd(subject, 4000)\n",
      "SD_4k_1 = ssd.SparseDeconvolutionModel(*data_4k_1, mask=mask, solver_params=solver_params, params_file = 'temp', axial_diffusivity=ad_rd[0]['AD'], radial_diffusivity=ad_rd[0]['RD'])\n",
      "SD_4k_2 = ssd.SparseDeconvolutionModel(*data_4k_2, mask=mask, solver_params=solver_params, params_file = 'temp', axial_diffusivity=ad_rd[1]['AD'], radial_diffusivity=ad_rd[1]['RD'])"
     ],
     "language": "python",
     "metadata": {},
     "outputs": [
      {
       "output_type": "stream",
       "stream": "stdout",
       "text": [
        "Loading from file: /home/arokem/usr/lib/python2.7/site-packages/osmosis/data/FP/0009_01_DWI_2mm150dir_2x_b1000_aligned_trilin.bvals\n",
        "Loading from file: /home/arokem/usr/lib/python2.7/site-packages/osmosis/data/FP/0009_01_DWI_2mm150dir_2x_b1000_aligned_trilin.bvecs\n",
        "Loading from file: /home/arokem/usr/lib/python2.7/site-packages/osmosis/data/FP/0011_01_DWI_2mm150dir_2x_b1000_aligned_trilin.bvals"
       ]
      },
      {
       "output_type": "stream",
       "stream": "stdout",
       "text": [
        "\n",
        "Loading from file: /home/arokem/usr/lib/python2.7/site-packages/osmosis/data/FP/0011_01_DWI_2mm150dir_2x_b1000_aligned_trilin.bvecs"
       ]
      },
      {
       "output_type": "stream",
       "stream": "stdout",
       "text": [
        "\n",
        "Loading from file: /home/arokem/usr/lib/python2.7/site-packages/osmosis/data/FP/0005_01_DTI_2mm_150dir_2x_b2000_aligned_trilin.bvals"
       ]
      },
      {
       "output_type": "stream",
       "stream": "stdout",
       "text": [
        "\n",
        "Loading from file: /home/arokem/usr/lib/python2.7/site-packages/osmosis/data/FP/0005_01_DTI_2mm_150dir_2x_b2000_aligned_trilin.bvecs\n",
        "Loading from file: /home/arokem/usr/lib/python2.7/site-packages/osmosis/data/FP/0007_01_DTI_2mm_150dir_2x_b2000_aligned_trilin.bvals"
       ]
      },
      {
       "output_type": "stream",
       "stream": "stdout",
       "text": [
        "\n",
        "Loading from file: /home/arokem/usr/lib/python2.7/site-packages/osmosis/data/FP/0007_01_DTI_2mm_150dir_2x_b2000_aligned_trilin.bvecs\n",
        "Loading from file: /home/arokem/usr/lib/python2.7/site-packages/osmosis/data/FP/0005_01_DWI_2mm150dir_2x_b4000_aligned_trilin.bvals"
       ]
      },
      {
       "output_type": "stream",
       "stream": "stdout",
       "text": [
        "\n",
        "Loading from file: /home/arokem/usr/lib/python2.7/site-packages/osmosis/data/FP/0005_01_DWI_2mm150dir_2x_b4000_aligned_trilin.bvecs\n",
        "Loading from file: /home/arokem/usr/lib/python2.7/site-packages/osmosis/data/FP/0007_01_DWI_2mm150dir_2x_b4000_aligned_trilin.bvals"
       ]
      },
      {
       "output_type": "stream",
       "stream": "stdout",
       "text": [
        "\n",
        "Loading from file: /home/arokem/usr/lib/python2.7/site-packages/osmosis/data/FP/0007_01_DWI_2mm150dir_2x_b4000_aligned_trilin.bvecs\n"
       ]
      }
     ],
     "prompt_number": 25
    },
    {
     "cell_type": "markdown",
     "metadata": {},
     "source": [
      "Likewise, initialize the DTM objects with the same data"
     ]
    },
    {
     "cell_type": "code",
     "collapsed": false,
     "input": [
      "TM_1k_1 = dti.TensorModel(*data_1k_1, mask=mask, params_file='temp')\n",
      "TM_1k_2 = dti.TensorModel(*data_1k_2, mask=mask, params_file='temp')\n",
      "TM_2k_1 = dti.TensorModel(*data_2k_1, mask=mask, params_file='temp')\n",
      "TM_2k_2 = dti.TensorModel(*data_2k_2, mask=mask, params_file='temp')\n",
      "TM_4k_1 = dti.TensorModel(*data_4k_1, mask=mask, params_file='temp')\n",
      "TM_4k_2 = dti.TensorModel(*data_4k_2, mask=mask, params_file='temp')"
     ],
     "language": "python",
     "metadata": {},
     "outputs": [
      {
       "output_type": "stream",
       "stream": "stdout",
       "text": [
        "Loading from file: /home/arokem/usr/lib/python2.7/site-packages/osmosis/data/FP/0009_01_DWI_2mm150dir_2x_b1000_aligned_trilin.bvals\n",
        "Loading from file: /home/arokem/usr/lib/python2.7/site-packages/osmosis/data/FP/0009_01_DWI_2mm150dir_2x_b1000_aligned_trilin.bvecs\n",
        "Loading from file: /home/arokem/usr/lib/python2.7/site-packages/osmosis/data/FP/0011_01_DWI_2mm150dir_2x_b1000_aligned_trilin.bvals\n",
        "Loading from file: /home/arokem/usr/lib/python2.7/site-packages/osmosis/data/FP/0011_01_DWI_2mm150dir_2x_b1000_aligned_trilin.bvecs"
       ]
      },
      {
       "output_type": "stream",
       "stream": "stdout",
       "text": [
        "\n",
        "Loading from file: /home/arokem/usr/lib/python2.7/site-packages/osmosis/data/FP/0005_01_DTI_2mm_150dir_2x_b2000_aligned_trilin.bvals\n",
        "Loading from file: /home/arokem/usr/lib/python2.7/site-packages/osmosis/data/FP/0005_01_DTI_2mm_150dir_2x_b2000_aligned_trilin.bvecs"
       ]
      },
      {
       "output_type": "stream",
       "stream": "stdout",
       "text": [
        "\n",
        "Loading from file: /home/arokem/usr/lib/python2.7/site-packages/osmosis/data/FP/0007_01_DTI_2mm_150dir_2x_b2000_aligned_trilin.bvals\n",
        "Loading from file: /home/arokem/usr/lib/python2.7/site-packages/osmosis/data/FP/0007_01_DTI_2mm_150dir_2x_b2000_aligned_trilin.bvecs"
       ]
      },
      {
       "output_type": "stream",
       "stream": "stdout",
       "text": [
        "\n",
        "Loading from file: /home/arokem/usr/lib/python2.7/site-packages/osmosis/data/FP/0005_01_DWI_2mm150dir_2x_b4000_aligned_trilin.bvals\n",
        "Loading from file: /home/arokem/usr/lib/python2.7/site-packages/osmosis/data/FP/0005_01_DWI_2mm150dir_2x_b4000_aligned_trilin.bvecs\n",
        "Loading from file: /home/arokem/usr/lib/python2.7/site-packages/osmosis/data/FP/0007_01_DWI_2mm150dir_2x_b4000_aligned_trilin.bvals"
       ]
      },
      {
       "output_type": "stream",
       "stream": "stdout",
       "text": [
        "\n",
        "Loading from file: /home/arokem/usr/lib/python2.7/site-packages/osmosis/data/FP/0007_01_DWI_2mm150dir_2x_b4000_aligned_trilin.bvecs\n"
       ]
      }
     ],
     "prompt_number": "*"
    },
    {
     "cell_type": "markdown",
     "metadata": {},
     "source": [
      "Calculate the rRMSE for each b value and each model, based on cross-prediction: a model is fit to one data-set and used to predict the other data-set from the same b value. The rRMSE is the average of the two folds of this process (1=>2 and 2=>1)."
     ]
    },
    {
     "cell_type": "code",
     "collapsed": false,
     "input": [
      "dtm_rrmse_1k = oza.cross_predict(TM_1k_1, TM_1k_2) \n",
      "dtm_rrmse_2k = oza.cross_predict(TM_2k_1, TM_2k_2)\n",
      "dtm_rrmse_4k = oza.cross_predict(TM_4k_1, TM_4k_2)\n",
      "\n",
      "sfm_rrmse_1k = oza.cross_predict(SD_1k_1, SD_1k_2) \n",
      "sfm_rrmse_2k = oza.cross_predict(SD_2k_1, SD_2k_2)\n",
      "sfm_rrmse_4k = oza.cross_predict(SD_4k_1, SD_4k_2)\n"
     ],
     "language": "python",
     "metadata": {},
     "outputs": [
      {
       "output_type": "stream",
       "stream": "stdout",
       "text": [
        " \r",
        "SparseDeconvolutionModel.model_params [****************100%******************]  64463 of 64464 complete "
       ]
      },
      {
       "output_type": "stream",
       "stream": "stdout",
       "text": [
        "\n"
       ]
      }
     ],
     "prompt_number": "*"
    },
    {
     "cell_type": "markdown",
     "metadata": {},
     "source": [
      "In each b value, we will plot a 2D, or image histogram of all voxels and their rRMSE values in the two models:"
     ]
    },
    {
     "cell_type": "code",
     "collapsed": false,
     "input": [
      "idx = np.logical_and(np.logical_and(np.isfinite(dtm_rrmse_1k), dtm_rrmse_1k<1.5), np.isfinite(sfm_rrmse_1k))\n",
      "fig, cbar = viz.scatter_density(np.hstack([0.5, dtm_rrmse_1k[idx], 1.5]), np.hstack([0.5, sfm_rrmse_1k[idx], 1.5]), \n",
      "                                          return_cbar=True, vmin=0, vmax=3, cmap=matplotlib.cm.gray_r)\n",
      "fig.axes[0].plot([0,100],[100,0], 'k--')\n",
      "fig.axes[0].plot([100,0],[50,50], 'k--')\n",
      "fig.axes[0].plot([50,50],[100,0], 'k--')\n",
      "\n",
      "cbar.set_ticks([0,1,2,3])\n",
      "cbar.set_ticklabels([1,10,100,1000])\n",
      "\n",
      "fig.set_size_inches([10,10])\n",
      "fig.savefig('figures/scatter_rrmse_1k.svg')\n",
      "fig_hist = viz.probability_hist(dtm_rrmse_1k[idx] - sfm_rrmse_1k[idx])\n",
      "fig_hist.set_size_inches([8,6])"
     ],
     "language": "python",
     "metadata": {},
     "outputs": [
      {
       "metadata": {},
       "output_type": "display_data",
       "png": "[encoded data removed]",
       "text": [
        "<matplotlib.figure.Figure at 0x4a3a1750>"
       ]
      },
      {
       "metadata": {},
       "output_type": "display_data",
       "png": "[encoded data removed]",
       "text": [
        "<matplotlib.figure.Figure at 0x2b533c90>"
       ]
      }
     ],
     "prompt_number": "*"
    },
    {
     "cell_type": "code",
     "collapsed": false,
     "input": [
      "idx = np.logical_and(np.logical_and(np.isfinite(dtm_rrmse_2k), dtm_rrmse_2k<1.5), np.isfinite(sfm_rrmse_2k))\n",
      "fig, cbar = viz.scatter_density(np.hstack([0.5, dtm_rrmse_2k[idx], 1.5]), np.hstack([0.5, sfm_rrmse_2k[idx], 1.5]), \n",
      "                                return_cbar=True, vmin=0, vmax=3, cmap=matplotlib.cm.gray_r)\n",
      "fig.axes[0].plot([0,100],[100,0], 'k--')\n",
      "fig.axes[0].plot([100,0],[50,50], 'k--')\n",
      "fig.axes[0].plot([50,50],[100,0], 'k--')\n",
      "cbar.set_ticks([0,1,2,3])\n",
      "cbar.set_ticklabels([1,10,100,1000])\n",
      "\n",
      "fig.set_size_inches([10,10])\n",
      "fig.savefig('figures/scatter_rrmse_2k.svg')"
     ],
     "language": "python",
     "metadata": {},
     "outputs": [
      {
       "metadata": {},
       "output_type": "display_data",
       "png": "[encoded data removed]",
       "text": [
        "<matplotlib.figure.Figure at 0x4a36e890>"
       ]
      }
     ],
     "prompt_number": "*"
    },
    {
     "cell_type": "code",
     "collapsed": false,
     "input": [
      "idx = np.logical_and(np.logical_and(np.isfinite(dtm_rrmse_4k), dtm_rrmse_4k<1.5), np.isfinite(sfm_rrmse_4k))\n",
      "fig, cbar = viz.scatter_density(np.hstack([0.5, dtm_rrmse_4k[idx], 1.5]), np.hstack([0.5, sfm_rrmse_4k[idx], 1.5]), \n",
      "                                return_cbar=True, vmin=0, vmax=3, cmap=matplotlib.cm.gray_r)\n",
      "fig.axes[0].plot([0,100],[100,0], 'k--')\n",
      "fig.axes[0].plot([100,0],[50,50], 'k--')\n",
      "fig.axes[0].plot([50,50],[100,0], 'k--')\n",
      "cbar.set_ticks([0,1,2,3])\n",
      "cbar.set_ticklabels([1,10,100,1000])\n",
      "\n",
      "fig.set_size_inches([10,10])\n",
      "fig.savefig('figures/scatter_rrmse_4k.svg')"
     ],
     "language": "python",
     "metadata": {},
     "outputs": [
      {
       "metadata": {},
       "output_type": "display_data",
       "png": "[encoded data removed]",
       "text": [
        "<matplotlib.figure.Figure at 0x2b028b10>"
       ]
      }
     ],
     "prompt_number": "*"
    },
    {
     "cell_type": "markdown",
     "metadata": {},
     "source": [
      "We define a function used for permutation testing of the statistical significance of the differences between the two models. "
     ]
    },
    {
     "cell_type": "code",
     "collapsed": false,
     "input": [
      "def permutation_test_rel(arr1, arr2, n_perms=1000):\n",
      "    \"\"\"\n",
      "    Test the difference between two nd arrays\n",
      "\n",
      "    \"\"\"\n",
      "    # Linearize and get the finite elements: \n",
      "    arr1 = arr1[np.isfinite(arr1)]\n",
      "    arr2 = arr2[np.isfinite(arr2)]  # We assume that the indices are good for both\n",
      "    orig_arr = np.vstack([arr1, arr2])\n",
      "    orig_diff = np.median(arr1 - arr2)\n",
      "    perm_diff = np.empty(1000)\n",
      "    for ii in xrange(n_perms):\n",
      "        idx1 = np.random.randint(0, 2, orig_arr.shape[-1])\n",
      "        idx2 = np.mod(idx1+1, 2)\n",
      "        perm_arr1 = orig_arr[idx1, np.arange(idx1.shape[0])] \n",
      "        perm_arr2 = orig_arr[idx2, np.arange(idx2.shape[0])]\n",
      "        perm_diff[ii] = np.median(perm_arr1 - perm_arr2)\n",
      "        \n",
      "    return orig_diff, perm_diff"
     ],
     "language": "python",
     "metadata": {},
     "outputs": [],
     "prompt_number": "*"
    },
    {
     "cell_type": "markdown",
     "metadata": {},
     "source": [
      "The test is applied to each b value between DTM and SFM:"
     ]
    },
    {
     "cell_type": "code",
     "collapsed": false,
     "input": [
      "orig_diff1k, medians1k = permutation_test_rel(dtm_rrmse_1k, sfm_rrmse_1k)\n",
      "orig_diff2k, medians2k = permutation_test_rel(dtm_rrmse_2k, sfm_rrmse_2k)\n",
      "orig_diff4k, medians4k = permutation_test_rel(dtm_rrmse_4k, sfm_rrmse_4k)"
     ],
     "language": "python",
     "metadata": {},
     "outputs": [],
     "prompt_number": "*"
    },
    {
     "cell_type": "markdown",
     "metadata": {},
     "source": [
      "We also derive from the permutations a boot-strap confidence interval on the difference of the medians:"
     ]
    },
    {
     "cell_type": "code",
     "collapsed": false,
     "input": [
      "ci_1k = stats.scoreatpercentile(medians1k, 97.5) - stats.scoreatpercentile(medians1k, 2.5) \n",
      "ci_2k = stats.scoreatpercentile(medians2k, 97.5) - stats.scoreatpercentile(medians2k, 2.5) \n",
      "ci_4k = stats.scoreatpercentile(medians4k, 97.5) - stats.scoreatpercentile(medians4k, 2.5) "
     ],
     "language": "python",
     "metadata": {},
     "outputs": [],
     "prompt_number": "*"
    },
    {
     "cell_type": "markdown",
     "metadata": {},
     "source": [
      "The following function finds the boot-strap distribution of the individual medians"
     ]
    },
    {
     "cell_type": "code",
     "collapsed": false,
     "input": [
      "def boots_strap_medians(arr, n_iters=1000): \n",
      "    \"\"\" \n",
      "    Produce a boot-strap distribution of the median of an array\n",
      "    \"\"\" \n",
      "    # Linearize and exclude nan/infs:\n",
      "    arr = arr[np.isfinite(arr)]\n",
      "    medians = np.empty(n_iters)\n",
      "    for ii in xrange(n_iters): \n",
      "        this_arr = arr[np.random.random_integers(0, arr.shape[0]-1, arr.shape[0])]\n",
      "        medians[ii] = np.median(this_arr)\n",
      "    \n",
      "    return medians"
     ],
     "language": "python",
     "metadata": {},
     "outputs": [],
     "prompt_number": "*"
    },
    {
     "cell_type": "markdown",
     "metadata": {},
     "source": [
      "Compute the boot-strap confidence intervals of the median rRMSE in each model/b-value"
     ]
    },
    {
     "cell_type": "code",
     "collapsed": false,
     "input": [
      "medians_dtm_1k = boots_strap_medians(dtm_rrmse_1k)\n",
      "medians_dtm_2k = boots_strap_medians(dtm_rrmse_2k)\n",
      "medians_dtm_4k = boots_strap_medians(dtm_rrmse_4k)\n",
      "\n",
      "medians_sfm_1k = boots_strap_medians(sfm_rrmse_1k)\n",
      "medians_sfm_2k = boots_strap_medians(sfm_rrmse_2k)\n",
      "medians_sfm_4k = boots_strap_medians(sfm_rrmse_4k)"
     ],
     "language": "python",
     "metadata": {},
     "outputs": [],
     "prompt_number": "*"
    },
    {
     "cell_type": "code",
     "collapsed": false,
     "input": [
      "dtm_ci_1k = (stats.scoreatpercentile(medians_dtm_1k, 97.5) - stats.scoreatpercentile(medians_dtm_1k, 2.5))\n",
      "sfm_ci_1k = (stats.scoreatpercentile(medians_sfm_1k, 97.5) - stats.scoreatpercentile(medians_sfm_1k, 2.5))\n",
      "\n",
      "dtm_ci_2k = (stats.scoreatpercentile(medians_dtm_2k, 97.5) - stats.scoreatpercentile(medians_dtm_2k, 2.5))\n",
      "sfm_ci_2k = (stats.scoreatpercentile(medians_sfm_2k, 97.5) - stats.scoreatpercentile(medians_sfm_2k, 2.5))\n",
      "\n",
      "dtm_ci_4k = (stats.scoreatpercentile(medians_dtm_4k, 97.5) - stats.scoreatpercentile(medians_dtm_4k, 2.5))\n",
      "sfm_ci_4k = (stats.scoreatpercentile(medians_sfm_4k, 97.5) - stats.scoreatpercentile(medians_sfm_4k, 2.5))"
     ],
     "language": "python",
     "metadata": {},
     "outputs": [],
     "prompt_number": "*"
    },
    {
     "cell_type": "markdown",
     "metadata": {},
     "source": [
      "We display the median  +/- 95% confidence interval in each condition"
     ]
    },
    {
     "cell_type": "code",
     "collapsed": false,
     "input": [
      "fig, ax = plt.subplots(1)\n",
      "ax.bar([1,2], \n",
      "       [np.median(dtm_rrmse_1k[np.isfinite(dtm_rrmse_1k)]), \n",
      "        np.median(sfm_rrmse_1k[np.isfinite(sfm_rrmse_1k)])],\n",
      "        yerr=[dtm_ci_1k, sfm_ci_1k], color=[0.8, 0.8, 0.8], ecolor='k')\n",
      "\n",
      "ax.bar([4,5], \n",
      "        [np.median(dtm_rrmse_2k[np.isfinite(dtm_rrmse_2k)]), \n",
      "        np.median(sfm_rrmse_2k[np.isfinite(sfm_rrmse_2k)])], \n",
      "        yerr=[dtm_ci_2k, sfm_ci_2k], color=[0.59, 0.59, 0.59], ecolor='k')\n",
      "\n",
      "ax.bar([7,8], \n",
      "        [np.median(dtm_rrmse_4k[np.isfinite(dtm_rrmse_4k)]), \n",
      "        np.median(sfm_rrmse_4k[np.isfinite(sfm_rrmse_4k)])], \n",
      "        yerr=[dtm_ci_4k, sfm_ci_4k], ecolor='k', color=[0.32, 0.32, 0.32])\n",
      "ax.set_ylim([1/np.sqrt(2), 0.8])\n",
      "ax.set_xlim([0.8, 9])\n",
      "ax.grid()\n",
      "ax.set_xticks([0])\n",
      "fig.set_size_inches([10,6])\n",
      "fig.savefig('figures/rrmse_bars.svg')"
     ],
     "language": "python",
     "metadata": {},
     "outputs": [],
     "prompt_number": "*"
    },
    {
     "cell_type": "markdown",
     "metadata": {},
     "source": [
      "We also print the values to the notebook, supporting the text in the paper manuscript:"
     ]
    },
    {
     "cell_type": "code",
     "collapsed": false,
     "input": [
      "print [np.median(dtm_rrmse_1k[np.isfinite(dtm_rrmse_1k)]), \n",
      "        np.median(sfm_rrmse_1k[np.isfinite(sfm_rrmse_1k)])]\n",
      "print [dtm_ci_1k, sfm_ci_1k]\n",
      "\n",
      "print [np.median(dtm_rrmse_2k[np.isfinite(dtm_rrmse_2k)]), \n",
      "        np.median(sfm_rrmse_2k[np.isfinite(sfm_rrmse_2k)])]\n",
      "print [dtm_ci_2k, sfm_ci_2k]\n",
      "\n",
      "print [np.median(dtm_rrmse_4k[np.isfinite(dtm_rrmse_4k)]), \n",
      "        np.median(sfm_rrmse_4k[np.isfinite(sfm_rrmse_4k)])]\n",
      "print [dtm_ci_1k, sfm_ci_1k]\n"
     ],
     "language": "python",
     "metadata": {},
     "outputs": [
      {
       "output_type": "stream",
       "stream": "stdout",
       "text": [
        "[0.78061835629676646, 0.77456124385319602]\n",
        "[0.0010394762712471195, 0.00098501010781137932]\n",
        "[0.78118831704262781, 0.75707411227806753]\n",
        "[0.0010791729643978565, 0.00085515027778559904]\n",
        "[0.78957710588083385, 0.75890039039654311]"
       ]
      },
      {
       "output_type": "stream",
       "stream": "stdout",
       "text": [
        "\n",
        "[0.0010394762712471195, 0.00098501010781137932]\n"
       ]
      }
     ],
     "prompt_number": "*"
    }
   ],
   "metadata": {}
  }
 ]
}