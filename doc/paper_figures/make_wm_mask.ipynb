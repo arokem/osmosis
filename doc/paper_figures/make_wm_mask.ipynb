{
 "metadata": {
  "name": ""
 },
 "nbformat": 3,
 "nbformat_minor": 0,
 "worksheets": [
  {
   "cells": [
    {
     "cell_type": "code",
     "collapsed": false,
     "input": [
      "import nibabel as ni\n",
      "\n",
      "import osmosis.model.analysis as oza\n",
      "import osmosis.model.sparse_deconvolution as ssd\n",
      "import osmosis.model.dti as dti\n",
      "import osmosis.viz.maya as viz\n",
      "import osmosis.wm_mask as wm_mask"
     ],
     "language": "python",
     "metadata": {},
     "outputs": [],
     "prompt_number": 8
    },
    {
     "cell_type": "code",
     "collapsed": false,
     "input": [
      "import os\n",
      "import osmosis as oz\n",
      "import osmosis.io as oio\n",
      "oio.data_path = os.path.join(oz.__path__[0], 'data')"
     ],
     "language": "python",
     "metadata": {},
     "outputs": [],
     "prompt_number": 9
    },
    {
     "cell_type": "code",
     "collapsed": false,
     "input": [
      "subject = 'SUB2'\n",
      "data_1k_1, data_1k_2 = oio.get_dwi_data(1000, subject)"
     ],
     "language": "python",
     "metadata": {},
     "outputs": [],
     "prompt_number": 10
    },
    {
     "cell_type": "code",
     "collapsed": false,
     "input": [
      "seg_path = '%s/%s/%s_t1_class.nii.gz'%(oio.data_path, subject, subject)\n",
      "dwi = dti.TensorModel(*data_1k_1, params_file='temp')\n",
      "out_path = '%s/%s/%s_wm_mask.nii.gz'%(oio.data_path, subject, subject)"
     ],
     "language": "python",
     "metadata": {},
     "outputs": [
      {
       "output_type": "stream",
       "stream": "stdout",
       "text": [
        "Loading from file: /home/arokem/usr/lib/python2.7/site-packages/osmosis/data/SUB2/SUB2_b1000_1.bvals\n",
        "Loading from file: /home/arokem/usr/lib/python2.7/site-packages/osmosis/data/SUB2/SUB2_b1000_1.bvecs"
       ]
      },
      {
       "output_type": "stream",
       "stream": "stdout",
       "text": [
        "\n"
       ]
      }
     ],
     "prompt_number": 11
    },
    {
     "cell_type": "code",
     "collapsed": false,
     "input": [
      "wm_mask.make_wm_mask(seg_path, dwi, out_path)"
     ],
     "language": "python",
     "metadata": {},
     "outputs": [
      {
       "output_type": "stream",
       "stream": "stdout",
       "text": [
        "Loading from file: /home/arokem/usr/lib/python2.7/site-packages/osmosis/data/SUB2/SUB2_b1000_1.nii.gz\n",
        "Fitting TensorModel params using dipy"
       ]
      },
      {
       "output_type": "stream",
       "stream": "stdout",
       "text": [
        "\n"
       ]
      }
     ],
     "prompt_number": 12
    },
    {
     "cell_type": "code",
     "collapsed": false,
     "input": [
      "vol_anat = oio.get_t1(subject, resample=ni.load(oio.data_path + '/%s/%s_wm_mask.nii.gz'%(subject, subject)))\n",
      "vol_mask = ni.load(out_path).get_data()\n",
      "vol_mask[vol_mask<1] = np.nan"
     ],
     "language": "python",
     "metadata": {},
     "outputs": [],
     "prompt_number": 13
    },
    {
     "cell_type": "code",
     "collapsed": false,
     "input": [
      "%gui wx\n",
      "\n",
      "viz.plot_cut_planes(vol_anat,\n",
      "                    overlay=vol_mask,\n",
      "                    overlay_cmap=\"RdYlGn\",\n",
      "                    slice_coronal=40,\n",
      "                    slice_saggital=15,\n",
      "                    slice_axial=30,\n",
      "                    view_azim=-40,\n",
      "                    view_elev=60)"
     ],
     "language": "python",
     "metadata": {},
     "outputs": [
      {
       "output_type": "stream",
       "stream": "stdout",
       "text": [
        "Cannot set extents for <mayavi.modules.image_plane_widget.ImagePlaneWidget object at 0x96d6710>\n",
        "Cannot set extents for <mayavi.modules.image_plane_widget.ImagePlaneWidget object at 0x96e1a10>"
       ]
      },
      {
       "output_type": "stream",
       "stream": "stdout",
       "text": [
        "\n",
        "Cannot set extents for <mayavi.modules.image_plane_widget.ImagePlaneWidget object at 0x9b3bd10>"
       ]
      },
      {
       "output_type": "stream",
       "stream": "stdout",
       "text": [
        "\n",
        "Cannot set extents for <mayavi.modules.image_plane_widget.ImagePlaneWidget object at 0x9b45dd0>"
       ]
      },
      {
       "output_type": "stream",
       "stream": "stdout",
       "text": [
        "\n",
        "Cannot set extents for <mayavi.modules.image_plane_widget.ImagePlaneWidget object at 0x9b5c350>"
       ]
      },
      {
       "output_type": "stream",
       "stream": "stdout",
       "text": [
        "\n",
        "Cannot set extents for <mayavi.modules.image_plane_widget.ImagePlaneWidget object at 0x9b67650>"
       ]
      },
      {
       "output_type": "stream",
       "stream": "stdout",
       "text": [
        "\n"
       ]
      },
      {
       "metadata": {},
       "output_type": "pyout",
       "prompt_number": 14,
       "text": [
        "<mayavi.core.scene.Scene at 0x96cddd0>"
       ]
      }
     ],
     "prompt_number": 14
    },
    {
     "cell_type": "code",
     "collapsed": false,
     "input": [],
     "language": "python",
     "metadata": {},
     "outputs": []
    }
   ],
   "metadata": {}
  }
 ]
}