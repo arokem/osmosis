{
 "metadata": {
  "name": "make_wm_mask"
 },
 "nbformat": 3,
 "nbformat_minor": 0,
 "worksheets": [
  {
   "cells": [
    {
     "cell_type": "code",
     "collapsed": false,
     "input": [
      "import nibabel as ni\n",
      "\n",
      "import osmosis.model.analysis as oza\n",
      "import osmosis.model.sparse_deconvolution as ssd\n",
      "import osmosis.model.dti as dti\n",
      "import osmosis.viz.maya as viz\n",
      "import osmosis.wm_mask as wm_mask"
     ],
     "language": "python",
     "metadata": {},
     "outputs": [
      {
       "output_type": "stream",
       "stream": "stderr",
       "text": [
        "/usr/lib/python2.7/dist-packages/nose/util.py:14: DeprecationWarning: The compiler package is deprecated and removed in Python 3.x.\n",
        "  from compiler.consts import CO_GENERATOR\n"
       ]
      }
     ],
     "prompt_number": 1
    },
    {
     "cell_type": "code",
     "collapsed": false,
     "input": [
      "import os\n",
      "import osmosis as oz\n",
      "import osmosis.io as oio\n",
      "oio.data_path = os.path.join(oz.__path__[0], 'data')"
     ],
     "language": "python",
     "metadata": {},
     "outputs": [],
     "prompt_number": 2
    },
    {
     "cell_type": "code",
     "collapsed": false,
     "input": [
      "subject = 'HT'\n",
      "data_2k_1, data_2k_2 = oio.get_dwi_data(2000, subject)"
     ],
     "language": "python",
     "metadata": {},
     "outputs": [],
     "prompt_number": 3
    },
    {
     "cell_type": "code",
     "collapsed": false,
     "input": [
      "seg_path = '%s/%s/%s_t1_class.nii.gz'%(oio.data_path, subject, subject)\n",
      "dwi = dti.TensorModel(*data_2k_1, params_file='temp')\n",
      "out_path = '%s/%s/%s_wm_mask.nii.gz'%(oio.data_path, subject, subject)"
     ],
     "language": "python",
     "metadata": {},
     "outputs": [
      {
       "output_type": "stream",
       "stream": "stdout",
       "text": [
        "Loading from file: /home/arokem/usr/lib/python2.7/site-packages/osmosis/data/HT/0015_01_DTI_2mm_b2000_150dir_aligned_trilin.bvals\n",
        "Loading from file: /home/arokem/usr/lib/python2.7/site-packages/osmosis/data/HT/0015_01_DTI_2mm_b2000_150dir_aligned_trilin.bvecs\n"
       ]
      }
     ],
     "prompt_number": 4
    },
    {
     "cell_type": "code",
     "collapsed": false,
     "input": [
      "wm_mask.make_wm_mask(seg_path, dwi, out_path)"
     ],
     "language": "python",
     "metadata": {},
     "outputs": [
      {
       "output_type": "stream",
       "stream": "stdout",
       "text": [
        "Loading from file: /home/arokem/usr/lib/python2.7/site-packages/osmosis/data/HT/0015_01_DTI_2mm_b2000_150dir_aligned_trilin.nii.gz\n",
        "Fitting TensorModel params using dipy"
       ]
      },
      {
       "output_type": "stream",
       "stream": "stdout",
       "text": [
        "\n"
       ]
      }
     ],
     "prompt_number": 5
    },
    {
     "cell_type": "code",
     "collapsed": false,
     "input": [
      "vol_anat = oio.get_t1(subject, resample=ni.load(oio.data_path + '/%s/%s_wm_mask.nii.gz'%(subject, subject)))\n",
      "vol_mask = ni.load(out_path).get_data()\n",
      "vol_mask[vol_mask<1] = np.nan"
     ],
     "language": "python",
     "metadata": {},
     "outputs": [],
     "prompt_number": 6
    },
    {
     "cell_type": "code",
     "collapsed": false,
     "input": [
      "%gui wx\n",
      "\n",
      "viz.plot_cut_planes(vol_anat,\n",
      "                    overlay=vol_mask,\n",
      "                    overlay_cmap=\"RdYlGn\",\n",
      "                    slice_coronal=40,\n",
      "                    slice_saggital=15,\n",
      "                    slice_axial=30,\n",
      "                    view_azim=-40,\n",
      "                    view_elev=60)"
     ],
     "language": "python",
     "metadata": {},
     "outputs": [
      {
       "output_type": "stream",
       "stream": "stdout",
       "text": [
        "Cannot set extents for <mayavi.modules.image_plane_widget.ImagePlaneWidget object at 0x9358cb0>\n",
        "Cannot set extents for <mayavi.modules.image_plane_widget.ImagePlaneWidget object at 0x84fa9b0>"
       ]
      },
      {
       "output_type": "stream",
       "stream": "stdout",
       "text": [
        "\n",
        "Cannot set extents for <mayavi.modules.image_plane_widget.ImagePlaneWidget object at 0x8506cb0>"
       ]
      },
      {
       "output_type": "stream",
       "stream": "stdout",
       "text": [
        "\n",
        "Cannot set extents for <mayavi.modules.image_plane_widget.ImagePlaneWidget object at 0x8514d70>"
       ]
      },
      {
       "output_type": "stream",
       "stream": "stdout",
       "text": [
        "\n",
        "Cannot set extents for <mayavi.modules.image_plane_widget.ImagePlaneWidget object at 0x84a6410>"
       ]
      },
      {
       "output_type": "stream",
       "stream": "stdout",
       "text": [
        "\n",
        "Cannot set extents for <mayavi.modules.image_plane_widget.ImagePlaneWidget object at 0x84a5710>"
       ]
      },
      {
       "output_type": "stream",
       "stream": "stdout",
       "text": [
        "\n"
       ]
      },
      {
       "output_type": "pyout",
       "prompt_number": 7,
       "text": [
        "<mayavi.core.scene.Scene at 0x9333ad0>"
       ]
      }
     ],
     "prompt_number": 7
    },
    {
     "cell_type": "code",
     "collapsed": false,
     "input": [],
     "language": "python",
     "metadata": {},
     "outputs": [],
     "prompt_number": 7
    }
   ],
   "metadata": {}
  }
 ]
}