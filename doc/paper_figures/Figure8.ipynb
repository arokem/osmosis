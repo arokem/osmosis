{
 "metadata": {
  "name": "Figure8"
 },
 "nbformat": 3,
 "nbformat_minor": 0,
 "worksheets": [
  {
   "cells": [
    {
     "cell_type": "code",
     "collapsed": false,
     "input": [
      "import nibabel as ni\n",
      "\n",
      "import osmosis as oz\n",
      "import osmosis.model.analysis as oza\n",
      "import osmosis.model.sparse_deconvolution as ssd\n",
      "import osmosis.viz.mpl as mpl\n",
      "\n",
      "import osmosis.io as oio"
     ],
     "language": "python",
     "metadata": {},
     "outputs": [
      {
       "output_type": "stream",
       "stream": "stderr",
       "text": [
        "/home/arokem/usr/local/lib64/python2.7/site-packages/scikit_learn-0.12_git-py2.7-linux-x86_64.egg/scikits/__init__.py:1: UserWarning: Module dateutil was already imported from /home/arokem/usr/local/lib64/python2.7/site-packages/dateutil/__init__.pyc, but /usr/lib/python2.7/site-packages is being added to sys.path\n",
        "  __import__('pkg_resources').declare_namespace(__name__)\n",
        "/home/arokem/usr/local/lib/python2.7/site-packages/nose-1.1.2-py2.7.egg/nose/util.py:14: DeprecationWarning: The compiler package is deprecated and removed in Python 3.x.\n",
        "  from compiler.consts import CO_GENERATOR\n"
       ]
      }
     ],
     "prompt_number": 1
    },
    {
     "cell_type": "code",
     "collapsed": false,
     "input": [
      "data_1k_1, data_1k_2 = oio.get_dwi_data(1000)\n",
      "data_2k_1, data_2k_2 = oio.get_dwi_data(2000)\n",
      "data_4k_1, data_4k_2 = oio.get_dwi_data(4000)"
     ],
     "language": "python",
     "metadata": {},
     "outputs": [],
     "prompt_number": 2
    },
    {
     "cell_type": "code",
     "collapsed": false,
     "input": [
      "wm_mask = np.zeros(ni.load(data_1k_1[0]).shape[:3])\n",
      "wm_nifti = ni.load(oio.data_path + 'FP_WM_2iso_2k_MD_outliers_excluded.nii.gz').get_data()\n",
      "wm_mask[np.where(wm_nifti==1)] = 1\n"
     ],
     "language": "python",
     "metadata": {},
     "outputs": [],
     "prompt_number": 3
    },
    {
     "cell_type": "code",
     "collapsed": false,
     "input": [
      "ad_rd = oio.get_ad_rd(1000)\n",
      "SD_1k_1 = ssd.SparseDeconvolutionModel(*data_1k_1, mask=wm_mask,  axial_diffusivity=ad_rd[0]['AD'], radial_diffusivity=ad_rd[0]['RD'])\n",
      "SD_1k_2 = ssd.SparseDeconvolutionModel(*data_1k_2, mask=wm_mask,  axial_diffusivity=ad_rd[1]['AD'], radial_diffusivity=ad_rd[1]['RD'])\n",
      "ad_rd = oio.get_ad_rd(2000)\n",
      "SD_2k_1 = ssd.SparseDeconvolutionModel(*data_2k_1, mask=wm_mask,  axial_diffusivity=ad_rd[0]['AD'], radial_diffusivity=ad_rd[0]['RD'])\n",
      "SD_2k_2 = ssd.SparseDeconvolutionModel(*data_2k_2, mask=wm_mask,  axial_diffusivity=ad_rd[1]['AD'], radial_diffusivity=ad_rd[1]['RD'])\n",
      "ad_rd = oio.get_ad_rd(4000)\n",
      "SD_4k_1 = ssd.SparseDeconvolutionModel(*data_4k_1, mask=wm_mask,  axial_diffusivity=ad_rd[0]['AD'], radial_diffusivity=ad_rd[0]['RD'])\n",
      "SD_4k_2 = ssd.SparseDeconvolutionModel(*data_4k_2, mask=wm_mask,  axial_diffusivity=ad_rd[1]['AD'], radial_diffusivity=ad_rd[1]['RD'])\n"
     ],
     "language": "python",
     "metadata": {},
     "outputs": [
      {
       "output_type": "stream",
       "stream": "stdout",
       "text": [
        "Loading from file: /home/arokem/usr/lib/python2.7/site-packages/osmosis/data/0009_01_DWI_2mm150dir_2x_b1000_aligned_trilin.bvals\n",
        "Loading from file: /home/arokem/usr/lib/python2.7/site-packages/osmosis/data/0009_01_DWI_2mm150dir_2x_b1000_aligned_trilin.bvecs\n",
        "Loading from file: /home/arokem/usr/lib/python2.7/site-packages/osmosis/data/0011_01_DWI_2mm150dir_2x_b1000_aligned_trilin.bvals\n",
        "Loading from file: /home/arokem/usr/lib/python2.7/site-packages/osmosis/data/0011_01_DWI_2mm150dir_2x_b1000_aligned_trilin.bvecs\n",
        "Loading from file: /home/arokem/usr/lib/python2.7/site-packages/osmosis/data/0005_01_DTI_2mm_150dir_2x_b2000_aligned_trilin.bvals\n",
        "Loading from file: /home/arokem/usr/lib/python2.7/site-packages/osmosis/data/0005_01_DTI_2mm_150dir_2x_b2000_aligned_trilin.bvecs\n",
        "Loading from file: /home/arokem/usr/lib/python2.7/site-packages/osmosis/data/0007_01_DTI_2mm_150dir_2x_b2000_aligned_trilin.bvals\n",
        "Loading from file: /home/arokem/usr/lib/python2.7/site-packages/osmosis/data/0007_01_DTI_2mm_150dir_2x_b2000_aligned_trilin.bvecs\n",
        "Loading from file: /home/arokem/usr/lib/python2.7/site-packages/osmosis/data/0005_01_DWI_2mm150dir_2x_b4000_aligned_trilin.bvals\n",
        "Loading from file: /home/arokem/usr/lib/python2.7/site-packages/osmosis/data/0005_01_DWI_2mm150dir_2x_b4000_aligned_trilin.bvecs\n",
        "Loading from file: /home/arokem/usr/lib/python2.7/site-packages/osmosis/data/0007_01_DWI_2mm150dir_2x_b4000_aligned_trilin.bvals\n",
        "Loading from file: /home/arokem/usr/lib/python2.7/site-packages/osmosis/data/0007_01_DWI_2mm150dir_2x_b4000_aligned_trilin.bvecs\n"
       ]
      }
     ],
     "prompt_number": 4
    },
    {
     "cell_type": "code",
     "collapsed": false,
     "input": [
      "pdd_rel_1k = oza.pdd_reliability(SD_1k_1, SD_1k_2)\n",
      "pdd_rel_2k = oza.pdd_reliability(SD_2k_1, SD_2k_2)\n",
      "pdd_rel_4k = oza.pdd_reliability(SD_4k_1, SD_4k_2)"
     ],
     "language": "python",
     "metadata": {},
     "outputs": [
      {
       "output_type": "stream",
       "stream": "stdout",
       "text": [
        "Loading from file: /home/arokem/usr/lib/python2.7/site-packages/osmosis/data/0009_01_DWI_2mm150dir_2x_b1000_aligned_trilin.nii.gz\n",
        "Loading params from file: /home/arokem/usr/lib/python2.7/site-packages/osmosis/data/0009_01_DWI_2mm150dir_2x_b1000_aligned_trilinSparseDeconvolutionModel.nii.gz"
       ]
      },
      {
       "output_type": "stream",
       "stream": "stdout",
       "text": [
        "\n",
        "Loading from file: /home/arokem/usr/lib/python2.7/site-packages/osmosis/data/0011_01_DWI_2mm150dir_2x_b1000_aligned_trilin.nii.gz"
       ]
      },
      {
       "output_type": "stream",
       "stream": "stdout",
       "text": [
        "\n",
        "Loading params from file: /home/arokem/usr/lib/python2.7/site-packages/osmosis/data/0011_01_DWI_2mm150dir_2x_b1000_aligned_trilinSparseDeconvolutionModel.nii.gz"
       ]
      },
      {
       "output_type": "stream",
       "stream": "stdout",
       "text": [
        "\n",
        "Loading from file: /home/arokem/usr/lib/python2.7/site-packages/osmosis/data/0005_01_DTI_2mm_150dir_2x_b2000_aligned_trilin.nii.gz"
       ]
      },
      {
       "output_type": "stream",
       "stream": "stdout",
       "text": [
        "\n",
        "Loading params from file: /home/arokem/usr/lib/python2.7/site-packages/osmosis/data/0005_01_DTI_2mm_150dir_2x_b2000_aligned_trilinSparseDeconvolutionModel.nii.gz"
       ]
      },
      {
       "output_type": "stream",
       "stream": "stdout",
       "text": [
        "\n",
        "Loading from file: /home/arokem/usr/lib/python2.7/site-packages/osmosis/data/0007_01_DTI_2mm_150dir_2x_b2000_aligned_trilin.nii.gz"
       ]
      },
      {
       "output_type": "stream",
       "stream": "stdout",
       "text": [
        "\n",
        "Loading params from file: /home/arokem/usr/lib/python2.7/site-packages/osmosis/data/0007_01_DTI_2mm_150dir_2x_b2000_aligned_trilinSparseDeconvolutionModel.nii.gz"
       ]
      },
      {
       "output_type": "stream",
       "stream": "stdout",
       "text": [
        "\n",
        "Loading from file: /home/arokem/usr/lib/python2.7/site-packages/osmosis/data/0005_01_DWI_2mm150dir_2x_b4000_aligned_trilin.nii.gz"
       ]
      },
      {
       "output_type": "stream",
       "stream": "stdout",
       "text": [
        "\n",
        "Loading params from file: /home/arokem/usr/lib/python2.7/site-packages/osmosis/data/0005_01_DWI_2mm150dir_2x_b4000_aligned_trilinSparseDeconvolutionModel.nii.gz"
       ]
      },
      {
       "output_type": "stream",
       "stream": "stdout",
       "text": [
        "\n",
        "Loading from file: /home/arokem/usr/lib/python2.7/site-packages/osmosis/data/0007_01_DWI_2mm150dir_2x_b4000_aligned_trilin.nii.gz"
       ]
      },
      {
       "output_type": "stream",
       "stream": "stdout",
       "text": [
        "\n",
        "Loading params from file: /home/arokem/usr/lib/python2.7/site-packages/osmosis/data/0007_01_DWI_2mm150dir_2x_b4000_aligned_trilinSparseDeconvolutionModel.nii.gz"
       ]
      },
      {
       "output_type": "stream",
       "stream": "stdout",
       "text": [
        "\n"
       ]
      }
     ],
     "prompt_number": 5
    },
    {
     "cell_type": "code",
     "collapsed": false,
     "input": [
      "fig = mpl.probability_hist(pdd_rel_1k[np.isfinite(pdd_rel_1k)], label='b=%s'%str(1000))\n",
      "print(\"For b=1000, the median PDD reliability is %2.2f\"%np.median(pdd_rel_1k[np.isfinite(pdd_rel_1k)]))\n",
      "fig = mpl.probability_hist(pdd_rel_2k[np.isfinite(pdd_rel_2k)], fig=fig, label='b=%s'%str(2000))\n",
      "print(\"For b=2000, the median PDD reliability is %2.2f\"%np.median(pdd_rel_2k[np.isfinite(pdd_rel_2k)]))\n",
      "fig = mpl.probability_hist(pdd_rel_4k[np.isfinite(pdd_rel_4k)], fig=fig, label='b=%s'%str(4000))\n",
      "print(\"For b=4000, the median PDD reliability is %2.2f\"%np.median(pdd_rel_4k[np.isfinite(pdd_rel_4k)]))\n",
      "ax = fig.axes[0]\n",
      "ax.set_xlim([0,90])\n",
      "plt.legend()"
     ],
     "language": "python",
     "metadata": {},
     "outputs": [],
     "prompt_number": "*"
    },
    {
     "cell_type": "code",
     "collapsed": false,
     "input": [
      "fit_rel_1k = oza.fit_reliability(SD_1k_1, SD_1k_2)\n",
      "fit_rel_2k = oza.fit_reliability(SD_2k_1, SD_2k_2)\n",
      "fit_rel_4k = oza.fit_reliability(SD_4k_1, SD_4k_2)"
     ],
     "language": "python",
     "metadata": {},
     "outputs": [
      {
       "output_type": "stream",
       "stream": "stdout",
       "text": [
        "Predicting signal from SparseDeconvolutionModel with ElasticNet(alpha=0.00011, copy_X=True, fit_intercept=True, max_iter=1000,\n",
        "      normalize=False, positive=True, precompute=auto, rho=0.909090909091,\n",
        "      tol=0.0001, warm_start=False)\n",
        "Predicting signal from SparseDeconvolutionModel with ElasticNet(alpha=0.00011, copy_X=True, fit_intercept=True, max_iter=1000,\n",
        "      normalize=False, positive=True, precompute=auto, rho=0.909090909091,\n",
        "      tol=0.0001, warm_start=False)"
       ]
      },
      {
       "output_type": "stream",
       "stream": "stdout",
       "text": [
        "\n",
        "Predicting signal from SparseDeconvolutionModel with ElasticNet(alpha=0.00011, copy_X=True, fit_intercept=True, max_iter=1000,\n",
        "      normalize=False, positive=True, precompute=auto, rho=0.909090909091,\n",
        "      tol=0.0001, warm_start=False)"
       ]
      },
      {
       "output_type": "stream",
       "stream": "stdout",
       "text": [
        "\n",
        "Predicting signal from SparseDeconvolutionModel with ElasticNet(alpha=0.00011, copy_X=True, fit_intercept=True, max_iter=1000,\n",
        "      normalize=False, positive=True, precompute=auto, rho=0.909090909091,\n",
        "      tol=0.0001, warm_start=False)"
       ]
      },
      {
       "output_type": "stream",
       "stream": "stdout",
       "text": [
        "\n",
        "Predicting signal from SparseDeconvolutionModel with ElasticNet(alpha=0.00011, copy_X=True, fit_intercept=True, max_iter=1000,\n",
        "      normalize=False, positive=True, precompute=auto, rho=0.909090909091,\n",
        "      tol=0.0001, warm_start=False)"
       ]
      },
      {
       "output_type": "stream",
       "stream": "stdout",
       "text": [
        "\n",
        "Predicting signal from SparseDeconvolutionModel with ElasticNet(alpha=0.00011, copy_X=True, fit_intercept=True, max_iter=1000,\n",
        "      normalize=False, positive=True, precompute=auto, rho=0.909090909091,\n",
        "      tol=0.0001, warm_start=False)"
       ]
      },
      {
       "output_type": "stream",
       "stream": "stdout",
       "text": [
        "\n"
       ]
      },
      {
       "output_type": "stream",
       "stream": "stderr",
       "text": [
        "/home/arokem/usr/lib/python2.7/site-packages/osmosis/model/base.py:336: RuntimeWarning: divide by zero encountered in divide\n",
        "  signal_rel = self.signal/np.reshape(self.S0, (self.S0.shape + (1,)))\n",
        "/home/arokem/usr/lib/python2.7/site-packages/osmosis/model/base.py:336: RuntimeWarning: invalid value encountered in divide\n",
        "  signal_rel = self.signal/np.reshape(self.S0, (self.S0.shape + (1,)))\n"
       ]
      }
     ],
     "prompt_number": 7
    },
    {
     "cell_type": "code",
     "collapsed": false,
     "input": [
      "fig = mpl.probability_hist(fit_rel_1k[np.isfinite(fit_rel_1k)], label='b=%s'%str(1000))\n",
      "fig = mpl.probability_hist(fit_rel_2k[np.isfinite(fit_rel_2k)], fig=fig, label='b=%s'%str(2000))\n",
      "fig = mpl.probability_hist(fit_rel_4k[np.isfinite(fit_rel_4k)], fig=fig, label='b=%s'%str(4000))\n",
      "ax = fig.axes[0]"
     ],
     "language": "python",
     "metadata": {},
     "outputs": [
      {
       "output_type": "display_data",
       "png": "[encoded data removed]",
       "text": [
        "<matplotlib.figure.Figure at 0x3e93b10>"
       ]
      }
     ],
     "prompt_number": 8
    },
    {
     "cell_type": "code",
     "collapsed": false,
     "input": [],
     "language": "python",
     "metadata": {},
     "outputs": [],
     "prompt_number": 8
    }
   ],
   "metadata": {}
  }
 ]
}