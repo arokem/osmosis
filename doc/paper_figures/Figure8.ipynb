{
 "metadata": {
  "name": "Figure8"
 },
 "nbformat": 3,
 "nbformat_minor": 0,
 "worksheets": [
  {
   "cells": [
    {
     "cell_type": "code",
     "collapsed": false,
     "input": [
      "import nibabel as ni\n",
      "\n",
      "import osmosis as oz\n",
      "import osmosis.model.analysis as oza\n",
      "import osmosis.model.sparse_deconvolution as ssd\n",
      "import osmosis.model.dti as dti\n",
      "import osmosis.viz.mpl as mpl\n",
      "\n",
      "import osmosis.io as oio\n",
      "oio.data_path = '/biac4/wandell/biac2/wandell6/data/arokem/osmosis'"
     ],
     "language": "python",
     "metadata": {},
     "outputs": [
      {
       "output_type": "stream",
       "stream": "stderr",
       "text": [
        "/usr/lib/python2.7/dist-packages/nose/util.py:14: DeprecationWarning: The compiler package is deprecated and removed in Python 3.x.\n",
        "  from compiler.consts import CO_GENERATOR\n"
       ]
      }
     ],
     "prompt_number": 1
    },
    {
     "cell_type": "code",
     "collapsed": false,
     "input": [
      "subject = 'FP'\n",
      "data_1k_1, data_1k_2 = oio.get_dwi_data(1000, subject)\n",
      "data_2k_1, data_2k_2 = oio.get_dwi_data(2000, subject)\n",
      "data_4k_1, data_4k_2 = oio.get_dwi_data(4000, subject)"
     ],
     "language": "python",
     "metadata": {},
     "outputs": [],
     "prompt_number": 2
    },
    {
     "cell_type": "code",
     "collapsed": false,
     "input": [
      "wm_mask = np.zeros(ni.load(data_1k_1[0]).shape[:3])\n",
      "wm_nifti = ni.load(oio.data_path + '/%s/%s_wm_mask.nii.gz'%(subject, subject)).get_data()\n",
      "wm_mask[np.where(wm_nifti==1)] = 1\n"
     ],
     "language": "python",
     "metadata": {},
     "outputs": [],
     "prompt_number": 3
    },
    {
     "cell_type": "code",
     "collapsed": false,
     "input": [
      "l1_ratio = 0.6\n",
      "alpha = 0.0005 \n",
      "solver_params = dict(l1_ratio=l1_ratio, alpha=alpha, fit_intercept=False, positive=True)\n",
      "# This file should already exist:\n",
      "params_string = '_SSD_rho%s_alpha%s.nii.gz'%(l1_ratio, alpha)"
     ],
     "language": "python",
     "metadata": {},
     "outputs": [],
     "prompt_number": 6
    },
    {
     "cell_type": "code",
     "collapsed": false,
     "input": [
      "ad_rd = oio.get_ad_rd(subject, 1000)\n",
      "SD_1k_1 = ssd.SparseDeconvolutionModel(*data_1k_1, mask=wm_mask,  params_file = data_1k_1[0].split('.')[0] + params_string, axial_diffusivity=ad_rd[0]['AD'], radial_diffusivity=ad_rd[0]['RD'], solver_params=solver_params)\n",
      "SD_1k_2 = ssd.SparseDeconvolutionModel(*data_1k_2, mask=wm_mask,  params_file = data_1k_2[0].split('.')[0] + params_string, axial_diffusivity=ad_rd[1]['AD'], radial_diffusivity=ad_rd[1]['RD'], solver_params=solver_params)\n",
      "ad_rd = oio.get_ad_rd(subject, 2000)\n",
      "SD_2k_1 = ssd.SparseDeconvolutionModel(*data_2k_1, mask=wm_mask,  params_file = data_2k_1[0].split('.')[0] + params_string, axial_diffusivity=ad_rd[0]['AD'], radial_diffusivity=ad_rd[0]['RD'], solver_params=solver_params)\n",
      "SD_2k_2 = ssd.SparseDeconvolutionModel(*data_2k_2, mask=wm_mask,  params_file = data_2k_2[0].split('.')[0] + params_string, axial_diffusivity=ad_rd[1]['AD'], radial_diffusivity=ad_rd[1]['RD'], solver_params=solver_params)\n",
      "ad_rd = oio.get_ad_rd(subject, 4000)\n",
      "SD_4k_1 = ssd.SparseDeconvolutionModel(*data_4k_1, mask=wm_mask,  params_file = data_4k_1[0].split('.')[0] + params_string, axial_diffusivity=ad_rd[0]['AD'], radial_diffusivity=ad_rd[0]['RD'], solver_params=solver_params)\n",
      "SD_4k_2 = ssd.SparseDeconvolutionModel(*data_4k_2, mask=wm_mask,  params_file = data_4k_2[0].split('.')[0] + params_string, axial_diffusivity=ad_rd[1]['AD'], radial_diffusivity=ad_rd[1]['RD'], solver_params=solver_params)\n"
     ],
     "language": "python",
     "metadata": {},
     "outputs": [
      {
       "output_type": "stream",
       "stream": "stdout",
       "text": [
        "Loading from file: /biac4/wandell/biac2/wandell6/data/arokem/osmosis/FP/0009_01_DWI_2mm150dir_2x_b1000_aligned_trilin.bvals\n",
        "Loading from file: /biac4/wandell/biac2/wandell6/data/arokem/osmosis/FP/0009_01_DWI_2mm150dir_2x_b1000_aligned_trilin.bvecs\n",
        "Loading from file: /biac4/wandell/biac2/wandell6/data/arokem/osmosis/FP/0011_01_DWI_2mm150dir_2x_b1000_aligned_trilin.bvals\n",
        "Loading from file: /biac4/wandell/biac2/wandell6/data/arokem/osmosis/FP/0011_01_DWI_2mm150dir_2x_b1000_aligned_trilin.bvecs\n",
        "Loading from file: /biac4/wandell/biac2/wandell6/data/arokem/osmosis/FP/0005_01_DTI_2mm_150dir_2x_b2000_aligned_trilin.bvals\n",
        "Loading from file: /biac4/wandell/biac2/wandell6/data/arokem/osmosis/FP/0005_01_DTI_2mm_150dir_2x_b2000_aligned_trilin.bvecs\n",
        "Loading from file: /biac4/wandell/biac2/wandell6/data/arokem/osmosis/FP/0007_01_DTI_2mm_150dir_2x_b2000_aligned_trilin.bvals\n",
        "Loading from file: /biac4/wandell/biac2/wandell6/data/arokem/osmosis/FP/0007_01_DTI_2mm_150dir_2x_b2000_aligned_trilin.bvecs\n",
        "Loading from file: /biac4/wandell/biac2/wandell6/data/arokem/osmosis/FP/0005_01_DWI_2mm150dir_2x_b4000_aligned_trilin.bvals\n",
        "Loading from file: /biac4/wandell/biac2/wandell6/data/arokem/osmosis/FP/0005_01_DWI_2mm150dir_2x_b4000_aligned_trilin.bvecs\n",
        "Loading from file: /biac4/wandell/biac2/wandell6/data/arokem/osmosis/FP/0007_01_DWI_2mm150dir_2x_b4000_aligned_trilin.bvals\n",
        "Loading from file: /biac4/wandell/biac2/wandell6/data/arokem/osmosis/FP/0007_01_DWI_2mm150dir_2x_b4000_aligned_trilin.bvecs\n"
       ]
      }
     ],
     "prompt_number": 7
    },
    {
     "cell_type": "code",
     "collapsed": false,
     "input": [
      "pred_1k_1 = np.concatenate([SD_1k_1.S0[...,np.newaxis], SD_1k_1.fit], -1)\n",
      "pred_1k_2 = np.concatenate([SD_1k_2.S0[...,np.newaxis], SD_1k_2.fit], -1)\n",
      "new_bvecs1 = np.concatenate([np.array([[0,0,0]]).T, SD_1k_1.bvecs[:, SD_1k_1.b_idx]], -1)\n",
      "new_bvecs2 = np.concatenate([np.array([[0,0,0]]).T, SD_1k_2.bvecs[:, SD_1k_2.b_idx]], -1)\n",
      "new_bvals = np.hstack([0, SD_1k_1.bvals[:,SD_1k_1.b_idx]])\n",
      "TM_1k_1 = dti.TensorModel(pred_1k_1, new_bvecs1, new_bvals, mask=wm_mask, params_file='temp')\n",
      "TM_1k_2 = dti.TensorModel(pred_1k_2, new_bvecs2, new_bvals, mask=wm_mask, params_file='temp')\n",
      "\n",
      "pred_2k_1 = np.concatenate([SD_2k_1.S0[...,np.newaxis], SD_2k_1.fit], -1)\n",
      "pred_2k_2 = np.concatenate([SD_2k_2.S0[...,np.newaxis], SD_2k_2.fit], -1)\n",
      "new_bvecs1 = np.concatenate([np.array([[0,0,0]]).T, SD_2k_1.bvecs[:, SD_2k_1.b_idx]], -1)\n",
      "new_bvecs2 = np.concatenate([np.array([[0,0,0]]).T, SD_2k_2.bvecs[:, SD_2k_2.b_idx]], -1)\n",
      "new_bvals = np.hstack([0, SD_2k_1.bvals[:,SD_2k_1.b_idx]])\n",
      "TM_2k_1 = dti.TensorModel(pred_2k_1, new_bvecs1, new_bvals, mask=wm_mask, params_file='temp')\n",
      "TM_2k_2 = dti.TensorModel(pred_2k_2, new_bvecs2, new_bvals, mask=wm_mask, params_file='temp')\n",
      "\n",
      "pred_4k_1 = np.concatenate([SD_4k_1.S0[...,np.newaxis], SD_4k_1.fit], -1)\n",
      "pred_4k_2 = np.concatenate([SD_4k_2.S0[...,np.newaxis], SD_4k_2.fit], -1)\n",
      "new_bvecs1 = np.concatenate([np.array([[0,0,0]]).T, SD_4k_1.bvecs[:, SD_4k_1.b_idx]], -1)\n",
      "new_bvecs2 = np.concatenate([np.array([[0,0,0]]).T, SD_4k_2.bvecs[:, SD_4k_2.b_idx]], -1)\n",
      "new_bvals = np.hstack([0, SD_4k_1.bvals[:,SD_4k_1.b_idx]])\n",
      "TM_4k_1 = dti.TensorModel(pred_4k_1, new_bvecs1, new_bvals, mask=wm_mask, params_file='temp')\n",
      "TM_4k_2 = dti.TensorModel(pred_4k_2, new_bvecs2, new_bvals, mask=wm_mask, params_file='temp')"
     ],
     "language": "python",
     "metadata": {},
     "outputs": [
      {
       "output_type": "stream",
       "stream": "stdout",
       "text": [
        "Loading from file: /biac4/wandell/biac2/wandell6/data/arokem/osmosis/FP/0009_01_DWI_2mm150dir_2x_b1000_aligned_trilin.nii.gz\n",
        "Predicting signal from SparseDeconvolutionModel with ElasticNet(alpha=0.0005, copy_X=True, fit_intercept=False, l1_ratio=0.6,\n",
        "      max_iter=1000, normalize=False, positive=True, precompute=auto,\n",
        "      rho=None, tol=0.0001, warm_start=False)"
       ]
      },
      {
       "output_type": "stream",
       "stream": "stdout",
       "text": [
        "\n",
        "Loading params from file: /biac4/wandell/biac2/wandell6/data/arokem/osmosis/FP/0009_01_DWI_2mm150dir_2x_b1000_aligned_trilin_SSD_rho0.6_alpha0.0005.nii.gz"
       ]
      },
      {
       "output_type": "stream",
       "stream": "stdout",
       "text": [
        "\n",
        "Loading from file: /biac4/wandell/biac2/wandell6/data/arokem/osmosis/FP/0011_01_DWI_2mm150dir_2x_b1000_aligned_trilin.nii.gz"
       ]
      },
      {
       "output_type": "stream",
       "stream": "stdout",
       "text": [
        "\n",
        "Predicting signal from SparseDeconvolutionModel with ElasticNet(alpha=0.0005, copy_X=True, fit_intercept=False, l1_ratio=0.6,\n",
        "      max_iter=1000, normalize=False, positive=True, precompute=auto,\n",
        "      rho=None, tol=0.0001, warm_start=False)"
       ]
      },
      {
       "output_type": "stream",
       "stream": "stdout",
       "text": [
        "\n",
        "Loading params from file: /biac4/wandell/biac2/wandell6/data/arokem/osmosis/FP/0011_01_DWI_2mm150dir_2x_b1000_aligned_trilin_SSD_rho0.6_alpha0.0005.nii.gz"
       ]
      },
      {
       "output_type": "stream",
       "stream": "stdout",
       "text": [
        "\n",
        "Loading from file: /biac4/wandell/biac2/wandell6/data/arokem/osmosis/FP/0005_01_DTI_2mm_150dir_2x_b2000_aligned_trilin.nii.gz"
       ]
      },
      {
       "output_type": "stream",
       "stream": "stdout",
       "text": [
        "\n",
        "Predicting signal from SparseDeconvolutionModel with ElasticNet(alpha=0.0005, copy_X=True, fit_intercept=False, l1_ratio=0.6,\n",
        "      max_iter=1000, normalize=False, positive=True, precompute=auto,\n",
        "      rho=None, tol=0.0001, warm_start=False)"
       ]
      },
      {
       "output_type": "stream",
       "stream": "stdout",
       "text": [
        "\n",
        "Loading params from file: /biac4/wandell/biac2/wandell6/data/arokem/osmosis/FP/0005_01_DTI_2mm_150dir_2x_b2000_aligned_trilin_SSD_rho0.6_alpha0.0005.nii.gz"
       ]
      },
      {
       "output_type": "stream",
       "stream": "stdout",
       "text": [
        "\n",
        "Loading from file: /biac4/wandell/biac2/wandell6/data/arokem/osmosis/FP/0007_01_DTI_2mm_150dir_2x_b2000_aligned_trilin.nii.gz"
       ]
      },
      {
       "output_type": "stream",
       "stream": "stdout",
       "text": [
        "\n",
        "Predicting signal from SparseDeconvolutionModel with ElasticNet(alpha=0.0005, copy_X=True, fit_intercept=False, l1_ratio=0.6,\n",
        "      max_iter=1000, normalize=False, positive=True, precompute=auto,\n",
        "      rho=None, tol=0.0001, warm_start=False)"
       ]
      },
      {
       "output_type": "stream",
       "stream": "stdout",
       "text": [
        "\n",
        "Loading params from file: /biac4/wandell/biac2/wandell6/data/arokem/osmosis/FP/0007_01_DTI_2mm_150dir_2x_b2000_aligned_trilin_SSD_rho0.6_alpha0.0005.nii.gz"
       ]
      },
      {
       "output_type": "stream",
       "stream": "stdout",
       "text": [
        "\n",
        "Loading from file: /biac4/wandell/biac2/wandell6/data/arokem/osmosis/FP/0005_01_DWI_2mm150dir_2x_b4000_aligned_trilin.nii.gz"
       ]
      },
      {
       "output_type": "stream",
       "stream": "stdout",
       "text": [
        "\n",
        "Predicting signal from SparseDeconvolutionModel with ElasticNet(alpha=0.0005, copy_X=True, fit_intercept=False, l1_ratio=0.6,\n",
        "      max_iter=1000, normalize=False, positive=True, precompute=auto,\n",
        "      rho=None, tol=0.0001, warm_start=False)"
       ]
      },
      {
       "output_type": "stream",
       "stream": "stdout",
       "text": [
        "\n",
        "Loading params from file: /biac4/wandell/biac2/wandell6/data/arokem/osmosis/FP/0005_01_DWI_2mm150dir_2x_b4000_aligned_trilin_SSD_rho0.6_alpha0.0005.nii.gz"
       ]
      },
      {
       "output_type": "stream",
       "stream": "stdout",
       "text": [
        "\n",
        "Loading from file: /biac4/wandell/biac2/wandell6/data/arokem/osmosis/FP/0007_01_DWI_2mm150dir_2x_b4000_aligned_trilin.nii.gz"
       ]
      },
      {
       "output_type": "stream",
       "stream": "stdout",
       "text": [
        "\n",
        "Predicting signal from SparseDeconvolutionModel with ElasticNet(alpha=0.0005, copy_X=True, fit_intercept=False, l1_ratio=0.6,\n",
        "      max_iter=1000, normalize=False, positive=True, precompute=auto,\n",
        "      rho=None, tol=0.0001, warm_start=False)"
       ]
      },
      {
       "output_type": "stream",
       "stream": "stdout",
       "text": [
        "\n",
        "Loading params from file: /biac4/wandell/biac2/wandell6/data/arokem/osmosis/FP/0007_01_DWI_2mm150dir_2x_b4000_aligned_trilin_SSD_rho0.6_alpha0.0005.nii.gz"
       ]
      },
      {
       "output_type": "stream",
       "stream": "stdout",
       "text": [
        "\n"
       ]
      },
      {
       "output_type": "stream",
       "stream": "stderr",
       "text": [
        "/home/arokem/usr/lib/python2.7/site-packages/osmosis/model/base.py:383: RuntimeWarning: divide by zero encountered in divide\n",
        "  signal_rel = self.signal/np.reshape(self.S0, (self.S0.shape + (1,)))\n",
        "/home/arokem/usr/lib/python2.7/site-packages/osmosis/model/base.py:383: RuntimeWarning: invalid value encountered in divide\n",
        "  signal_rel = self.signal/np.reshape(self.S0, (self.S0.shape + (1,)))\n"
       ]
      }
     ],
     "prompt_number": 8
    },
    {
     "cell_type": "code",
     "collapsed": false,
     "input": [
      "# Reliability estimated via the tensor model: \n",
      "pdd_rel_1k = oza.pdd_reliability(TM_1k_1, TM_1k_2)\n",
      "pdd_rel_2k = oza.pdd_reliability(TM_2k_1, TM_2k_2)\n",
      "pdd_rel_4k = oza.pdd_reliability(TM_4k_1, TM_4k_2)\n",
      "\n",
      "# Or directly on the SD model:\n",
      "#pdd_rel_1k = oza.pdd_reliability(SD_1k_1, SD_1k_2)\n",
      "#pdd_rel_2k = oza.pdd_reliability(SD_2k_1, SD_2k_2)\n",
      "#pdd_rel_4k = oza.pdd_reliability(SD_4k_1, SD_4k_2)"
     ],
     "language": "python",
     "metadata": {},
     "outputs": [
      {
       "output_type": "stream",
       "stream": "stdout",
       "text": [
        "Fitting TensorModel params using dipy\n",
        "Fitting TensorModel params using dipy"
       ]
      },
      {
       "output_type": "stream",
       "stream": "stdout",
       "text": [
        "\n",
        "Fitting TensorModel params using dipy"
       ]
      },
      {
       "output_type": "stream",
       "stream": "stdout",
       "text": [
        "\n",
        "Fitting TensorModel params using dipy"
       ]
      },
      {
       "output_type": "stream",
       "stream": "stdout",
       "text": [
        "\n",
        "Fitting TensorModel params using dipy"
       ]
      },
      {
       "output_type": "stream",
       "stream": "stdout",
       "text": [
        "\n",
        "Fitting TensorModel params using dipy"
       ]
      },
      {
       "output_type": "stream",
       "stream": "stdout",
       "text": [
        "\n"
       ]
      },
      {
       "output_type": "stream",
       "stream": "stderr",
       "text": [
        "/home/arokem/usr/lib/python2.7/site-packages/osmosis/model/base.py:240: UserWarning: DWI data generated from array. Affine will be set to np.eye(4)\n",
        "  warnings.warn(w_s)\n"
       ]
      }
     ],
     "prompt_number": 9
    },
    {
     "cell_type": "code",
     "collapsed": false,
     "input": [
      "fig = mpl.probability_hist(pdd_rel_1k[np.isfinite(pdd_rel_1k)], label='b=%s'%str(1000))\n",
      "print(\"For b=1000, the median PDD reliability is %2.2f\"%np.median(pdd_rel_1k[np.isfinite(pdd_rel_1k)]))\n",
      "fig = mpl.probability_hist(pdd_rel_2k[np.isfinite(pdd_rel_2k)], fig=fig, label='b=%s'%str(2000))\n",
      "print(\"For b=2000, the median PDD reliability is %2.2f\"%np.median(pdd_rel_2k[np.isfinite(pdd_rel_2k)]))\n",
      "fig = mpl.probability_hist(pdd_rel_4k[np.isfinite(pdd_rel_4k)], fig=fig, label='b=%s'%str(4000))\n",
      "print(\"For b=4000, the median PDD reliability is %2.2f\"%np.median(pdd_rel_4k[np.isfinite(pdd_rel_4k)]))\n",
      "ax = fig.axes[0]\n",
      "ax.set_xlim([0,90])\n",
      "plt.legend()\n",
      "fig.savefig('/home/arokem/Dropbox/osmosis_paper_figures/Figure8_pdd_reliability.svg')"
     ],
     "language": "python",
     "metadata": {},
     "outputs": [
      {
       "output_type": "stream",
       "stream": "stdout",
       "text": [
        "For b=1000, the median PDD reliability is 3.61\n",
        "For b=2000, the median PDD reliability is 3.74\n",
        "For b=4000, the median PDD reliability is 4.78"
       ]
      },
      {
       "output_type": "stream",
       "stream": "stdout",
       "text": [
        "\n"
       ]
      },
      {
       "output_type": "display_data",
       "png": "[encoded data removed]",
       "text": [
        "<matplotlib.figure.Figure at 0x5108410>"
       ]
      }
     ],
     "prompt_number": 11
    },
    {
     "cell_type": "code",
     "collapsed": false,
     "input": [
      "pdd_rel_1k = oza.pdd_reliability(SD_1k_1, SD_1k_2)\n",
      "pdd_rel_2k = oza.pdd_reliability(SD_2k_1, SD_2k_2)\n",
      "pdd_rel_4k = oza.pdd_reliability(SD_4k_1, SD_4k_2)"
     ],
     "language": "python",
     "metadata": {},
     "outputs": [],
     "prompt_number": 12
    },
    {
     "cell_type": "code",
     "collapsed": false,
     "input": [
      "fig = mpl.probability_hist(pdd_rel_1k[np.isfinite(pdd_rel_1k)], label='b=%s'%str(1000))\n",
      "print(\"For b=1000, the median PDD reliability is %2.2f\"%np.median(pdd_rel_1k[np.isfinite(pdd_rel_1k)]))\n",
      "fig = mpl.probability_hist(pdd_rel_2k[np.isfinite(pdd_rel_2k)], fig=fig, label='b=%s'%str(2000))\n",
      "print(\"For b=2000, the median PDD reliability is %2.2f\"%np.median(pdd_rel_2k[np.isfinite(pdd_rel_2k)]))\n",
      "fig = mpl.probability_hist(pdd_rel_4k[np.isfinite(pdd_rel_4k)], fig=fig, label='b=%s'%str(4000))\n",
      "print(\"For b=4000, the median PDD reliability is %2.2f\"%np.median(pdd_rel_4k[np.isfinite(pdd_rel_4k)]))\n",
      "ax = fig.axes[0]\n",
      "ax.set_xlim([0,90])\n",
      "plt.legend()\n",
      "fig.savefig('/home/arokem/Dropbox/osmosis_paper_figures/sfm_pdd_reliability.svg')"
     ],
     "language": "python",
     "metadata": {},
     "outputs": [
      {
       "output_type": "stream",
       "stream": "stdout",
       "text": [
        "For b=1000, the median PDD reliability is 36.11\n",
        "For b=2000, the median PDD reliability is 48.06"
       ]
      },
      {
       "output_type": "stream",
       "stream": "stdout",
       "text": [
        "\n",
        "For b=4000, the median PDD reliability is 45.02\n"
       ]
      },
      {
       "output_type": "display_data",
       "png": "[encoded data removed]",
       "text": [
        "<matplotlib.figure.Figure at 0x5108a10>"
       ]
      }
     ],
     "prompt_number": 13
    },
    {
     "cell_type": "code",
     "collapsed": false,
     "input": [],
     "language": "python",
     "metadata": {},
     "outputs": []
    }
   ],
   "metadata": {}
  }
 ]
}