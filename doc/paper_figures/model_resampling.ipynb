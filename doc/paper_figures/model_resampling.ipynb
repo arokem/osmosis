{
 "metadata": {
  "name": "",
  "signature": "sha256:1343fe6cefec05bbe90a37bba8bc826a110e3085c5b94aa1c6e0e145ced56682"
 },
 "nbformat": 3,
 "nbformat_minor": 0,
 "worksheets": [
  {
   "cells": [
    {
     "cell_type": "code",
     "collapsed": false,
     "input": [
      "%pylab inline"
     ],
     "language": "python",
     "metadata": {},
     "outputs": [
      {
       "output_type": "stream",
       "stream": "stdout",
       "text": [
        "Populating the interactive namespace from numpy and matplotlib\n"
       ]
      }
     ],
     "prompt_number": 1
    },
    {
     "cell_type": "code",
     "collapsed": false,
     "input": [
      "import nibabel as ni\n",
      "import osmosis.model.analysis as oza\n",
      "import osmosis.model.sparse_deconvolution as sfm\n",
      "import osmosis.model.dti as dti\n",
      "import osmosis.viz.mpl as mpl\n",
      "import osmosis.boot as boot\n",
      "import osmosis.utils as ozu"
     ],
     "language": "python",
     "metadata": {},
     "outputs": [],
     "prompt_number": 2
    },
    {
     "cell_type": "markdown",
     "metadata": {},
     "source": [
      "We set the data path:"
     ]
    },
    {
     "cell_type": "code",
     "collapsed": false,
     "input": [
      "import os\n",
      "import osmosis as oz\n",
      "import osmosis.io as oio\n",
      "oio.data_path = os.path.join(oz.__path__[0], 'data')"
     ],
     "language": "python",
     "metadata": {},
     "outputs": [],
     "prompt_number": 3
    },
    {
     "cell_type": "code",
     "collapsed": false,
     "input": [
      "bvals = [1000, 2000, 4000]\n",
      "subject = 'SUB1'\n",
      "data_1k_1, data_1k_2 = oio.get_dwi_data(1000, subject)\n",
      "data_2k_1, data_2k_2 = oio.get_dwi_data(2000, subject)\n",
      "data_4k_1, data_4k_2 = oio.get_dwi_data(4000, subject)"
     ],
     "language": "python",
     "metadata": {},
     "outputs": [],
     "prompt_number": 4
    },
    {
     "cell_type": "code",
     "collapsed": false,
     "input": [
      "wm_mask = np.zeros(ni.load(data_1k_1[0]).shape[:3])\n",
      "wm_nifti = ni.load(oio.data_path + '/%s/%s_wm_mask.nii.gz'%(subject, subject)).get_data()\n",
      "wm_mask[np.where(wm_nifti==1)] = 1\n"
     ],
     "language": "python",
     "metadata": {},
     "outputs": [],
     "prompt_number": 5
    },
    {
     "cell_type": "code",
     "collapsed": false,
     "input": [
      "TM_1k_1 = dti.TensorModel(*data_1k_1, mask=wm_mask, params_file='temp')\n",
      "TM_1k_2 = dti.TensorModel(*data_1k_2, mask=wm_mask, params_file='temp')\n",
      "TM_2k_1 = dti.TensorModel(*data_2k_1, mask=wm_mask, params_file='temp')\n",
      "TM_2k_2 = dti.TensorModel(*data_2k_2, mask=wm_mask, params_file='temp')\n",
      "TM_4k_1 = dti.TensorModel(*data_4k_1, mask=wm_mask, params_file='temp')\n",
      "TM_4k_2 = dti.TensorModel(*data_4k_2, mask=wm_mask, params_file='temp')"
     ],
     "language": "python",
     "metadata": {},
     "outputs": [
      {
       "output_type": "stream",
       "stream": "stdout",
       "text": [
        "Loading from file: /Users/arokem/usr/lib/python2.7/site-packages/osmosis/data/SUB1/SUB1_b1000_1.bvals\n",
        "Loading from file: /Users/arokem/usr/lib/python2.7/site-packages/osmosis/data/SUB1/SUB1_b1000_1.bvecs\n",
        "Loading from file: /Users/arokem/usr/lib/python2.7/site-packages/osmosis/data/SUB1/SUB1_b1000_2.bvals\n",
        "Loading from file: /Users/arokem/usr/lib/python2.7/site-packages/osmosis/data/SUB1/SUB1_b1000_2.bvecs\n",
        "Loading from file: /Users/arokem/usr/lib/python2.7/site-packages/osmosis/data/SUB1/SUB1_b2000_1.bvals\n",
        "Loading from file: /Users/arokem/usr/lib/python2.7/site-packages/osmosis/data/SUB1/SUB1_b2000_1.bvecs\n",
        "Loading from file: /Users/arokem/usr/lib/python2.7/site-packages/osmosis/data/SUB1/SUB1_b2000_2.bvals\n",
        "Loading from file: /Users/arokem/usr/lib/python2.7/site-packages/osmosis/data/SUB1/SUB1_b2000_2.bvecs\n",
        "Loading from file: /Users/arokem/usr/lib/python2.7/site-packages/osmosis/data/SUB1/SUB1_b4000_1.bvals\n",
        "Loading from file: /Users/arokem/usr/lib/python2.7/site-packages/osmosis/data/SUB1/SUB1_b4000_1.bvecs\n",
        "Loading from file: /Users/arokem/usr/lib/python2.7/site-packages/osmosis/data/SUB1/SUB1_b4000_2.bvals\n",
        "Loading from file: /Users/arokem/usr/lib/python2.7/site-packages/osmosis/data/SUB1/SUB1_b4000_2.bvecs\n"
       ]
      }
     ],
     "prompt_number": 6
    },
    {
     "cell_type": "code",
     "collapsed": false,
     "input": [
      "#Model = dti.TensorModel\n",
      "Model = sfm.SparseDeconvolutionModel"
     ],
     "language": "python",
     "metadata": {},
     "outputs": []
    },
    {
     "cell_type": "code",
     "collapsed": true,
     "input": [
      "rrmse = []\n",
      "rrmse_150 = []\n",
      "for M1, M2 in zip([TM_1k_1, TM_2k_1, TM_4k_1], [TM_1k_2, TM_2k_2, TM_4k_2]):\n",
      "    M1 = Model(M1.data, M1.bvecs, M1.bvals * 1000, mask=wm_mask, params_file='temp')\n",
      "    M2 = Model(M2.data, M2.bvecs, M2.bvals * 1000, mask=wm_mask, params_file='temp')\n",
      "    rrmse_150.append(oza.cross_predict(M1, M2))\n",
      "    rrmse.append([])\n",
      "    n_bvecs= [6, 10, 20, 40, 80, 120]\n",
      "    for n in n_bvecs: \n",
      "        new_bvecs, new_bv_i = boot.subsample(M1.bvecs[:, M1.b_idx], n)\n",
      "        data_resamp_1 = np.concatenate([M1.data[..., M1.b0_idx], M1.data[..., M1.b_idx[new_bv_i]]], -1)\n",
      "        bvecs_resamp_1 = np.concatenate([M1.bvecs[..., M1.b0_idx], M1.bvecs[..., M1.b_idx[new_bv_i]]], -1)\n",
      "        bvals_resamp_1 = np.concatenate([M1.bvals[..., M1.b0_idx], M1.bvals[..., M1.b_idx[new_bv_i]]], -1)*1000\n",
      "        data_resamp_2 = np.concatenate([M2.data[..., M2.b0_idx], M2.data[..., M2.b_idx[new_bv_i]]], -1)\n",
      "        bvecs_resamp_2 = np.concatenate([M2.bvecs[..., M2.b0_idx], M2.bvecs[..., M2.b_idx[new_bv_i]]], -1)\n",
      "        bvals_resamp_2 = np.concatenate([M2.bvals[..., M2.b0_idx], M2.bvals[..., M2.b_idx[new_bv_i]]], -1)*1000\n",
      "        # Make sure you have the right number of regressors in the SFM case\n",
      "        if type(Model) == type(sfm.SparseDeconvolutionModel):\n",
      "            M1_resamp = Model(data_resamp_1, bvecs_resamp_1, bvals_resamp_1, mask=wm_mask, over_sample=150, params_file='temp')\n",
      "            M2_resamp = Model(data_resamp_2, bvecs_resamp_2, bvals_resamp_2, mask=wm_mask, over_sample=150, params_file='temp')\n",
      "        else:\n",
      "            M1_resamp = Model(data_resamp_1, bvecs_resamp_1, bvals_resamp_1, mask=wm_mask, params_file='temp')\n",
      "            M2_resamp = Model(data_resamp_2, bvecs_resamp_2, bvals_resamp_2, mask=wm_mask, params_file='temp')\n",
      "\n",
      "        rrmse[-1].append(oza.cross_predict(M1_resamp, M2_resamp))"
     ],
     "language": "python",
     "metadata": {},
     "outputs": [
      {
       "output_type": "stream",
       "stream": "stdout",
       "text": [
        " \r",
        "SparseDeconvolutionModel.model_params [                  0%                  ]  221 of 64464 complete "
       ]
      },
      {
       "output_type": "stream",
       "stream": "stdout",
       "text": [
        "\r"
       ]
      },
      {
       "output_type": "stream",
       "stream": "stderr",
       "text": [
        "\r"
       ]
      }
     ]
    },
    {
     "cell_type": "code",
     "collapsed": false,
     "input": [
      "import matplotlib.colors as co\n",
      "cNorm  = co.Normalize(vmin=0, vmax=len(n_bvecs)+1)\n",
      "scalarMap = cm.ScalarMappable(norm=cNorm, cmap=matplotlib.cm.rainbow)\n",
      "colors = scalarMap.to_rgba(range(len(n_bvecs)+1))\n"
     ],
     "language": "python",
     "metadata": {},
     "outputs": []
    },
    {
     "cell_type": "code",
     "collapsed": false,
     "input": [
      "median_rrmse = []\n",
      "for b_idx in range(3):\n",
      "    median_rrmse.append([])\n",
      "    fig = mpl.probability_hist(rrmse_150[b_idx][np.isfinite(rrmse_150[b_idx])], label='nbvecs=150', color=colors[-1])\n",
      "    print(\"For b=%s, 150 dirs, the median PDD reliability is %2.2f\"%(bvals[b_idx], np.median(rrmse_150[b_idx][np.isfinite(rrmse_150[b_idx])])))\n",
      "    median_rrmse[-1] = [np.median(rrmse_150[b_idx][np.isfinite(rrmse_150[b_idx])])]\n",
      "    for i in range(len(n_bvecs))[::-1]: \n",
      "        fig = mpl.probability_hist(rrmse[b_idx][i][np.isfinite(rrmse[b_idx][i])], fig=fig, label='nbvecs=%s'%str(n_bvecs[i]), color=colors[i])\n",
      "        median_rrmse[-1].append(np.median(rrmse[b_idx][i][np.isfinite(rrmse[b_idx][i])]))\n",
      "        print(\"For b=%s, %s dirs, the median PDD reliability is %2.2f\"%(bvals[b_idx], n_bvecs[i], median_rrmse[-1][-1]))\n",
      "        ax = fig.axes[0]\n",
      "\n",
      "    ax.set_xlim([0.5,1.5])\n",
      "    ax.set_xlabel('Relative RMSE')\n",
      "    ax.set_ylabel('P(Relative RMSE)')\n",
      "    plt.legend()\n"
     ],
     "language": "python",
     "metadata": {},
     "outputs": []
    },
    {
     "cell_type": "markdown",
     "metadata": {},
     "source": [
      "The next couple of plots summarize all this data. I plotted the median of the above histograms as a function of number of b vectors, to show the trend of these metrics as a function of number of directions. You can see that the functions both decrease dramatically between 7 and 19, but don't quite reach their asymptote there. "
     ]
    },
    {
     "cell_type": "code",
     "collapsed": false,
     "input": [
      "fig, ax = plt.subplots(1)\n",
      "for b_idx in range(3):\n",
      "    ax.plot(np.hstack([150, n_bvecs[::-1]]), median_rrmse[b_idx], 'o-')\n",
      "    ax.set_title('Accuracy')\n",
      "    ax.set_ylabel('Median Relative RMSE ')\n",
      "    ax.set_xlabel('# b-vectors')\n"
     ],
     "language": "python",
     "metadata": {},
     "outputs": []
    },
    {
     "cell_type": "code",
     "collapsed": false,
     "input": [
      "len(median_rrmse)"
     ],
     "language": "python",
     "metadata": {},
     "outputs": []
    },
    {
     "cell_type": "code",
     "collapsed": false,
     "input": [
      "b_idx"
     ],
     "language": "python",
     "metadata": {},
     "outputs": []
    },
    {
     "cell_type": "code",
     "collapsed": false,
     "input": [],
     "language": "python",
     "metadata": {},
     "outputs": []
    }
   ],
   "metadata": {}
  }
 ]
}