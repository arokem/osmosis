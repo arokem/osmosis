{
 "metadata": {
  "name": "",
  "signature": "sha256:caa24c6931815ca325a4d320aa37173b2b0532117998dc47b47681e5fc5c783f"
 },
 "nbformat": 3,
 "nbformat_minor": 0,
 "worksheets": [
  {
   "cells": [
    {
     "cell_type": "markdown",
     "metadata": {},
     "source": [
      "## Evaluating the accuracy of diffusion MRI models in white matter\n",
      "\n",
      "By Ariel Rokem, Jason Yeatman, Franco Pestilli, Kendrick Kay, Aviv Mezer, Stefan van der Walt, and Brian Wandell. \n",
      "\n",
      "\n",
      "Each one of the notebooks generates the elements of one of the Figures in the paper: \n",
      "\n",
      "1. [Figure1](Figure1.ipynb)\n",
      "1. [Figure2](Figure2.ipynb)\n",
      "1. [Figure3](Figure3.ipynb)\n",
      "1. [Figure4](Figure4.ipynb)\n",
      "1. [Figure5](Figure5.ipynb)\n",
      "1. [Figure6](Figure6.ipynb)\n",
      "1. [Figure7](Figure7.ipynb)\n",
      "1. [Figure8](Figure8.ipynb)\n",
      "1. [Figure9](model_resampling.ipynb)\n"
     ]
    },
    {
     "cell_type": "code",
     "collapsed": false,
     "input": [],
     "language": "python",
     "metadata": {},
     "outputs": []
    }
   ],
   "metadata": {}
  }
 ]
}