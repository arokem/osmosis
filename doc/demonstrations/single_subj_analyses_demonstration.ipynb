{
 "metadata": {
  "name": ""
 },
 "nbformat": 3,
 "nbformat_minor": 0,
 "worksheets": [
  {
   "cells": [
    {
     "cell_type": "code",
     "collapsed": false,
     "input": [
      "import numpy as np\n",
      "import osmosis.model.sparse_deconvolution as sfm\n",
      "\n",
      "import nibabel as nib\n",
      "import os\n",
      "import itertools\n",
      "import osmosis.utils as ozu\n",
      "import osmosis.predict_n as pn\n",
      "#import osmosis.viz.maya as viz\n",
      "import osmosis.mean_diffusivity_models as mdm\n",
      "from matplotlib import pyplot as plt"
     ],
     "language": "python",
     "metadata": {},
     "outputs": [],
     "prompt_number": 14
    },
    {
     "cell_type": "heading",
     "level": 1,
     "metadata": {},
     "source": [
      "Table of Contents"
     ]
    },
    {
     "cell_type": "raw",
     "metadata": {},
     "source": [
      "[1] Loading data \n",
      "[2] Isotropic model calculations with k-fold cross validation\n",
      "[3] SFM model parameters\n",
      "[4] SFM accuracy with k-fold cross validation\n",
      "[5] Earth Mover's Distances (EMD) with k-fold cross validation\n",
      "[6] Visualizations"
     ]
    },
    {
     "cell_type": "heading",
     "level": 1,
     "metadata": {},
     "source": [
      "Abbreviations"
     ]
    },
    {
     "cell_type": "heading",
     "level": 2,
     "metadata": {},
     "source": [
      "Isotropic Models"
     ]
    },
    {
     "cell_type": "raw",
     "metadata": {},
     "source": [
      "bi_exp_rs - two decaying exponentials fit to the relative diffusion signal (bi-exponential)\n",
      "single_exp_rs - one decaying exponentials fit to the relative diffusion signal (single exponential)"
     ]
    },
    {
     "cell_type": "heading",
     "level": 2,
     "metadata": {},
     "source": [
      "Diffusion Models"
     ]
    },
    {
     "cell_type": "raw",
     "metadata": {},
     "source": [
      "sfm - sparse fascicle model\n",
      "    mfODF_se - multi fODF diffusion model with a single exponential isotropic model\n",
      "    mfODF_be - multi fODF diffusion model with a bi-exponential isotropic model\n",
      "    sfODF_se - single fODF diffusion model with a single exponential isotropic model\n",
      "    sfODF_be - single fODF diffusion model with a bi-exponential isotropic model\n",
      "dtm - diffusion tensor model"
     ]
    },
    {
     "cell_type": "heading",
     "level": 2,
     "metadata": {},
     "source": [
      "Miscellaneous"
     ]
    },
    {
     "cell_type": "raw",
     "metadata": {},
     "source": [
      "wm - white matter\n",
      "mp - model parameters\n",
      "cod - coefficient of determination\n",
      "ad - axial diffusivity\n",
      "rd - radial diffusivity"
     ]
    },
    {
     "cell_type": "heading",
     "level": 1,
     "metadata": {},
     "source": [
      "[1]  Loading data"
     ]
    },
    {
     "cell_type": "markdown",
     "metadata": {},
     "source": [
      "Load the data, bvals, bvecs, and white matter mask for one subject"
     ]
    },
    {
     "cell_type": "code",
     "collapsed": false,
     "input": [
      "subject_id = \"103414\"\n",
      "data_path = \"/biac4/wandell/data/klchan13/hcp_data_q3/%s/T1w/Diffusion/\"%subject_id\n",
      "\n",
      "data_file = nib.load(os.path.join(data_path, \"data.nii.gz\"))\n",
      "data = data_file.get_data()\n",
      "\n",
      "wm_data_file = nib.load(os.path.join(data_path,\"wm_mask_no_vent.nii.gz\"))\n",
      "wm_data = wm_data_file.get_data()\n",
      "\n",
      "# Optionally, focus on some ROI:\n",
      "vol = np.zeros(wm_data.shape)\n",
      "vol[40:42,40:42,40:42] = 1\n",
      "wm_data = vol\n",
      "\n",
      "bvals = np.loadtxt(os.path.join(data_path, \"bvals\"))\n",
      "bvecs = np.loadtxt(os.path.join(data_path, \"bvecs\"))"
     ],
     "language": "python",
     "metadata": {},
     "outputs": [],
     "prompt_number": 15
    },
    {
     "cell_type": "markdown",
     "metadata": {},
     "source": [
      "Load the axial and radial diffusivities and make a dict for fitting the sparse fascicle model"
     ]
    },
    {
     "cell_type": "code",
     "collapsed": false,
     "input": [
      "ad_rd = np.loadtxt(os.path.join(data_path, \"ad_rd_%s.txt\"%subject_id))\n",
      "ad = {1000:ad_rd[0,0], 2000:ad_rd[0,1], 3000:ad_rd[0,2]}\n",
      "rd = {1000:ad_rd[1,0], 2000:ad_rd[1,1], 3000:ad_rd[1,2]}"
     ],
     "language": "python",
     "metadata": {},
     "outputs": [],
     "prompt_number": 16
    },
    {
     "cell_type": "markdown",
     "metadata": {},
     "source": [
      "Separate the b-values and grab the indices."
     ]
    },
    {
     "cell_type": "code",
     "collapsed": false,
     "input": [
      "bval_list, b_inds, unique_b, bvals_scaled = ozu.separate_bvals(bvals) # Find the indices for each b-value including the b = 0 values.\n",
      "all_b_idx = np.where(bvals_scaled != 0) # Indices of the diffusion weighted values\n",
      "\n",
      "_, b_inds_rm0, _, _ = ozu.separate_bvals(bvals, mode = \"remove0\") # mode = \"remove0\" indicates that the indices are in respect\n",
      "                                                                  # to the diffusion weighted values"
     ],
     "language": "python",
     "metadata": {},
     "outputs": [],
     "prompt_number": 17
    },
    {
     "cell_type": "heading",
     "level": 1,
     "metadata": {},
     "source": [
      "[2] Isotropic model calculations with k-fold cross validation"
     ]
    },
    {
     "cell_type": "markdown",
     "metadata": {},
     "source": [
      "Find the parameters for each isotropic model and use k-fold cross validation to calculate the predicted signal and the coefficient of\n",
      "determination"
     ]
    },
    {
     "cell_type": "heading",
     "level": 2,
     "metadata": {},
     "source": [
      "Bi-exponential"
     ]
    },
    {
     "cell_type": "code",
     "collapsed": false,
     "input": [
      "isotropic_model = \"bi_exp_rs\"\n",
      "\n",
      "param_out, fit_out, _ = mdm.optimize_MD_params(data, bvals, bvecs, wm_data,\n",
      "                                               isotropic_model, signal = \"relative_signal\")\n",
      "\n",
      "cod, predict_out = mdm.kfold_xval_MD_mod(data, bvals, bvecs, wm_data,\n",
      "                                         isotropic_model, 10, signal=\"relative_signal\")"
     ],
     "language": "python",
     "metadata": {},
     "outputs": [
      {
       "output_type": "stream",
       "stream": "stderr",
       "text": [
        "/home/klchan13/usr/local/lib/python2.7/site-packages/osmosis/model/base.py:250: UserWarning: DWI data generated from array. Affine will be set to np.eye(4)\n",
        "  warnings.warn(w_s)\n",
        "/home/klchan13/usr/local/lib/python2.7/site-packages/osmosis/utils.py:785: DeprecationWarning: using a non-integer number instead of an integer will result in an error in the future\n",
        "  out = np.empty(shape)\n"
       ]
      },
      {
       "output_type": "stream",
       "stream": "stdout",
       "text": [
        "Fitting TensorModel params using dipy\n",
        "Fitting TensorModel params using dipy"
       ]
      },
      {
       "output_type": "stream",
       "stream": "stdout",
       "text": [
        "\n"
       ]
      }
     ],
     "prompt_number": 18
    },
    {
     "cell_type": "heading",
     "level": 2,
     "metadata": {},
     "source": [
      "Single exponential"
     ]
    },
    {
     "cell_type": "code",
     "collapsed": false,
     "input": [
      "isotropic_model = \"single_exp_rs\"\n",
      "\n",
      "param_out, fit_out, _ = mdm.optimize_MD_params(data, bvals, bvecs, wm_data,\n",
      "                                               isotropic_model, signal = \"relative_signal\")\n",
      "\n",
      "cod, predict_out = mdm.kfold_xval_MD_mod(data, bvals, bvecs, wm_data,\n",
      "                                         isotropic_model, 10, signal=\"relative_signal\")"
     ],
     "language": "python",
     "metadata": {},
     "outputs": [
      {
       "output_type": "stream",
       "stream": "stdout",
       "text": [
        "Fitting TensorModel params using dipy\n",
        "Fitting TensorModel params using dipy"
       ]
      },
      {
       "output_type": "stream",
       "stream": "stdout",
       "text": [
        "\n"
       ]
      },
      {
       "output_type": "stream",
       "stream": "stderr",
       "text": [
        "/home/klchan13/usr/local/lib/python2.7/site-packages/osmosis/utils.py:785: DeprecationWarning: using a non-integer number instead of an integer will result in an error in the future\n",
        "  out = np.empty(shape)\n"
       ]
      }
     ],
     "prompt_number": 19
    },
    {
     "cell_type": "heading",
     "level": 1,
     "metadata": {},
     "source": [
      "[3] SFM model parameters"
     ]
    },
    {
     "cell_type": "markdown",
     "metadata": {},
     "source": [
      "Find the model parameters for each SFM model"
     ]
    },
    {
     "cell_type": "heading",
     "level": 2,
     "metadata": {},
     "source": [
      "single fODF with a bi-exponential isotropic model"
     ]
    },
    {
     "cell_type": "code",
     "collapsed": false,
     "input": [
      "isotropic_model = \"bi_exp_rs\"\n",
      "\n",
      "# Initialize the model object.\n",
      "mod_mfODF_be = sfm.SparseDeconvolutionModelMultiB(data, bvecs, bvals,\n",
      "                                                 mask=wm_data,\n",
      "                                                 params_file=\"temp\",\n",
      "                                                 solver=\"nnls\",\n",
      "                                                 mean = \"mean_model\",\n",
      "                                                 mean_mod_func=isotropic_model,\n",
      "                                                 axial_diffusivity=ad,\n",
      "                                                 radial_diffusivity = rd)\n",
      "mp_mfODF_be = mod_mfODF_be.model_params[mod_mfODF_be.mask] # Grab the model parameters."
     ],
     "language": "python",
     "metadata": {},
     "outputs": [
      {
       "output_type": "stream",
       "stream": "stdout",
       "text": [
        " \r",
        "SparseDeconvolutionModelMultiB.model_params [*****************88%*************     ]  7 of 8 complete "
       ]
      },
      {
       "output_type": "stream",
       "stream": "stdout",
       "text": [
        "\n"
       ]
      }
     ],
     "prompt_number": 20
    },
    {
     "cell_type": "heading",
     "level": 2,
     "metadata": {},
     "source": [
      "single fODF with a single exponential isotropic model"
     ]
    },
    {
     "cell_type": "code",
     "collapsed": false,
     "input": [
      "isotropic_model = \"single_exp_rs\"\n",
      "\n",
      "# Initialize the model object.\n",
      "mod_mfODF_se = sfm.SparseDeconvolutionModelMultiB(data, bvecs, bvals,\n",
      "                                                 mask=wm_data,\n",
      "                                                 params_file=\"temp\",\n",
      "                                                 solver=\"nnls\",\n",
      "                                                 mean = \"mean_model\",\n",
      "                                                 mean_mod_func=isotropic_model,\n",
      "                                                 axial_diffusivity=ad,\n",
      "                                                 radial_diffusivity = rd)\n",
      "mp_mfODF_se = mod_mfODF_se.model_params[mod_mfODF_se.mask] # Grab the model parameters."
     ],
     "language": "python",
     "metadata": {},
     "outputs": [
      {
       "output_type": "stream",
       "stream": "stdout",
       "text": [
        " \r",
        "SparseDeconvolutionModelMultiB.model_params [*****************88%*************     ]  7 of 8 complete "
       ]
      },
      {
       "output_type": "stream",
       "stream": "stdout",
       "text": [
        "\n"
       ]
      }
     ],
     "prompt_number": 21
    },
    {
     "cell_type": "heading",
     "level": 2,
     "metadata": {},
     "source": [
      "multi fODF with a bi-exponential isotropic model"
     ]
    },
    {
     "cell_type": "code",
     "collapsed": false,
     "input": [
      "isotropic_model = \"bi_exp_rs\"\n",
      "\n",
      "# Initialize a full model with data from all b-values to get the\n",
      "# parameters for the isotropic models\n",
      "full_mod_mfODF_be = sfm.SparseDeconvolutionModelMultiB(data, bvecs, bvals, mask = wm_data,\n",
      "                                                       params_file=\"temp\", solver=\"nnls\",\n",
      "                                                       mean=\"mean_model\",\n",
      "                                                       mean_mod_func=isotropic_model,\n",
      "                                                       axial_diffusivity=ad,\n",
      "                                                       radial_diffusivity=rd)\n",
      "sig_out, new_params = full_mod_mfODF_be.fit_flat_rel_sig_avg\n",
      "\n",
      "mp_mfODF_be = np.zeros((np.sum(wm_data), len(all_b_idx[0])))\n",
      "for b_idx in np.arange(1, len(unique_b)):\n",
      "    b_inds_w0 = np.concatenate((b_inds[0], b_inds[b_idx]))\n",
      "    # Create a model object for the data from this b-value.\n",
      "    this_mod = sfm.SparseDeconvolutionModelMultiB(data[...,b_inds_w0],\n",
      "                                bvecs[:,b_inds_w0], bvals[b_inds_w0],\n",
      "                                mask=wm_data, params_file=\"temp\",\n",
      "                                solver=\"nnls\", mean = \"mean_model\",\n",
      "                                mean_mod_func = isotropic_model,\n",
      "                                axial_diffusivity=ad,\n",
      "                                radial_diffusivity=rd)\n",
      "    # Replace the model parameters within the model object.\n",
      "    this_mod.fit_flat_rel_sig_avg = [sig_out[:, b_inds_rm0[b_idx-1]], new_params]\n",
      "    mp_mfODF_be[:, b_inds_rm0[b_idx-1]] = this_mod.model_params[this_mod.mask]"
     ],
     "language": "python",
     "metadata": {},
     "outputs": [
      {
       "output_type": "stream",
       "stream": "stdout",
       "text": [
        " \r",
        "SparseDeconvolutionModelMultiB.model_params [*****************88%*************     ]  7 of 8 complete "
       ]
      },
      {
       "output_type": "stream",
       "stream": "stdout",
       "text": [
        "\n"
       ]
      }
     ],
     "prompt_number": 22
    },
    {
     "cell_type": "heading",
     "level": 2,
     "metadata": {},
     "source": [
      "multi fODF with a single exponential isotropic model"
     ]
    },
    {
     "cell_type": "code",
     "collapsed": false,
     "input": [
      "isotropic_model = \"single_exp_rs\"\n",
      "\n",
      "# Initialize a full model with data from all b-values to get the\n",
      "# parameters for the isotropic models\n",
      "full_mod_mfODF_se = sfm.SparseDeconvolutionModelMultiB(data, bvecs, bvals, mask = wm_data,\n",
      "                                                       params_file=\"temp\", solver=\"nnls\",\n",
      "                                                       mean=\"mean_model\",\n",
      "                                                       mean_mod_func=isotropic_model,\n",
      "                                                       axial_diffusivity=ad,\n",
      "                                                       radial_diffusivity=rd)\n",
      "sig_out, new_params = full_mod_mfODF_se.fit_flat_rel_sig_avg\n",
      "\n",
      "mp_mfODF_se = np.zeros((np.sum(wm_data), len(all_b_idx[0])))\n",
      "for b_idx in np.arange(1, len(unique_b)):\n",
      "    b_inds_w0 = np.concatenate((b_inds[0], b_inds[b_idx]))\n",
      "    # Create a model object for the data from this b-value.\n",
      "    this_mod = sfm.SparseDeconvolutionModelMultiB(data[...,b_inds_w0],\n",
      "                                bvecs[:,b_inds_w0], bvals[b_inds_w0],\n",
      "                                mask=wm_data, params_file=\"temp\",\n",
      "                                solver=\"nnls\", mean = \"mean_model\",\n",
      "                                mean_mod_func = isotropic_model,\n",
      "                                axial_diffusivity=ad,\n",
      "                                radial_diffusivity=rd)\n",
      "    # Replace the model parameters within the model object.\n",
      "    this_mod.fit_flat_rel_sig_avg = [sig_out[:, b_inds_rm0[b_idx-1]], new_params]\n",
      "    mp_mfODF_se[:, b_inds_rm0[b_idx-1]] = this_mod.model_params[this_mod.mask]"
     ],
     "language": "python",
     "metadata": {},
     "outputs": [
      {
       "output_type": "stream",
       "stream": "stdout",
       "text": [
        " \r",
        "SparseDeconvolutionModelMultiB.model_params [*****************88%*************     ]  7 of 8 complete "
       ]
      },
      {
       "output_type": "stream",
       "stream": "stdout",
       "text": [
        "\n"
       ]
      }
     ],
     "prompt_number": 23
    },
    {
     "cell_type": "heading",
     "level": 1,
     "metadata": {},
     "source": [
      "[4] SFM accuracy with k-fold cross validation"
     ]
    },
    {
     "cell_type": "markdown",
     "metadata": {},
     "source": [
      "Find the accuracy of various sparse fascicle models using k-fold cross-validation.  The default is 10-fold."
     ]
    },
    {
     "cell_type": "heading",
     "level": 2,
     "metadata": {},
     "source": [
      "single fODF with a bi-exponential isotropic model"
     ]
    },
    {
     "cell_type": "code",
     "collapsed": false,
     "input": [
      "#Find the predicted values at each b-vector using 10-fold cross validation\n",
      "actual, predicted_sfODF_be = pn.kfold_xval(data, bvals, bvecs, wm_data, ad, rd, 10,\n",
      "                                           \"single\", mean_mod_func = \"bi_exp_rs\",\n",
      "                                           mean = \"mean_model\", solver = \"nnls\")\n",
      "\n",
      "# Calculate the coefficient of determination\n",
      "cod_sfODF_be = ozu.coeff_of_determination(actual, predicted_sfODF_be)"
     ],
     "language": "python",
     "metadata": {},
     "outputs": [
      {
       "output_type": "stream",
       "stream": "stdout",
       "text": [
        " \r",
        "SparseDeconvolutionModelMultiB.model_params [*****************88%*************     ]  7 of 8 complete "
       ]
      },
      {
       "output_type": "stream",
       "stream": "stdout",
       "text": [
        " This program took 14.92 minutes to run\n"
       ]
      }
     ],
     "prompt_number": 24
    },
    {
     "cell_type": "heading",
     "level": 2,
     "metadata": {},
     "source": [
      "single fODF with a single exponential isotropic model"
     ]
    },
    {
     "cell_type": "code",
     "collapsed": false,
     "input": [
      "#Find the predicted values at each b-vector using 10-fold cross validation\n",
      "actual, predicted_sfODF_be = pn.kfold_xval(data, bvals, bvecs, wm_data, ad, rd, 10,\n",
      "                                           \"single\", mean_mod_func = \"single_exp_rs\",\n",
      "                                           mean = \"mean_model\", solver = \"nnls\")\n",
      "\n",
      "# Calculate the coefficient of determination\n",
      "cod_sfODF_be = ozu.coeff_of_determination(actual, predicted_sfODF_be)"
     ],
     "language": "python",
     "metadata": {},
     "outputs": [
      {
       "output_type": "stream",
       "stream": "stdout",
       "text": [
        " \r",
        "SparseDeconvolutionModelMultiB.model_params [*****************88%*************     ]  7 of 8 complete "
       ]
      },
      {
       "output_type": "stream",
       "stream": "stdout",
       "text": [
        " This program took 14.58 minutes to run\n"
       ]
      }
     ],
     "prompt_number": 25
    },
    {
     "cell_type": "heading",
     "level": 2,
     "metadata": {},
     "source": [
      "multi fODF with a bi-exponential isotropic model"
     ]
    },
    {
     "cell_type": "code",
     "collapsed": false,
     "input": [
      "#Find the predicted values at each b-vector using 10-fold cross validation\n",
      "actual, predicted_sfODF_be = pn.kfold_xval(data, bvals, bvecs, wm_data, ad, rd, 10,\n",
      "                                           \"multi\", mean_mod_func = \"bi_exp_rs\",\n",
      "                                           mean = \"mean_model\", solver = \"nnls\")\n",
      "\n",
      "# Calculate the coefficient of determination\n",
      "cod_sfODF_be = ozu.coeff_of_determination(actual, predicted_sfODF_be)"
     ],
     "language": "python",
     "metadata": {},
     "outputs": [
      {
       "output_type": "stream",
       "stream": "stdout",
       "text": [
        " \r",
        "SparseDeconvolutionModelMultiB.model_params [*****************88%*************     ]  7 of 8 complete "
       ]
      },
      {
       "output_type": "stream",
       "stream": "stdout",
       "text": [
        " This program took 42.87 minutes to run\n"
       ]
      }
     ],
     "prompt_number": 26
    },
    {
     "cell_type": "heading",
     "level": 2,
     "metadata": {},
     "source": [
      "multi fODF with a single exponential isotropic model"
     ]
    },
    {
     "cell_type": "code",
     "collapsed": false,
     "input": [
      "#Find the predicted values at each b-vector using 10-fold cross validation\n",
      "actual, predicted_sfODF_be = pn.kfold_xval(data, bvals, bvecs, wm_data, ad, rd, 10,\n",
      "                                           \"multi\", mean_mod_func = \"single_exp_rs\",\n",
      "                                           mean = \"mean_model\", solver = \"nnls\")\n",
      "\n",
      "# Calculate the coefficient of determination\n",
      "cod_sfODF_be = ozu.coeff_of_determination(actual, predicted_sfODF_be)"
     ],
     "language": "python",
     "metadata": {},
     "outputs": [
      {
       "output_type": "stream",
       "stream": "stdout",
       "text": [
        " \r",
        "SparseDeconvolutionModelMultiB.model_params [*****************88%*************     ]  7 of 8 complete "
       ]
      },
      {
       "output_type": "stream",
       "stream": "stdout",
       "text": [
        " This program took 45.73 minutes to run\n"
       ]
      }
     ],
     "prompt_number": 27
    },
    {
     "cell_type": "heading",
     "level": 1,
     "metadata": {},
     "source": [
      "[5] Earth Mover's Distances (EMD) with k-fold cross validation"
     ]
    },
    {
     "cell_type": "markdown",
     "metadata": {},
     "source": [
      "Find the reliability of various sparse fascicle models using k-fold cross-validation and calculating the Earth Mover's Distance which is the minimum amount of energy to turn one probability distribution into another.  The default is 10-fold."
     ]
    },
    {
     "cell_type": "heading",
     "level": 1,
     "metadata": {},
     "source": [
      "single fODF models"
     ]
    },
    {
     "cell_type": "code",
     "collapsed": false,
     "input": [
      "isotropic_model = \"bi_exp_rs\"\n",
      "\n",
      "emd_sfODF_be = pn.kfold_xval(data, bvals, bvecs, wm_data, ad, rd, 10, \"single\",\n",
      "                             mean = \"mean_model\", precision = \"emd\",\n",
      "                             solver = \"nnls\", mean_mod_func = isotropic_model)"
     ],
     "language": "python",
     "metadata": {},
     "outputs": [
      {
       "output_type": "stream",
       "stream": "stdout",
       "text": [
        " \r",
        "SparseDeconvolutionModelMultiB.model_params [*****************88%*************     ]  7 of 8 complete "
       ]
      },
      {
       "output_type": "stream",
       "stream": "stdout",
       "text": [
        " This program took 13.93 minutes to run\n"
       ]
      },
      {
       "output_type": "stream",
       "stream": "stderr",
       "text": [
        "/home/klchan13/usr/local/lib/python2.7/site-packages/osmosis/predict_n.py:1192: RuntimeWarning: invalid value encountered in arccos\n",
        "  angles = np.arccos(np.dot(np.squeeze(bvecs1).T, np.squeeze(bvecs2)))\n"
       ]
      }
     ],
     "prompt_number": 29
    },
    {
     "cell_type": "code",
     "collapsed": false,
     "input": [
      "isotropic_model = \"single_exp_rs\"\n",
      "\n",
      "emd_sfODF_se = pn.kfold_xval(data, bvals, bvecs, wm_data, ad, rd, 10, \"single\",\n",
      "                             mean = \"mean_model\", precision = \"emd\",\n",
      "                             solver = \"nnls\", mean_mod_func = isotropic_model)"
     ],
     "language": "python",
     "metadata": {},
     "outputs": [
      {
       "output_type": "stream",
       "stream": "stdout",
       "text": [
        " \r",
        "SparseDeconvolutionModelMultiB.model_params [*****************88%*************     ]  7 of 8 complete "
       ]
      },
      {
       "output_type": "stream",
       "stream": "stdout",
       "text": [
        " This program took 13.98 minutes to run\n"
       ]
      }
     ],
     "prompt_number": 30
    },
    {
     "cell_type": "heading",
     "level": 1,
     "metadata": {},
     "source": [
      "multi fODF models"
     ]
    },
    {
     "cell_type": "markdown",
     "metadata": {},
     "source": [
      "For the multi-fODF models, there are two options: EMD between each of the fODFs at each b-value and the EMD between the aggregate fODF from each of the b-values.  For the first option, the precision keyword argument should be \"emd\" and for the second option, the precision keyword argument should be \"emd_multi_combine\".  This demonstration uses the second option."
     ]
    },
    {
     "cell_type": "code",
     "collapsed": false,
     "input": [
      "isotropic_model = \"bi_exp_rs\"\n",
      "\n",
      "emd_mfODF_be = pn.kfold_xval(data, bvals, bvecs, wm_data, ad, rd, 10, \"multi\",\n",
      "                             mean = \"mean_model\", precision = \"emd_multi_combine\",\n",
      "                             solver = \"nnls\", mean_mod_func = isotropic_model)"
     ],
     "language": "python",
     "metadata": {},
     "outputs": [
      {
       "output_type": "stream",
       "stream": "stdout",
       "text": [
        " \r",
        "SparseDeconvolutionModelMultiB.model_params [*****************88%*************     ]  7 of 8 complete "
       ]
      },
      {
       "output_type": "stream",
       "stream": "stdout",
       "text": [
        " This program took 42.76 minutes to run\n"
       ]
      }
     ],
     "prompt_number": 32
    },
    {
     "cell_type": "code",
     "collapsed": false,
     "input": [
      "isotropic_model = \"single_exp_rs\"\n",
      "\n",
      "emd_mfODF_se = pn.kfold_xval(data, bvals, bvecs, wm_data, ad, rd, 10, \"multi\",\n",
      "                             mean = \"mean_model\", precision = \"emd_multi_combine\",\n",
      "                             solver = \"nnls\", mean_mod_func = isotropic_model)"
     ],
     "language": "python",
     "metadata": {},
     "outputs": [
      {
       "output_type": "stream",
       "stream": "stdout",
       "text": [
        " \r",
        "SparseDeconvolutionModelMultiB.model_params [*****************88%*************     ]  7 of 8 complete "
       ]
      },
      {
       "output_type": "stream",
       "stream": "stdout",
       "text": [
        " This program took 41.91 minutes to run\n"
       ]
      }
     ],
     "prompt_number": 33
    },
    {
     "cell_type": "heading",
     "level": 1,
     "metadata": {},
     "source": [
      "[6] Visualizations"
     ]
    },
    {
     "cell_type": "markdown",
     "metadata": {},
     "source": [
      "For making visualizations of the fODFs for each model in the corpus callosum, centrum semiovale, and individual fODFs at each voxel.  This demonstration is done only on one model for the different brain regions but the same procedure can be used on the other models.  The bfODFs are done for the sfODF_be and mfODF_se."
     ]
    },
    {
     "cell_type": "heading",
     "level": 2,
     "metadata": {},
     "source": [
      "fODFs in different regions of the brain"
     ]
    },
    {
     "cell_type": "markdown",
     "metadata": {},
     "source": [
      "Let's use the full white matter mask now for the visualizations."
     ]
    },
    {
     "cell_type": "code",
     "collapsed": false,
     "input": [
      "wm_data_file = nib.load(os.path.join(data_path,\"wm_mask_no_vent.nii.gz\"))\n",
      "wm_data = wm_data_file.get_data()"
     ],
     "language": "python",
     "metadata": {},
     "outputs": [],
     "prompt_number": 35
    },
    {
     "cell_type": "markdown",
     "metadata": {},
     "source": [
      "A mask if visualizing the fODFs in the centrum semiovale:"
     ]
    },
    {
     "cell_type": "code",
     "collapsed": false,
     "input": [
      "red_mask = np.zeros(wm_data.shape)\n",
      "red_mask[58:68,113:123,71] = wm_data[58:68,113:123,71]"
     ],
     "language": "python",
     "metadata": {},
     "outputs": []
    },
    {
     "cell_type": "markdown",
     "metadata": {},
     "source": [
      "A mask if visualizing the fODFs in the corpus callosum:"
     ]
    },
    {
     "cell_type": "code",
     "collapsed": false,
     "input": [
      "red_mask = np.zeros(wm_data.shape)\n",
      "red_mask[68:78,105:115,71] = wm_data[68:78,105:115,71]"
     ],
     "language": "python",
     "metadata": {},
     "outputs": []
    },
    {
     "cell_type": "markdown",
     "metadata": {},
     "source": [
      "Let's use the multi fODF model with a single exponential isotropic model."
     ]
    },
    {
     "cell_type": "code",
     "collapsed": false,
     "input": [
      "mp = np.copy(mp_mfODF_se)"
     ],
     "language": "python",
     "metadata": {},
     "outputs": []
    },
    {
     "cell_type": "markdown",
     "metadata": {},
     "source": [
      "Interpolate the signal.  This is taken from the osmosis fODF visualization module."
     ]
    },
    {
     "cell_type": "code",
     "collapsed": false,
     "input": [
      "def signal_interp(bvecs, signal, interp_kwargs=dict(function='thin_plate', smooth=0)):\n",
      "\n",
      "    \"\"\"\n",
      "\n",
      "    Interpolate a measured signal, using RBF interpolation.\n",
      "\n",
      "    Parameters\n",
      "    ----------\n",
      "    signal:\n",
      "\n",
      "    bvecs: array (3,n)\n",
      "        the x,y,z locations where the signal was measured \n",
      "\n",
      "    offset : float\n",
      "        where to place the plotted voxel (on the z axis)\n",
      "\n",
      "    points : bool\n",
      "       whether to show the sampling points on the interpolated\n",
      "       surface. Default: False.\n",
      "    \n",
      "    \"\"\"\n",
      "    from dipy.core.subdivide_octahedron import create_unit_sphere\n",
      "    import dipy.core.geometry as geo\n",
      "    from dipy.core.sphere import Sphere, interp_rbf\n",
      "    \n",
      "    import osmosis.tensor as ozt\n",
      "    import osmosis.utils as ozu\n",
      "    from dipy.data import get_sphere\n",
      "\n",
      "    bvecs_new = np.hstack([bvecs, -bvecs])\n",
      "    new_signal = np.hstack([signal, signal])\n",
      "\n",
      "    s0 = Sphere(xyz=bvecs_new.T)\n",
      "    s1 = create_unit_sphere(5)\n",
      "\n",
      "    signal[np.isnan(signal)] = 0\n",
      "    \n",
      "    interp_signal = interp_rbf(new_signal, s0, s1, **interp_kwargs)\n",
      "    vertices = s1.vertices\n",
      "    \n",
      "    return interp_signal, vertices"
     ],
     "language": "python",
     "metadata": {},
     "outputs": []
    },
    {
     "cell_type": "markdown",
     "metadata": {},
     "source": [
      "Use a peak finder to prune the fODFs."
     ]
    },
    {
     "cell_type": "code",
     "collapsed": false,
     "input": [
      "# Create a sphere object with the diffusion weighted b-vectors.\n",
      "sphere = s.Sphere(x=bvecs[:, all_b_idx][0].T,\n",
      "                  y=bvecs[:, all_b_idx][1].T,\n",
      "                  z=bvecs[:, all_b_idx][2].T)\n",
      "\n",
      "# Initiate two lists, one for the main directions and another one\n",
      "# for the main weights on those directions.\n",
      "mp_dirs_list = []\n",
      "mp_weights_list = []\n",
      "\n",
      "for mp_idx, mp in enumerate(mp_list):\n",
      "    mp_dirs = []\n",
      "    mp_weights = []\n",
      "    \n",
      "    for vox in np.arange(mp.shape[0]):\n",
      "        peak_dirs = peaks.peak_directions(mp[vox], sphere)\n",
      "        mp_dirs.append(peak_dirs[0])\n",
      "        mp_weights.append(peak_dirs[1])\n",
      "    \n",
      "    mp_dirs_list.append(mp_dirs)\n",
      "    mp_weights_list.append(mp_weights)"
     ],
     "language": "python",
     "metadata": {},
     "outputs": []
    },
    {
     "cell_type": "markdown",
     "metadata": {},
     "source": [
      "Create a new array of bvecs that are rounded at the third decimal."
     ]
    },
    {
     "cell_type": "code",
     "collapsed": false,
     "input": [
      "sphere = create_unit_sphere(5)\n",
      "rounded_bvecs = np.zeros(bvecs[:, all_b_idx[0]].shape)\n",
      "for bvec_idx in np.arange(len(all_b_idx[0])):\n",
      "    for xyz in np.arange(3):\n",
      "        rounded_bvecs[xyz, bvec_idx] = round(bvecs[:, all_b_idx[0]][xyz, bvec_idx], 3)"
     ],
     "language": "python",
     "metadata": {},
     "outputs": []
    },
    {
     "cell_type": "markdown",
     "metadata": {},
     "source": [
      "Create an fODF map of this region of the brain."
     ]
    },
    {
     "cell_type": "code",
     "collapsed": false,
     "input": [
      "mp_multi_se_map = np.zeros((1, 145, 174, 1026))\n",
      "interp_sig_arr = np.zeros((int(np.sum(red_mask)), 1026))\n",
      "\n",
      "this_dir = mp_dirs_list[0]\n",
      "these_weights = mp_weights_list[0]\n",
      "fin_mp_list = []\n",
      "for vox in np.arange(int(np.sum(red_mask))):\n",
      "    weights = these_weights[vox]\n",
      "    dirs = this_dir[vox]\n",
      "    if type(weights) != numpy.float64:\n",
      "        weight_arr = np.arange(len(weights))\n",
      "    else:\n",
      "        weight_arr = np.array([0])\n",
      "    \n",
      "    this_mp = np.zeros(len(all_b_idx[0]))\n",
      "    for mp_num in weight_arr:\n",
      "        if len(weight_arr) == 1:\n",
      "            mp_dir = np.squeeze(dirs)\n",
      "            this_weight = weights[0]\n",
      "        else:\n",
      "            mp_dir = np.squeeze(dirs[mp_num])\n",
      "            this_weight = weights[mp_num]\n",
      "        # Find which bvec corresponds to this particular model parameter\n",
      "        # direction of one of the weights.\n",
      "        idx = np.where((rounded_bvecs[0] == round(mp_dir[0], 3)) &\n",
      "                       (rounded_bvecs[1] == round(mp_dir[1], 3)) &\n",
      "                       (rounded_bvecs[2] == round(mp_dir[2], 3)))\n",
      "        this_mp[idx] = this_weight\n",
      "    \n",
      "    fin_mp_list.append(this_mp)\n",
      "\n",
      "    if all(~this_mp.astype(bool)):\n",
      "        this_mp = this_mp/float(np.sum(this_mp))\n",
      "    \n",
      "    # Interpolate the signal for visualization\n",
      "    interp_signal, _ = signal_interp(bvecs[:, all_b_idx[0]], this_mp,\n",
      "                                     interp_kwargs=dict(function='multiquadric', smooth=0.05))\n",
      "    interp_sig_arr[vox] = interp_signal/max(interp_signal)\n",
      "\n",
      "mp_multi_se_map[0][(np.where(red_cs_mask)[0], np.where(red_cs_mask)[1])] = interp_sig_arr    \n",
      "\n",
      "# Reshape the fODF map so the fODFs are shown in the correct direction\n",
      "mp_multi_se_map = np.reshape(np.squeeze(mp_multi_se_map), (145, 174, 1, 1026))"
     ],
     "language": "python",
     "metadata": {},
     "outputs": []
    },
    {
     "cell_type": "markdown",
     "metadata": {},
     "source": [
      "fODF map display if looking at the centrum semiovale"
     ]
    },
    {
     "cell_type": "code",
     "collapsed": false,
     "input": [
      "red_mp_mfODF1_map = mp_single_se_map[58:68,113:123]\n",
      "aff = data_file.get_affine()\n",
      "nib.Nifti1Image(red_mp_sfODF1_map, aff).to_filename(\"cs_mp_mfODF1_map.nii.gz\")"
     ],
     "language": "python",
     "metadata": {},
     "outputs": []
    },
    {
     "cell_type": "markdown",
     "metadata": {},
     "source": [
      "fODF map display if looking at the corpus callosum"
     ]
    },
    {
     "cell_type": "code",
     "collapsed": false,
     "input": [
      "red_mp_mfODF1_map = mp_single_se_map[68:78,105:115]\n",
      "aff = data_file.get_affine()\n",
      "nib.Nifti1Image(red_mp_sfODF1_map, aff).to_filename(\"cc_mp_mfODF1_map.nii.gz\")"
     ],
     "language": "python",
     "metadata": {},
     "outputs": []
    },
    {
     "cell_type": "markdown",
     "metadata": {},
     "source": [
      "Display the fODFs"
     ]
    },
    {
     "cell_type": "code",
     "collapsed": false,
     "input": [
      "ren = fvtk.ren()\n",
      "ren.SetBackground([1, 1, 1])\n",
      "\n",
      "fodf_spheres = fvtk.sphere_funcs(red_mp_sfODF2_map, sphere, scale=3, norm=False)\n",
      "fvtk.add(ren, fodf_spheres)\n",
      "fvtk.show(ren)"
     ],
     "language": "python",
     "metadata": {},
     "outputs": []
    },
    {
     "cell_type": "heading",
     "level": 2,
     "metadata": {},
     "source": [
      "bfODFs"
     ]
    },
    {
     "cell_type": "code",
     "collapsed": false,
     "input": [
      "# Reduce the model parameters to just one voxel\n",
      "idx = 40\n",
      "new_mp_list = [mp_single_be[idx], mp_multi_se[idx, b_inds_rm0[0]], mp_multi_se[idx, b_inds_rm0[1]], mp_multi_se[idx, b_inds_rm0[2]]]\n",
      "\n",
      "new_mp_dirs_list = []\n",
      "new_mp_weights_list = []\n",
      "\n",
      "for mp_idx, mp in enumerate(new_mp_list):\n",
      "    if mp_idx == 0:\n",
      "        # Sphere for the single fODF\n",
      "        sphere = s.Sphere(x=bvecs[:, all_b_idx][0].T,\n",
      "                          y=bvecs[:, all_b_idx][1].T,\n",
      "                          z=bvecs[:, all_b_idx][2].T)\n",
      "    else:\n",
      "        # Sphere for the multi fODF\n",
      "        sphere = s.Sphere(x=bvecs[:, b_inds[mp_idx]][0].T,\n",
      "                          y=bvecs[:, b_inds[mp_idx]][1].T,\n",
      "                          z=bvecs[:, b_inds[mp_idx]][2].T)\n",
      "        \n",
      "    # Prune the fODFs.\n",
      "    peak_dirs = peaks.peak_directions(mp, sphere)\n",
      "    new_mp_dirs_list.append(peak_dirs[0])\n",
      "    new_mp_weights_list.append(peak_dirs[1])"
     ],
     "language": "python",
     "metadata": {},
     "outputs": []
    },
    {
     "cell_type": "code",
     "collapsed": false,
     "input": [
      "b_fODF = np.zeros((1, 1, 4, 1026))\n",
      "fin_mp_list = []\n",
      "for mp in np.arange(len(new_mp_weights_list)):\n",
      "    if mp == 0:\n",
      "        # Bvecs for the single fODF\n",
      "        these_rounded_bvecs = rounded_bvecs\n",
      "        these_bvecs = bvecs[:, all_b_idx[0]]\n",
      "    else:\n",
      "        # Bvecs for the multi fODF\n",
      "        these_rounded_bvecs = rounded_bvecs[:, b_inds_rm0[mp-1]]\n",
      "        these_bvecs = bvecs[:, b_inds[mp_idx]]\n",
      "        \n",
      "    weights = new_mp_weights_list[mp]\n",
      "    dirs = new_mp_dirs_list[mp]\n",
      "    if type(weights) != numpy.float64:\n",
      "        weight_arr = np.arange(len(weights))\n",
      "    else:\n",
      "        weight_arr = np.array([0])\n",
      "    \n",
      "    this_mp = np.zeros(these_rounded_bvecs.shape[1])\n",
      "    for mp_num in weight_arr:\n",
      "        if len(weight_arr) == 1:\n",
      "            mp_dir = np.squeeze(dirs)\n",
      "            this_weight = weights[0]\n",
      "        else:\n",
      "            mp_dir = np.squeeze(dirs[mp_num])\n",
      "            this_weight = weights[mp_num]\n",
      "        # Find the location of these directions.\n",
      "        idx = np.where((these_rounded_bvecs[0] == round(mp_dir[0], 3)) &\n",
      "                       (these_rounded_bvecs[1] == round(mp_dir[1], 3)) &\n",
      "                       (these_rounded_bvecs[2] == round(mp_dir[2], 3)))\n",
      "        this_mp[idx] = this_weight\n",
      "    \n",
      "    fin_mp_list.append(this_mp)\n",
      "\n",
      "    if all(~this_mp.astype(bool)):\n",
      "        this_mp = this_mp/float(np.sum(this_mp))\n",
      "    # Interpolate the signal and divide by the maximum value so that the largest\n",
      "    # weight has a value of 1.\n",
      "    interp_signal, _ = signal_interp(these_bvecs, this_mp,\n",
      "                                     interp_kwargs=dict(function='multiquadric', smooth=0.05))\n",
      "    b_fODF[:,:, mp] = interp_signal/max(interp_signal)"
     ],
     "language": "python",
     "metadata": {},
     "outputs": []
    },
    {
     "cell_type": "code",
     "collapsed": false,
     "input": [
      "ren = fvtk.ren()\n",
      "ren.SetBackground([1, 1, 1])\n",
      "\n",
      "fodf_spheres = fvtk.sphere_funcs(b_fODF, sphere, scale=3, norm=False)\n",
      "fvtk.add(ren, fodf_spheres)\n",
      "fvtk.show(ren)"
     ],
     "language": "python",
     "metadata": {},
     "outputs": []
    }
   ],
   "metadata": {}
  }
 ]
}