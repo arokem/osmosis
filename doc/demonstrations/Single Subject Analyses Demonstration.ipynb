{
 "metadata": {
  "name": ""
 },
 "nbformat": 3,
 "nbformat_minor": 0,
 "worksheets": [
  {
   "cells": [
    {
     "cell_type": "code",
     "collapsed": false,
     "input": [
      "import numpy as np\n",
      "import osmosis.model.sparse_deconvolution as sfm\n",
      "\n",
      "import nibabel as nib\n",
      "import os\n",
      "import itertools\n",
      "import osmosis.utils as ozu\n",
      "import osmosis.predict_n2 as pn\n",
      "import osmosis.viz.mpl as viz\n",
      "import osmosis.mean_diffusivity_models as mdm\n",
      "from matplotlib import pyplot as plt"
     ],
     "language": "python",
     "metadata": {},
     "outputs": [],
     "prompt_number": 14
    },
    {
     "cell_type": "heading",
     "level": 1,
     "metadata": {},
     "source": [
      "Table of Contents"
     ]
    },
    {
     "cell_type": "raw",
     "metadata": {},
     "source": [
      "[1] Loading data \n",
      "[2] Isotropic model calculations with k-fold cross validation\n",
      "[3] SFM model parameters\n",
      "[4] SFM accuracy with k-fold cross validation\n",
      "[5] Earth Mover's Distances (EMD) with k-fold cross validation\n",
      "[6] Visualizations"
     ]
    },
    {
     "cell_type": "heading",
     "level": 1,
     "metadata": {},
     "source": [
      "Abbreviations"
     ]
    },
    {
     "cell_type": "heading",
     "level": 2,
     "metadata": {},
     "source": [
      "Isotropic Models"
     ]
    },
    {
     "cell_type": "raw",
     "metadata": {},
     "source": [
      "bi_exp_rs - two decaying exponentials fit to the relative diffusion signal (bi-exponential)\n",
      "single_exp_rs - one decaying exponentials fit to the relative diffusion signal (single exponential)"
     ]
    },
    {
     "cell_type": "heading",
     "level": 2,
     "metadata": {},
     "source": [
      "Diffusion Models"
     ]
    },
    {
     "cell_type": "raw",
     "metadata": {},
     "source": [
      "sfm - sparse fascicle model\n",
      "    mfODF_se - multi fODF diffusion model with a single exponential isotropic model\n",
      "    mfODF_be - multi fODF diffusion model with a bi-exponential isotropic model\n",
      "    sfODF_se - single fODF diffusion model with a single exponential isotropic model\n",
      "    sfODF_be - single fODF diffusion model with a bi-exponential isotropic model\n",
      "dtm - diffusion tensor model"
     ]
    },
    {
     "cell_type": "heading",
     "level": 2,
     "metadata": {},
     "source": [
      "Miscellaneous"
     ]
    },
    {
     "cell_type": "raw",
     "metadata": {},
     "source": [
      "wm - white matter\n",
      "mp - model parameters\n",
      "cod - coefficient of determination\n",
      "ad - axial diffusivity\n",
      "rd - radial diffusivity"
     ]
    },
    {
     "cell_type": "heading",
     "level": 1,
     "metadata": {},
     "source": [
      "[1]  Loading data"
     ]
    },
    {
     "cell_type": "markdown",
     "metadata": {},
     "source": [
      "Load the data, bvals, bvecs, and white matter mask for one subject"
     ]
    },
    {
     "cell_type": "code",
     "collapsed": false,
     "input": [
      "subject_id = \"103414\"\n",
      "data_path = \"/biac4/wandell/data/klchan13/hcp_data_q3/%s/T1w/Diffusion/\"%subject_id\n",
      "\n",
      "data_file = nib.load(os.path.join(data_path, \"data.nii.gz\"))\n",
      "data = data_file.get_data()\n",
      "\n",
      "wm_data_file = nib.load(os.path.join(data_path,\"wm_mask_no_vent.nii.gz\"))\n",
      "wm_data = wm_data_file.get_data()\n",
      "\n",
      "bvals = np.loadtxt(os.path.join(data_path, \"bvals\"))\n",
      "bvecs = np.loadtxt(os.path.join(data_path, \"bvecs\"))"
     ],
     "language": "python",
     "metadata": {},
     "outputs": [],
     "prompt_number": 11
    },
    {
     "cell_type": "markdown",
     "metadata": {},
     "source": [
      "Load the axial and radial diffusivities and make a dict for fitting the sparse fascicle model"
     ]
    },
    {
     "cell_type": "code",
     "collapsed": false,
     "input": [
      "ad_rd = np.loadtxt(os.path.join(data_path, \"ad_rd_%s.txt\"%subject_id))\n",
      "ad = {1000:ad_rd[0,0], 2000:ad_rd[0,1], 3000:ad_rd[0,2]}\n",
      "rd = {1000:ad_rd[1,0], 2000:ad_rd[1,1], 3000:ad_rd[1,2]}"
     ],
     "language": "python",
     "metadata": {},
     "outputs": [],
     "prompt_number": 12
    },
    {
     "cell_type": "markdown",
     "metadata": {},
     "source": [
      "Separate the b-values and grab the indices."
     ]
    },
    {
     "cell_type": "code",
     "collapsed": false,
     "input": [
      "bval_list, b_inds, unique_b, bvals_scaled = ozu.separate_bvals(bvals) # Find the indices for each b-value including the b = 0 values.\n",
      "all_b_idx = np.where(bvals_scaled != 0) # Indices of the diffusion weighted values\n",
      "\n",
      "_, b_inds_rm0, _, _ = ozu.separate_bvals(bvals, mode = \"remove0\") # mode = \"remove0\" indicates that the indices are in respect\n",
      "                                                                  # to the diffusion weighted values"
     ],
     "language": "python",
     "metadata": {},
     "outputs": [],
     "prompt_number": 13
    },
    {
     "cell_type": "heading",
     "level": 1,
     "metadata": {},
     "source": [
      "[2] Isotropic model calculations with k-fold cross validation"
     ]
    },
    {
     "cell_type": "markdown",
     "metadata": {},
     "source": [
      "Find the parameters for each isotropic model and use k-fold cross validation to calculate the predicted signal and the coefficient of\n",
      "determination"
     ]
    },
    {
     "cell_type": "heading",
     "level": 2,
     "metadata": {},
     "source": [
      "Bi-exponential"
     ]
    },
    {
     "cell_type": "code",
     "collapsed": false,
     "input": [
      "isotropic_model = \"bi_exp_rs\"\n",
      "\n",
      "param_out, fit_out, _ = mdm.optimize_MD_params(data, bvals, bvecs, wm_data,\n",
      "                                               isotropic_model, signal = \"relative_signal\")\n",
      "\n",
      "cod, predict_out = mdm.kfold_xval_MD_mod(data, bvals, bvecs, wm_data,\n",
      "                                         isotropic_model, 10, signal=\"relative_signal\")"
     ],
     "language": "python",
     "metadata": {},
     "outputs": []
    },
    {
     "cell_type": "heading",
     "level": 2,
     "metadata": {},
     "source": [
      "Single exponential"
     ]
    },
    {
     "cell_type": "code",
     "collapsed": false,
     "input": [
      "isotropic_model = \"single_exp_rs\"\n",
      "\n",
      "param_out, fit_out, _ = mdm.optimize_MD_params(data, bvals, bvecs, wm_data,\n",
      "                                               isotropic_model, signal = \"relative_signal\")\n",
      "\n",
      "cod, predict_out = mdm.kfold_xval_MD_mod(data, bvals, bvecs, wm_data,\n",
      "                                         isotropic_model, 10, signal=\"relative_signal\")"
     ],
     "language": "python",
     "metadata": {},
     "outputs": []
    },
    {
     "cell_type": "heading",
     "level": 1,
     "metadata": {},
     "source": [
      "[3] SFM model parameters"
     ]
    },
    {
     "cell_type": "markdown",
     "metadata": {},
     "source": [
      "Find the model parameters for each SFM model"
     ]
    },
    {
     "cell_type": "heading",
     "level": 2,
     "metadata": {},
     "source": [
      "single fODF with a bi-exponential isotropic model"
     ]
    },
    {
     "cell_type": "code",
     "collapsed": false,
     "input": [
      "isotropic_model = \"bi_exp_rs\"\n",
      "\n",
      "# Initialize the model object.\n",
      "mod_mfODF_be = sfm.SparseDeconvolutionModelMultiB(data, bvecs, bvals,\n",
      "                                                 mask=wm_data,\n",
      "                                                 params_file=\"temp\",\n",
      "                                                 solver=\"nnls\",\n",
      "                                                 mean = \"mean_model\",\n",
      "                                                 mean_mod_func=isotropic_model,\n",
      "                                                 axial_diffusivity=ad,\n",
      "                                                 radial_diffusivity = rd)\n",
      "mp_mfODF_be = mod_mfODF_be.model_params[mod.mask] # Grab the model parameters."
     ],
     "language": "python",
     "metadata": {},
     "outputs": []
    },
    {
     "cell_type": "heading",
     "level": 2,
     "metadata": {},
     "source": [
      "single fODF with a single exponential isotropic model"
     ]
    },
    {
     "cell_type": "code",
     "collapsed": false,
     "input": [
      "isotropic_model = \"single_exp_rs\"\n",
      "\n",
      "# Initialize the model object.\n",
      "mod_mfODF_se = sfm.SparseDeconvolutionModelMultiB(data, bvecs, bvals,\n",
      "                                                 mask=wm_data,\n",
      "                                                 params_file=\"temp\",\n",
      "                                                 solver=\"nnls\",\n",
      "                                                 mean = \"mean_model\",\n",
      "                                                 mean_mod_func=isotropic_model,\n",
      "                                                 axial_diffusivity=ad,\n",
      "                                                 radial_diffusivity = rd)\n",
      "mp_mfODF_se = mod.model_params[mod.mask] # Grab the model parameters."
     ],
     "language": "python",
     "metadata": {},
     "outputs": []
    },
    {
     "cell_type": "heading",
     "level": 2,
     "metadata": {},
     "source": [
      "multi fODF with a bi-exponential isotropic model"
     ]
    },
    {
     "cell_type": "code",
     "collapsed": false,
     "input": [
      "isotropic_model = \"bi_exp_rs\"\n",
      "\n",
      "# Initialize a full model with data from all b-values to get the\n",
      "# parameters for the isotropic models\n",
      "full_mod_mfODF_be = sfm.SparseDeconvolutionModelMultiB(data, bvecs, bvals, mask = mask,\n",
      "                                                       params_file=\"temp\", solver=\"nnls\",\n",
      "                                                       mean=\"mean_model\",\n",
      "                                                       mean_mod_func=isotropic_model,\n",
      "                                                       axial_diffusivity=ad,\n",
      "                                                       radial_diffusivity=rd)\n",
      "sig_out, new_params = full_mod_mfODF_be.fit_flat_rel_sig_avg\n",
      "\n",
      "mp_mfODF_be = np.zeros((np.sum(wm_data), len(all_b_idx[0])))\n",
      "for b_idx in np.arange(1, len(unique_b)):\n",
      "    b_inds_w0 = np.concatenate((b_inds[0], b_inds[b_idx]))\n",
      "    # Create a model object for the data from this b-value.\n",
      "    this_mod = sfm.SparseDeconvolutionModelMultiB(data[...,b_inds_w0],\n",
      "                                bvecs[:,b_inds_w0], bvals[b_inds_w0],\n",
      "                                mask=wm_data, params_file=\"temp\",\n",
      "                                solver=\"nnls\", mean = \"mean_model\",\n",
      "                                mean_mod_func = isotropic_model,\n",
      "                                axial_diffusivity=ad,\n",
      "                                radial_diffusivity=rd)\n",
      "    # Replace the model parameters within the model object.\n",
      "    this_mod.fit_flat_rel_sig_avg = [sig_out[:, b_inds_rm0[b_idx-1]], new_params]\n",
      "    mp_mfODF_be[:, b_inds_rm0[b_idx-1]] = this_mod.model_params[this_mod.mask]"
     ],
     "language": "python",
     "metadata": {},
     "outputs": []
    },
    {
     "cell_type": "heading",
     "level": 2,
     "metadata": {},
     "source": [
      "multi fODF with a single exponential isotropic model"
     ]
    },
    {
     "cell_type": "code",
     "collapsed": false,
     "input": [
      "isotropic_model = \"single_exp_rs\"\n",
      "\n",
      "# Initialize a full model with data from all b-values to get the\n",
      "# parameters for the isotropic models\n",
      "full_mod_mfODF_se = sfm.SparseDeconvolutionModelMultiB(data, bvecs, bvals, mask = mask,\n",
      "                                                       params_file=\"temp\", solver=\"nnls\",\n",
      "                                                       mean=\"mean_model\",\n",
      "                                                       mean_mod_func=isotropic_model,\n",
      "                                                       axial_diffusivity=ad,\n",
      "                                                       radial_diffusivity=rd)\n",
      "sig_out, new_params = full_mod_mfODF_se.fit_flat_rel_sig_avg\n",
      "\n",
      "mp_mfODF_se = np.zeros((np.sum(wm_data), len(all_b_idx[0])))\n",
      "for b_idx in np.arange(1, len(unique_b)):\n",
      "    b_inds_w0 = np.concatenate((b_inds[0], b_inds[b_idx]))\n",
      "    # Create a model object for the data from this b-value.\n",
      "    this_mod = sfm.SparseDeconvolutionModelMultiB(data[...,b_inds_w0],\n",
      "                                bvecs[:,b_inds_w0], bvals[b_inds_w0],\n",
      "                                mask=wm_data, params_file=\"temp\",\n",
      "                                solver=\"nnls\", mean = \"mean_model\",\n",
      "                                mean_mod_func = isotropic_model,\n",
      "                                axial_diffusivity=ad,\n",
      "                                radial_diffusivity=rd)\n",
      "    # Replace the model parameters within the model object.\n",
      "    this_mod.fit_flat_rel_sig_avg = [sig_out[:, b_inds_rm0[b_idx-1]], new_params]\n",
      "    mp_mfODF_se[:, b_inds_rm0[b_idx-1]] = this_mod.model_params[this_mod.mask]"
     ],
     "language": "python",
     "metadata": {},
     "outputs": []
    },
    {
     "cell_type": "heading",
     "level": 1,
     "metadata": {},
     "source": [
      "[4] SFM accuracy with k-fold cross validation"
     ]
    },
    {
     "cell_type": "markdown",
     "metadata": {},
     "source": [
      "Find the accuracy of various sparse fascicle models using k-fold cross-validation.  The default is 10-fold."
     ]
    },
    {
     "cell_type": "heading",
     "level": 2,
     "metadata": {},
     "source": [
      "single fODF with a bi-exponential isotropic model"
     ]
    },
    {
     "cell_type": "code",
     "collapsed": false,
     "input": [
      "#Find the predicted values at each b-vector using 10-fold cross validation\n",
      "actual, predicted_sfODF_be = pn.kfold_xval(data, bvals, bvecs, wm_data, ad, rd, 10,\n",
      "                                           \"single\", mean_mod_func = \"bi_exp_rs\",\n",
      "                                           mean = \"mean_model\", solver = \"nnls\")\n",
      "\n",
      "# Calculate the coefficient of determination\n",
      "cod_sfODF_be = ozu.coeff_of_determination(actual, predicted_sfODF_be)"
     ],
     "language": "python",
     "metadata": {},
     "outputs": []
    },
    {
     "cell_type": "heading",
     "level": 2,
     "metadata": {},
     "source": [
      "single fODF with a single exponential isotropic model"
     ]
    },
    {
     "cell_type": "code",
     "collapsed": false,
     "input": [
      "#Find the predicted values at each b-vector using 10-fold cross validation\n",
      "actual, predicted_sfODF_be = pn.kfold_xval(data, bvals, bvecs, wm_data, ad, rd, 10,\n",
      "                                           \"single\", mean_mod_func = \"single_exp_rs\",\n",
      "                                           mean = \"mean_model\", solver = \"nnls\")\n",
      "\n",
      "# Calculate the coefficient of determination\n",
      "cod_sfODF_be = ozu.coeff_of_determination(actual, predicted_sfODF_be)"
     ],
     "language": "python",
     "metadata": {},
     "outputs": []
    },
    {
     "cell_type": "heading",
     "level": 2,
     "metadata": {},
     "source": [
      "multi fODF with a bi-exponential isotropic model"
     ]
    },
    {
     "cell_type": "code",
     "collapsed": false,
     "input": [
      "#Find the predicted values at each b-vector using 10-fold cross validation\n",
      "actual, predicted_sfODF_be = pn.kfold_xval(data, bvals, bvecs, wm_data, ad, rd, 10,\n",
      "                                           \"multi\", mean_mod_func = \"bi_exp_rs\",\n",
      "                                           mean = \"mean_model\", solver = \"nnls\")\n",
      "\n",
      "# Calculate the coefficient of determination\n",
      "cod_sfODF_be = ozu.coeff_of_determination(actual, predicted_sfODF_be)"
     ],
     "language": "python",
     "metadata": {},
     "outputs": []
    },
    {
     "cell_type": "heading",
     "level": 2,
     "metadata": {},
     "source": [
      "multi fODF with a single exponential isotropic model"
     ]
    },
    {
     "cell_type": "code",
     "collapsed": false,
     "input": [
      "#Find the predicted values at each b-vector using 10-fold cross validation\n",
      "actual, predicted_sfODF_be = pn.kfold_xval(data, bvals, bvecs, wm_data, ad, rd, 10,\n",
      "                                           \"multi\", mean_mod_func = \"single_exp_rs\",\n",
      "                                           mean = \"mean_model\", solver = \"nnls\")\n",
      "\n",
      "# Calculate the coefficient of determination\n",
      "cod_sfODF_be = ozu.coeff_of_determination(actual, predicted_sfODF_be)"
     ],
     "language": "python",
     "metadata": {},
     "outputs": []
    }
   ],
   "metadata": {}
  }
 ]
}