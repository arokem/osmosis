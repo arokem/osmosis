{
 "metadata": {
  "name": ""
 },
 "nbformat": 3,
 "nbformat_minor": 0,
 "worksheets": [
  {
   "cells": [
    {
     "cell_type": "heading",
     "level": 1,
     "metadata": {},
     "source": [
      "[1] Extracting axial and radial diffusivities"
     ]
    },
    {
     "cell_type": "markdown",
     "metadata": {},
     "source": [
      "Extract the axial and radial diffusivities in the corpus callosum for all the brains"
     ]
    },
    {
     "cell_type": "code",
     "collapsed": false,
     "input": [
      "!python Source/osmosis/osmosis/scripts/hcp_cc_isolation.py"
     ],
     "language": "python",
     "metadata": {},
     "outputs": []
    },
    {
     "cell_type": "heading",
     "level": 1,
     "metadata": {},
     "source": [
      "[2]  Performing all the analyses on all the brains"
     ]
    },
    {
     "cell_type": "markdown",
     "metadata": {},
     "source": [
      "Perform all the analyses with parallel computation."
     ]
    },
    {
     "cell_type": "markdown",
     "metadata": {},
     "source": [
      "SSH to proclus and type in the following"
     ]
    },
    {
     "cell_type": "code",
     "collapsed": false,
     "input": [
      "!python Source/osmosis/osmosis/scripts/all_brain_analysis_wrapper.py"
     ],
     "language": "python",
     "metadata": {},
     "outputs": []
    },
    {
     "cell_type": "markdown",
     "metadata": {},
     "source": [
      "If you want to monitor the jobs to see how many are done and how many still need to be completed, type in the following:"
     ]
    },
    {
     "cell_type": "code",
     "collapsed": false,
     "input": [
      "!python Source/osmosis/osmosis/scripts/all_brain_job_monitoring.py"
     ],
     "language": "python",
     "metadata": {},
     "outputs": []
    },
    {
     "cell_type": "markdown",
     "metadata": {},
     "source": [
      "Once the jobs have finished, the wrapper automatically aggregates the file pieces into one, creates a text file with the missing files, move the file pieces into a directory titled \"file_pieces\", and move the aggregates to a directory titled \"analysis_results\""
     ]
    }
   ],
   "metadata": {}
  }
 ]
}